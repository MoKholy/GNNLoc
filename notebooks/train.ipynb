{
 "cells": [
  {
   "cell_type": "code",
   "execution_count": 6,
   "metadata": {},
   "outputs": [],
   "source": [
    "import torch\n",
    "import accelerate\n"
   ]
  },
  {
   "cell_type": "code",
   "execution_count": 7,
   "metadata": {},
   "outputs": [
    {
     "name": "stderr",
     "output_type": "stream",
     "text": [
      "Processing...\n",
      "100%|██████████| 4648/4648 [00:06<00:00, 771.73it/s]\n",
      "Done!\n"
     ]
    }
   ],
   "source": [
    "\n",
    "# import dataset class \n",
    "import sys\n",
    "sys.path.append(\"../scripts\")\n",
    "from train import load_dataset\n",
    "\n",
    "\n",
    "# load dataset finland\n",
    "\n",
    "train_loader, test_loader = load_dataset(name=\"finland\", k=10, batch_size=8, train_ratio=0.8, test_ratio=0.2)\n",
    "\n"
   ]
  },
  {
   "cell_type": "code",
   "execution_count": 9,
   "metadata": {},
   "outputs": [
    {
     "name": "stdout",
     "output_type": "stream",
     "text": [
      "2\n"
     ]
    },
    {
     "name": "stderr",
     "output_type": "stream",
     "text": [
      "  0%|          | 0/1000 [00:00<?, ?it/s]"
     ]
    },
    {
     "name": "stdout",
     "output_type": "stream",
     "text": [
      "Epoch 1/1000\n",
      "Train MSE: 140.1041, Train MAE: 7.4824\n"
     ]
    },
    {
     "name": "stderr",
     "output_type": "stream",
     "text": [
      "  0%|          | 1/1000 [00:02<49:29,  2.97s/it]"
     ]
    },
    {
     "name": "stdout",
     "output_type": "stream",
     "text": [
      "Test MSE: 123.5497, Test MAE: 7.0402, Test R2: -0.3643\n",
      "Epoch 2/1000\n",
      "Train MSE: 125.4559, Train MAE: 7.1144\n"
     ]
    },
    {
     "name": "stderr",
     "output_type": "stream",
     "text": [
      "  0%|          | 2/1000 [00:05<49:52,  3.00s/it]"
     ]
    },
    {
     "name": "stdout",
     "output_type": "stream",
     "text": [
      "Test MSE: 119.9730, Test MAE: 7.0136, Test R2: -0.8860\n",
      "Epoch 3/1000\n",
      "Train MSE: 118.9995, Train MAE: 6.9856\n"
     ]
    },
    {
     "name": "stderr",
     "output_type": "stream",
     "text": [
      "  0%|          | 3/1000 [00:08<49:37,  2.99s/it]"
     ]
    },
    {
     "name": "stdout",
     "output_type": "stream",
     "text": [
      "Test MSE: 115.7409, Test MAE: 6.8986, Test R2: -0.8228\n",
      "Epoch 4/1000\n",
      "Train MSE: 118.0200, Train MAE: 6.9450\n"
     ]
    },
    {
     "name": "stderr",
     "output_type": "stream",
     "text": [
      "  0%|          | 4/1000 [00:11<49:04,  2.96s/it]"
     ]
    },
    {
     "name": "stdout",
     "output_type": "stream",
     "text": [
      "Test MSE: 111.4799, Test MAE: 6.8617, Test R2: -3.0877\n",
      "Epoch 5/1000\n",
      "Train MSE: 117.2620, Train MAE: 6.9322\n"
     ]
    },
    {
     "name": "stderr",
     "output_type": "stream",
     "text": [
      "  0%|          | 5/1000 [00:14<48:27,  2.92s/it]"
     ]
    },
    {
     "name": "stdout",
     "output_type": "stream",
     "text": [
      "Test MSE: 109.5593, Test MAE: 6.7273, Test R2: -1.9255\n",
      "Epoch 6/1000\n",
      "Train MSE: 117.1279, Train MAE: 6.9084\n"
     ]
    },
    {
     "name": "stderr",
     "output_type": "stream",
     "text": [
      "  1%|          | 6/1000 [00:17<48:14,  2.91s/it]"
     ]
    },
    {
     "name": "stdout",
     "output_type": "stream",
     "text": [
      "Test MSE: 111.3704, Test MAE: 6.7523, Test R2: -2.4830\n",
      "Epoch 7/1000\n",
      "Train MSE: 112.8776, Train MAE: 6.8285\n"
     ]
    },
    {
     "name": "stderr",
     "output_type": "stream",
     "text": [
      "  1%|          | 7/1000 [00:20<47:43,  2.88s/it]"
     ]
    },
    {
     "name": "stdout",
     "output_type": "stream",
     "text": [
      "Test MSE: 110.4442, Test MAE: 6.7672, Test R2: -1.1461\n",
      "Epoch 8/1000\n",
      "Train MSE: 112.3447, Train MAE: 6.8040\n"
     ]
    },
    {
     "name": "stderr",
     "output_type": "stream",
     "text": [
      "  1%|          | 8/1000 [00:23<47:14,  2.86s/it]"
     ]
    },
    {
     "name": "stdout",
     "output_type": "stream",
     "text": [
      "Test MSE: 109.9863, Test MAE: 6.7441, Test R2: -1.6870\n",
      "Epoch 9/1000\n",
      "Train MSE: 110.0363, Train MAE: 6.7462\n"
     ]
    },
    {
     "name": "stderr",
     "output_type": "stream",
     "text": [
      "  1%|          | 9/1000 [00:26<46:58,  2.84s/it]"
     ]
    },
    {
     "name": "stdout",
     "output_type": "stream",
     "text": [
      "Test MSE: 111.1424, Test MAE: 6.7203, Test R2: -1.1821\n",
      "Epoch 10/1000\n",
      "Train MSE: 111.3416, Train MAE: 6.8213\n"
     ]
    },
    {
     "name": "stderr",
     "output_type": "stream",
     "text": [
      "  1%|          | 10/1000 [00:28<47:22,  2.87s/it]"
     ]
    },
    {
     "name": "stdout",
     "output_type": "stream",
     "text": [
      "Test MSE: 114.2745, Test MAE: 6.8402, Test R2: -0.2419\n",
      "Epoch 11/1000\n",
      "Train MSE: 109.9894, Train MAE: 6.7707\n"
     ]
    },
    {
     "name": "stderr",
     "output_type": "stream",
     "text": [
      "  1%|          | 11/1000 [00:31<47:15,  2.87s/it]"
     ]
    },
    {
     "name": "stdout",
     "output_type": "stream",
     "text": [
      "Test MSE: 109.7331, Test MAE: 6.7483, Test R2: -0.7937\n",
      "Epoch 12/1000\n",
      "Train MSE: 109.9397, Train MAE: 6.7564\n"
     ]
    },
    {
     "name": "stderr",
     "output_type": "stream",
     "text": [
      "  1%|          | 12/1000 [00:34<46:34,  2.83s/it]"
     ]
    },
    {
     "name": "stdout",
     "output_type": "stream",
     "text": [
      "Test MSE: 104.6005, Test MAE: 6.6196, Test R2: -0.9906\n",
      "Epoch 13/1000\n",
      "Train MSE: 110.4028, Train MAE: 6.7630\n"
     ]
    },
    {
     "name": "stderr",
     "output_type": "stream",
     "text": [
      "  1%|▏         | 13/1000 [00:37<46:04,  2.80s/it]"
     ]
    },
    {
     "name": "stdout",
     "output_type": "stream",
     "text": [
      "Test MSE: 102.6367, Test MAE: 6.5615, Test R2: -0.3488\n",
      "Epoch 14/1000\n",
      "Train MSE: 107.2817, Train MAE: 6.6901\n"
     ]
    },
    {
     "name": "stderr",
     "output_type": "stream",
     "text": [
      "  1%|▏         | 14/1000 [00:40<46:04,  2.80s/it]"
     ]
    },
    {
     "name": "stdout",
     "output_type": "stream",
     "text": [
      "Test MSE: 101.1493, Test MAE: 6.5565, Test R2: -0.0024\n",
      "Epoch 15/1000\n",
      "Train MSE: 108.7964, Train MAE: 6.7219\n"
     ]
    },
    {
     "name": "stderr",
     "output_type": "stream",
     "text": [
      "  2%|▏         | 15/1000 [00:42<46:04,  2.81s/it]"
     ]
    },
    {
     "name": "stdout",
     "output_type": "stream",
     "text": [
      "Test MSE: 106.2198, Test MAE: 6.6180, Test R2: -0.5491\n",
      "Epoch 16/1000\n",
      "Train MSE: 108.9903, Train MAE: 6.6930\n"
     ]
    },
    {
     "name": "stderr",
     "output_type": "stream",
     "text": [
      "  2%|▏         | 16/1000 [00:45<46:05,  2.81s/it]"
     ]
    },
    {
     "name": "stdout",
     "output_type": "stream",
     "text": [
      "Test MSE: 101.0052, Test MAE: 6.5406, Test R2: -1.0281\n",
      "Epoch 17/1000\n",
      "Train MSE: 107.3962, Train MAE: 6.6857\n"
     ]
    },
    {
     "name": "stderr",
     "output_type": "stream",
     "text": [
      "  2%|▏         | 17/1000 [00:48<46:05,  2.81s/it]"
     ]
    },
    {
     "name": "stdout",
     "output_type": "stream",
     "text": [
      "Test MSE: 104.5915, Test MAE: 6.6176, Test R2: -0.1463\n",
      "Epoch 18/1000\n",
      "Train MSE: 106.6697, Train MAE: 6.6741\n"
     ]
    },
    {
     "name": "stderr",
     "output_type": "stream",
     "text": [
      "  2%|▏         | 18/1000 [00:51<46:01,  2.81s/it]"
     ]
    },
    {
     "name": "stdout",
     "output_type": "stream",
     "text": [
      "Test MSE: 106.7640, Test MAE: 6.6054, Test R2: -0.3572\n",
      "Epoch 19/1000\n",
      "Train MSE: 105.3262, Train MAE: 6.6534\n"
     ]
    },
    {
     "name": "stderr",
     "output_type": "stream",
     "text": [
      "  2%|▏         | 19/1000 [00:54<46:01,  2.81s/it]"
     ]
    },
    {
     "name": "stdout",
     "output_type": "stream",
     "text": [
      "Test MSE: 109.8145, Test MAE: 6.6945, Test R2: -0.4690\n",
      "Epoch 20/1000\n",
      "Train MSE: 105.1325, Train MAE: 6.6357\n"
     ]
    },
    {
     "name": "stderr",
     "output_type": "stream",
     "text": [
      "  2%|▏         | 20/1000 [00:57<45:47,  2.80s/it]"
     ]
    },
    {
     "name": "stdout",
     "output_type": "stream",
     "text": [
      "Test MSE: 109.4413, Test MAE: 6.6808, Test R2: -0.1425\n",
      "Epoch 21/1000\n",
      "Train MSE: 103.9004, Train MAE: 6.5856\n"
     ]
    },
    {
     "name": "stderr",
     "output_type": "stream",
     "text": [
      "  2%|▏         | 21/1000 [00:59<45:47,  2.81s/it]"
     ]
    },
    {
     "name": "stdout",
     "output_type": "stream",
     "text": [
      "Test MSE: 105.6182, Test MAE: 6.5431, Test R2: -0.4887\n",
      "Epoch 22/1000\n",
      "Train MSE: 106.7253, Train MAE: 6.6354\n"
     ]
    },
    {
     "name": "stderr",
     "output_type": "stream",
     "text": [
      "  2%|▏         | 22/1000 [01:02<45:45,  2.81s/it]"
     ]
    },
    {
     "name": "stdout",
     "output_type": "stream",
     "text": [
      "Test MSE: 103.9980, Test MAE: 6.5462, Test R2: -0.0112\n",
      "Epoch 23/1000\n",
      "Train MSE: 104.6934, Train MAE: 6.5887\n"
     ]
    },
    {
     "name": "stderr",
     "output_type": "stream",
     "text": [
      "  2%|▏         | 23/1000 [01:05<45:41,  2.81s/it]"
     ]
    },
    {
     "name": "stdout",
     "output_type": "stream",
     "text": [
      "Test MSE: 102.3088, Test MAE: 6.5315, Test R2: -0.0158\n",
      "Epoch 24/1000\n",
      "Train MSE: 106.5801, Train MAE: 6.6591\n"
     ]
    },
    {
     "name": "stderr",
     "output_type": "stream",
     "text": [
      "  2%|▏         | 24/1000 [01:08<45:40,  2.81s/it]"
     ]
    },
    {
     "name": "stdout",
     "output_type": "stream",
     "text": [
      "Test MSE: 109.9727, Test MAE: 6.6487, Test R2: -0.4763\n",
      "Epoch 25/1000\n",
      "Train MSE: 106.4760, Train MAE: 6.5917\n"
     ]
    },
    {
     "name": "stderr",
     "output_type": "stream",
     "text": [
      "  2%|▎         | 25/1000 [01:11<45:26,  2.80s/it]"
     ]
    },
    {
     "name": "stdout",
     "output_type": "stream",
     "text": [
      "Test MSE: 106.3230, Test MAE: 6.6123, Test R2: -0.1109\n",
      "Epoch 26/1000\n",
      "Train MSE: 105.9828, Train MAE: 6.6255\n"
     ]
    },
    {
     "name": "stderr",
     "output_type": "stream",
     "text": [
      "  3%|▎         | 26/1000 [01:13<44:54,  2.77s/it]"
     ]
    },
    {
     "name": "stdout",
     "output_type": "stream",
     "text": [
      "Test MSE: 112.4781, Test MAE: 6.6834, Test R2: -0.6890\n",
      "Epoch 27/1000\n",
      "Train MSE: 105.0686, Train MAE: 6.5647\n"
     ]
    },
    {
     "name": "stderr",
     "output_type": "stream",
     "text": [
      "  3%|▎         | 27/1000 [01:16<44:52,  2.77s/it]"
     ]
    },
    {
     "name": "stdout",
     "output_type": "stream",
     "text": [
      "Test MSE: 100.6229, Test MAE: 6.4386, Test R2: -1.4318\n",
      "Epoch 28/1000\n",
      "Train MSE: 107.5302, Train MAE: 6.6239\n"
     ]
    },
    {
     "name": "stderr",
     "output_type": "stream",
     "text": [
      "  3%|▎         | 28/1000 [01:19<44:53,  2.77s/it]"
     ]
    },
    {
     "name": "stdout",
     "output_type": "stream",
     "text": [
      "Test MSE: 103.6303, Test MAE: 6.5207, Test R2: -0.1722\n",
      "Epoch 29/1000\n",
      "Train MSE: 103.6777, Train MAE: 6.5062\n"
     ]
    },
    {
     "name": "stderr",
     "output_type": "stream",
     "text": [
      "  3%|▎         | 29/1000 [01:22<45:00,  2.78s/it]"
     ]
    },
    {
     "name": "stdout",
     "output_type": "stream",
     "text": [
      "Test MSE: 102.2146, Test MAE: 6.4454, Test R2: -0.0247\n",
      "Epoch 30/1000\n",
      "Train MSE: 102.9898, Train MAE: 6.5254\n"
     ]
    },
    {
     "name": "stderr",
     "output_type": "stream",
     "text": [
      "  3%|▎         | 30/1000 [01:24<45:10,  2.79s/it]"
     ]
    },
    {
     "name": "stdout",
     "output_type": "stream",
     "text": [
      "Test MSE: 99.7571, Test MAE: 6.4574, Test R2: -0.1118\n",
      "Epoch 31/1000\n",
      "Train MSE: 103.5927, Train MAE: 6.5524\n"
     ]
    },
    {
     "name": "stderr",
     "output_type": "stream",
     "text": [
      "  3%|▎         | 31/1000 [01:27<45:16,  2.80s/it]"
     ]
    },
    {
     "name": "stdout",
     "output_type": "stream",
     "text": [
      "Test MSE: 106.7743, Test MAE: 6.5629, Test R2: -0.1247\n",
      "Epoch 32/1000\n",
      "Train MSE: 105.9386, Train MAE: 6.5929\n"
     ]
    },
    {
     "name": "stderr",
     "output_type": "stream",
     "text": [
      "  3%|▎         | 32/1000 [01:30<45:16,  2.81s/it]"
     ]
    },
    {
     "name": "stdout",
     "output_type": "stream",
     "text": [
      "Test MSE: 103.4134, Test MAE: 6.5020, Test R2: -1.2851\n",
      "Epoch 33/1000\n",
      "Train MSE: 102.7301, Train MAE: 6.5396\n"
     ]
    },
    {
     "name": "stderr",
     "output_type": "stream",
     "text": [
      "  3%|▎         | 33/1000 [01:33<45:14,  2.81s/it]"
     ]
    },
    {
     "name": "stdout",
     "output_type": "stream",
     "text": [
      "Test MSE: 101.0537, Test MAE: 6.4444, Test R2: -0.0264\n",
      "Epoch 34/1000\n",
      "Train MSE: 103.0627, Train MAE: 6.5423\n"
     ]
    },
    {
     "name": "stderr",
     "output_type": "stream",
     "text": [
      "  3%|▎         | 34/1000 [01:36<45:06,  2.80s/it]"
     ]
    },
    {
     "name": "stdout",
     "output_type": "stream",
     "text": [
      "Test MSE: 104.6187, Test MAE: 6.5553, Test R2: 0.0188\n",
      "Epoch 35/1000\n",
      "Train MSE: 102.1884, Train MAE: 6.5104\n"
     ]
    },
    {
     "name": "stderr",
     "output_type": "stream",
     "text": [
      "  4%|▎         | 35/1000 [01:38<45:09,  2.81s/it]"
     ]
    },
    {
     "name": "stdout",
     "output_type": "stream",
     "text": [
      "Test MSE: 104.4161, Test MAE: 6.5228, Test R2: 0.1019\n",
      "Epoch 36/1000\n",
      "Train MSE: 103.1582, Train MAE: 6.5355\n"
     ]
    },
    {
     "name": "stderr",
     "output_type": "stream",
     "text": [
      "  4%|▎         | 36/1000 [01:41<45:06,  2.81s/it]"
     ]
    },
    {
     "name": "stdout",
     "output_type": "stream",
     "text": [
      "Test MSE: 101.4064, Test MAE: 6.4240, Test R2: -0.4414\n",
      "Epoch 37/1000\n",
      "Train MSE: 104.7697, Train MAE: 6.5603\n"
     ]
    },
    {
     "name": "stderr",
     "output_type": "stream",
     "text": [
      "  4%|▎         | 37/1000 [01:44<45:05,  2.81s/it]"
     ]
    },
    {
     "name": "stdout",
     "output_type": "stream",
     "text": [
      "Test MSE: 101.6994, Test MAE: 6.4588, Test R2: -0.0815\n",
      "Epoch 38/1000\n",
      "Train MSE: 103.8852, Train MAE: 6.5364\n"
     ]
    },
    {
     "name": "stderr",
     "output_type": "stream",
     "text": [
      "  4%|▍         | 38/1000 [01:47<45:00,  2.81s/it]"
     ]
    },
    {
     "name": "stdout",
     "output_type": "stream",
     "text": [
      "Test MSE: 106.1412, Test MAE: 6.5348, Test R2: -0.0525\n",
      "Epoch 39/1000\n",
      "Train MSE: 103.2236, Train MAE: 6.5070\n"
     ]
    },
    {
     "name": "stderr",
     "output_type": "stream",
     "text": [
      "  4%|▍         | 39/1000 [01:50<44:53,  2.80s/it]"
     ]
    },
    {
     "name": "stdout",
     "output_type": "stream",
     "text": [
      "Test MSE: 101.7662, Test MAE: 6.4583, Test R2: -0.2951\n",
      "Epoch 40/1000\n",
      "Train MSE: 102.4829, Train MAE: 6.4972\n"
     ]
    },
    {
     "name": "stderr",
     "output_type": "stream",
     "text": [
      "  4%|▍         | 40/1000 [01:53<45:08,  2.82s/it]"
     ]
    },
    {
     "name": "stdout",
     "output_type": "stream",
     "text": [
      "Test MSE: 101.5679, Test MAE: 6.4294, Test R2: 0.0318\n",
      "Epoch 41/1000\n",
      "Train MSE: 103.1889, Train MAE: 6.5068\n"
     ]
    },
    {
     "name": "stderr",
     "output_type": "stream",
     "text": [
      "  4%|▍         | 41/1000 [01:56<45:50,  2.87s/it]"
     ]
    },
    {
     "name": "stdout",
     "output_type": "stream",
     "text": [
      "Test MSE: 106.1870, Test MAE: 6.5311, Test R2: 0.0955\n",
      "Epoch 42/1000\n",
      "Train MSE: 103.1397, Train MAE: 6.5097\n"
     ]
    },
    {
     "name": "stderr",
     "output_type": "stream",
     "text": [
      "  4%|▍         | 42/1000 [01:58<45:59,  2.88s/it]"
     ]
    },
    {
     "name": "stdout",
     "output_type": "stream",
     "text": [
      "Test MSE: 100.3768, Test MAE: 6.4146, Test R2: -0.1572\n",
      "Epoch 43/1000\n",
      "Train MSE: 101.6308, Train MAE: 6.4781\n"
     ]
    },
    {
     "name": "stderr",
     "output_type": "stream",
     "text": [
      "  4%|▍         | 43/1000 [02:01<45:54,  2.88s/it]"
     ]
    },
    {
     "name": "stdout",
     "output_type": "stream",
     "text": [
      "Test MSE: 101.9098, Test MAE: 6.4168, Test R2: -0.5118\n",
      "Epoch 44/1000\n",
      "Train MSE: 101.2125, Train MAE: 6.4839\n"
     ]
    },
    {
     "name": "stderr",
     "output_type": "stream",
     "text": [
      "  4%|▍         | 44/1000 [02:04<45:53,  2.88s/it]"
     ]
    },
    {
     "name": "stdout",
     "output_type": "stream",
     "text": [
      "Test MSE: 103.5809, Test MAE: 6.4971, Test R2: 0.1120\n",
      "Epoch 45/1000\n",
      "Train MSE: 101.1929, Train MAE: 6.4564\n"
     ]
    },
    {
     "name": "stderr",
     "output_type": "stream",
     "text": [
      "  4%|▍         | 45/1000 [02:07<45:27,  2.86s/it]"
     ]
    },
    {
     "name": "stdout",
     "output_type": "stream",
     "text": [
      "Test MSE: 105.0799, Test MAE: 6.4844, Test R2: 0.0578\n",
      "Epoch 46/1000\n",
      "Train MSE: 100.5455, Train MAE: 6.4679\n"
     ]
    },
    {
     "name": "stderr",
     "output_type": "stream",
     "text": [
      "  5%|▍         | 46/1000 [02:10<45:36,  2.87s/it]"
     ]
    },
    {
     "name": "stdout",
     "output_type": "stream",
     "text": [
      "Test MSE: 102.7468, Test MAE: 6.4264, Test R2: -0.2245\n",
      "Epoch 47/1000\n",
      "Train MSE: 100.8490, Train MAE: 6.4332\n"
     ]
    },
    {
     "name": "stderr",
     "output_type": "stream",
     "text": [
      "  5%|▍         | 47/1000 [02:13<45:05,  2.84s/it]"
     ]
    },
    {
     "name": "stdout",
     "output_type": "stream",
     "text": [
      "Test MSE: 98.4170, Test MAE: 6.4013, Test R2: 0.0326\n",
      "Epoch 48/1000\n",
      "Train MSE: 100.3642, Train MAE: 6.4338\n"
     ]
    },
    {
     "name": "stderr",
     "output_type": "stream",
     "text": [
      "  5%|▍         | 48/1000 [02:15<44:26,  2.80s/it]"
     ]
    },
    {
     "name": "stdout",
     "output_type": "stream",
     "text": [
      "Test MSE: 98.2046, Test MAE: 6.3753, Test R2: -0.0536\n",
      "Epoch 49/1000\n",
      "Train MSE: 100.9896, Train MAE: 6.4539\n"
     ]
    },
    {
     "name": "stderr",
     "output_type": "stream",
     "text": [
      "  5%|▍         | 49/1000 [02:18<43:50,  2.77s/it]"
     ]
    },
    {
     "name": "stdout",
     "output_type": "stream",
     "text": [
      "Test MSE: 104.5684, Test MAE: 6.4521, Test R2: 0.0345\n",
      "Epoch 50/1000\n",
      "Train MSE: 100.4412, Train MAE: 6.4078\n"
     ]
    },
    {
     "name": "stderr",
     "output_type": "stream",
     "text": [
      "  5%|▌         | 50/1000 [02:21<43:46,  2.77s/it]"
     ]
    },
    {
     "name": "stdout",
     "output_type": "stream",
     "text": [
      "Test MSE: 102.0647, Test MAE: 6.4084, Test R2: -0.0971\n",
      "Epoch 51/1000\n",
      "Train MSE: 100.8065, Train MAE: 6.4440\n"
     ]
    },
    {
     "name": "stderr",
     "output_type": "stream",
     "text": [
      "  5%|▌         | 51/1000 [02:23<43:25,  2.75s/it]"
     ]
    },
    {
     "name": "stdout",
     "output_type": "stream",
     "text": [
      "Test MSE: 107.3280, Test MAE: 6.5175, Test R2: -0.1194\n",
      "Epoch 52/1000\n",
      "Train MSE: 100.7544, Train MAE: 6.4463\n"
     ]
    },
    {
     "name": "stderr",
     "output_type": "stream",
     "text": [
      "  5%|▌         | 52/1000 [02:26<43:05,  2.73s/it]"
     ]
    },
    {
     "name": "stdout",
     "output_type": "stream",
     "text": [
      "Test MSE: 100.0051, Test MAE: 6.4007, Test R2: -0.1403\n",
      "Epoch 53/1000\n",
      "Train MSE: 99.9328, Train MAE: 6.4174\n"
     ]
    },
    {
     "name": "stderr",
     "output_type": "stream",
     "text": [
      "  5%|▌         | 53/1000 [02:29<42:58,  2.72s/it]"
     ]
    },
    {
     "name": "stdout",
     "output_type": "stream",
     "text": [
      "Test MSE: 106.7223, Test MAE: 6.5346, Test R2: -0.2520\n",
      "Epoch 54/1000\n",
      "Train MSE: 100.9945, Train MAE: 6.4172\n"
     ]
    },
    {
     "name": "stderr",
     "output_type": "stream",
     "text": [
      "  5%|▌         | 54/1000 [02:32<42:48,  2.71s/it]"
     ]
    },
    {
     "name": "stdout",
     "output_type": "stream",
     "text": [
      "Test MSE: 109.7178, Test MAE: 6.5547, Test R2: 0.1205\n",
      "Epoch 55/1000\n",
      "Train MSE: 100.1451, Train MAE: 6.4117\n"
     ]
    },
    {
     "name": "stderr",
     "output_type": "stream",
     "text": [
      "  6%|▌         | 55/1000 [02:34<42:39,  2.71s/it]"
     ]
    },
    {
     "name": "stdout",
     "output_type": "stream",
     "text": [
      "Test MSE: 104.4669, Test MAE: 6.4592, Test R2: 0.1237\n",
      "Epoch 56/1000\n",
      "Train MSE: 100.3428, Train MAE: 6.4365\n"
     ]
    },
    {
     "name": "stderr",
     "output_type": "stream",
     "text": [
      "  6%|▌         | 56/1000 [02:37<42:29,  2.70s/it]"
     ]
    },
    {
     "name": "stdout",
     "output_type": "stream",
     "text": [
      "Test MSE: 103.9559, Test MAE: 6.4528, Test R2: 0.1552\n",
      "Epoch 57/1000\n",
      "Train MSE: 99.6385, Train MAE: 6.3941\n"
     ]
    },
    {
     "name": "stderr",
     "output_type": "stream",
     "text": [
      "  6%|▌         | 57/1000 [02:40<42:17,  2.69s/it]"
     ]
    },
    {
     "name": "stdout",
     "output_type": "stream",
     "text": [
      "Test MSE: 104.6190, Test MAE: 6.4428, Test R2: 0.1450\n",
      "Epoch 58/1000\n",
      "Train MSE: 100.2920, Train MAE: 6.3964\n"
     ]
    },
    {
     "name": "stderr",
     "output_type": "stream",
     "text": [
      "  6%|▌         | 58/1000 [02:42<42:11,  2.69s/it]"
     ]
    },
    {
     "name": "stdout",
     "output_type": "stream",
     "text": [
      "Test MSE: 107.4167, Test MAE: 6.4988, Test R2: -0.2164\n",
      "Epoch 59/1000\n",
      "Train MSE: 99.7353, Train MAE: 6.3945\n"
     ]
    },
    {
     "name": "stderr",
     "output_type": "stream",
     "text": [
      "  6%|▌         | 59/1000 [02:45<42:12,  2.69s/it]"
     ]
    },
    {
     "name": "stdout",
     "output_type": "stream",
     "text": [
      "Test MSE: 93.1751, Test MAE: 6.2610, Test R2: 0.1126\n",
      "Epoch 60/1000\n",
      "Train MSE: 100.4973, Train MAE: 6.4147\n"
     ]
    },
    {
     "name": "stderr",
     "output_type": "stream",
     "text": [
      "  6%|▌         | 60/1000 [02:48<42:07,  2.69s/it]"
     ]
    },
    {
     "name": "stdout",
     "output_type": "stream",
     "text": [
      "Test MSE: 104.3401, Test MAE: 6.4614, Test R2: 0.0753\n",
      "Epoch 61/1000\n",
      "Train MSE: 102.4673, Train MAE: 6.4248\n"
     ]
    },
    {
     "name": "stderr",
     "output_type": "stream",
     "text": [
      "  6%|▌         | 61/1000 [02:50<42:01,  2.69s/it]"
     ]
    },
    {
     "name": "stdout",
     "output_type": "stream",
     "text": [
      "Test MSE: 101.8232, Test MAE: 6.4179, Test R2: -0.2290\n",
      "Epoch 62/1000\n",
      "Train MSE: 98.2269, Train MAE: 6.3908\n"
     ]
    },
    {
     "name": "stderr",
     "output_type": "stream",
     "text": [
      "  6%|▌         | 62/1000 [02:53<42:00,  2.69s/it]"
     ]
    },
    {
     "name": "stdout",
     "output_type": "stream",
     "text": [
      "Test MSE: 101.0530, Test MAE: 6.3125, Test R2: 0.0835\n",
      "Epoch 63/1000\n",
      "Train MSE: 99.5530, Train MAE: 6.3947\n"
     ]
    },
    {
     "name": "stderr",
     "output_type": "stream",
     "text": [
      "  6%|▋         | 63/1000 [02:56<42:10,  2.70s/it]"
     ]
    },
    {
     "name": "stdout",
     "output_type": "stream",
     "text": [
      "Test MSE: 96.4469, Test MAE: 6.2976, Test R2: 0.0979\n",
      "Epoch 64/1000\n",
      "Train MSE: 98.4883, Train MAE: 6.3810\n"
     ]
    },
    {
     "name": "stderr",
     "output_type": "stream",
     "text": [
      "  6%|▋         | 64/1000 [02:58<42:04,  2.70s/it]"
     ]
    },
    {
     "name": "stdout",
     "output_type": "stream",
     "text": [
      "Test MSE: 100.1027, Test MAE: 6.3979, Test R2: -0.2181\n",
      "Epoch 65/1000\n",
      "Train MSE: 97.2270, Train MAE: 6.3210\n"
     ]
    },
    {
     "name": "stderr",
     "output_type": "stream",
     "text": [
      "  6%|▋         | 65/1000 [03:01<41:55,  2.69s/it]"
     ]
    },
    {
     "name": "stdout",
     "output_type": "stream",
     "text": [
      "Test MSE: 96.9864, Test MAE: 6.2874, Test R2: 0.0642\n",
      "Epoch 66/1000\n",
      "Train MSE: 98.0559, Train MAE: 6.3543\n"
     ]
    },
    {
     "name": "stderr",
     "output_type": "stream",
     "text": [
      "  7%|▋         | 66/1000 [03:04<41:46,  2.68s/it]"
     ]
    },
    {
     "name": "stdout",
     "output_type": "stream",
     "text": [
      "Test MSE: 94.8669, Test MAE: 6.2928, Test R2: 0.1618\n",
      "Epoch 67/1000\n",
      "Train MSE: 100.7354, Train MAE: 6.3815\n"
     ]
    },
    {
     "name": "stderr",
     "output_type": "stream",
     "text": [
      "  7%|▋         | 67/1000 [03:07<41:51,  2.69s/it]"
     ]
    },
    {
     "name": "stdout",
     "output_type": "stream",
     "text": [
      "Test MSE: 97.1470, Test MAE: 6.2649, Test R2: 0.1392\n",
      "Epoch 68/1000\n",
      "Train MSE: 98.7782, Train MAE: 6.3299\n"
     ]
    },
    {
     "name": "stderr",
     "output_type": "stream",
     "text": [
      "  7%|▋         | 68/1000 [03:09<42:20,  2.73s/it]"
     ]
    },
    {
     "name": "stdout",
     "output_type": "stream",
     "text": [
      "Test MSE: 95.3003, Test MAE: 6.2386, Test R2: 0.1706\n",
      "Epoch 69/1000\n",
      "Train MSE: 98.6465, Train MAE: 6.3258\n"
     ]
    },
    {
     "name": "stderr",
     "output_type": "stream",
     "text": [
      "  7%|▋         | 69/1000 [03:12<42:37,  2.75s/it]"
     ]
    },
    {
     "name": "stdout",
     "output_type": "stream",
     "text": [
      "Test MSE: 95.6782, Test MAE: 6.2514, Test R2: 0.1622\n",
      "Epoch 70/1000\n",
      "Train MSE: 97.6080, Train MAE: 6.2963\n"
     ]
    },
    {
     "name": "stderr",
     "output_type": "stream",
     "text": [
      "  7%|▋         | 70/1000 [03:15<42:50,  2.76s/it]"
     ]
    },
    {
     "name": "stdout",
     "output_type": "stream",
     "text": [
      "Test MSE: 94.0390, Test MAE: 6.1998, Test R2: 0.0575\n",
      "Epoch 71/1000\n",
      "Train MSE: 98.2712, Train MAE: 6.3579\n"
     ]
    },
    {
     "name": "stderr",
     "output_type": "stream",
     "text": [
      "  7%|▋         | 71/1000 [03:18<43:36,  2.82s/it]"
     ]
    },
    {
     "name": "stdout",
     "output_type": "stream",
     "text": [
      "Test MSE: 106.6227, Test MAE: 6.5081, Test R2: 0.0589\n",
      "Epoch 72/1000\n",
      "Train MSE: 98.4142, Train MAE: 6.3714\n"
     ]
    },
    {
     "name": "stderr",
     "output_type": "stream",
     "text": [
      "  7%|▋         | 72/1000 [03:21<43:22,  2.80s/it]"
     ]
    },
    {
     "name": "stdout",
     "output_type": "stream",
     "text": [
      "Test MSE: 101.1124, Test MAE: 6.3360, Test R2: 0.1224\n",
      "Epoch 73/1000\n",
      "Train MSE: 96.3991, Train MAE: 6.2954\n"
     ]
    },
    {
     "name": "stderr",
     "output_type": "stream",
     "text": [
      "  7%|▋         | 73/1000 [03:23<43:18,  2.80s/it]"
     ]
    },
    {
     "name": "stdout",
     "output_type": "stream",
     "text": [
      "Test MSE: 103.1553, Test MAE: 6.3885, Test R2: 0.0309\n",
      "Epoch 74/1000\n",
      "Train MSE: 97.7332, Train MAE: 6.3127\n"
     ]
    },
    {
     "name": "stderr",
     "output_type": "stream",
     "text": [
      "  7%|▋         | 74/1000 [03:26<43:15,  2.80s/it]"
     ]
    },
    {
     "name": "stdout",
     "output_type": "stream",
     "text": [
      "Test MSE: 93.2239, Test MAE: 6.2142, Test R2: 0.1393\n",
      "Epoch 75/1000\n",
      "Train MSE: 99.1291, Train MAE: 6.3420\n"
     ]
    },
    {
     "name": "stderr",
     "output_type": "stream",
     "text": [
      "  8%|▊         | 75/1000 [03:29<43:08,  2.80s/it]"
     ]
    },
    {
     "name": "stdout",
     "output_type": "stream",
     "text": [
      "Test MSE: 100.0742, Test MAE: 6.3216, Test R2: -0.0346\n",
      "Epoch 76/1000\n",
      "Train MSE: 97.2360, Train MAE: 6.3019\n"
     ]
    },
    {
     "name": "stderr",
     "output_type": "stream",
     "text": [
      "  8%|▊         | 76/1000 [03:32<43:07,  2.80s/it]"
     ]
    },
    {
     "name": "stdout",
     "output_type": "stream",
     "text": [
      "Test MSE: 101.5430, Test MAE: 6.4010, Test R2: 0.0534\n",
      "Epoch 77/1000\n",
      "Train MSE: 96.1945, Train MAE: 6.2955\n"
     ]
    },
    {
     "name": "stderr",
     "output_type": "stream",
     "text": [
      "  8%|▊         | 77/1000 [03:35<43:15,  2.81s/it]"
     ]
    },
    {
     "name": "stdout",
     "output_type": "stream",
     "text": [
      "Test MSE: 100.1742, Test MAE: 6.3066, Test R2: 0.0955\n",
      "Epoch 78/1000\n",
      "Train MSE: 97.0711, Train MAE: 6.2821\n"
     ]
    },
    {
     "name": "stderr",
     "output_type": "stream",
     "text": [
      "  8%|▊         | 78/1000 [03:38<43:40,  2.84s/it]"
     ]
    },
    {
     "name": "stdout",
     "output_type": "stream",
     "text": [
      "Test MSE: 96.4381, Test MAE: 6.2615, Test R2: 0.1019\n",
      "Epoch 79/1000\n",
      "Train MSE: 96.8568, Train MAE: 6.2855\n"
     ]
    },
    {
     "name": "stderr",
     "output_type": "stream",
     "text": [
      "  8%|▊         | 79/1000 [03:41<48:21,  3.15s/it]"
     ]
    },
    {
     "name": "stdout",
     "output_type": "stream",
     "text": [
      "Test MSE: 94.6965, Test MAE: 6.2455, Test R2: 0.1465\n",
      "Epoch 80/1000\n",
      "Train MSE: 98.3753, Train MAE: 6.3293\n"
     ]
    },
    {
     "name": "stderr",
     "output_type": "stream",
     "text": [
      "  8%|▊         | 80/1000 [03:45<48:37,  3.17s/it]"
     ]
    },
    {
     "name": "stdout",
     "output_type": "stream",
     "text": [
      "Test MSE: 93.1377, Test MAE: 6.2445, Test R2: 0.0141\n",
      "Epoch 81/1000\n",
      "Train MSE: 95.3901, Train MAE: 6.2618\n"
     ]
    },
    {
     "name": "stderr",
     "output_type": "stream",
     "text": [
      "  8%|▊         | 81/1000 [03:48<47:13,  3.08s/it]"
     ]
    },
    {
     "name": "stdout",
     "output_type": "stream",
     "text": [
      "Test MSE: 98.1593, Test MAE: 6.3424, Test R2: 0.1515\n",
      "Epoch 82/1000\n",
      "Train MSE: 97.2052, Train MAE: 6.2967\n"
     ]
    },
    {
     "name": "stderr",
     "output_type": "stream",
     "text": [
      "  8%|▊         | 82/1000 [03:51<47:03,  3.08s/it]"
     ]
    },
    {
     "name": "stdout",
     "output_type": "stream",
     "text": [
      "Test MSE: 95.8304, Test MAE: 6.1965, Test R2: 0.1752\n",
      "Epoch 83/1000\n",
      "Train MSE: 95.6372, Train MAE: 6.2902\n"
     ]
    },
    {
     "name": "stderr",
     "output_type": "stream",
     "text": [
      "  8%|▊         | 83/1000 [03:54<46:26,  3.04s/it]"
     ]
    },
    {
     "name": "stdout",
     "output_type": "stream",
     "text": [
      "Test MSE: 95.1104, Test MAE: 6.2397, Test R2: 0.1579\n",
      "Epoch 84/1000\n",
      "Train MSE: 98.2139, Train MAE: 6.2985\n"
     ]
    },
    {
     "name": "stderr",
     "output_type": "stream",
     "text": [
      "  8%|▊         | 84/1000 [03:56<45:44,  3.00s/it]"
     ]
    },
    {
     "name": "stdout",
     "output_type": "stream",
     "text": [
      "Test MSE: 95.7409, Test MAE: 6.2576, Test R2: 0.0900\n",
      "Epoch 85/1000\n",
      "Train MSE: 96.9662, Train MAE: 6.2682\n"
     ]
    },
    {
     "name": "stderr",
     "output_type": "stream",
     "text": [
      "  8%|▊         | 85/1000 [03:59<45:00,  2.95s/it]"
     ]
    },
    {
     "name": "stdout",
     "output_type": "stream",
     "text": [
      "Test MSE: 95.0295, Test MAE: 6.2396, Test R2: 0.1106\n",
      "Epoch 86/1000\n",
      "Train MSE: 94.8092, Train MAE: 6.2174\n"
     ]
    },
    {
     "name": "stderr",
     "output_type": "stream",
     "text": [
      "  9%|▊         | 86/1000 [04:02<44:26,  2.92s/it]"
     ]
    },
    {
     "name": "stdout",
     "output_type": "stream",
     "text": [
      "Test MSE: 94.3548, Test MAE: 6.1985, Test R2: 0.1590\n",
      "Epoch 87/1000\n",
      "Train MSE: 95.2012, Train MAE: 6.2554\n"
     ]
    },
    {
     "name": "stderr",
     "output_type": "stream",
     "text": [
      "  9%|▊         | 87/1000 [04:05<43:43,  2.87s/it]"
     ]
    },
    {
     "name": "stdout",
     "output_type": "stream",
     "text": [
      "Test MSE: 104.4808, Test MAE: 6.4029, Test R2: 0.0514\n",
      "Epoch 88/1000\n",
      "Train MSE: 95.0079, Train MAE: 6.1775\n"
     ]
    },
    {
     "name": "stderr",
     "output_type": "stream",
     "text": [
      "  9%|▉         | 88/1000 [04:08<43:21,  2.85s/it]"
     ]
    },
    {
     "name": "stdout",
     "output_type": "stream",
     "text": [
      "Test MSE: 91.6120, Test MAE: 6.1265, Test R2: 0.1332\n",
      "Epoch 89/1000\n",
      "Train MSE: 96.6616, Train MAE: 6.2660\n"
     ]
    },
    {
     "name": "stderr",
     "output_type": "stream",
     "text": [
      "  9%|▉         | 89/1000 [04:11<42:53,  2.82s/it]"
     ]
    },
    {
     "name": "stdout",
     "output_type": "stream",
     "text": [
      "Test MSE: 91.5902, Test MAE: 6.1793, Test R2: 0.1644\n",
      "Epoch 90/1000\n",
      "Train MSE: 95.1520, Train MAE: 6.2420\n"
     ]
    },
    {
     "name": "stderr",
     "output_type": "stream",
     "text": [
      "  9%|▉         | 90/1000 [04:13<42:27,  2.80s/it]"
     ]
    },
    {
     "name": "stdout",
     "output_type": "stream",
     "text": [
      "Test MSE: 94.3460, Test MAE: 6.2074, Test R2: 0.1784\n",
      "Epoch 91/1000\n",
      "Train MSE: 93.8530, Train MAE: 6.1879\n"
     ]
    },
    {
     "name": "stderr",
     "output_type": "stream",
     "text": [
      "  9%|▉         | 91/1000 [04:16<41:57,  2.77s/it]"
     ]
    },
    {
     "name": "stdout",
     "output_type": "stream",
     "text": [
      "Test MSE: 94.4355, Test MAE: 6.1813, Test R2: 0.1402\n",
      "Epoch 92/1000\n",
      "Train MSE: 93.7284, Train MAE: 6.2036\n"
     ]
    },
    {
     "name": "stderr",
     "output_type": "stream",
     "text": [
      "  9%|▉         | 92/1000 [04:19<41:37,  2.75s/it]"
     ]
    },
    {
     "name": "stdout",
     "output_type": "stream",
     "text": [
      "Test MSE: 99.4507, Test MAE: 6.2963, Test R2: 0.1618\n",
      "Epoch 93/1000\n",
      "Train MSE: 93.3693, Train MAE: 6.2047\n"
     ]
    },
    {
     "name": "stderr",
     "output_type": "stream",
     "text": [
      "  9%|▉         | 93/1000 [04:21<41:08,  2.72s/it]"
     ]
    },
    {
     "name": "stdout",
     "output_type": "stream",
     "text": [
      "Test MSE: 94.7290, Test MAE: 6.2150, Test R2: 0.1384\n",
      "Epoch 94/1000\n",
      "Train MSE: 92.3073, Train MAE: 6.1680\n"
     ]
    },
    {
     "name": "stderr",
     "output_type": "stream",
     "text": [
      "  9%|▉         | 94/1000 [04:24<40:57,  2.71s/it]"
     ]
    },
    {
     "name": "stdout",
     "output_type": "stream",
     "text": [
      "Test MSE: 97.0717, Test MAE: 6.2827, Test R2: 0.0581\n",
      "Epoch 95/1000\n",
      "Train MSE: 91.2471, Train MAE: 6.1827\n"
     ]
    },
    {
     "name": "stderr",
     "output_type": "stream",
     "text": [
      " 10%|▉         | 95/1000 [04:27<40:45,  2.70s/it]"
     ]
    },
    {
     "name": "stdout",
     "output_type": "stream",
     "text": [
      "Test MSE: 91.2083, Test MAE: 6.1345, Test R2: 0.1813\n",
      "Epoch 96/1000\n",
      "Train MSE: 91.5320, Train MAE: 6.1540\n"
     ]
    },
    {
     "name": "stderr",
     "output_type": "stream",
     "text": [
      " 10%|▉         | 96/1000 [04:29<41:00,  2.72s/it]"
     ]
    },
    {
     "name": "stdout",
     "output_type": "stream",
     "text": [
      "Test MSE: 95.4889, Test MAE: 6.2144, Test R2: 0.1792\n",
      "Epoch 97/1000\n",
      "Train MSE: 94.2794, Train MAE: 6.1924\n"
     ]
    },
    {
     "name": "stderr",
     "output_type": "stream",
     "text": [
      " 10%|▉         | 97/1000 [04:32<41:19,  2.75s/it]"
     ]
    },
    {
     "name": "stdout",
     "output_type": "stream",
     "text": [
      "Test MSE: 94.4455, Test MAE: 6.2087, Test R2: 0.1310\n",
      "Epoch 98/1000\n",
      "Train MSE: 92.0918, Train MAE: 6.2020\n"
     ]
    },
    {
     "name": "stderr",
     "output_type": "stream",
     "text": [
      " 10%|▉         | 98/1000 [04:35<41:17,  2.75s/it]"
     ]
    },
    {
     "name": "stdout",
     "output_type": "stream",
     "text": [
      "Test MSE: 92.8090, Test MAE: 6.1412, Test R2: 0.1512\n",
      "Epoch 99/1000\n",
      "Train MSE: 92.8063, Train MAE: 6.1681\n"
     ]
    },
    {
     "name": "stderr",
     "output_type": "stream",
     "text": [
      " 10%|▉         | 99/1000 [04:38<41:40,  2.78s/it]"
     ]
    },
    {
     "name": "stdout",
     "output_type": "stream",
     "text": [
      "Test MSE: 89.3020, Test MAE: 6.0732, Test R2: 0.1674\n",
      "Epoch 100/1000\n",
      "Train MSE: 92.5728, Train MAE: 6.1671\n"
     ]
    },
    {
     "name": "stderr",
     "output_type": "stream",
     "text": [
      " 10%|█         | 100/1000 [04:41<41:41,  2.78s/it]"
     ]
    },
    {
     "name": "stdout",
     "output_type": "stream",
     "text": [
      "Test MSE: 106.1891, Test MAE: 6.4425, Test R2: 0.0172\n",
      "Epoch 101/1000\n",
      "Train MSE: 92.8916, Train MAE: 6.1485\n"
     ]
    },
    {
     "name": "stderr",
     "output_type": "stream",
     "text": [
      " 10%|█         | 101/1000 [04:43<41:34,  2.77s/it]"
     ]
    },
    {
     "name": "stdout",
     "output_type": "stream",
     "text": [
      "Test MSE: 100.5535, Test MAE: 6.3009, Test R2: 0.1426\n",
      "Epoch 102/1000\n",
      "Train MSE: 93.0230, Train MAE: 6.1511\n"
     ]
    },
    {
     "name": "stderr",
     "output_type": "stream",
     "text": [
      " 10%|█         | 102/1000 [04:46<41:15,  2.76s/it]"
     ]
    },
    {
     "name": "stdout",
     "output_type": "stream",
     "text": [
      "Test MSE: 91.3441, Test MAE: 6.1271, Test R2: 0.1671\n",
      "Epoch 103/1000\n",
      "Train MSE: 92.3586, Train MAE: 6.1442\n"
     ]
    },
    {
     "name": "stderr",
     "output_type": "stream",
     "text": [
      " 10%|█         | 103/1000 [04:49<40:58,  2.74s/it]"
     ]
    },
    {
     "name": "stdout",
     "output_type": "stream",
     "text": [
      "Test MSE: 90.2458, Test MAE: 6.1097, Test R2: 0.1467\n",
      "Epoch 104/1000\n",
      "Train MSE: 93.6195, Train MAE: 6.1595\n"
     ]
    },
    {
     "name": "stderr",
     "output_type": "stream",
     "text": [
      " 10%|█         | 104/1000 [04:51<40:35,  2.72s/it]"
     ]
    },
    {
     "name": "stdout",
     "output_type": "stream",
     "text": [
      "Test MSE: 93.5170, Test MAE: 6.1644, Test R2: 0.0985\n",
      "Epoch 105/1000\n",
      "Train MSE: 89.1636, Train MAE: 6.0380\n"
     ]
    },
    {
     "name": "stderr",
     "output_type": "stream",
     "text": [
      " 10%|█         | 105/1000 [04:54<40:24,  2.71s/it]"
     ]
    },
    {
     "name": "stdout",
     "output_type": "stream",
     "text": [
      "Test MSE: 85.7359, Test MAE: 6.1219, Test R2: 0.0483\n",
      "Epoch 106/1000\n",
      "Train MSE: 90.2763, Train MAE: 6.1236\n"
     ]
    },
    {
     "name": "stderr",
     "output_type": "stream",
     "text": [
      " 11%|█         | 106/1000 [04:57<40:41,  2.73s/it]"
     ]
    },
    {
     "name": "stdout",
     "output_type": "stream",
     "text": [
      "Test MSE: 89.8991, Test MAE: 6.0941, Test R2: 0.1139\n",
      "Epoch 107/1000\n",
      "Train MSE: 91.0814, Train MAE: 6.1079\n"
     ]
    },
    {
     "name": "stderr",
     "output_type": "stream",
     "text": [
      " 11%|█         | 107/1000 [05:00<40:35,  2.73s/it]"
     ]
    },
    {
     "name": "stdout",
     "output_type": "stream",
     "text": [
      "Test MSE: 85.8303, Test MAE: 6.0138, Test R2: 0.1781\n",
      "Epoch 108/1000\n",
      "Train MSE: 90.1619, Train MAE: 6.0911\n"
     ]
    },
    {
     "name": "stderr",
     "output_type": "stream",
     "text": [
      " 11%|█         | 108/1000 [05:02<40:57,  2.76s/it]"
     ]
    },
    {
     "name": "stdout",
     "output_type": "stream",
     "text": [
      "Test MSE: 96.3219, Test MAE: 6.1713, Test R2: 0.1752\n",
      "Epoch 109/1000\n",
      "Train MSE: 93.4413, Train MAE: 6.1656\n"
     ]
    },
    {
     "name": "stderr",
     "output_type": "stream",
     "text": [
      " 11%|█         | 109/1000 [05:05<40:32,  2.73s/it]"
     ]
    },
    {
     "name": "stdout",
     "output_type": "stream",
     "text": [
      "Test MSE: 92.5416, Test MAE: 6.1191, Test R2: 0.1731\n",
      "Epoch 110/1000\n",
      "Train MSE: 92.7350, Train MAE: 6.1454\n"
     ]
    },
    {
     "name": "stderr",
     "output_type": "stream",
     "text": [
      " 11%|█         | 110/1000 [05:08<40:26,  2.73s/it]"
     ]
    },
    {
     "name": "stdout",
     "output_type": "stream",
     "text": [
      "Test MSE: 92.8173, Test MAE: 6.1449, Test R2: 0.1820\n",
      "Epoch 111/1000\n",
      "Train MSE: 91.5739, Train MAE: 6.1406\n"
     ]
    },
    {
     "name": "stderr",
     "output_type": "stream",
     "text": [
      " 11%|█         | 111/1000 [05:11<40:08,  2.71s/it]"
     ]
    },
    {
     "name": "stdout",
     "output_type": "stream",
     "text": [
      "Test MSE: 84.8832, Test MAE: 6.0011, Test R2: 0.1716\n",
      "Epoch 112/1000\n",
      "Train MSE: 90.5796, Train MAE: 6.1193\n"
     ]
    },
    {
     "name": "stderr",
     "output_type": "stream",
     "text": [
      " 11%|█         | 112/1000 [05:13<39:58,  2.70s/it]"
     ]
    },
    {
     "name": "stdout",
     "output_type": "stream",
     "text": [
      "Test MSE: 92.6190, Test MAE: 6.1288, Test R2: 0.1882\n",
      "Epoch 113/1000\n",
      "Train MSE: 89.4504, Train MAE: 6.0362\n"
     ]
    },
    {
     "name": "stderr",
     "output_type": "stream",
     "text": [
      " 11%|█▏        | 113/1000 [05:16<39:58,  2.70s/it]"
     ]
    },
    {
     "name": "stdout",
     "output_type": "stream",
     "text": [
      "Test MSE: 86.0930, Test MAE: 5.9873, Test R2: 0.1301\n",
      "Epoch 114/1000\n",
      "Train MSE: 91.6197, Train MAE: 6.1413\n"
     ]
    },
    {
     "name": "stderr",
     "output_type": "stream",
     "text": [
      " 11%|█▏        | 114/1000 [05:19<40:13,  2.72s/it]"
     ]
    },
    {
     "name": "stdout",
     "output_type": "stream",
     "text": [
      "Test MSE: 86.1600, Test MAE: 6.0256, Test R2: 0.2088\n",
      "Epoch 115/1000\n",
      "Train MSE: 89.6485, Train MAE: 6.1169\n"
     ]
    },
    {
     "name": "stderr",
     "output_type": "stream",
     "text": [
      " 12%|█▏        | 115/1000 [05:21<40:15,  2.73s/it]"
     ]
    },
    {
     "name": "stdout",
     "output_type": "stream",
     "text": [
      "Test MSE: 92.0509, Test MAE: 6.1084, Test R2: 0.1926\n",
      "Epoch 116/1000\n",
      "Train MSE: 94.8117, Train MAE: 6.1347\n"
     ]
    },
    {
     "name": "stderr",
     "output_type": "stream",
     "text": [
      " 12%|█▏        | 116/1000 [05:24<40:20,  2.74s/it]"
     ]
    },
    {
     "name": "stdout",
     "output_type": "stream",
     "text": [
      "Test MSE: 86.6222, Test MAE: 6.0870, Test R2: 0.1224\n",
      "Epoch 117/1000\n",
      "Train MSE: 89.1694, Train MAE: 6.0936\n"
     ]
    },
    {
     "name": "stderr",
     "output_type": "stream",
     "text": [
      " 12%|█▏        | 117/1000 [05:27<40:11,  2.73s/it]"
     ]
    },
    {
     "name": "stdout",
     "output_type": "stream",
     "text": [
      "Test MSE: 90.4188, Test MAE: 6.1156, Test R2: 0.1975\n",
      "Epoch 118/1000\n",
      "Train MSE: 91.1826, Train MAE: 6.1095\n"
     ]
    },
    {
     "name": "stderr",
     "output_type": "stream",
     "text": [
      " 12%|█▏        | 118/1000 [05:30<40:27,  2.75s/it]"
     ]
    },
    {
     "name": "stdout",
     "output_type": "stream",
     "text": [
      "Test MSE: 89.6126, Test MAE: 6.0982, Test R2: 0.2133\n",
      "Epoch 119/1000\n",
      "Train MSE: 88.9615, Train MAE: 6.0382\n"
     ]
    },
    {
     "name": "stderr",
     "output_type": "stream",
     "text": [
      " 12%|█▏        | 119/1000 [05:33<40:45,  2.78s/it]"
     ]
    },
    {
     "name": "stdout",
     "output_type": "stream",
     "text": [
      "Test MSE: 88.2539, Test MAE: 6.0719, Test R2: 0.1961\n",
      "Epoch 120/1000\n",
      "Train MSE: 90.4704, Train MAE: 6.0767\n"
     ]
    },
    {
     "name": "stderr",
     "output_type": "stream",
     "text": [
      " 12%|█▏        | 120/1000 [05:35<41:00,  2.80s/it]"
     ]
    },
    {
     "name": "stdout",
     "output_type": "stream",
     "text": [
      "Test MSE: 82.4992, Test MAE: 5.9721, Test R2: 0.1737\n",
      "Epoch 121/1000\n",
      "Train MSE: 90.3708, Train MAE: 6.1223\n"
     ]
    },
    {
     "name": "stderr",
     "output_type": "stream",
     "text": [
      " 12%|█▏        | 121/1000 [05:38<40:30,  2.77s/it]"
     ]
    },
    {
     "name": "stdout",
     "output_type": "stream",
     "text": [
      "Test MSE: 81.5481, Test MAE: 5.9063, Test R2: 0.1986\n",
      "Epoch 122/1000\n",
      "Train MSE: 89.8821, Train MAE: 6.0914\n"
     ]
    },
    {
     "name": "stderr",
     "output_type": "stream",
     "text": [
      " 12%|█▏        | 122/1000 [05:41<39:58,  2.73s/it]"
     ]
    },
    {
     "name": "stdout",
     "output_type": "stream",
     "text": [
      "Test MSE: 97.0446, Test MAE: 6.2052, Test R2: 0.1721\n",
      "Epoch 123/1000\n",
      "Train MSE: 92.5174, Train MAE: 6.0797\n"
     ]
    },
    {
     "name": "stderr",
     "output_type": "stream",
     "text": [
      " 12%|█▏        | 123/1000 [05:44<40:42,  2.78s/it]"
     ]
    },
    {
     "name": "stdout",
     "output_type": "stream",
     "text": [
      "Test MSE: 85.3484, Test MAE: 6.0032, Test R2: 0.1799\n",
      "Epoch 124/1000\n",
      "Train MSE: 90.4445, Train MAE: 6.0882\n"
     ]
    },
    {
     "name": "stderr",
     "output_type": "stream",
     "text": [
      " 12%|█▏        | 124/1000 [05:46<40:51,  2.80s/it]"
     ]
    },
    {
     "name": "stdout",
     "output_type": "stream",
     "text": [
      "Test MSE: 87.3472, Test MAE: 5.9969, Test R2: 0.2088\n",
      "Epoch 125/1000\n",
      "Train MSE: 90.2201, Train MAE: 6.0434\n"
     ]
    },
    {
     "name": "stderr",
     "output_type": "stream",
     "text": [
      " 12%|█▎        | 125/1000 [05:49<41:08,  2.82s/it]"
     ]
    },
    {
     "name": "stdout",
     "output_type": "stream",
     "text": [
      "Test MSE: 94.7668, Test MAE: 6.1844, Test R2: 0.1646\n",
      "Epoch 126/1000\n",
      "Train MSE: 88.0670, Train MAE: 6.0815\n"
     ]
    },
    {
     "name": "stderr",
     "output_type": "stream",
     "text": [
      " 13%|█▎        | 126/1000 [05:52<41:30,  2.85s/it]"
     ]
    },
    {
     "name": "stdout",
     "output_type": "stream",
     "text": [
      "Test MSE: 88.1989, Test MAE: 6.0100, Test R2: 0.1899\n",
      "Epoch 127/1000\n",
      "Train MSE: 88.6918, Train MAE: 6.0338\n"
     ]
    },
    {
     "name": "stderr",
     "output_type": "stream",
     "text": [
      " 13%|█▎        | 127/1000 [05:55<41:56,  2.88s/it]"
     ]
    },
    {
     "name": "stdout",
     "output_type": "stream",
     "text": [
      "Test MSE: 88.0651, Test MAE: 6.0787, Test R2: 0.1140\n",
      "Epoch 128/1000\n",
      "Train MSE: 90.1326, Train MAE: 6.0943\n"
     ]
    },
    {
     "name": "stderr",
     "output_type": "stream",
     "text": [
      " 13%|█▎        | 128/1000 [05:58<41:47,  2.88s/it]"
     ]
    },
    {
     "name": "stdout",
     "output_type": "stream",
     "text": [
      "Test MSE: 87.7874, Test MAE: 6.0590, Test R2: 0.1770\n",
      "Epoch 129/1000\n",
      "Train MSE: 88.7561, Train MAE: 6.0517\n"
     ]
    },
    {
     "name": "stderr",
     "output_type": "stream",
     "text": [
      " 13%|█▎        | 129/1000 [06:01<41:50,  2.88s/it]"
     ]
    },
    {
     "name": "stdout",
     "output_type": "stream",
     "text": [
      "Test MSE: 90.4123, Test MAE: 6.1413, Test R2: 0.1505\n",
      "Epoch 130/1000\n",
      "Train MSE: 90.5928, Train MAE: 6.0490\n"
     ]
    },
    {
     "name": "stderr",
     "output_type": "stream",
     "text": [
      " 13%|█▎        | 130/1000 [06:04<41:09,  2.84s/it]"
     ]
    },
    {
     "name": "stdout",
     "output_type": "stream",
     "text": [
      "Test MSE: 82.8214, Test MAE: 5.9559, Test R2: 0.1951\n",
      "Epoch 131/1000\n",
      "Train MSE: 88.3254, Train MAE: 6.0395\n"
     ]
    },
    {
     "name": "stderr",
     "output_type": "stream",
     "text": [
      " 13%|█▎        | 131/1000 [06:06<40:48,  2.82s/it]"
     ]
    },
    {
     "name": "stdout",
     "output_type": "stream",
     "text": [
      "Test MSE: 82.4517, Test MAE: 5.9473, Test R2: 0.2031\n",
      "Epoch 132/1000\n",
      "Train MSE: 87.6274, Train MAE: 6.0248\n"
     ]
    },
    {
     "name": "stderr",
     "output_type": "stream",
     "text": [
      " 13%|█▎        | 132/1000 [06:09<40:34,  2.80s/it]"
     ]
    },
    {
     "name": "stdout",
     "output_type": "stream",
     "text": [
      "Test MSE: 84.1346, Test MAE: 5.9310, Test R2: 0.1715\n",
      "Epoch 133/1000\n",
      "Train MSE: 89.1765, Train MAE: 6.0294\n"
     ]
    },
    {
     "name": "stderr",
     "output_type": "stream",
     "text": [
      " 13%|█▎        | 133/1000 [06:12<39:51,  2.76s/it]"
     ]
    },
    {
     "name": "stdout",
     "output_type": "stream",
     "text": [
      "Test MSE: 82.2398, Test MAE: 5.9653, Test R2: 0.1779\n",
      "Epoch 134/1000\n",
      "Train MSE: 88.1193, Train MAE: 6.0360\n"
     ]
    },
    {
     "name": "stderr",
     "output_type": "stream",
     "text": [
      " 13%|█▎        | 134/1000 [06:15<40:08,  2.78s/it]"
     ]
    },
    {
     "name": "stdout",
     "output_type": "stream",
     "text": [
      "Test MSE: 88.3831, Test MAE: 6.0393, Test R2: 0.1902\n",
      "Epoch 135/1000\n",
      "Train MSE: 88.3213, Train MAE: 6.0565\n"
     ]
    },
    {
     "name": "stderr",
     "output_type": "stream",
     "text": [
      " 14%|█▎        | 135/1000 [06:17<39:55,  2.77s/it]"
     ]
    },
    {
     "name": "stdout",
     "output_type": "stream",
     "text": [
      "Test MSE: 80.8618, Test MAE: 5.8754, Test R2: 0.1914\n",
      "Epoch 136/1000\n",
      "Train MSE: 86.5614, Train MAE: 6.0177\n"
     ]
    },
    {
     "name": "stderr",
     "output_type": "stream",
     "text": [
      " 14%|█▎        | 136/1000 [06:20<39:51,  2.77s/it]"
     ]
    },
    {
     "name": "stdout",
     "output_type": "stream",
     "text": [
      "Test MSE: 85.4443, Test MAE: 6.1019, Test R2: 0.1940\n",
      "Epoch 137/1000\n",
      "Train MSE: 87.8506, Train MAE: 6.0093\n"
     ]
    },
    {
     "name": "stderr",
     "output_type": "stream",
     "text": [
      " 14%|█▎        | 137/1000 [06:23<40:14,  2.80s/it]"
     ]
    },
    {
     "name": "stdout",
     "output_type": "stream",
     "text": [
      "Test MSE: 85.6948, Test MAE: 6.0497, Test R2: 0.1760\n",
      "Epoch 138/1000\n",
      "Train MSE: 89.8684, Train MAE: 6.0692\n"
     ]
    },
    {
     "name": "stderr",
     "output_type": "stream",
     "text": [
      " 14%|█▍        | 138/1000 [06:27<44:22,  3.09s/it]"
     ]
    },
    {
     "name": "stdout",
     "output_type": "stream",
     "text": [
      "Test MSE: 85.5636, Test MAE: 6.0116, Test R2: 0.1788\n",
      "Epoch 139/1000\n",
      "Train MSE: 87.6561, Train MAE: 6.0188\n"
     ]
    },
    {
     "name": "stderr",
     "output_type": "stream",
     "text": [
      " 14%|█▍        | 139/1000 [06:30<45:37,  3.18s/it]"
     ]
    },
    {
     "name": "stdout",
     "output_type": "stream",
     "text": [
      "Test MSE: 86.9746, Test MAE: 6.0088, Test R2: 0.1867\n",
      "Epoch 140/1000\n",
      "Train MSE: 88.5864, Train MAE: 6.0345\n"
     ]
    },
    {
     "name": "stderr",
     "output_type": "stream",
     "text": [
      " 14%|█▍        | 140/1000 [06:34<46:34,  3.25s/it]"
     ]
    },
    {
     "name": "stdout",
     "output_type": "stream",
     "text": [
      "Test MSE: 82.2696, Test MAE: 5.9199, Test R2: 0.1899\n",
      "Epoch 141/1000\n",
      "Train MSE: 87.7258, Train MAE: 5.9891\n"
     ]
    },
    {
     "name": "stderr",
     "output_type": "stream",
     "text": [
      " 14%|█▍        | 141/1000 [06:37<45:41,  3.19s/it]"
     ]
    },
    {
     "name": "stdout",
     "output_type": "stream",
     "text": [
      "Test MSE: 89.1337, Test MAE: 6.0397, Test R2: 0.1593\n",
      "Epoch 142/1000\n",
      "Train MSE: 87.8951, Train MAE: 6.0442\n"
     ]
    },
    {
     "name": "stderr",
     "output_type": "stream",
     "text": [
      " 14%|█▍        | 142/1000 [06:40<43:45,  3.06s/it]"
     ]
    },
    {
     "name": "stdout",
     "output_type": "stream",
     "text": [
      "Test MSE: 82.2466, Test MAE: 5.9151, Test R2: 0.1873\n",
      "Epoch 143/1000\n",
      "Train MSE: 88.0763, Train MAE: 5.9690\n"
     ]
    },
    {
     "name": "stderr",
     "output_type": "stream",
     "text": [
      " 14%|█▍        | 143/1000 [06:42<42:28,  2.97s/it]"
     ]
    },
    {
     "name": "stdout",
     "output_type": "stream",
     "text": [
      "Test MSE: 84.1173, Test MAE: 5.9422, Test R2: 0.1925\n",
      "Epoch 144/1000\n",
      "Train MSE: 89.8059, Train MAE: 6.0390\n"
     ]
    },
    {
     "name": "stderr",
     "output_type": "stream",
     "text": [
      " 14%|█▍        | 144/1000 [06:45<41:02,  2.88s/it]"
     ]
    },
    {
     "name": "stdout",
     "output_type": "stream",
     "text": [
      "Test MSE: 83.9806, Test MAE: 6.0181, Test R2: 0.0447\n",
      "Epoch 145/1000\n",
      "Train MSE: 89.2803, Train MAE: 6.0616\n"
     ]
    },
    {
     "name": "stderr",
     "output_type": "stream",
     "text": [
      " 14%|█▍        | 145/1000 [06:48<40:11,  2.82s/it]"
     ]
    },
    {
     "name": "stdout",
     "output_type": "stream",
     "text": [
      "Test MSE: 84.2126, Test MAE: 5.9531, Test R2: 0.1905\n",
      "Epoch 146/1000\n",
      "Train MSE: 87.0153, Train MAE: 5.9916\n"
     ]
    },
    {
     "name": "stderr",
     "output_type": "stream",
     "text": [
      " 15%|█▍        | 146/1000 [06:50<39:54,  2.80s/it]"
     ]
    },
    {
     "name": "stdout",
     "output_type": "stream",
     "text": [
      "Test MSE: 93.4810, Test MAE: 6.0802, Test R2: 0.1657\n",
      "Epoch 147/1000\n",
      "Train MSE: 86.8517, Train MAE: 5.9999\n"
     ]
    },
    {
     "name": "stderr",
     "output_type": "stream",
     "text": [
      " 15%|█▍        | 147/1000 [06:53<39:34,  2.78s/it]"
     ]
    },
    {
     "name": "stdout",
     "output_type": "stream",
     "text": [
      "Test MSE: 78.0094, Test MAE: 5.8219, Test R2: 0.1469\n",
      "Epoch 148/1000\n",
      "Train MSE: 86.9412, Train MAE: 5.9871\n"
     ]
    },
    {
     "name": "stderr",
     "output_type": "stream",
     "text": [
      " 15%|█▍        | 148/1000 [06:56<39:01,  2.75s/it]"
     ]
    },
    {
     "name": "stdout",
     "output_type": "stream",
     "text": [
      "Test MSE: 84.6742, Test MAE: 5.9664, Test R2: 0.2230\n",
      "Epoch 149/1000\n",
      "Train MSE: 87.6451, Train MAE: 5.9992\n"
     ]
    },
    {
     "name": "stderr",
     "output_type": "stream",
     "text": [
      " 15%|█▍        | 149/1000 [06:59<39:05,  2.76s/it]"
     ]
    },
    {
     "name": "stdout",
     "output_type": "stream",
     "text": [
      "Test MSE: 87.1460, Test MAE: 5.9835, Test R2: 0.1096\n",
      "Epoch 150/1000\n",
      "Train MSE: 87.3648, Train MAE: 6.0050\n"
     ]
    },
    {
     "name": "stderr",
     "output_type": "stream",
     "text": [
      " 15%|█▌        | 150/1000 [07:01<38:40,  2.73s/it]"
     ]
    },
    {
     "name": "stdout",
     "output_type": "stream",
     "text": [
      "Test MSE: 81.5124, Test MAE: 5.8696, Test R2: 0.1167\n",
      "Epoch 151/1000\n",
      "Train MSE: 84.2498, Train MAE: 5.9328\n"
     ]
    },
    {
     "name": "stderr",
     "output_type": "stream",
     "text": [
      " 15%|█▌        | 151/1000 [07:04<38:29,  2.72s/it]"
     ]
    },
    {
     "name": "stdout",
     "output_type": "stream",
     "text": [
      "Test MSE: 81.3931, Test MAE: 5.9437, Test R2: 0.0567\n",
      "Epoch 152/1000\n",
      "Train MSE: 85.6433, Train MAE: 5.9491\n"
     ]
    },
    {
     "name": "stderr",
     "output_type": "stream",
     "text": [
      " 15%|█▌        | 152/1000 [07:07<38:38,  2.73s/it]"
     ]
    },
    {
     "name": "stdout",
     "output_type": "stream",
     "text": [
      "Test MSE: 83.4996, Test MAE: 5.9370, Test R2: 0.1822\n",
      "Epoch 153/1000\n",
      "Train MSE: 85.5472, Train MAE: 5.9095\n"
     ]
    },
    {
     "name": "stderr",
     "output_type": "stream",
     "text": [
      " 15%|█▌        | 153/1000 [07:09<38:53,  2.76s/it]"
     ]
    },
    {
     "name": "stdout",
     "output_type": "stream",
     "text": [
      "Test MSE: 78.8916, Test MAE: 5.8729, Test R2: 0.1356\n",
      "Epoch 154/1000\n",
      "Train MSE: 85.3622, Train MAE: 5.9145\n"
     ]
    },
    {
     "name": "stderr",
     "output_type": "stream",
     "text": [
      " 15%|█▌        | 154/1000 [07:12<39:05,  2.77s/it]"
     ]
    },
    {
     "name": "stdout",
     "output_type": "stream",
     "text": [
      "Test MSE: 85.6003, Test MAE: 5.9668, Test R2: 0.1679\n",
      "Epoch 155/1000\n",
      "Train MSE: 86.6261, Train MAE: 5.9807\n"
     ]
    },
    {
     "name": "stderr",
     "output_type": "stream",
     "text": [
      " 16%|█▌        | 155/1000 [07:15<39:11,  2.78s/it]"
     ]
    },
    {
     "name": "stdout",
     "output_type": "stream",
     "text": [
      "Test MSE: 83.5357, Test MAE: 5.9278, Test R2: 0.1585\n",
      "Epoch 156/1000\n",
      "Train MSE: 88.6229, Train MAE: 6.0017\n"
     ]
    },
    {
     "name": "stderr",
     "output_type": "stream",
     "text": [
      " 16%|█▌        | 156/1000 [07:18<39:24,  2.80s/it]"
     ]
    },
    {
     "name": "stdout",
     "output_type": "stream",
     "text": [
      "Test MSE: 82.7980, Test MAE: 5.9172, Test R2: 0.1043\n",
      "Epoch 157/1000\n",
      "Train MSE: 86.2287, Train MAE: 5.9687\n"
     ]
    },
    {
     "name": "stderr",
     "output_type": "stream",
     "text": [
      " 16%|█▌        | 157/1000 [07:21<39:34,  2.82s/it]"
     ]
    },
    {
     "name": "stdout",
     "output_type": "stream",
     "text": [
      "Test MSE: 87.6052, Test MAE: 6.0283, Test R2: 0.1820\n",
      "Epoch 158/1000\n",
      "Train MSE: 87.1943, Train MAE: 6.0172\n"
     ]
    },
    {
     "name": "stderr",
     "output_type": "stream",
     "text": [
      " 16%|█▌        | 158/1000 [07:24<39:25,  2.81s/it]"
     ]
    },
    {
     "name": "stdout",
     "output_type": "stream",
     "text": [
      "Test MSE: 88.2139, Test MAE: 5.9677, Test R2: 0.1825\n",
      "Epoch 159/1000\n",
      "Train MSE: 87.2734, Train MAE: 5.9498\n"
     ]
    },
    {
     "name": "stderr",
     "output_type": "stream",
     "text": [
      " 16%|█▌        | 159/1000 [07:26<39:09,  2.79s/it]"
     ]
    },
    {
     "name": "stdout",
     "output_type": "stream",
     "text": [
      "Test MSE: 80.7207, Test MAE: 5.8706, Test R2: 0.1559\n",
      "Epoch 160/1000\n",
      "Train MSE: 88.0419, Train MAE: 5.9493\n"
     ]
    },
    {
     "name": "stderr",
     "output_type": "stream",
     "text": [
      " 16%|█▌        | 160/1000 [07:29<39:10,  2.80s/it]"
     ]
    },
    {
     "name": "stdout",
     "output_type": "stream",
     "text": [
      "Test MSE: 87.1234, Test MAE: 6.0041, Test R2: 0.2127\n",
      "Epoch 161/1000\n",
      "Train MSE: 85.2031, Train MAE: 5.8987\n"
     ]
    },
    {
     "name": "stderr",
     "output_type": "stream",
     "text": [
      " 16%|█▌        | 161/1000 [07:32<39:01,  2.79s/it]"
     ]
    },
    {
     "name": "stdout",
     "output_type": "stream",
     "text": [
      "Test MSE: 88.9287, Test MAE: 6.0520, Test R2: 0.1477\n",
      "Epoch 162/1000\n",
      "Train MSE: 86.2932, Train MAE: 5.9187\n"
     ]
    },
    {
     "name": "stderr",
     "output_type": "stream",
     "text": [
      " 16%|█▌        | 162/1000 [07:35<38:41,  2.77s/it]"
     ]
    },
    {
     "name": "stdout",
     "output_type": "stream",
     "text": [
      "Test MSE: 84.3357, Test MAE: 5.9462, Test R2: 0.1946\n",
      "Epoch 163/1000\n",
      "Train MSE: 84.0577, Train MAE: 5.9030\n"
     ]
    },
    {
     "name": "stderr",
     "output_type": "stream",
     "text": [
      " 16%|█▋        | 163/1000 [07:37<38:19,  2.75s/it]"
     ]
    },
    {
     "name": "stdout",
     "output_type": "stream",
     "text": [
      "Test MSE: 79.2477, Test MAE: 5.8207, Test R2: 0.1926\n",
      "Epoch 164/1000\n",
      "Train MSE: 87.2233, Train MAE: 5.9420\n"
     ]
    },
    {
     "name": "stderr",
     "output_type": "stream",
     "text": [
      " 16%|█▋        | 164/1000 [07:40<38:20,  2.75s/it]"
     ]
    },
    {
     "name": "stdout",
     "output_type": "stream",
     "text": [
      "Test MSE: 81.9910, Test MAE: 5.8453, Test R2: 0.1779\n",
      "Epoch 165/1000\n",
      "Train MSE: 85.4200, Train MAE: 5.9529\n"
     ]
    },
    {
     "name": "stderr",
     "output_type": "stream",
     "text": [
      " 16%|█▋        | 165/1000 [07:43<38:15,  2.75s/it]"
     ]
    },
    {
     "name": "stdout",
     "output_type": "stream",
     "text": [
      "Test MSE: 87.2802, Test MAE: 6.0053, Test R2: 0.1640\n",
      "Epoch 166/1000\n",
      "Train MSE: 89.4527, Train MAE: 6.0133\n"
     ]
    },
    {
     "name": "stderr",
     "output_type": "stream",
     "text": [
      " 17%|█▋        | 166/1000 [07:46<38:15,  2.75s/it]"
     ]
    },
    {
     "name": "stdout",
     "output_type": "stream",
     "text": [
      "Test MSE: 82.3135, Test MAE: 5.9004, Test R2: 0.2096\n",
      "Epoch 167/1000\n",
      "Train MSE: 89.4636, Train MAE: 6.0019\n"
     ]
    },
    {
     "name": "stderr",
     "output_type": "stream",
     "text": [
      " 17%|█▋        | 167/1000 [07:48<38:27,  2.77s/it]"
     ]
    },
    {
     "name": "stdout",
     "output_type": "stream",
     "text": [
      "Test MSE: 82.9275, Test MAE: 5.8827, Test R2: 0.1570\n",
      "Epoch 168/1000\n",
      "Train MSE: 86.5850, Train MAE: 5.9449\n"
     ]
    },
    {
     "name": "stderr",
     "output_type": "stream",
     "text": [
      " 17%|█▋        | 168/1000 [07:51<38:27,  2.77s/it]"
     ]
    },
    {
     "name": "stdout",
     "output_type": "stream",
     "text": [
      "Test MSE: 83.2613, Test MAE: 5.9069, Test R2: 0.2178\n",
      "Epoch 169/1000\n",
      "Train MSE: 89.9038, Train MAE: 6.0043\n"
     ]
    },
    {
     "name": "stderr",
     "output_type": "stream",
     "text": [
      " 17%|█▋        | 169/1000 [07:54<38:34,  2.78s/it]"
     ]
    },
    {
     "name": "stdout",
     "output_type": "stream",
     "text": [
      "Test MSE: 85.0314, Test MAE: 5.9499, Test R2: 0.1810\n",
      "Epoch 170/1000\n",
      "Train MSE: 88.7031, Train MAE: 5.9982\n"
     ]
    },
    {
     "name": "stderr",
     "output_type": "stream",
     "text": [
      " 17%|█▋        | 170/1000 [07:57<38:30,  2.78s/it]"
     ]
    },
    {
     "name": "stdout",
     "output_type": "stream",
     "text": [
      "Test MSE: 83.3151, Test MAE: 5.9315, Test R2: 0.1453\n",
      "Epoch 171/1000\n",
      "Train MSE: 90.0928, Train MAE: 6.0021\n"
     ]
    },
    {
     "name": "stderr",
     "output_type": "stream",
     "text": [
      " 17%|█▋        | 171/1000 [08:00<38:38,  2.80s/it]"
     ]
    },
    {
     "name": "stdout",
     "output_type": "stream",
     "text": [
      "Test MSE: 86.1560, Test MAE: 5.9930, Test R2: 0.1376\n",
      "Epoch 172/1000\n",
      "Train MSE: 86.8296, Train MAE: 5.9631\n"
     ]
    },
    {
     "name": "stderr",
     "output_type": "stream",
     "text": [
      " 17%|█▋        | 172/1000 [08:02<38:27,  2.79s/it]"
     ]
    },
    {
     "name": "stdout",
     "output_type": "stream",
     "text": [
      "Test MSE: 82.7746, Test MAE: 5.9119, Test R2: 0.2109\n",
      "Epoch 173/1000\n",
      "Train MSE: 87.8914, Train MAE: 5.9345\n"
     ]
    },
    {
     "name": "stderr",
     "output_type": "stream",
     "text": [
      " 17%|█▋        | 173/1000 [08:05<38:20,  2.78s/it]"
     ]
    },
    {
     "name": "stdout",
     "output_type": "stream",
     "text": [
      "Test MSE: 89.6205, Test MAE: 6.0387, Test R2: 0.1419\n",
      "Epoch 174/1000\n",
      "Train MSE: 85.7556, Train MAE: 5.9254\n"
     ]
    },
    {
     "name": "stderr",
     "output_type": "stream",
     "text": [
      " 17%|█▋        | 174/1000 [08:08<38:13,  2.78s/it]"
     ]
    },
    {
     "name": "stdout",
     "output_type": "stream",
     "text": [
      "Test MSE: 77.7282, Test MAE: 5.8470, Test R2: 0.1681\n",
      "Epoch 175/1000\n",
      "Train MSE: 87.7525, Train MAE: 6.0084\n"
     ]
    },
    {
     "name": "stderr",
     "output_type": "stream",
     "text": [
      " 18%|█▊        | 175/1000 [08:11<38:09,  2.78s/it]"
     ]
    },
    {
     "name": "stdout",
     "output_type": "stream",
     "text": [
      "Test MSE: 76.3924, Test MAE: 5.7677, Test R2: 0.1825\n",
      "Epoch 176/1000\n",
      "Train MSE: 85.7464, Train MAE: 5.9390\n"
     ]
    },
    {
     "name": "stderr",
     "output_type": "stream",
     "text": [
      " 18%|█▊        | 176/1000 [08:14<38:12,  2.78s/it]"
     ]
    },
    {
     "name": "stdout",
     "output_type": "stream",
     "text": [
      "Test MSE: 82.0903, Test MAE: 5.9112, Test R2: 0.1574\n",
      "Epoch 177/1000\n",
      "Train MSE: 90.0523, Train MAE: 5.9703\n"
     ]
    },
    {
     "name": "stderr",
     "output_type": "stream",
     "text": [
      " 18%|█▊        | 177/1000 [08:16<38:00,  2.77s/it]"
     ]
    },
    {
     "name": "stdout",
     "output_type": "stream",
     "text": [
      "Test MSE: 77.3203, Test MAE: 5.7892, Test R2: 0.1043\n",
      "Epoch 178/1000\n",
      "Train MSE: 85.9828, Train MAE: 5.9431\n"
     ]
    },
    {
     "name": "stderr",
     "output_type": "stream",
     "text": [
      " 18%|█▊        | 178/1000 [08:19<37:47,  2.76s/it]"
     ]
    },
    {
     "name": "stdout",
     "output_type": "stream",
     "text": [
      "Test MSE: 87.5584, Test MAE: 6.0483, Test R2: 0.1856\n",
      "Epoch 179/1000\n",
      "Train MSE: 85.6954, Train MAE: 5.9070\n"
     ]
    },
    {
     "name": "stderr",
     "output_type": "stream",
     "text": [
      " 18%|█▊        | 179/1000 [08:22<37:38,  2.75s/it]"
     ]
    },
    {
     "name": "stdout",
     "output_type": "stream",
     "text": [
      "Test MSE: 84.7858, Test MAE: 5.9330, Test R2: 0.1493\n",
      "Epoch 180/1000\n",
      "Train MSE: 85.6461, Train MAE: 5.9336\n"
     ]
    },
    {
     "name": "stderr",
     "output_type": "stream",
     "text": [
      " 18%|█▊        | 180/1000 [08:24<37:36,  2.75s/it]"
     ]
    },
    {
     "name": "stdout",
     "output_type": "stream",
     "text": [
      "Test MSE: 82.0477, Test MAE: 5.8903, Test R2: 0.1861\n",
      "Epoch 181/1000\n",
      "Train MSE: 86.5590, Train MAE: 5.9252\n"
     ]
    },
    {
     "name": "stderr",
     "output_type": "stream",
     "text": [
      " 18%|█▊        | 181/1000 [08:27<37:29,  2.75s/it]"
     ]
    },
    {
     "name": "stdout",
     "output_type": "stream",
     "text": [
      "Test MSE: 81.4330, Test MAE: 5.8748, Test R2: 0.1174\n",
      "Epoch 182/1000\n",
      "Train MSE: 87.3913, Train MAE: 5.9548\n"
     ]
    },
    {
     "name": "stderr",
     "output_type": "stream",
     "text": [
      " 18%|█▊        | 182/1000 [08:30<37:32,  2.75s/it]"
     ]
    },
    {
     "name": "stdout",
     "output_type": "stream",
     "text": [
      "Test MSE: 81.5492, Test MAE: 5.8761, Test R2: 0.1514\n",
      "Epoch 183/1000\n",
      "Train MSE: 86.6457, Train MAE: 5.9496\n"
     ]
    },
    {
     "name": "stderr",
     "output_type": "stream",
     "text": [
      " 18%|█▊        | 183/1000 [08:33<37:22,  2.74s/it]"
     ]
    },
    {
     "name": "stdout",
     "output_type": "stream",
     "text": [
      "Test MSE: 82.7886, Test MAE: 5.8824, Test R2: 0.1975\n",
      "Epoch 184/1000\n",
      "Train MSE: 84.8101, Train MAE: 5.8991\n"
     ]
    },
    {
     "name": "stderr",
     "output_type": "stream",
     "text": [
      " 18%|█▊        | 184/1000 [08:36<37:43,  2.77s/it]"
     ]
    },
    {
     "name": "stdout",
     "output_type": "stream",
     "text": [
      "Test MSE: 83.1219, Test MAE: 5.9413, Test R2: 0.0677\n",
      "Epoch 185/1000\n",
      "Train MSE: 84.6057, Train MAE: 5.8872\n"
     ]
    },
    {
     "name": "stderr",
     "output_type": "stream",
     "text": [
      " 18%|█▊        | 185/1000 [08:38<37:33,  2.77s/it]"
     ]
    },
    {
     "name": "stdout",
     "output_type": "stream",
     "text": [
      "Test MSE: 75.9222, Test MAE: 5.7500, Test R2: 0.2035\n",
      "Epoch 186/1000\n",
      "Train MSE: 84.0791, Train MAE: 5.8940\n"
     ]
    },
    {
     "name": "stderr",
     "output_type": "stream",
     "text": [
      " 19%|█▊        | 186/1000 [08:41<37:31,  2.77s/it]"
     ]
    },
    {
     "name": "stdout",
     "output_type": "stream",
     "text": [
      "Test MSE: 78.6337, Test MAE: 5.7978, Test R2: 0.2118\n",
      "Epoch 187/1000\n",
      "Train MSE: 85.6854, Train MAE: 5.8604\n"
     ]
    },
    {
     "name": "stderr",
     "output_type": "stream",
     "text": [
      " 19%|█▊        | 187/1000 [08:44<37:37,  2.78s/it]"
     ]
    },
    {
     "name": "stdout",
     "output_type": "stream",
     "text": [
      "Test MSE: 77.1313, Test MAE: 5.7578, Test R2: 0.2134\n",
      "Epoch 188/1000\n",
      "Train MSE: 86.5815, Train MAE: 5.9592\n"
     ]
    },
    {
     "name": "stderr",
     "output_type": "stream",
     "text": [
      " 19%|█▉        | 188/1000 [08:47<37:29,  2.77s/it]"
     ]
    },
    {
     "name": "stdout",
     "output_type": "stream",
     "text": [
      "Test MSE: 77.0077, Test MAE: 5.7563, Test R2: 0.1704\n",
      "Epoch 189/1000\n",
      "Train MSE: 86.0306, Train MAE: 5.9043\n"
     ]
    },
    {
     "name": "stderr",
     "output_type": "stream",
     "text": [
      " 19%|█▉        | 189/1000 [08:49<37:29,  2.77s/it]"
     ]
    },
    {
     "name": "stdout",
     "output_type": "stream",
     "text": [
      "Test MSE: 78.3502, Test MAE: 5.8030, Test R2: 0.1753\n",
      "Epoch 190/1000\n",
      "Train MSE: 85.3776, Train MAE: 5.9204\n"
     ]
    },
    {
     "name": "stderr",
     "output_type": "stream",
     "text": [
      " 19%|█▉        | 190/1000 [08:52<37:12,  2.76s/it]"
     ]
    },
    {
     "name": "stdout",
     "output_type": "stream",
     "text": [
      "Test MSE: 79.1020, Test MAE: 5.8542, Test R2: 0.1906\n",
      "Epoch 191/1000\n",
      "Train MSE: 84.9382, Train MAE: 5.8891\n"
     ]
    },
    {
     "name": "stderr",
     "output_type": "stream",
     "text": [
      " 19%|█▉        | 191/1000 [08:55<37:02,  2.75s/it]"
     ]
    },
    {
     "name": "stdout",
     "output_type": "stream",
     "text": [
      "Test MSE: 75.6883, Test MAE: 5.7120, Test R2: 0.2027\n",
      "Epoch 192/1000\n",
      "Train MSE: 86.3084, Train MAE: 5.9259\n"
     ]
    },
    {
     "name": "stderr",
     "output_type": "stream",
     "text": [
      " 19%|█▉        | 192/1000 [08:58<36:53,  2.74s/it]"
     ]
    },
    {
     "name": "stdout",
     "output_type": "stream",
     "text": [
      "Test MSE: 78.0136, Test MAE: 5.7943, Test R2: 0.2030\n",
      "Epoch 193/1000\n",
      "Train MSE: 86.0903, Train MAE: 5.9414\n"
     ]
    },
    {
     "name": "stderr",
     "output_type": "stream",
     "text": [
      " 19%|█▉        | 193/1000 [09:00<36:48,  2.74s/it]"
     ]
    },
    {
     "name": "stdout",
     "output_type": "stream",
     "text": [
      "Test MSE: 78.1107, Test MAE: 5.8336, Test R2: 0.1787\n",
      "Epoch 194/1000\n",
      "Train MSE: 86.2250, Train MAE: 5.8987\n"
     ]
    },
    {
     "name": "stderr",
     "output_type": "stream",
     "text": [
      " 19%|█▉        | 194/1000 [09:03<36:27,  2.71s/it]"
     ]
    },
    {
     "name": "stdout",
     "output_type": "stream",
     "text": [
      "Test MSE: 87.4282, Test MAE: 5.9778, Test R2: 0.1641\n",
      "Epoch 195/1000\n",
      "Train MSE: 87.0342, Train MAE: 5.9273\n"
     ]
    },
    {
     "name": "stderr",
     "output_type": "stream",
     "text": [
      " 20%|█▉        | 195/1000 [09:06<36:23,  2.71s/it]"
     ]
    },
    {
     "name": "stdout",
     "output_type": "stream",
     "text": [
      "Test MSE: 82.0476, Test MAE: 5.8469, Test R2: 0.1732\n",
      "Epoch 196/1000\n",
      "Train MSE: 85.6864, Train MAE: 5.9347\n"
     ]
    },
    {
     "name": "stderr",
     "output_type": "stream",
     "text": [
      " 20%|█▉        | 196/1000 [09:08<36:12,  2.70s/it]"
     ]
    },
    {
     "name": "stdout",
     "output_type": "stream",
     "text": [
      "Test MSE: 79.4462, Test MAE: 5.8021, Test R2: 0.1903\n",
      "Epoch 197/1000\n",
      "Train MSE: 86.9643, Train MAE: 5.8982\n"
     ]
    },
    {
     "name": "stderr",
     "output_type": "stream",
     "text": [
      " 20%|█▉        | 197/1000 [09:11<36:12,  2.71s/it]"
     ]
    },
    {
     "name": "stdout",
     "output_type": "stream",
     "text": [
      "Test MSE: 83.7171, Test MAE: 5.9055, Test R2: 0.1651\n",
      "Epoch 198/1000\n",
      "Train MSE: 85.6860, Train MAE: 5.8809\n"
     ]
    },
    {
     "name": "stderr",
     "output_type": "stream",
     "text": [
      " 20%|█▉        | 198/1000 [09:14<36:10,  2.71s/it]"
     ]
    },
    {
     "name": "stdout",
     "output_type": "stream",
     "text": [
      "Test MSE: 79.9603, Test MAE: 5.8535, Test R2: 0.1363\n",
      "Epoch 199/1000\n",
      "Train MSE: 85.5302, Train MAE: 5.9501\n"
     ]
    },
    {
     "name": "stderr",
     "output_type": "stream",
     "text": [
      " 20%|█▉        | 199/1000 [09:16<36:08,  2.71s/it]"
     ]
    },
    {
     "name": "stdout",
     "output_type": "stream",
     "text": [
      "Test MSE: 78.8231, Test MAE: 5.7840, Test R2: 0.1549\n",
      "Epoch 200/1000\n",
      "Train MSE: 85.1198, Train MAE: 5.8923\n"
     ]
    },
    {
     "name": "stderr",
     "output_type": "stream",
     "text": [
      " 20%|██        | 200/1000 [09:19<36:07,  2.71s/it]"
     ]
    },
    {
     "name": "stdout",
     "output_type": "stream",
     "text": [
      "Test MSE: 77.9590, Test MAE: 5.7568, Test R2: 0.2069\n",
      "Epoch 201/1000\n",
      "Train MSE: 81.9595, Train MAE: 5.8625\n"
     ]
    },
    {
     "name": "stderr",
     "output_type": "stream",
     "text": [
      " 20%|██        | 201/1000 [09:22<35:54,  2.70s/it]"
     ]
    },
    {
     "name": "stdout",
     "output_type": "stream",
     "text": [
      "Test MSE: 81.8166, Test MAE: 5.8964, Test R2: 0.1407\n",
      "Epoch 202/1000\n",
      "Train MSE: 84.2603, Train MAE: 5.8513\n"
     ]
    },
    {
     "name": "stderr",
     "output_type": "stream",
     "text": [
      " 20%|██        | 202/1000 [09:25<35:54,  2.70s/it]"
     ]
    },
    {
     "name": "stdout",
     "output_type": "stream",
     "text": [
      "Test MSE: 80.4283, Test MAE: 5.8610, Test R2: 0.1813\n",
      "Epoch 203/1000\n",
      "Train MSE: 85.7712, Train MAE: 5.8727\n"
     ]
    },
    {
     "name": "stderr",
     "output_type": "stream",
     "text": [
      " 20%|██        | 203/1000 [09:27<35:49,  2.70s/it]"
     ]
    },
    {
     "name": "stdout",
     "output_type": "stream",
     "text": [
      "Test MSE: 87.6065, Test MAE: 6.1219, Test R2: 0.1035\n",
      "Epoch 204/1000\n",
      "Train MSE: 86.4804, Train MAE: 5.9397\n"
     ]
    },
    {
     "name": "stderr",
     "output_type": "stream",
     "text": [
      " 20%|██        | 204/1000 [09:30<35:58,  2.71s/it]"
     ]
    },
    {
     "name": "stdout",
     "output_type": "stream",
     "text": [
      "Test MSE: 78.7968, Test MAE: 5.8328, Test R2: 0.2066\n",
      "Epoch 205/1000\n",
      "Train MSE: 86.7858, Train MAE: 5.9059\n"
     ]
    },
    {
     "name": "stderr",
     "output_type": "stream",
     "text": [
      " 20%|██        | 205/1000 [09:33<36:02,  2.72s/it]"
     ]
    },
    {
     "name": "stdout",
     "output_type": "stream",
     "text": [
      "Test MSE: 77.8619, Test MAE: 5.8462, Test R2: 0.2065\n",
      "Epoch 206/1000\n",
      "Train MSE: 86.1165, Train MAE: 5.9024\n"
     ]
    },
    {
     "name": "stderr",
     "output_type": "stream",
     "text": [
      " 21%|██        | 206/1000 [09:35<36:08,  2.73s/it]"
     ]
    },
    {
     "name": "stdout",
     "output_type": "stream",
     "text": [
      "Test MSE: 78.8715, Test MAE: 5.8261, Test R2: 0.1552\n",
      "Epoch 207/1000\n",
      "Train MSE: 84.7005, Train MAE: 5.9094\n"
     ]
    },
    {
     "name": "stderr",
     "output_type": "stream",
     "text": [
      " 21%|██        | 207/1000 [09:38<35:59,  2.72s/it]"
     ]
    },
    {
     "name": "stdout",
     "output_type": "stream",
     "text": [
      "Test MSE: 77.4627, Test MAE: 5.7860, Test R2: 0.0915\n",
      "Epoch 208/1000\n",
      "Train MSE: 83.9371, Train MAE: 5.8245\n"
     ]
    },
    {
     "name": "stderr",
     "output_type": "stream",
     "text": [
      " 21%|██        | 208/1000 [09:41<35:51,  2.72s/it]"
     ]
    },
    {
     "name": "stdout",
     "output_type": "stream",
     "text": [
      "Test MSE: 79.8356, Test MAE: 5.7976, Test R2: 0.0742\n",
      "Epoch 209/1000\n",
      "Train MSE: 84.9642, Train MAE: 5.8932\n"
     ]
    },
    {
     "name": "stderr",
     "output_type": "stream",
     "text": [
      " 21%|██        | 209/1000 [09:44<35:44,  2.71s/it]"
     ]
    },
    {
     "name": "stdout",
     "output_type": "stream",
     "text": [
      "Test MSE: 78.0422, Test MAE: 5.8555, Test R2: 0.1074\n",
      "Epoch 210/1000\n",
      "Train MSE: 86.2054, Train MAE: 5.9279\n"
     ]
    },
    {
     "name": "stderr",
     "output_type": "stream",
     "text": [
      " 21%|██        | 210/1000 [09:46<35:37,  2.71s/it]"
     ]
    },
    {
     "name": "stdout",
     "output_type": "stream",
     "text": [
      "Test MSE: 76.8881, Test MAE: 5.7585, Test R2: 0.1806\n",
      "Epoch 211/1000\n",
      "Train MSE: 85.5877, Train MAE: 5.9284\n"
     ]
    },
    {
     "name": "stderr",
     "output_type": "stream",
     "text": [
      " 21%|██        | 211/1000 [09:49<35:27,  2.70s/it]"
     ]
    },
    {
     "name": "stdout",
     "output_type": "stream",
     "text": [
      "Test MSE: 79.2763, Test MAE: 5.7880, Test R2: 0.1864\n",
      "Epoch 212/1000\n",
      "Train MSE: 84.7246, Train MAE: 5.9416\n"
     ]
    },
    {
     "name": "stderr",
     "output_type": "stream",
     "text": [
      " 21%|██        | 212/1000 [09:52<35:26,  2.70s/it]"
     ]
    },
    {
     "name": "stdout",
     "output_type": "stream",
     "text": [
      "Test MSE: 83.5418, Test MAE: 5.9357, Test R2: 0.2094\n",
      "Epoch 213/1000\n",
      "Train MSE: 82.8486, Train MAE: 5.8650\n"
     ]
    },
    {
     "name": "stderr",
     "output_type": "stream",
     "text": [
      " 21%|██▏       | 213/1000 [09:54<35:16,  2.69s/it]"
     ]
    },
    {
     "name": "stdout",
     "output_type": "stream",
     "text": [
      "Test MSE: 79.8834, Test MAE: 5.8371, Test R2: 0.1468\n",
      "Epoch 214/1000\n",
      "Train MSE: 85.4180, Train MAE: 5.9008\n"
     ]
    },
    {
     "name": "stderr",
     "output_type": "stream",
     "text": [
      " 21%|██▏       | 214/1000 [09:57<35:13,  2.69s/it]"
     ]
    },
    {
     "name": "stdout",
     "output_type": "stream",
     "text": [
      "Test MSE: 84.8542, Test MAE: 5.9210, Test R2: 0.2035\n",
      "Epoch 215/1000\n",
      "Train MSE: 90.4426, Train MAE: 5.9805\n"
     ]
    },
    {
     "name": "stderr",
     "output_type": "stream",
     "text": [
      " 22%|██▏       | 215/1000 [10:00<35:12,  2.69s/it]"
     ]
    },
    {
     "name": "stdout",
     "output_type": "stream",
     "text": [
      "Test MSE: 91.9678, Test MAE: 6.0345, Test R2: 0.1456\n",
      "Epoch 216/1000\n",
      "Train MSE: 85.5351, Train MAE: 5.9311\n"
     ]
    },
    {
     "name": "stderr",
     "output_type": "stream",
     "text": [
      " 22%|██▏       | 216/1000 [10:02<35:07,  2.69s/it]"
     ]
    },
    {
     "name": "stdout",
     "output_type": "stream",
     "text": [
      "Test MSE: 78.7494, Test MAE: 5.9000, Test R2: 0.2022\n",
      "Epoch 217/1000\n",
      "Train MSE: 88.1294, Train MAE: 5.9550\n"
     ]
    },
    {
     "name": "stderr",
     "output_type": "stream",
     "text": [
      " 22%|██▏       | 217/1000 [10:05<35:04,  2.69s/it]"
     ]
    },
    {
     "name": "stdout",
     "output_type": "stream",
     "text": [
      "Test MSE: 79.4751, Test MAE: 5.8274, Test R2: 0.1985\n",
      "Epoch 218/1000\n",
      "Train MSE: 84.8888, Train MAE: 5.8846\n"
     ]
    },
    {
     "name": "stderr",
     "output_type": "stream",
     "text": [
      " 22%|██▏       | 218/1000 [10:08<35:05,  2.69s/it]"
     ]
    },
    {
     "name": "stdout",
     "output_type": "stream",
     "text": [
      "Test MSE: 79.7009, Test MAE: 5.8804, Test R2: 0.2009\n",
      "Epoch 219/1000\n",
      "Train MSE: 84.1093, Train MAE: 5.8108\n"
     ]
    },
    {
     "name": "stderr",
     "output_type": "stream",
     "text": [
      " 22%|██▏       | 219/1000 [10:10<35:08,  2.70s/it]"
     ]
    },
    {
     "name": "stdout",
     "output_type": "stream",
     "text": [
      "Test MSE: 76.2413, Test MAE: 5.7548, Test R2: 0.1874\n",
      "Epoch 220/1000\n",
      "Train MSE: 84.0887, Train MAE: 5.9019\n"
     ]
    },
    {
     "name": "stderr",
     "output_type": "stream",
     "text": [
      " 22%|██▏       | 220/1000 [10:13<35:03,  2.70s/it]"
     ]
    },
    {
     "name": "stdout",
     "output_type": "stream",
     "text": [
      "Test MSE: 74.6296, Test MAE: 5.7622, Test R2: 0.1578\n",
      "Epoch 221/1000\n",
      "Train MSE: 83.4610, Train MAE: 5.8341\n"
     ]
    },
    {
     "name": "stderr",
     "output_type": "stream",
     "text": [
      " 22%|██▏       | 221/1000 [10:16<35:02,  2.70s/it]"
     ]
    },
    {
     "name": "stdout",
     "output_type": "stream",
     "text": [
      "Test MSE: 77.8474, Test MAE: 5.8214, Test R2: 0.1789\n",
      "Epoch 222/1000\n",
      "Train MSE: 89.4997, Train MAE: 5.9688\n"
     ]
    },
    {
     "name": "stderr",
     "output_type": "stream",
     "text": [
      " 22%|██▏       | 222/1000 [10:19<34:58,  2.70s/it]"
     ]
    },
    {
     "name": "stdout",
     "output_type": "stream",
     "text": [
      "Test MSE: 80.1180, Test MAE: 5.8831, Test R2: 0.1757\n",
      "Epoch 223/1000\n",
      "Train MSE: 83.8846, Train MAE: 5.8481\n"
     ]
    },
    {
     "name": "stderr",
     "output_type": "stream",
     "text": [
      " 22%|██▏       | 223/1000 [10:21<34:55,  2.70s/it]"
     ]
    },
    {
     "name": "stdout",
     "output_type": "stream",
     "text": [
      "Test MSE: 75.8090, Test MAE: 5.7437, Test R2: 0.2162\n",
      "Epoch 224/1000\n",
      "Train MSE: 84.5047, Train MAE: 5.8566\n"
     ]
    },
    {
     "name": "stderr",
     "output_type": "stream",
     "text": [
      " 22%|██▏       | 224/1000 [10:24<34:45,  2.69s/it]"
     ]
    },
    {
     "name": "stdout",
     "output_type": "stream",
     "text": [
      "Test MSE: 79.3512, Test MAE: 5.7861, Test R2: 0.1877\n",
      "Epoch 225/1000\n",
      "Train MSE: 84.8420, Train MAE: 5.8617\n"
     ]
    },
    {
     "name": "stderr",
     "output_type": "stream",
     "text": [
      " 22%|██▎       | 225/1000 [10:27<35:13,  2.73s/it]"
     ]
    },
    {
     "name": "stdout",
     "output_type": "stream",
     "text": [
      "Test MSE: 88.0473, Test MAE: 5.9891, Test R2: 0.1355\n",
      "Epoch 226/1000\n",
      "Train MSE: 87.2151, Train MAE: 5.8831\n"
     ]
    },
    {
     "name": "stderr",
     "output_type": "stream",
     "text": [
      " 23%|██▎       | 226/1000 [10:29<35:08,  2.72s/it]"
     ]
    },
    {
     "name": "stdout",
     "output_type": "stream",
     "text": [
      "Test MSE: 81.4514, Test MAE: 5.8583, Test R2: 0.1693\n",
      "Epoch 227/1000\n",
      "Train MSE: 84.1390, Train MAE: 5.8862\n"
     ]
    },
    {
     "name": "stderr",
     "output_type": "stream",
     "text": [
      " 23%|██▎       | 227/1000 [10:32<35:13,  2.73s/it]"
     ]
    },
    {
     "name": "stdout",
     "output_type": "stream",
     "text": [
      "Test MSE: 81.3004, Test MAE: 5.8614, Test R2: 0.1467\n",
      "Epoch 228/1000\n",
      "Train MSE: 84.4384, Train MAE: 5.8930\n"
     ]
    },
    {
     "name": "stderr",
     "output_type": "stream",
     "text": [
      " 23%|██▎       | 228/1000 [10:35<35:11,  2.73s/it]"
     ]
    },
    {
     "name": "stdout",
     "output_type": "stream",
     "text": [
      "Test MSE: 81.6989, Test MAE: 5.8392, Test R2: 0.1559\n",
      "Epoch 229/1000\n",
      "Train MSE: 84.4099, Train MAE: 5.8925\n"
     ]
    },
    {
     "name": "stderr",
     "output_type": "stream",
     "text": [
      " 23%|██▎       | 229/1000 [10:38<35:26,  2.76s/it]"
     ]
    },
    {
     "name": "stdout",
     "output_type": "stream",
     "text": [
      "Test MSE: 84.6127, Test MAE: 5.9478, Test R2: 0.0817\n",
      "Epoch 230/1000\n",
      "Train MSE: 84.8987, Train MAE: 5.9125\n"
     ]
    },
    {
     "name": "stderr",
     "output_type": "stream",
     "text": [
      " 23%|██▎       | 230/1000 [10:40<35:11,  2.74s/it]"
     ]
    },
    {
     "name": "stdout",
     "output_type": "stream",
     "text": [
      "Test MSE: 76.5027, Test MAE: 5.7744, Test R2: 0.1903\n",
      "Epoch 231/1000\n",
      "Train MSE: 82.9324, Train MAE: 5.8547\n"
     ]
    },
    {
     "name": "stderr",
     "output_type": "stream",
     "text": [
      " 23%|██▎       | 231/1000 [10:43<34:50,  2.72s/it]"
     ]
    },
    {
     "name": "stdout",
     "output_type": "stream",
     "text": [
      "Test MSE: 79.4021, Test MAE: 5.8076, Test R2: 0.2088\n",
      "Epoch 232/1000\n",
      "Train MSE: 83.8081, Train MAE: 5.8633\n"
     ]
    },
    {
     "name": "stderr",
     "output_type": "stream",
     "text": [
      " 23%|██▎       | 232/1000 [10:46<34:39,  2.71s/it]"
     ]
    },
    {
     "name": "stdout",
     "output_type": "stream",
     "text": [
      "Test MSE: 80.8933, Test MAE: 5.8827, Test R2: 0.1904\n",
      "Epoch 233/1000\n",
      "Train MSE: 85.4497, Train MAE: 5.8943\n"
     ]
    },
    {
     "name": "stderr",
     "output_type": "stream",
     "text": [
      " 23%|██▎       | 233/1000 [10:49<34:34,  2.70s/it]"
     ]
    },
    {
     "name": "stdout",
     "output_type": "stream",
     "text": [
      "Test MSE: 74.2572, Test MAE: 5.7726, Test R2: 0.1448\n",
      "Epoch 234/1000\n",
      "Train MSE: 85.8707, Train MAE: 5.8848\n"
     ]
    },
    {
     "name": "stderr",
     "output_type": "stream",
     "text": [
      " 23%|██▎       | 234/1000 [10:51<34:39,  2.72s/it]"
     ]
    },
    {
     "name": "stdout",
     "output_type": "stream",
     "text": [
      "Test MSE: 81.1941, Test MAE: 5.8382, Test R2: 0.1975\n",
      "Epoch 235/1000\n",
      "Train MSE: 83.0436, Train MAE: 5.8374\n"
     ]
    },
    {
     "name": "stderr",
     "output_type": "stream",
     "text": [
      " 24%|██▎       | 235/1000 [10:54<34:53,  2.74s/it]"
     ]
    },
    {
     "name": "stdout",
     "output_type": "stream",
     "text": [
      "Test MSE: 77.6097, Test MAE: 5.7949, Test R2: 0.1459\n",
      "Epoch 236/1000\n",
      "Train MSE: 86.5368, Train MAE: 5.8789\n"
     ]
    },
    {
     "name": "stderr",
     "output_type": "stream",
     "text": [
      " 24%|██▎       | 236/1000 [10:57<35:08,  2.76s/it]"
     ]
    },
    {
     "name": "stdout",
     "output_type": "stream",
     "text": [
      "Test MSE: 80.4955, Test MAE: 5.8396, Test R2: 0.2141\n",
      "Epoch 237/1000\n",
      "Train MSE: 81.0405, Train MAE: 5.7987\n"
     ]
    },
    {
     "name": "stderr",
     "output_type": "stream",
     "text": [
      " 24%|██▎       | 237/1000 [11:00<34:36,  2.72s/it]"
     ]
    },
    {
     "name": "stdout",
     "output_type": "stream",
     "text": [
      "Test MSE: 84.1832, Test MAE: 5.9266, Test R2: 0.1925\n",
      "Epoch 238/1000\n",
      "Train MSE: 85.6726, Train MAE: 5.8776\n"
     ]
    },
    {
     "name": "stderr",
     "output_type": "stream",
     "text": [
      " 24%|██▍       | 238/1000 [11:02<34:19,  2.70s/it]"
     ]
    },
    {
     "name": "stdout",
     "output_type": "stream",
     "text": [
      "Test MSE: 79.0987, Test MAE: 5.8544, Test R2: 0.1971\n",
      "Epoch 239/1000\n",
      "Train MSE: 84.1275, Train MAE: 5.8316\n"
     ]
    },
    {
     "name": "stderr",
     "output_type": "stream",
     "text": [
      " 24%|██▍       | 239/1000 [11:05<33:58,  2.68s/it]"
     ]
    },
    {
     "name": "stdout",
     "output_type": "stream",
     "text": [
      "Test MSE: 79.5331, Test MAE: 5.8215, Test R2: 0.1917\n",
      "Epoch 240/1000\n",
      "Train MSE: 83.2982, Train MAE: 5.8719\n"
     ]
    },
    {
     "name": "stderr",
     "output_type": "stream",
     "text": [
      " 24%|██▍       | 240/1000 [11:07<33:53,  2.68s/it]"
     ]
    },
    {
     "name": "stdout",
     "output_type": "stream",
     "text": [
      "Test MSE: 83.2024, Test MAE: 5.9289, Test R2: 0.1224\n",
      "Epoch 241/1000\n",
      "Train MSE: 84.4007, Train MAE: 5.8818\n"
     ]
    },
    {
     "name": "stderr",
     "output_type": "stream",
     "text": [
      " 24%|██▍       | 241/1000 [11:10<33:50,  2.67s/it]"
     ]
    },
    {
     "name": "stdout",
     "output_type": "stream",
     "text": [
      "Test MSE: 80.3106, Test MAE: 5.8418, Test R2: 0.2147\n",
      "Epoch 242/1000\n",
      "Train MSE: 84.3012, Train MAE: 5.8270\n"
     ]
    },
    {
     "name": "stderr",
     "output_type": "stream",
     "text": [
      " 24%|██▍       | 242/1000 [11:13<34:07,  2.70s/it]"
     ]
    },
    {
     "name": "stdout",
     "output_type": "stream",
     "text": [
      "Test MSE: 80.4754, Test MAE: 5.8299, Test R2: 0.1871\n",
      "Epoch 243/1000\n",
      "Train MSE: 85.8844, Train MAE: 5.9092\n"
     ]
    },
    {
     "name": "stderr",
     "output_type": "stream",
     "text": [
      " 24%|██▍       | 243/1000 [11:16<33:57,  2.69s/it]"
     ]
    },
    {
     "name": "stdout",
     "output_type": "stream",
     "text": [
      "Test MSE: 78.0684, Test MAE: 5.7520, Test R2: 0.2317\n",
      "Epoch 244/1000\n",
      "Train MSE: 85.8787, Train MAE: 5.8706\n"
     ]
    },
    {
     "name": "stderr",
     "output_type": "stream",
     "text": [
      " 24%|██▍       | 244/1000 [11:18<33:50,  2.69s/it]"
     ]
    },
    {
     "name": "stdout",
     "output_type": "stream",
     "text": [
      "Test MSE: 78.9392, Test MAE: 5.7954, Test R2: 0.0809\n",
      "Epoch 245/1000\n",
      "Train MSE: 84.4899, Train MAE: 5.8389\n"
     ]
    },
    {
     "name": "stderr",
     "output_type": "stream",
     "text": [
      " 24%|██▍       | 245/1000 [11:21<34:02,  2.71s/it]"
     ]
    },
    {
     "name": "stdout",
     "output_type": "stream",
     "text": [
      "Test MSE: 83.6573, Test MAE: 5.9325, Test R2: 0.0664\n",
      "Epoch 246/1000\n",
      "Train MSE: 82.5792, Train MAE: 5.8253\n"
     ]
    },
    {
     "name": "stderr",
     "output_type": "stream",
     "text": [
      " 25%|██▍       | 246/1000 [11:24<33:53,  2.70s/it]"
     ]
    },
    {
     "name": "stdout",
     "output_type": "stream",
     "text": [
      "Test MSE: 76.4711, Test MAE: 5.7197, Test R2: 0.2439\n",
      "Epoch 247/1000\n",
      "Train MSE: 82.3753, Train MAE: 5.8473\n"
     ]
    },
    {
     "name": "stderr",
     "output_type": "stream",
     "text": [
      " 25%|██▍       | 247/1000 [11:26<33:51,  2.70s/it]"
     ]
    },
    {
     "name": "stdout",
     "output_type": "stream",
     "text": [
      "Test MSE: 74.6754, Test MAE: 5.7111, Test R2: 0.1274\n",
      "Epoch 248/1000\n",
      "Train MSE: 84.5617, Train MAE: 5.7944\n"
     ]
    },
    {
     "name": "stderr",
     "output_type": "stream",
     "text": [
      " 25%|██▍       | 248/1000 [11:29<33:43,  2.69s/it]"
     ]
    },
    {
     "name": "stdout",
     "output_type": "stream",
     "text": [
      "Test MSE: 77.8873, Test MAE: 5.7329, Test R2: 0.2126\n",
      "Epoch 249/1000\n",
      "Train MSE: 85.5428, Train MAE: 5.8793\n"
     ]
    },
    {
     "name": "stderr",
     "output_type": "stream",
     "text": [
      " 25%|██▍       | 249/1000 [11:32<33:53,  2.71s/it]"
     ]
    },
    {
     "name": "stdout",
     "output_type": "stream",
     "text": [
      "Test MSE: 77.1726, Test MAE: 5.7709, Test R2: 0.1718\n",
      "Epoch 250/1000\n",
      "Train MSE: 83.4863, Train MAE: 5.8282\n"
     ]
    },
    {
     "name": "stderr",
     "output_type": "stream",
     "text": [
      " 25%|██▌       | 250/1000 [11:34<33:45,  2.70s/it]"
     ]
    },
    {
     "name": "stdout",
     "output_type": "stream",
     "text": [
      "Test MSE: 77.9718, Test MAE: 5.8416, Test R2: 0.1101\n",
      "Epoch 251/1000\n",
      "Train MSE: 85.6410, Train MAE: 5.8789\n"
     ]
    },
    {
     "name": "stderr",
     "output_type": "stream",
     "text": [
      " 25%|██▌       | 251/1000 [11:37<34:09,  2.74s/it]"
     ]
    },
    {
     "name": "stdout",
     "output_type": "stream",
     "text": [
      "Test MSE: 79.5525, Test MAE: 5.8195, Test R2: 0.1531\n",
      "Epoch 252/1000\n",
      "Train MSE: 86.2100, Train MAE: 5.8892\n"
     ]
    },
    {
     "name": "stderr",
     "output_type": "stream",
     "text": [
      " 25%|██▌       | 252/1000 [11:40<34:17,  2.75s/it]"
     ]
    },
    {
     "name": "stdout",
     "output_type": "stream",
     "text": [
      "Test MSE: 76.2705, Test MAE: 5.7357, Test R2: 0.1695\n",
      "Epoch 253/1000\n",
      "Train MSE: 84.2414, Train MAE: 5.8844\n"
     ]
    },
    {
     "name": "stderr",
     "output_type": "stream",
     "text": [
      " 25%|██▌       | 253/1000 [11:43<34:47,  2.79s/it]"
     ]
    },
    {
     "name": "stdout",
     "output_type": "stream",
     "text": [
      "Test MSE: 78.9348, Test MAE: 5.8142, Test R2: 0.1567\n",
      "Epoch 254/1000\n",
      "Train MSE: 85.1972, Train MAE: 5.8534\n"
     ]
    },
    {
     "name": "stderr",
     "output_type": "stream",
     "text": [
      " 25%|██▌       | 254/1000 [11:46<34:56,  2.81s/it]"
     ]
    },
    {
     "name": "stdout",
     "output_type": "stream",
     "text": [
      "Test MSE: 79.7096, Test MAE: 5.8211, Test R2: 0.1609\n",
      "Epoch 255/1000\n",
      "Train MSE: 86.3529, Train MAE: 5.8544\n"
     ]
    },
    {
     "name": "stderr",
     "output_type": "stream",
     "text": [
      " 26%|██▌       | 255/1000 [11:49<35:08,  2.83s/it]"
     ]
    },
    {
     "name": "stdout",
     "output_type": "stream",
     "text": [
      "Test MSE: 76.2886, Test MAE: 5.7398, Test R2: 0.1911\n",
      "Epoch 256/1000\n",
      "Train MSE: 85.9884, Train MAE: 5.8932\n"
     ]
    },
    {
     "name": "stderr",
     "output_type": "stream",
     "text": [
      " 26%|██▌       | 256/1000 [11:52<35:02,  2.83s/it]"
     ]
    },
    {
     "name": "stdout",
     "output_type": "stream",
     "text": [
      "Test MSE: 78.8346, Test MAE: 5.8024, Test R2: 0.2337\n",
      "Epoch 257/1000\n",
      "Train MSE: 85.2652, Train MAE: 5.9174\n"
     ]
    },
    {
     "name": "stderr",
     "output_type": "stream",
     "text": [
      " 26%|██▌       | 257/1000 [11:54<34:52,  2.82s/it]"
     ]
    },
    {
     "name": "stdout",
     "output_type": "stream",
     "text": [
      "Test MSE: 79.4876, Test MAE: 5.8038, Test R2: 0.2206\n",
      "Epoch 258/1000\n",
      "Train MSE: 84.6334, Train MAE: 5.8870\n"
     ]
    },
    {
     "name": "stderr",
     "output_type": "stream",
     "text": [
      " 26%|██▌       | 258/1000 [11:57<34:32,  2.79s/it]"
     ]
    },
    {
     "name": "stdout",
     "output_type": "stream",
     "text": [
      "Test MSE: 74.1332, Test MAE: 5.6743, Test R2: 0.2083\n",
      "Epoch 259/1000\n",
      "Train MSE: 84.6654, Train MAE: 5.8693\n"
     ]
    },
    {
     "name": "stderr",
     "output_type": "stream",
     "text": [
      " 26%|██▌       | 259/1000 [12:00<34:07,  2.76s/it]"
     ]
    },
    {
     "name": "stdout",
     "output_type": "stream",
     "text": [
      "Test MSE: 77.5552, Test MAE: 5.7697, Test R2: 0.2121\n",
      "Epoch 260/1000\n",
      "Train MSE: 85.6848, Train MAE: 5.8618\n"
     ]
    },
    {
     "name": "stderr",
     "output_type": "stream",
     "text": [
      " 26%|██▌       | 260/1000 [12:02<33:49,  2.74s/it]"
     ]
    },
    {
     "name": "stdout",
     "output_type": "stream",
     "text": [
      "Test MSE: 76.4285, Test MAE: 5.7672, Test R2: 0.1903\n",
      "Epoch 261/1000\n",
      "Train MSE: 83.0417, Train MAE: 5.8377\n"
     ]
    },
    {
     "name": "stderr",
     "output_type": "stream",
     "text": [
      " 26%|██▌       | 261/1000 [12:05<33:25,  2.71s/it]"
     ]
    },
    {
     "name": "stdout",
     "output_type": "stream",
     "text": [
      "Test MSE: 78.0666, Test MAE: 5.7885, Test R2: 0.1778\n",
      "Epoch 262/1000\n",
      "Train MSE: 84.0262, Train MAE: 5.8477\n"
     ]
    },
    {
     "name": "stderr",
     "output_type": "stream",
     "text": [
      " 26%|██▌       | 262/1000 [12:08<33:14,  2.70s/it]"
     ]
    },
    {
     "name": "stdout",
     "output_type": "stream",
     "text": [
      "Test MSE: 80.3704, Test MAE: 5.8266, Test R2: 0.1950\n",
      "Epoch 263/1000\n",
      "Train MSE: 82.7540, Train MAE: 5.7965\n"
     ]
    },
    {
     "name": "stderr",
     "output_type": "stream",
     "text": [
      " 26%|██▋       | 263/1000 [12:10<32:56,  2.68s/it]"
     ]
    },
    {
     "name": "stdout",
     "output_type": "stream",
     "text": [
      "Test MSE: 77.2799, Test MAE: 5.7633, Test R2: 0.1821\n",
      "Epoch 264/1000\n",
      "Train MSE: 86.7936, Train MAE: 5.8895\n"
     ]
    },
    {
     "name": "stderr",
     "output_type": "stream",
     "text": [
      " 26%|██▋       | 264/1000 [12:13<32:49,  2.68s/it]"
     ]
    },
    {
     "name": "stdout",
     "output_type": "stream",
     "text": [
      "Test MSE: 78.8019, Test MAE: 5.8243, Test R2: 0.1103\n",
      "Epoch 265/1000\n",
      "Train MSE: 85.0425, Train MAE: 5.8530\n"
     ]
    },
    {
     "name": "stderr",
     "output_type": "stream",
     "text": [
      " 26%|██▋       | 265/1000 [12:16<32:40,  2.67s/it]"
     ]
    },
    {
     "name": "stdout",
     "output_type": "stream",
     "text": [
      "Test MSE: 79.9584, Test MAE: 5.8311, Test R2: 0.1441\n",
      "Epoch 266/1000\n",
      "Train MSE: 83.7667, Train MAE: 5.8290\n"
     ]
    },
    {
     "name": "stderr",
     "output_type": "stream",
     "text": [
      " 27%|██▋       | 266/1000 [12:18<32:48,  2.68s/it]"
     ]
    },
    {
     "name": "stdout",
     "output_type": "stream",
     "text": [
      "Test MSE: 74.1918, Test MAE: 5.7122, Test R2: 0.1668\n",
      "Epoch 267/1000\n",
      "Train MSE: 83.1476, Train MAE: 5.8095\n"
     ]
    },
    {
     "name": "stderr",
     "output_type": "stream",
     "text": [
      " 27%|██▋       | 267/1000 [12:21<32:41,  2.68s/it]"
     ]
    },
    {
     "name": "stdout",
     "output_type": "stream",
     "text": [
      "Test MSE: 82.1897, Test MAE: 5.8504, Test R2: 0.1514\n",
      "Epoch 268/1000\n",
      "Train MSE: 85.3069, Train MAE: 5.8680\n"
     ]
    },
    {
     "name": "stderr",
     "output_type": "stream",
     "text": [
      " 27%|██▋       | 268/1000 [12:24<33:01,  2.71s/it]"
     ]
    },
    {
     "name": "stdout",
     "output_type": "stream",
     "text": [
      "Test MSE: 83.5945, Test MAE: 5.9131, Test R2: 0.1071\n",
      "Epoch 269/1000\n",
      "Train MSE: 82.6019, Train MAE: 5.8244\n"
     ]
    },
    {
     "name": "stderr",
     "output_type": "stream",
     "text": [
      " 27%|██▋       | 269/1000 [12:27<33:19,  2.74s/it]"
     ]
    },
    {
     "name": "stdout",
     "output_type": "stream",
     "text": [
      "Test MSE: 77.7689, Test MAE: 5.7803, Test R2: 0.2377\n",
      "Epoch 270/1000\n",
      "Train MSE: 84.0970, Train MAE: 5.8496\n"
     ]
    },
    {
     "name": "stderr",
     "output_type": "stream",
     "text": [
      " 27%|██▋       | 270/1000 [12:29<33:29,  2.75s/it]"
     ]
    },
    {
     "name": "stdout",
     "output_type": "stream",
     "text": [
      "Test MSE: 76.6061, Test MAE: 5.7764, Test R2: 0.1661\n",
      "Epoch 271/1000\n",
      "Train MSE: 83.5403, Train MAE: 5.8141\n"
     ]
    },
    {
     "name": "stderr",
     "output_type": "stream",
     "text": [
      " 27%|██▋       | 271/1000 [12:32<33:48,  2.78s/it]"
     ]
    },
    {
     "name": "stdout",
     "output_type": "stream",
     "text": [
      "Test MSE: 76.7708, Test MAE: 5.7536, Test R2: 0.2006\n",
      "Epoch 272/1000\n",
      "Train MSE: 83.8156, Train MAE: 5.8573\n"
     ]
    },
    {
     "name": "stderr",
     "output_type": "stream",
     "text": [
      " 27%|██▋       | 272/1000 [12:35<34:00,  2.80s/it]"
     ]
    },
    {
     "name": "stdout",
     "output_type": "stream",
     "text": [
      "Test MSE: 75.5908, Test MAE: 5.7624, Test R2: 0.1530\n",
      "Epoch 273/1000\n",
      "Train MSE: 81.2197, Train MAE: 5.7990\n"
     ]
    },
    {
     "name": "stderr",
     "output_type": "stream",
     "text": [
      " 27%|██▋       | 273/1000 [12:38<34:12,  2.82s/it]"
     ]
    },
    {
     "name": "stdout",
     "output_type": "stream",
     "text": [
      "Test MSE: 76.6114, Test MAE: 5.7524, Test R2: 0.1802\n",
      "Epoch 274/1000\n",
      "Train MSE: 84.7711, Train MAE: 5.8623\n"
     ]
    },
    {
     "name": "stderr",
     "output_type": "stream",
     "text": [
      " 27%|██▋       | 274/1000 [12:41<34:01,  2.81s/it]"
     ]
    },
    {
     "name": "stdout",
     "output_type": "stream",
     "text": [
      "Test MSE: 76.1665, Test MAE: 5.7249, Test R2: 0.1817\n",
      "Epoch 275/1000\n",
      "Train MSE: 84.5568, Train MAE: 5.8401\n"
     ]
    },
    {
     "name": "stderr",
     "output_type": "stream",
     "text": [
      " 28%|██▊       | 275/1000 [12:44<34:05,  2.82s/it]"
     ]
    },
    {
     "name": "stdout",
     "output_type": "stream",
     "text": [
      "Test MSE: 78.5447, Test MAE: 5.8233, Test R2: 0.1673\n",
      "Epoch 276/1000\n",
      "Train MSE: 85.7328, Train MAE: 5.9214\n"
     ]
    },
    {
     "name": "stderr",
     "output_type": "stream",
     "text": [
      " 28%|██▊       | 276/1000 [12:46<33:50,  2.81s/it]"
     ]
    },
    {
     "name": "stdout",
     "output_type": "stream",
     "text": [
      "Test MSE: 78.8358, Test MAE: 5.7860, Test R2: 0.1921\n",
      "Epoch 277/1000\n",
      "Train MSE: 83.7441, Train MAE: 5.8273\n"
     ]
    },
    {
     "name": "stderr",
     "output_type": "stream",
     "text": [
      " 28%|██▊       | 277/1000 [12:49<34:05,  2.83s/it]"
     ]
    },
    {
     "name": "stdout",
     "output_type": "stream",
     "text": [
      "Test MSE: 79.1071, Test MAE: 5.8548, Test R2: 0.0446\n",
      "Epoch 278/1000\n",
      "Train MSE: 84.5935, Train MAE: 5.8469\n"
     ]
    },
    {
     "name": "stderr",
     "output_type": "stream",
     "text": [
      " 28%|██▊       | 278/1000 [12:52<34:20,  2.85s/it]"
     ]
    },
    {
     "name": "stdout",
     "output_type": "stream",
     "text": [
      "Test MSE: 77.6037, Test MAE: 5.7797, Test R2: 0.2084\n",
      "Epoch 279/1000\n",
      "Train MSE: 83.2629, Train MAE: 5.8094\n"
     ]
    },
    {
     "name": "stderr",
     "output_type": "stream",
     "text": [
      " 28%|██▊       | 279/1000 [12:55<34:21,  2.86s/it]"
     ]
    },
    {
     "name": "stdout",
     "output_type": "stream",
     "text": [
      "Test MSE: 79.4674, Test MAE: 5.8014, Test R2: 0.0746\n",
      "Epoch 280/1000\n",
      "Train MSE: 84.7649, Train MAE: 5.8558\n"
     ]
    },
    {
     "name": "stderr",
     "output_type": "stream",
     "text": [
      " 28%|██▊       | 280/1000 [12:58<34:27,  2.87s/it]"
     ]
    },
    {
     "name": "stdout",
     "output_type": "stream",
     "text": [
      "Test MSE: 78.0114, Test MAE: 5.7517, Test R2: 0.1730\n",
      "Epoch 281/1000\n",
      "Train MSE: 83.5255, Train MAE: 5.8196\n"
     ]
    },
    {
     "name": "stderr",
     "output_type": "stream",
     "text": [
      " 28%|██▊       | 281/1000 [13:01<34:25,  2.87s/it]"
     ]
    },
    {
     "name": "stdout",
     "output_type": "stream",
     "text": [
      "Test MSE: 78.5415, Test MAE: 5.7822, Test R2: 0.1272\n",
      "Epoch 282/1000\n",
      "Train MSE: 81.7327, Train MAE: 5.8013\n"
     ]
    },
    {
     "name": "stderr",
     "output_type": "stream",
     "text": [
      " 28%|██▊       | 282/1000 [13:04<34:29,  2.88s/it]"
     ]
    },
    {
     "name": "stdout",
     "output_type": "stream",
     "text": [
      "Test MSE: 79.7048, Test MAE: 5.8089, Test R2: 0.1446\n",
      "Epoch 283/1000\n",
      "Train MSE: 85.5665, Train MAE: 5.8502\n"
     ]
    },
    {
     "name": "stderr",
     "output_type": "stream",
     "text": [
      " 28%|██▊       | 283/1000 [13:07<34:27,  2.88s/it]"
     ]
    },
    {
     "name": "stdout",
     "output_type": "stream",
     "text": [
      "Test MSE: 78.2619, Test MAE: 5.8178, Test R2: 0.1082\n",
      "Epoch 284/1000\n",
      "Train MSE: 81.0821, Train MAE: 5.7845\n"
     ]
    },
    {
     "name": "stderr",
     "output_type": "stream",
     "text": [
      " 28%|██▊       | 284/1000 [13:10<34:46,  2.91s/it]"
     ]
    },
    {
     "name": "stdout",
     "output_type": "stream",
     "text": [
      "Test MSE: 76.3606, Test MAE: 5.7701, Test R2: 0.1661\n",
      "Epoch 285/1000\n",
      "Train MSE: 84.2749, Train MAE: 5.8301\n"
     ]
    },
    {
     "name": "stderr",
     "output_type": "stream",
     "text": [
      " 28%|██▊       | 285/1000 [13:13<34:39,  2.91s/it]"
     ]
    },
    {
     "name": "stdout",
     "output_type": "stream",
     "text": [
      "Test MSE: 77.5266, Test MAE: 5.7720, Test R2: 0.1680\n",
      "Epoch 286/1000\n",
      "Train MSE: 82.2357, Train MAE: 5.7615\n"
     ]
    },
    {
     "name": "stderr",
     "output_type": "stream",
     "text": [
      " 29%|██▊       | 286/1000 [13:15<34:27,  2.90s/it]"
     ]
    },
    {
     "name": "stdout",
     "output_type": "stream",
     "text": [
      "Test MSE: 83.6504, Test MAE: 5.8815, Test R2: 0.1593\n",
      "Epoch 287/1000\n",
      "Train MSE: 83.8780, Train MAE: 5.8103\n"
     ]
    },
    {
     "name": "stderr",
     "output_type": "stream",
     "text": [
      " 29%|██▊       | 287/1000 [13:18<34:18,  2.89s/it]"
     ]
    },
    {
     "name": "stdout",
     "output_type": "stream",
     "text": [
      "Test MSE: 75.1012, Test MAE: 5.7606, Test R2: 0.1778\n",
      "Epoch 288/1000\n",
      "Train MSE: 84.5339, Train MAE: 5.7933\n"
     ]
    },
    {
     "name": "stderr",
     "output_type": "stream",
     "text": [
      " 29%|██▉       | 288/1000 [13:21<34:03,  2.87s/it]"
     ]
    },
    {
     "name": "stdout",
     "output_type": "stream",
     "text": [
      "Test MSE: 76.8991, Test MAE: 5.7760, Test R2: 0.1696\n",
      "Epoch 289/1000\n",
      "Train MSE: 85.3824, Train MAE: 5.9130\n"
     ]
    },
    {
     "name": "stderr",
     "output_type": "stream",
     "text": [
      " 29%|██▉       | 289/1000 [13:24<34:04,  2.88s/it]"
     ]
    },
    {
     "name": "stdout",
     "output_type": "stream",
     "text": [
      "Test MSE: 74.3889, Test MAE: 5.6801, Test R2: 0.2172\n",
      "Epoch 290/1000\n",
      "Train MSE: 83.8432, Train MAE: 5.7964\n"
     ]
    },
    {
     "name": "stderr",
     "output_type": "stream",
     "text": [
      " 29%|██▉       | 290/1000 [13:27<33:49,  2.86s/it]"
     ]
    },
    {
     "name": "stdout",
     "output_type": "stream",
     "text": [
      "Test MSE: 84.6567, Test MAE: 5.8997, Test R2: 0.2024\n",
      "Epoch 291/1000\n",
      "Train MSE: 82.4371, Train MAE: 5.7969\n"
     ]
    },
    {
     "name": "stderr",
     "output_type": "stream",
     "text": [
      " 29%|██▉       | 291/1000 [13:30<33:47,  2.86s/it]"
     ]
    },
    {
     "name": "stdout",
     "output_type": "stream",
     "text": [
      "Test MSE: 74.1683, Test MAE: 5.7282, Test R2: 0.1453\n",
      "Epoch 292/1000\n",
      "Train MSE: 82.4456, Train MAE: 5.7779\n"
     ]
    },
    {
     "name": "stderr",
     "output_type": "stream",
     "text": [
      " 29%|██▉       | 292/1000 [13:33<33:43,  2.86s/it]"
     ]
    },
    {
     "name": "stdout",
     "output_type": "stream",
     "text": [
      "Test MSE: 81.7461, Test MAE: 5.8221, Test R2: 0.1675\n",
      "Epoch 293/1000\n",
      "Train MSE: 82.1539, Train MAE: 5.7859\n"
     ]
    },
    {
     "name": "stderr",
     "output_type": "stream",
     "text": [
      " 29%|██▉       | 293/1000 [13:35<33:39,  2.86s/it]"
     ]
    },
    {
     "name": "stdout",
     "output_type": "stream",
     "text": [
      "Test MSE: 80.5344, Test MAE: 5.8113, Test R2: 0.1819\n",
      "Epoch 294/1000\n",
      "Train MSE: 85.3484, Train MAE: 5.8520\n"
     ]
    },
    {
     "name": "stderr",
     "output_type": "stream",
     "text": [
      " 29%|██▉       | 294/1000 [13:38<33:41,  2.86s/it]"
     ]
    },
    {
     "name": "stdout",
     "output_type": "stream",
     "text": [
      "Test MSE: 78.3305, Test MAE: 5.7763, Test R2: 0.2193\n",
      "Epoch 295/1000\n",
      "Train MSE: 80.6852, Train MAE: 5.7561\n"
     ]
    },
    {
     "name": "stderr",
     "output_type": "stream",
     "text": [
      " 30%|██▉       | 295/1000 [13:41<33:48,  2.88s/it]"
     ]
    },
    {
     "name": "stdout",
     "output_type": "stream",
     "text": [
      "Test MSE: 83.3346, Test MAE: 5.8894, Test R2: 0.0904\n",
      "Epoch 296/1000\n",
      "Train MSE: 82.5972, Train MAE: 5.7587\n"
     ]
    },
    {
     "name": "stderr",
     "output_type": "stream",
     "text": [
      " 30%|██▉       | 296/1000 [13:44<33:58,  2.90s/it]"
     ]
    },
    {
     "name": "stdout",
     "output_type": "stream",
     "text": [
      "Test MSE: 75.1186, Test MAE: 5.6958, Test R2: 0.1430\n",
      "Epoch 297/1000\n",
      "Train MSE: 84.7248, Train MAE: 5.8397\n"
     ]
    },
    {
     "name": "stderr",
     "output_type": "stream",
     "text": [
      " 30%|██▉       | 297/1000 [13:47<33:59,  2.90s/it]"
     ]
    },
    {
     "name": "stdout",
     "output_type": "stream",
     "text": [
      "Test MSE: 75.7037, Test MAE: 5.7771, Test R2: 0.0996\n",
      "Epoch 298/1000\n",
      "Train MSE: 82.6273, Train MAE: 5.7792\n"
     ]
    },
    {
     "name": "stderr",
     "output_type": "stream",
     "text": [
      " 30%|██▉       | 298/1000 [13:50<34:03,  2.91s/it]"
     ]
    },
    {
     "name": "stdout",
     "output_type": "stream",
     "text": [
      "Test MSE: 74.2714, Test MAE: 5.6748, Test R2: 0.1228\n",
      "Epoch 299/1000\n",
      "Train MSE: 83.4074, Train MAE: 5.8536\n"
     ]
    },
    {
     "name": "stderr",
     "output_type": "stream",
     "text": [
      " 30%|██▉       | 299/1000 [13:53<33:47,  2.89s/it]"
     ]
    },
    {
     "name": "stdout",
     "output_type": "stream",
     "text": [
      "Test MSE: 82.8609, Test MAE: 5.9271, Test R2: 0.1141\n",
      "Epoch 300/1000\n",
      "Train MSE: 81.8907, Train MAE: 5.7930\n"
     ]
    },
    {
     "name": "stderr",
     "output_type": "stream",
     "text": [
      " 30%|███       | 300/1000 [13:56<33:32,  2.87s/it]"
     ]
    },
    {
     "name": "stdout",
     "output_type": "stream",
     "text": [
      "Test MSE: 74.6762, Test MAE: 5.6744, Test R2: 0.1596\n",
      "Epoch 301/1000\n",
      "Train MSE: 80.3236, Train MAE: 5.7842\n"
     ]
    },
    {
     "name": "stderr",
     "output_type": "stream",
     "text": [
      " 30%|███       | 301/1000 [13:58<33:26,  2.87s/it]"
     ]
    },
    {
     "name": "stdout",
     "output_type": "stream",
     "text": [
      "Test MSE: 75.5136, Test MAE: 5.6980, Test R2: 0.1866\n",
      "Epoch 302/1000\n",
      "Train MSE: 82.3669, Train MAE: 5.8254\n"
     ]
    },
    {
     "name": "stderr",
     "output_type": "stream",
     "text": [
      " 30%|███       | 302/1000 [14:01<33:14,  2.86s/it]"
     ]
    },
    {
     "name": "stdout",
     "output_type": "stream",
     "text": [
      "Test MSE: 74.9067, Test MAE: 5.6912, Test R2: 0.1620\n",
      "Epoch 303/1000\n",
      "Train MSE: 82.2544, Train MAE: 5.8000\n"
     ]
    },
    {
     "name": "stderr",
     "output_type": "stream",
     "text": [
      " 30%|███       | 303/1000 [14:04<33:13,  2.86s/it]"
     ]
    },
    {
     "name": "stdout",
     "output_type": "stream",
     "text": [
      "Test MSE: 82.8899, Test MAE: 5.8661, Test R2: 0.2088\n",
      "Epoch 304/1000\n",
      "Train MSE: 83.6391, Train MAE: 5.7934\n"
     ]
    },
    {
     "name": "stderr",
     "output_type": "stream",
     "text": [
      " 30%|███       | 304/1000 [14:07<33:07,  2.86s/it]"
     ]
    },
    {
     "name": "stdout",
     "output_type": "stream",
     "text": [
      "Test MSE: 76.2019, Test MAE: 5.7174, Test R2: 0.2088\n",
      "Epoch 305/1000\n",
      "Train MSE: 84.6049, Train MAE: 5.8496\n"
     ]
    },
    {
     "name": "stderr",
     "output_type": "stream",
     "text": [
      " 30%|███       | 305/1000 [14:10<33:22,  2.88s/it]"
     ]
    },
    {
     "name": "stdout",
     "output_type": "stream",
     "text": [
      "Test MSE: 76.6647, Test MAE: 5.7646, Test R2: 0.2372\n",
      "Epoch 306/1000\n",
      "Train MSE: 81.8322, Train MAE: 5.8139\n"
     ]
    },
    {
     "name": "stderr",
     "output_type": "stream",
     "text": [
      " 31%|███       | 306/1000 [14:13<33:08,  2.86s/it]"
     ]
    },
    {
     "name": "stdout",
     "output_type": "stream",
     "text": [
      "Test MSE: 73.6672, Test MAE: 5.7178, Test R2: 0.2061\n",
      "Epoch 307/1000\n",
      "Train MSE: 84.4436, Train MAE: 5.8423\n"
     ]
    },
    {
     "name": "stderr",
     "output_type": "stream",
     "text": [
      " 31%|███       | 307/1000 [14:16<32:56,  2.85s/it]"
     ]
    },
    {
     "name": "stdout",
     "output_type": "stream",
     "text": [
      "Test MSE: 78.9623, Test MAE: 5.8078, Test R2: 0.2266\n",
      "Epoch 308/1000\n",
      "Train MSE: 84.7945, Train MAE: 5.8298\n"
     ]
    },
    {
     "name": "stderr",
     "output_type": "stream",
     "text": [
      " 31%|███       | 308/1000 [14:18<32:50,  2.85s/it]"
     ]
    },
    {
     "name": "stdout",
     "output_type": "stream",
     "text": [
      "Test MSE: 83.1255, Test MAE: 5.8615, Test R2: 0.1785\n",
      "Epoch 309/1000\n",
      "Train MSE: 80.5110, Train MAE: 5.7763\n"
     ]
    },
    {
     "name": "stderr",
     "output_type": "stream",
     "text": [
      " 31%|███       | 309/1000 [14:21<32:43,  2.84s/it]"
     ]
    },
    {
     "name": "stdout",
     "output_type": "stream",
     "text": [
      "Test MSE: 76.6802, Test MAE: 5.8059, Test R2: 0.1668\n",
      "Epoch 310/1000\n",
      "Train MSE: 81.5355, Train MAE: 5.7317\n"
     ]
    },
    {
     "name": "stderr",
     "output_type": "stream",
     "text": [
      " 31%|███       | 310/1000 [14:24<32:37,  2.84s/it]"
     ]
    },
    {
     "name": "stdout",
     "output_type": "stream",
     "text": [
      "Test MSE: 75.9624, Test MAE: 5.7396, Test R2: 0.1126\n",
      "Epoch 311/1000\n",
      "Train MSE: 81.4145, Train MAE: 5.7977\n"
     ]
    },
    {
     "name": "stderr",
     "output_type": "stream",
     "text": [
      " 31%|███       | 311/1000 [14:27<32:13,  2.81s/it]"
     ]
    },
    {
     "name": "stdout",
     "output_type": "stream",
     "text": [
      "Test MSE: 79.7535, Test MAE: 5.8196, Test R2: 0.1667\n",
      "Epoch 312/1000\n",
      "Train MSE: 83.0796, Train MAE: 5.7971\n"
     ]
    },
    {
     "name": "stderr",
     "output_type": "stream",
     "text": [
      " 31%|███       | 312/1000 [14:30<32:34,  2.84s/it]"
     ]
    },
    {
     "name": "stdout",
     "output_type": "stream",
     "text": [
      "Test MSE: 78.6534, Test MAE: 5.8192, Test R2: 0.1455\n",
      "Epoch 313/1000\n",
      "Train MSE: 84.3622, Train MAE: 5.8159\n"
     ]
    },
    {
     "name": "stderr",
     "output_type": "stream",
     "text": [
      " 31%|███▏      | 313/1000 [14:33<32:33,  2.84s/it]"
     ]
    },
    {
     "name": "stdout",
     "output_type": "stream",
     "text": [
      "Test MSE: 79.6761, Test MAE: 5.7984, Test R2: 0.2327\n",
      "Epoch 314/1000\n",
      "Train MSE: 83.6883, Train MAE: 5.8452\n"
     ]
    },
    {
     "name": "stderr",
     "output_type": "stream",
     "text": [
      " 31%|███▏      | 314/1000 [14:35<32:26,  2.84s/it]"
     ]
    },
    {
     "name": "stdout",
     "output_type": "stream",
     "text": [
      "Test MSE: 76.9773, Test MAE: 5.7525, Test R2: 0.2086\n",
      "Epoch 315/1000\n",
      "Train MSE: 86.0422, Train MAE: 5.8458\n"
     ]
    },
    {
     "name": "stderr",
     "output_type": "stream",
     "text": [
      " 32%|███▏      | 315/1000 [14:38<32:10,  2.82s/it]"
     ]
    },
    {
     "name": "stdout",
     "output_type": "stream",
     "text": [
      "Test MSE: 76.1487, Test MAE: 5.7348, Test R2: 0.2042\n",
      "Epoch 316/1000\n",
      "Train MSE: 82.5623, Train MAE: 5.8078\n"
     ]
    },
    {
     "name": "stderr",
     "output_type": "stream",
     "text": [
      " 32%|███▏      | 316/1000 [14:41<32:08,  2.82s/it]"
     ]
    },
    {
     "name": "stdout",
     "output_type": "stream",
     "text": [
      "Test MSE: 80.4070, Test MAE: 5.7948, Test R2: 0.1779\n",
      "Epoch 317/1000\n",
      "Train MSE: 79.4191, Train MAE: 5.7056\n"
     ]
    },
    {
     "name": "stderr",
     "output_type": "stream",
     "text": [
      " 32%|███▏      | 317/1000 [14:44<32:06,  2.82s/it]"
     ]
    },
    {
     "name": "stdout",
     "output_type": "stream",
     "text": [
      "Test MSE: 78.9098, Test MAE: 5.7821, Test R2: 0.2193\n",
      "Epoch 318/1000\n",
      "Train MSE: 82.7693, Train MAE: 5.7702\n"
     ]
    },
    {
     "name": "stderr",
     "output_type": "stream",
     "text": [
      " 32%|███▏      | 318/1000 [14:47<31:50,  2.80s/it]"
     ]
    },
    {
     "name": "stdout",
     "output_type": "stream",
     "text": [
      "Test MSE: 78.8516, Test MAE: 5.7863, Test R2: 0.2258\n",
      "Epoch 319/1000\n",
      "Train MSE: 79.6681, Train MAE: 5.7463\n"
     ]
    },
    {
     "name": "stderr",
     "output_type": "stream",
     "text": [
      " 32%|███▏      | 319/1000 [14:49<31:45,  2.80s/it]"
     ]
    },
    {
     "name": "stdout",
     "output_type": "stream",
     "text": [
      "Test MSE: 74.2133, Test MAE: 5.6611, Test R2: 0.1976\n",
      "Epoch 320/1000\n",
      "Train MSE: 80.9350, Train MAE: 5.7525\n"
     ]
    },
    {
     "name": "stderr",
     "output_type": "stream",
     "text": [
      " 32%|███▏      | 320/1000 [14:52<31:46,  2.80s/it]"
     ]
    },
    {
     "name": "stdout",
     "output_type": "stream",
     "text": [
      "Test MSE: 77.1726, Test MAE: 5.7993, Test R2: 0.1699\n",
      "Epoch 321/1000\n",
      "Train MSE: 83.1841, Train MAE: 5.8477\n"
     ]
    },
    {
     "name": "stderr",
     "output_type": "stream",
     "text": [
      " 32%|███▏      | 321/1000 [14:55<31:59,  2.83s/it]"
     ]
    },
    {
     "name": "stdout",
     "output_type": "stream",
     "text": [
      "Test MSE: 73.1209, Test MAE: 5.6576, Test R2: 0.1765\n",
      "Epoch 322/1000\n",
      "Train MSE: 80.9839, Train MAE: 5.7574\n"
     ]
    },
    {
     "name": "stderr",
     "output_type": "stream",
     "text": [
      " 32%|███▏      | 322/1000 [14:58<32:14,  2.85s/it]"
     ]
    },
    {
     "name": "stdout",
     "output_type": "stream",
     "text": [
      "Test MSE: 75.8598, Test MAE: 5.7197, Test R2: 0.1784\n",
      "Epoch 323/1000\n",
      "Train MSE: 81.5979, Train MAE: 5.7778\n"
     ]
    },
    {
     "name": "stderr",
     "output_type": "stream",
     "text": [
      " 32%|███▏      | 323/1000 [15:01<32:10,  2.85s/it]"
     ]
    },
    {
     "name": "stdout",
     "output_type": "stream",
     "text": [
      "Test MSE: 75.8124, Test MAE: 5.7335, Test R2: -0.1450\n",
      "Epoch 324/1000\n",
      "Train MSE: 81.6494, Train MAE: 5.7641\n"
     ]
    },
    {
     "name": "stderr",
     "output_type": "stream",
     "text": [
      " 32%|███▏      | 324/1000 [15:04<32:20,  2.87s/it]"
     ]
    },
    {
     "name": "stdout",
     "output_type": "stream",
     "text": [
      "Test MSE: 79.7099, Test MAE: 5.8266, Test R2: 0.1963\n",
      "Epoch 325/1000\n",
      "Train MSE: 83.1310, Train MAE: 5.7771\n"
     ]
    },
    {
     "name": "stderr",
     "output_type": "stream",
     "text": [
      " 32%|███▎      | 325/1000 [15:07<31:53,  2.83s/it]"
     ]
    },
    {
     "name": "stdout",
     "output_type": "stream",
     "text": [
      "Test MSE: 75.6579, Test MAE: 5.6935, Test R2: 0.1595\n",
      "Epoch 326/1000\n",
      "Train MSE: 79.1095, Train MAE: 5.7037\n"
     ]
    },
    {
     "name": "stderr",
     "output_type": "stream",
     "text": [
      " 33%|███▎      | 326/1000 [15:09<32:07,  2.86s/it]"
     ]
    },
    {
     "name": "stdout",
     "output_type": "stream",
     "text": [
      "Test MSE: 76.3875, Test MAE: 5.7344, Test R2: 0.0960\n",
      "Epoch 327/1000\n",
      "Train MSE: 85.4505, Train MAE: 5.8345\n"
     ]
    },
    {
     "name": "stderr",
     "output_type": "stream",
     "text": [
      " 33%|███▎      | 327/1000 [15:12<32:06,  2.86s/it]"
     ]
    },
    {
     "name": "stdout",
     "output_type": "stream",
     "text": [
      "Test MSE: 75.7721, Test MAE: 5.7385, Test R2: 0.2105\n",
      "Epoch 328/1000\n",
      "Train MSE: 80.3262, Train MAE: 5.7089\n"
     ]
    },
    {
     "name": "stderr",
     "output_type": "stream",
     "text": [
      " 33%|███▎      | 328/1000 [15:15<32:12,  2.88s/it]"
     ]
    },
    {
     "name": "stdout",
     "output_type": "stream",
     "text": [
      "Test MSE: 79.6436, Test MAE: 5.7964, Test R2: 0.2216\n",
      "Epoch 329/1000\n",
      "Train MSE: 82.9329, Train MAE: 5.8328\n"
     ]
    },
    {
     "name": "stderr",
     "output_type": "stream",
     "text": [
      " 33%|███▎      | 329/1000 [15:18<32:12,  2.88s/it]"
     ]
    },
    {
     "name": "stdout",
     "output_type": "stream",
     "text": [
      "Test MSE: 78.0507, Test MAE: 5.7835, Test R2: 0.1853\n",
      "Epoch 330/1000\n",
      "Train MSE: 81.6622, Train MAE: 5.7828\n"
     ]
    },
    {
     "name": "stderr",
     "output_type": "stream",
     "text": [
      " 33%|███▎      | 330/1000 [15:21<32:21,  2.90s/it]"
     ]
    },
    {
     "name": "stdout",
     "output_type": "stream",
     "text": [
      "Test MSE: 74.9334, Test MAE: 5.7428, Test R2: 0.1743\n",
      "Epoch 331/1000\n",
      "Train MSE: 82.3283, Train MAE: 5.8060\n"
     ]
    },
    {
     "name": "stderr",
     "output_type": "stream",
     "text": [
      " 33%|███▎      | 331/1000 [15:24<32:18,  2.90s/it]"
     ]
    },
    {
     "name": "stdout",
     "output_type": "stream",
     "text": [
      "Test MSE: 75.4215, Test MAE: 5.7202, Test R2: 0.2288\n",
      "Epoch 332/1000\n",
      "Train MSE: 83.3383, Train MAE: 5.8271\n"
     ]
    },
    {
     "name": "stderr",
     "output_type": "stream",
     "text": [
      " 33%|███▎      | 332/1000 [15:27<32:36,  2.93s/it]"
     ]
    },
    {
     "name": "stdout",
     "output_type": "stream",
     "text": [
      "Test MSE: 79.5817, Test MAE: 5.8080, Test R2: 0.2166\n",
      "Epoch 333/1000\n",
      "Train MSE: 82.3763, Train MAE: 5.7793\n"
     ]
    },
    {
     "name": "stderr",
     "output_type": "stream",
     "text": [
      " 33%|███▎      | 333/1000 [15:30<32:51,  2.96s/it]"
     ]
    },
    {
     "name": "stdout",
     "output_type": "stream",
     "text": [
      "Test MSE: 78.8973, Test MAE: 5.7679, Test R2: 0.1768\n",
      "Epoch 334/1000\n",
      "Train MSE: 80.8259, Train MAE: 5.7582\n"
     ]
    },
    {
     "name": "stderr",
     "output_type": "stream",
     "text": [
      " 33%|███▎      | 334/1000 [15:33<32:58,  2.97s/it]"
     ]
    },
    {
     "name": "stdout",
     "output_type": "stream",
     "text": [
      "Test MSE: 75.6461, Test MAE: 5.7131, Test R2: 0.1661\n",
      "Epoch 335/1000\n",
      "Train MSE: 83.7567, Train MAE: 5.8342\n"
     ]
    },
    {
     "name": "stderr",
     "output_type": "stream",
     "text": [
      " 34%|███▎      | 335/1000 [15:36<32:38,  2.95s/it]"
     ]
    },
    {
     "name": "stdout",
     "output_type": "stream",
     "text": [
      "Test MSE: 71.5251, Test MAE: 5.5821, Test R2: 0.1702\n",
      "Epoch 336/1000\n",
      "Train MSE: 83.6205, Train MAE: 5.7960\n"
     ]
    },
    {
     "name": "stderr",
     "output_type": "stream",
     "text": [
      " 34%|███▎      | 336/1000 [15:39<32:12,  2.91s/it]"
     ]
    },
    {
     "name": "stdout",
     "output_type": "stream",
     "text": [
      "Test MSE: 78.7117, Test MAE: 5.7902, Test R2: 0.2011\n",
      "Epoch 337/1000\n",
      "Train MSE: 81.8855, Train MAE: 5.8103\n"
     ]
    },
    {
     "name": "stderr",
     "output_type": "stream",
     "text": [
      " 34%|███▎      | 337/1000 [15:42<32:12,  2.91s/it]"
     ]
    },
    {
     "name": "stdout",
     "output_type": "stream",
     "text": [
      "Test MSE: 74.0291, Test MAE: 5.6456, Test R2: 0.2345\n",
      "Epoch 338/1000\n",
      "Train MSE: 81.6220, Train MAE: 5.7432\n"
     ]
    },
    {
     "name": "stderr",
     "output_type": "stream",
     "text": [
      " 34%|███▍      | 338/1000 [15:45<32:18,  2.93s/it]"
     ]
    },
    {
     "name": "stdout",
     "output_type": "stream",
     "text": [
      "Test MSE: 79.5620, Test MAE: 5.7649, Test R2: 0.2252\n",
      "Epoch 339/1000\n",
      "Train MSE: 79.5921, Train MAE: 5.7139\n"
     ]
    },
    {
     "name": "stderr",
     "output_type": "stream",
     "text": [
      " 34%|███▍      | 339/1000 [15:47<31:50,  2.89s/it]"
     ]
    },
    {
     "name": "stdout",
     "output_type": "stream",
     "text": [
      "Test MSE: 77.5955, Test MAE: 5.7375, Test R2: 0.2167\n",
      "Epoch 340/1000\n",
      "Train MSE: 83.4211, Train MAE: 5.8089\n"
     ]
    },
    {
     "name": "stderr",
     "output_type": "stream",
     "text": [
      " 34%|███▍      | 340/1000 [15:50<31:22,  2.85s/it]"
     ]
    },
    {
     "name": "stdout",
     "output_type": "stream",
     "text": [
      "Test MSE: 74.9669, Test MAE: 5.7203, Test R2: 0.1100\n",
      "Epoch 341/1000\n",
      "Train MSE: 80.5975, Train MAE: 5.7138\n"
     ]
    },
    {
     "name": "stderr",
     "output_type": "stream",
     "text": [
      " 34%|███▍      | 341/1000 [15:53<31:01,  2.82s/it]"
     ]
    },
    {
     "name": "stdout",
     "output_type": "stream",
     "text": [
      "Test MSE: 77.1602, Test MAE: 5.7370, Test R2: 0.1602\n",
      "Epoch 342/1000\n",
      "Train MSE: 84.5757, Train MAE: 5.8743\n"
     ]
    },
    {
     "name": "stderr",
     "output_type": "stream",
     "text": [
      " 34%|███▍      | 342/1000 [15:56<31:22,  2.86s/it]"
     ]
    },
    {
     "name": "stdout",
     "output_type": "stream",
     "text": [
      "Test MSE: 78.6744, Test MAE: 5.8149, Test R2: 0.1206\n",
      "Epoch 343/1000\n",
      "Train MSE: 81.2333, Train MAE: 5.7349\n"
     ]
    },
    {
     "name": "stderr",
     "output_type": "stream",
     "text": [
      " 34%|███▍      | 343/1000 [15:59<31:30,  2.88s/it]"
     ]
    },
    {
     "name": "stdout",
     "output_type": "stream",
     "text": [
      "Test MSE: 77.1441, Test MAE: 5.7579, Test R2: 0.1051\n",
      "Epoch 344/1000\n",
      "Train MSE: 82.9043, Train MAE: 5.7655\n"
     ]
    },
    {
     "name": "stderr",
     "output_type": "stream",
     "text": [
      " 34%|███▍      | 344/1000 [16:02<31:29,  2.88s/it]"
     ]
    },
    {
     "name": "stdout",
     "output_type": "stream",
     "text": [
      "Test MSE: 84.2602, Test MAE: 5.8731, Test R2: 0.1101\n",
      "Epoch 345/1000\n",
      "Train MSE: 83.3670, Train MAE: 5.8033\n"
     ]
    },
    {
     "name": "stderr",
     "output_type": "stream",
     "text": [
      " 34%|███▍      | 345/1000 [16:04<31:06,  2.85s/it]"
     ]
    },
    {
     "name": "stdout",
     "output_type": "stream",
     "text": [
      "Test MSE: 77.6040, Test MAE: 5.7689, Test R2: 0.1391\n",
      "Epoch 346/1000\n",
      "Train MSE: 81.0232, Train MAE: 5.7541\n"
     ]
    },
    {
     "name": "stderr",
     "output_type": "stream",
     "text": [
      " 35%|███▍      | 346/1000 [16:07<31:14,  2.87s/it]"
     ]
    },
    {
     "name": "stdout",
     "output_type": "stream",
     "text": [
      "Test MSE: 74.6453, Test MAE: 5.7388, Test R2: 0.1378\n",
      "Epoch 347/1000\n",
      "Train MSE: 83.9245, Train MAE: 5.8097\n"
     ]
    },
    {
     "name": "stderr",
     "output_type": "stream",
     "text": [
      " 35%|███▍      | 347/1000 [16:10<31:20,  2.88s/it]"
     ]
    },
    {
     "name": "stdout",
     "output_type": "stream",
     "text": [
      "Test MSE: 80.0203, Test MAE: 5.7916, Test R2: 0.1542\n",
      "Epoch 348/1000\n",
      "Train MSE: 81.0731, Train MAE: 5.7703\n"
     ]
    },
    {
     "name": "stderr",
     "output_type": "stream",
     "text": [
      " 35%|███▍      | 348/1000 [16:13<31:01,  2.86s/it]"
     ]
    },
    {
     "name": "stdout",
     "output_type": "stream",
     "text": [
      "Test MSE: 79.1121, Test MAE: 5.7826, Test R2: 0.2231\n",
      "Epoch 349/1000\n",
      "Train MSE: 78.9325, Train MAE: 5.7428\n"
     ]
    },
    {
     "name": "stderr",
     "output_type": "stream",
     "text": [
      " 35%|███▍      | 349/1000 [16:16<30:48,  2.84s/it]"
     ]
    },
    {
     "name": "stdout",
     "output_type": "stream",
     "text": [
      "Test MSE: 77.5225, Test MAE: 5.7613, Test R2: 0.1858\n",
      "Epoch 350/1000\n",
      "Train MSE: 82.0319, Train MAE: 5.7713\n"
     ]
    },
    {
     "name": "stderr",
     "output_type": "stream",
     "text": [
      " 35%|███▌      | 350/1000 [16:19<30:57,  2.86s/it]"
     ]
    },
    {
     "name": "stdout",
     "output_type": "stream",
     "text": [
      "Test MSE: 79.3670, Test MAE: 5.7874, Test R2: 0.1853\n",
      "Epoch 351/1000\n",
      "Train MSE: 80.8961, Train MAE: 5.7821\n"
     ]
    },
    {
     "name": "stderr",
     "output_type": "stream",
     "text": [
      " 35%|███▌      | 351/1000 [16:22<30:53,  2.86s/it]"
     ]
    },
    {
     "name": "stdout",
     "output_type": "stream",
     "text": [
      "Test MSE: 75.6862, Test MAE: 5.7142, Test R2: 0.2087\n",
      "Epoch 352/1000\n",
      "Train MSE: 83.3133, Train MAE: 5.8066\n"
     ]
    },
    {
     "name": "stderr",
     "output_type": "stream",
     "text": [
      " 35%|███▌      | 352/1000 [16:24<30:37,  2.84s/it]"
     ]
    },
    {
     "name": "stdout",
     "output_type": "stream",
     "text": [
      "Test MSE: 79.7417, Test MAE: 5.7913, Test R2: 0.1711\n",
      "Epoch 353/1000\n",
      "Train MSE: 84.4110, Train MAE: 5.8094\n"
     ]
    },
    {
     "name": "stderr",
     "output_type": "stream",
     "text": [
      " 35%|███▌      | 353/1000 [16:27<30:28,  2.83s/it]"
     ]
    },
    {
     "name": "stdout",
     "output_type": "stream",
     "text": [
      "Test MSE: 73.9307, Test MAE: 5.6413, Test R2: 0.1930\n",
      "Epoch 354/1000\n",
      "Train MSE: 82.1754, Train MAE: 5.7274\n"
     ]
    },
    {
     "name": "stderr",
     "output_type": "stream",
     "text": [
      " 35%|███▌      | 354/1000 [16:30<30:30,  2.83s/it]"
     ]
    },
    {
     "name": "stdout",
     "output_type": "stream",
     "text": [
      "Test MSE: 75.8055, Test MAE: 5.6931, Test R2: 0.1829\n",
      "Epoch 355/1000\n",
      "Train MSE: 82.3529, Train MAE: 5.7870\n"
     ]
    },
    {
     "name": "stderr",
     "output_type": "stream",
     "text": [
      " 36%|███▌      | 355/1000 [16:33<30:18,  2.82s/it]"
     ]
    },
    {
     "name": "stdout",
     "output_type": "stream",
     "text": [
      "Test MSE: 80.1609, Test MAE: 5.7973, Test R2: 0.1017\n",
      "Epoch 356/1000\n",
      "Train MSE: 79.6782, Train MAE: 5.6839\n"
     ]
    },
    {
     "name": "stderr",
     "output_type": "stream",
     "text": [
      " 36%|███▌      | 356/1000 [16:36<30:07,  2.81s/it]"
     ]
    },
    {
     "name": "stdout",
     "output_type": "stream",
     "text": [
      "Test MSE: 76.3802, Test MAE: 5.7429, Test R2: 0.1491\n",
      "Epoch 357/1000\n",
      "Train MSE: 84.6056, Train MAE: 5.7883\n"
     ]
    },
    {
     "name": "stderr",
     "output_type": "stream",
     "text": [
      " 36%|███▌      | 357/1000 [16:38<29:55,  2.79s/it]"
     ]
    },
    {
     "name": "stdout",
     "output_type": "stream",
     "text": [
      "Test MSE: 81.8781, Test MAE: 5.8443, Test R2: 0.2186\n",
      "Epoch 358/1000\n",
      "Train MSE: 80.8797, Train MAE: 5.7257\n"
     ]
    },
    {
     "name": "stderr",
     "output_type": "stream",
     "text": [
      " 36%|███▌      | 358/1000 [16:41<29:52,  2.79s/it]"
     ]
    },
    {
     "name": "stdout",
     "output_type": "stream",
     "text": [
      "Test MSE: 73.9610, Test MAE: 5.6615, Test R2: 0.1876\n",
      "Epoch 359/1000\n",
      "Train MSE: 81.9862, Train MAE: 5.7415\n"
     ]
    },
    {
     "name": "stderr",
     "output_type": "stream",
     "text": [
      " 36%|███▌      | 359/1000 [16:44<29:48,  2.79s/it]"
     ]
    },
    {
     "name": "stdout",
     "output_type": "stream",
     "text": [
      "Test MSE: 77.1277, Test MAE: 5.7351, Test R2: 0.1283\n",
      "Epoch 360/1000\n",
      "Train MSE: 80.8443, Train MAE: 5.7548\n"
     ]
    },
    {
     "name": "stderr",
     "output_type": "stream",
     "text": [
      " 36%|███▌      | 360/1000 [16:47<30:02,  2.82s/it]"
     ]
    },
    {
     "name": "stdout",
     "output_type": "stream",
     "text": [
      "Test MSE: 77.2259, Test MAE: 5.7398, Test R2: 0.0593\n",
      "Epoch 361/1000\n",
      "Train MSE: 83.1923, Train MAE: 5.7618\n"
     ]
    },
    {
     "name": "stderr",
     "output_type": "stream",
     "text": [
      " 36%|███▌      | 361/1000 [16:50<30:12,  2.84s/it]"
     ]
    },
    {
     "name": "stdout",
     "output_type": "stream",
     "text": [
      "Test MSE: 76.6348, Test MAE: 5.7641, Test R2: 0.1578\n",
      "Epoch 362/1000\n",
      "Train MSE: 81.2930, Train MAE: 5.7289\n"
     ]
    },
    {
     "name": "stderr",
     "output_type": "stream",
     "text": [
      " 36%|███▌      | 362/1000 [16:53<30:23,  2.86s/it]"
     ]
    },
    {
     "name": "stdout",
     "output_type": "stream",
     "text": [
      "Test MSE: 74.5746, Test MAE: 5.6980, Test R2: 0.1006\n",
      "Epoch 363/1000\n",
      "Train MSE: 85.8804, Train MAE: 5.8410\n"
     ]
    },
    {
     "name": "stderr",
     "output_type": "stream",
     "text": [
      " 36%|███▋      | 363/1000 [16:55<30:19,  2.86s/it]"
     ]
    },
    {
     "name": "stdout",
     "output_type": "stream",
     "text": [
      "Test MSE: 78.1585, Test MAE: 5.7318, Test R2: 0.1928\n",
      "Epoch 364/1000\n",
      "Train MSE: 80.7716, Train MAE: 5.7206\n"
     ]
    },
    {
     "name": "stderr",
     "output_type": "stream",
     "text": [
      " 36%|███▋      | 364/1000 [16:58<29:58,  2.83s/it]"
     ]
    },
    {
     "name": "stdout",
     "output_type": "stream",
     "text": [
      "Test MSE: 77.4423, Test MAE: 5.7013, Test R2: 0.2204\n",
      "Epoch 365/1000\n",
      "Train MSE: 81.7688, Train MAE: 5.7773\n"
     ]
    },
    {
     "name": "stderr",
     "output_type": "stream",
     "text": [
      " 36%|███▋      | 365/1000 [17:01<29:51,  2.82s/it]"
     ]
    },
    {
     "name": "stdout",
     "output_type": "stream",
     "text": [
      "Test MSE: 75.8028, Test MAE: 5.7074, Test R2: 0.1662\n",
      "Epoch 366/1000\n",
      "Train MSE: 79.5775, Train MAE: 5.6874\n"
     ]
    },
    {
     "name": "stderr",
     "output_type": "stream",
     "text": [
      " 37%|███▋      | 366/1000 [17:04<30:12,  2.86s/it]"
     ]
    },
    {
     "name": "stdout",
     "output_type": "stream",
     "text": [
      "Test MSE: 75.4402, Test MAE: 5.7275, Test R2: 0.2102\n",
      "Epoch 367/1000\n",
      "Train MSE: 80.4125, Train MAE: 5.7364\n"
     ]
    },
    {
     "name": "stderr",
     "output_type": "stream",
     "text": [
      " 37%|███▋      | 367/1000 [17:07<30:05,  2.85s/it]"
     ]
    },
    {
     "name": "stdout",
     "output_type": "stream",
     "text": [
      "Test MSE: 80.7455, Test MAE: 5.8364, Test R2: 0.1724\n",
      "Epoch 368/1000\n",
      "Train MSE: 82.7258, Train MAE: 5.7636\n"
     ]
    },
    {
     "name": "stderr",
     "output_type": "stream",
     "text": [
      " 37%|███▋      | 368/1000 [17:10<29:43,  2.82s/it]"
     ]
    },
    {
     "name": "stdout",
     "output_type": "stream",
     "text": [
      "Test MSE: 75.5770, Test MAE: 5.7230, Test R2: 0.2136\n",
      "Epoch 369/1000\n",
      "Train MSE: 81.6632, Train MAE: 5.7462\n"
     ]
    },
    {
     "name": "stderr",
     "output_type": "stream",
     "text": [
      " 37%|███▋      | 369/1000 [17:12<29:33,  2.81s/it]"
     ]
    },
    {
     "name": "stdout",
     "output_type": "stream",
     "text": [
      "Test MSE: 77.5503, Test MAE: 5.7479, Test R2: 0.2147\n",
      "Epoch 370/1000\n",
      "Train MSE: 82.5345, Train MAE: 5.7267\n"
     ]
    },
    {
     "name": "stderr",
     "output_type": "stream",
     "text": [
      " 37%|███▋      | 370/1000 [17:15<29:20,  2.79s/it]"
     ]
    },
    {
     "name": "stdout",
     "output_type": "stream",
     "text": [
      "Test MSE: 75.9174, Test MAE: 5.7120, Test R2: 0.1660\n",
      "Epoch 371/1000\n",
      "Train MSE: 84.5813, Train MAE: 5.7768\n"
     ]
    },
    {
     "name": "stderr",
     "output_type": "stream",
     "text": [
      " 37%|███▋      | 371/1000 [17:18<29:13,  2.79s/it]"
     ]
    },
    {
     "name": "stdout",
     "output_type": "stream",
     "text": [
      "Test MSE: 74.2076, Test MAE: 5.6537, Test R2: 0.1584\n",
      "Epoch 372/1000\n",
      "Train MSE: 81.5750, Train MAE: 5.7719\n"
     ]
    },
    {
     "name": "stderr",
     "output_type": "stream",
     "text": [
      " 37%|███▋      | 372/1000 [17:21<29:08,  2.78s/it]"
     ]
    },
    {
     "name": "stdout",
     "output_type": "stream",
     "text": [
      "Test MSE: 76.6039, Test MAE: 5.7233, Test R2: 0.2317\n",
      "Epoch 373/1000\n",
      "Train MSE: 80.6926, Train MAE: 5.7182\n"
     ]
    },
    {
     "name": "stderr",
     "output_type": "stream",
     "text": [
      " 37%|███▋      | 373/1000 [17:23<28:58,  2.77s/it]"
     ]
    },
    {
     "name": "stdout",
     "output_type": "stream",
     "text": [
      "Test MSE: 75.1282, Test MAE: 5.7231, Test R2: 0.1188\n",
      "Epoch 374/1000\n",
      "Train MSE: 80.2530, Train MAE: 5.7069\n"
     ]
    },
    {
     "name": "stderr",
     "output_type": "stream",
     "text": [
      " 37%|███▋      | 374/1000 [17:26<29:15,  2.80s/it]"
     ]
    },
    {
     "name": "stdout",
     "output_type": "stream",
     "text": [
      "Test MSE: 77.1466, Test MAE: 5.8087, Test R2: 0.0796\n",
      "Epoch 375/1000\n",
      "Train MSE: 81.9943, Train MAE: 5.7375\n"
     ]
    },
    {
     "name": "stderr",
     "output_type": "stream",
     "text": [
      " 38%|███▊      | 375/1000 [17:29<29:18,  2.81s/it]"
     ]
    },
    {
     "name": "stdout",
     "output_type": "stream",
     "text": [
      "Test MSE: 81.2678, Test MAE: 5.8632, Test R2: 0.2215\n",
      "Epoch 376/1000\n",
      "Train MSE: 78.4064, Train MAE: 5.6621\n"
     ]
    },
    {
     "name": "stderr",
     "output_type": "stream",
     "text": [
      " 38%|███▊      | 376/1000 [17:32<29:24,  2.83s/it]"
     ]
    },
    {
     "name": "stdout",
     "output_type": "stream",
     "text": [
      "Test MSE: 73.3114, Test MAE: 5.6809, Test R2: 0.1732\n",
      "Epoch 377/1000\n",
      "Train MSE: 82.2777, Train MAE: 5.7780\n"
     ]
    },
    {
     "name": "stderr",
     "output_type": "stream",
     "text": [
      " 38%|███▊      | 377/1000 [17:35<29:29,  2.84s/it]"
     ]
    },
    {
     "name": "stdout",
     "output_type": "stream",
     "text": [
      "Test MSE: 75.8743, Test MAE: 5.7006, Test R2: 0.2195\n",
      "Epoch 378/1000\n",
      "Train MSE: 80.0699, Train MAE: 5.7052\n"
     ]
    },
    {
     "name": "stderr",
     "output_type": "stream",
     "text": [
      " 38%|███▊      | 378/1000 [17:38<29:28,  2.84s/it]"
     ]
    },
    {
     "name": "stdout",
     "output_type": "stream",
     "text": [
      "Test MSE: 73.0334, Test MAE: 5.6657, Test R2: 0.2068\n",
      "Epoch 379/1000\n",
      "Train MSE: 81.9719, Train MAE: 5.7460\n"
     ]
    },
    {
     "name": "stderr",
     "output_type": "stream",
     "text": [
      " 38%|███▊      | 379/1000 [17:41<29:23,  2.84s/it]"
     ]
    },
    {
     "name": "stdout",
     "output_type": "stream",
     "text": [
      "Test MSE: 77.2264, Test MAE: 5.7531, Test R2: 0.2377\n",
      "Epoch 380/1000\n",
      "Train MSE: 79.6426, Train MAE: 5.6889\n"
     ]
    },
    {
     "name": "stderr",
     "output_type": "stream",
     "text": [
      " 38%|███▊      | 380/1000 [17:43<29:13,  2.83s/it]"
     ]
    },
    {
     "name": "stdout",
     "output_type": "stream",
     "text": [
      "Test MSE: 75.8555, Test MAE: 5.7822, Test R2: 0.1693\n",
      "Epoch 381/1000\n",
      "Train MSE: 80.6202, Train MAE: 5.7399\n"
     ]
    },
    {
     "name": "stderr",
     "output_type": "stream",
     "text": [
      " 38%|███▊      | 381/1000 [17:46<29:05,  2.82s/it]"
     ]
    },
    {
     "name": "stdout",
     "output_type": "stream",
     "text": [
      "Test MSE: 77.8765, Test MAE: 5.7539, Test R2: 0.2183\n",
      "Epoch 382/1000\n",
      "Train MSE: 83.0089, Train MAE: 5.7692\n"
     ]
    },
    {
     "name": "stderr",
     "output_type": "stream",
     "text": [
      " 38%|███▊      | 382/1000 [17:49<28:51,  2.80s/it]"
     ]
    },
    {
     "name": "stdout",
     "output_type": "stream",
     "text": [
      "Test MSE: 76.5174, Test MAE: 5.7150, Test R2: 0.1202\n",
      "Epoch 383/1000\n",
      "Train MSE: 81.9186, Train MAE: 5.7331\n"
     ]
    },
    {
     "name": "stderr",
     "output_type": "stream",
     "text": [
      " 38%|███▊      | 383/1000 [17:52<28:53,  2.81s/it]"
     ]
    },
    {
     "name": "stdout",
     "output_type": "stream",
     "text": [
      "Test MSE: 75.9843, Test MAE: 5.6993, Test R2: 0.0956\n",
      "Epoch 384/1000\n",
      "Train MSE: 81.5433, Train MAE: 5.7486\n"
     ]
    },
    {
     "name": "stderr",
     "output_type": "stream",
     "text": [
      " 38%|███▊      | 384/1000 [17:55<28:56,  2.82s/it]"
     ]
    },
    {
     "name": "stdout",
     "output_type": "stream",
     "text": [
      "Test MSE: 79.8438, Test MAE: 5.8912, Test R2: 0.0760\n",
      "Epoch 385/1000\n",
      "Train MSE: 82.3718, Train MAE: 5.7438\n"
     ]
    },
    {
     "name": "stderr",
     "output_type": "stream",
     "text": [
      " 38%|███▊      | 385/1000 [17:57<28:54,  2.82s/it]"
     ]
    },
    {
     "name": "stdout",
     "output_type": "stream",
     "text": [
      "Test MSE: 73.0530, Test MAE: 5.6261, Test R2: 0.1148\n",
      "Epoch 386/1000\n",
      "Train MSE: 80.6598, Train MAE: 5.7345\n"
     ]
    },
    {
     "name": "stderr",
     "output_type": "stream",
     "text": [
      " 39%|███▊      | 386/1000 [18:00<28:57,  2.83s/it]"
     ]
    },
    {
     "name": "stdout",
     "output_type": "stream",
     "text": [
      "Test MSE: 75.1411, Test MAE: 5.6929, Test R2: 0.1878\n",
      "Epoch 387/1000\n",
      "Train MSE: 80.8765, Train MAE: 5.7312\n"
     ]
    },
    {
     "name": "stderr",
     "output_type": "stream",
     "text": [
      " 39%|███▊      | 387/1000 [18:03<29:01,  2.84s/it]"
     ]
    },
    {
     "name": "stdout",
     "output_type": "stream",
     "text": [
      "Test MSE: 76.3536, Test MAE: 5.7770, Test R2: 0.1479\n",
      "Epoch 388/1000\n",
      "Train MSE: 84.8564, Train MAE: 5.7635\n"
     ]
    },
    {
     "name": "stderr",
     "output_type": "stream",
     "text": [
      " 39%|███▉      | 388/1000 [18:06<28:55,  2.84s/it]"
     ]
    },
    {
     "name": "stdout",
     "output_type": "stream",
     "text": [
      "Test MSE: 80.7855, Test MAE: 5.8178, Test R2: 0.1817\n",
      "Epoch 389/1000\n",
      "Train MSE: 83.2526, Train MAE: 5.7623\n"
     ]
    },
    {
     "name": "stderr",
     "output_type": "stream",
     "text": [
      " 39%|███▉      | 389/1000 [18:09<29:08,  2.86s/it]"
     ]
    },
    {
     "name": "stdout",
     "output_type": "stream",
     "text": [
      "Test MSE: 75.3937, Test MAE: 5.6842, Test R2: 0.2230\n",
      "Epoch 390/1000\n",
      "Train MSE: 81.3371, Train MAE: 5.7454\n"
     ]
    },
    {
     "name": "stderr",
     "output_type": "stream",
     "text": [
      " 39%|███▉      | 390/1000 [18:12<29:06,  2.86s/it]"
     ]
    },
    {
     "name": "stdout",
     "output_type": "stream",
     "text": [
      "Test MSE: 71.6780, Test MAE: 5.6773, Test R2: 0.2034\n",
      "Epoch 391/1000\n",
      "Train MSE: 79.6349, Train MAE: 5.6941\n"
     ]
    },
    {
     "name": "stderr",
     "output_type": "stream",
     "text": [
      " 39%|███▉      | 391/1000 [18:14<28:48,  2.84s/it]"
     ]
    },
    {
     "name": "stdout",
     "output_type": "stream",
     "text": [
      "Test MSE: 75.8204, Test MAE: 5.7817, Test R2: 0.1523\n",
      "Epoch 392/1000\n",
      "Train MSE: 80.7856, Train MAE: 5.7524\n"
     ]
    },
    {
     "name": "stderr",
     "output_type": "stream",
     "text": [
      " 39%|███▉      | 392/1000 [18:17<28:43,  2.83s/it]"
     ]
    },
    {
     "name": "stdout",
     "output_type": "stream",
     "text": [
      "Test MSE: 74.1447, Test MAE: 5.6642, Test R2: 0.0824\n",
      "Epoch 393/1000\n",
      "Train MSE: 82.5635, Train MAE: 5.7657\n"
     ]
    },
    {
     "name": "stderr",
     "output_type": "stream",
     "text": [
      " 39%|███▉      | 393/1000 [18:20<28:40,  2.83s/it]"
     ]
    },
    {
     "name": "stdout",
     "output_type": "stream",
     "text": [
      "Test MSE: 78.6684, Test MAE: 5.7855, Test R2: 0.1600\n",
      "Epoch 394/1000\n",
      "Train MSE: 80.2740, Train MAE: 5.7107\n"
     ]
    },
    {
     "name": "stderr",
     "output_type": "stream",
     "text": [
      " 39%|███▉      | 394/1000 [18:23<28:40,  2.84s/it]"
     ]
    },
    {
     "name": "stdout",
     "output_type": "stream",
     "text": [
      "Test MSE: 74.9929, Test MAE: 5.6818, Test R2: 0.1474\n",
      "Epoch 395/1000\n",
      "Train MSE: 78.7099, Train MAE: 5.6978\n"
     ]
    },
    {
     "name": "stderr",
     "output_type": "stream",
     "text": [
      " 40%|███▉      | 395/1000 [18:26<28:41,  2.85s/it]"
     ]
    },
    {
     "name": "stdout",
     "output_type": "stream",
     "text": [
      "Test MSE: 79.7019, Test MAE: 5.8123, Test R2: 0.0797\n",
      "Epoch 396/1000\n",
      "Train MSE: 80.5305, Train MAE: 5.7073\n"
     ]
    },
    {
     "name": "stderr",
     "output_type": "stream",
     "text": [
      " 40%|███▉      | 396/1000 [18:29<28:33,  2.84s/it]"
     ]
    },
    {
     "name": "stdout",
     "output_type": "stream",
     "text": [
      "Test MSE: 72.1318, Test MAE: 5.6264, Test R2: 0.0303\n",
      "Epoch 397/1000\n",
      "Train MSE: 83.6980, Train MAE: 5.7717\n"
     ]
    },
    {
     "name": "stderr",
     "output_type": "stream",
     "text": [
      " 40%|███▉      | 397/1000 [18:31<28:24,  2.83s/it]"
     ]
    },
    {
     "name": "stdout",
     "output_type": "stream",
     "text": [
      "Test MSE: 75.7078, Test MAE: 5.7185, Test R2: 0.1726\n",
      "Epoch 398/1000\n",
      "Train MSE: 82.4792, Train MAE: 5.7176\n"
     ]
    },
    {
     "name": "stderr",
     "output_type": "stream",
     "text": [
      " 40%|███▉      | 398/1000 [18:34<28:24,  2.83s/it]"
     ]
    },
    {
     "name": "stdout",
     "output_type": "stream",
     "text": [
      "Test MSE: 75.8172, Test MAE: 5.7132, Test R2: 0.1633\n",
      "Epoch 399/1000\n",
      "Train MSE: 83.9203, Train MAE: 5.8131\n"
     ]
    },
    {
     "name": "stderr",
     "output_type": "stream",
     "text": [
      " 40%|███▉      | 399/1000 [18:37<28:23,  2.84s/it]"
     ]
    },
    {
     "name": "stdout",
     "output_type": "stream",
     "text": [
      "Test MSE: 73.6299, Test MAE: 5.6844, Test R2: 0.1283\n",
      "Epoch 400/1000\n",
      "Train MSE: 81.2182, Train MAE: 5.7178\n"
     ]
    },
    {
     "name": "stderr",
     "output_type": "stream",
     "text": [
      " 40%|████      | 400/1000 [18:40<28:08,  2.81s/it]"
     ]
    },
    {
     "name": "stdout",
     "output_type": "stream",
     "text": [
      "Test MSE: 76.4599, Test MAE: 5.7072, Test R2: 0.0950\n",
      "Epoch 401/1000\n",
      "Train MSE: 81.2841, Train MAE: 5.7805\n"
     ]
    },
    {
     "name": "stderr",
     "output_type": "stream",
     "text": [
      " 40%|████      | 401/1000 [18:43<28:03,  2.81s/it]"
     ]
    },
    {
     "name": "stdout",
     "output_type": "stream",
     "text": [
      "Test MSE: 75.7375, Test MAE: 5.7233, Test R2: 0.1872\n",
      "Epoch 402/1000\n",
      "Train MSE: 81.1657, Train MAE: 5.7436\n"
     ]
    },
    {
     "name": "stderr",
     "output_type": "stream",
     "text": [
      " 40%|████      | 402/1000 [18:46<28:00,  2.81s/it]"
     ]
    },
    {
     "name": "stdout",
     "output_type": "stream",
     "text": [
      "Test MSE: 79.5399, Test MAE: 5.7515, Test R2: 0.2258\n",
      "Epoch 403/1000\n",
      "Train MSE: 80.9693, Train MAE: 5.7326\n"
     ]
    },
    {
     "name": "stderr",
     "output_type": "stream",
     "text": [
      " 40%|████      | 403/1000 [18:48<27:49,  2.80s/it]"
     ]
    },
    {
     "name": "stdout",
     "output_type": "stream",
     "text": [
      "Test MSE: 74.0488, Test MAE: 5.6378, Test R2: 0.1942\n",
      "Epoch 404/1000\n",
      "Train MSE: 81.6892, Train MAE: 5.7162\n"
     ]
    },
    {
     "name": "stderr",
     "output_type": "stream",
     "text": [
      " 40%|████      | 404/1000 [18:51<27:33,  2.77s/it]"
     ]
    },
    {
     "name": "stdout",
     "output_type": "stream",
     "text": [
      "Test MSE: 76.9293, Test MAE: 5.7631, Test R2: 0.1128\n",
      "Epoch 405/1000\n",
      "Train MSE: 81.7768, Train MAE: 5.7593\n"
     ]
    },
    {
     "name": "stderr",
     "output_type": "stream",
     "text": [
      " 40%|████      | 405/1000 [18:54<27:28,  2.77s/it]"
     ]
    },
    {
     "name": "stdout",
     "output_type": "stream",
     "text": [
      "Test MSE: 73.7446, Test MAE: 5.6583, Test R2: 0.0868\n",
      "Epoch 406/1000\n",
      "Train MSE: 79.7910, Train MAE: 5.6837\n"
     ]
    },
    {
     "name": "stderr",
     "output_type": "stream",
     "text": [
      " 41%|████      | 406/1000 [18:57<27:26,  2.77s/it]"
     ]
    },
    {
     "name": "stdout",
     "output_type": "stream",
     "text": [
      "Test MSE: 72.0274, Test MAE: 5.6213, Test R2: 0.1543\n",
      "Epoch 407/1000\n",
      "Train MSE: 79.9818, Train MAE: 5.6955\n"
     ]
    },
    {
     "name": "stderr",
     "output_type": "stream",
     "text": [
      " 41%|████      | 407/1000 [18:59<27:27,  2.78s/it]"
     ]
    },
    {
     "name": "stdout",
     "output_type": "stream",
     "text": [
      "Test MSE: 76.1117, Test MAE: 5.7269, Test R2: 0.1345\n",
      "Epoch 408/1000\n",
      "Train MSE: 81.4679, Train MAE: 5.7489\n"
     ]
    },
    {
     "name": "stderr",
     "output_type": "stream",
     "text": [
      " 41%|████      | 408/1000 [19:02<27:22,  2.77s/it]"
     ]
    },
    {
     "name": "stdout",
     "output_type": "stream",
     "text": [
      "Test MSE: 74.6260, Test MAE: 5.6527, Test R2: 0.1147\n",
      "Epoch 409/1000\n",
      "Train MSE: 81.5890, Train MAE: 5.7494\n"
     ]
    },
    {
     "name": "stderr",
     "output_type": "stream",
     "text": [
      " 41%|████      | 409/1000 [19:05<27:12,  2.76s/it]"
     ]
    },
    {
     "name": "stdout",
     "output_type": "stream",
     "text": [
      "Test MSE: 75.7192, Test MAE: 5.7111, Test R2: 0.2323\n",
      "Epoch 410/1000\n",
      "Train MSE: 79.2887, Train MAE: 5.6883\n"
     ]
    },
    {
     "name": "stderr",
     "output_type": "stream",
     "text": [
      " 41%|████      | 410/1000 [19:08<27:10,  2.76s/it]"
     ]
    },
    {
     "name": "stdout",
     "output_type": "stream",
     "text": [
      "Test MSE: 75.5910, Test MAE: 5.7378, Test R2: 0.0202\n",
      "Epoch 411/1000\n",
      "Train MSE: 80.1538, Train MAE: 5.7193\n"
     ]
    },
    {
     "name": "stderr",
     "output_type": "stream",
     "text": [
      " 41%|████      | 411/1000 [19:10<27:04,  2.76s/it]"
     ]
    },
    {
     "name": "stdout",
     "output_type": "stream",
     "text": [
      "Test MSE: 75.3649, Test MAE: 5.7424, Test R2: 0.1858\n",
      "Epoch 412/1000\n",
      "Train MSE: 81.4316, Train MAE: 5.7214\n"
     ]
    },
    {
     "name": "stderr",
     "output_type": "stream",
     "text": [
      " 41%|████      | 412/1000 [19:13<27:10,  2.77s/it]"
     ]
    },
    {
     "name": "stdout",
     "output_type": "stream",
     "text": [
      "Test MSE: 74.5869, Test MAE: 5.6880, Test R2: 0.2095\n",
      "Epoch 413/1000\n",
      "Train MSE: 81.9037, Train MAE: 5.7668\n"
     ]
    },
    {
     "name": "stderr",
     "output_type": "stream",
     "text": [
      " 41%|████▏     | 413/1000 [19:16<27:04,  2.77s/it]"
     ]
    },
    {
     "name": "stdout",
     "output_type": "stream",
     "text": [
      "Test MSE: 76.7621, Test MAE: 5.8248, Test R2: 0.1415\n",
      "Epoch 414/1000\n",
      "Train MSE: 80.7584, Train MAE: 5.7347\n"
     ]
    },
    {
     "name": "stderr",
     "output_type": "stream",
     "text": [
      " 41%|████▏     | 414/1000 [19:19<27:04,  2.77s/it]"
     ]
    },
    {
     "name": "stdout",
     "output_type": "stream",
     "text": [
      "Test MSE: 80.7883, Test MAE: 5.7979, Test R2: 0.1686\n",
      "Epoch 415/1000\n",
      "Train MSE: 82.7782, Train MAE: 5.7620\n"
     ]
    },
    {
     "name": "stderr",
     "output_type": "stream",
     "text": [
      " 42%|████▏     | 415/1000 [19:21<27:01,  2.77s/it]"
     ]
    },
    {
     "name": "stdout",
     "output_type": "stream",
     "text": [
      "Test MSE: 72.7811, Test MAE: 5.6277, Test R2: 0.2305\n",
      "Epoch 416/1000\n",
      "Train MSE: 81.2064, Train MAE: 5.7248\n"
     ]
    },
    {
     "name": "stderr",
     "output_type": "stream",
     "text": [
      " 42%|████▏     | 416/1000 [19:24<26:58,  2.77s/it]"
     ]
    },
    {
     "name": "stdout",
     "output_type": "stream",
     "text": [
      "Test MSE: 78.0114, Test MAE: 5.7811, Test R2: 0.1953\n",
      "Epoch 417/1000\n",
      "Train MSE: 77.5227, Train MAE: 5.6133\n"
     ]
    },
    {
     "name": "stderr",
     "output_type": "stream",
     "text": [
      " 42%|████▏     | 417/1000 [19:27<26:52,  2.77s/it]"
     ]
    },
    {
     "name": "stdout",
     "output_type": "stream",
     "text": [
      "Test MSE: 73.5854, Test MAE: 5.6872, Test R2: 0.0839\n",
      "Epoch 418/1000\n",
      "Train MSE: 81.3310, Train MAE: 5.7537\n"
     ]
    },
    {
     "name": "stderr",
     "output_type": "stream",
     "text": [
      " 42%|████▏     | 418/1000 [19:30<26:51,  2.77s/it]"
     ]
    },
    {
     "name": "stdout",
     "output_type": "stream",
     "text": [
      "Test MSE: 87.1190, Test MAE: 5.9917, Test R2: 0.1086\n",
      "Epoch 419/1000\n",
      "Train MSE: 81.9749, Train MAE: 5.7517\n"
     ]
    },
    {
     "name": "stderr",
     "output_type": "stream",
     "text": [
      " 42%|████▏     | 419/1000 [19:33<26:51,  2.77s/it]"
     ]
    },
    {
     "name": "stdout",
     "output_type": "stream",
     "text": [
      "Test MSE: 77.4811, Test MAE: 5.7501, Test R2: 0.1928\n",
      "Epoch 420/1000\n",
      "Train MSE: 80.8235, Train MAE: 5.7132\n"
     ]
    },
    {
     "name": "stderr",
     "output_type": "stream",
     "text": [
      " 42%|████▏     | 420/1000 [19:35<26:45,  2.77s/it]"
     ]
    },
    {
     "name": "stdout",
     "output_type": "stream",
     "text": [
      "Test MSE: 73.7282, Test MAE: 5.6587, Test R2: 0.1468\n",
      "Epoch 421/1000\n",
      "Train MSE: 79.3994, Train MAE: 5.6988\n"
     ]
    },
    {
     "name": "stderr",
     "output_type": "stream",
     "text": [
      " 42%|████▏     | 421/1000 [19:38<26:54,  2.79s/it]"
     ]
    },
    {
     "name": "stdout",
     "output_type": "stream",
     "text": [
      "Test MSE: 74.2468, Test MAE: 5.6917, Test R2: 0.2154\n",
      "Epoch 422/1000\n",
      "Train MSE: 82.3672, Train MAE: 5.7452\n"
     ]
    },
    {
     "name": "stderr",
     "output_type": "stream",
     "text": [
      " 42%|████▏     | 422/1000 [19:41<27:05,  2.81s/it]"
     ]
    },
    {
     "name": "stdout",
     "output_type": "stream",
     "text": [
      "Test MSE: 76.7098, Test MAE: 5.7389, Test R2: 0.1619\n",
      "Epoch 423/1000\n",
      "Train MSE: 82.4147, Train MAE: 5.7723\n"
     ]
    },
    {
     "name": "stderr",
     "output_type": "stream",
     "text": [
      " 42%|████▏     | 423/1000 [19:44<27:13,  2.83s/it]"
     ]
    },
    {
     "name": "stdout",
     "output_type": "stream",
     "text": [
      "Test MSE: 81.4448, Test MAE: 5.8234, Test R2: 0.1475\n",
      "Epoch 424/1000\n",
      "Train MSE: 78.8858, Train MAE: 5.6965\n"
     ]
    },
    {
     "name": "stderr",
     "output_type": "stream",
     "text": [
      " 42%|████▏     | 424/1000 [19:47<27:15,  2.84s/it]"
     ]
    },
    {
     "name": "stdout",
     "output_type": "stream",
     "text": [
      "Test MSE: 74.8936, Test MAE: 5.7015, Test R2: 0.0917\n",
      "Epoch 425/1000\n",
      "Train MSE: 77.5643, Train MAE: 5.6326\n"
     ]
    },
    {
     "name": "stderr",
     "output_type": "stream",
     "text": [
      " 42%|████▎     | 425/1000 [19:50<27:27,  2.86s/it]"
     ]
    },
    {
     "name": "stdout",
     "output_type": "stream",
     "text": [
      "Test MSE: 73.2368, Test MAE: 5.6795, Test R2: 0.0798\n",
      "Epoch 426/1000\n",
      "Train MSE: 80.2467, Train MAE: 5.6990\n"
     ]
    },
    {
     "name": "stderr",
     "output_type": "stream",
     "text": [
      " 43%|████▎     | 426/1000 [19:53<27:29,  2.87s/it]"
     ]
    },
    {
     "name": "stdout",
     "output_type": "stream",
     "text": [
      "Test MSE: 75.5116, Test MAE: 5.7233, Test R2: 0.0674\n",
      "Epoch 427/1000\n",
      "Train MSE: 83.2517, Train MAE: 5.7399\n"
     ]
    },
    {
     "name": "stderr",
     "output_type": "stream",
     "text": [
      " 43%|████▎     | 427/1000 [19:56<27:42,  2.90s/it]"
     ]
    },
    {
     "name": "stdout",
     "output_type": "stream",
     "text": [
      "Test MSE: 77.8901, Test MAE: 5.7523, Test R2: 0.1120\n",
      "Epoch 428/1000\n",
      "Train MSE: 80.5534, Train MAE: 5.6637\n"
     ]
    },
    {
     "name": "stderr",
     "output_type": "stream",
     "text": [
      " 43%|████▎     | 428/1000 [19:58<27:37,  2.90s/it]"
     ]
    },
    {
     "name": "stdout",
     "output_type": "stream",
     "text": [
      "Test MSE: 74.0644, Test MAE: 5.6585, Test R2: 0.1563\n",
      "Epoch 429/1000\n",
      "Train MSE: 82.6428, Train MAE: 5.7264\n"
     ]
    },
    {
     "name": "stderr",
     "output_type": "stream",
     "text": [
      " 43%|████▎     | 429/1000 [20:01<27:27,  2.89s/it]"
     ]
    },
    {
     "name": "stdout",
     "output_type": "stream",
     "text": [
      "Test MSE: 76.6488, Test MAE: 5.7217, Test R2: 0.1144\n",
      "Epoch 430/1000\n",
      "Train MSE: 83.0942, Train MAE: 5.7532\n"
     ]
    },
    {
     "name": "stderr",
     "output_type": "stream",
     "text": [
      " 43%|████▎     | 430/1000 [20:04<27:27,  2.89s/it]"
     ]
    },
    {
     "name": "stdout",
     "output_type": "stream",
     "text": [
      "Test MSE: 72.5310, Test MAE: 5.6330, Test R2: 0.1886\n",
      "Epoch 431/1000\n",
      "Train MSE: 83.0173, Train MAE: 5.7708\n"
     ]
    },
    {
     "name": "stderr",
     "output_type": "stream",
     "text": [
      " 43%|████▎     | 431/1000 [20:07<27:18,  2.88s/it]"
     ]
    },
    {
     "name": "stdout",
     "output_type": "stream",
     "text": [
      "Test MSE: 73.6031, Test MAE: 5.6694, Test R2: 0.1447\n",
      "Epoch 432/1000\n",
      "Train MSE: 82.9116, Train MAE: 5.7921\n"
     ]
    },
    {
     "name": "stderr",
     "output_type": "stream",
     "text": [
      " 43%|████▎     | 432/1000 [20:10<27:22,  2.89s/it]"
     ]
    },
    {
     "name": "stdout",
     "output_type": "stream",
     "text": [
      "Test MSE: 77.3882, Test MAE: 5.7800, Test R2: 0.1837\n",
      "Epoch 433/1000\n",
      "Train MSE: 78.9344, Train MAE: 5.6837\n"
     ]
    },
    {
     "name": "stderr",
     "output_type": "stream",
     "text": [
      " 43%|████▎     | 433/1000 [20:13<27:25,  2.90s/it]"
     ]
    },
    {
     "name": "stdout",
     "output_type": "stream",
     "text": [
      "Test MSE: 72.4357, Test MAE: 5.6644, Test R2: 0.1839\n",
      "Epoch 434/1000\n",
      "Train MSE: 82.2006, Train MAE: 5.7466\n"
     ]
    },
    {
     "name": "stderr",
     "output_type": "stream",
     "text": [
      " 43%|████▎     | 434/1000 [20:16<26:54,  2.85s/it]"
     ]
    },
    {
     "name": "stdout",
     "output_type": "stream",
     "text": [
      "Test MSE: 74.5247, Test MAE: 5.6657, Test R2: 0.2208\n",
      "Epoch 435/1000\n",
      "Train MSE: 81.2003, Train MAE: 5.7477\n"
     ]
    },
    {
     "name": "stderr",
     "output_type": "stream",
     "text": [
      " 44%|████▎     | 435/1000 [20:18<26:36,  2.83s/it]"
     ]
    },
    {
     "name": "stdout",
     "output_type": "stream",
     "text": [
      "Test MSE: 76.1832, Test MAE: 5.7326, Test R2: 0.2007\n",
      "Epoch 436/1000\n",
      "Train MSE: 81.4767, Train MAE: 5.7315\n"
     ]
    },
    {
     "name": "stderr",
     "output_type": "stream",
     "text": [
      " 44%|████▎     | 436/1000 [20:21<26:17,  2.80s/it]"
     ]
    },
    {
     "name": "stdout",
     "output_type": "stream",
     "text": [
      "Test MSE: 78.1777, Test MAE: 5.7720, Test R2: 0.2160\n",
      "Epoch 437/1000\n",
      "Train MSE: 80.0715, Train MAE: 5.6967\n"
     ]
    },
    {
     "name": "stderr",
     "output_type": "stream",
     "text": [
      " 44%|████▎     | 437/1000 [20:24<26:08,  2.79s/it]"
     ]
    },
    {
     "name": "stdout",
     "output_type": "stream",
     "text": [
      "Test MSE: 73.9274, Test MAE: 5.6964, Test R2: 0.2164\n",
      "Epoch 438/1000\n",
      "Train MSE: 82.1118, Train MAE: 5.7322\n"
     ]
    },
    {
     "name": "stderr",
     "output_type": "stream",
     "text": [
      " 44%|████▍     | 438/1000 [20:27<25:57,  2.77s/it]"
     ]
    },
    {
     "name": "stdout",
     "output_type": "stream",
     "text": [
      "Test MSE: 74.6823, Test MAE: 5.6767, Test R2: -0.0295\n",
      "Epoch 439/1000\n",
      "Train MSE: 80.5813, Train MAE: 5.7424\n"
     ]
    },
    {
     "name": "stderr",
     "output_type": "stream",
     "text": [
      " 44%|████▍     | 439/1000 [20:29<25:58,  2.78s/it]"
     ]
    },
    {
     "name": "stdout",
     "output_type": "stream",
     "text": [
      "Test MSE: 77.4169, Test MAE: 5.7658, Test R2: -0.0036\n",
      "Epoch 440/1000\n",
      "Train MSE: 80.0635, Train MAE: 5.7021\n"
     ]
    },
    {
     "name": "stderr",
     "output_type": "stream",
     "text": [
      " 44%|████▍     | 440/1000 [20:32<25:53,  2.77s/it]"
     ]
    },
    {
     "name": "stdout",
     "output_type": "stream",
     "text": [
      "Test MSE: 74.2789, Test MAE: 5.6757, Test R2: 0.1820\n",
      "Epoch 441/1000\n",
      "Train MSE: 79.8952, Train MAE: 5.6777\n"
     ]
    },
    {
     "name": "stderr",
     "output_type": "stream",
     "text": [
      " 44%|████▍     | 441/1000 [20:35<26:07,  2.80s/it]"
     ]
    },
    {
     "name": "stdout",
     "output_type": "stream",
     "text": [
      "Test MSE: 78.4700, Test MAE: 5.7793, Test R2: 0.1650\n",
      "Epoch 442/1000\n",
      "Train MSE: 81.4670, Train MAE: 5.7477\n"
     ]
    },
    {
     "name": "stderr",
     "output_type": "stream",
     "text": [
      " 44%|████▍     | 442/1000 [20:38<26:12,  2.82s/it]"
     ]
    },
    {
     "name": "stdout",
     "output_type": "stream",
     "text": [
      "Test MSE: 75.4575, Test MAE: 5.6747, Test R2: 0.1365\n",
      "Epoch 443/1000\n",
      "Train MSE: 80.5442, Train MAE: 5.7287\n"
     ]
    },
    {
     "name": "stderr",
     "output_type": "stream",
     "text": [
      " 44%|████▍     | 443/1000 [20:41<26:17,  2.83s/it]"
     ]
    },
    {
     "name": "stdout",
     "output_type": "stream",
     "text": [
      "Test MSE: 75.2295, Test MAE: 5.7184, Test R2: 0.2185\n",
      "Epoch 444/1000\n",
      "Train MSE: 79.2053, Train MAE: 5.6760\n"
     ]
    },
    {
     "name": "stderr",
     "output_type": "stream",
     "text": [
      " 44%|████▍     | 444/1000 [20:44<26:19,  2.84s/it]"
     ]
    },
    {
     "name": "stdout",
     "output_type": "stream",
     "text": [
      "Test MSE: 76.4641, Test MAE: 5.7236, Test R2: 0.1994\n",
      "Epoch 445/1000\n",
      "Train MSE: 77.6843, Train MAE: 5.6914\n"
     ]
    },
    {
     "name": "stderr",
     "output_type": "stream",
     "text": [
      " 44%|████▍     | 445/1000 [20:46<26:14,  2.84s/it]"
     ]
    },
    {
     "name": "stdout",
     "output_type": "stream",
     "text": [
      "Test MSE: 76.5351, Test MAE: 5.7158, Test R2: 0.2066\n",
      "Epoch 446/1000\n",
      "Train MSE: 80.9394, Train MAE: 5.7108\n"
     ]
    },
    {
     "name": "stderr",
     "output_type": "stream",
     "text": [
      " 45%|████▍     | 446/1000 [20:49<26:21,  2.85s/it]"
     ]
    },
    {
     "name": "stdout",
     "output_type": "stream",
     "text": [
      "Test MSE: 71.6084, Test MAE: 5.6034, Test R2: 0.0777\n",
      "Epoch 447/1000\n",
      "Train MSE: 78.9352, Train MAE: 5.6816\n"
     ]
    },
    {
     "name": "stderr",
     "output_type": "stream",
     "text": [
      " 45%|████▍     | 447/1000 [20:52<26:22,  2.86s/it]"
     ]
    },
    {
     "name": "stdout",
     "output_type": "stream",
     "text": [
      "Test MSE: 75.5419, Test MAE: 5.7091, Test R2: 0.0901\n",
      "Epoch 448/1000\n",
      "Train MSE: 77.9250, Train MAE: 5.6224\n"
     ]
    },
    {
     "name": "stderr",
     "output_type": "stream",
     "text": [
      " 45%|████▍     | 448/1000 [20:55<26:20,  2.86s/it]"
     ]
    },
    {
     "name": "stdout",
     "output_type": "stream",
     "text": [
      "Test MSE: 75.3303, Test MAE: 5.6628, Test R2: 0.0592\n",
      "Epoch 449/1000\n",
      "Train MSE: 80.9524, Train MAE: 5.7104\n"
     ]
    },
    {
     "name": "stderr",
     "output_type": "stream",
     "text": [
      " 45%|████▍     | 449/1000 [20:58<26:13,  2.86s/it]"
     ]
    },
    {
     "name": "stdout",
     "output_type": "stream",
     "text": [
      "Test MSE: 75.7639, Test MAE: 5.7297, Test R2: 0.1788\n",
      "Epoch 450/1000\n",
      "Train MSE: 81.6992, Train MAE: 5.6963\n"
     ]
    },
    {
     "name": "stderr",
     "output_type": "stream",
     "text": [
      " 45%|████▌     | 450/1000 [21:01<26:14,  2.86s/it]"
     ]
    },
    {
     "name": "stdout",
     "output_type": "stream",
     "text": [
      "Test MSE: 74.8469, Test MAE: 5.6896, Test R2: 0.0280\n",
      "Epoch 451/1000\n",
      "Train MSE: 81.2598, Train MAE: 5.7194\n"
     ]
    },
    {
     "name": "stderr",
     "output_type": "stream",
     "text": [
      " 45%|████▌     | 451/1000 [21:04<26:16,  2.87s/it]"
     ]
    },
    {
     "name": "stdout",
     "output_type": "stream",
     "text": [
      "Test MSE: 80.4418, Test MAE: 5.8287, Test R2: 0.2017\n",
      "Epoch 452/1000\n",
      "Train MSE: 81.5133, Train MAE: 5.7049\n"
     ]
    },
    {
     "name": "stderr",
     "output_type": "stream",
     "text": [
      " 45%|████▌     | 452/1000 [21:07<26:17,  2.88s/it]"
     ]
    },
    {
     "name": "stdout",
     "output_type": "stream",
     "text": [
      "Test MSE: 75.5239, Test MAE: 5.6750, Test R2: 0.2113\n",
      "Epoch 453/1000\n",
      "Train MSE: 79.1545, Train MAE: 5.6900\n"
     ]
    },
    {
     "name": "stderr",
     "output_type": "stream",
     "text": [
      " 45%|████▌     | 453/1000 [21:10<26:20,  2.89s/it]"
     ]
    },
    {
     "name": "stdout",
     "output_type": "stream",
     "text": [
      "Test MSE: 73.8626, Test MAE: 5.6552, Test R2: 0.1527\n",
      "Epoch 454/1000\n",
      "Train MSE: 78.7280, Train MAE: 5.6811\n"
     ]
    },
    {
     "name": "stderr",
     "output_type": "stream",
     "text": [
      " 45%|████▌     | 454/1000 [21:12<26:16,  2.89s/it]"
     ]
    },
    {
     "name": "stdout",
     "output_type": "stream",
     "text": [
      "Test MSE: 76.0193, Test MAE: 5.7465, Test R2: 0.1830\n",
      "Epoch 455/1000\n",
      "Train MSE: 80.0287, Train MAE: 5.7534\n"
     ]
    },
    {
     "name": "stderr",
     "output_type": "stream",
     "text": [
      " 46%|████▌     | 455/1000 [21:15<26:12,  2.89s/it]"
     ]
    },
    {
     "name": "stdout",
     "output_type": "stream",
     "text": [
      "Test MSE: 76.1270, Test MAE: 5.7438, Test R2: 0.1717\n",
      "Epoch 456/1000\n",
      "Train MSE: 77.8185, Train MAE: 5.6490\n"
     ]
    },
    {
     "name": "stderr",
     "output_type": "stream",
     "text": [
      " 46%|████▌     | 456/1000 [21:18<26:05,  2.88s/it]"
     ]
    },
    {
     "name": "stdout",
     "output_type": "stream",
     "text": [
      "Test MSE: 79.7472, Test MAE: 5.7412, Test R2: 0.2245\n",
      "Epoch 457/1000\n",
      "Train MSE: 81.0453, Train MAE: 5.7177\n"
     ]
    },
    {
     "name": "stderr",
     "output_type": "stream",
     "text": [
      " 46%|████▌     | 457/1000 [21:21<26:09,  2.89s/it]"
     ]
    },
    {
     "name": "stdout",
     "output_type": "stream",
     "text": [
      "Test MSE: 80.9467, Test MAE: 5.8176, Test R2: 0.1046\n",
      "Epoch 458/1000\n",
      "Train MSE: 80.7287, Train MAE: 5.6876\n"
     ]
    },
    {
     "name": "stderr",
     "output_type": "stream",
     "text": [
      " 46%|████▌     | 458/1000 [21:24<25:51,  2.86s/it]"
     ]
    },
    {
     "name": "stdout",
     "output_type": "stream",
     "text": [
      "Test MSE: 76.7067, Test MAE: 5.7368, Test R2: 0.2188\n",
      "Epoch 459/1000\n",
      "Train MSE: 78.5809, Train MAE: 5.6744\n"
     ]
    },
    {
     "name": "stderr",
     "output_type": "stream",
     "text": [
      " 46%|████▌     | 459/1000 [21:27<25:31,  2.83s/it]"
     ]
    },
    {
     "name": "stdout",
     "output_type": "stream",
     "text": [
      "Test MSE: 75.3795, Test MAE: 5.7034, Test R2: 0.1326\n",
      "Epoch 460/1000\n",
      "Train MSE: 79.6752, Train MAE: 5.6565\n"
     ]
    },
    {
     "name": "stderr",
     "output_type": "stream",
     "text": [
      " 46%|████▌     | 460/1000 [21:29<25:27,  2.83s/it]"
     ]
    },
    {
     "name": "stdout",
     "output_type": "stream",
     "text": [
      "Test MSE: 74.4721, Test MAE: 5.7113, Test R2: 0.0678\n",
      "Epoch 461/1000\n",
      "Train MSE: 80.6227, Train MAE: 5.7299\n"
     ]
    },
    {
     "name": "stderr",
     "output_type": "stream",
     "text": [
      " 46%|████▌     | 461/1000 [21:32<25:12,  2.81s/it]"
     ]
    },
    {
     "name": "stdout",
     "output_type": "stream",
     "text": [
      "Test MSE: 71.4349, Test MAE: 5.5872, Test R2: 0.1525\n",
      "Epoch 462/1000\n",
      "Train MSE: 80.6669, Train MAE: 5.6985\n"
     ]
    },
    {
     "name": "stderr",
     "output_type": "stream",
     "text": [
      " 46%|████▌     | 462/1000 [21:35<25:09,  2.81s/it]"
     ]
    },
    {
     "name": "stdout",
     "output_type": "stream",
     "text": [
      "Test MSE: 72.9352, Test MAE: 5.6185, Test R2: 0.0690\n",
      "Epoch 463/1000\n",
      "Train MSE: 78.6562, Train MAE: 5.6941\n"
     ]
    },
    {
     "name": "stderr",
     "output_type": "stream",
     "text": [
      " 46%|████▋     | 463/1000 [21:38<25:03,  2.80s/it]"
     ]
    },
    {
     "name": "stdout",
     "output_type": "stream",
     "text": [
      "Test MSE: 73.4786, Test MAE: 5.6206, Test R2: 0.2243\n",
      "Epoch 464/1000\n",
      "Train MSE: 79.4504, Train MAE: 5.6989\n"
     ]
    },
    {
     "name": "stderr",
     "output_type": "stream",
     "text": [
      " 46%|████▋     | 464/1000 [21:41<25:11,  2.82s/it]"
     ]
    },
    {
     "name": "stdout",
     "output_type": "stream",
     "text": [
      "Test MSE: 74.8455, Test MAE: 5.6569, Test R2: 0.1916\n",
      "Epoch 465/1000\n",
      "Train MSE: 79.9264, Train MAE: 5.6892\n"
     ]
    },
    {
     "name": "stderr",
     "output_type": "stream",
     "text": [
      " 46%|████▋     | 465/1000 [21:44<25:10,  2.82s/it]"
     ]
    },
    {
     "name": "stdout",
     "output_type": "stream",
     "text": [
      "Test MSE: 70.8969, Test MAE: 5.5938, Test R2: 0.1218\n",
      "Epoch 466/1000\n",
      "Train MSE: 79.1817, Train MAE: 5.6773\n"
     ]
    },
    {
     "name": "stderr",
     "output_type": "stream",
     "text": [
      " 47%|████▋     | 466/1000 [21:46<25:09,  2.83s/it]"
     ]
    },
    {
     "name": "stdout",
     "output_type": "stream",
     "text": [
      "Test MSE: 74.8563, Test MAE: 5.6824, Test R2: 0.1870\n",
      "Epoch 467/1000\n",
      "Train MSE: 80.7934, Train MAE: 5.6936\n"
     ]
    },
    {
     "name": "stderr",
     "output_type": "stream",
     "text": [
      " 47%|████▋     | 467/1000 [21:49<24:56,  2.81s/it]"
     ]
    },
    {
     "name": "stdout",
     "output_type": "stream",
     "text": [
      "Test MSE: 80.1987, Test MAE: 5.7949, Test R2: 0.1002\n",
      "Epoch 468/1000\n",
      "Train MSE: 79.3689, Train MAE: 5.6767\n"
     ]
    },
    {
     "name": "stderr",
     "output_type": "stream",
     "text": [
      " 47%|████▋     | 468/1000 [21:52<24:51,  2.80s/it]"
     ]
    },
    {
     "name": "stdout",
     "output_type": "stream",
     "text": [
      "Test MSE: 74.3861, Test MAE: 5.6786, Test R2: 0.1958\n",
      "Epoch 469/1000\n",
      "Train MSE: 81.7138, Train MAE: 5.7265\n"
     ]
    },
    {
     "name": "stderr",
     "output_type": "stream",
     "text": [
      " 47%|████▋     | 469/1000 [21:55<24:43,  2.79s/it]"
     ]
    },
    {
     "name": "stdout",
     "output_type": "stream",
     "text": [
      "Test MSE: 76.9683, Test MAE: 5.7499, Test R2: 0.1873\n",
      "Epoch 470/1000\n",
      "Train MSE: 81.1416, Train MAE: 5.6790\n"
     ]
    },
    {
     "name": "stderr",
     "output_type": "stream",
     "text": [
      " 47%|████▋     | 470/1000 [21:57<24:38,  2.79s/it]"
     ]
    },
    {
     "name": "stdout",
     "output_type": "stream",
     "text": [
      "Test MSE: 72.2971, Test MAE: 5.6408, Test R2: 0.0746\n",
      "Epoch 471/1000\n",
      "Train MSE: 77.8672, Train MAE: 5.6300\n"
     ]
    },
    {
     "name": "stderr",
     "output_type": "stream",
     "text": [
      " 47%|████▋     | 471/1000 [22:00<24:36,  2.79s/it]"
     ]
    },
    {
     "name": "stdout",
     "output_type": "stream",
     "text": [
      "Test MSE: 75.0034, Test MAE: 5.6545, Test R2: 0.2100\n",
      "Epoch 472/1000\n",
      "Train MSE: 81.9441, Train MAE: 5.7462\n"
     ]
    },
    {
     "name": "stderr",
     "output_type": "stream",
     "text": [
      " 47%|████▋     | 472/1000 [22:03<24:47,  2.82s/it]"
     ]
    },
    {
     "name": "stdout",
     "output_type": "stream",
     "text": [
      "Test MSE: 75.7889, Test MAE: 5.6802, Test R2: 0.2117\n",
      "Epoch 473/1000\n",
      "Train MSE: 80.7968, Train MAE: 5.6765\n"
     ]
    },
    {
     "name": "stderr",
     "output_type": "stream",
     "text": [
      " 47%|████▋     | 473/1000 [22:06<24:55,  2.84s/it]"
     ]
    },
    {
     "name": "stdout",
     "output_type": "stream",
     "text": [
      "Test MSE: 78.7325, Test MAE: 5.8095, Test R2: 0.1747\n",
      "Epoch 474/1000\n",
      "Train MSE: 80.2374, Train MAE: 5.6864\n"
     ]
    },
    {
     "name": "stderr",
     "output_type": "stream",
     "text": [
      " 47%|████▋     | 474/1000 [22:09<24:55,  2.84s/it]"
     ]
    },
    {
     "name": "stdout",
     "output_type": "stream",
     "text": [
      "Test MSE: 75.6033, Test MAE: 5.6585, Test R2: 0.1258\n",
      "Epoch 475/1000\n",
      "Train MSE: 82.6764, Train MAE: 5.7418\n"
     ]
    },
    {
     "name": "stderr",
     "output_type": "stream",
     "text": [
      " 48%|████▊     | 475/1000 [22:12<24:49,  2.84s/it]"
     ]
    },
    {
     "name": "stdout",
     "output_type": "stream",
     "text": [
      "Test MSE: 78.3219, Test MAE: 5.7394, Test R2: 0.2037\n",
      "Epoch 476/1000\n",
      "Train MSE: 78.9999, Train MAE: 5.6531\n"
     ]
    },
    {
     "name": "stderr",
     "output_type": "stream",
     "text": [
      " 48%|████▊     | 476/1000 [22:15<24:51,  2.85s/it]"
     ]
    },
    {
     "name": "stdout",
     "output_type": "stream",
     "text": [
      "Test MSE: 75.7655, Test MAE: 5.6869, Test R2: 0.2078\n",
      "Epoch 477/1000\n",
      "Train MSE: 80.1237, Train MAE: 5.7265\n"
     ]
    },
    {
     "name": "stderr",
     "output_type": "stream",
     "text": [
      " 48%|████▊     | 477/1000 [22:17<24:41,  2.83s/it]"
     ]
    },
    {
     "name": "stdout",
     "output_type": "stream",
     "text": [
      "Test MSE: 76.2748, Test MAE: 5.6827, Test R2: 0.2252\n",
      "Epoch 478/1000\n",
      "Train MSE: 78.7335, Train MAE: 5.6646\n"
     ]
    },
    {
     "name": "stderr",
     "output_type": "stream",
     "text": [
      " 48%|████▊     | 478/1000 [22:20<24:41,  2.84s/it]"
     ]
    },
    {
     "name": "stdout",
     "output_type": "stream",
     "text": [
      "Test MSE: 76.3478, Test MAE: 5.7095, Test R2: 0.1194\n",
      "Epoch 479/1000\n",
      "Train MSE: 80.7373, Train MAE: 5.6823\n"
     ]
    },
    {
     "name": "stderr",
     "output_type": "stream",
     "text": [
      " 48%|████▊     | 479/1000 [22:23<24:33,  2.83s/it]"
     ]
    },
    {
     "name": "stdout",
     "output_type": "stream",
     "text": [
      "Test MSE: 78.8366, Test MAE: 5.7432, Test R2: 0.0851\n",
      "Epoch 480/1000\n",
      "Train MSE: 80.7086, Train MAE: 5.6978\n"
     ]
    },
    {
     "name": "stderr",
     "output_type": "stream",
     "text": [
      " 48%|████▊     | 480/1000 [22:26<24:26,  2.82s/it]"
     ]
    },
    {
     "name": "stdout",
     "output_type": "stream",
     "text": [
      "Test MSE: 75.4924, Test MAE: 5.7029, Test R2: 0.2157\n",
      "Epoch 481/1000\n",
      "Train MSE: 79.4277, Train MAE: 5.6940\n"
     ]
    },
    {
     "name": "stderr",
     "output_type": "stream",
     "text": [
      " 48%|████▊     | 481/1000 [22:29<24:17,  2.81s/it]"
     ]
    },
    {
     "name": "stdout",
     "output_type": "stream",
     "text": [
      "Test MSE: 80.8094, Test MAE: 5.8698, Test R2: 0.1505\n",
      "Epoch 482/1000\n",
      "Train MSE: 80.2178, Train MAE: 5.6944\n"
     ]
    },
    {
     "name": "stderr",
     "output_type": "stream",
     "text": [
      " 48%|████▊     | 482/1000 [22:31<24:21,  2.82s/it]"
     ]
    },
    {
     "name": "stdout",
     "output_type": "stream",
     "text": [
      "Test MSE: 81.2363, Test MAE: 5.7898, Test R2: 0.2307\n",
      "Epoch 483/1000\n",
      "Train MSE: 80.3798, Train MAE: 5.7156\n"
     ]
    },
    {
     "name": "stderr",
     "output_type": "stream",
     "text": [
      " 48%|████▊     | 483/1000 [22:34<24:24,  2.83s/it]"
     ]
    },
    {
     "name": "stdout",
     "output_type": "stream",
     "text": [
      "Test MSE: 75.5383, Test MAE: 5.7318, Test R2: 0.0746\n",
      "Epoch 484/1000\n",
      "Train MSE: 79.5963, Train MAE: 5.6695\n"
     ]
    },
    {
     "name": "stderr",
     "output_type": "stream",
     "text": [
      " 48%|████▊     | 484/1000 [22:37<24:18,  2.83s/it]"
     ]
    },
    {
     "name": "stdout",
     "output_type": "stream",
     "text": [
      "Test MSE: 74.5228, Test MAE: 5.6685, Test R2: 0.1923\n",
      "Epoch 485/1000\n",
      "Train MSE: 78.9219, Train MAE: 5.6848\n"
     ]
    },
    {
     "name": "stderr",
     "output_type": "stream",
     "text": [
      " 48%|████▊     | 485/1000 [22:40<24:10,  2.82s/it]"
     ]
    },
    {
     "name": "stdout",
     "output_type": "stream",
     "text": [
      "Test MSE: 74.4407, Test MAE: 5.6535, Test R2: 0.1150\n",
      "Epoch 486/1000\n",
      "Train MSE: 79.1168, Train MAE: 5.6711\n"
     ]
    },
    {
     "name": "stderr",
     "output_type": "stream",
     "text": [
      " 49%|████▊     | 486/1000 [22:43<24:01,  2.80s/it]"
     ]
    },
    {
     "name": "stdout",
     "output_type": "stream",
     "text": [
      "Test MSE: 79.1938, Test MAE: 5.7393, Test R2: 0.1997\n",
      "Epoch 487/1000\n",
      "Train MSE: 81.3122, Train MAE: 5.6969\n"
     ]
    },
    {
     "name": "stderr",
     "output_type": "stream",
     "text": [
      " 49%|████▊     | 487/1000 [22:46<24:01,  2.81s/it]"
     ]
    },
    {
     "name": "stdout",
     "output_type": "stream",
     "text": [
      "Test MSE: 79.9998, Test MAE: 5.7944, Test R2: 0.1779\n",
      "Epoch 488/1000\n",
      "Train MSE: 76.7492, Train MAE: 5.6286\n"
     ]
    },
    {
     "name": "stderr",
     "output_type": "stream",
     "text": [
      " 49%|████▉     | 488/1000 [22:48<23:59,  2.81s/it]"
     ]
    },
    {
     "name": "stdout",
     "output_type": "stream",
     "text": [
      "Test MSE: 74.9218, Test MAE: 5.6046, Test R2: 0.1444\n",
      "Epoch 489/1000\n",
      "Train MSE: 78.8567, Train MAE: 5.6957\n"
     ]
    },
    {
     "name": "stderr",
     "output_type": "stream",
     "text": [
      " 49%|████▉     | 489/1000 [22:51<23:51,  2.80s/it]"
     ]
    },
    {
     "name": "stdout",
     "output_type": "stream",
     "text": [
      "Test MSE: 76.8413, Test MAE: 5.7403, Test R2: 0.1597\n",
      "Epoch 490/1000\n",
      "Train MSE: 82.4517, Train MAE: 5.7525\n"
     ]
    },
    {
     "name": "stderr",
     "output_type": "stream",
     "text": [
      " 49%|████▉     | 490/1000 [22:54<23:41,  2.79s/it]"
     ]
    },
    {
     "name": "stdout",
     "output_type": "stream",
     "text": [
      "Test MSE: 79.4482, Test MAE: 5.7781, Test R2: 0.1804\n",
      "Epoch 491/1000\n",
      "Train MSE: 80.8284, Train MAE: 5.7115\n"
     ]
    },
    {
     "name": "stderr",
     "output_type": "stream",
     "text": [
      " 49%|████▉     | 491/1000 [22:57<23:42,  2.79s/it]"
     ]
    },
    {
     "name": "stdout",
     "output_type": "stream",
     "text": [
      "Test MSE: 77.3598, Test MAE: 5.7686, Test R2: 0.1241\n",
      "Epoch 492/1000\n",
      "Train MSE: 81.3213, Train MAE: 5.6795\n"
     ]
    },
    {
     "name": "stderr",
     "output_type": "stream",
     "text": [
      " 49%|████▉     | 492/1000 [22:59<23:45,  2.81s/it]"
     ]
    },
    {
     "name": "stdout",
     "output_type": "stream",
     "text": [
      "Test MSE: 76.9827, Test MAE: 5.6809, Test R2: 0.2015\n",
      "Epoch 493/1000\n",
      "Train MSE: 80.4101, Train MAE: 5.6782\n"
     ]
    },
    {
     "name": "stderr",
     "output_type": "stream",
     "text": [
      " 49%|████▉     | 493/1000 [23:02<24:03,  2.85s/it]"
     ]
    },
    {
     "name": "stdout",
     "output_type": "stream",
     "text": [
      "Test MSE: 79.8065, Test MAE: 5.7734, Test R2: 0.1939\n",
      "Epoch 494/1000\n",
      "Train MSE: 79.6340, Train MAE: 5.6734\n"
     ]
    },
    {
     "name": "stderr",
     "output_type": "stream",
     "text": [
      " 49%|████▉     | 494/1000 [23:05<24:09,  2.87s/it]"
     ]
    },
    {
     "name": "stdout",
     "output_type": "stream",
     "text": [
      "Test MSE: 72.4767, Test MAE: 5.6635, Test R2: 0.1823\n",
      "Epoch 495/1000\n",
      "Train MSE: 79.3607, Train MAE: 5.6695\n"
     ]
    },
    {
     "name": "stderr",
     "output_type": "stream",
     "text": [
      " 50%|████▉     | 495/1000 [23:08<24:00,  2.85s/it]"
     ]
    },
    {
     "name": "stdout",
     "output_type": "stream",
     "text": [
      "Test MSE: 79.7984, Test MAE: 5.8179, Test R2: 0.1088\n",
      "Epoch 496/1000\n",
      "Train MSE: 82.2131, Train MAE: 5.7213\n"
     ]
    },
    {
     "name": "stderr",
     "output_type": "stream",
     "text": [
      " 50%|████▉     | 496/1000 [23:11<24:08,  2.87s/it]"
     ]
    },
    {
     "name": "stdout",
     "output_type": "stream",
     "text": [
      "Test MSE: 77.4955, Test MAE: 5.7250, Test R2: 0.1701\n",
      "Epoch 497/1000\n",
      "Train MSE: 80.3946, Train MAE: 5.7003\n"
     ]
    },
    {
     "name": "stderr",
     "output_type": "stream",
     "text": [
      " 50%|████▉     | 497/1000 [23:14<24:08,  2.88s/it]"
     ]
    },
    {
     "name": "stdout",
     "output_type": "stream",
     "text": [
      "Test MSE: 76.9185, Test MAE: 5.7295, Test R2: 0.2046\n",
      "Epoch 498/1000\n",
      "Train MSE: 81.4775, Train MAE: 5.7250\n"
     ]
    },
    {
     "name": "stderr",
     "output_type": "stream",
     "text": [
      " 50%|████▉     | 498/1000 [23:17<24:10,  2.89s/it]"
     ]
    },
    {
     "name": "stdout",
     "output_type": "stream",
     "text": [
      "Test MSE: 76.6095, Test MAE: 5.6994, Test R2: 0.2042\n",
      "Epoch 499/1000\n",
      "Train MSE: 78.9939, Train MAE: 5.6723\n"
     ]
    },
    {
     "name": "stderr",
     "output_type": "stream",
     "text": [
      " 50%|████▉     | 499/1000 [23:20<24:04,  2.88s/it]"
     ]
    },
    {
     "name": "stdout",
     "output_type": "stream",
     "text": [
      "Test MSE: 74.3731, Test MAE: 5.7016, Test R2: 0.1680\n",
      "Epoch 500/1000\n",
      "Train MSE: 80.2446, Train MAE: 5.6431\n"
     ]
    },
    {
     "name": "stderr",
     "output_type": "stream",
     "text": [
      " 50%|█████     | 500/1000 [23:23<23:46,  2.85s/it]"
     ]
    },
    {
     "name": "stdout",
     "output_type": "stream",
     "text": [
      "Test MSE: 71.6152, Test MAE: 5.5907, Test R2: 0.2080\n",
      "Epoch 501/1000\n",
      "Train MSE: 80.7867, Train MAE: 5.7263\n"
     ]
    },
    {
     "name": "stderr",
     "output_type": "stream",
     "text": [
      " 50%|█████     | 501/1000 [23:25<23:28,  2.82s/it]"
     ]
    },
    {
     "name": "stdout",
     "output_type": "stream",
     "text": [
      "Test MSE: 75.6973, Test MAE: 5.6892, Test R2: 0.2117\n",
      "Epoch 502/1000\n",
      "Train MSE: 79.0593, Train MAE: 5.6782\n"
     ]
    },
    {
     "name": "stderr",
     "output_type": "stream",
     "text": [
      " 50%|█████     | 502/1000 [23:28<23:09,  2.79s/it]"
     ]
    },
    {
     "name": "stdout",
     "output_type": "stream",
     "text": [
      "Test MSE: 78.0565, Test MAE: 5.7623, Test R2: 0.2282\n",
      "Epoch 503/1000\n",
      "Train MSE: 80.4468, Train MAE: 5.6978\n"
     ]
    },
    {
     "name": "stderr",
     "output_type": "stream",
     "text": [
      " 50%|█████     | 503/1000 [23:31<23:22,  2.82s/it]"
     ]
    },
    {
     "name": "stdout",
     "output_type": "stream",
     "text": [
      "Test MSE: 73.7447, Test MAE: 5.6259, Test R2: 0.2147\n",
      "Epoch 504/1000\n",
      "Train MSE: 79.3977, Train MAE: 5.6822\n"
     ]
    },
    {
     "name": "stderr",
     "output_type": "stream",
     "text": [
      " 50%|█████     | 504/1000 [23:34<23:04,  2.79s/it]"
     ]
    },
    {
     "name": "stdout",
     "output_type": "stream",
     "text": [
      "Test MSE: 72.6142, Test MAE: 5.5995, Test R2: 0.1716\n",
      "Epoch 505/1000\n",
      "Train MSE: 78.1064, Train MAE: 5.6303\n"
     ]
    },
    {
     "name": "stderr",
     "output_type": "stream",
     "text": [
      " 50%|█████     | 505/1000 [23:36<22:59,  2.79s/it]"
     ]
    },
    {
     "name": "stdout",
     "output_type": "stream",
     "text": [
      "Test MSE: 75.9361, Test MAE: 5.7176, Test R2: 0.1809\n",
      "Epoch 506/1000\n",
      "Train MSE: 81.4751, Train MAE: 5.7422\n"
     ]
    },
    {
     "name": "stderr",
     "output_type": "stream",
     "text": [
      " 51%|█████     | 506/1000 [23:39<22:52,  2.78s/it]"
     ]
    },
    {
     "name": "stdout",
     "output_type": "stream",
     "text": [
      "Test MSE: 73.4651, Test MAE: 5.6011, Test R2: 0.2460\n",
      "Epoch 507/1000\n",
      "Train MSE: 79.4428, Train MAE: 5.6747\n"
     ]
    },
    {
     "name": "stderr",
     "output_type": "stream",
     "text": [
      " 51%|█████     | 507/1000 [23:42<22:52,  2.78s/it]"
     ]
    },
    {
     "name": "stdout",
     "output_type": "stream",
     "text": [
      "Test MSE: 74.0107, Test MAE: 5.6186, Test R2: 0.2257\n",
      "Epoch 508/1000\n",
      "Train MSE: 79.3985, Train MAE: 5.6838\n"
     ]
    },
    {
     "name": "stderr",
     "output_type": "stream",
     "text": [
      " 51%|█████     | 508/1000 [23:45<22:55,  2.80s/it]"
     ]
    },
    {
     "name": "stdout",
     "output_type": "stream",
     "text": [
      "Test MSE: 78.1961, Test MAE: 5.7512, Test R2: 0.1341\n",
      "Epoch 509/1000\n",
      "Train MSE: 78.0032, Train MAE: 5.6280\n"
     ]
    },
    {
     "name": "stderr",
     "output_type": "stream",
     "text": [
      " 51%|█████     | 509/1000 [23:48<23:05,  2.82s/it]"
     ]
    },
    {
     "name": "stdout",
     "output_type": "stream",
     "text": [
      "Test MSE: 72.4050, Test MAE: 5.6422, Test R2: 0.0816\n",
      "Epoch 510/1000\n",
      "Train MSE: 79.5385, Train MAE: 5.6773\n"
     ]
    },
    {
     "name": "stderr",
     "output_type": "stream",
     "text": [
      " 51%|█████     | 510/1000 [23:51<23:04,  2.82s/it]"
     ]
    },
    {
     "name": "stdout",
     "output_type": "stream",
     "text": [
      "Test MSE: 76.5228, Test MAE: 5.6544, Test R2: 0.2514\n",
      "Epoch 511/1000\n",
      "Train MSE: 79.4727, Train MAE: 5.6251\n"
     ]
    },
    {
     "name": "stderr",
     "output_type": "stream",
     "text": [
      " 51%|█████     | 511/1000 [23:53<23:00,  2.82s/it]"
     ]
    },
    {
     "name": "stdout",
     "output_type": "stream",
     "text": [
      "Test MSE: 72.7665, Test MAE: 5.6511, Test R2: 0.0366\n",
      "Epoch 512/1000\n",
      "Train MSE: 80.5763, Train MAE: 5.7651\n"
     ]
    },
    {
     "name": "stderr",
     "output_type": "stream",
     "text": [
      " 51%|█████     | 512/1000 [23:56<22:57,  2.82s/it]"
     ]
    },
    {
     "name": "stdout",
     "output_type": "stream",
     "text": [
      "Test MSE: 75.7768, Test MAE: 5.7046, Test R2: 0.1554\n",
      "Epoch 513/1000\n",
      "Train MSE: 77.8999, Train MAE: 5.6671\n"
     ]
    },
    {
     "name": "stderr",
     "output_type": "stream",
     "text": [
      " 51%|█████▏    | 513/1000 [23:59<22:44,  2.80s/it]"
     ]
    },
    {
     "name": "stdout",
     "output_type": "stream",
     "text": [
      "Test MSE: 72.4402, Test MAE: 5.6892, Test R2: 0.2338\n",
      "Epoch 514/1000\n",
      "Train MSE: 78.9621, Train MAE: 5.6666\n"
     ]
    },
    {
     "name": "stderr",
     "output_type": "stream",
     "text": [
      " 51%|█████▏    | 514/1000 [24:02<22:51,  2.82s/it]"
     ]
    },
    {
     "name": "stdout",
     "output_type": "stream",
     "text": [
      "Test MSE: 73.9611, Test MAE: 5.6832, Test R2: 0.2354\n",
      "Epoch 515/1000\n",
      "Train MSE: 80.4387, Train MAE: 5.6656\n"
     ]
    },
    {
     "name": "stderr",
     "output_type": "stream",
     "text": [
      " 52%|█████▏    | 515/1000 [24:05<22:54,  2.83s/it]"
     ]
    },
    {
     "name": "stdout",
     "output_type": "stream",
     "text": [
      "Test MSE: 75.8245, Test MAE: 5.6956, Test R2: 0.1834\n",
      "Epoch 516/1000\n",
      "Train MSE: 79.3245, Train MAE: 5.6639\n"
     ]
    },
    {
     "name": "stderr",
     "output_type": "stream",
     "text": [
      " 52%|█████▏    | 516/1000 [24:08<22:57,  2.85s/it]"
     ]
    },
    {
     "name": "stdout",
     "output_type": "stream",
     "text": [
      "Test MSE: 75.0834, Test MAE: 5.6440, Test R2: 0.1734\n",
      "Epoch 517/1000\n",
      "Train MSE: 79.8203, Train MAE: 5.6690\n"
     ]
    },
    {
     "name": "stderr",
     "output_type": "stream",
     "text": [
      " 52%|█████▏    | 517/1000 [24:10<22:57,  2.85s/it]"
     ]
    },
    {
     "name": "stdout",
     "output_type": "stream",
     "text": [
      "Test MSE: 76.1856, Test MAE: 5.7549, Test R2: 0.1729\n",
      "Epoch 518/1000\n",
      "Train MSE: 79.1933, Train MAE: 5.6904\n"
     ]
    },
    {
     "name": "stderr",
     "output_type": "stream",
     "text": [
      " 52%|█████▏    | 518/1000 [24:13<22:57,  2.86s/it]"
     ]
    },
    {
     "name": "stdout",
     "output_type": "stream",
     "text": [
      "Test MSE: 74.2240, Test MAE: 5.6688, Test R2: 0.1959\n",
      "Epoch 519/1000\n",
      "Train MSE: 80.9680, Train MAE: 5.6765\n"
     ]
    },
    {
     "name": "stderr",
     "output_type": "stream",
     "text": [
      " 52%|█████▏    | 519/1000 [24:16<22:54,  2.86s/it]"
     ]
    },
    {
     "name": "stdout",
     "output_type": "stream",
     "text": [
      "Test MSE: 78.2933, Test MAE: 5.7625, Test R2: 0.2321\n",
      "Epoch 520/1000\n",
      "Train MSE: 79.7966, Train MAE: 5.6406\n"
     ]
    },
    {
     "name": "stderr",
     "output_type": "stream",
     "text": [
      " 52%|█████▏    | 520/1000 [24:19<22:51,  2.86s/it]"
     ]
    },
    {
     "name": "stdout",
     "output_type": "stream",
     "text": [
      "Test MSE: 76.2112, Test MAE: 5.7335, Test R2: 0.1447\n",
      "Epoch 521/1000\n",
      "Train MSE: 79.7063, Train MAE: 5.6930\n"
     ]
    },
    {
     "name": "stderr",
     "output_type": "stream",
     "text": [
      " 52%|█████▏    | 521/1000 [24:22<22:52,  2.87s/it]"
     ]
    },
    {
     "name": "stdout",
     "output_type": "stream",
     "text": [
      "Test MSE: 73.9050, Test MAE: 5.7314, Test R2: 0.1790\n",
      "Epoch 522/1000\n",
      "Train MSE: 80.5570, Train MAE: 5.7006\n"
     ]
    },
    {
     "name": "stderr",
     "output_type": "stream",
     "text": [
      " 52%|█████▏    | 522/1000 [24:25<22:45,  2.86s/it]"
     ]
    },
    {
     "name": "stdout",
     "output_type": "stream",
     "text": [
      "Test MSE: 79.0562, Test MAE: 5.7554, Test R2: 0.2083\n",
      "Epoch 523/1000\n",
      "Train MSE: 80.6383, Train MAE: 5.6988\n"
     ]
    },
    {
     "name": "stderr",
     "output_type": "stream",
     "text": [
      " 52%|█████▏    | 523/1000 [24:28<22:44,  2.86s/it]"
     ]
    },
    {
     "name": "stdout",
     "output_type": "stream",
     "text": [
      "Test MSE: 77.4482, Test MAE: 5.7024, Test R2: 0.2158\n",
      "Epoch 524/1000\n",
      "Train MSE: 79.7253, Train MAE: 5.6453\n"
     ]
    },
    {
     "name": "stderr",
     "output_type": "stream",
     "text": [
      " 52%|█████▏    | 524/1000 [24:30<22:39,  2.86s/it]"
     ]
    },
    {
     "name": "stdout",
     "output_type": "stream",
     "text": [
      "Test MSE: 74.5341, Test MAE: 5.6088, Test R2: 0.2655\n",
      "Epoch 525/1000\n",
      "Train MSE: 80.6598, Train MAE: 5.6571\n"
     ]
    },
    {
     "name": "stderr",
     "output_type": "stream",
     "text": [
      " 52%|█████▎    | 525/1000 [24:33<22:47,  2.88s/it]"
     ]
    },
    {
     "name": "stdout",
     "output_type": "stream",
     "text": [
      "Test MSE: 72.8644, Test MAE: 5.6324, Test R2: 0.1275\n",
      "Epoch 526/1000\n",
      "Train MSE: 77.5947, Train MAE: 5.6222\n"
     ]
    },
    {
     "name": "stderr",
     "output_type": "stream",
     "text": [
      " 53%|█████▎    | 526/1000 [24:36<22:51,  2.89s/it]"
     ]
    },
    {
     "name": "stdout",
     "output_type": "stream",
     "text": [
      "Test MSE: 72.7809, Test MAE: 5.6113, Test R2: 0.1996\n",
      "Epoch 527/1000\n",
      "Train MSE: 77.8980, Train MAE: 5.6336\n"
     ]
    },
    {
     "name": "stderr",
     "output_type": "stream",
     "text": [
      " 53%|█████▎    | 527/1000 [24:39<22:48,  2.89s/it]"
     ]
    },
    {
     "name": "stdout",
     "output_type": "stream",
     "text": [
      "Test MSE: 70.9603, Test MAE: 5.5985, Test R2: 0.1999\n",
      "Epoch 528/1000\n",
      "Train MSE: 77.6751, Train MAE: 5.6386\n"
     ]
    },
    {
     "name": "stderr",
     "output_type": "stream",
     "text": [
      " 53%|█████▎    | 528/1000 [24:42<22:51,  2.90s/it]"
     ]
    },
    {
     "name": "stdout",
     "output_type": "stream",
     "text": [
      "Test MSE: 70.2477, Test MAE: 5.5588, Test R2: 0.2389\n",
      "Epoch 529/1000\n",
      "Train MSE: 78.1486, Train MAE: 5.6822\n"
     ]
    },
    {
     "name": "stderr",
     "output_type": "stream",
     "text": [
      " 53%|█████▎    | 529/1000 [24:45<22:55,  2.92s/it]"
     ]
    },
    {
     "name": "stdout",
     "output_type": "stream",
     "text": [
      "Test MSE: 74.6941, Test MAE: 5.6981, Test R2: 0.2184\n",
      "Epoch 530/1000\n",
      "Train MSE: 79.9237, Train MAE: 5.6603\n"
     ]
    },
    {
     "name": "stderr",
     "output_type": "stream",
     "text": [
      " 53%|█████▎    | 530/1000 [24:48<22:47,  2.91s/it]"
     ]
    },
    {
     "name": "stdout",
     "output_type": "stream",
     "text": [
      "Test MSE: 70.8261, Test MAE: 5.5855, Test R2: 0.2189\n",
      "Epoch 531/1000\n",
      "Train MSE: 80.2409, Train MAE: 5.6107\n"
     ]
    },
    {
     "name": "stderr",
     "output_type": "stream",
     "text": [
      " 53%|█████▎    | 531/1000 [24:51<22:31,  2.88s/it]"
     ]
    },
    {
     "name": "stdout",
     "output_type": "stream",
     "text": [
      "Test MSE: 73.7105, Test MAE: 5.6770, Test R2: 0.1821\n",
      "Epoch 532/1000\n",
      "Train MSE: 78.1311, Train MAE: 5.5889\n"
     ]
    },
    {
     "name": "stderr",
     "output_type": "stream",
     "text": [
      " 53%|█████▎    | 532/1000 [24:54<22:15,  2.85s/it]"
     ]
    },
    {
     "name": "stdout",
     "output_type": "stream",
     "text": [
      "Test MSE: 70.2942, Test MAE: 5.5683, Test R2: 0.2127\n",
      "Epoch 533/1000\n",
      "Train MSE: 76.3940, Train MAE: 5.6313\n"
     ]
    },
    {
     "name": "stderr",
     "output_type": "stream",
     "text": [
      " 53%|█████▎    | 533/1000 [24:56<21:58,  2.82s/it]"
     ]
    },
    {
     "name": "stdout",
     "output_type": "stream",
     "text": [
      "Test MSE: 71.6372, Test MAE: 5.5709, Test R2: 0.2448\n",
      "Epoch 534/1000\n",
      "Train MSE: 75.3794, Train MAE: 5.5801\n"
     ]
    },
    {
     "name": "stderr",
     "output_type": "stream",
     "text": [
      " 53%|█████▎    | 534/1000 [24:59<21:46,  2.80s/it]"
     ]
    },
    {
     "name": "stdout",
     "output_type": "stream",
     "text": [
      "Test MSE: 74.4490, Test MAE: 5.6599, Test R2: 0.2285\n",
      "Epoch 535/1000\n",
      "Train MSE: 78.3450, Train MAE: 5.6525\n"
     ]
    },
    {
     "name": "stderr",
     "output_type": "stream",
     "text": [
      " 54%|█████▎    | 535/1000 [25:02<21:49,  2.82s/it]"
     ]
    },
    {
     "name": "stdout",
     "output_type": "stream",
     "text": [
      "Test MSE: 71.6878, Test MAE: 5.6120, Test R2: 0.2035\n",
      "Epoch 536/1000\n",
      "Train MSE: 80.1814, Train MAE: 5.6804\n"
     ]
    },
    {
     "name": "stderr",
     "output_type": "stream",
     "text": [
      " 54%|█████▎    | 536/1000 [25:05<21:40,  2.80s/it]"
     ]
    },
    {
     "name": "stdout",
     "output_type": "stream",
     "text": [
      "Test MSE: 72.3409, Test MAE: 5.6349, Test R2: 0.2213\n",
      "Epoch 537/1000\n",
      "Train MSE: 81.8774, Train MAE: 5.6272\n"
     ]
    },
    {
     "name": "stderr",
     "output_type": "stream",
     "text": [
      " 54%|█████▎    | 537/1000 [25:07<21:37,  2.80s/it]"
     ]
    },
    {
     "name": "stdout",
     "output_type": "stream",
     "text": [
      "Test MSE: 72.4059, Test MAE: 5.6860, Test R2: 0.1606\n",
      "Epoch 538/1000\n",
      "Train MSE: 78.1139, Train MAE: 5.6147\n"
     ]
    },
    {
     "name": "stderr",
     "output_type": "stream",
     "text": [
      " 54%|█████▍    | 538/1000 [25:10<21:37,  2.81s/it]"
     ]
    },
    {
     "name": "stdout",
     "output_type": "stream",
     "text": [
      "Test MSE: 72.6395, Test MAE: 5.6372, Test R2: 0.2281\n",
      "Epoch 539/1000\n",
      "Train MSE: 78.0608, Train MAE: 5.6036\n"
     ]
    },
    {
     "name": "stderr",
     "output_type": "stream",
     "text": [
      " 54%|█████▍    | 539/1000 [25:13<21:28,  2.79s/it]"
     ]
    },
    {
     "name": "stdout",
     "output_type": "stream",
     "text": [
      "Test MSE: 74.8685, Test MAE: 5.6677, Test R2: 0.2449\n",
      "Epoch 540/1000\n",
      "Train MSE: 82.9195, Train MAE: 5.7117\n"
     ]
    },
    {
     "name": "stderr",
     "output_type": "stream",
     "text": [
      " 54%|█████▍    | 540/1000 [25:16<21:25,  2.79s/it]"
     ]
    },
    {
     "name": "stdout",
     "output_type": "stream",
     "text": [
      "Test MSE: 72.8016, Test MAE: 5.6287, Test R2: 0.2550\n",
      "Epoch 541/1000\n",
      "Train MSE: 77.7920, Train MAE: 5.6426\n"
     ]
    },
    {
     "name": "stderr",
     "output_type": "stream",
     "text": [
      " 54%|█████▍    | 541/1000 [25:19<21:15,  2.78s/it]"
     ]
    },
    {
     "name": "stdout",
     "output_type": "stream",
     "text": [
      "Test MSE: 71.0255, Test MAE: 5.5697, Test R2: 0.1700\n",
      "Epoch 542/1000\n",
      "Train MSE: 79.5255, Train MAE: 5.7076\n"
     ]
    },
    {
     "name": "stderr",
     "output_type": "stream",
     "text": [
      " 54%|█████▍    | 542/1000 [25:21<21:15,  2.78s/it]"
     ]
    },
    {
     "name": "stdout",
     "output_type": "stream",
     "text": [
      "Test MSE: 79.1126, Test MAE: 5.7554, Test R2: 0.2143\n",
      "Epoch 543/1000\n",
      "Train MSE: 80.7953, Train MAE: 5.6958\n"
     ]
    },
    {
     "name": "stderr",
     "output_type": "stream",
     "text": [
      " 54%|█████▍    | 543/1000 [25:24<21:09,  2.78s/it]"
     ]
    },
    {
     "name": "stdout",
     "output_type": "stream",
     "text": [
      "Test MSE: 76.2904, Test MAE: 5.6566, Test R2: 0.2172\n",
      "Epoch 544/1000\n",
      "Train MSE: 81.1580, Train MAE: 5.7279\n"
     ]
    },
    {
     "name": "stderr",
     "output_type": "stream",
     "text": [
      " 54%|█████▍    | 544/1000 [25:27<21:12,  2.79s/it]"
     ]
    },
    {
     "name": "stdout",
     "output_type": "stream",
     "text": [
      "Test MSE: 74.7515, Test MAE: 5.6349, Test R2: 0.2198\n",
      "Epoch 545/1000\n",
      "Train MSE: 81.3561, Train MAE: 5.6932\n"
     ]
    },
    {
     "name": "stderr",
     "output_type": "stream",
     "text": [
      " 55%|█████▍    | 545/1000 [25:30<21:13,  2.80s/it]"
     ]
    },
    {
     "name": "stdout",
     "output_type": "stream",
     "text": [
      "Test MSE: 79.7023, Test MAE: 5.8251, Test R2: 0.1919\n",
      "Epoch 546/1000\n",
      "Train MSE: 80.1248, Train MAE: 5.6759\n"
     ]
    },
    {
     "name": "stderr",
     "output_type": "stream",
     "text": [
      " 55%|█████▍    | 546/1000 [25:33<21:08,  2.79s/it]"
     ]
    },
    {
     "name": "stdout",
     "output_type": "stream",
     "text": [
      "Test MSE: 75.1461, Test MAE: 5.6509, Test R2: 0.2397\n",
      "Epoch 547/1000\n",
      "Train MSE: 80.2570, Train MAE: 5.6375\n"
     ]
    },
    {
     "name": "stderr",
     "output_type": "stream",
     "text": [
      " 55%|█████▍    | 547/1000 [25:35<21:06,  2.80s/it]"
     ]
    },
    {
     "name": "stdout",
     "output_type": "stream",
     "text": [
      "Test MSE: 72.9994, Test MAE: 5.6515, Test R2: 0.1694\n",
      "Epoch 548/1000\n",
      "Train MSE: 77.8123, Train MAE: 5.6725\n"
     ]
    },
    {
     "name": "stderr",
     "output_type": "stream",
     "text": [
      " 55%|█████▍    | 548/1000 [25:38<21:07,  2.80s/it]"
     ]
    },
    {
     "name": "stdout",
     "output_type": "stream",
     "text": [
      "Test MSE: 78.5189, Test MAE: 5.7486, Test R2: 0.2478\n",
      "Epoch 549/1000\n",
      "Train MSE: 78.3975, Train MAE: 5.6262\n"
     ]
    },
    {
     "name": "stderr",
     "output_type": "stream",
     "text": [
      " 55%|█████▍    | 549/1000 [25:41<21:02,  2.80s/it]"
     ]
    },
    {
     "name": "stdout",
     "output_type": "stream",
     "text": [
      "Test MSE: 74.4143, Test MAE: 5.6423, Test R2: 0.2378\n",
      "Epoch 550/1000\n",
      "Train MSE: 79.4686, Train MAE: 5.6803\n"
     ]
    },
    {
     "name": "stderr",
     "output_type": "stream",
     "text": [
      " 55%|█████▌    | 550/1000 [25:44<21:01,  2.80s/it]"
     ]
    },
    {
     "name": "stdout",
     "output_type": "stream",
     "text": [
      "Test MSE: 74.7237, Test MAE: 5.6790, Test R2: 0.2290\n",
      "Epoch 551/1000\n",
      "Train MSE: 77.7036, Train MAE: 5.5939\n"
     ]
    },
    {
     "name": "stderr",
     "output_type": "stream",
     "text": [
      " 55%|█████▌    | 551/1000 [25:47<20:58,  2.80s/it]"
     ]
    },
    {
     "name": "stdout",
     "output_type": "stream",
     "text": [
      "Test MSE: 75.8314, Test MAE: 5.7026, Test R2: 0.1615\n",
      "Epoch 552/1000\n",
      "Train MSE: 78.3866, Train MAE: 5.6301\n"
     ]
    },
    {
     "name": "stderr",
     "output_type": "stream",
     "text": [
      " 55%|█████▌    | 552/1000 [25:49<20:44,  2.78s/it]"
     ]
    },
    {
     "name": "stdout",
     "output_type": "stream",
     "text": [
      "Test MSE: 75.8447, Test MAE: 5.6548, Test R2: 0.1798\n",
      "Epoch 553/1000\n",
      "Train MSE: 77.6502, Train MAE: 5.6110\n"
     ]
    },
    {
     "name": "stderr",
     "output_type": "stream",
     "text": [
      " 55%|█████▌    | 553/1000 [25:52<20:39,  2.77s/it]"
     ]
    },
    {
     "name": "stdout",
     "output_type": "stream",
     "text": [
      "Test MSE: 78.0369, Test MAE: 5.7387, Test R2: 0.1095\n",
      "Epoch 554/1000\n",
      "Train MSE: 79.5267, Train MAE: 5.7113\n"
     ]
    },
    {
     "name": "stderr",
     "output_type": "stream",
     "text": [
      " 55%|█████▌    | 554/1000 [25:55<20:43,  2.79s/it]"
     ]
    },
    {
     "name": "stdout",
     "output_type": "stream",
     "text": [
      "Test MSE: 79.4303, Test MAE: 5.7961, Test R2: 0.1942\n",
      "Epoch 555/1000\n",
      "Train MSE: 78.6516, Train MAE: 5.6153\n"
     ]
    },
    {
     "name": "stderr",
     "output_type": "stream",
     "text": [
      " 56%|█████▌    | 555/1000 [25:58<20:56,  2.82s/it]"
     ]
    },
    {
     "name": "stdout",
     "output_type": "stream",
     "text": [
      "Test MSE: 77.9748, Test MAE: 5.6953, Test R2: 0.2477\n",
      "Epoch 556/1000\n",
      "Train MSE: 80.2914, Train MAE: 5.6335\n"
     ]
    },
    {
     "name": "stderr",
     "output_type": "stream",
     "text": [
      " 56%|█████▌    | 556/1000 [26:01<21:05,  2.85s/it]"
     ]
    },
    {
     "name": "stdout",
     "output_type": "stream",
     "text": [
      "Test MSE: 71.0452, Test MAE: 5.5778, Test R2: 0.2380\n",
      "Epoch 557/1000\n",
      "Train MSE: 80.0321, Train MAE: 5.6623\n"
     ]
    },
    {
     "name": "stderr",
     "output_type": "stream",
     "text": [
      " 56%|█████▌    | 557/1000 [26:04<21:01,  2.85s/it]"
     ]
    },
    {
     "name": "stdout",
     "output_type": "stream",
     "text": [
      "Test MSE: 74.5914, Test MAE: 5.6789, Test R2: 0.2375\n",
      "Epoch 558/1000\n",
      "Train MSE: 79.8240, Train MAE: 5.6592\n"
     ]
    },
    {
     "name": "stderr",
     "output_type": "stream",
     "text": [
      " 56%|█████▌    | 558/1000 [26:06<20:59,  2.85s/it]"
     ]
    },
    {
     "name": "stdout",
     "output_type": "stream",
     "text": [
      "Test MSE: 76.8150, Test MAE: 5.7048, Test R2: 0.2459\n",
      "Epoch 559/1000\n",
      "Train MSE: 79.7324, Train MAE: 5.6775\n"
     ]
    },
    {
     "name": "stderr",
     "output_type": "stream",
     "text": [
      " 56%|█████▌    | 559/1000 [26:09<20:55,  2.85s/it]"
     ]
    },
    {
     "name": "stdout",
     "output_type": "stream",
     "text": [
      "Test MSE: 76.9234, Test MAE: 5.7114, Test R2: 0.1898\n",
      "Epoch 560/1000\n",
      "Train MSE: 75.2543, Train MAE: 5.5557\n"
     ]
    },
    {
     "name": "stderr",
     "output_type": "stream",
     "text": [
      " 56%|█████▌    | 560/1000 [26:12<20:54,  2.85s/it]"
     ]
    },
    {
     "name": "stdout",
     "output_type": "stream",
     "text": [
      "Test MSE: 73.2159, Test MAE: 5.6180, Test R2: 0.1857\n",
      "Epoch 561/1000\n",
      "Train MSE: 77.0324, Train MAE: 5.5853\n"
     ]
    },
    {
     "name": "stderr",
     "output_type": "stream",
     "text": [
      " 56%|█████▌    | 561/1000 [26:15<21:06,  2.88s/it]"
     ]
    },
    {
     "name": "stdout",
     "output_type": "stream",
     "text": [
      "Test MSE: 74.8927, Test MAE: 5.6690, Test R2: 0.0833\n",
      "Epoch 562/1000\n",
      "Train MSE: 79.1479, Train MAE: 5.6463\n"
     ]
    },
    {
     "name": "stderr",
     "output_type": "stream",
     "text": [
      " 56%|█████▌    | 562/1000 [26:18<21:05,  2.89s/it]"
     ]
    },
    {
     "name": "stdout",
     "output_type": "stream",
     "text": [
      "Test MSE: 73.2794, Test MAE: 5.6055, Test R2: 0.2117\n",
      "Epoch 563/1000\n",
      "Train MSE: 80.1059, Train MAE: 5.6556\n"
     ]
    },
    {
     "name": "stderr",
     "output_type": "stream",
     "text": [
      " 56%|█████▋    | 563/1000 [26:21<21:03,  2.89s/it]"
     ]
    },
    {
     "name": "stdout",
     "output_type": "stream",
     "text": [
      "Test MSE: 73.4140, Test MAE: 5.6648, Test R2: 0.1868\n",
      "Epoch 564/1000\n",
      "Train MSE: 82.1728, Train MAE: 5.7407\n"
     ]
    },
    {
     "name": "stderr",
     "output_type": "stream",
     "text": [
      " 56%|█████▋    | 564/1000 [26:24<20:53,  2.88s/it]"
     ]
    },
    {
     "name": "stdout",
     "output_type": "stream",
     "text": [
      "Test MSE: 75.7849, Test MAE: 5.6560, Test R2: 0.2499\n",
      "Epoch 565/1000\n",
      "Train MSE: 80.7823, Train MAE: 5.6778\n"
     ]
    },
    {
     "name": "stderr",
     "output_type": "stream",
     "text": [
      " 56%|█████▋    | 565/1000 [26:27<20:45,  2.86s/it]"
     ]
    },
    {
     "name": "stdout",
     "output_type": "stream",
     "text": [
      "Test MSE: 76.1348, Test MAE: 5.7110, Test R2: 0.2221\n",
      "Epoch 566/1000\n",
      "Train MSE: 80.7335, Train MAE: 5.6899\n"
     ]
    },
    {
     "name": "stderr",
     "output_type": "stream",
     "text": [
      " 57%|█████▋    | 566/1000 [26:29<20:30,  2.84s/it]"
     ]
    },
    {
     "name": "stdout",
     "output_type": "stream",
     "text": [
      "Test MSE: 75.3092, Test MAE: 5.7452, Test R2: 0.2104\n",
      "Epoch 567/1000\n",
      "Train MSE: 78.8275, Train MAE: 5.6428\n"
     ]
    },
    {
     "name": "stderr",
     "output_type": "stream",
     "text": [
      " 57%|█████▋    | 567/1000 [26:32<20:24,  2.83s/it]"
     ]
    },
    {
     "name": "stdout",
     "output_type": "stream",
     "text": [
      "Test MSE: 73.6300, Test MAE: 5.6383, Test R2: 0.2487\n",
      "Epoch 568/1000\n",
      "Train MSE: 77.3688, Train MAE: 5.6364\n"
     ]
    },
    {
     "name": "stderr",
     "output_type": "stream",
     "text": [
      " 57%|█████▋    | 568/1000 [26:35<20:15,  2.81s/it]"
     ]
    },
    {
     "name": "stdout",
     "output_type": "stream",
     "text": [
      "Test MSE: 73.9113, Test MAE: 5.6358, Test R2: 0.1182\n",
      "Epoch 569/1000\n",
      "Train MSE: 77.0860, Train MAE: 5.6234\n"
     ]
    },
    {
     "name": "stderr",
     "output_type": "stream",
     "text": [
      " 57%|█████▋    | 569/1000 [26:38<20:12,  2.81s/it]"
     ]
    },
    {
     "name": "stdout",
     "output_type": "stream",
     "text": [
      "Test MSE: 72.5785, Test MAE: 5.6233, Test R2: 0.1989\n",
      "Epoch 570/1000\n",
      "Train MSE: 78.9027, Train MAE: 5.6440\n"
     ]
    },
    {
     "name": "stderr",
     "output_type": "stream",
     "text": [
      " 57%|█████▋    | 570/1000 [26:41<20:09,  2.81s/it]"
     ]
    },
    {
     "name": "stdout",
     "output_type": "stream",
     "text": [
      "Test MSE: 73.4256, Test MAE: 5.6596, Test R2: 0.2428\n",
      "Epoch 571/1000\n",
      "Train MSE: 79.6338, Train MAE: 5.6581\n"
     ]
    },
    {
     "name": "stderr",
     "output_type": "stream",
     "text": [
      " 57%|█████▋    | 571/1000 [26:43<20:03,  2.80s/it]"
     ]
    },
    {
     "name": "stdout",
     "output_type": "stream",
     "text": [
      "Test MSE: 73.8871, Test MAE: 5.6987, Test R2: 0.2478\n",
      "Epoch 572/1000\n",
      "Train MSE: 77.2349, Train MAE: 5.6193\n"
     ]
    },
    {
     "name": "stderr",
     "output_type": "stream",
     "text": [
      " 57%|█████▋    | 572/1000 [26:46<20:01,  2.81s/it]"
     ]
    },
    {
     "name": "stdout",
     "output_type": "stream",
     "text": [
      "Test MSE: 74.3456, Test MAE: 5.6436, Test R2: 0.2406\n",
      "Epoch 573/1000\n",
      "Train MSE: 79.4961, Train MAE: 5.6750\n"
     ]
    },
    {
     "name": "stderr",
     "output_type": "stream",
     "text": [
      " 57%|█████▋    | 573/1000 [26:49<19:54,  2.80s/it]"
     ]
    },
    {
     "name": "stdout",
     "output_type": "stream",
     "text": [
      "Test MSE: 75.4450, Test MAE: 5.6599, Test R2: 0.1872\n",
      "Epoch 574/1000\n",
      "Train MSE: 79.2688, Train MAE: 5.6613\n"
     ]
    },
    {
     "name": "stderr",
     "output_type": "stream",
     "text": [
      " 57%|█████▋    | 574/1000 [26:52<19:56,  2.81s/it]"
     ]
    },
    {
     "name": "stdout",
     "output_type": "stream",
     "text": [
      "Test MSE: 76.7557, Test MAE: 5.7065, Test R2: 0.2009\n",
      "Epoch 575/1000\n",
      "Train MSE: 78.8572, Train MAE: 5.6490\n"
     ]
    },
    {
     "name": "stderr",
     "output_type": "stream",
     "text": [
      " 57%|█████▊    | 575/1000 [26:54<19:49,  2.80s/it]"
     ]
    },
    {
     "name": "stdout",
     "output_type": "stream",
     "text": [
      "Test MSE: 80.0431, Test MAE: 5.7834, Test R2: 0.2284\n",
      "Epoch 576/1000\n",
      "Train MSE: 78.1067, Train MAE: 5.6609\n"
     ]
    },
    {
     "name": "stderr",
     "output_type": "stream",
     "text": [
      " 58%|█████▊    | 576/1000 [26:57<19:45,  2.80s/it]"
     ]
    },
    {
     "name": "stdout",
     "output_type": "stream",
     "text": [
      "Test MSE: 75.4985, Test MAE: 5.7057, Test R2: 0.2624\n",
      "Epoch 577/1000\n",
      "Train MSE: 78.0620, Train MAE: 5.6001\n"
     ]
    },
    {
     "name": "stderr",
     "output_type": "stream",
     "text": [
      " 58%|█████▊    | 577/1000 [27:00<19:38,  2.79s/it]"
     ]
    },
    {
     "name": "stdout",
     "output_type": "stream",
     "text": [
      "Test MSE: 71.0813, Test MAE: 5.6244, Test R2: 0.1327\n",
      "Epoch 578/1000\n",
      "Train MSE: 79.1050, Train MAE: 5.6059\n"
     ]
    },
    {
     "name": "stderr",
     "output_type": "stream",
     "text": [
      " 58%|█████▊    | 578/1000 [27:03<19:37,  2.79s/it]"
     ]
    },
    {
     "name": "stdout",
     "output_type": "stream",
     "text": [
      "Test MSE: 81.6274, Test MAE: 5.7853, Test R2: 0.2050\n",
      "Epoch 579/1000\n",
      "Train MSE: 77.0057, Train MAE: 5.5616\n"
     ]
    },
    {
     "name": "stderr",
     "output_type": "stream",
     "text": [
      " 58%|█████▊    | 579/1000 [27:06<19:35,  2.79s/it]"
     ]
    },
    {
     "name": "stdout",
     "output_type": "stream",
     "text": [
      "Test MSE: 81.9100, Test MAE: 5.8152, Test R2: 0.2050\n",
      "Epoch 580/1000\n",
      "Train MSE: 79.0952, Train MAE: 5.6348\n"
     ]
    },
    {
     "name": "stderr",
     "output_type": "stream",
     "text": [
      " 58%|█████▊    | 580/1000 [27:08<19:33,  2.79s/it]"
     ]
    },
    {
     "name": "stdout",
     "output_type": "stream",
     "text": [
      "Test MSE: 78.9437, Test MAE: 5.7285, Test R2: 0.1981\n",
      "Epoch 581/1000\n",
      "Train MSE: 80.1690, Train MAE: 5.6298\n"
     ]
    },
    {
     "name": "stderr",
     "output_type": "stream",
     "text": [
      " 58%|█████▊    | 581/1000 [27:11<19:31,  2.79s/it]"
     ]
    },
    {
     "name": "stdout",
     "output_type": "stream",
     "text": [
      "Test MSE: 70.8669, Test MAE: 5.5779, Test R2: 0.2374\n",
      "Epoch 582/1000\n",
      "Train MSE: 77.8459, Train MAE: 5.5950\n"
     ]
    },
    {
     "name": "stderr",
     "output_type": "stream",
     "text": [
      " 58%|█████▊    | 582/1000 [27:14<19:25,  2.79s/it]"
     ]
    },
    {
     "name": "stdout",
     "output_type": "stream",
     "text": [
      "Test MSE: 79.7753, Test MAE: 5.8102, Test R2: 0.1632\n",
      "Epoch 583/1000\n",
      "Train MSE: 77.4922, Train MAE: 5.6225\n"
     ]
    },
    {
     "name": "stderr",
     "output_type": "stream",
     "text": [
      " 58%|█████▊    | 583/1000 [27:17<19:29,  2.80s/it]"
     ]
    },
    {
     "name": "stdout",
     "output_type": "stream",
     "text": [
      "Test MSE: 75.6617, Test MAE: 5.7043, Test R2: 0.1723\n",
      "Epoch 584/1000\n",
      "Train MSE: 78.5293, Train MAE: 5.6181\n"
     ]
    },
    {
     "name": "stderr",
     "output_type": "stream",
     "text": [
      " 58%|█████▊    | 584/1000 [27:20<19:35,  2.82s/it]"
     ]
    },
    {
     "name": "stdout",
     "output_type": "stream",
     "text": [
      "Test MSE: 73.3346, Test MAE: 5.6643, Test R2: 0.2417\n",
      "Epoch 585/1000\n",
      "Train MSE: 77.4410, Train MAE: 5.6210\n"
     ]
    },
    {
     "name": "stderr",
     "output_type": "stream",
     "text": [
      " 58%|█████▊    | 585/1000 [27:23<19:37,  2.84s/it]"
     ]
    },
    {
     "name": "stdout",
     "output_type": "stream",
     "text": [
      "Test MSE: 77.3389, Test MAE: 5.7738, Test R2: 0.2039\n",
      "Epoch 586/1000\n",
      "Train MSE: 78.8195, Train MAE: 5.6643\n"
     ]
    },
    {
     "name": "stderr",
     "output_type": "stream",
     "text": [
      " 59%|█████▊    | 586/1000 [27:25<19:32,  2.83s/it]"
     ]
    },
    {
     "name": "stdout",
     "output_type": "stream",
     "text": [
      "Test MSE: 69.8981, Test MAE: 5.5915, Test R2: 0.2006\n",
      "Epoch 587/1000\n",
      "Train MSE: 75.0562, Train MAE: 5.5802\n"
     ]
    },
    {
     "name": "stderr",
     "output_type": "stream",
     "text": [
      " 59%|█████▊    | 587/1000 [27:28<19:35,  2.85s/it]"
     ]
    },
    {
     "name": "stdout",
     "output_type": "stream",
     "text": [
      "Test MSE: 75.9817, Test MAE: 5.7248, Test R2: 0.2330\n",
      "Epoch 588/1000\n",
      "Train MSE: 80.9082, Train MAE: 5.7303\n"
     ]
    },
    {
     "name": "stderr",
     "output_type": "stream",
     "text": [
      " 59%|█████▉    | 588/1000 [27:31<19:31,  2.84s/it]"
     ]
    },
    {
     "name": "stdout",
     "output_type": "stream",
     "text": [
      "Test MSE: 79.0055, Test MAE: 5.7752, Test R2: 0.0771\n",
      "Epoch 589/1000\n",
      "Train MSE: 79.0262, Train MAE: 5.6011\n"
     ]
    },
    {
     "name": "stderr",
     "output_type": "stream",
     "text": [
      " 59%|█████▉    | 589/1000 [27:34<19:24,  2.83s/it]"
     ]
    },
    {
     "name": "stdout",
     "output_type": "stream",
     "text": [
      "Test MSE: 74.2326, Test MAE: 5.6681, Test R2: 0.2086\n",
      "Epoch 590/1000\n",
      "Train MSE: 78.7699, Train MAE: 5.6371\n"
     ]
    },
    {
     "name": "stderr",
     "output_type": "stream",
     "text": [
      " 59%|█████▉    | 590/1000 [27:37<19:22,  2.83s/it]"
     ]
    },
    {
     "name": "stdout",
     "output_type": "stream",
     "text": [
      "Test MSE: 73.7005, Test MAE: 5.6638, Test R2: 0.2020\n",
      "Epoch 591/1000\n",
      "Train MSE: 78.7101, Train MAE: 5.6191\n"
     ]
    },
    {
     "name": "stderr",
     "output_type": "stream",
     "text": [
      " 59%|█████▉    | 591/1000 [27:40<19:18,  2.83s/it]"
     ]
    },
    {
     "name": "stdout",
     "output_type": "stream",
     "text": [
      "Test MSE: 74.3626, Test MAE: 5.6123, Test R2: 0.2481\n",
      "Epoch 592/1000\n",
      "Train MSE: 77.1531, Train MAE: 5.5974\n"
     ]
    },
    {
     "name": "stderr",
     "output_type": "stream",
     "text": [
      " 59%|█████▉    | 592/1000 [27:42<19:16,  2.83s/it]"
     ]
    },
    {
     "name": "stdout",
     "output_type": "stream",
     "text": [
      "Test MSE: 75.6394, Test MAE: 5.6941, Test R2: 0.2299\n",
      "Epoch 593/1000\n",
      "Train MSE: 78.8857, Train MAE: 5.6202\n"
     ]
    },
    {
     "name": "stderr",
     "output_type": "stream",
     "text": [
      " 59%|█████▉    | 593/1000 [27:45<19:02,  2.81s/it]"
     ]
    },
    {
     "name": "stdout",
     "output_type": "stream",
     "text": [
      "Test MSE: 75.0891, Test MAE: 5.6976, Test R2: 0.1814\n",
      "Epoch 594/1000\n",
      "Train MSE: 79.9883, Train MAE: 5.6821\n"
     ]
    },
    {
     "name": "stderr",
     "output_type": "stream",
     "text": [
      " 59%|█████▉    | 594/1000 [27:48<18:55,  2.80s/it]"
     ]
    },
    {
     "name": "stdout",
     "output_type": "stream",
     "text": [
      "Test MSE: 74.2353, Test MAE: 5.6664, Test R2: 0.2240\n",
      "Epoch 595/1000\n",
      "Train MSE: 79.1434, Train MAE: 5.6770\n"
     ]
    },
    {
     "name": "stderr",
     "output_type": "stream",
     "text": [
      " 60%|█████▉    | 595/1000 [27:51<18:46,  2.78s/it]"
     ]
    },
    {
     "name": "stdout",
     "output_type": "stream",
     "text": [
      "Test MSE: 76.0804, Test MAE: 5.7240, Test R2: 0.2053\n",
      "Epoch 596/1000\n",
      "Train MSE: 79.2184, Train MAE: 5.6529\n"
     ]
    },
    {
     "name": "stderr",
     "output_type": "stream",
     "text": [
      " 60%|█████▉    | 596/1000 [27:54<18:58,  2.82s/it]"
     ]
    },
    {
     "name": "stdout",
     "output_type": "stream",
     "text": [
      "Test MSE: 77.1493, Test MAE: 5.7198, Test R2: 0.1854\n",
      "Epoch 597/1000\n",
      "Train MSE: 78.9277, Train MAE: 5.6101\n"
     ]
    },
    {
     "name": "stderr",
     "output_type": "stream",
     "text": [
      " 60%|█████▉    | 597/1000 [27:56<18:59,  2.83s/it]"
     ]
    },
    {
     "name": "stdout",
     "output_type": "stream",
     "text": [
      "Test MSE: 74.1011, Test MAE: 5.6325, Test R2: 0.2122\n",
      "Epoch 598/1000\n",
      "Train MSE: 76.9517, Train MAE: 5.6011\n"
     ]
    },
    {
     "name": "stderr",
     "output_type": "stream",
     "text": [
      " 60%|█████▉    | 598/1000 [27:59<19:02,  2.84s/it]"
     ]
    },
    {
     "name": "stdout",
     "output_type": "stream",
     "text": [
      "Test MSE: 79.9037, Test MAE: 5.8014, Test R2: 0.0942\n",
      "Epoch 599/1000\n",
      "Train MSE: 78.7198, Train MAE: 5.6291\n"
     ]
    },
    {
     "name": "stderr",
     "output_type": "stream",
     "text": [
      " 60%|█████▉    | 599/1000 [28:02<19:08,  2.86s/it]"
     ]
    },
    {
     "name": "stdout",
     "output_type": "stream",
     "text": [
      "Test MSE: 73.4601, Test MAE: 5.6129, Test R2: 0.1958\n",
      "Epoch 600/1000\n",
      "Train MSE: 79.3752, Train MAE: 5.6526\n"
     ]
    },
    {
     "name": "stderr",
     "output_type": "stream",
     "text": [
      " 60%|██████    | 600/1000 [28:05<19:09,  2.87s/it]"
     ]
    },
    {
     "name": "stdout",
     "output_type": "stream",
     "text": [
      "Test MSE: 73.6455, Test MAE: 5.6521, Test R2: 0.1912\n",
      "Epoch 601/1000\n",
      "Train MSE: 78.1262, Train MAE: 5.6520\n"
     ]
    },
    {
     "name": "stderr",
     "output_type": "stream",
     "text": [
      " 60%|██████    | 601/1000 [28:08<19:08,  2.88s/it]"
     ]
    },
    {
     "name": "stdout",
     "output_type": "stream",
     "text": [
      "Test MSE: 73.8497, Test MAE: 5.6436, Test R2: 0.2105\n",
      "Epoch 602/1000\n",
      "Train MSE: 75.9984, Train MAE: 5.5511\n"
     ]
    },
    {
     "name": "stderr",
     "output_type": "stream",
     "text": [
      " 60%|██████    | 602/1000 [28:11<19:09,  2.89s/it]"
     ]
    },
    {
     "name": "stdout",
     "output_type": "stream",
     "text": [
      "Test MSE: 78.9931, Test MAE: 5.7608, Test R2: 0.2275\n",
      "Epoch 603/1000\n",
      "Train MSE: 78.9571, Train MAE: 5.6719\n"
     ]
    },
    {
     "name": "stderr",
     "output_type": "stream",
     "text": [
      " 60%|██████    | 603/1000 [28:14<19:09,  2.90s/it]"
     ]
    },
    {
     "name": "stdout",
     "output_type": "stream",
     "text": [
      "Test MSE: 71.8695, Test MAE: 5.5768, Test R2: 0.2458\n",
      "Epoch 604/1000\n",
      "Train MSE: 78.1027, Train MAE: 5.6856\n"
     ]
    },
    {
     "name": "stderr",
     "output_type": "stream",
     "text": [
      " 60%|██████    | 604/1000 [28:17<18:59,  2.88s/it]"
     ]
    },
    {
     "name": "stdout",
     "output_type": "stream",
     "text": [
      "Test MSE: 75.7304, Test MAE: 5.6720, Test R2: 0.2279\n",
      "Epoch 605/1000\n",
      "Train MSE: 79.6869, Train MAE: 5.5911\n"
     ]
    },
    {
     "name": "stderr",
     "output_type": "stream",
     "text": [
      " 60%|██████    | 605/1000 [28:20<18:48,  2.86s/it]"
     ]
    },
    {
     "name": "stdout",
     "output_type": "stream",
     "text": [
      "Test MSE: 73.2691, Test MAE: 5.6451, Test R2: 0.2189\n",
      "Epoch 606/1000\n",
      "Train MSE: 79.7586, Train MAE: 5.6517\n"
     ]
    },
    {
     "name": "stderr",
     "output_type": "stream",
     "text": [
      " 61%|██████    | 606/1000 [28:22<18:41,  2.85s/it]"
     ]
    },
    {
     "name": "stdout",
     "output_type": "stream",
     "text": [
      "Test MSE: 73.8466, Test MAE: 5.6330, Test R2: 0.2298\n",
      "Epoch 607/1000\n",
      "Train MSE: 77.6806, Train MAE: 5.6309\n"
     ]
    },
    {
     "name": "stderr",
     "output_type": "stream",
     "text": [
      " 61%|██████    | 607/1000 [28:25<18:29,  2.82s/it]"
     ]
    },
    {
     "name": "stdout",
     "output_type": "stream",
     "text": [
      "Test MSE: 80.5121, Test MAE: 5.7590, Test R2: 0.1345\n",
      "Epoch 608/1000\n",
      "Train MSE: 79.2027, Train MAE: 5.6382\n"
     ]
    },
    {
     "name": "stderr",
     "output_type": "stream",
     "text": [
      " 61%|██████    | 608/1000 [28:28<18:30,  2.83s/it]"
     ]
    },
    {
     "name": "stdout",
     "output_type": "stream",
     "text": [
      "Test MSE: 79.0628, Test MAE: 5.7915, Test R2: 0.1715\n",
      "Epoch 609/1000\n",
      "Train MSE: 78.5930, Train MAE: 5.6042\n"
     ]
    },
    {
     "name": "stderr",
     "output_type": "stream",
     "text": [
      " 61%|██████    | 609/1000 [28:31<18:38,  2.86s/it]"
     ]
    },
    {
     "name": "stdout",
     "output_type": "stream",
     "text": [
      "Test MSE: 73.0493, Test MAE: 5.6342, Test R2: 0.2112\n",
      "Epoch 610/1000\n",
      "Train MSE: 79.0879, Train MAE: 5.6651\n"
     ]
    },
    {
     "name": "stderr",
     "output_type": "stream",
     "text": [
      " 61%|██████    | 610/1000 [28:34<18:35,  2.86s/it]"
     ]
    },
    {
     "name": "stdout",
     "output_type": "stream",
     "text": [
      "Test MSE: 71.7343, Test MAE: 5.6471, Test R2: 0.1636\n",
      "Epoch 611/1000\n",
      "Train MSE: 76.8530, Train MAE: 5.5478\n"
     ]
    },
    {
     "name": "stderr",
     "output_type": "stream",
     "text": [
      " 61%|██████    | 611/1000 [28:37<18:27,  2.85s/it]"
     ]
    },
    {
     "name": "stdout",
     "output_type": "stream",
     "text": [
      "Test MSE: 72.5806, Test MAE: 5.6423, Test R2: 0.2321\n",
      "Epoch 612/1000\n",
      "Train MSE: 77.0515, Train MAE: 5.5980\n"
     ]
    },
    {
     "name": "stderr",
     "output_type": "stream",
     "text": [
      " 61%|██████    | 612/1000 [28:39<18:25,  2.85s/it]"
     ]
    },
    {
     "name": "stdout",
     "output_type": "stream",
     "text": [
      "Test MSE: 74.3074, Test MAE: 5.6420, Test R2: 0.2402\n",
      "Epoch 613/1000\n",
      "Train MSE: 76.7986, Train MAE: 5.6244\n"
     ]
    },
    {
     "name": "stderr",
     "output_type": "stream",
     "text": [
      " 61%|██████▏   | 613/1000 [28:42<18:21,  2.85s/it]"
     ]
    },
    {
     "name": "stdout",
     "output_type": "stream",
     "text": [
      "Test MSE: 73.6671, Test MAE: 5.6992, Test R2: 0.1376\n",
      "Epoch 614/1000\n",
      "Train MSE: 79.8445, Train MAE: 5.6546\n"
     ]
    },
    {
     "name": "stderr",
     "output_type": "stream",
     "text": [
      " 61%|██████▏   | 614/1000 [28:45<18:09,  2.82s/it]"
     ]
    },
    {
     "name": "stdout",
     "output_type": "stream",
     "text": [
      "Test MSE: 73.8083, Test MAE: 5.6566, Test R2: 0.2431\n",
      "Epoch 615/1000\n",
      "Train MSE: 76.4998, Train MAE: 5.5646\n"
     ]
    },
    {
     "name": "stderr",
     "output_type": "stream",
     "text": [
      " 62%|██████▏   | 615/1000 [28:48<18:06,  2.82s/it]"
     ]
    },
    {
     "name": "stdout",
     "output_type": "stream",
     "text": [
      "Test MSE: 78.5999, Test MAE: 5.7585, Test R2: 0.2368\n",
      "Epoch 616/1000\n",
      "Train MSE: 79.2576, Train MAE: 5.6399\n"
     ]
    },
    {
     "name": "stderr",
     "output_type": "stream",
     "text": [
      " 62%|██████▏   | 616/1000 [28:51<17:54,  2.80s/it]"
     ]
    },
    {
     "name": "stdout",
     "output_type": "stream",
     "text": [
      "Test MSE: 71.0807, Test MAE: 5.5601, Test R2: 0.2480\n",
      "Epoch 617/1000\n",
      "Train MSE: 80.0192, Train MAE: 5.6284\n"
     ]
    },
    {
     "name": "stderr",
     "output_type": "stream",
     "text": [
      " 62%|██████▏   | 617/1000 [28:53<17:51,  2.80s/it]"
     ]
    },
    {
     "name": "stdout",
     "output_type": "stream",
     "text": [
      "Test MSE: 75.3500, Test MAE: 5.6850, Test R2: 0.2093\n",
      "Epoch 618/1000\n",
      "Train MSE: 78.6776, Train MAE: 5.6128\n"
     ]
    },
    {
     "name": "stderr",
     "output_type": "stream",
     "text": [
      " 62%|██████▏   | 618/1000 [28:56<17:43,  2.78s/it]"
     ]
    },
    {
     "name": "stdout",
     "output_type": "stream",
     "text": [
      "Test MSE: 82.3618, Test MAE: 5.8564, Test R2: 0.1533\n",
      "Epoch 619/1000\n",
      "Train MSE: 77.9035, Train MAE: 5.5973\n"
     ]
    },
    {
     "name": "stderr",
     "output_type": "stream",
     "text": [
      " 62%|██████▏   | 619/1000 [28:59<17:39,  2.78s/it]"
     ]
    },
    {
     "name": "stdout",
     "output_type": "stream",
     "text": [
      "Test MSE: 72.7608, Test MAE: 5.6266, Test R2: 0.1628\n",
      "Epoch 620/1000\n",
      "Train MSE: 75.8891, Train MAE: 5.5649\n"
     ]
    },
    {
     "name": "stderr",
     "output_type": "stream",
     "text": [
      " 62%|██████▏   | 620/1000 [29:02<17:38,  2.79s/it]"
     ]
    },
    {
     "name": "stdout",
     "output_type": "stream",
     "text": [
      "Test MSE: 74.9498, Test MAE: 5.6271, Test R2: 0.2144\n",
      "Epoch 621/1000\n",
      "Train MSE: 79.5862, Train MAE: 5.6424\n"
     ]
    },
    {
     "name": "stderr",
     "output_type": "stream",
     "text": [
      " 62%|██████▏   | 621/1000 [29:05<17:42,  2.80s/it]"
     ]
    },
    {
     "name": "stdout",
     "output_type": "stream",
     "text": [
      "Test MSE: 77.2308, Test MAE: 5.7435, Test R2: 0.1465\n",
      "Epoch 622/1000\n",
      "Train MSE: 79.1201, Train MAE: 5.6755\n"
     ]
    },
    {
     "name": "stderr",
     "output_type": "stream",
     "text": [
      " 62%|██████▏   | 622/1000 [29:07<17:36,  2.80s/it]"
     ]
    },
    {
     "name": "stdout",
     "output_type": "stream",
     "text": [
      "Test MSE: 77.5355, Test MAE: 5.7414, Test R2: 0.1704\n",
      "Epoch 623/1000\n",
      "Train MSE: 78.5213, Train MAE: 5.6270\n"
     ]
    },
    {
     "name": "stderr",
     "output_type": "stream",
     "text": [
      " 62%|██████▏   | 623/1000 [29:10<17:45,  2.83s/it]"
     ]
    },
    {
     "name": "stdout",
     "output_type": "stream",
     "text": [
      "Test MSE: 76.1312, Test MAE: 5.6585, Test R2: 0.2100\n",
      "Epoch 624/1000\n",
      "Train MSE: 76.3917, Train MAE: 5.6081\n"
     ]
    },
    {
     "name": "stderr",
     "output_type": "stream",
     "text": [
      " 62%|██████▏   | 624/1000 [29:13<17:46,  2.84s/it]"
     ]
    },
    {
     "name": "stdout",
     "output_type": "stream",
     "text": [
      "Test MSE: 72.8104, Test MAE: 5.6069, Test R2: 0.1813\n",
      "Epoch 625/1000\n",
      "Train MSE: 78.9566, Train MAE: 5.6615\n"
     ]
    },
    {
     "name": "stderr",
     "output_type": "stream",
     "text": [
      " 62%|██████▎   | 625/1000 [29:16<17:51,  2.86s/it]"
     ]
    },
    {
     "name": "stdout",
     "output_type": "stream",
     "text": [
      "Test MSE: 72.4827, Test MAE: 5.6183, Test R2: 0.1975\n",
      "Epoch 626/1000\n",
      "Train MSE: 76.4059, Train MAE: 5.5985\n"
     ]
    },
    {
     "name": "stderr",
     "output_type": "stream",
     "text": [
      " 63%|██████▎   | 626/1000 [29:19<17:56,  2.88s/it]"
     ]
    },
    {
     "name": "stdout",
     "output_type": "stream",
     "text": [
      "Test MSE: 72.0076, Test MAE: 5.6403, Test R2: 0.0955\n",
      "Epoch 627/1000\n",
      "Train MSE: 78.0150, Train MAE: 5.6093\n"
     ]
    },
    {
     "name": "stderr",
     "output_type": "stream",
     "text": [
      " 63%|██████▎   | 627/1000 [29:22<17:48,  2.87s/it]"
     ]
    },
    {
     "name": "stdout",
     "output_type": "stream",
     "text": [
      "Test MSE: 69.9454, Test MAE: 5.5807, Test R2: 0.1873\n",
      "Epoch 628/1000\n",
      "Train MSE: 78.6809, Train MAE: 5.6110\n"
     ]
    },
    {
     "name": "stderr",
     "output_type": "stream",
     "text": [
      " 63%|██████▎   | 628/1000 [29:25<17:41,  2.85s/it]"
     ]
    },
    {
     "name": "stdout",
     "output_type": "stream",
     "text": [
      "Test MSE: 69.9748, Test MAE: 5.6030, Test R2: 0.2025\n",
      "Epoch 629/1000\n",
      "Train MSE: 76.9586, Train MAE: 5.5789\n"
     ]
    },
    {
     "name": "stderr",
     "output_type": "stream",
     "text": [
      " 63%|██████▎   | 629/1000 [29:27<17:32,  2.84s/it]"
     ]
    },
    {
     "name": "stdout",
     "output_type": "stream",
     "text": [
      "Test MSE: 73.9358, Test MAE: 5.6753, Test R2: 0.1661\n",
      "Epoch 630/1000\n",
      "Train MSE: 77.2140, Train MAE: 5.6133\n"
     ]
    },
    {
     "name": "stderr",
     "output_type": "stream",
     "text": [
      " 63%|██████▎   | 630/1000 [29:30<17:26,  2.83s/it]"
     ]
    },
    {
     "name": "stdout",
     "output_type": "stream",
     "text": [
      "Test MSE: 73.9235, Test MAE: 5.6229, Test R2: 0.2238\n",
      "Epoch 631/1000\n",
      "Train MSE: 76.3959, Train MAE: 5.5887\n"
     ]
    },
    {
     "name": "stderr",
     "output_type": "stream",
     "text": [
      " 63%|██████▎   | 631/1000 [29:33<17:42,  2.88s/it]"
     ]
    },
    {
     "name": "stdout",
     "output_type": "stream",
     "text": [
      "Test MSE: 71.1629, Test MAE: 5.5392, Test R2: 0.2372\n",
      "Epoch 632/1000\n",
      "Train MSE: 76.7796, Train MAE: 5.5860\n"
     ]
    },
    {
     "name": "stderr",
     "output_type": "stream",
     "text": [
      " 63%|██████▎   | 632/1000 [29:36<17:44,  2.89s/it]"
     ]
    },
    {
     "name": "stdout",
     "output_type": "stream",
     "text": [
      "Test MSE: 73.1563, Test MAE: 5.5848, Test R2: 0.2138\n",
      "Epoch 633/1000\n",
      "Train MSE: 77.7569, Train MAE: 5.5810\n"
     ]
    },
    {
     "name": "stderr",
     "output_type": "stream",
     "text": [
      " 63%|██████▎   | 633/1000 [29:39<17:41,  2.89s/it]"
     ]
    },
    {
     "name": "stdout",
     "output_type": "stream",
     "text": [
      "Test MSE: 73.9020, Test MAE: 5.6382, Test R2: 0.2038\n",
      "Epoch 634/1000\n",
      "Train MSE: 77.9618, Train MAE: 5.6138\n"
     ]
    },
    {
     "name": "stderr",
     "output_type": "stream",
     "text": [
      " 63%|██████▎   | 634/1000 [29:42<17:34,  2.88s/it]"
     ]
    },
    {
     "name": "stdout",
     "output_type": "stream",
     "text": [
      "Test MSE: 74.2320, Test MAE: 5.6366, Test R2: 0.2528\n",
      "Epoch 635/1000\n",
      "Train MSE: 78.2727, Train MAE: 5.6057\n"
     ]
    },
    {
     "name": "stderr",
     "output_type": "stream",
     "text": [
      " 64%|██████▎   | 635/1000 [29:45<17:19,  2.85s/it]"
     ]
    },
    {
     "name": "stdout",
     "output_type": "stream",
     "text": [
      "Test MSE: 76.6023, Test MAE: 5.7245, Test R2: 0.2272\n",
      "Epoch 636/1000\n",
      "Train MSE: 77.7501, Train MAE: 5.6610\n"
     ]
    },
    {
     "name": "stderr",
     "output_type": "stream",
     "text": [
      " 64%|██████▎   | 636/1000 [29:47<17:06,  2.82s/it]"
     ]
    },
    {
     "name": "stdout",
     "output_type": "stream",
     "text": [
      "Test MSE: 75.4347, Test MAE: 5.7015, Test R2: 0.1074\n",
      "Epoch 637/1000\n",
      "Train MSE: 76.7412, Train MAE: 5.6181\n"
     ]
    },
    {
     "name": "stderr",
     "output_type": "stream",
     "text": [
      " 64%|██████▎   | 637/1000 [29:50<17:02,  2.82s/it]"
     ]
    },
    {
     "name": "stdout",
     "output_type": "stream",
     "text": [
      "Test MSE: 73.5878, Test MAE: 5.6156, Test R2: 0.2142\n",
      "Epoch 638/1000\n",
      "Train MSE: 77.2122, Train MAE: 5.6173\n"
     ]
    },
    {
     "name": "stderr",
     "output_type": "stream",
     "text": [
      " 64%|██████▍   | 638/1000 [29:53<16:54,  2.80s/it]"
     ]
    },
    {
     "name": "stdout",
     "output_type": "stream",
     "text": [
      "Test MSE: 72.5681, Test MAE: 5.5982, Test R2: 0.1425\n",
      "Epoch 639/1000\n",
      "Train MSE: 76.9740, Train MAE: 5.6094\n"
     ]
    },
    {
     "name": "stderr",
     "output_type": "stream",
     "text": [
      " 64%|██████▍   | 639/1000 [29:56<16:50,  2.80s/it]"
     ]
    },
    {
     "name": "stdout",
     "output_type": "stream",
     "text": [
      "Test MSE: 78.2156, Test MAE: 5.7463, Test R2: 0.1804\n",
      "Epoch 640/1000\n",
      "Train MSE: 77.3307, Train MAE: 5.5721\n"
     ]
    },
    {
     "name": "stderr",
     "output_type": "stream",
     "text": [
      " 64%|██████▍   | 640/1000 [29:59<16:50,  2.81s/it]"
     ]
    },
    {
     "name": "stdout",
     "output_type": "stream",
     "text": [
      "Test MSE: 70.1429, Test MAE: 5.5801, Test R2: 0.2348\n",
      "Epoch 641/1000\n",
      "Train MSE: 79.1056, Train MAE: 5.6271\n"
     ]
    },
    {
     "name": "stderr",
     "output_type": "stream",
     "text": [
      " 64%|██████▍   | 641/1000 [30:01<16:51,  2.82s/it]"
     ]
    },
    {
     "name": "stdout",
     "output_type": "stream",
     "text": [
      "Test MSE: 79.0167, Test MAE: 5.7393, Test R2: 0.2729\n",
      "Epoch 642/1000\n",
      "Train MSE: 74.8296, Train MAE: 5.5387\n"
     ]
    },
    {
     "name": "stderr",
     "output_type": "stream",
     "text": [
      " 64%|██████▍   | 642/1000 [30:04<16:56,  2.84s/it]"
     ]
    },
    {
     "name": "stdout",
     "output_type": "stream",
     "text": [
      "Test MSE: 74.9101, Test MAE: 5.6539, Test R2: 0.2492\n",
      "Epoch 643/1000\n",
      "Train MSE: 77.3205, Train MAE: 5.5895\n"
     ]
    },
    {
     "name": "stderr",
     "output_type": "stream",
     "text": [
      " 64%|██████▍   | 643/1000 [30:07<16:50,  2.83s/it]"
     ]
    },
    {
     "name": "stdout",
     "output_type": "stream",
     "text": [
      "Test MSE: 73.3209, Test MAE: 5.5864, Test R2: 0.1988\n",
      "Epoch 644/1000\n",
      "Train MSE: 78.3059, Train MAE: 5.6298\n"
     ]
    },
    {
     "name": "stderr",
     "output_type": "stream",
     "text": [
      " 64%|██████▍   | 644/1000 [30:10<16:49,  2.84s/it]"
     ]
    },
    {
     "name": "stdout",
     "output_type": "stream",
     "text": [
      "Test MSE: 70.8579, Test MAE: 5.5955, Test R2: 0.1645\n",
      "Epoch 645/1000\n",
      "Train MSE: 76.4993, Train MAE: 5.5901\n"
     ]
    },
    {
     "name": "stderr",
     "output_type": "stream",
     "text": [
      " 64%|██████▍   | 645/1000 [30:13<16:44,  2.83s/it]"
     ]
    },
    {
     "name": "stdout",
     "output_type": "stream",
     "text": [
      "Test MSE: 79.2827, Test MAE: 5.7827, Test R2: 0.2203\n",
      "Epoch 646/1000\n",
      "Train MSE: 78.1143, Train MAE: 5.6229\n"
     ]
    },
    {
     "name": "stderr",
     "output_type": "stream",
     "text": [
      " 65%|██████▍   | 646/1000 [30:16<16:41,  2.83s/it]"
     ]
    },
    {
     "name": "stdout",
     "output_type": "stream",
     "text": [
      "Test MSE: 74.0865, Test MAE: 5.6374, Test R2: 0.1403\n",
      "Epoch 647/1000\n",
      "Train MSE: 77.4890, Train MAE: 5.6052\n"
     ]
    },
    {
     "name": "stderr",
     "output_type": "stream",
     "text": [
      " 65%|██████▍   | 647/1000 [30:18<16:37,  2.82s/it]"
     ]
    },
    {
     "name": "stdout",
     "output_type": "stream",
     "text": [
      "Test MSE: 77.1340, Test MAE: 5.6798, Test R2: 0.1002\n",
      "Epoch 648/1000\n",
      "Train MSE: 77.3713, Train MAE: 5.5797\n"
     ]
    },
    {
     "name": "stderr",
     "output_type": "stream",
     "text": [
      " 65%|██████▍   | 648/1000 [30:21<16:32,  2.82s/it]"
     ]
    },
    {
     "name": "stdout",
     "output_type": "stream",
     "text": [
      "Test MSE: 75.8798, Test MAE: 5.6522, Test R2: 0.2292\n",
      "Epoch 649/1000\n",
      "Train MSE: 77.6431, Train MAE: 5.6068\n"
     ]
    },
    {
     "name": "stderr",
     "output_type": "stream",
     "text": [
      " 65%|██████▍   | 649/1000 [30:24<16:31,  2.82s/it]"
     ]
    },
    {
     "name": "stdout",
     "output_type": "stream",
     "text": [
      "Test MSE: 76.3062, Test MAE: 5.6761, Test R2: 0.2647\n",
      "Epoch 650/1000\n",
      "Train MSE: 76.7102, Train MAE: 5.5630\n"
     ]
    },
    {
     "name": "stderr",
     "output_type": "stream",
     "text": [
      " 65%|██████▌   | 650/1000 [30:27<16:31,  2.83s/it]"
     ]
    },
    {
     "name": "stdout",
     "output_type": "stream",
     "text": [
      "Test MSE: 75.7470, Test MAE: 5.6576, Test R2: 0.2602\n",
      "Epoch 651/1000\n",
      "Train MSE: 74.7510, Train MAE: 5.5271\n"
     ]
    },
    {
     "name": "stderr",
     "output_type": "stream",
     "text": [
      " 65%|██████▌   | 651/1000 [30:30<16:35,  2.85s/it]"
     ]
    },
    {
     "name": "stdout",
     "output_type": "stream",
     "text": [
      "Test MSE: 76.0595, Test MAE: 5.6995, Test R2: 0.2268\n",
      "Epoch 652/1000\n",
      "Train MSE: 79.0146, Train MAE: 5.6244\n"
     ]
    },
    {
     "name": "stderr",
     "output_type": "stream",
     "text": [
      " 65%|██████▌   | 652/1000 [30:33<16:39,  2.87s/it]"
     ]
    },
    {
     "name": "stdout",
     "output_type": "stream",
     "text": [
      "Test MSE: 74.7430, Test MAE: 5.7297, Test R2: 0.2127\n",
      "Epoch 653/1000\n",
      "Train MSE: 80.8242, Train MAE: 5.6249\n"
     ]
    },
    {
     "name": "stderr",
     "output_type": "stream",
     "text": [
      " 65%|██████▌   | 653/1000 [30:36<16:47,  2.90s/it]"
     ]
    },
    {
     "name": "stdout",
     "output_type": "stream",
     "text": [
      "Test MSE: 77.3570, Test MAE: 5.7546, Test R2: 0.1944\n",
      "Epoch 654/1000\n",
      "Train MSE: 78.1783, Train MAE: 5.6010\n"
     ]
    },
    {
     "name": "stderr",
     "output_type": "stream",
     "text": [
      " 65%|██████▌   | 654/1000 [30:39<16:47,  2.91s/it]"
     ]
    },
    {
     "name": "stdout",
     "output_type": "stream",
     "text": [
      "Test MSE: 74.2689, Test MAE: 5.6313, Test R2: 0.2475\n",
      "Epoch 655/1000\n",
      "Train MSE: 75.8379, Train MAE: 5.5651\n"
     ]
    },
    {
     "name": "stderr",
     "output_type": "stream",
     "text": [
      " 66%|██████▌   | 655/1000 [30:42<16:43,  2.91s/it]"
     ]
    },
    {
     "name": "stdout",
     "output_type": "stream",
     "text": [
      "Test MSE: 76.5325, Test MAE: 5.6738, Test R2: 0.1934\n",
      "Epoch 656/1000\n",
      "Train MSE: 77.4713, Train MAE: 5.6211\n"
     ]
    },
    {
     "name": "stderr",
     "output_type": "stream",
     "text": [
      " 66%|██████▌   | 656/1000 [30:44<16:39,  2.90s/it]"
     ]
    },
    {
     "name": "stdout",
     "output_type": "stream",
     "text": [
      "Test MSE: 75.2074, Test MAE: 5.6793, Test R2: 0.1804\n",
      "Epoch 657/1000\n",
      "Train MSE: 79.1801, Train MAE: 5.6355\n"
     ]
    },
    {
     "name": "stderr",
     "output_type": "stream",
     "text": [
      " 66%|██████▌   | 657/1000 [30:47<16:31,  2.89s/it]"
     ]
    },
    {
     "name": "stdout",
     "output_type": "stream",
     "text": [
      "Test MSE: 76.3214, Test MAE: 5.7037, Test R2: 0.0585\n",
      "Epoch 658/1000\n",
      "Train MSE: 76.0859, Train MAE: 5.6023\n"
     ]
    },
    {
     "name": "stderr",
     "output_type": "stream",
     "text": [
      " 66%|██████▌   | 658/1000 [30:50<16:31,  2.90s/it]"
     ]
    },
    {
     "name": "stdout",
     "output_type": "stream",
     "text": [
      "Test MSE: 74.5220, Test MAE: 5.6481, Test R2: 0.1811\n",
      "Epoch 659/1000\n",
      "Train MSE: 75.9808, Train MAE: 5.5647\n"
     ]
    },
    {
     "name": "stderr",
     "output_type": "stream",
     "text": [
      " 66%|██████▌   | 659/1000 [30:53<16:17,  2.87s/it]"
     ]
    },
    {
     "name": "stdout",
     "output_type": "stream",
     "text": [
      "Test MSE: 73.7757, Test MAE: 5.6257, Test R2: 0.2161\n",
      "Epoch 660/1000\n",
      "Train MSE: 78.9948, Train MAE: 5.6350\n"
     ]
    },
    {
     "name": "stderr",
     "output_type": "stream",
     "text": [
      " 66%|██████▌   | 660/1000 [30:56<16:07,  2.84s/it]"
     ]
    },
    {
     "name": "stdout",
     "output_type": "stream",
     "text": [
      "Test MSE: 75.6343, Test MAE: 5.6791, Test R2: 0.2027\n",
      "Epoch 661/1000\n",
      "Train MSE: 77.1545, Train MAE: 5.5710\n"
     ]
    },
    {
     "name": "stderr",
     "output_type": "stream",
     "text": [
      " 66%|██████▌   | 661/1000 [30:59<15:53,  2.81s/it]"
     ]
    },
    {
     "name": "stdout",
     "output_type": "stream",
     "text": [
      "Test MSE: 69.8105, Test MAE: 5.5216, Test R2: 0.2250\n",
      "Epoch 662/1000\n",
      "Train MSE: 78.0945, Train MAE: 5.5803\n"
     ]
    },
    {
     "name": "stderr",
     "output_type": "stream",
     "text": [
      " 66%|██████▌   | 662/1000 [31:01<15:47,  2.80s/it]"
     ]
    },
    {
     "name": "stdout",
     "output_type": "stream",
     "text": [
      "Test MSE: 76.7321, Test MAE: 5.7093, Test R2: 0.1674\n",
      "Epoch 663/1000\n",
      "Train MSE: 76.2213, Train MAE: 5.5811\n"
     ]
    },
    {
     "name": "stderr",
     "output_type": "stream",
     "text": [
      " 66%|██████▋   | 663/1000 [31:04<15:41,  2.79s/it]"
     ]
    },
    {
     "name": "stdout",
     "output_type": "stream",
     "text": [
      "Test MSE: 77.8143, Test MAE: 5.7036, Test R2: 0.2013\n",
      "Epoch 664/1000\n",
      "Train MSE: 79.0919, Train MAE: 5.6451\n"
     ]
    },
    {
     "name": "stderr",
     "output_type": "stream",
     "text": [
      " 66%|██████▋   | 664/1000 [31:07<15:49,  2.83s/it]"
     ]
    },
    {
     "name": "stdout",
     "output_type": "stream",
     "text": [
      "Test MSE: 74.6000, Test MAE: 5.6728, Test R2: 0.2362\n",
      "Epoch 665/1000\n",
      "Train MSE: 75.4873, Train MAE: 5.5472\n"
     ]
    },
    {
     "name": "stderr",
     "output_type": "stream",
     "text": [
      " 66%|██████▋   | 665/1000 [31:10<15:58,  2.86s/it]"
     ]
    },
    {
     "name": "stdout",
     "output_type": "stream",
     "text": [
      "Test MSE: 72.5046, Test MAE: 5.6756, Test R2: 0.1552\n",
      "Epoch 666/1000\n",
      "Train MSE: 77.6181, Train MAE: 5.6265\n"
     ]
    },
    {
     "name": "stderr",
     "output_type": "stream",
     "text": [
      " 67%|██████▋   | 666/1000 [31:13<15:49,  2.84s/it]"
     ]
    },
    {
     "name": "stdout",
     "output_type": "stream",
     "text": [
      "Test MSE: 74.8418, Test MAE: 5.6334, Test R2: 0.2556\n",
      "Epoch 667/1000\n",
      "Train MSE: 77.2984, Train MAE: 5.6034\n"
     ]
    },
    {
     "name": "stderr",
     "output_type": "stream",
     "text": [
      " 67%|██████▋   | 667/1000 [31:16<15:48,  2.85s/it]"
     ]
    },
    {
     "name": "stdout",
     "output_type": "stream",
     "text": [
      "Test MSE: 77.6046, Test MAE: 5.6910, Test R2: 0.2122\n",
      "Epoch 668/1000\n",
      "Train MSE: 79.8415, Train MAE: 5.6517\n"
     ]
    },
    {
     "name": "stderr",
     "output_type": "stream",
     "text": [
      " 67%|██████▋   | 668/1000 [31:18<15:35,  2.82s/it]"
     ]
    },
    {
     "name": "stdout",
     "output_type": "stream",
     "text": [
      "Test MSE: 78.5598, Test MAE: 5.7094, Test R2: 0.2138\n",
      "Epoch 669/1000\n",
      "Train MSE: 76.7996, Train MAE: 5.6348\n"
     ]
    },
    {
     "name": "stderr",
     "output_type": "stream",
     "text": [
      " 67%|██████▋   | 669/1000 [31:21<15:29,  2.81s/it]"
     ]
    },
    {
     "name": "stdout",
     "output_type": "stream",
     "text": [
      "Test MSE: 77.0029, Test MAE: 5.7254, Test R2: 0.1620\n",
      "Epoch 670/1000\n",
      "Train MSE: 76.0322, Train MAE: 5.6013\n"
     ]
    },
    {
     "name": "stderr",
     "output_type": "stream",
     "text": [
      " 67%|██████▋   | 670/1000 [31:24<15:29,  2.82s/it]"
     ]
    },
    {
     "name": "stdout",
     "output_type": "stream",
     "text": [
      "Test MSE: 75.1243, Test MAE: 5.6738, Test R2: 0.2088\n",
      "Epoch 671/1000\n",
      "Train MSE: 76.8560, Train MAE: 5.5876\n"
     ]
    },
    {
     "name": "stderr",
     "output_type": "stream",
     "text": [
      " 67%|██████▋   | 671/1000 [31:27<15:24,  2.81s/it]"
     ]
    },
    {
     "name": "stdout",
     "output_type": "stream",
     "text": [
      "Test MSE: 74.8593, Test MAE: 5.6649, Test R2: 0.2328\n",
      "Epoch 672/1000\n",
      "Train MSE: 75.8994, Train MAE: 5.5349\n"
     ]
    },
    {
     "name": "stderr",
     "output_type": "stream",
     "text": [
      " 67%|██████▋   | 672/1000 [31:30<15:17,  2.80s/it]"
     ]
    },
    {
     "name": "stdout",
     "output_type": "stream",
     "text": [
      "Test MSE: 74.1920, Test MAE: 5.6341, Test R2: 0.2033\n",
      "Epoch 673/1000\n",
      "Train MSE: 77.2786, Train MAE: 5.6166\n"
     ]
    },
    {
     "name": "stderr",
     "output_type": "stream",
     "text": [
      " 67%|██████▋   | 673/1000 [31:32<15:16,  2.80s/it]"
     ]
    },
    {
     "name": "stdout",
     "output_type": "stream",
     "text": [
      "Test MSE: 80.1807, Test MAE: 5.7482, Test R2: 0.0935\n",
      "Epoch 674/1000\n",
      "Train MSE: 78.4268, Train MAE: 5.6163\n"
     ]
    },
    {
     "name": "stderr",
     "output_type": "stream",
     "text": [
      " 67%|██████▋   | 674/1000 [31:35<15:13,  2.80s/it]"
     ]
    },
    {
     "name": "stdout",
     "output_type": "stream",
     "text": [
      "Test MSE: 74.6900, Test MAE: 5.6345, Test R2: 0.1601\n",
      "Epoch 675/1000\n",
      "Train MSE: 76.7778, Train MAE: 5.5649\n"
     ]
    },
    {
     "name": "stderr",
     "output_type": "stream",
     "text": [
      " 68%|██████▊   | 675/1000 [31:38<15:04,  2.78s/it]"
     ]
    },
    {
     "name": "stdout",
     "output_type": "stream",
     "text": [
      "Test MSE: 76.9570, Test MAE: 5.6220, Test R2: 0.2511\n",
      "Epoch 676/1000\n",
      "Train MSE: 75.7257, Train MAE: 5.5756\n"
     ]
    },
    {
     "name": "stderr",
     "output_type": "stream",
     "text": [
      " 68%|██████▊   | 676/1000 [31:41<15:00,  2.78s/it]"
     ]
    },
    {
     "name": "stdout",
     "output_type": "stream",
     "text": [
      "Test MSE: 74.9694, Test MAE: 5.6928, Test R2: 0.0819\n",
      "Epoch 677/1000\n",
      "Train MSE: 78.9439, Train MAE: 5.6317\n"
     ]
    },
    {
     "name": "stderr",
     "output_type": "stream",
     "text": [
      " 68%|██████▊   | 677/1000 [31:43<14:55,  2.77s/it]"
     ]
    },
    {
     "name": "stdout",
     "output_type": "stream",
     "text": [
      "Test MSE: 73.1205, Test MAE: 5.6018, Test R2: 0.1725\n",
      "Epoch 678/1000\n",
      "Train MSE: 76.8888, Train MAE: 5.5822\n"
     ]
    },
    {
     "name": "stderr",
     "output_type": "stream",
     "text": [
      " 68%|██████▊   | 678/1000 [31:46<14:52,  2.77s/it]"
     ]
    },
    {
     "name": "stdout",
     "output_type": "stream",
     "text": [
      "Test MSE: 77.1400, Test MAE: 5.7493, Test R2: 0.0891\n",
      "Epoch 679/1000\n",
      "Train MSE: 76.0760, Train MAE: 5.6098\n"
     ]
    },
    {
     "name": "stderr",
     "output_type": "stream",
     "text": [
      " 68%|██████▊   | 679/1000 [31:49<14:48,  2.77s/it]"
     ]
    },
    {
     "name": "stdout",
     "output_type": "stream",
     "text": [
      "Test MSE: 73.9474, Test MAE: 5.6294, Test R2: 0.1268\n",
      "Epoch 680/1000\n",
      "Train MSE: 78.3838, Train MAE: 5.6212\n"
     ]
    },
    {
     "name": "stderr",
     "output_type": "stream",
     "text": [
      " 68%|██████▊   | 680/1000 [31:52<14:57,  2.81s/it]"
     ]
    },
    {
     "name": "stdout",
     "output_type": "stream",
     "text": [
      "Test MSE: 75.6919, Test MAE: 5.6633, Test R2: 0.2218\n",
      "Epoch 681/1000\n",
      "Train MSE: 78.1599, Train MAE: 5.5864\n"
     ]
    },
    {
     "name": "stderr",
     "output_type": "stream",
     "text": [
      " 68%|██████▊   | 681/1000 [31:55<15:03,  2.83s/it]"
     ]
    },
    {
     "name": "stdout",
     "output_type": "stream",
     "text": [
      "Test MSE: 73.1612, Test MAE: 5.6166, Test R2: 0.2082\n",
      "Epoch 682/1000\n",
      "Train MSE: 77.7375, Train MAE: 5.6157\n"
     ]
    },
    {
     "name": "stderr",
     "output_type": "stream",
     "text": [
      " 68%|██████▊   | 682/1000 [31:58<15:08,  2.86s/it]"
     ]
    },
    {
     "name": "stdout",
     "output_type": "stream",
     "text": [
      "Test MSE: 73.4592, Test MAE: 5.6267, Test R2: 0.1496\n",
      "Epoch 683/1000\n",
      "Train MSE: 76.6609, Train MAE: 5.5721\n"
     ]
    },
    {
     "name": "stderr",
     "output_type": "stream",
     "text": [
      " 68%|██████▊   | 683/1000 [32:01<15:14,  2.89s/it]"
     ]
    },
    {
     "name": "stdout",
     "output_type": "stream",
     "text": [
      "Test MSE: 71.3824, Test MAE: 5.5571, Test R2: 0.2460\n",
      "Epoch 684/1000\n",
      "Train MSE: 76.5156, Train MAE: 5.6043\n"
     ]
    },
    {
     "name": "stderr",
     "output_type": "stream",
     "text": [
      " 68%|██████▊   | 684/1000 [32:03<15:10,  2.88s/it]"
     ]
    },
    {
     "name": "stdout",
     "output_type": "stream",
     "text": [
      "Test MSE: 74.1743, Test MAE: 5.6215, Test R2: 0.2387\n",
      "Epoch 685/1000\n",
      "Train MSE: 75.9453, Train MAE: 5.5779\n"
     ]
    },
    {
     "name": "stderr",
     "output_type": "stream",
     "text": [
      " 68%|██████▊   | 685/1000 [32:06<15:10,  2.89s/it]"
     ]
    },
    {
     "name": "stdout",
     "output_type": "stream",
     "text": [
      "Test MSE: 73.2634, Test MAE: 5.6128, Test R2: 0.1962\n",
      "Epoch 686/1000\n",
      "Train MSE: 77.1135, Train MAE: 5.6234\n"
     ]
    },
    {
     "name": "stderr",
     "output_type": "stream",
     "text": [
      " 69%|██████▊   | 686/1000 [32:09<15:06,  2.89s/it]"
     ]
    },
    {
     "name": "stdout",
     "output_type": "stream",
     "text": [
      "Test MSE: 75.6282, Test MAE: 5.6969, Test R2: 0.1476\n",
      "Epoch 687/1000\n",
      "Train MSE: 75.7022, Train MAE: 5.5676\n"
     ]
    },
    {
     "name": "stderr",
     "output_type": "stream",
     "text": [
      " 69%|██████▊   | 687/1000 [32:12<15:04,  2.89s/it]"
     ]
    },
    {
     "name": "stdout",
     "output_type": "stream",
     "text": [
      "Test MSE: 77.3797, Test MAE: 5.7439, Test R2: 0.1432\n",
      "Epoch 688/1000\n",
      "Train MSE: 75.9611, Train MAE: 5.5611\n"
     ]
    },
    {
     "name": "stderr",
     "output_type": "stream",
     "text": [
      " 69%|██████▉   | 688/1000 [32:15<15:00,  2.89s/it]"
     ]
    },
    {
     "name": "stdout",
     "output_type": "stream",
     "text": [
      "Test MSE: 76.6574, Test MAE: 5.7450, Test R2: 0.1766\n",
      "Epoch 689/1000\n",
      "Train MSE: 77.5939, Train MAE: 5.6077\n"
     ]
    },
    {
     "name": "stderr",
     "output_type": "stream",
     "text": [
      " 69%|██████▉   | 689/1000 [32:18<15:01,  2.90s/it]"
     ]
    },
    {
     "name": "stdout",
     "output_type": "stream",
     "text": [
      "Test MSE: 73.5804, Test MAE: 5.6512, Test R2: 0.2336\n",
      "Epoch 690/1000\n",
      "Train MSE: 75.6547, Train MAE: 5.5832\n"
     ]
    },
    {
     "name": "stderr",
     "output_type": "stream",
     "text": [
      " 69%|██████▉   | 690/1000 [32:21<15:03,  2.91s/it]"
     ]
    },
    {
     "name": "stdout",
     "output_type": "stream",
     "text": [
      "Test MSE: 72.3897, Test MAE: 5.6014, Test R2: 0.2084\n",
      "Epoch 691/1000\n",
      "Train MSE: 75.7327, Train MAE: 5.5937\n"
     ]
    },
    {
     "name": "stderr",
     "output_type": "stream",
     "text": [
      " 69%|██████▉   | 691/1000 [32:24<14:58,  2.91s/it]"
     ]
    },
    {
     "name": "stdout",
     "output_type": "stream",
     "text": [
      "Test MSE: 80.1375, Test MAE: 5.8293, Test R2: -0.0248\n",
      "Epoch 692/1000\n",
      "Train MSE: 77.4828, Train MAE: 5.6326\n"
     ]
    },
    {
     "name": "stderr",
     "output_type": "stream",
     "text": [
      " 69%|██████▉   | 692/1000 [32:27<14:57,  2.91s/it]"
     ]
    },
    {
     "name": "stdout",
     "output_type": "stream",
     "text": [
      "Test MSE: 72.2564, Test MAE: 5.6105, Test R2: 0.2240\n",
      "Epoch 693/1000\n",
      "Train MSE: 74.8277, Train MAE: 5.5616\n"
     ]
    },
    {
     "name": "stderr",
     "output_type": "stream",
     "text": [
      " 69%|██████▉   | 693/1000 [32:30<14:52,  2.91s/it]"
     ]
    },
    {
     "name": "stdout",
     "output_type": "stream",
     "text": [
      "Test MSE: 73.8906, Test MAE: 5.6744, Test R2: 0.1852\n",
      "Epoch 694/1000\n",
      "Train MSE: 78.0350, Train MAE: 5.5984\n"
     ]
    },
    {
     "name": "stderr",
     "output_type": "stream",
     "text": [
      " 69%|██████▉   | 694/1000 [32:33<14:50,  2.91s/it]"
     ]
    },
    {
     "name": "stdout",
     "output_type": "stream",
     "text": [
      "Test MSE: 74.5271, Test MAE: 5.6678, Test R2: 0.1238\n",
      "Epoch 695/1000\n",
      "Train MSE: 75.2909, Train MAE: 5.5296\n"
     ]
    },
    {
     "name": "stderr",
     "output_type": "stream",
     "text": [
      " 70%|██████▉   | 695/1000 [32:35<14:46,  2.91s/it]"
     ]
    },
    {
     "name": "stdout",
     "output_type": "stream",
     "text": [
      "Test MSE: 74.3941, Test MAE: 5.6806, Test R2: 0.1820\n",
      "Epoch 696/1000\n",
      "Train MSE: 77.2818, Train MAE: 5.6383\n"
     ]
    },
    {
     "name": "stderr",
     "output_type": "stream",
     "text": [
      " 70%|██████▉   | 696/1000 [32:38<14:40,  2.90s/it]"
     ]
    },
    {
     "name": "stdout",
     "output_type": "stream",
     "text": [
      "Test MSE: 75.6081, Test MAE: 5.6378, Test R2: 0.2000\n",
      "Epoch 697/1000\n",
      "Train MSE: 74.9673, Train MAE: 5.5410\n"
     ]
    },
    {
     "name": "stderr",
     "output_type": "stream",
     "text": [
      " 70%|██████▉   | 697/1000 [32:41<14:40,  2.91s/it]"
     ]
    },
    {
     "name": "stdout",
     "output_type": "stream",
     "text": [
      "Test MSE: 73.1953, Test MAE: 5.6187, Test R2: 0.1261\n",
      "Epoch 698/1000\n",
      "Train MSE: 77.2137, Train MAE: 5.6357\n"
     ]
    },
    {
     "name": "stderr",
     "output_type": "stream",
     "text": [
      " 70%|██████▉   | 698/1000 [32:44<14:36,  2.90s/it]"
     ]
    },
    {
     "name": "stdout",
     "output_type": "stream",
     "text": [
      "Test MSE: 76.6821, Test MAE: 5.7077, Test R2: 0.0998\n",
      "Epoch 699/1000\n",
      "Train MSE: 77.6185, Train MAE: 5.6059\n"
     ]
    },
    {
     "name": "stderr",
     "output_type": "stream",
     "text": [
      " 70%|██████▉   | 699/1000 [32:47<14:32,  2.90s/it]"
     ]
    },
    {
     "name": "stdout",
     "output_type": "stream",
     "text": [
      "Test MSE: 75.6703, Test MAE: 5.6611, Test R2: 0.2236\n",
      "Epoch 700/1000\n",
      "Train MSE: 76.4716, Train MAE: 5.5742\n"
     ]
    },
    {
     "name": "stderr",
     "output_type": "stream",
     "text": [
      " 70%|███████   | 700/1000 [32:50<14:27,  2.89s/it]"
     ]
    },
    {
     "name": "stdout",
     "output_type": "stream",
     "text": [
      "Test MSE: 79.0304, Test MAE: 5.7677, Test R2: 0.2220\n",
      "Epoch 701/1000\n",
      "Train MSE: 78.2027, Train MAE: 5.5716\n"
     ]
    },
    {
     "name": "stderr",
     "output_type": "stream",
     "text": [
      " 70%|███████   | 701/1000 [32:53<14:23,  2.89s/it]"
     ]
    },
    {
     "name": "stdout",
     "output_type": "stream",
     "text": [
      "Test MSE: 77.6187, Test MAE: 5.7209, Test R2: 0.2119\n",
      "Epoch 702/1000\n",
      "Train MSE: 77.6162, Train MAE: 5.5809\n"
     ]
    },
    {
     "name": "stderr",
     "output_type": "stream",
     "text": [
      " 70%|███████   | 702/1000 [32:56<14:19,  2.89s/it]"
     ]
    },
    {
     "name": "stdout",
     "output_type": "stream",
     "text": [
      "Test MSE: 75.5052, Test MAE: 5.6822, Test R2: 0.2070\n",
      "Epoch 703/1000\n",
      "Train MSE: 77.4476, Train MAE: 5.6184\n"
     ]
    },
    {
     "name": "stderr",
     "output_type": "stream",
     "text": [
      " 70%|███████   | 703/1000 [32:58<14:10,  2.86s/it]"
     ]
    },
    {
     "name": "stdout",
     "output_type": "stream",
     "text": [
      "Test MSE: 75.0884, Test MAE: 5.6817, Test R2: 0.2182\n",
      "Epoch 704/1000\n",
      "Train MSE: 76.0337, Train MAE: 5.5441\n"
     ]
    },
    {
     "name": "stderr",
     "output_type": "stream",
     "text": [
      " 70%|███████   | 704/1000 [33:01<14:04,  2.85s/it]"
     ]
    },
    {
     "name": "stdout",
     "output_type": "stream",
     "text": [
      "Test MSE: 77.1249, Test MAE: 5.7300, Test R2: 0.1168\n",
      "Epoch 705/1000\n",
      "Train MSE: 74.7619, Train MAE: 5.5979\n"
     ]
    },
    {
     "name": "stderr",
     "output_type": "stream",
     "text": [
      " 70%|███████   | 705/1000 [33:04<13:54,  2.83s/it]"
     ]
    },
    {
     "name": "stdout",
     "output_type": "stream",
     "text": [
      "Test MSE: 75.5756, Test MAE: 5.6883, Test R2: 0.2255\n",
      "Epoch 706/1000\n",
      "Train MSE: 78.8312, Train MAE: 5.6196\n"
     ]
    },
    {
     "name": "stderr",
     "output_type": "stream",
     "text": [
      " 71%|███████   | 706/1000 [33:07<13:53,  2.84s/it]"
     ]
    },
    {
     "name": "stdout",
     "output_type": "stream",
     "text": [
      "Test MSE: 75.2023, Test MAE: 5.6766, Test R2: 0.1798\n",
      "Epoch 707/1000\n",
      "Train MSE: 76.6196, Train MAE: 5.5869\n"
     ]
    },
    {
     "name": "stderr",
     "output_type": "stream",
     "text": [
      " 71%|███████   | 707/1000 [33:10<13:55,  2.85s/it]"
     ]
    },
    {
     "name": "stdout",
     "output_type": "stream",
     "text": [
      "Test MSE: 73.3030, Test MAE: 5.6083, Test R2: 0.2429\n",
      "Epoch 708/1000\n",
      "Train MSE: 76.5714, Train MAE: 5.5872\n"
     ]
    },
    {
     "name": "stderr",
     "output_type": "stream",
     "text": [
      " 71%|███████   | 708/1000 [33:13<13:51,  2.85s/it]"
     ]
    },
    {
     "name": "stdout",
     "output_type": "stream",
     "text": [
      "Test MSE: 71.9177, Test MAE: 5.5775, Test R2: 0.2311\n",
      "Epoch 709/1000\n",
      "Train MSE: 75.8621, Train MAE: 5.5538\n"
     ]
    },
    {
     "name": "stderr",
     "output_type": "stream",
     "text": [
      " 71%|███████   | 709/1000 [33:15<13:43,  2.83s/it]"
     ]
    },
    {
     "name": "stdout",
     "output_type": "stream",
     "text": [
      "Test MSE: 77.0097, Test MAE: 5.6657, Test R2: 0.2360\n",
      "Epoch 710/1000\n",
      "Train MSE: 78.2037, Train MAE: 5.5861\n"
     ]
    },
    {
     "name": "stderr",
     "output_type": "stream",
     "text": [
      " 71%|███████   | 710/1000 [33:18<13:44,  2.84s/it]"
     ]
    },
    {
     "name": "stdout",
     "output_type": "stream",
     "text": [
      "Test MSE: 80.3147, Test MAE: 5.8172, Test R2: 0.1205\n",
      "Epoch 711/1000\n",
      "Train MSE: 77.8491, Train MAE: 5.5701\n"
     ]
    },
    {
     "name": "stderr",
     "output_type": "stream",
     "text": [
      " 71%|███████   | 711/1000 [33:21<13:41,  2.84s/it]"
     ]
    },
    {
     "name": "stdout",
     "output_type": "stream",
     "text": [
      "Test MSE: 73.8467, Test MAE: 5.6910, Test R2: 0.2149\n",
      "Epoch 712/1000\n",
      "Train MSE: 77.9764, Train MAE: 5.5981\n"
     ]
    },
    {
     "name": "stderr",
     "output_type": "stream",
     "text": [
      " 71%|███████   | 712/1000 [33:24<13:33,  2.83s/it]"
     ]
    },
    {
     "name": "stdout",
     "output_type": "stream",
     "text": [
      "Test MSE: 81.2829, Test MAE: 5.8521, Test R2: 0.1565\n",
      "Epoch 713/1000\n",
      "Train MSE: 77.1956, Train MAE: 5.5635\n"
     ]
    },
    {
     "name": "stderr",
     "output_type": "stream",
     "text": [
      " 71%|███████▏  | 713/1000 [33:27<13:31,  2.83s/it]"
     ]
    },
    {
     "name": "stdout",
     "output_type": "stream",
     "text": [
      "Test MSE: 74.3389, Test MAE: 5.6482, Test R2: 0.2189\n",
      "Epoch 714/1000\n",
      "Train MSE: 78.3252, Train MAE: 5.6002\n"
     ]
    },
    {
     "name": "stderr",
     "output_type": "stream",
     "text": [
      " 71%|███████▏  | 714/1000 [33:30<13:27,  2.82s/it]"
     ]
    },
    {
     "name": "stdout",
     "output_type": "stream",
     "text": [
      "Test MSE: 73.3787, Test MAE: 5.6294, Test R2: 0.2126\n",
      "Epoch 715/1000\n",
      "Train MSE: 76.4703, Train MAE: 5.5841\n"
     ]
    },
    {
     "name": "stderr",
     "output_type": "stream",
     "text": [
      " 72%|███████▏  | 715/1000 [33:32<13:26,  2.83s/it]"
     ]
    },
    {
     "name": "stdout",
     "output_type": "stream",
     "text": [
      "Test MSE: 73.1299, Test MAE: 5.6616, Test R2: 0.1352\n",
      "Epoch 716/1000\n",
      "Train MSE: 77.0039, Train MAE: 5.5958\n"
     ]
    },
    {
     "name": "stderr",
     "output_type": "stream",
     "text": [
      " 72%|███████▏  | 716/1000 [33:35<13:19,  2.82s/it]"
     ]
    },
    {
     "name": "stdout",
     "output_type": "stream",
     "text": [
      "Test MSE: 75.7383, Test MAE: 5.6817, Test R2: 0.1931\n",
      "Epoch 717/1000\n",
      "Train MSE: 78.2739, Train MAE: 5.6027\n"
     ]
    },
    {
     "name": "stderr",
     "output_type": "stream",
     "text": [
      " 72%|███████▏  | 717/1000 [33:38<13:18,  2.82s/it]"
     ]
    },
    {
     "name": "stdout",
     "output_type": "stream",
     "text": [
      "Test MSE: 75.4107, Test MAE: 5.7010, Test R2: 0.2083\n",
      "Epoch 718/1000\n",
      "Train MSE: 77.5458, Train MAE: 5.6270\n"
     ]
    },
    {
     "name": "stderr",
     "output_type": "stream",
     "text": [
      " 72%|███████▏  | 718/1000 [33:41<13:22,  2.85s/it]"
     ]
    },
    {
     "name": "stdout",
     "output_type": "stream",
     "text": [
      "Test MSE: 76.6631, Test MAE: 5.6698, Test R2: 0.2279\n",
      "Epoch 719/1000\n",
      "Train MSE: 74.8995, Train MAE: 5.5766\n"
     ]
    },
    {
     "name": "stderr",
     "output_type": "stream",
     "text": [
      " 72%|███████▏  | 719/1000 [33:44<13:26,  2.87s/it]"
     ]
    },
    {
     "name": "stdout",
     "output_type": "stream",
     "text": [
      "Test MSE: 73.9423, Test MAE: 5.6745, Test R2: 0.2373\n",
      "Epoch 720/1000\n",
      "Train MSE: 76.1799, Train MAE: 5.5053\n"
     ]
    },
    {
     "name": "stderr",
     "output_type": "stream",
     "text": [
      " 72%|███████▏  | 720/1000 [33:47<13:28,  2.89s/it]"
     ]
    },
    {
     "name": "stdout",
     "output_type": "stream",
     "text": [
      "Test MSE: 73.3575, Test MAE: 5.5962, Test R2: 0.2243\n",
      "Epoch 721/1000\n",
      "Train MSE: 78.0871, Train MAE: 5.6156\n"
     ]
    },
    {
     "name": "stderr",
     "output_type": "stream",
     "text": [
      " 72%|███████▏  | 721/1000 [33:50<13:20,  2.87s/it]"
     ]
    },
    {
     "name": "stdout",
     "output_type": "stream",
     "text": [
      "Test MSE: 73.6899, Test MAE: 5.6272, Test R2: 0.2242\n",
      "Epoch 722/1000\n",
      "Train MSE: 75.5636, Train MAE: 5.5597\n"
     ]
    },
    {
     "name": "stderr",
     "output_type": "stream",
     "text": [
      " 72%|███████▏  | 722/1000 [33:52<13:17,  2.87s/it]"
     ]
    },
    {
     "name": "stdout",
     "output_type": "stream",
     "text": [
      "Test MSE: 74.2570, Test MAE: 5.6197, Test R2: 0.2036\n",
      "Epoch 723/1000\n",
      "Train MSE: 78.1661, Train MAE: 5.5776\n"
     ]
    },
    {
     "name": "stderr",
     "output_type": "stream",
     "text": [
      " 72%|███████▏  | 723/1000 [33:55<13:14,  2.87s/it]"
     ]
    },
    {
     "name": "stdout",
     "output_type": "stream",
     "text": [
      "Test MSE: 72.2499, Test MAE: 5.5848, Test R2: 0.1758\n",
      "Epoch 724/1000\n",
      "Train MSE: 77.8172, Train MAE: 5.6260\n"
     ]
    },
    {
     "name": "stderr",
     "output_type": "stream",
     "text": [
      " 72%|███████▏  | 724/1000 [33:58<13:14,  2.88s/it]"
     ]
    },
    {
     "name": "stdout",
     "output_type": "stream",
     "text": [
      "Test MSE: 75.0929, Test MAE: 5.7148, Test R2: 0.1324\n",
      "Epoch 725/1000\n",
      "Train MSE: 76.3313, Train MAE: 5.5486\n"
     ]
    },
    {
     "name": "stderr",
     "output_type": "stream",
     "text": [
      " 72%|███████▎  | 725/1000 [34:01<13:08,  2.87s/it]"
     ]
    },
    {
     "name": "stdout",
     "output_type": "stream",
     "text": [
      "Test MSE: 72.7635, Test MAE: 5.6109, Test R2: 0.2179\n",
      "Epoch 726/1000\n",
      "Train MSE: 74.9749, Train MAE: 5.5551\n"
     ]
    },
    {
     "name": "stderr",
     "output_type": "stream",
     "text": [
      " 73%|███████▎  | 726/1000 [34:04<13:03,  2.86s/it]"
     ]
    },
    {
     "name": "stdout",
     "output_type": "stream",
     "text": [
      "Test MSE: 76.4944, Test MAE: 5.6514, Test R2: 0.1816\n",
      "Epoch 727/1000\n",
      "Train MSE: 76.1142, Train MAE: 5.5781\n"
     ]
    },
    {
     "name": "stderr",
     "output_type": "stream",
     "text": [
      " 73%|███████▎  | 727/1000 [34:07<12:56,  2.84s/it]"
     ]
    },
    {
     "name": "stdout",
     "output_type": "stream",
     "text": [
      "Test MSE: 77.6445, Test MAE: 5.6791, Test R2: 0.1190\n",
      "Epoch 728/1000\n",
      "Train MSE: 78.7971, Train MAE: 5.5853\n"
     ]
    },
    {
     "name": "stderr",
     "output_type": "stream",
     "text": [
      " 73%|███████▎  | 728/1000 [34:10<12:49,  2.83s/it]"
     ]
    },
    {
     "name": "stdout",
     "output_type": "stream",
     "text": [
      "Test MSE: 77.6170, Test MAE: 5.7219, Test R2: 0.1891\n",
      "Epoch 729/1000\n",
      "Train MSE: 78.0830, Train MAE: 5.6010\n"
     ]
    },
    {
     "name": "stderr",
     "output_type": "stream",
     "text": [
      " 73%|███████▎  | 729/1000 [34:12<12:44,  2.82s/it]"
     ]
    },
    {
     "name": "stdout",
     "output_type": "stream",
     "text": [
      "Test MSE: 76.9260, Test MAE: 5.7212, Test R2: 0.1541\n",
      "Epoch 730/1000\n",
      "Train MSE: 77.2405, Train MAE: 5.5532\n"
     ]
    },
    {
     "name": "stderr",
     "output_type": "stream",
     "text": [
      " 73%|███████▎  | 730/1000 [34:15<12:44,  2.83s/it]"
     ]
    },
    {
     "name": "stdout",
     "output_type": "stream",
     "text": [
      "Test MSE: 73.8664, Test MAE: 5.6388, Test R2: 0.2077\n",
      "Epoch 731/1000\n",
      "Train MSE: 79.1673, Train MAE: 5.6681\n"
     ]
    },
    {
     "name": "stderr",
     "output_type": "stream",
     "text": [
      " 73%|███████▎  | 731/1000 [34:18<12:37,  2.81s/it]"
     ]
    },
    {
     "name": "stdout",
     "output_type": "stream",
     "text": [
      "Test MSE: 81.2205, Test MAE: 5.7966, Test R2: 0.1317\n",
      "Epoch 732/1000\n",
      "Train MSE: 76.3497, Train MAE: 5.5694\n"
     ]
    },
    {
     "name": "stderr",
     "output_type": "stream",
     "text": [
      " 73%|███████▎  | 732/1000 [34:21<12:32,  2.81s/it]"
     ]
    },
    {
     "name": "stdout",
     "output_type": "stream",
     "text": [
      "Test MSE: 78.8717, Test MAE: 5.8286, Test R2: 0.2384\n",
      "Epoch 733/1000\n",
      "Train MSE: 73.8335, Train MAE: 5.4970\n"
     ]
    },
    {
     "name": "stderr",
     "output_type": "stream",
     "text": [
      " 73%|███████▎  | 733/1000 [34:24<12:26,  2.80s/it]"
     ]
    },
    {
     "name": "stdout",
     "output_type": "stream",
     "text": [
      "Test MSE: 79.2263, Test MAE: 5.7320, Test R2: 0.1949\n",
      "Epoch 734/1000\n",
      "Train MSE: 77.4148, Train MAE: 5.5792\n"
     ]
    },
    {
     "name": "stderr",
     "output_type": "stream",
     "text": [
      " 73%|███████▎  | 734/1000 [34:26<12:20,  2.78s/it]"
     ]
    },
    {
     "name": "stdout",
     "output_type": "stream",
     "text": [
      "Test MSE: 74.1876, Test MAE: 5.6443, Test R2: 0.1338\n",
      "Epoch 735/1000\n",
      "Train MSE: 77.0044, Train MAE: 5.5946\n"
     ]
    },
    {
     "name": "stderr",
     "output_type": "stream",
     "text": [
      " 74%|███████▎  | 735/1000 [34:29<12:15,  2.77s/it]"
     ]
    },
    {
     "name": "stdout",
     "output_type": "stream",
     "text": [
      "Test MSE: 73.9608, Test MAE: 5.7012, Test R2: 0.1912\n",
      "Epoch 736/1000\n",
      "Train MSE: 77.2214, Train MAE: 5.5108\n"
     ]
    },
    {
     "name": "stderr",
     "output_type": "stream",
     "text": [
      " 74%|███████▎  | 736/1000 [34:32<12:09,  2.76s/it]"
     ]
    },
    {
     "name": "stdout",
     "output_type": "stream",
     "text": [
      "Test MSE: 75.9055, Test MAE: 5.6729, Test R2: 0.1135\n",
      "Epoch 737/1000\n",
      "Train MSE: 73.7165, Train MAE: 5.4618\n"
     ]
    },
    {
     "name": "stderr",
     "output_type": "stream",
     "text": [
      " 74%|███████▎  | 737/1000 [34:35<12:06,  2.76s/it]"
     ]
    },
    {
     "name": "stdout",
     "output_type": "stream",
     "text": [
      "Test MSE: 73.0353, Test MAE: 5.6316, Test R2: -0.0413\n",
      "Epoch 738/1000\n",
      "Train MSE: 76.5867, Train MAE: 5.5854\n"
     ]
    },
    {
     "name": "stderr",
     "output_type": "stream",
     "text": [
      " 74%|███████▍  | 738/1000 [34:37<12:07,  2.78s/it]"
     ]
    },
    {
     "name": "stdout",
     "output_type": "stream",
     "text": [
      "Test MSE: 73.3203, Test MAE: 5.5961, Test R2: 0.1904\n",
      "Epoch 739/1000\n",
      "Train MSE: 77.7623, Train MAE: 5.5602\n"
     ]
    },
    {
     "name": "stderr",
     "output_type": "stream",
     "text": [
      " 74%|███████▍  | 739/1000 [34:40<12:11,  2.80s/it]"
     ]
    },
    {
     "name": "stdout",
     "output_type": "stream",
     "text": [
      "Test MSE: 72.5591, Test MAE: 5.6085, Test R2: 0.1984\n",
      "Epoch 740/1000\n",
      "Train MSE: 79.5521, Train MAE: 5.5885\n"
     ]
    },
    {
     "name": "stderr",
     "output_type": "stream",
     "text": [
      " 74%|███████▍  | 740/1000 [34:43<12:07,  2.80s/it]"
     ]
    },
    {
     "name": "stdout",
     "output_type": "stream",
     "text": [
      "Test MSE: 72.8675, Test MAE: 5.6332, Test R2: 0.1967\n",
      "Epoch 741/1000\n",
      "Train MSE: 74.2192, Train MAE: 5.5132\n"
     ]
    },
    {
     "name": "stderr",
     "output_type": "stream",
     "text": [
      " 74%|███████▍  | 741/1000 [34:46<12:06,  2.80s/it]"
     ]
    },
    {
     "name": "stdout",
     "output_type": "stream",
     "text": [
      "Test MSE: 75.6003, Test MAE: 5.7020, Test R2: 0.1966\n",
      "Epoch 742/1000\n",
      "Train MSE: 75.7365, Train MAE: 5.5539\n"
     ]
    },
    {
     "name": "stderr",
     "output_type": "stream",
     "text": [
      " 74%|███████▍  | 742/1000 [34:49<12:02,  2.80s/it]"
     ]
    },
    {
     "name": "stdout",
     "output_type": "stream",
     "text": [
      "Test MSE: 72.8568, Test MAE: 5.6158, Test R2: 0.1991\n",
      "Epoch 743/1000\n",
      "Train MSE: 78.0301, Train MAE: 5.5972\n"
     ]
    },
    {
     "name": "stderr",
     "output_type": "stream",
     "text": [
      " 74%|███████▍  | 743/1000 [34:51<11:52,  2.77s/it]"
     ]
    },
    {
     "name": "stdout",
     "output_type": "stream",
     "text": [
      "Test MSE: 74.0192, Test MAE: 5.6306, Test R2: 0.2156\n",
      "Epoch 744/1000\n",
      "Train MSE: 77.7984, Train MAE: 5.5767\n"
     ]
    },
    {
     "name": "stderr",
     "output_type": "stream",
     "text": [
      " 74%|███████▍  | 744/1000 [34:54<11:50,  2.77s/it]"
     ]
    },
    {
     "name": "stdout",
     "output_type": "stream",
     "text": [
      "Test MSE: 76.2898, Test MAE: 5.6994, Test R2: 0.2412\n",
      "Epoch 745/1000\n",
      "Train MSE: 74.3894, Train MAE: 5.5286\n"
     ]
    },
    {
     "name": "stderr",
     "output_type": "stream",
     "text": [
      " 74%|███████▍  | 745/1000 [34:57<11:46,  2.77s/it]"
     ]
    },
    {
     "name": "stdout",
     "output_type": "stream",
     "text": [
      "Test MSE: 73.6558, Test MAE: 5.6471, Test R2: 0.1686\n",
      "Epoch 746/1000\n",
      "Train MSE: 77.1713, Train MAE: 5.5825\n"
     ]
    },
    {
     "name": "stderr",
     "output_type": "stream",
     "text": [
      " 75%|███████▍  | 746/1000 [35:00<11:47,  2.78s/it]"
     ]
    },
    {
     "name": "stdout",
     "output_type": "stream",
     "text": [
      "Test MSE: 78.0691, Test MAE: 5.7768, Test R2: 0.1419\n",
      "Epoch 747/1000\n",
      "Train MSE: 73.9784, Train MAE: 5.5234\n"
     ]
    },
    {
     "name": "stderr",
     "output_type": "stream",
     "text": [
      " 75%|███████▍  | 747/1000 [35:02<11:42,  2.78s/it]"
     ]
    },
    {
     "name": "stdout",
     "output_type": "stream",
     "text": [
      "Test MSE: 73.9177, Test MAE: 5.6827, Test R2: 0.1001\n",
      "Epoch 748/1000\n",
      "Train MSE: 75.9699, Train MAE: 5.5216\n"
     ]
    },
    {
     "name": "stderr",
     "output_type": "stream",
     "text": [
      " 75%|███████▍  | 748/1000 [35:05<11:40,  2.78s/it]"
     ]
    },
    {
     "name": "stdout",
     "output_type": "stream",
     "text": [
      "Test MSE: 72.7284, Test MAE: 5.6063, Test R2: 0.1474\n",
      "Epoch 749/1000\n",
      "Train MSE: 76.4500, Train MAE: 5.5560\n"
     ]
    },
    {
     "name": "stderr",
     "output_type": "stream",
     "text": [
      " 75%|███████▍  | 749/1000 [35:08<11:41,  2.80s/it]"
     ]
    },
    {
     "name": "stdout",
     "output_type": "stream",
     "text": [
      "Test MSE: 79.3793, Test MAE: 5.7238, Test R2: 0.1516\n",
      "Epoch 750/1000\n",
      "Train MSE: 77.8684, Train MAE: 5.5989\n"
     ]
    },
    {
     "name": "stderr",
     "output_type": "stream",
     "text": [
      " 75%|███████▌  | 750/1000 [35:11<11:47,  2.83s/it]"
     ]
    },
    {
     "name": "stdout",
     "output_type": "stream",
     "text": [
      "Test MSE: 71.8863, Test MAE: 5.5758, Test R2: 0.2386\n",
      "Epoch 751/1000\n",
      "Train MSE: 76.9403, Train MAE: 5.5826\n"
     ]
    },
    {
     "name": "stderr",
     "output_type": "stream",
     "text": [
      " 75%|███████▌  | 751/1000 [35:14<11:50,  2.85s/it]"
     ]
    },
    {
     "name": "stdout",
     "output_type": "stream",
     "text": [
      "Test MSE: 70.6158, Test MAE: 5.5363, Test R2: 0.2136\n",
      "Epoch 752/1000\n",
      "Train MSE: 74.5546, Train MAE: 5.5156\n"
     ]
    },
    {
     "name": "stderr",
     "output_type": "stream",
     "text": [
      " 75%|███████▌  | 752/1000 [35:17<11:38,  2.82s/it]"
     ]
    },
    {
     "name": "stdout",
     "output_type": "stream",
     "text": [
      "Test MSE: 75.2515, Test MAE: 5.6649, Test R2: 0.2007\n",
      "Epoch 753/1000\n",
      "Train MSE: 78.3130, Train MAE: 5.6172\n"
     ]
    },
    {
     "name": "stderr",
     "output_type": "stream",
     "text": [
      " 75%|███████▌  | 753/1000 [35:19<11:33,  2.81s/it]"
     ]
    },
    {
     "name": "stdout",
     "output_type": "stream",
     "text": [
      "Test MSE: 72.8211, Test MAE: 5.6401, Test R2: 0.1978\n",
      "Epoch 754/1000\n",
      "Train MSE: 80.7758, Train MAE: 5.6167\n"
     ]
    },
    {
     "name": "stderr",
     "output_type": "stream",
     "text": [
      " 75%|███████▌  | 754/1000 [35:22<11:24,  2.78s/it]"
     ]
    },
    {
     "name": "stdout",
     "output_type": "stream",
     "text": [
      "Test MSE: 79.6415, Test MAE: 5.7535, Test R2: 0.2193\n",
      "Epoch 755/1000\n",
      "Train MSE: 77.5300, Train MAE: 5.5437\n"
     ]
    },
    {
     "name": "stderr",
     "output_type": "stream",
     "text": [
      " 76%|███████▌  | 755/1000 [35:25<11:25,  2.80s/it]"
     ]
    },
    {
     "name": "stdout",
     "output_type": "stream",
     "text": [
      "Test MSE: 74.3261, Test MAE: 5.6691, Test R2: 0.2553\n",
      "Epoch 756/1000\n",
      "Train MSE: 76.5610, Train MAE: 5.5618\n"
     ]
    },
    {
     "name": "stderr",
     "output_type": "stream",
     "text": [
      " 76%|███████▌  | 756/1000 [35:28<11:25,  2.81s/it]"
     ]
    },
    {
     "name": "stdout",
     "output_type": "stream",
     "text": [
      "Test MSE: 74.1401, Test MAE: 5.6545, Test R2: 0.1148\n",
      "Epoch 757/1000\n",
      "Train MSE: 75.4990, Train MAE: 5.5461\n"
     ]
    },
    {
     "name": "stderr",
     "output_type": "stream",
     "text": [
      " 76%|███████▌  | 757/1000 [35:31<11:27,  2.83s/it]"
     ]
    },
    {
     "name": "stdout",
     "output_type": "stream",
     "text": [
      "Test MSE: 76.4837, Test MAE: 5.6983, Test R2: 0.1831\n",
      "Epoch 758/1000\n",
      "Train MSE: 76.8932, Train MAE: 5.5699\n"
     ]
    },
    {
     "name": "stderr",
     "output_type": "stream",
     "text": [
      " 76%|███████▌  | 758/1000 [35:34<11:29,  2.85s/it]"
     ]
    },
    {
     "name": "stdout",
     "output_type": "stream",
     "text": [
      "Test MSE: 72.9156, Test MAE: 5.6885, Test R2: 0.1401\n",
      "Epoch 759/1000\n",
      "Train MSE: 75.4313, Train MAE: 5.4864\n"
     ]
    },
    {
     "name": "stderr",
     "output_type": "stream",
     "text": [
      " 76%|███████▌  | 759/1000 [35:36<11:29,  2.86s/it]"
     ]
    },
    {
     "name": "stdout",
     "output_type": "stream",
     "text": [
      "Test MSE: 74.0548, Test MAE: 5.6667, Test R2: 0.1720\n",
      "Epoch 760/1000\n",
      "Train MSE: 76.5008, Train MAE: 5.5519\n"
     ]
    },
    {
     "name": "stderr",
     "output_type": "stream",
     "text": [
      " 76%|███████▌  | 760/1000 [35:39<11:28,  2.87s/it]"
     ]
    },
    {
     "name": "stdout",
     "output_type": "stream",
     "text": [
      "Test MSE: 74.8348, Test MAE: 5.6982, Test R2: 0.1660\n",
      "Epoch 761/1000\n",
      "Train MSE: 77.2243, Train MAE: 5.5886\n"
     ]
    },
    {
     "name": "stderr",
     "output_type": "stream",
     "text": [
      " 76%|███████▌  | 761/1000 [35:42<11:26,  2.87s/it]"
     ]
    },
    {
     "name": "stdout",
     "output_type": "stream",
     "text": [
      "Test MSE: 73.7172, Test MAE: 5.6292, Test R2: 0.2327\n",
      "Epoch 762/1000\n",
      "Train MSE: 74.6489, Train MAE: 5.5294\n"
     ]
    },
    {
     "name": "stderr",
     "output_type": "stream",
     "text": [
      " 76%|███████▌  | 762/1000 [35:45<11:25,  2.88s/it]"
     ]
    },
    {
     "name": "stdout",
     "output_type": "stream",
     "text": [
      "Test MSE: 82.1185, Test MAE: 5.8209, Test R2: 0.1994\n",
      "Epoch 763/1000\n",
      "Train MSE: 77.7616, Train MAE: 5.6279\n"
     ]
    },
    {
     "name": "stderr",
     "output_type": "stream",
     "text": [
      " 76%|███████▋  | 763/1000 [35:48<11:20,  2.87s/it]"
     ]
    },
    {
     "name": "stdout",
     "output_type": "stream",
     "text": [
      "Test MSE: 79.0050, Test MAE: 5.7793, Test R2: 0.2338\n",
      "Epoch 764/1000\n",
      "Train MSE: 75.4345, Train MAE: 5.5302\n"
     ]
    },
    {
     "name": "stderr",
     "output_type": "stream",
     "text": [
      " 76%|███████▋  | 764/1000 [35:51<11:14,  2.86s/it]"
     ]
    },
    {
     "name": "stdout",
     "output_type": "stream",
     "text": [
      "Test MSE: 74.1453, Test MAE: 5.6499, Test R2: 0.2174\n",
      "Epoch 765/1000\n",
      "Train MSE: 75.0996, Train MAE: 5.5705\n"
     ]
    },
    {
     "name": "stderr",
     "output_type": "stream",
     "text": [
      " 76%|███████▋  | 765/1000 [35:54<11:05,  2.83s/it]"
     ]
    },
    {
     "name": "stdout",
     "output_type": "stream",
     "text": [
      "Test MSE: 72.3302, Test MAE: 5.5999, Test R2: 0.2286\n",
      "Epoch 766/1000\n",
      "Train MSE: 77.6553, Train MAE: 5.5937\n"
     ]
    },
    {
     "name": "stderr",
     "output_type": "stream",
     "text": [
      " 77%|███████▋  | 766/1000 [35:56<11:01,  2.83s/it]"
     ]
    },
    {
     "name": "stdout",
     "output_type": "stream",
     "text": [
      "Test MSE: 74.7331, Test MAE: 5.6872, Test R2: 0.1749\n",
      "Epoch 767/1000\n",
      "Train MSE: 77.3552, Train MAE: 5.5736\n"
     ]
    },
    {
     "name": "stderr",
     "output_type": "stream",
     "text": [
      " 77%|███████▋  | 767/1000 [35:59<10:59,  2.83s/it]"
     ]
    },
    {
     "name": "stdout",
     "output_type": "stream",
     "text": [
      "Test MSE: 71.3134, Test MAE: 5.5651, Test R2: 0.1512\n",
      "Epoch 768/1000\n",
      "Train MSE: 75.9623, Train MAE: 5.5833\n"
     ]
    },
    {
     "name": "stderr",
     "output_type": "stream",
     "text": [
      " 77%|███████▋  | 768/1000 [36:02<10:59,  2.84s/it]"
     ]
    },
    {
     "name": "stdout",
     "output_type": "stream",
     "text": [
      "Test MSE: 75.5577, Test MAE: 5.6530, Test R2: 0.2380\n",
      "Epoch 769/1000\n",
      "Train MSE: 75.2735, Train MAE: 5.5129\n"
     ]
    },
    {
     "name": "stderr",
     "output_type": "stream",
     "text": [
      " 77%|███████▋  | 769/1000 [36:05<10:58,  2.85s/it]"
     ]
    },
    {
     "name": "stdout",
     "output_type": "stream",
     "text": [
      "Test MSE: 77.9785, Test MAE: 5.7213, Test R2: 0.2362\n",
      "Epoch 770/1000\n",
      "Train MSE: 75.7559, Train MAE: 5.5592\n"
     ]
    },
    {
     "name": "stderr",
     "output_type": "stream",
     "text": [
      " 77%|███████▋  | 770/1000 [36:08<10:55,  2.85s/it]"
     ]
    },
    {
     "name": "stdout",
     "output_type": "stream",
     "text": [
      "Test MSE: 72.1679, Test MAE: 5.6077, Test R2: 0.1801\n",
      "Epoch 771/1000\n",
      "Train MSE: 76.3724, Train MAE: 5.5709\n"
     ]
    },
    {
     "name": "stderr",
     "output_type": "stream",
     "text": [
      " 77%|███████▋  | 771/1000 [36:11<10:55,  2.86s/it]"
     ]
    },
    {
     "name": "stdout",
     "output_type": "stream",
     "text": [
      "Test MSE: 77.0243, Test MAE: 5.7274, Test R2: 0.2479\n",
      "Epoch 772/1000\n",
      "Train MSE: 78.4727, Train MAE: 5.5538\n"
     ]
    },
    {
     "name": "stderr",
     "output_type": "stream",
     "text": [
      " 77%|███████▋  | 772/1000 [36:13<10:45,  2.83s/it]"
     ]
    },
    {
     "name": "stdout",
     "output_type": "stream",
     "text": [
      "Test MSE: 75.2287, Test MAE: 5.6726, Test R2: 0.2405\n",
      "Epoch 773/1000\n",
      "Train MSE: 78.3040, Train MAE: 5.5920\n"
     ]
    },
    {
     "name": "stderr",
     "output_type": "stream",
     "text": [
      " 77%|███████▋  | 773/1000 [36:16<10:39,  2.82s/it]"
     ]
    },
    {
     "name": "stdout",
     "output_type": "stream",
     "text": [
      "Test MSE: 72.9852, Test MAE: 5.6292, Test R2: 0.2115\n",
      "Epoch 774/1000\n",
      "Train MSE: 79.1739, Train MAE: 5.6414\n"
     ]
    },
    {
     "name": "stderr",
     "output_type": "stream",
     "text": [
      " 77%|███████▋  | 774/1000 [36:19<10:34,  2.81s/it]"
     ]
    },
    {
     "name": "stdout",
     "output_type": "stream",
     "text": [
      "Test MSE: 73.7387, Test MAE: 5.6175, Test R2: 0.1773\n",
      "Epoch 775/1000\n",
      "Train MSE: 77.4354, Train MAE: 5.5419\n"
     ]
    },
    {
     "name": "stderr",
     "output_type": "stream",
     "text": [
      " 78%|███████▊  | 775/1000 [36:22<10:29,  2.80s/it]"
     ]
    },
    {
     "name": "stdout",
     "output_type": "stream",
     "text": [
      "Test MSE: 73.1370, Test MAE: 5.6171, Test R2: 0.2476\n",
      "Epoch 776/1000\n",
      "Train MSE: 76.4368, Train MAE: 5.5086\n"
     ]
    },
    {
     "name": "stderr",
     "output_type": "stream",
     "text": [
      " 78%|███████▊  | 776/1000 [36:25<10:31,  2.82s/it]"
     ]
    },
    {
     "name": "stdout",
     "output_type": "stream",
     "text": [
      "Test MSE: 76.6935, Test MAE: 5.6630, Test R2: 0.2258\n",
      "Epoch 777/1000\n",
      "Train MSE: 77.1470, Train MAE: 5.5638\n"
     ]
    },
    {
     "name": "stderr",
     "output_type": "stream",
     "text": [
      " 78%|███████▊  | 777/1000 [36:27<10:27,  2.82s/it]"
     ]
    },
    {
     "name": "stdout",
     "output_type": "stream",
     "text": [
      "Test MSE: 78.3896, Test MAE: 5.6974, Test R2: 0.1703\n",
      "Epoch 778/1000\n",
      "Train MSE: 77.7452, Train MAE: 5.5485\n"
     ]
    },
    {
     "name": "stderr",
     "output_type": "stream",
     "text": [
      " 78%|███████▊  | 778/1000 [36:30<10:24,  2.81s/it]"
     ]
    },
    {
     "name": "stdout",
     "output_type": "stream",
     "text": [
      "Test MSE: 76.1646, Test MAE: 5.7182, Test R2: 0.1792\n",
      "Epoch 779/1000\n",
      "Train MSE: 76.2566, Train MAE: 5.5554\n"
     ]
    },
    {
     "name": "stderr",
     "output_type": "stream",
     "text": [
      " 78%|███████▊  | 779/1000 [36:33<10:17,  2.79s/it]"
     ]
    },
    {
     "name": "stdout",
     "output_type": "stream",
     "text": [
      "Test MSE: 75.4972, Test MAE: 5.7118, Test R2: 0.1011\n",
      "Epoch 780/1000\n",
      "Train MSE: 78.2091, Train MAE: 5.6227\n"
     ]
    },
    {
     "name": "stderr",
     "output_type": "stream",
     "text": [
      " 78%|███████▊  | 780/1000 [36:36<10:15,  2.80s/it]"
     ]
    },
    {
     "name": "stdout",
     "output_type": "stream",
     "text": [
      "Test MSE: 76.1168, Test MAE: 5.6743, Test R2: 0.1984\n",
      "Epoch 781/1000\n",
      "Train MSE: 76.9915, Train MAE: 5.5447\n"
     ]
    },
    {
     "name": "stderr",
     "output_type": "stream",
     "text": [
      " 78%|███████▊  | 781/1000 [36:39<10:17,  2.82s/it]"
     ]
    },
    {
     "name": "stdout",
     "output_type": "stream",
     "text": [
      "Test MSE: 76.1160, Test MAE: 5.6544, Test R2: 0.2451\n",
      "Epoch 782/1000\n",
      "Train MSE: 78.2932, Train MAE: 5.6028\n"
     ]
    },
    {
     "name": "stderr",
     "output_type": "stream",
     "text": [
      " 78%|███████▊  | 782/1000 [36:42<10:21,  2.85s/it]"
     ]
    },
    {
     "name": "stdout",
     "output_type": "stream",
     "text": [
      "Test MSE: 76.8182, Test MAE: 5.7261, Test R2: 0.2248\n",
      "Epoch 783/1000\n",
      "Train MSE: 74.7382, Train MAE: 5.5241\n"
     ]
    },
    {
     "name": "stderr",
     "output_type": "stream",
     "text": [
      " 78%|███████▊  | 783/1000 [36:45<10:22,  2.87s/it]"
     ]
    },
    {
     "name": "stdout",
     "output_type": "stream",
     "text": [
      "Test MSE: 75.4413, Test MAE: 5.6448, Test R2: 0.2094\n",
      "Epoch 784/1000\n",
      "Train MSE: 75.1598, Train MAE: 5.5048\n"
     ]
    },
    {
     "name": "stderr",
     "output_type": "stream",
     "text": [
      " 78%|███████▊  | 784/1000 [36:47<10:17,  2.86s/it]"
     ]
    },
    {
     "name": "stdout",
     "output_type": "stream",
     "text": [
      "Test MSE: 74.2915, Test MAE: 5.6676, Test R2: 0.1458\n",
      "Epoch 785/1000\n",
      "Train MSE: 78.2968, Train MAE: 5.6266\n"
     ]
    },
    {
     "name": "stderr",
     "output_type": "stream",
     "text": [
      " 78%|███████▊  | 785/1000 [36:50<10:15,  2.86s/it]"
     ]
    },
    {
     "name": "stdout",
     "output_type": "stream",
     "text": [
      "Test MSE: 80.3857, Test MAE: 5.7711, Test R2: 0.1344\n",
      "Epoch 786/1000\n",
      "Train MSE: 76.5362, Train MAE: 5.5460\n"
     ]
    },
    {
     "name": "stderr",
     "output_type": "stream",
     "text": [
      " 79%|███████▊  | 786/1000 [36:53<10:15,  2.88s/it]"
     ]
    },
    {
     "name": "stdout",
     "output_type": "stream",
     "text": [
      "Test MSE: 76.4993, Test MAE: 5.6796, Test R2: 0.2291\n",
      "Epoch 787/1000\n",
      "Train MSE: 78.8114, Train MAE: 5.6213\n"
     ]
    },
    {
     "name": "stderr",
     "output_type": "stream",
     "text": [
      " 79%|███████▊  | 787/1000 [36:56<10:15,  2.89s/it]"
     ]
    },
    {
     "name": "stdout",
     "output_type": "stream",
     "text": [
      "Test MSE: 76.5214, Test MAE: 5.6958, Test R2: 0.0809\n",
      "Epoch 788/1000\n",
      "Train MSE: 76.3936, Train MAE: 5.5470\n"
     ]
    },
    {
     "name": "stderr",
     "output_type": "stream",
     "text": [
      " 79%|███████▉  | 788/1000 [36:59<10:12,  2.89s/it]"
     ]
    },
    {
     "name": "stdout",
     "output_type": "stream",
     "text": [
      "Test MSE: 78.6649, Test MAE: 5.6984, Test R2: 0.1229\n",
      "Epoch 789/1000\n",
      "Train MSE: 78.5273, Train MAE: 5.5544\n"
     ]
    },
    {
     "name": "stderr",
     "output_type": "stream",
     "text": [
      " 79%|███████▉  | 789/1000 [37:02<10:12,  2.90s/it]"
     ]
    },
    {
     "name": "stdout",
     "output_type": "stream",
     "text": [
      "Test MSE: 73.7188, Test MAE: 5.6152, Test R2: 0.0924\n",
      "Epoch 790/1000\n",
      "Train MSE: 77.6017, Train MAE: 5.5682\n"
     ]
    },
    {
     "name": "stderr",
     "output_type": "stream",
     "text": [
      " 79%|███████▉  | 790/1000 [37:05<10:13,  2.92s/it]"
     ]
    },
    {
     "name": "stdout",
     "output_type": "stream",
     "text": [
      "Test MSE: 75.0038, Test MAE: 5.6471, Test R2: 0.1047\n",
      "Epoch 791/1000\n",
      "Train MSE: 76.3741, Train MAE: 5.5617\n"
     ]
    },
    {
     "name": "stderr",
     "output_type": "stream",
     "text": [
      " 79%|███████▉  | 791/1000 [37:08<10:16,  2.95s/it]"
     ]
    },
    {
     "name": "stdout",
     "output_type": "stream",
     "text": [
      "Test MSE: 76.9200, Test MAE: 5.7570, Test R2: 0.1710\n",
      "Epoch 792/1000\n",
      "Train MSE: 76.0667, Train MAE: 5.5268\n"
     ]
    },
    {
     "name": "stderr",
     "output_type": "stream",
     "text": [
      " 79%|███████▉  | 792/1000 [37:11<10:12,  2.95s/it]"
     ]
    },
    {
     "name": "stdout",
     "output_type": "stream",
     "text": [
      "Test MSE: 76.7231, Test MAE: 5.6483, Test R2: 0.1233\n",
      "Epoch 793/1000\n",
      "Train MSE: 76.5013, Train MAE: 5.5684\n"
     ]
    },
    {
     "name": "stderr",
     "output_type": "stream",
     "text": [
      " 79%|███████▉  | 793/1000 [37:14<10:04,  2.92s/it]"
     ]
    },
    {
     "name": "stdout",
     "output_type": "stream",
     "text": [
      "Test MSE: 74.1473, Test MAE: 5.6599, Test R2: 0.0990\n",
      "Epoch 794/1000\n",
      "Train MSE: 75.0079, Train MAE: 5.5326\n"
     ]
    },
    {
     "name": "stderr",
     "output_type": "stream",
     "text": [
      " 79%|███████▉  | 794/1000 [37:17<09:56,  2.90s/it]"
     ]
    },
    {
     "name": "stdout",
     "output_type": "stream",
     "text": [
      "Test MSE: 73.6873, Test MAE: 5.6786, Test R2: 0.1494\n",
      "Epoch 795/1000\n",
      "Train MSE: 77.7255, Train MAE: 5.5721\n"
     ]
    },
    {
     "name": "stderr",
     "output_type": "stream",
     "text": [
      " 80%|███████▉  | 795/1000 [37:19<09:52,  2.89s/it]"
     ]
    },
    {
     "name": "stdout",
     "output_type": "stream",
     "text": [
      "Test MSE: 75.2621, Test MAE: 5.6501, Test R2: 0.1953\n",
      "Epoch 796/1000\n",
      "Train MSE: 74.4422, Train MAE: 5.5310\n"
     ]
    },
    {
     "name": "stderr",
     "output_type": "stream",
     "text": [
      " 80%|███████▉  | 796/1000 [37:22<09:51,  2.90s/it]"
     ]
    },
    {
     "name": "stdout",
     "output_type": "stream",
     "text": [
      "Test MSE: 74.6012, Test MAE: 5.6268, Test R2: 0.1655\n",
      "Epoch 797/1000\n",
      "Train MSE: 76.4033, Train MAE: 5.5809\n"
     ]
    },
    {
     "name": "stderr",
     "output_type": "stream",
     "text": [
      " 80%|███████▉  | 797/1000 [37:25<09:39,  2.86s/it]"
     ]
    },
    {
     "name": "stdout",
     "output_type": "stream",
     "text": [
      "Test MSE: 74.8435, Test MAE: 5.6463, Test R2: 0.1443\n",
      "Epoch 798/1000\n",
      "Train MSE: 75.3637, Train MAE: 5.5861\n"
     ]
    },
    {
     "name": "stderr",
     "output_type": "stream",
     "text": [
      " 80%|███████▉  | 798/1000 [37:28<09:31,  2.83s/it]"
     ]
    },
    {
     "name": "stdout",
     "output_type": "stream",
     "text": [
      "Test MSE: 72.9631, Test MAE: 5.6121, Test R2: 0.2198\n",
      "Epoch 799/1000\n",
      "Train MSE: 76.1164, Train MAE: 5.5276\n"
     ]
    },
    {
     "name": "stderr",
     "output_type": "stream",
     "text": [
      " 80%|███████▉  | 799/1000 [37:31<09:22,  2.80s/it]"
     ]
    },
    {
     "name": "stdout",
     "output_type": "stream",
     "text": [
      "Test MSE: 77.3184, Test MAE: 5.6862, Test R2: 0.2122\n",
      "Epoch 800/1000\n",
      "Train MSE: 75.0850, Train MAE: 5.5268\n"
     ]
    },
    {
     "name": "stderr",
     "output_type": "stream",
     "text": [
      " 80%|████████  | 800/1000 [37:33<09:19,  2.80s/it]"
     ]
    },
    {
     "name": "stdout",
     "output_type": "stream",
     "text": [
      "Test MSE: 76.6949, Test MAE: 5.6706, Test R2: 0.1158\n",
      "Epoch 801/1000\n",
      "Train MSE: 76.3376, Train MAE: 5.5565\n"
     ]
    },
    {
     "name": "stderr",
     "output_type": "stream",
     "text": [
      " 80%|████████  | 801/1000 [37:36<09:19,  2.81s/it]"
     ]
    },
    {
     "name": "stdout",
     "output_type": "stream",
     "text": [
      "Test MSE: 72.1832, Test MAE: 5.6446, Test R2: 0.0607\n",
      "Epoch 802/1000\n",
      "Train MSE: 74.5398, Train MAE: 5.5391\n"
     ]
    },
    {
     "name": "stderr",
     "output_type": "stream",
     "text": [
      " 80%|████████  | 802/1000 [37:39<09:20,  2.83s/it]"
     ]
    },
    {
     "name": "stdout",
     "output_type": "stream",
     "text": [
      "Test MSE: 73.5626, Test MAE: 5.6405, Test R2: 0.1240\n",
      "Epoch 803/1000\n",
      "Train MSE: 77.3255, Train MAE: 5.5692\n"
     ]
    },
    {
     "name": "stderr",
     "output_type": "stream",
     "text": [
      " 80%|████████  | 803/1000 [37:42<09:12,  2.81s/it]"
     ]
    },
    {
     "name": "stdout",
     "output_type": "stream",
     "text": [
      "Test MSE: 71.1155, Test MAE: 5.5487, Test R2: 0.1769\n",
      "Epoch 804/1000\n",
      "Train MSE: 74.9063, Train MAE: 5.5629\n"
     ]
    },
    {
     "name": "stderr",
     "output_type": "stream",
     "text": [
      " 80%|████████  | 804/1000 [37:45<09:09,  2.80s/it]"
     ]
    },
    {
     "name": "stdout",
     "output_type": "stream",
     "text": [
      "Test MSE: 76.2716, Test MAE: 5.6364, Test R2: 0.1508\n",
      "Epoch 805/1000\n",
      "Train MSE: 77.1303, Train MAE: 5.5755\n"
     ]
    },
    {
     "name": "stderr",
     "output_type": "stream",
     "text": [
      " 80%|████████  | 805/1000 [37:47<09:02,  2.78s/it]"
     ]
    },
    {
     "name": "stdout",
     "output_type": "stream",
     "text": [
      "Test MSE: 75.7031, Test MAE: 5.6548, Test R2: 0.1362\n",
      "Epoch 806/1000\n",
      "Train MSE: 79.3212, Train MAE: 5.6188\n"
     ]
    },
    {
     "name": "stderr",
     "output_type": "stream",
     "text": [
      " 81%|████████  | 806/1000 [37:50<09:01,  2.79s/it]"
     ]
    },
    {
     "name": "stdout",
     "output_type": "stream",
     "text": [
      "Test MSE: 75.8747, Test MAE: 5.7191, Test R2: 0.1536\n",
      "Epoch 807/1000\n",
      "Train MSE: 75.4919, Train MAE: 5.5334\n"
     ]
    },
    {
     "name": "stderr",
     "output_type": "stream",
     "text": [
      " 81%|████████  | 807/1000 [37:53<08:58,  2.79s/it]"
     ]
    },
    {
     "name": "stdout",
     "output_type": "stream",
     "text": [
      "Test MSE: 73.3718, Test MAE: 5.6461, Test R2: 0.1704\n",
      "Epoch 808/1000\n",
      "Train MSE: 78.9124, Train MAE: 5.6150\n"
     ]
    },
    {
     "name": "stderr",
     "output_type": "stream",
     "text": [
      " 81%|████████  | 808/1000 [37:56<08:55,  2.79s/it]"
     ]
    },
    {
     "name": "stdout",
     "output_type": "stream",
     "text": [
      "Test MSE: 75.6742, Test MAE: 5.6094, Test R2: 0.2123\n",
      "Epoch 809/1000\n",
      "Train MSE: 76.0764, Train MAE: 5.5743\n"
     ]
    },
    {
     "name": "stderr",
     "output_type": "stream",
     "text": [
      " 81%|████████  | 809/1000 [37:59<08:53,  2.79s/it]"
     ]
    },
    {
     "name": "stdout",
     "output_type": "stream",
     "text": [
      "Test MSE: 76.2597, Test MAE: 5.6646, Test R2: 0.2089\n",
      "Epoch 810/1000\n",
      "Train MSE: 75.6151, Train MAE: 5.5584\n"
     ]
    },
    {
     "name": "stderr",
     "output_type": "stream",
     "text": [
      " 81%|████████  | 810/1000 [38:01<08:49,  2.78s/it]"
     ]
    },
    {
     "name": "stdout",
     "output_type": "stream",
     "text": [
      "Test MSE: 71.8615, Test MAE: 5.5828, Test R2: 0.2481\n",
      "Epoch 811/1000\n",
      "Train MSE: 77.7408, Train MAE: 5.5512\n"
     ]
    },
    {
     "name": "stderr",
     "output_type": "stream",
     "text": [
      " 81%|████████  | 811/1000 [38:04<08:46,  2.78s/it]"
     ]
    },
    {
     "name": "stdout",
     "output_type": "stream",
     "text": [
      "Test MSE: 76.2121, Test MAE: 5.6409, Test R2: 0.1902\n",
      "Epoch 812/1000\n",
      "Train MSE: 77.4758, Train MAE: 5.5879\n"
     ]
    },
    {
     "name": "stderr",
     "output_type": "stream",
     "text": [
      " 81%|████████  | 812/1000 [38:07<08:41,  2.77s/it]"
     ]
    },
    {
     "name": "stdout",
     "output_type": "stream",
     "text": [
      "Test MSE: 74.1016, Test MAE: 5.6427, Test R2: 0.1344\n",
      "Epoch 813/1000\n",
      "Train MSE: 77.1845, Train MAE: 5.5811\n"
     ]
    },
    {
     "name": "stderr",
     "output_type": "stream",
     "text": [
      " 81%|████████▏ | 813/1000 [38:10<08:39,  2.78s/it]"
     ]
    },
    {
     "name": "stdout",
     "output_type": "stream",
     "text": [
      "Test MSE: 72.7280, Test MAE: 5.5973, Test R2: 0.2169\n",
      "Epoch 814/1000\n",
      "Train MSE: 75.9384, Train MAE: 5.5935\n"
     ]
    },
    {
     "name": "stderr",
     "output_type": "stream",
     "text": [
      " 81%|████████▏ | 814/1000 [38:12<08:41,  2.80s/it]"
     ]
    },
    {
     "name": "stdout",
     "output_type": "stream",
     "text": [
      "Test MSE: 72.7289, Test MAE: 5.6320, Test R2: 0.1781\n",
      "Epoch 815/1000\n",
      "Train MSE: 74.6015, Train MAE: 5.5286\n"
     ]
    },
    {
     "name": "stderr",
     "output_type": "stream",
     "text": [
      " 82%|████████▏ | 815/1000 [38:15<08:40,  2.81s/it]"
     ]
    },
    {
     "name": "stdout",
     "output_type": "stream",
     "text": [
      "Test MSE: 71.8727, Test MAE: 5.5879, Test R2: 0.1966\n",
      "Epoch 816/1000\n",
      "Train MSE: 76.7187, Train MAE: 5.5880\n"
     ]
    },
    {
     "name": "stderr",
     "output_type": "stream",
     "text": [
      " 82%|████████▏ | 816/1000 [38:18<08:35,  2.80s/it]"
     ]
    },
    {
     "name": "stdout",
     "output_type": "stream",
     "text": [
      "Test MSE: 73.3475, Test MAE: 5.5888, Test R2: 0.1664\n",
      "Epoch 817/1000\n",
      "Train MSE: 76.7456, Train MAE: 5.5386\n"
     ]
    },
    {
     "name": "stderr",
     "output_type": "stream",
     "text": [
      " 82%|████████▏ | 817/1000 [38:21<08:33,  2.81s/it]"
     ]
    },
    {
     "name": "stdout",
     "output_type": "stream",
     "text": [
      "Test MSE: 74.7075, Test MAE: 5.6467, Test R2: 0.1393\n",
      "Epoch 818/1000\n",
      "Train MSE: 78.7381, Train MAE: 5.6007\n"
     ]
    },
    {
     "name": "stderr",
     "output_type": "stream",
     "text": [
      " 82%|████████▏ | 818/1000 [38:24<08:36,  2.84s/it]"
     ]
    },
    {
     "name": "stdout",
     "output_type": "stream",
     "text": [
      "Test MSE: 73.4125, Test MAE: 5.6529, Test R2: 0.0850\n",
      "Epoch 819/1000\n",
      "Train MSE: 77.0258, Train MAE: 5.5496\n"
     ]
    },
    {
     "name": "stderr",
     "output_type": "stream",
     "text": [
      " 82%|████████▏ | 819/1000 [38:27<08:35,  2.85s/it]"
     ]
    },
    {
     "name": "stdout",
     "output_type": "stream",
     "text": [
      "Test MSE: 75.9921, Test MAE: 5.6896, Test R2: 0.1928\n",
      "Epoch 820/1000\n",
      "Train MSE: 74.9793, Train MAE: 5.5618\n"
     ]
    },
    {
     "name": "stderr",
     "output_type": "stream",
     "text": [
      " 82%|████████▏ | 820/1000 [38:30<08:33,  2.85s/it]"
     ]
    },
    {
     "name": "stdout",
     "output_type": "stream",
     "text": [
      "Test MSE: 74.4173, Test MAE: 5.6622, Test R2: 0.1479\n",
      "Epoch 821/1000\n",
      "Train MSE: 74.5648, Train MAE: 5.5289\n"
     ]
    },
    {
     "name": "stderr",
     "output_type": "stream",
     "text": [
      " 82%|████████▏ | 821/1000 [38:32<08:28,  2.84s/it]"
     ]
    },
    {
     "name": "stdout",
     "output_type": "stream",
     "text": [
      "Test MSE: 73.5759, Test MAE: 5.6530, Test R2: 0.1433\n",
      "Epoch 822/1000\n",
      "Train MSE: 77.5802, Train MAE: 5.6051\n"
     ]
    },
    {
     "name": "stderr",
     "output_type": "stream",
     "text": [
      " 82%|████████▏ | 822/1000 [38:35<08:30,  2.87s/it]"
     ]
    },
    {
     "name": "stdout",
     "output_type": "stream",
     "text": [
      "Test MSE: 74.1087, Test MAE: 5.6499, Test R2: 0.1229\n",
      "Epoch 823/1000\n",
      "Train MSE: 77.9174, Train MAE: 5.5949\n"
     ]
    },
    {
     "name": "stderr",
     "output_type": "stream",
     "text": [
      " 82%|████████▏ | 823/1000 [38:38<08:27,  2.86s/it]"
     ]
    },
    {
     "name": "stdout",
     "output_type": "stream",
     "text": [
      "Test MSE: 73.3488, Test MAE: 5.6799, Test R2: 0.1635\n",
      "Epoch 824/1000\n",
      "Train MSE: 77.5224, Train MAE: 5.5799\n"
     ]
    },
    {
     "name": "stderr",
     "output_type": "stream",
     "text": [
      " 82%|████████▏ | 824/1000 [38:41<08:26,  2.88s/it]"
     ]
    },
    {
     "name": "stdout",
     "output_type": "stream",
     "text": [
      "Test MSE: 76.6497, Test MAE: 5.6906, Test R2: 0.1768\n",
      "Epoch 825/1000\n",
      "Train MSE: 75.0663, Train MAE: 5.5747\n"
     ]
    },
    {
     "name": "stderr",
     "output_type": "stream",
     "text": [
      " 82%|████████▎ | 825/1000 [38:44<08:26,  2.89s/it]"
     ]
    },
    {
     "name": "stdout",
     "output_type": "stream",
     "text": [
      "Test MSE: 72.6711, Test MAE: 5.5554, Test R2: 0.1941\n",
      "Epoch 826/1000\n",
      "Train MSE: 76.0917, Train MAE: 5.5448\n"
     ]
    },
    {
     "name": "stderr",
     "output_type": "stream",
     "text": [
      " 83%|████████▎ | 826/1000 [38:47<08:24,  2.90s/it]"
     ]
    },
    {
     "name": "stdout",
     "output_type": "stream",
     "text": [
      "Test MSE: 73.6031, Test MAE: 5.5925, Test R2: 0.1542\n",
      "Epoch 827/1000\n",
      "Train MSE: 78.0310, Train MAE: 5.6202\n"
     ]
    },
    {
     "name": "stderr",
     "output_type": "stream",
     "text": [
      " 83%|████████▎ | 827/1000 [38:50<08:20,  2.89s/it]"
     ]
    },
    {
     "name": "stdout",
     "output_type": "stream",
     "text": [
      "Test MSE: 75.0859, Test MAE: 5.6617, Test R2: 0.1958\n",
      "Epoch 828/1000\n",
      "Train MSE: 76.3865, Train MAE: 5.5199\n"
     ]
    },
    {
     "name": "stderr",
     "output_type": "stream",
     "text": [
      " 83%|████████▎ | 828/1000 [38:53<08:11,  2.86s/it]"
     ]
    },
    {
     "name": "stdout",
     "output_type": "stream",
     "text": [
      "Test MSE: 71.2307, Test MAE: 5.5308, Test R2: 0.1854\n",
      "Epoch 829/1000\n",
      "Train MSE: 77.6569, Train MAE: 5.5954\n"
     ]
    },
    {
     "name": "stderr",
     "output_type": "stream",
     "text": [
      " 83%|████████▎ | 829/1000 [38:55<08:05,  2.84s/it]"
     ]
    },
    {
     "name": "stdout",
     "output_type": "stream",
     "text": [
      "Test MSE: 71.9321, Test MAE: 5.5875, Test R2: 0.1841\n",
      "Epoch 830/1000\n",
      "Train MSE: 76.6991, Train MAE: 5.5553\n"
     ]
    },
    {
     "name": "stderr",
     "output_type": "stream",
     "text": [
      " 83%|████████▎ | 830/1000 [38:58<07:58,  2.81s/it]"
     ]
    },
    {
     "name": "stdout",
     "output_type": "stream",
     "text": [
      "Test MSE: 73.9351, Test MAE: 5.6187, Test R2: 0.1906\n",
      "Epoch 831/1000\n",
      "Train MSE: 76.0347, Train MAE: 5.5738\n"
     ]
    },
    {
     "name": "stderr",
     "output_type": "stream",
     "text": [
      " 83%|████████▎ | 831/1000 [39:01<07:56,  2.82s/it]"
     ]
    },
    {
     "name": "stdout",
     "output_type": "stream",
     "text": [
      "Test MSE: 71.1888, Test MAE: 5.6340, Test R2: 0.1583\n",
      "Epoch 832/1000\n",
      "Train MSE: 78.0635, Train MAE: 5.5991\n"
     ]
    },
    {
     "name": "stderr",
     "output_type": "stream",
     "text": [
      " 83%|████████▎ | 832/1000 [39:04<07:50,  2.80s/it]"
     ]
    },
    {
     "name": "stdout",
     "output_type": "stream",
     "text": [
      "Test MSE: 71.9717, Test MAE: 5.6112, Test R2: 0.1177\n",
      "Epoch 833/1000\n",
      "Train MSE: 76.6175, Train MAE: 5.5914\n"
     ]
    },
    {
     "name": "stderr",
     "output_type": "stream",
     "text": [
      " 83%|████████▎ | 833/1000 [39:07<07:49,  2.81s/it]"
     ]
    },
    {
     "name": "stdout",
     "output_type": "stream",
     "text": [
      "Test MSE: 74.7953, Test MAE: 5.6526, Test R2: 0.1517\n",
      "Epoch 834/1000\n",
      "Train MSE: 73.5149, Train MAE: 5.4604\n"
     ]
    },
    {
     "name": "stderr",
     "output_type": "stream",
     "text": [
      " 83%|████████▎ | 834/1000 [39:09<07:46,  2.81s/it]"
     ]
    },
    {
     "name": "stdout",
     "output_type": "stream",
     "text": [
      "Test MSE: 73.9893, Test MAE: 5.6392, Test R2: 0.1928\n",
      "Epoch 835/1000\n",
      "Train MSE: 78.2175, Train MAE: 5.5960\n"
     ]
    },
    {
     "name": "stderr",
     "output_type": "stream",
     "text": [
      " 84%|████████▎ | 835/1000 [39:12<07:43,  2.81s/it]"
     ]
    },
    {
     "name": "stdout",
     "output_type": "stream",
     "text": [
      "Test MSE: 76.4716, Test MAE: 5.6937, Test R2: 0.1863\n",
      "Epoch 836/1000\n",
      "Train MSE: 78.0714, Train MAE: 5.5931\n"
     ]
    },
    {
     "name": "stderr",
     "output_type": "stream",
     "text": [
      " 84%|████████▎ | 836/1000 [39:15<07:44,  2.83s/it]"
     ]
    },
    {
     "name": "stdout",
     "output_type": "stream",
     "text": [
      "Test MSE: 75.2249, Test MAE: 5.6686, Test R2: 0.1094\n",
      "Epoch 837/1000\n",
      "Train MSE: 76.8852, Train MAE: 5.5599\n"
     ]
    },
    {
     "name": "stderr",
     "output_type": "stream",
     "text": [
      " 84%|████████▎ | 837/1000 [39:18<07:42,  2.84s/it]"
     ]
    },
    {
     "name": "stdout",
     "output_type": "stream",
     "text": [
      "Test MSE: 82.6634, Test MAE: 5.7990, Test R2: 0.1322\n",
      "Epoch 838/1000\n",
      "Train MSE: 76.2380, Train MAE: 5.5768\n"
     ]
    },
    {
     "name": "stderr",
     "output_type": "stream",
     "text": [
      " 84%|████████▍ | 838/1000 [39:21<07:42,  2.85s/it]"
     ]
    },
    {
     "name": "stdout",
     "output_type": "stream",
     "text": [
      "Test MSE: 77.0639, Test MAE: 5.6431, Test R2: 0.1542\n",
      "Epoch 839/1000\n",
      "Train MSE: 75.8685, Train MAE: 5.5566\n"
     ]
    },
    {
     "name": "stderr",
     "output_type": "stream",
     "text": [
      " 84%|████████▍ | 839/1000 [39:24<07:39,  2.85s/it]"
     ]
    },
    {
     "name": "stdout",
     "output_type": "stream",
     "text": [
      "Test MSE: 72.9992, Test MAE: 5.6201, Test R2: 0.1514\n",
      "Epoch 840/1000\n",
      "Train MSE: 76.2899, Train MAE: 5.5770\n"
     ]
    },
    {
     "name": "stderr",
     "output_type": "stream",
     "text": [
      " 84%|████████▍ | 840/1000 [39:26<07:36,  2.85s/it]"
     ]
    },
    {
     "name": "stdout",
     "output_type": "stream",
     "text": [
      "Test MSE: 74.0347, Test MAE: 5.6141, Test R2: 0.0446\n",
      "Epoch 841/1000\n",
      "Train MSE: 78.3865, Train MAE: 5.6029\n"
     ]
    },
    {
     "name": "stderr",
     "output_type": "stream",
     "text": [
      " 84%|████████▍ | 841/1000 [39:29<07:33,  2.85s/it]"
     ]
    },
    {
     "name": "stdout",
     "output_type": "stream",
     "text": [
      "Test MSE: 72.8068, Test MAE: 5.5911, Test R2: 0.1392\n",
      "Epoch 842/1000\n",
      "Train MSE: 77.2986, Train MAE: 5.5521\n"
     ]
    },
    {
     "name": "stderr",
     "output_type": "stream",
     "text": [
      " 84%|████████▍ | 842/1000 [39:32<07:26,  2.83s/it]"
     ]
    },
    {
     "name": "stdout",
     "output_type": "stream",
     "text": [
      "Test MSE: 76.9391, Test MAE: 5.6955, Test R2: 0.1627\n",
      "Epoch 843/1000\n",
      "Train MSE: 77.0297, Train MAE: 5.5687\n"
     ]
    },
    {
     "name": "stderr",
     "output_type": "stream",
     "text": [
      " 84%|████████▍ | 843/1000 [39:35<07:22,  2.82s/it]"
     ]
    },
    {
     "name": "stdout",
     "output_type": "stream",
     "text": [
      "Test MSE: 76.8840, Test MAE: 5.6680, Test R2: 0.0692\n",
      "Epoch 844/1000\n",
      "Train MSE: 77.2108, Train MAE: 5.5996\n"
     ]
    },
    {
     "name": "stderr",
     "output_type": "stream",
     "text": [
      " 84%|████████▍ | 844/1000 [39:38<07:16,  2.80s/it]"
     ]
    },
    {
     "name": "stdout",
     "output_type": "stream",
     "text": [
      "Test MSE: 73.6744, Test MAE: 5.6104, Test R2: 0.1463\n",
      "Epoch 845/1000\n",
      "Train MSE: 77.0541, Train MAE: 5.4952\n"
     ]
    },
    {
     "name": "stderr",
     "output_type": "stream",
     "text": [
      " 84%|████████▍ | 845/1000 [39:40<07:13,  2.79s/it]"
     ]
    },
    {
     "name": "stdout",
     "output_type": "stream",
     "text": [
      "Test MSE: 75.7081, Test MAE: 5.6572, Test R2: 0.0971\n",
      "Epoch 846/1000\n",
      "Train MSE: 75.5082, Train MAE: 5.5201\n"
     ]
    },
    {
     "name": "stderr",
     "output_type": "stream",
     "text": [
      " 85%|████████▍ | 846/1000 [39:43<07:06,  2.77s/it]"
     ]
    },
    {
     "name": "stdout",
     "output_type": "stream",
     "text": [
      "Test MSE: 74.6680, Test MAE: 5.6244, Test R2: 0.2263\n",
      "Epoch 847/1000\n",
      "Train MSE: 75.8786, Train MAE: 5.4857\n"
     ]
    },
    {
     "name": "stderr",
     "output_type": "stream",
     "text": [
      " 85%|████████▍ | 847/1000 [39:46<07:07,  2.79s/it]"
     ]
    },
    {
     "name": "stdout",
     "output_type": "stream",
     "text": [
      "Test MSE: 72.5535, Test MAE: 5.5890, Test R2: 0.2239\n",
      "Epoch 848/1000\n",
      "Train MSE: 78.8818, Train MAE: 5.6074\n"
     ]
    },
    {
     "name": "stderr",
     "output_type": "stream",
     "text": [
      " 85%|████████▍ | 848/1000 [39:49<07:08,  2.82s/it]"
     ]
    },
    {
     "name": "stdout",
     "output_type": "stream",
     "text": [
      "Test MSE: 79.0858, Test MAE: 5.6977, Test R2: 0.2332\n",
      "Epoch 849/1000\n",
      "Train MSE: 76.8620, Train MAE: 5.5589\n"
     ]
    },
    {
     "name": "stderr",
     "output_type": "stream",
     "text": [
      " 85%|████████▍ | 849/1000 [39:52<07:06,  2.83s/it]"
     ]
    },
    {
     "name": "stdout",
     "output_type": "stream",
     "text": [
      "Test MSE: 74.2002, Test MAE: 5.6288, Test R2: 0.2333\n",
      "Epoch 850/1000\n",
      "Train MSE: 76.1219, Train MAE: 5.5324\n"
     ]
    },
    {
     "name": "stderr",
     "output_type": "stream",
     "text": [
      " 85%|████████▌ | 850/1000 [39:55<07:03,  2.83s/it]"
     ]
    },
    {
     "name": "stdout",
     "output_type": "stream",
     "text": [
      "Test MSE: 74.0003, Test MAE: 5.6307, Test R2: 0.1865\n",
      "Epoch 851/1000\n",
      "Train MSE: 75.0041, Train MAE: 5.5043\n"
     ]
    },
    {
     "name": "stderr",
     "output_type": "stream",
     "text": [
      " 85%|████████▌ | 851/1000 [39:57<07:05,  2.86s/it]"
     ]
    },
    {
     "name": "stdout",
     "output_type": "stream",
     "text": [
      "Test MSE: 71.2715, Test MAE: 5.5461, Test R2: 0.1355\n",
      "Epoch 852/1000\n",
      "Train MSE: 74.1374, Train MAE: 5.5155\n"
     ]
    },
    {
     "name": "stderr",
     "output_type": "stream",
     "text": [
      " 85%|████████▌ | 852/1000 [40:00<07:06,  2.88s/it]"
     ]
    },
    {
     "name": "stdout",
     "output_type": "stream",
     "text": [
      "Test MSE: 72.7366, Test MAE: 5.5647, Test R2: 0.2133\n",
      "Epoch 853/1000\n",
      "Train MSE: 75.9549, Train MAE: 5.5666\n"
     ]
    },
    {
     "name": "stderr",
     "output_type": "stream",
     "text": [
      " 85%|████████▌ | 853/1000 [40:03<07:00,  2.86s/it]"
     ]
    },
    {
     "name": "stdout",
     "output_type": "stream",
     "text": [
      "Test MSE: 70.5890, Test MAE: 5.5564, Test R2: 0.1241\n",
      "Epoch 854/1000\n",
      "Train MSE: 75.7348, Train MAE: 5.5481\n"
     ]
    },
    {
     "name": "stderr",
     "output_type": "stream",
     "text": [
      " 85%|████████▌ | 854/1000 [40:06<06:57,  2.86s/it]"
     ]
    },
    {
     "name": "stdout",
     "output_type": "stream",
     "text": [
      "Test MSE: 74.7592, Test MAE: 5.5961, Test R2: 0.1749\n",
      "Epoch 855/1000\n",
      "Train MSE: 76.2064, Train MAE: 5.5256\n"
     ]
    },
    {
     "name": "stderr",
     "output_type": "stream",
     "text": [
      " 86%|████████▌ | 855/1000 [40:09<06:54,  2.86s/it]"
     ]
    },
    {
     "name": "stdout",
     "output_type": "stream",
     "text": [
      "Test MSE: 76.0258, Test MAE: 5.6665, Test R2: 0.1049\n",
      "Epoch 856/1000\n",
      "Train MSE: 76.5825, Train MAE: 5.5558\n"
     ]
    },
    {
     "name": "stderr",
     "output_type": "stream",
     "text": [
      " 86%|████████▌ | 856/1000 [40:12<06:52,  2.86s/it]"
     ]
    },
    {
     "name": "stdout",
     "output_type": "stream",
     "text": [
      "Test MSE: 73.4274, Test MAE: 5.6179, Test R2: 0.1375\n",
      "Epoch 857/1000\n",
      "Train MSE: 76.4259, Train MAE: 5.5804\n"
     ]
    },
    {
     "name": "stderr",
     "output_type": "stream",
     "text": [
      " 86%|████████▌ | 857/1000 [40:15<06:48,  2.86s/it]"
     ]
    },
    {
     "name": "stdout",
     "output_type": "stream",
     "text": [
      "Test MSE: 73.0839, Test MAE: 5.6084, Test R2: 0.1103\n",
      "Epoch 858/1000\n",
      "Train MSE: 76.0443, Train MAE: 5.5249\n"
     ]
    },
    {
     "name": "stderr",
     "output_type": "stream",
     "text": [
      " 86%|████████▌ | 858/1000 [40:18<06:45,  2.86s/it]"
     ]
    },
    {
     "name": "stdout",
     "output_type": "stream",
     "text": [
      "Test MSE: 73.8196, Test MAE: 5.6472, Test R2: 0.1607\n",
      "Epoch 859/1000\n",
      "Train MSE: 75.0901, Train MAE: 5.5301\n"
     ]
    },
    {
     "name": "stderr",
     "output_type": "stream",
     "text": [
      " 86%|████████▌ | 859/1000 [40:20<06:43,  2.86s/it]"
     ]
    },
    {
     "name": "stdout",
     "output_type": "stream",
     "text": [
      "Test MSE: 76.4819, Test MAE: 5.6863, Test R2: 0.1366\n",
      "Epoch 860/1000\n",
      "Train MSE: 76.6467, Train MAE: 5.5478\n"
     ]
    },
    {
     "name": "stderr",
     "output_type": "stream",
     "text": [
      " 86%|████████▌ | 860/1000 [40:23<06:41,  2.87s/it]"
     ]
    },
    {
     "name": "stdout",
     "output_type": "stream",
     "text": [
      "Test MSE: 73.9999, Test MAE: 5.6545, Test R2: 0.1721\n",
      "Epoch 861/1000\n",
      "Train MSE: 77.8447, Train MAE: 5.6024\n"
     ]
    },
    {
     "name": "stderr",
     "output_type": "stream",
     "text": [
      " 86%|████████▌ | 861/1000 [40:26<06:39,  2.87s/it]"
     ]
    },
    {
     "name": "stdout",
     "output_type": "stream",
     "text": [
      "Test MSE: 73.0725, Test MAE: 5.6361, Test R2: 0.1735\n",
      "Epoch 862/1000\n",
      "Train MSE: 74.0841, Train MAE: 5.4842\n"
     ]
    },
    {
     "name": "stderr",
     "output_type": "stream",
     "text": [
      " 86%|████████▌ | 862/1000 [40:29<06:34,  2.86s/it]"
     ]
    },
    {
     "name": "stdout",
     "output_type": "stream",
     "text": [
      "Test MSE: 75.2835, Test MAE: 5.6827, Test R2: 0.0622\n",
      "Epoch 863/1000\n",
      "Train MSE: 77.9195, Train MAE: 5.6287\n"
     ]
    },
    {
     "name": "stderr",
     "output_type": "stream",
     "text": [
      " 86%|████████▋ | 863/1000 [40:32<06:30,  2.85s/it]"
     ]
    },
    {
     "name": "stdout",
     "output_type": "stream",
     "text": [
      "Test MSE: 79.2213, Test MAE: 5.7421, Test R2: 0.2079\n",
      "Epoch 864/1000\n",
      "Train MSE: 76.0393, Train MAE: 5.5552\n"
     ]
    },
    {
     "name": "stderr",
     "output_type": "stream",
     "text": [
      " 86%|████████▋ | 864/1000 [40:35<06:28,  2.86s/it]"
     ]
    },
    {
     "name": "stdout",
     "output_type": "stream",
     "text": [
      "Test MSE: 77.4087, Test MAE: 5.7142, Test R2: 0.1519\n",
      "Epoch 865/1000\n",
      "Train MSE: 75.3347, Train MAE: 5.5452\n"
     ]
    },
    {
     "name": "stderr",
     "output_type": "stream",
     "text": [
      " 86%|████████▋ | 865/1000 [40:38<06:27,  2.87s/it]"
     ]
    },
    {
     "name": "stdout",
     "output_type": "stream",
     "text": [
      "Test MSE: 75.0807, Test MAE: 5.6514, Test R2: 0.1433\n",
      "Epoch 866/1000\n",
      "Train MSE: 79.5190, Train MAE: 5.5889\n"
     ]
    },
    {
     "name": "stderr",
     "output_type": "stream",
     "text": [
      " 87%|████████▋ | 866/1000 [40:40<06:24,  2.87s/it]"
     ]
    },
    {
     "name": "stdout",
     "output_type": "stream",
     "text": [
      "Test MSE: 76.1090, Test MAE: 5.6968, Test R2: 0.0829\n",
      "Epoch 867/1000\n",
      "Train MSE: 76.7297, Train MAE: 5.5240\n"
     ]
    },
    {
     "name": "stderr",
     "output_type": "stream",
     "text": [
      " 87%|████████▋ | 867/1000 [40:43<06:22,  2.87s/it]"
     ]
    },
    {
     "name": "stdout",
     "output_type": "stream",
     "text": [
      "Test MSE: 73.6820, Test MAE: 5.6275, Test R2: 0.2390\n",
      "Epoch 868/1000\n",
      "Train MSE: 75.4850, Train MAE: 5.5714\n"
     ]
    },
    {
     "name": "stderr",
     "output_type": "stream",
     "text": [
      " 87%|████████▋ | 868/1000 [40:46<06:21,  2.89s/it]"
     ]
    },
    {
     "name": "stdout",
     "output_type": "stream",
     "text": [
      "Test MSE: 75.2001, Test MAE: 5.6418, Test R2: 0.1573\n",
      "Epoch 869/1000\n",
      "Train MSE: 77.2262, Train MAE: 5.5509\n"
     ]
    },
    {
     "name": "stderr",
     "output_type": "stream",
     "text": [
      " 87%|████████▋ | 869/1000 [40:49<06:18,  2.89s/it]"
     ]
    },
    {
     "name": "stdout",
     "output_type": "stream",
     "text": [
      "Test MSE: 81.6311, Test MAE: 5.8275, Test R2: 0.1848\n",
      "Epoch 870/1000\n",
      "Train MSE: 75.6321, Train MAE: 5.5572\n"
     ]
    },
    {
     "name": "stderr",
     "output_type": "stream",
     "text": [
      " 87%|████████▋ | 870/1000 [40:52<06:17,  2.90s/it]"
     ]
    },
    {
     "name": "stdout",
     "output_type": "stream",
     "text": [
      "Test MSE: 75.1736, Test MAE: 5.6707, Test R2: 0.1624\n",
      "Epoch 871/1000\n",
      "Train MSE: 76.4263, Train MAE: 5.5528\n"
     ]
    },
    {
     "name": "stderr",
     "output_type": "stream",
     "text": [
      " 87%|████████▋ | 871/1000 [40:55<06:11,  2.88s/it]"
     ]
    },
    {
     "name": "stdout",
     "output_type": "stream",
     "text": [
      "Test MSE: 76.1066, Test MAE: 5.6996, Test R2: 0.2521\n",
      "Epoch 872/1000\n",
      "Train MSE: 75.1677, Train MAE: 5.5489\n"
     ]
    },
    {
     "name": "stderr",
     "output_type": "stream",
     "text": [
      " 87%|████████▋ | 872/1000 [40:58<06:08,  2.88s/it]"
     ]
    },
    {
     "name": "stdout",
     "output_type": "stream",
     "text": [
      "Test MSE: 72.5072, Test MAE: 5.5872, Test R2: 0.2356\n",
      "Epoch 873/1000\n",
      "Train MSE: 75.2527, Train MAE: 5.5346\n"
     ]
    },
    {
     "name": "stderr",
     "output_type": "stream",
     "text": [
      " 87%|████████▋ | 873/1000 [41:01<06:01,  2.85s/it]"
     ]
    },
    {
     "name": "stdout",
     "output_type": "stream",
     "text": [
      "Test MSE: 75.0471, Test MAE: 5.6009, Test R2: 0.2223\n",
      "Epoch 874/1000\n",
      "Train MSE: 77.5969, Train MAE: 5.5663\n"
     ]
    },
    {
     "name": "stderr",
     "output_type": "stream",
     "text": [
      " 87%|████████▋ | 874/1000 [41:03<05:57,  2.84s/it]"
     ]
    },
    {
     "name": "stdout",
     "output_type": "stream",
     "text": [
      "Test MSE: 77.0343, Test MAE: 5.6567, Test R2: 0.1426\n",
      "Epoch 875/1000\n",
      "Train MSE: 75.8815, Train MAE: 5.5739\n"
     ]
    },
    {
     "name": "stderr",
     "output_type": "stream",
     "text": [
      " 88%|████████▊ | 875/1000 [41:06<05:54,  2.83s/it]"
     ]
    },
    {
     "name": "stdout",
     "output_type": "stream",
     "text": [
      "Test MSE: 73.0718, Test MAE: 5.5598, Test R2: 0.1626\n",
      "Epoch 876/1000\n",
      "Train MSE: 76.4887, Train MAE: 5.5820\n"
     ]
    },
    {
     "name": "stderr",
     "output_type": "stream",
     "text": [
      " 88%|████████▊ | 876/1000 [41:09<05:50,  2.83s/it]"
     ]
    },
    {
     "name": "stdout",
     "output_type": "stream",
     "text": [
      "Test MSE: 72.9899, Test MAE: 5.6328, Test R2: 0.1625\n",
      "Epoch 877/1000\n",
      "Train MSE: 77.4559, Train MAE: 5.5727\n"
     ]
    },
    {
     "name": "stderr",
     "output_type": "stream",
     "text": [
      " 88%|████████▊ | 877/1000 [41:12<05:47,  2.83s/it]"
     ]
    },
    {
     "name": "stdout",
     "output_type": "stream",
     "text": [
      "Test MSE: 72.6130, Test MAE: 5.6392, Test R2: 0.1994\n",
      "Epoch 878/1000\n",
      "Train MSE: 76.7530, Train MAE: 5.5833\n"
     ]
    },
    {
     "name": "stderr",
     "output_type": "stream",
     "text": [
      " 88%|████████▊ | 878/1000 [41:15<05:43,  2.82s/it]"
     ]
    },
    {
     "name": "stdout",
     "output_type": "stream",
     "text": [
      "Test MSE: 72.5973, Test MAE: 5.5821, Test R2: 0.1721\n",
      "Epoch 879/1000\n",
      "Train MSE: 75.2134, Train MAE: 5.4971\n"
     ]
    },
    {
     "name": "stderr",
     "output_type": "stream",
     "text": [
      " 88%|████████▊ | 879/1000 [41:17<05:40,  2.81s/it]"
     ]
    },
    {
     "name": "stdout",
     "output_type": "stream",
     "text": [
      "Test MSE: 81.2562, Test MAE: 5.7887, Test R2: 0.2287\n",
      "Epoch 880/1000\n",
      "Train MSE: 76.7250, Train MAE: 5.5499\n"
     ]
    },
    {
     "name": "stderr",
     "output_type": "stream",
     "text": [
      " 88%|████████▊ | 880/1000 [41:20<05:36,  2.80s/it]"
     ]
    },
    {
     "name": "stdout",
     "output_type": "stream",
     "text": [
      "Test MSE: 73.6892, Test MAE: 5.6403, Test R2: 0.1866\n",
      "Epoch 881/1000\n",
      "Train MSE: 74.7256, Train MAE: 5.5062\n"
     ]
    },
    {
     "name": "stderr",
     "output_type": "stream",
     "text": [
      " 88%|████████▊ | 881/1000 [41:23<05:33,  2.81s/it]"
     ]
    },
    {
     "name": "stdout",
     "output_type": "stream",
     "text": [
      "Test MSE: 72.1012, Test MAE: 5.5965, Test R2: 0.1623\n",
      "Epoch 882/1000\n",
      "Train MSE: 75.5961, Train MAE: 5.5316\n"
     ]
    },
    {
     "name": "stderr",
     "output_type": "stream",
     "text": [
      " 88%|████████▊ | 882/1000 [41:26<05:29,  2.80s/it]"
     ]
    },
    {
     "name": "stdout",
     "output_type": "stream",
     "text": [
      "Test MSE: 79.0477, Test MAE: 5.7373, Test R2: 0.1300\n",
      "Epoch 883/1000\n",
      "Train MSE: 76.7607, Train MAE: 5.5696\n"
     ]
    },
    {
     "name": "stderr",
     "output_type": "stream",
     "text": [
      " 88%|████████▊ | 883/1000 [41:29<05:29,  2.81s/it]"
     ]
    },
    {
     "name": "stdout",
     "output_type": "stream",
     "text": [
      "Test MSE: 79.1344, Test MAE: 5.7228, Test R2: 0.2568\n",
      "Epoch 884/1000\n",
      "Train MSE: 75.8420, Train MAE: 5.5424\n"
     ]
    },
    {
     "name": "stderr",
     "output_type": "stream",
     "text": [
      " 88%|████████▊ | 884/1000 [41:32<05:28,  2.84s/it]"
     ]
    },
    {
     "name": "stdout",
     "output_type": "stream",
     "text": [
      "Test MSE: 76.4789, Test MAE: 5.6559, Test R2: 0.2197\n",
      "Epoch 885/1000\n",
      "Train MSE: 76.3923, Train MAE: 5.5354\n"
     ]
    },
    {
     "name": "stderr",
     "output_type": "stream",
     "text": [
      " 88%|████████▊ | 885/1000 [41:34<05:26,  2.84s/it]"
     ]
    },
    {
     "name": "stdout",
     "output_type": "stream",
     "text": [
      "Test MSE: 78.3039, Test MAE: 5.7177, Test R2: 0.1602\n",
      "Epoch 886/1000\n",
      "Train MSE: 74.1871, Train MAE: 5.5088\n"
     ]
    },
    {
     "name": "stderr",
     "output_type": "stream",
     "text": [
      " 89%|████████▊ | 886/1000 [41:37<05:25,  2.86s/it]"
     ]
    },
    {
     "name": "stdout",
     "output_type": "stream",
     "text": [
      "Test MSE: 74.9693, Test MAE: 5.6291, Test R2: 0.1846\n",
      "Epoch 887/1000\n",
      "Train MSE: 74.2454, Train MAE: 5.4967\n"
     ]
    },
    {
     "name": "stderr",
     "output_type": "stream",
     "text": [
      " 89%|████████▊ | 887/1000 [41:40<05:25,  2.88s/it]"
     ]
    },
    {
     "name": "stdout",
     "output_type": "stream",
     "text": [
      "Test MSE: 74.1630, Test MAE: 5.6386, Test R2: 0.1727\n",
      "Epoch 888/1000\n",
      "Train MSE: 74.8829, Train MAE: 5.5088\n"
     ]
    },
    {
     "name": "stderr",
     "output_type": "stream",
     "text": [
      " 89%|████████▉ | 888/1000 [41:43<05:21,  2.87s/it]"
     ]
    },
    {
     "name": "stdout",
     "output_type": "stream",
     "text": [
      "Test MSE: 75.3930, Test MAE: 5.6799, Test R2: 0.1517\n",
      "Epoch 889/1000\n",
      "Train MSE: 74.0009, Train MAE: 5.4934\n"
     ]
    },
    {
     "name": "stderr",
     "output_type": "stream",
     "text": [
      " 89%|████████▉ | 889/1000 [41:46<05:15,  2.84s/it]"
     ]
    },
    {
     "name": "stdout",
     "output_type": "stream",
     "text": [
      "Test MSE: 73.3441, Test MAE: 5.5982, Test R2: 0.1316\n",
      "Epoch 890/1000\n",
      "Train MSE: 76.4339, Train MAE: 5.5546\n"
     ]
    },
    {
     "name": "stderr",
     "output_type": "stream",
     "text": [
      " 89%|████████▉ | 890/1000 [41:49<05:11,  2.84s/it]"
     ]
    },
    {
     "name": "stdout",
     "output_type": "stream",
     "text": [
      "Test MSE: 72.4319, Test MAE: 5.5814, Test R2: 0.1770\n",
      "Epoch 891/1000\n",
      "Train MSE: 75.4115, Train MAE: 5.5169\n"
     ]
    },
    {
     "name": "stderr",
     "output_type": "stream",
     "text": [
      " 89%|████████▉ | 891/1000 [41:52<05:10,  2.85s/it]"
     ]
    },
    {
     "name": "stdout",
     "output_type": "stream",
     "text": [
      "Test MSE: 74.5866, Test MAE: 5.6293, Test R2: 0.1184\n",
      "Epoch 892/1000\n",
      "Train MSE: 75.2273, Train MAE: 5.5518\n"
     ]
    },
    {
     "name": "stderr",
     "output_type": "stream",
     "text": [
      " 89%|████████▉ | 892/1000 [41:54<05:09,  2.86s/it]"
     ]
    },
    {
     "name": "stdout",
     "output_type": "stream",
     "text": [
      "Test MSE: 74.9839, Test MAE: 5.6445, Test R2: 0.2556\n",
      "Epoch 893/1000\n",
      "Train MSE: 79.0353, Train MAE: 5.5618\n"
     ]
    },
    {
     "name": "stderr",
     "output_type": "stream",
     "text": [
      " 89%|████████▉ | 893/1000 [41:57<05:07,  2.88s/it]"
     ]
    },
    {
     "name": "stdout",
     "output_type": "stream",
     "text": [
      "Test MSE: 74.4662, Test MAE: 5.6330, Test R2: 0.1693\n",
      "Epoch 894/1000\n",
      "Train MSE: 78.2862, Train MAE: 5.6068\n"
     ]
    },
    {
     "name": "stderr",
     "output_type": "stream",
     "text": [
      " 89%|████████▉ | 894/1000 [42:00<05:04,  2.88s/it]"
     ]
    },
    {
     "name": "stdout",
     "output_type": "stream",
     "text": [
      "Test MSE: 74.6078, Test MAE: 5.6076, Test R2: 0.1772\n",
      "Epoch 895/1000\n",
      "Train MSE: 77.3528, Train MAE: 5.5637\n"
     ]
    },
    {
     "name": "stderr",
     "output_type": "stream",
     "text": [
      " 90%|████████▉ | 895/1000 [42:03<05:02,  2.89s/it]"
     ]
    },
    {
     "name": "stdout",
     "output_type": "stream",
     "text": [
      "Test MSE: 76.6429, Test MAE: 5.6992, Test R2: 0.2294\n",
      "Epoch 896/1000\n",
      "Train MSE: 73.2452, Train MAE: 5.4639\n"
     ]
    },
    {
     "name": "stderr",
     "output_type": "stream",
     "text": [
      " 90%|████████▉ | 896/1000 [42:06<04:58,  2.87s/it]"
     ]
    },
    {
     "name": "stdout",
     "output_type": "stream",
     "text": [
      "Test MSE: 75.9085, Test MAE: 5.6383, Test R2: 0.1636\n",
      "Epoch 897/1000\n",
      "Train MSE: 75.2376, Train MAE: 5.5193\n"
     ]
    },
    {
     "name": "stderr",
     "output_type": "stream",
     "text": [
      " 90%|████████▉ | 897/1000 [42:09<04:55,  2.87s/it]"
     ]
    },
    {
     "name": "stdout",
     "output_type": "stream",
     "text": [
      "Test MSE: 73.4895, Test MAE: 5.6577, Test R2: 0.2156\n",
      "Epoch 898/1000\n",
      "Train MSE: 76.4850, Train MAE: 5.5953\n"
     ]
    },
    {
     "name": "stderr",
     "output_type": "stream",
     "text": [
      " 90%|████████▉ | 898/1000 [42:12<04:51,  2.86s/it]"
     ]
    },
    {
     "name": "stdout",
     "output_type": "stream",
     "text": [
      "Test MSE: 72.0928, Test MAE: 5.6181, Test R2: 0.2251\n",
      "Epoch 899/1000\n",
      "Train MSE: 78.2030, Train MAE: 5.5989\n"
     ]
    },
    {
     "name": "stderr",
     "output_type": "stream",
     "text": [
      " 90%|████████▉ | 899/1000 [42:15<04:49,  2.87s/it]"
     ]
    },
    {
     "name": "stdout",
     "output_type": "stream",
     "text": [
      "Test MSE: 80.5321, Test MAE: 5.7374, Test R2: 0.2654\n",
      "Epoch 900/1000\n",
      "Train MSE: 73.5556, Train MAE: 5.4678\n"
     ]
    },
    {
     "name": "stderr",
     "output_type": "stream",
     "text": [
      " 90%|█████████ | 900/1000 [42:17<04:47,  2.88s/it]"
     ]
    },
    {
     "name": "stdout",
     "output_type": "stream",
     "text": [
      "Test MSE: 76.4534, Test MAE: 5.7092, Test R2: 0.1940\n",
      "Epoch 901/1000\n",
      "Train MSE: 77.9150, Train MAE: 5.5816\n"
     ]
    },
    {
     "name": "stderr",
     "output_type": "stream",
     "text": [
      " 90%|█████████ | 901/1000 [42:20<04:44,  2.87s/it]"
     ]
    },
    {
     "name": "stdout",
     "output_type": "stream",
     "text": [
      "Test MSE: 70.9770, Test MAE: 5.5757, Test R2: 0.1686\n",
      "Epoch 902/1000\n",
      "Train MSE: 73.2073, Train MAE: 5.4973\n"
     ]
    },
    {
     "name": "stderr",
     "output_type": "stream",
     "text": [
      " 90%|█████████ | 902/1000 [42:23<04:41,  2.88s/it]"
     ]
    },
    {
     "name": "stdout",
     "output_type": "stream",
     "text": [
      "Test MSE: 71.1810, Test MAE: 5.5437, Test R2: 0.2560\n",
      "Epoch 903/1000\n",
      "Train MSE: 73.5947, Train MAE: 5.5125\n"
     ]
    },
    {
     "name": "stderr",
     "output_type": "stream",
     "text": [
      " 90%|█████████ | 903/1000 [42:26<04:38,  2.87s/it]"
     ]
    },
    {
     "name": "stdout",
     "output_type": "stream",
     "text": [
      "Test MSE: 71.5412, Test MAE: 5.5546, Test R2: 0.1890\n",
      "Epoch 904/1000\n",
      "Train MSE: 75.4346, Train MAE: 5.5435\n"
     ]
    },
    {
     "name": "stderr",
     "output_type": "stream",
     "text": [
      " 90%|█████████ | 904/1000 [42:29<04:35,  2.87s/it]"
     ]
    },
    {
     "name": "stdout",
     "output_type": "stream",
     "text": [
      "Test MSE: 73.8462, Test MAE: 5.6007, Test R2: 0.2330\n",
      "Epoch 905/1000\n",
      "Train MSE: 76.0248, Train MAE: 5.5382\n"
     ]
    },
    {
     "name": "stderr",
     "output_type": "stream",
     "text": [
      " 90%|█████████ | 905/1000 [42:32<04:32,  2.87s/it]"
     ]
    },
    {
     "name": "stdout",
     "output_type": "stream",
     "text": [
      "Test MSE: 73.3313, Test MAE: 5.5901, Test R2: 0.1919\n",
      "Epoch 906/1000\n",
      "Train MSE: 74.3238, Train MAE: 5.5341\n"
     ]
    },
    {
     "name": "stderr",
     "output_type": "stream",
     "text": [
      " 91%|█████████ | 906/1000 [42:35<04:26,  2.84s/it]"
     ]
    },
    {
     "name": "stdout",
     "output_type": "stream",
     "text": [
      "Test MSE: 74.7573, Test MAE: 5.6405, Test R2: 0.1617\n",
      "Epoch 907/1000\n",
      "Train MSE: 76.2989, Train MAE: 5.5532\n"
     ]
    },
    {
     "name": "stderr",
     "output_type": "stream",
     "text": [
      " 91%|█████████ | 907/1000 [42:37<04:22,  2.83s/it]"
     ]
    },
    {
     "name": "stdout",
     "output_type": "stream",
     "text": [
      "Test MSE: 82.8570, Test MAE: 5.7930, Test R2: 0.1866\n",
      "Epoch 908/1000\n",
      "Train MSE: 77.3344, Train MAE: 5.5587\n"
     ]
    },
    {
     "name": "stderr",
     "output_type": "stream",
     "text": [
      " 91%|█████████ | 908/1000 [42:40<04:20,  2.83s/it]"
     ]
    },
    {
     "name": "stdout",
     "output_type": "stream",
     "text": [
      "Test MSE: 73.2835, Test MAE: 5.5846, Test R2: 0.1991\n",
      "Epoch 909/1000\n",
      "Train MSE: 74.7788, Train MAE: 5.4586\n"
     ]
    },
    {
     "name": "stderr",
     "output_type": "stream",
     "text": [
      " 91%|█████████ | 909/1000 [42:43<04:16,  2.82s/it]"
     ]
    },
    {
     "name": "stdout",
     "output_type": "stream",
     "text": [
      "Test MSE: 75.3623, Test MAE: 5.6683, Test R2: 0.1613\n",
      "Epoch 910/1000\n",
      "Train MSE: 74.3190, Train MAE: 5.4799\n"
     ]
    },
    {
     "name": "stderr",
     "output_type": "stream",
     "text": [
      " 91%|█████████ | 910/1000 [42:46<04:11,  2.79s/it]"
     ]
    },
    {
     "name": "stdout",
     "output_type": "stream",
     "text": [
      "Test MSE: 72.3873, Test MAE: 5.5801, Test R2: 0.2025\n",
      "Epoch 911/1000\n",
      "Train MSE: 75.7234, Train MAE: 5.5414\n"
     ]
    },
    {
     "name": "stderr",
     "output_type": "stream",
     "text": [
      " 91%|█████████ | 911/1000 [42:49<04:10,  2.82s/it]"
     ]
    },
    {
     "name": "stdout",
     "output_type": "stream",
     "text": [
      "Test MSE: 75.5206, Test MAE: 5.6560, Test R2: 0.1770\n",
      "Epoch 912/1000\n",
      "Train MSE: 73.1033, Train MAE: 5.4455\n"
     ]
    },
    {
     "name": "stderr",
     "output_type": "stream",
     "text": [
      " 91%|█████████ | 912/1000 [42:52<04:10,  2.85s/it]"
     ]
    },
    {
     "name": "stdout",
     "output_type": "stream",
     "text": [
      "Test MSE: 73.9998, Test MAE: 5.6042, Test R2: 0.2121\n",
      "Epoch 913/1000\n",
      "Train MSE: 76.3876, Train MAE: 5.5620\n"
     ]
    },
    {
     "name": "stderr",
     "output_type": "stream",
     "text": [
      " 91%|█████████▏| 913/1000 [42:54<04:07,  2.85s/it]"
     ]
    },
    {
     "name": "stdout",
     "output_type": "stream",
     "text": [
      "Test MSE: 77.2893, Test MAE: 5.6685, Test R2: 0.1783\n",
      "Epoch 914/1000\n",
      "Train MSE: 74.9386, Train MAE: 5.5219\n"
     ]
    },
    {
     "name": "stderr",
     "output_type": "stream",
     "text": [
      " 91%|█████████▏| 914/1000 [42:57<04:03,  2.83s/it]"
     ]
    },
    {
     "name": "stdout",
     "output_type": "stream",
     "text": [
      "Test MSE: 75.3239, Test MAE: 5.6478, Test R2: 0.1907\n",
      "Epoch 915/1000\n",
      "Train MSE: 73.1940, Train MAE: 5.4770\n"
     ]
    },
    {
     "name": "stderr",
     "output_type": "stream",
     "text": [
      " 92%|█████████▏| 915/1000 [43:00<04:01,  2.84s/it]"
     ]
    },
    {
     "name": "stdout",
     "output_type": "stream",
     "text": [
      "Test MSE: 75.1382, Test MAE: 5.6491, Test R2: 0.2121\n",
      "Epoch 916/1000\n",
      "Train MSE: 72.2953, Train MAE: 5.4817\n"
     ]
    },
    {
     "name": "stderr",
     "output_type": "stream",
     "text": [
      " 92%|█████████▏| 916/1000 [43:03<03:59,  2.85s/it]"
     ]
    },
    {
     "name": "stdout",
     "output_type": "stream",
     "text": [
      "Test MSE: 72.7510, Test MAE: 5.5524, Test R2: 0.1715\n",
      "Epoch 917/1000\n",
      "Train MSE: 77.1031, Train MAE: 5.5491\n"
     ]
    },
    {
     "name": "stderr",
     "output_type": "stream",
     "text": [
      " 92%|█████████▏| 917/1000 [43:06<03:53,  2.81s/it]"
     ]
    },
    {
     "name": "stdout",
     "output_type": "stream",
     "text": [
      "Test MSE: 73.5294, Test MAE: 5.6110, Test R2: 0.2109\n",
      "Epoch 918/1000\n",
      "Train MSE: 75.5012, Train MAE: 5.5088\n"
     ]
    },
    {
     "name": "stderr",
     "output_type": "stream",
     "text": [
      " 92%|█████████▏| 918/1000 [43:08<03:51,  2.82s/it]"
     ]
    },
    {
     "name": "stdout",
     "output_type": "stream",
     "text": [
      "Test MSE: 71.2087, Test MAE: 5.5579, Test R2: 0.1754\n",
      "Epoch 919/1000\n",
      "Train MSE: 75.4116, Train MAE: 5.5018\n"
     ]
    },
    {
     "name": "stderr",
     "output_type": "stream",
     "text": [
      " 92%|█████████▏| 919/1000 [43:11<03:48,  2.83s/it]"
     ]
    },
    {
     "name": "stdout",
     "output_type": "stream",
     "text": [
      "Test MSE: 74.6801, Test MAE: 5.6359, Test R2: 0.2188\n",
      "Epoch 920/1000\n",
      "Train MSE: 77.1098, Train MAE: 5.5843\n"
     ]
    },
    {
     "name": "stderr",
     "output_type": "stream",
     "text": [
      " 92%|█████████▏| 920/1000 [43:14<03:47,  2.84s/it]"
     ]
    },
    {
     "name": "stdout",
     "output_type": "stream",
     "text": [
      "Test MSE: 74.7802, Test MAE: 5.6792, Test R2: 0.1311\n",
      "Epoch 921/1000\n",
      "Train MSE: 76.5327, Train MAE: 5.5691\n"
     ]
    },
    {
     "name": "stderr",
     "output_type": "stream",
     "text": [
      " 92%|█████████▏| 921/1000 [43:17<03:45,  2.85s/it]"
     ]
    },
    {
     "name": "stdout",
     "output_type": "stream",
     "text": [
      "Test MSE: 72.5940, Test MAE: 5.6282, Test R2: 0.1965\n",
      "Epoch 922/1000\n",
      "Train MSE: 71.6935, Train MAE: 5.4509\n"
     ]
    },
    {
     "name": "stderr",
     "output_type": "stream",
     "text": [
      " 92%|█████████▏| 922/1000 [43:20<03:42,  2.86s/it]"
     ]
    },
    {
     "name": "stdout",
     "output_type": "stream",
     "text": [
      "Test MSE: 75.4057, Test MAE: 5.7099, Test R2: 0.1840\n",
      "Epoch 923/1000\n",
      "Train MSE: 75.8162, Train MAE: 5.5255\n"
     ]
    },
    {
     "name": "stderr",
     "output_type": "stream",
     "text": [
      " 92%|█████████▏| 923/1000 [43:23<03:38,  2.84s/it]"
     ]
    },
    {
     "name": "stdout",
     "output_type": "stream",
     "text": [
      "Test MSE: 71.7692, Test MAE: 5.5627, Test R2: 0.1945\n",
      "Epoch 924/1000\n",
      "Train MSE: 76.3818, Train MAE: 5.5155\n"
     ]
    },
    {
     "name": "stderr",
     "output_type": "stream",
     "text": [
      " 92%|█████████▏| 924/1000 [43:25<03:34,  2.82s/it]"
     ]
    },
    {
     "name": "stdout",
     "output_type": "stream",
     "text": [
      "Test MSE: 70.1468, Test MAE: 5.4876, Test R2: 0.1657\n",
      "Epoch 925/1000\n",
      "Train MSE: 74.4857, Train MAE: 5.5160\n"
     ]
    },
    {
     "name": "stderr",
     "output_type": "stream",
     "text": [
      " 92%|█████████▎| 925/1000 [43:28<03:30,  2.80s/it]"
     ]
    },
    {
     "name": "stdout",
     "output_type": "stream",
     "text": [
      "Test MSE: 72.9959, Test MAE: 5.6151, Test R2: 0.2197\n",
      "Epoch 926/1000\n",
      "Train MSE: 73.8569, Train MAE: 5.5097\n"
     ]
    },
    {
     "name": "stderr",
     "output_type": "stream",
     "text": [
      " 93%|█████████▎| 926/1000 [43:31<03:25,  2.78s/it]"
     ]
    },
    {
     "name": "stdout",
     "output_type": "stream",
     "text": [
      "Test MSE: 74.0719, Test MAE: 5.5957, Test R2: 0.1635\n",
      "Epoch 927/1000\n",
      "Train MSE: 73.1472, Train MAE: 5.5053\n"
     ]
    },
    {
     "name": "stderr",
     "output_type": "stream",
     "text": [
      " 93%|█████████▎| 927/1000 [43:34<03:23,  2.78s/it]"
     ]
    },
    {
     "name": "stdout",
     "output_type": "stream",
     "text": [
      "Test MSE: 72.3851, Test MAE: 5.5669, Test R2: 0.1558\n",
      "Epoch 928/1000\n",
      "Train MSE: 76.0333, Train MAE: 5.5349\n"
     ]
    },
    {
     "name": "stderr",
     "output_type": "stream",
     "text": [
      " 93%|█████████▎| 928/1000 [43:37<03:20,  2.78s/it]"
     ]
    },
    {
     "name": "stdout",
     "output_type": "stream",
     "text": [
      "Test MSE: 75.8067, Test MAE: 5.6536, Test R2: 0.1230\n",
      "Epoch 929/1000\n",
      "Train MSE: 75.3263, Train MAE: 5.5240\n"
     ]
    },
    {
     "name": "stderr",
     "output_type": "stream",
     "text": [
      " 93%|█████████▎| 929/1000 [43:39<03:18,  2.80s/it]"
     ]
    },
    {
     "name": "stdout",
     "output_type": "stream",
     "text": [
      "Test MSE: 71.7615, Test MAE: 5.5577, Test R2: 0.2009\n",
      "Epoch 930/1000\n",
      "Train MSE: 73.3603, Train MAE: 5.4785\n"
     ]
    },
    {
     "name": "stderr",
     "output_type": "stream",
     "text": [
      " 93%|█████████▎| 930/1000 [43:42<03:14,  2.78s/it]"
     ]
    },
    {
     "name": "stdout",
     "output_type": "stream",
     "text": [
      "Test MSE: 72.7596, Test MAE: 5.5885, Test R2: -0.0134\n",
      "Epoch 931/1000\n",
      "Train MSE: 74.7190, Train MAE: 5.5362\n"
     ]
    },
    {
     "name": "stderr",
     "output_type": "stream",
     "text": [
      " 93%|█████████▎| 931/1000 [43:45<03:12,  2.78s/it]"
     ]
    },
    {
     "name": "stdout",
     "output_type": "stream",
     "text": [
      "Test MSE: 74.2336, Test MAE: 5.6027, Test R2: 0.1014\n",
      "Epoch 932/1000\n",
      "Train MSE: 72.7727, Train MAE: 5.4720\n"
     ]
    },
    {
     "name": "stderr",
     "output_type": "stream",
     "text": [
      " 93%|█████████▎| 932/1000 [43:48<03:09,  2.78s/it]"
     ]
    },
    {
     "name": "stdout",
     "output_type": "stream",
     "text": [
      "Test MSE: 70.8428, Test MAE: 5.5276, Test R2: 0.1699\n",
      "Epoch 933/1000\n",
      "Train MSE: 76.7246, Train MAE: 5.5473\n"
     ]
    },
    {
     "name": "stderr",
     "output_type": "stream",
     "text": [
      " 93%|█████████▎| 933/1000 [43:50<03:06,  2.78s/it]"
     ]
    },
    {
     "name": "stdout",
     "output_type": "stream",
     "text": [
      "Test MSE: 73.4540, Test MAE: 5.5749, Test R2: 0.2690\n",
      "Epoch 934/1000\n",
      "Train MSE: 73.0402, Train MAE: 5.5027\n"
     ]
    },
    {
     "name": "stderr",
     "output_type": "stream",
     "text": [
      " 93%|█████████▎| 934/1000 [43:53<03:03,  2.78s/it]"
     ]
    },
    {
     "name": "stdout",
     "output_type": "stream",
     "text": [
      "Test MSE: 73.0145, Test MAE: 5.6339, Test R2: 0.1952\n",
      "Epoch 935/1000\n",
      "Train MSE: 71.9380, Train MAE: 5.4549\n"
     ]
    },
    {
     "name": "stderr",
     "output_type": "stream",
     "text": [
      " 94%|█████████▎| 935/1000 [43:56<03:01,  2.80s/it]"
     ]
    },
    {
     "name": "stdout",
     "output_type": "stream",
     "text": [
      "Test MSE: 76.5406, Test MAE: 5.6941, Test R2: 0.1089\n",
      "Epoch 936/1000\n",
      "Train MSE: 74.1478, Train MAE: 5.5150\n"
     ]
    },
    {
     "name": "stderr",
     "output_type": "stream",
     "text": [
      " 94%|█████████▎| 936/1000 [43:59<03:00,  2.82s/it]"
     ]
    },
    {
     "name": "stdout",
     "output_type": "stream",
     "text": [
      "Test MSE: 73.8367, Test MAE: 5.5947, Test R2: 0.1194\n",
      "Epoch 937/1000\n",
      "Train MSE: 76.7259, Train MAE: 5.5569\n"
     ]
    },
    {
     "name": "stderr",
     "output_type": "stream",
     "text": [
      " 94%|█████████▎| 937/1000 [44:02<02:57,  2.81s/it]"
     ]
    },
    {
     "name": "stdout",
     "output_type": "stream",
     "text": [
      "Test MSE: 72.2007, Test MAE: 5.5354, Test R2: 0.2210\n",
      "Epoch 938/1000\n",
      "Train MSE: 74.0972, Train MAE: 5.4823\n"
     ]
    },
    {
     "name": "stderr",
     "output_type": "stream",
     "text": [
      " 94%|█████████▍| 938/1000 [44:05<02:53,  2.81s/it]"
     ]
    },
    {
     "name": "stdout",
     "output_type": "stream",
     "text": [
      "Test MSE: 71.9775, Test MAE: 5.5900, Test R2: 0.2515\n",
      "Epoch 939/1000\n",
      "Train MSE: 75.0334, Train MAE: 5.5110\n"
     ]
    },
    {
     "name": "stderr",
     "output_type": "stream",
     "text": [
      " 94%|█████████▍| 939/1000 [44:07<02:50,  2.79s/it]"
     ]
    },
    {
     "name": "stdout",
     "output_type": "stream",
     "text": [
      "Test MSE: 77.0557, Test MAE: 5.6817, Test R2: 0.1463\n",
      "Epoch 940/1000\n",
      "Train MSE: 73.9963, Train MAE: 5.4705\n"
     ]
    },
    {
     "name": "stderr",
     "output_type": "stream",
     "text": [
      " 94%|█████████▍| 940/1000 [44:10<02:48,  2.81s/it]"
     ]
    },
    {
     "name": "stdout",
     "output_type": "stream",
     "text": [
      "Test MSE: 77.6525, Test MAE: 5.7292, Test R2: 0.1095\n",
      "Epoch 941/1000\n",
      "Train MSE: 75.4115, Train MAE: 5.5274\n"
     ]
    },
    {
     "name": "stderr",
     "output_type": "stream",
     "text": [
      " 94%|█████████▍| 941/1000 [44:13<02:48,  2.85s/it]"
     ]
    },
    {
     "name": "stdout",
     "output_type": "stream",
     "text": [
      "Test MSE: 71.0478, Test MAE: 5.5188, Test R2: 0.1605\n",
      "Epoch 942/1000\n",
      "Train MSE: 74.9635, Train MAE: 5.4844\n"
     ]
    },
    {
     "name": "stderr",
     "output_type": "stream",
     "text": [
      " 94%|█████████▍| 942/1000 [44:16<02:46,  2.87s/it]"
     ]
    },
    {
     "name": "stdout",
     "output_type": "stream",
     "text": [
      "Test MSE: 77.2010, Test MAE: 5.7556, Test R2: 0.1906\n",
      "Epoch 943/1000\n",
      "Train MSE: 76.2506, Train MAE: 5.5592\n"
     ]
    },
    {
     "name": "stderr",
     "output_type": "stream",
     "text": [
      " 94%|█████████▍| 943/1000 [44:19<02:44,  2.89s/it]"
     ]
    },
    {
     "name": "stdout",
     "output_type": "stream",
     "text": [
      "Test MSE: 72.5407, Test MAE: 5.5831, Test R2: 0.0981\n",
      "Epoch 944/1000\n",
      "Train MSE: 73.6779, Train MAE: 5.4801\n"
     ]
    },
    {
     "name": "stderr",
     "output_type": "stream",
     "text": [
      " 94%|█████████▍| 944/1000 [44:22<02:41,  2.88s/it]"
     ]
    },
    {
     "name": "stdout",
     "output_type": "stream",
     "text": [
      "Test MSE: 76.1573, Test MAE: 5.6333, Test R2: 0.1423\n",
      "Epoch 945/1000\n",
      "Train MSE: 74.8357, Train MAE: 5.5399\n"
     ]
    },
    {
     "name": "stderr",
     "output_type": "stream",
     "text": [
      " 94%|█████████▍| 945/1000 [44:25<02:36,  2.85s/it]"
     ]
    },
    {
     "name": "stdout",
     "output_type": "stream",
     "text": [
      "Test MSE: 77.1305, Test MAE: 5.7319, Test R2: 0.1387\n",
      "Epoch 946/1000\n",
      "Train MSE: 74.6066, Train MAE: 5.5135\n"
     ]
    },
    {
     "name": "stderr",
     "output_type": "stream",
     "text": [
      " 95%|█████████▍| 946/1000 [44:27<02:31,  2.81s/it]"
     ]
    },
    {
     "name": "stdout",
     "output_type": "stream",
     "text": [
      "Test MSE: 72.8928, Test MAE: 5.5766, Test R2: 0.0678\n",
      "Epoch 947/1000\n",
      "Train MSE: 76.2779, Train MAE: 5.5359\n"
     ]
    },
    {
     "name": "stderr",
     "output_type": "stream",
     "text": [
      " 95%|█████████▍| 947/1000 [44:30<02:28,  2.81s/it]"
     ]
    },
    {
     "name": "stdout",
     "output_type": "stream",
     "text": [
      "Test MSE: 77.8626, Test MAE: 5.6851, Test R2: 0.1153\n",
      "Epoch 948/1000\n",
      "Train MSE: 75.4146, Train MAE: 5.5190\n"
     ]
    },
    {
     "name": "stderr",
     "output_type": "stream",
     "text": [
      " 95%|█████████▍| 948/1000 [44:33<02:24,  2.79s/it]"
     ]
    },
    {
     "name": "stdout",
     "output_type": "stream",
     "text": [
      "Test MSE: 72.1620, Test MAE: 5.6200, Test R2: 0.1334\n",
      "Epoch 949/1000\n",
      "Train MSE: 78.5174, Train MAE: 5.5141\n"
     ]
    },
    {
     "name": "stderr",
     "output_type": "stream",
     "text": [
      " 95%|█████████▍| 949/1000 [44:36<02:22,  2.78s/it]"
     ]
    },
    {
     "name": "stdout",
     "output_type": "stream",
     "text": [
      "Test MSE: 72.3657, Test MAE: 5.5527, Test R2: 0.1625\n",
      "Epoch 950/1000\n",
      "Train MSE: 75.4063, Train MAE: 5.4993\n"
     ]
    },
    {
     "name": "stderr",
     "output_type": "stream",
     "text": [
      " 95%|█████████▌| 950/1000 [44:38<02:19,  2.78s/it]"
     ]
    },
    {
     "name": "stdout",
     "output_type": "stream",
     "text": [
      "Test MSE: 75.9742, Test MAE: 5.6487, Test R2: 0.1557\n",
      "Epoch 951/1000\n",
      "Train MSE: 75.7993, Train MAE: 5.5776\n"
     ]
    },
    {
     "name": "stderr",
     "output_type": "stream",
     "text": [
      " 95%|█████████▌| 951/1000 [44:41<02:18,  2.82s/it]"
     ]
    },
    {
     "name": "stdout",
     "output_type": "stream",
     "text": [
      "Test MSE: 70.6862, Test MAE: 5.5426, Test R2: 0.1579\n",
      "Epoch 952/1000\n",
      "Train MSE: 75.3293, Train MAE: 5.4815\n"
     ]
    },
    {
     "name": "stderr",
     "output_type": "stream",
     "text": [
      " 95%|█████████▌| 952/1000 [44:44<02:16,  2.85s/it]"
     ]
    },
    {
     "name": "stdout",
     "output_type": "stream",
     "text": [
      "Test MSE: 73.6721, Test MAE: 5.5748, Test R2: 0.1531\n",
      "Epoch 953/1000\n",
      "Train MSE: 75.9684, Train MAE: 5.5536\n"
     ]
    },
    {
     "name": "stderr",
     "output_type": "stream",
     "text": [
      " 95%|█████████▌| 953/1000 [44:47<02:14,  2.86s/it]"
     ]
    },
    {
     "name": "stdout",
     "output_type": "stream",
     "text": [
      "Test MSE: 75.7893, Test MAE: 5.6631, Test R2: 0.2066\n",
      "Epoch 954/1000\n",
      "Train MSE: 74.8636, Train MAE: 5.5390\n"
     ]
    },
    {
     "name": "stderr",
     "output_type": "stream",
     "text": [
      " 95%|█████████▌| 954/1000 [44:50<02:12,  2.87s/it]"
     ]
    },
    {
     "name": "stdout",
     "output_type": "stream",
     "text": [
      "Test MSE: 75.0430, Test MAE: 5.6376, Test R2: 0.1246\n",
      "Epoch 955/1000\n",
      "Train MSE: 75.7611, Train MAE: 5.5335\n"
     ]
    },
    {
     "name": "stderr",
     "output_type": "stream",
     "text": [
      " 96%|█████████▌| 955/1000 [44:53<02:09,  2.88s/it]"
     ]
    },
    {
     "name": "stdout",
     "output_type": "stream",
     "text": [
      "Test MSE: 71.9849, Test MAE: 5.6040, Test R2: 0.0782\n",
      "Epoch 956/1000\n",
      "Train MSE: 74.5129, Train MAE: 5.5073\n"
     ]
    },
    {
     "name": "stderr",
     "output_type": "stream",
     "text": [
      " 96%|█████████▌| 956/1000 [44:56<02:07,  2.89s/it]"
     ]
    },
    {
     "name": "stdout",
     "output_type": "stream",
     "text": [
      "Test MSE: 75.7629, Test MAE: 5.6655, Test R2: 0.2135\n",
      "Epoch 957/1000\n",
      "Train MSE: 76.0231, Train MAE: 5.5159\n"
     ]
    },
    {
     "name": "stderr",
     "output_type": "stream",
     "text": [
      " 96%|█████████▌| 957/1000 [44:59<02:04,  2.88s/it]"
     ]
    },
    {
     "name": "stdout",
     "output_type": "stream",
     "text": [
      "Test MSE: 73.0559, Test MAE: 5.6372, Test R2: 0.1882\n",
      "Epoch 958/1000\n",
      "Train MSE: 73.6629, Train MAE: 5.5023\n"
     ]
    },
    {
     "name": "stderr",
     "output_type": "stream",
     "text": [
      " 96%|█████████▌| 958/1000 [45:02<02:00,  2.88s/it]"
     ]
    },
    {
     "name": "stdout",
     "output_type": "stream",
     "text": [
      "Test MSE: 70.4905, Test MAE: 5.5523, Test R2: 0.1295\n",
      "Epoch 959/1000\n",
      "Train MSE: 78.6344, Train MAE: 5.5480\n"
     ]
    },
    {
     "name": "stderr",
     "output_type": "stream",
     "text": [
      " 96%|█████████▌| 959/1000 [45:04<01:58,  2.88s/it]"
     ]
    },
    {
     "name": "stdout",
     "output_type": "stream",
     "text": [
      "Test MSE: 81.8300, Test MAE: 5.7321, Test R2: 0.2091\n",
      "Epoch 960/1000\n",
      "Train MSE: 77.7284, Train MAE: 5.5348\n"
     ]
    },
    {
     "name": "stderr",
     "output_type": "stream",
     "text": [
      " 96%|█████████▌| 960/1000 [45:07<01:54,  2.85s/it]"
     ]
    },
    {
     "name": "stdout",
     "output_type": "stream",
     "text": [
      "Test MSE: 76.2443, Test MAE: 5.6505, Test R2: 0.2397\n",
      "Epoch 961/1000\n",
      "Train MSE: 74.8765, Train MAE: 5.5126\n"
     ]
    },
    {
     "name": "stderr",
     "output_type": "stream",
     "text": [
      " 96%|█████████▌| 961/1000 [45:10<01:50,  2.84s/it]"
     ]
    },
    {
     "name": "stdout",
     "output_type": "stream",
     "text": [
      "Test MSE: 74.6129, Test MAE: 5.6093, Test R2: 0.2169\n",
      "Epoch 962/1000\n",
      "Train MSE: 72.5321, Train MAE: 5.4642\n"
     ]
    },
    {
     "name": "stderr",
     "output_type": "stream",
     "text": [
      " 96%|█████████▌| 962/1000 [45:13<01:47,  2.83s/it]"
     ]
    },
    {
     "name": "stdout",
     "output_type": "stream",
     "text": [
      "Test MSE: 69.6439, Test MAE: 5.5258, Test R2: 0.2198\n",
      "Epoch 963/1000\n",
      "Train MSE: 75.8405, Train MAE: 5.5280\n"
     ]
    },
    {
     "name": "stderr",
     "output_type": "stream",
     "text": [
      " 96%|█████████▋| 963/1000 [45:16<01:44,  2.82s/it]"
     ]
    },
    {
     "name": "stdout",
     "output_type": "stream",
     "text": [
      "Test MSE: 70.0084, Test MAE: 5.5230, Test R2: 0.0569\n",
      "Epoch 964/1000\n",
      "Train MSE: 75.9020, Train MAE: 5.5136\n"
     ]
    },
    {
     "name": "stderr",
     "output_type": "stream",
     "text": [
      " 96%|█████████▋| 964/1000 [45:18<01:41,  2.81s/it]"
     ]
    },
    {
     "name": "stdout",
     "output_type": "stream",
     "text": [
      "Test MSE: 70.5611, Test MAE: 5.6312, Test R2: 0.0908\n",
      "Epoch 965/1000\n",
      "Train MSE: 75.1859, Train MAE: 5.5288\n"
     ]
    },
    {
     "name": "stderr",
     "output_type": "stream",
     "text": [
      " 96%|█████████▋| 965/1000 [45:21<01:38,  2.82s/it]"
     ]
    },
    {
     "name": "stdout",
     "output_type": "stream",
     "text": [
      "Test MSE: 74.0863, Test MAE: 5.6011, Test R2: 0.1032\n",
      "Epoch 966/1000\n",
      "Train MSE: 75.3930, Train MAE: 5.5257\n"
     ]
    },
    {
     "name": "stderr",
     "output_type": "stream",
     "text": [
      " 97%|█████████▋| 966/1000 [45:24<01:35,  2.81s/it]"
     ]
    },
    {
     "name": "stdout",
     "output_type": "stream",
     "text": [
      "Test MSE: 71.3903, Test MAE: 5.5857, Test R2: 0.1520\n",
      "Epoch 967/1000\n",
      "Train MSE: 75.1925, Train MAE: 5.5355\n"
     ]
    },
    {
     "name": "stderr",
     "output_type": "stream",
     "text": [
      " 97%|█████████▋| 967/1000 [45:27<01:32,  2.81s/it]"
     ]
    },
    {
     "name": "stdout",
     "output_type": "stream",
     "text": [
      "Test MSE: 73.2003, Test MAE: 5.5808, Test R2: 0.1177\n",
      "Epoch 968/1000\n",
      "Train MSE: 74.3058, Train MAE: 5.5159\n"
     ]
    },
    {
     "name": "stderr",
     "output_type": "stream",
     "text": [
      " 97%|█████████▋| 968/1000 [45:30<01:29,  2.80s/it]"
     ]
    },
    {
     "name": "stdout",
     "output_type": "stream",
     "text": [
      "Test MSE: 75.6456, Test MAE: 5.6421, Test R2: 0.2013\n",
      "Epoch 969/1000\n",
      "Train MSE: 74.2275, Train MAE: 5.4923\n"
     ]
    },
    {
     "name": "stderr",
     "output_type": "stream",
     "text": [
      " 97%|█████████▋| 969/1000 [45:33<01:27,  2.82s/it]"
     ]
    },
    {
     "name": "stdout",
     "output_type": "stream",
     "text": [
      "Test MSE: 72.9670, Test MAE: 5.5700, Test R2: 0.1722\n",
      "Epoch 970/1000\n",
      "Train MSE: 75.9809, Train MAE: 5.5666\n"
     ]
    },
    {
     "name": "stderr",
     "output_type": "stream",
     "text": [
      " 97%|█████████▋| 970/1000 [45:35<01:25,  2.85s/it]"
     ]
    },
    {
     "name": "stdout",
     "output_type": "stream",
     "text": [
      "Test MSE: 75.9123, Test MAE: 5.6456, Test R2: 0.1511\n",
      "Epoch 971/1000\n",
      "Train MSE: 74.7725, Train MAE: 5.5209\n"
     ]
    },
    {
     "name": "stderr",
     "output_type": "stream",
     "text": [
      " 97%|█████████▋| 971/1000 [45:38<01:22,  2.86s/it]"
     ]
    },
    {
     "name": "stdout",
     "output_type": "stream",
     "text": [
      "Test MSE: 79.5335, Test MAE: 5.7515, Test R2: 0.0959\n",
      "Epoch 972/1000\n",
      "Train MSE: 73.9479, Train MAE: 5.5060\n"
     ]
    },
    {
     "name": "stderr",
     "output_type": "stream",
     "text": [
      " 97%|█████████▋| 972/1000 [45:41<01:19,  2.84s/it]"
     ]
    },
    {
     "name": "stdout",
     "output_type": "stream",
     "text": [
      "Test MSE: 72.1650, Test MAE: 5.5436, Test R2: 0.1372\n",
      "Epoch 973/1000\n",
      "Train MSE: 74.6626, Train MAE: 5.5047\n"
     ]
    },
    {
     "name": "stderr",
     "output_type": "stream",
     "text": [
      " 97%|█████████▋| 973/1000 [45:44<01:16,  2.83s/it]"
     ]
    },
    {
     "name": "stdout",
     "output_type": "stream",
     "text": [
      "Test MSE: 75.3561, Test MAE: 5.6336, Test R2: 0.1951\n",
      "Epoch 974/1000\n",
      "Train MSE: 76.9569, Train MAE: 5.5690\n"
     ]
    },
    {
     "name": "stderr",
     "output_type": "stream",
     "text": [
      " 97%|█████████▋| 974/1000 [45:47<01:12,  2.81s/it]"
     ]
    },
    {
     "name": "stdout",
     "output_type": "stream",
     "text": [
      "Test MSE: 74.8889, Test MAE: 5.6327, Test R2: 0.1471\n",
      "Epoch 975/1000\n",
      "Train MSE: 77.1702, Train MAE: 5.5747\n"
     ]
    },
    {
     "name": "stderr",
     "output_type": "stream",
     "text": [
      " 98%|█████████▊| 975/1000 [45:49<01:09,  2.78s/it]"
     ]
    },
    {
     "name": "stdout",
     "output_type": "stream",
     "text": [
      "Test MSE: 78.2281, Test MAE: 5.6963, Test R2: 0.1451\n",
      "Epoch 976/1000\n",
      "Train MSE: 74.9691, Train MAE: 5.4600\n"
     ]
    },
    {
     "name": "stderr",
     "output_type": "stream",
     "text": [
      " 98%|█████████▊| 976/1000 [45:52<01:06,  2.79s/it]"
     ]
    },
    {
     "name": "stdout",
     "output_type": "stream",
     "text": [
      "Test MSE: 78.5749, Test MAE: 5.8395, Test R2: 0.1783\n",
      "Epoch 977/1000\n",
      "Train MSE: 75.4429, Train MAE: 5.5299\n"
     ]
    },
    {
     "name": "stderr",
     "output_type": "stream",
     "text": [
      " 98%|█████████▊| 977/1000 [45:55<01:04,  2.78s/it]"
     ]
    },
    {
     "name": "stdout",
     "output_type": "stream",
     "text": [
      "Test MSE: 74.4702, Test MAE: 5.6526, Test R2: 0.1085\n",
      "Epoch 978/1000\n",
      "Train MSE: 73.6428, Train MAE: 5.4806\n"
     ]
    },
    {
     "name": "stderr",
     "output_type": "stream",
     "text": [
      " 98%|█████████▊| 978/1000 [45:58<01:01,  2.80s/it]"
     ]
    },
    {
     "name": "stdout",
     "output_type": "stream",
     "text": [
      "Test MSE: 75.7070, Test MAE: 5.6301, Test R2: 0.1837\n",
      "Epoch 979/1000\n",
      "Train MSE: 77.3084, Train MAE: 5.5761\n"
     ]
    },
    {
     "name": "stderr",
     "output_type": "stream",
     "text": [
      " 98%|█████████▊| 979/1000 [46:01<00:59,  2.85s/it]"
     ]
    },
    {
     "name": "stdout",
     "output_type": "stream",
     "text": [
      "Test MSE: 79.5813, Test MAE: 5.7467, Test R2: 0.0845\n",
      "Epoch 980/1000\n",
      "Train MSE: 75.7257, Train MAE: 5.5279\n"
     ]
    },
    {
     "name": "stderr",
     "output_type": "stream",
     "text": [
      " 98%|█████████▊| 980/1000 [46:04<00:57,  2.85s/it]"
     ]
    },
    {
     "name": "stdout",
     "output_type": "stream",
     "text": [
      "Test MSE: 76.2182, Test MAE: 5.6626, Test R2: 0.1337\n",
      "Epoch 981/1000\n",
      "Train MSE: 76.1076, Train MAE: 5.5446\n"
     ]
    },
    {
     "name": "stderr",
     "output_type": "stream",
     "text": [
      " 98%|█████████▊| 981/1000 [46:07<00:54,  2.88s/it]"
     ]
    },
    {
     "name": "stdout",
     "output_type": "stream",
     "text": [
      "Test MSE: 73.0194, Test MAE: 5.6068, Test R2: 0.0563\n",
      "Epoch 982/1000\n",
      "Train MSE: 75.3848, Train MAE: 5.5180\n"
     ]
    },
    {
     "name": "stderr",
     "output_type": "stream",
     "text": [
      " 98%|█████████▊| 982/1000 [46:09<00:51,  2.87s/it]"
     ]
    },
    {
     "name": "stdout",
     "output_type": "stream",
     "text": [
      "Test MSE: 75.7365, Test MAE: 5.5933, Test R2: 0.1714\n",
      "Epoch 983/1000\n",
      "Train MSE: 75.0854, Train MAE: 5.4861\n"
     ]
    },
    {
     "name": "stderr",
     "output_type": "stream",
     "text": [
      " 98%|█████████▊| 983/1000 [46:12<00:48,  2.83s/it]"
     ]
    },
    {
     "name": "stdout",
     "output_type": "stream",
     "text": [
      "Test MSE: 78.0662, Test MAE: 5.6654, Test R2: 0.1276\n",
      "Epoch 984/1000\n",
      "Train MSE: 74.8111, Train MAE: 5.4985\n"
     ]
    },
    {
     "name": "stderr",
     "output_type": "stream",
     "text": [
      " 98%|█████████▊| 984/1000 [46:15<00:44,  2.80s/it]"
     ]
    },
    {
     "name": "stdout",
     "output_type": "stream",
     "text": [
      "Test MSE: 73.0262, Test MAE: 5.5581, Test R2: 0.1371\n",
      "Epoch 985/1000\n",
      "Train MSE: 77.4892, Train MAE: 5.5349\n"
     ]
    },
    {
     "name": "stderr",
     "output_type": "stream",
     "text": [
      " 98%|█████████▊| 985/1000 [46:18<00:42,  2.80s/it]"
     ]
    },
    {
     "name": "stdout",
     "output_type": "stream",
     "text": [
      "Test MSE: 73.8779, Test MAE: 5.6382, Test R2: 0.1893\n",
      "Epoch 986/1000\n",
      "Train MSE: 74.3526, Train MAE: 5.5308\n"
     ]
    },
    {
     "name": "stderr",
     "output_type": "stream",
     "text": [
      " 99%|█████████▊| 986/1000 [46:20<00:39,  2.79s/it]"
     ]
    },
    {
     "name": "stdout",
     "output_type": "stream",
     "text": [
      "Test MSE: 76.8382, Test MAE: 5.6904, Test R2: 0.1338\n",
      "Epoch 987/1000\n",
      "Train MSE: 73.9865, Train MAE: 5.5174\n"
     ]
    },
    {
     "name": "stderr",
     "output_type": "stream",
     "text": [
      " 99%|█████████▊| 987/1000 [46:23<00:36,  2.78s/it]"
     ]
    },
    {
     "name": "stdout",
     "output_type": "stream",
     "text": [
      "Test MSE: 72.1156, Test MAE: 5.5668, Test R2: 0.1735\n",
      "Epoch 988/1000\n",
      "Train MSE: 74.5786, Train MAE: 5.5281\n"
     ]
    },
    {
     "name": "stderr",
     "output_type": "stream",
     "text": [
      " 99%|█████████▉| 988/1000 [46:26<00:33,  2.78s/it]"
     ]
    },
    {
     "name": "stdout",
     "output_type": "stream",
     "text": [
      "Test MSE: 76.1388, Test MAE: 5.6726, Test R2: 0.1087\n",
      "Epoch 989/1000\n",
      "Train MSE: 76.2440, Train MAE: 5.5338\n"
     ]
    },
    {
     "name": "stderr",
     "output_type": "stream",
     "text": [
      " 99%|█████████▉| 989/1000 [46:29<00:30,  2.77s/it]"
     ]
    },
    {
     "name": "stdout",
     "output_type": "stream",
     "text": [
      "Test MSE: 71.9204, Test MAE: 5.6070, Test R2: 0.0257\n",
      "Epoch 990/1000\n",
      "Train MSE: 75.9230, Train MAE: 5.5119\n"
     ]
    },
    {
     "name": "stderr",
     "output_type": "stream",
     "text": [
      " 99%|█████████▉| 990/1000 [46:32<00:27,  2.77s/it]"
     ]
    },
    {
     "name": "stdout",
     "output_type": "stream",
     "text": [
      "Test MSE: 73.0643, Test MAE: 5.5774, Test R2: 0.1803\n",
      "Epoch 991/1000\n",
      "Train MSE: 74.6112, Train MAE: 5.4821\n"
     ]
    },
    {
     "name": "stderr",
     "output_type": "stream",
     "text": [
      " 99%|█████████▉| 991/1000 [46:34<00:25,  2.78s/it]"
     ]
    },
    {
     "name": "stdout",
     "output_type": "stream",
     "text": [
      "Test MSE: 75.5004, Test MAE: 5.6486, Test R2: 0.1449\n",
      "Epoch 992/1000\n",
      "Train MSE: 76.7035, Train MAE: 5.5442\n"
     ]
    },
    {
     "name": "stderr",
     "output_type": "stream",
     "text": [
      " 99%|█████████▉| 992/1000 [46:37<00:22,  2.79s/it]"
     ]
    },
    {
     "name": "stdout",
     "output_type": "stream",
     "text": [
      "Test MSE: 72.2869, Test MAE: 5.5231, Test R2: 0.1269\n",
      "Epoch 993/1000\n",
      "Train MSE: 75.9092, Train MAE: 5.5165\n"
     ]
    },
    {
     "name": "stderr",
     "output_type": "stream",
     "text": [
      " 99%|█████████▉| 993/1000 [46:40<00:19,  2.79s/it]"
     ]
    },
    {
     "name": "stdout",
     "output_type": "stream",
     "text": [
      "Test MSE: 74.7359, Test MAE: 5.6083, Test R2: 0.2015\n",
      "Epoch 994/1000\n",
      "Train MSE: 75.7394, Train MAE: 5.5412\n"
     ]
    },
    {
     "name": "stderr",
     "output_type": "stream",
     "text": [
      " 99%|█████████▉| 994/1000 [46:43<00:16,  2.78s/it]"
     ]
    },
    {
     "name": "stdout",
     "output_type": "stream",
     "text": [
      "Test MSE: 74.4003, Test MAE: 5.6018, Test R2: 0.2463\n",
      "Epoch 995/1000\n",
      "Train MSE: 75.2683, Train MAE: 5.5150\n"
     ]
    },
    {
     "name": "stderr",
     "output_type": "stream",
     "text": [
      "100%|█████████▉| 995/1000 [46:45<00:13,  2.78s/it]"
     ]
    },
    {
     "name": "stdout",
     "output_type": "stream",
     "text": [
      "Test MSE: 72.1334, Test MAE: 5.5376, Test R2: 0.1977\n",
      "Epoch 996/1000\n",
      "Train MSE: 73.0342, Train MAE: 5.4102\n"
     ]
    },
    {
     "name": "stderr",
     "output_type": "stream",
     "text": [
      "100%|█████████▉| 996/1000 [46:48<00:11,  2.77s/it]"
     ]
    },
    {
     "name": "stdout",
     "output_type": "stream",
     "text": [
      "Test MSE: 71.4903, Test MAE: 5.5225, Test R2: 0.1320\n",
      "Epoch 997/1000\n",
      "Train MSE: 71.4187, Train MAE: 5.4456\n"
     ]
    },
    {
     "name": "stderr",
     "output_type": "stream",
     "text": [
      "100%|█████████▉| 997/1000 [46:51<00:08,  2.77s/it]"
     ]
    },
    {
     "name": "stdout",
     "output_type": "stream",
     "text": [
      "Test MSE: 74.5957, Test MAE: 5.5918, Test R2: 0.1108\n",
      "Epoch 998/1000\n",
      "Train MSE: 73.9993, Train MAE: 5.4809\n"
     ]
    },
    {
     "name": "stderr",
     "output_type": "stream",
     "text": [
      "100%|█████████▉| 998/1000 [46:54<00:05,  2.76s/it]"
     ]
    },
    {
     "name": "stdout",
     "output_type": "stream",
     "text": [
      "Test MSE: 75.7056, Test MAE: 5.6268, Test R2: 0.1468\n",
      "Epoch 999/1000\n",
      "Train MSE: 75.6014, Train MAE: 5.4926\n"
     ]
    },
    {
     "name": "stderr",
     "output_type": "stream",
     "text": [
      "100%|█████████▉| 999/1000 [46:56<00:02,  2.76s/it]"
     ]
    },
    {
     "name": "stdout",
     "output_type": "stream",
     "text": [
      "Test MSE: 76.2456, Test MAE: 5.6339, Test R2: 0.1218\n",
      "Epoch 1000/1000\n",
      "Train MSE: 75.6779, Train MAE: 5.5323\n"
     ]
    },
    {
     "name": "stderr",
     "output_type": "stream",
     "text": [
      "100%|██████████| 1000/1000 [46:59<00:00,  2.82s/it]"
     ]
    },
    {
     "name": "stdout",
     "output_type": "stream",
     "text": [
      "Test MSE: 74.0653, Test MAE: 5.5889, Test R2: 0.1166\n"
     ]
    },
    {
     "name": "stderr",
     "output_type": "stream",
     "text": [
      "\n"
     ]
    }
   ],
   "source": [
    "from train import train_model\n",
    "from model import GCN\n",
    "\n",
    "accelerator = accelerate.Accelerator()\n",
    "model = GCN(4, 32, 128, 2, 2, 0.3)\n",
    "name = \"testRun1\"\n",
    "writer_dir = \"../tensorboard/\"+name\n",
    "epochs = 1000\n",
    "# train model\n",
    "train_model(model, name, train_loader, test_loader, epochs, accelerator, writer_dir, lr=0.001)\n",
    "\n",
    "\n"
   ]
  },
  {
   "cell_type": "code",
   "execution_count": 10,
   "metadata": {},
   "outputs": [
    {
     "name": "stdout",
     "output_type": "stream",
     "text": [
      "2\n"
     ]
    },
    {
     "name": "stderr",
     "output_type": "stream",
     "text": [
      "  0%|          | 0/1000 [00:00<?, ?it/s]"
     ]
    },
    {
     "name": "stdout",
     "output_type": "stream",
     "text": [
      "Epoch 1/1000\n",
      "Train MSE: 136.4943, Train MAE: 7.3993\n"
     ]
    },
    {
     "name": "stderr",
     "output_type": "stream",
     "text": [
      "  0%|          | 1/1000 [00:02<47:52,  2.88s/it]"
     ]
    },
    {
     "name": "stdout",
     "output_type": "stream",
     "text": [
      "Test MSE: 125.7147, Test MAE: 7.1180, Test R2: -1.3650\n",
      "Epoch 2/1000\n",
      "Train MSE: 118.0830, Train MAE: 6.9651\n"
     ]
    },
    {
     "name": "stderr",
     "output_type": "stream",
     "text": [
      "  0%|          | 2/1000 [00:05<48:28,  2.91s/it]"
     ]
    },
    {
     "name": "stdout",
     "output_type": "stream",
     "text": [
      "Test MSE: 114.5348, Test MAE: 6.8692, Test R2: -0.7310\n",
      "Epoch 3/1000\n",
      "Train MSE: 116.9403, Train MAE: 6.9345\n"
     ]
    },
    {
     "name": "stderr",
     "output_type": "stream",
     "text": [
      "  0%|          | 3/1000 [00:08<47:47,  2.88s/it]"
     ]
    },
    {
     "name": "stdout",
     "output_type": "stream",
     "text": [
      "Test MSE: 111.1462, Test MAE: 6.8314, Test R2: -0.5491\n",
      "Epoch 4/1000\n",
      "Train MSE: 118.6100, Train MAE: 6.9499\n"
     ]
    },
    {
     "name": "stderr",
     "output_type": "stream",
     "text": [
      "  0%|          | 4/1000 [00:11<47:15,  2.85s/it]"
     ]
    },
    {
     "name": "stdout",
     "output_type": "stream",
     "text": [
      "Test MSE: 119.1363, Test MAE: 6.8919, Test R2: -0.5846\n",
      "Epoch 5/1000\n",
      "Train MSE: 113.8527, Train MAE: 6.8057\n"
     ]
    },
    {
     "name": "stderr",
     "output_type": "stream",
     "text": [
      "  0%|          | 5/1000 [00:14<46:56,  2.83s/it]"
     ]
    },
    {
     "name": "stdout",
     "output_type": "stream",
     "text": [
      "Test MSE: 109.8866, Test MAE: 6.6391, Test R2: -0.7610\n",
      "Epoch 6/1000\n",
      "Train MSE: 114.2820, Train MAE: 6.8199\n"
     ]
    },
    {
     "name": "stderr",
     "output_type": "stream",
     "text": [
      "  1%|          | 6/1000 [00:17<46:38,  2.82s/it]"
     ]
    },
    {
     "name": "stdout",
     "output_type": "stream",
     "text": [
      "Test MSE: 111.2770, Test MAE: 6.7622, Test R2: -3.3577\n",
      "Epoch 7/1000\n",
      "Train MSE: 110.0955, Train MAE: 6.7237\n"
     ]
    },
    {
     "name": "stderr",
     "output_type": "stream",
     "text": [
      "  1%|          | 7/1000 [00:19<46:28,  2.81s/it]"
     ]
    },
    {
     "name": "stdout",
     "output_type": "stream",
     "text": [
      "Test MSE: 107.9112, Test MAE: 6.6686, Test R2: -0.6402\n",
      "Epoch 8/1000\n",
      "Train MSE: 113.4643, Train MAE: 6.8016\n"
     ]
    },
    {
     "name": "stderr",
     "output_type": "stream",
     "text": [
      "  1%|          | 8/1000 [00:22<46:54,  2.84s/it]"
     ]
    },
    {
     "name": "stdout",
     "output_type": "stream",
     "text": [
      "Test MSE: 111.6643, Test MAE: 6.7421, Test R2: -0.8569\n",
      "Epoch 9/1000\n",
      "Train MSE: 112.4901, Train MAE: 6.7583\n"
     ]
    },
    {
     "name": "stderr",
     "output_type": "stream",
     "text": [
      "  1%|          | 9/1000 [00:25<46:49,  2.83s/it]"
     ]
    },
    {
     "name": "stdout",
     "output_type": "stream",
     "text": [
      "Test MSE: 105.2141, Test MAE: 6.5700, Test R2: -0.2698\n",
      "Epoch 10/1000\n",
      "Train MSE: 108.8431, Train MAE: 6.6843\n"
     ]
    },
    {
     "name": "stderr",
     "output_type": "stream",
     "text": [
      "  1%|          | 10/1000 [00:28<46:45,  2.83s/it]"
     ]
    },
    {
     "name": "stdout",
     "output_type": "stream",
     "text": [
      "Test MSE: 108.1294, Test MAE: 6.6900, Test R2: -0.2017\n",
      "Epoch 11/1000\n",
      "Train MSE: 110.5056, Train MAE: 6.7466\n"
     ]
    },
    {
     "name": "stderr",
     "output_type": "stream",
     "text": [
      "  1%|          | 11/1000 [00:31<46:21,  2.81s/it]"
     ]
    },
    {
     "name": "stdout",
     "output_type": "stream",
     "text": [
      "Test MSE: 111.8425, Test MAE: 6.8029, Test R2: -0.5489\n",
      "Epoch 12/1000\n",
      "Train MSE: 107.9751, Train MAE: 6.7037\n"
     ]
    },
    {
     "name": "stderr",
     "output_type": "stream",
     "text": [
      "  1%|          | 12/1000 [00:33<46:20,  2.81s/it]"
     ]
    },
    {
     "name": "stdout",
     "output_type": "stream",
     "text": [
      "Test MSE: 112.3450, Test MAE: 6.7234, Test R2: -0.5876\n",
      "Epoch 13/1000\n",
      "Train MSE: 109.0077, Train MAE: 6.7049\n"
     ]
    },
    {
     "name": "stderr",
     "output_type": "stream",
     "text": [
      "  1%|▏         | 13/1000 [00:36<46:21,  2.82s/it]"
     ]
    },
    {
     "name": "stdout",
     "output_type": "stream",
     "text": [
      "Test MSE: 111.8106, Test MAE: 6.7704, Test R2: 0.0768\n",
      "Epoch 14/1000\n",
      "Train MSE: 104.8507, Train MAE: 6.6005\n"
     ]
    },
    {
     "name": "stderr",
     "output_type": "stream",
     "text": [
      "  1%|▏         | 14/1000 [00:39<46:26,  2.83s/it]"
     ]
    },
    {
     "name": "stdout",
     "output_type": "stream",
     "text": [
      "Test MSE: 105.8913, Test MAE: 6.5965, Test R2: -1.3804\n",
      "Epoch 15/1000\n",
      "Train MSE: 104.9216, Train MAE: 6.6195\n"
     ]
    },
    {
     "name": "stderr",
     "output_type": "stream",
     "text": [
      "  2%|▏         | 15/1000 [00:42<46:33,  2.84s/it]"
     ]
    },
    {
     "name": "stdout",
     "output_type": "stream",
     "text": [
      "Test MSE: 108.7284, Test MAE: 6.6803, Test R2: -0.6192\n",
      "Epoch 16/1000\n",
      "Train MSE: 105.0898, Train MAE: 6.5772\n"
     ]
    },
    {
     "name": "stderr",
     "output_type": "stream",
     "text": [
      "  2%|▏         | 16/1000 [00:45<46:34,  2.84s/it]"
     ]
    },
    {
     "name": "stdout",
     "output_type": "stream",
     "text": [
      "Test MSE: 107.5278, Test MAE: 6.6537, Test R2: -0.2022\n",
      "Epoch 17/1000\n",
      "Train MSE: 105.5410, Train MAE: 6.5928\n"
     ]
    },
    {
     "name": "stderr",
     "output_type": "stream",
     "text": [
      "  2%|▏         | 17/1000 [00:48<46:51,  2.86s/it]"
     ]
    },
    {
     "name": "stdout",
     "output_type": "stream",
     "text": [
      "Test MSE: 104.5960, Test MAE: 6.5407, Test R2: -1.1557\n",
      "Epoch 18/1000\n",
      "Train MSE: 105.6508, Train MAE: 6.5816\n"
     ]
    },
    {
     "name": "stderr",
     "output_type": "stream",
     "text": [
      "  2%|▏         | 18/1000 [00:51<46:41,  2.85s/it]"
     ]
    },
    {
     "name": "stdout",
     "output_type": "stream",
     "text": [
      "Test MSE: 100.3399, Test MAE: 6.4877, Test R2: -0.0619\n",
      "Epoch 19/1000\n",
      "Train MSE: 104.1268, Train MAE: 6.5415\n"
     ]
    },
    {
     "name": "stderr",
     "output_type": "stream",
     "text": [
      "  2%|▏         | 19/1000 [00:53<46:32,  2.85s/it]"
     ]
    },
    {
     "name": "stdout",
     "output_type": "stream",
     "text": [
      "Test MSE: 99.9708, Test MAE: 6.5094, Test R2: 0.0226\n",
      "Epoch 20/1000\n",
      "Train MSE: 104.9535, Train MAE: 6.5672\n"
     ]
    },
    {
     "name": "stderr",
     "output_type": "stream",
     "text": [
      "  2%|▏         | 20/1000 [00:56<46:23,  2.84s/it]"
     ]
    },
    {
     "name": "stdout",
     "output_type": "stream",
     "text": [
      "Test MSE: 97.9825, Test MAE: 6.4628, Test R2: -0.0803\n",
      "Epoch 21/1000\n",
      "Train MSE: 104.9546, Train MAE: 6.5976\n"
     ]
    },
    {
     "name": "stderr",
     "output_type": "stream",
     "text": [
      "  2%|▏         | 21/1000 [00:59<46:24,  2.84s/it]"
     ]
    },
    {
     "name": "stdout",
     "output_type": "stream",
     "text": [
      "Test MSE: 105.0737, Test MAE: 6.5276, Test R2: -0.1349\n",
      "Epoch 22/1000\n",
      "Train MSE: 103.1770, Train MAE: 6.5271\n"
     ]
    },
    {
     "name": "stderr",
     "output_type": "stream",
     "text": [
      "  2%|▏         | 22/1000 [01:02<46:05,  2.83s/it]"
     ]
    },
    {
     "name": "stdout",
     "output_type": "stream",
     "text": [
      "Test MSE: 109.4841, Test MAE: 6.6348, Test R2: 0.0516\n",
      "Epoch 23/1000\n",
      "Train MSE: 101.9795, Train MAE: 6.5250\n"
     ]
    },
    {
     "name": "stderr",
     "output_type": "stream",
     "text": [
      "  2%|▏         | 23/1000 [01:05<45:44,  2.81s/it]"
     ]
    },
    {
     "name": "stdout",
     "output_type": "stream",
     "text": [
      "Test MSE: 111.5436, Test MAE: 6.7095, Test R2: 0.0801\n",
      "Epoch 24/1000\n",
      "Train MSE: 103.1107, Train MAE: 6.5002\n"
     ]
    },
    {
     "name": "stderr",
     "output_type": "stream",
     "text": [
      "  2%|▏         | 24/1000 [01:07<45:37,  2.80s/it]"
     ]
    },
    {
     "name": "stdout",
     "output_type": "stream",
     "text": [
      "Test MSE: 105.4483, Test MAE: 6.5917, Test R2: 0.1124\n",
      "Epoch 25/1000\n",
      "Train MSE: 102.5094, Train MAE: 6.4726\n"
     ]
    },
    {
     "name": "stderr",
     "output_type": "stream",
     "text": [
      "  2%|▎         | 25/1000 [01:10<45:30,  2.80s/it]"
     ]
    },
    {
     "name": "stdout",
     "output_type": "stream",
     "text": [
      "Test MSE: 101.9385, Test MAE: 6.4786, Test R2: -0.7410\n",
      "Epoch 26/1000\n",
      "Train MSE: 101.3250, Train MAE: 6.4972\n"
     ]
    },
    {
     "name": "stderr",
     "output_type": "stream",
     "text": [
      "  3%|▎         | 26/1000 [01:13<45:35,  2.81s/it]"
     ]
    },
    {
     "name": "stdout",
     "output_type": "stream",
     "text": [
      "Test MSE: 101.0735, Test MAE: 6.4222, Test R2: -0.0095\n",
      "Epoch 27/1000\n",
      "Train MSE: 100.2382, Train MAE: 6.4025\n"
     ]
    },
    {
     "name": "stderr",
     "output_type": "stream",
     "text": [
      "  3%|▎         | 27/1000 [01:16<45:53,  2.83s/it]"
     ]
    },
    {
     "name": "stdout",
     "output_type": "stream",
     "text": [
      "Test MSE: 104.9434, Test MAE: 6.5088, Test R2: 0.1026\n",
      "Epoch 28/1000\n",
      "Train MSE: 100.6152, Train MAE: 6.4332\n"
     ]
    },
    {
     "name": "stderr",
     "output_type": "stream",
     "text": [
      "  3%|▎         | 28/1000 [01:19<46:20,  2.86s/it]"
     ]
    },
    {
     "name": "stdout",
     "output_type": "stream",
     "text": [
      "Test MSE: 101.0471, Test MAE: 6.4099, Test R2: -0.4484\n",
      "Epoch 29/1000\n",
      "Train MSE: 101.7298, Train MAE: 6.4405\n"
     ]
    },
    {
     "name": "stderr",
     "output_type": "stream",
     "text": [
      "  3%|▎         | 29/1000 [01:22<46:26,  2.87s/it]"
     ]
    },
    {
     "name": "stdout",
     "output_type": "stream",
     "text": [
      "Test MSE: 108.7810, Test MAE: 6.5424, Test R2: 0.0405\n",
      "Epoch 30/1000\n",
      "Train MSE: 98.3180, Train MAE: 6.3854\n"
     ]
    },
    {
     "name": "stderr",
     "output_type": "stream",
     "text": [
      "  3%|▎         | 30/1000 [01:25<46:14,  2.86s/it]"
     ]
    },
    {
     "name": "stdout",
     "output_type": "stream",
     "text": [
      "Test MSE: 100.7825, Test MAE: 6.4162, Test R2: -0.0264\n",
      "Epoch 31/1000\n",
      "Train MSE: 98.8129, Train MAE: 6.4158\n"
     ]
    },
    {
     "name": "stderr",
     "output_type": "stream",
     "text": [
      "  3%|▎         | 31/1000 [01:27<45:55,  2.84s/it]"
     ]
    },
    {
     "name": "stdout",
     "output_type": "stream",
     "text": [
      "Test MSE: 98.2623, Test MAE: 6.3580, Test R2: -0.3608\n",
      "Epoch 32/1000\n",
      "Train MSE: 97.2427, Train MAE: 6.3638\n"
     ]
    },
    {
     "name": "stderr",
     "output_type": "stream",
     "text": [
      "  3%|▎         | 32/1000 [01:30<45:28,  2.82s/it]"
     ]
    },
    {
     "name": "stdout",
     "output_type": "stream",
     "text": [
      "Test MSE: 102.8934, Test MAE: 6.4581, Test R2: -0.2286\n",
      "Epoch 33/1000\n",
      "Train MSE: 100.7744, Train MAE: 6.3963\n"
     ]
    },
    {
     "name": "stderr",
     "output_type": "stream",
     "text": [
      "  3%|▎         | 33/1000 [01:33<45:35,  2.83s/it]"
     ]
    },
    {
     "name": "stdout",
     "output_type": "stream",
     "text": [
      "Test MSE: 96.9842, Test MAE: 6.3610, Test R2: 0.0956\n",
      "Epoch 34/1000\n",
      "Train MSE: 98.0612, Train MAE: 6.3358\n"
     ]
    },
    {
     "name": "stderr",
     "output_type": "stream",
     "text": [
      "  3%|▎         | 34/1000 [01:36<45:04,  2.80s/it]"
     ]
    },
    {
     "name": "stdout",
     "output_type": "stream",
     "text": [
      "Test MSE: 98.7590, Test MAE: 6.3156, Test R2: 0.1471\n",
      "Epoch 35/1000\n",
      "Train MSE: 98.4233, Train MAE: 6.3385\n"
     ]
    },
    {
     "name": "stderr",
     "output_type": "stream",
     "text": [
      "  4%|▎         | 35/1000 [01:39<45:09,  2.81s/it]"
     ]
    },
    {
     "name": "stdout",
     "output_type": "stream",
     "text": [
      "Test MSE: 100.5343, Test MAE: 6.4835, Test R2: -1.3129\n",
      "Epoch 36/1000\n",
      "Train MSE: 95.9559, Train MAE: 6.3205\n"
     ]
    },
    {
     "name": "stderr",
     "output_type": "stream",
     "text": [
      "  4%|▎         | 36/1000 [01:41<45:23,  2.82s/it]"
     ]
    },
    {
     "name": "stdout",
     "output_type": "stream",
     "text": [
      "Test MSE: 102.8872, Test MAE: 6.3801, Test R2: 0.1555\n",
      "Epoch 37/1000\n",
      "Train MSE: 99.3088, Train MAE: 6.3375\n"
     ]
    },
    {
     "name": "stderr",
     "output_type": "stream",
     "text": [
      "  4%|▎         | 37/1000 [01:44<44:59,  2.80s/it]"
     ]
    },
    {
     "name": "stdout",
     "output_type": "stream",
     "text": [
      "Test MSE: 94.2616, Test MAE: 6.2093, Test R2: 0.1125\n",
      "Epoch 38/1000\n",
      "Train MSE: 97.5352, Train MAE: 6.3073\n"
     ]
    },
    {
     "name": "stderr",
     "output_type": "stream",
     "text": [
      "  4%|▍         | 38/1000 [01:47<44:43,  2.79s/it]"
     ]
    },
    {
     "name": "stdout",
     "output_type": "stream",
     "text": [
      "Test MSE: 107.6361, Test MAE: 6.5151, Test R2: 0.0947\n",
      "Epoch 39/1000\n",
      "Train MSE: 95.7232, Train MAE: 6.2659\n"
     ]
    },
    {
     "name": "stderr",
     "output_type": "stream",
     "text": [
      "  4%|▍         | 39/1000 [01:50<44:40,  2.79s/it]"
     ]
    },
    {
     "name": "stdout",
     "output_type": "stream",
     "text": [
      "Test MSE: 92.0319, Test MAE: 6.1667, Test R2: 0.1264\n",
      "Epoch 40/1000\n",
      "Train MSE: 93.0325, Train MAE: 6.2430\n"
     ]
    },
    {
     "name": "stderr",
     "output_type": "stream",
     "text": [
      "  4%|▍         | 40/1000 [01:53<44:28,  2.78s/it]"
     ]
    },
    {
     "name": "stdout",
     "output_type": "stream",
     "text": [
      "Test MSE: 95.7502, Test MAE: 6.2719, Test R2: 0.1072\n",
      "Epoch 41/1000\n",
      "Train MSE: 93.9098, Train MAE: 6.2411\n"
     ]
    },
    {
     "name": "stderr",
     "output_type": "stream",
     "text": [
      "  4%|▍         | 41/1000 [01:55<44:19,  2.77s/it]"
     ]
    },
    {
     "name": "stdout",
     "output_type": "stream",
     "text": [
      "Test MSE: 91.9950, Test MAE: 6.3376, Test R2: -0.0373\n",
      "Epoch 42/1000\n",
      "Train MSE: 96.5655, Train MAE: 6.2626\n"
     ]
    },
    {
     "name": "stderr",
     "output_type": "stream",
     "text": [
      "  4%|▍         | 42/1000 [01:58<44:09,  2.77s/it]"
     ]
    },
    {
     "name": "stdout",
     "output_type": "stream",
     "text": [
      "Test MSE: 90.8381, Test MAE: 6.1741, Test R2: 0.1371\n",
      "Epoch 43/1000\n",
      "Train MSE: 95.3923, Train MAE: 6.2802\n"
     ]
    },
    {
     "name": "stderr",
     "output_type": "stream",
     "text": [
      "  4%|▍         | 43/1000 [02:01<43:55,  2.75s/it]"
     ]
    },
    {
     "name": "stdout",
     "output_type": "stream",
     "text": [
      "Test MSE: 91.2467, Test MAE: 6.2624, Test R2: 0.1305\n",
      "Epoch 44/1000\n",
      "Train MSE: 92.9179, Train MAE: 6.2186\n"
     ]
    },
    {
     "name": "stderr",
     "output_type": "stream",
     "text": [
      "  4%|▍         | 44/1000 [02:03<43:52,  2.75s/it]"
     ]
    },
    {
     "name": "stdout",
     "output_type": "stream",
     "text": [
      "Test MSE: 99.7288, Test MAE: 6.3468, Test R2: -0.0680\n",
      "Epoch 45/1000\n",
      "Train MSE: 94.2727, Train MAE: 6.2036\n"
     ]
    },
    {
     "name": "stderr",
     "output_type": "stream",
     "text": [
      "  4%|▍         | 45/1000 [02:06<43:36,  2.74s/it]"
     ]
    },
    {
     "name": "stdout",
     "output_type": "stream",
     "text": [
      "Test MSE: 97.3911, Test MAE: 6.3581, Test R2: 0.0989\n",
      "Epoch 46/1000\n",
      "Train MSE: 94.4316, Train MAE: 6.1813\n"
     ]
    },
    {
     "name": "stderr",
     "output_type": "stream",
     "text": [
      "  5%|▍         | 46/1000 [02:09<43:49,  2.76s/it]"
     ]
    },
    {
     "name": "stdout",
     "output_type": "stream",
     "text": [
      "Test MSE: 98.1457, Test MAE: 6.2725, Test R2: 0.0258\n",
      "Epoch 47/1000\n",
      "Train MSE: 92.7686, Train MAE: 6.2028\n"
     ]
    },
    {
     "name": "stderr",
     "output_type": "stream",
     "text": [
      "  5%|▍         | 47/1000 [02:12<44:12,  2.78s/it]"
     ]
    },
    {
     "name": "stdout",
     "output_type": "stream",
     "text": [
      "Test MSE: 91.0471, Test MAE: 6.1398, Test R2: 0.1271\n",
      "Epoch 48/1000\n",
      "Train MSE: 93.7386, Train MAE: 6.2013\n"
     ]
    },
    {
     "name": "stderr",
     "output_type": "stream",
     "text": [
      "  5%|▍         | 48/1000 [02:15<44:31,  2.81s/it]"
     ]
    },
    {
     "name": "stdout",
     "output_type": "stream",
     "text": [
      "Test MSE: 96.0844, Test MAE: 6.2101, Test R2: 0.0648\n",
      "Epoch 49/1000\n",
      "Train MSE: 92.9339, Train MAE: 6.1848\n"
     ]
    },
    {
     "name": "stderr",
     "output_type": "stream",
     "text": [
      "  5%|▍         | 49/1000 [02:18<44:32,  2.81s/it]"
     ]
    },
    {
     "name": "stdout",
     "output_type": "stream",
     "text": [
      "Test MSE: 95.8734, Test MAE: 6.2231, Test R2: 0.0021\n",
      "Epoch 50/1000\n",
      "Train MSE: 92.4760, Train MAE: 6.1168\n"
     ]
    },
    {
     "name": "stderr",
     "output_type": "stream",
     "text": [
      "  5%|▌         | 50/1000 [02:20<44:38,  2.82s/it]"
     ]
    },
    {
     "name": "stdout",
     "output_type": "stream",
     "text": [
      "Test MSE: 89.0377, Test MAE: 6.1147, Test R2: 0.0337\n",
      "Epoch 51/1000\n",
      "Train MSE: 92.1136, Train MAE: 6.1503\n"
     ]
    },
    {
     "name": "stderr",
     "output_type": "stream",
     "text": [
      "  5%|▌         | 51/1000 [02:23<44:41,  2.83s/it]"
     ]
    },
    {
     "name": "stdout",
     "output_type": "stream",
     "text": [
      "Test MSE: 92.8876, Test MAE: 6.1554, Test R2: 0.0572\n",
      "Epoch 52/1000\n",
      "Train MSE: 89.3954, Train MAE: 6.1210\n"
     ]
    },
    {
     "name": "stderr",
     "output_type": "stream",
     "text": [
      "  5%|▌         | 52/1000 [02:26<44:35,  2.82s/it]"
     ]
    },
    {
     "name": "stdout",
     "output_type": "stream",
     "text": [
      "Test MSE: 92.5597, Test MAE: 6.1854, Test R2: -0.0838\n",
      "Epoch 53/1000\n",
      "Train MSE: 89.7454, Train MAE: 6.0848\n"
     ]
    },
    {
     "name": "stderr",
     "output_type": "stream",
     "text": [
      "  5%|▌         | 53/1000 [02:29<44:47,  2.84s/it]"
     ]
    },
    {
     "name": "stdout",
     "output_type": "stream",
     "text": [
      "Test MSE: 87.3209, Test MAE: 6.0729, Test R2: 0.0976\n",
      "Epoch 54/1000\n",
      "Train MSE: 88.6718, Train MAE: 6.0592\n"
     ]
    },
    {
     "name": "stderr",
     "output_type": "stream",
     "text": [
      "  5%|▌         | 54/1000 [02:32<44:50,  2.84s/it]"
     ]
    },
    {
     "name": "stdout",
     "output_type": "stream",
     "text": [
      "Test MSE: 80.8709, Test MAE: 6.0086, Test R2: -0.0354\n",
      "Epoch 55/1000\n",
      "Train MSE: 90.0559, Train MAE: 6.0956\n"
     ]
    },
    {
     "name": "stderr",
     "output_type": "stream",
     "text": [
      "  6%|▌         | 55/1000 [02:35<45:02,  2.86s/it]"
     ]
    },
    {
     "name": "stdout",
     "output_type": "stream",
     "text": [
      "Test MSE: 92.3987, Test MAE: 6.2139, Test R2: 0.1302\n",
      "Epoch 56/1000\n",
      "Train MSE: 90.4520, Train MAE: 6.1267\n"
     ]
    },
    {
     "name": "stderr",
     "output_type": "stream",
     "text": [
      "  6%|▌         | 56/1000 [02:38<45:04,  2.86s/it]"
     ]
    },
    {
     "name": "stdout",
     "output_type": "stream",
     "text": [
      "Test MSE: 80.3205, Test MAE: 5.9600, Test R2: -0.0136\n",
      "Epoch 57/1000\n",
      "Train MSE: 90.3017, Train MAE: 6.1024\n"
     ]
    },
    {
     "name": "stderr",
     "output_type": "stream",
     "text": [
      "  6%|▌         | 57/1000 [02:40<45:02,  2.87s/it]"
     ]
    },
    {
     "name": "stdout",
     "output_type": "stream",
     "text": [
      "Test MSE: 84.0831, Test MAE: 6.0255, Test R2: -0.0827\n",
      "Epoch 58/1000\n",
      "Train MSE: 90.0287, Train MAE: 6.0666\n"
     ]
    },
    {
     "name": "stderr",
     "output_type": "stream",
     "text": [
      "  6%|▌         | 58/1000 [02:43<44:56,  2.86s/it]"
     ]
    },
    {
     "name": "stdout",
     "output_type": "stream",
     "text": [
      "Test MSE: 82.2484, Test MAE: 5.9945, Test R2: -0.4908\n",
      "Epoch 59/1000\n",
      "Train MSE: 90.3032, Train MAE: 6.0888\n"
     ]
    },
    {
     "name": "stderr",
     "output_type": "stream",
     "text": [
      "  6%|▌         | 59/1000 [02:46<44:45,  2.85s/it]"
     ]
    },
    {
     "name": "stdout",
     "output_type": "stream",
     "text": [
      "Test MSE: 77.4712, Test MAE: 5.8782, Test R2: -0.2460\n",
      "Epoch 60/1000\n",
      "Train MSE: 89.2365, Train MAE: 6.0399\n"
     ]
    },
    {
     "name": "stderr",
     "output_type": "stream",
     "text": [
      "  6%|▌         | 60/1000 [02:49<44:43,  2.86s/it]"
     ]
    },
    {
     "name": "stdout",
     "output_type": "stream",
     "text": [
      "Test MSE: 80.2417, Test MAE: 5.9566, Test R2: -0.0824\n",
      "Epoch 61/1000\n",
      "Train MSE: 88.7858, Train MAE: 6.0231\n"
     ]
    },
    {
     "name": "stderr",
     "output_type": "stream",
     "text": [
      "  6%|▌         | 61/1000 [02:52<44:36,  2.85s/it]"
     ]
    },
    {
     "name": "stdout",
     "output_type": "stream",
     "text": [
      "Test MSE: 88.0109, Test MAE: 6.0594, Test R2: -0.1319\n",
      "Epoch 62/1000\n",
      "Train MSE: 87.8349, Train MAE: 6.0057\n"
     ]
    },
    {
     "name": "stderr",
     "output_type": "stream",
     "text": [
      "  6%|▌         | 62/1000 [02:55<44:38,  2.86s/it]"
     ]
    },
    {
     "name": "stdout",
     "output_type": "stream",
     "text": [
      "Test MSE: 84.5358, Test MAE: 6.0612, Test R2: -0.6867\n",
      "Epoch 63/1000\n",
      "Train MSE: 86.1890, Train MAE: 5.9860\n"
     ]
    },
    {
     "name": "stderr",
     "output_type": "stream",
     "text": [
      "  6%|▋         | 63/1000 [02:57<44:31,  2.85s/it]"
     ]
    },
    {
     "name": "stdout",
     "output_type": "stream",
     "text": [
      "Test MSE: 79.6996, Test MAE: 5.8839, Test R2: -0.2233\n",
      "Epoch 64/1000\n",
      "Train MSE: 87.3014, Train MAE: 6.0092\n"
     ]
    },
    {
     "name": "stderr",
     "output_type": "stream",
     "text": [
      "  6%|▋         | 64/1000 [03:00<44:49,  2.87s/it]"
     ]
    },
    {
     "name": "stdout",
     "output_type": "stream",
     "text": [
      "Test MSE: 81.4868, Test MAE: 5.9792, Test R2: -0.0761\n",
      "Epoch 65/1000\n",
      "Train MSE: 88.9806, Train MAE: 6.0604\n"
     ]
    },
    {
     "name": "stderr",
     "output_type": "stream",
     "text": [
      "  6%|▋         | 65/1000 [03:03<44:34,  2.86s/it]"
     ]
    },
    {
     "name": "stdout",
     "output_type": "stream",
     "text": [
      "Test MSE: 81.8497, Test MAE: 5.9124, Test R2: -0.2623\n",
      "Epoch 66/1000\n",
      "Train MSE: 87.8084, Train MAE: 5.9760\n"
     ]
    },
    {
     "name": "stderr",
     "output_type": "stream",
     "text": [
      "  7%|▋         | 66/1000 [03:06<44:27,  2.86s/it]"
     ]
    },
    {
     "name": "stdout",
     "output_type": "stream",
     "text": [
      "Test MSE: 83.4488, Test MAE: 5.9345, Test R2: 0.1122\n",
      "Epoch 67/1000\n",
      "Train MSE: 90.4942, Train MAE: 6.0465\n"
     ]
    },
    {
     "name": "stderr",
     "output_type": "stream",
     "text": [
      "  7%|▋         | 67/1000 [03:09<44:28,  2.86s/it]"
     ]
    },
    {
     "name": "stdout",
     "output_type": "stream",
     "text": [
      "Test MSE: 83.3401, Test MAE: 5.9729, Test R2: 0.1525\n",
      "Epoch 68/1000\n",
      "Train MSE: 87.3598, Train MAE: 5.9888\n"
     ]
    },
    {
     "name": "stderr",
     "output_type": "stream",
     "text": [
      "  7%|▋         | 68/1000 [03:12<44:21,  2.86s/it]"
     ]
    },
    {
     "name": "stdout",
     "output_type": "stream",
     "text": [
      "Test MSE: 83.4655, Test MAE: 5.9217, Test R2: 0.0922\n",
      "Epoch 69/1000\n",
      "Train MSE: 85.2075, Train MAE: 5.9345\n"
     ]
    },
    {
     "name": "stderr",
     "output_type": "stream",
     "text": [
      "  7%|▋         | 69/1000 [03:15<44:13,  2.85s/it]"
     ]
    },
    {
     "name": "stdout",
     "output_type": "stream",
     "text": [
      "Test MSE: 88.6024, Test MAE: 6.0577, Test R2: -0.2345\n",
      "Epoch 70/1000\n",
      "Train MSE: 85.3855, Train MAE: 5.9315\n"
     ]
    },
    {
     "name": "stderr",
     "output_type": "stream",
     "text": [
      "  7%|▋         | 70/1000 [03:17<43:52,  2.83s/it]"
     ]
    },
    {
     "name": "stdout",
     "output_type": "stream",
     "text": [
      "Test MSE: 77.3779, Test MAE: 5.8463, Test R2: -0.0684\n",
      "Epoch 71/1000\n",
      "Train MSE: 88.2979, Train MAE: 5.9788\n"
     ]
    },
    {
     "name": "stderr",
     "output_type": "stream",
     "text": [
      "  7%|▋         | 71/1000 [03:20<43:48,  2.83s/it]"
     ]
    },
    {
     "name": "stdout",
     "output_type": "stream",
     "text": [
      "Test MSE: 81.6712, Test MAE: 5.8947, Test R2: 0.0071\n",
      "Epoch 72/1000\n",
      "Train MSE: 88.7833, Train MAE: 5.9723\n"
     ]
    },
    {
     "name": "stderr",
     "output_type": "stream",
     "text": [
      "  7%|▋         | 72/1000 [03:23<43:32,  2.82s/it]"
     ]
    },
    {
     "name": "stdout",
     "output_type": "stream",
     "text": [
      "Test MSE: 81.7267, Test MAE: 5.9260, Test R2: 0.1293\n",
      "Epoch 73/1000\n",
      "Train MSE: 86.3555, Train MAE: 5.9281\n"
     ]
    },
    {
     "name": "stderr",
     "output_type": "stream",
     "text": [
      "  7%|▋         | 73/1000 [03:26<43:26,  2.81s/it]"
     ]
    },
    {
     "name": "stdout",
     "output_type": "stream",
     "text": [
      "Test MSE: 78.1298, Test MAE: 5.8484, Test R2: 0.0886\n",
      "Epoch 74/1000\n",
      "Train MSE: 85.9371, Train MAE: 5.9427\n"
     ]
    },
    {
     "name": "stderr",
     "output_type": "stream",
     "text": [
      "  7%|▋         | 74/1000 [03:29<43:13,  2.80s/it]"
     ]
    },
    {
     "name": "stdout",
     "output_type": "stream",
     "text": [
      "Test MSE: 85.0964, Test MAE: 5.9275, Test R2: -0.0362\n",
      "Epoch 75/1000\n",
      "Train MSE: 87.8178, Train MAE: 5.9593\n"
     ]
    },
    {
     "name": "stderr",
     "output_type": "stream",
     "text": [
      "  8%|▊         | 75/1000 [03:31<43:08,  2.80s/it]"
     ]
    },
    {
     "name": "stdout",
     "output_type": "stream",
     "text": [
      "Test MSE: 83.6645, Test MAE: 5.9002, Test R2: 0.0661\n",
      "Epoch 76/1000\n",
      "Train MSE: 86.7382, Train MAE: 5.9408\n"
     ]
    },
    {
     "name": "stderr",
     "output_type": "stream",
     "text": [
      "  8%|▊         | 76/1000 [03:34<43:02,  2.79s/it]"
     ]
    },
    {
     "name": "stdout",
     "output_type": "stream",
     "text": [
      "Test MSE: 78.5886, Test MAE: 5.8053, Test R2: -0.0682\n",
      "Epoch 77/1000\n",
      "Train MSE: 86.0634, Train MAE: 5.8991\n"
     ]
    },
    {
     "name": "stderr",
     "output_type": "stream",
     "text": [
      "  8%|▊         | 77/1000 [03:37<42:52,  2.79s/it]"
     ]
    },
    {
     "name": "stdout",
     "output_type": "stream",
     "text": [
      "Test MSE: 81.1947, Test MAE: 5.8990, Test R2: -0.0974\n",
      "Epoch 78/1000\n",
      "Train MSE: 85.0951, Train MAE: 5.8876\n"
     ]
    },
    {
     "name": "stderr",
     "output_type": "stream",
     "text": [
      "  8%|▊         | 78/1000 [03:40<43:09,  2.81s/it]"
     ]
    },
    {
     "name": "stdout",
     "output_type": "stream",
     "text": [
      "Test MSE: 82.9727, Test MAE: 5.9072, Test R2: -0.1294\n",
      "Epoch 79/1000\n",
      "Train MSE: 85.8922, Train MAE: 5.9240\n"
     ]
    },
    {
     "name": "stderr",
     "output_type": "stream",
     "text": [
      "  8%|▊         | 79/1000 [03:43<43:22,  2.83s/it]"
     ]
    },
    {
     "name": "stdout",
     "output_type": "stream",
     "text": [
      "Test MSE: 81.0393, Test MAE: 5.8867, Test R2: -0.0160\n",
      "Epoch 80/1000\n",
      "Train MSE: 86.2126, Train MAE: 5.9059\n"
     ]
    },
    {
     "name": "stderr",
     "output_type": "stream",
     "text": [
      "  8%|▊         | 80/1000 [03:46<43:34,  2.84s/it]"
     ]
    },
    {
     "name": "stdout",
     "output_type": "stream",
     "text": [
      "Test MSE: 77.6785, Test MAE: 5.7933, Test R2: 0.0168\n",
      "Epoch 81/1000\n",
      "Train MSE: 83.6442, Train MAE: 5.8803\n"
     ]
    },
    {
     "name": "stderr",
     "output_type": "stream",
     "text": [
      "  8%|▊         | 81/1000 [03:48<43:50,  2.86s/it]"
     ]
    },
    {
     "name": "stdout",
     "output_type": "stream",
     "text": [
      "Test MSE: 91.9791, Test MAE: 6.1428, Test R2: -0.0732\n",
      "Epoch 82/1000\n",
      "Train MSE: 84.4513, Train MAE: 5.8748\n"
     ]
    },
    {
     "name": "stderr",
     "output_type": "stream",
     "text": [
      "  8%|▊         | 82/1000 [03:51<43:52,  2.87s/it]"
     ]
    },
    {
     "name": "stdout",
     "output_type": "stream",
     "text": [
      "Test MSE: 82.1075, Test MAE: 5.8786, Test R2: -0.0519\n",
      "Epoch 83/1000\n",
      "Train MSE: 85.8863, Train MAE: 5.8912\n"
     ]
    },
    {
     "name": "stderr",
     "output_type": "stream",
     "text": [
      "  8%|▊         | 83/1000 [03:54<43:53,  2.87s/it]"
     ]
    },
    {
     "name": "stdout",
     "output_type": "stream",
     "text": [
      "Test MSE: 80.9273, Test MAE: 5.9829, Test R2: -0.1702\n",
      "Epoch 84/1000\n",
      "Train MSE: 85.4604, Train MAE: 5.8955\n"
     ]
    },
    {
     "name": "stderr",
     "output_type": "stream",
     "text": [
      "  8%|▊         | 84/1000 [03:57<43:49,  2.87s/it]"
     ]
    },
    {
     "name": "stdout",
     "output_type": "stream",
     "text": [
      "Test MSE: 87.6498, Test MAE: 5.9869, Test R2: -0.0994\n",
      "Epoch 85/1000\n",
      "Train MSE: 83.0143, Train MAE: 5.8473\n"
     ]
    },
    {
     "name": "stderr",
     "output_type": "stream",
     "text": [
      "  8%|▊         | 85/1000 [04:00<43:45,  2.87s/it]"
     ]
    },
    {
     "name": "stdout",
     "output_type": "stream",
     "text": [
      "Test MSE: 82.9645, Test MAE: 5.9833, Test R2: 0.1390\n",
      "Epoch 86/1000\n",
      "Train MSE: 86.4735, Train MAE: 5.9076\n"
     ]
    },
    {
     "name": "stderr",
     "output_type": "stream",
     "text": [
      "  9%|▊         | 86/1000 [04:03<43:32,  2.86s/it]"
     ]
    },
    {
     "name": "stdout",
     "output_type": "stream",
     "text": [
      "Test MSE: 79.9697, Test MAE: 5.8644, Test R2: 0.1449\n",
      "Epoch 87/1000\n",
      "Train MSE: 84.3396, Train MAE: 5.8567\n"
     ]
    },
    {
     "name": "stderr",
     "output_type": "stream",
     "text": [
      "  9%|▊         | 87/1000 [04:06<43:38,  2.87s/it]"
     ]
    },
    {
     "name": "stdout",
     "output_type": "stream",
     "text": [
      "Test MSE: 78.0422, Test MAE: 5.8608, Test R2: -0.1596\n",
      "Epoch 88/1000\n",
      "Train MSE: 84.0256, Train MAE: 5.8685\n"
     ]
    },
    {
     "name": "stderr",
     "output_type": "stream",
     "text": [
      "  9%|▉         | 88/1000 [04:09<43:19,  2.85s/it]"
     ]
    },
    {
     "name": "stdout",
     "output_type": "stream",
     "text": [
      "Test MSE: 78.1543, Test MAE: 5.8439, Test R2: 0.0399\n",
      "Epoch 89/1000\n",
      "Train MSE: 83.9025, Train MAE: 5.8758\n"
     ]
    },
    {
     "name": "stderr",
     "output_type": "stream",
     "text": [
      "  9%|▉         | 89/1000 [04:11<43:15,  2.85s/it]"
     ]
    },
    {
     "name": "stdout",
     "output_type": "stream",
     "text": [
      "Test MSE: 75.8946, Test MAE: 5.7495, Test R2: -0.0552\n",
      "Epoch 90/1000\n",
      "Train MSE: 83.3874, Train MAE: 5.8781\n"
     ]
    },
    {
     "name": "stderr",
     "output_type": "stream",
     "text": [
      "  9%|▉         | 90/1000 [04:14<43:00,  2.84s/it]"
     ]
    },
    {
     "name": "stdout",
     "output_type": "stream",
     "text": [
      "Test MSE: 74.8217, Test MAE: 5.7332, Test R2: 0.0159\n",
      "Epoch 91/1000\n",
      "Train MSE: 84.9211, Train MAE: 5.8803\n"
     ]
    },
    {
     "name": "stderr",
     "output_type": "stream",
     "text": [
      "  9%|▉         | 91/1000 [04:17<43:30,  2.87s/it]"
     ]
    },
    {
     "name": "stdout",
     "output_type": "stream",
     "text": [
      "Test MSE: 83.9174, Test MAE: 5.9284, Test R2: 0.0234\n",
      "Epoch 92/1000\n",
      "Train MSE: 86.8554, Train MAE: 5.9102\n"
     ]
    },
    {
     "name": "stderr",
     "output_type": "stream",
     "text": [
      "  9%|▉         | 92/1000 [04:20<43:02,  2.84s/it]"
     ]
    },
    {
     "name": "stdout",
     "output_type": "stream",
     "text": [
      "Test MSE: 79.1208, Test MAE: 5.8158, Test R2: -0.0083\n",
      "Epoch 93/1000\n",
      "Train MSE: 84.3315, Train MAE: 5.8702\n"
     ]
    },
    {
     "name": "stderr",
     "output_type": "stream",
     "text": [
      "  9%|▉         | 93/1000 [04:23<42:22,  2.80s/it]"
     ]
    },
    {
     "name": "stdout",
     "output_type": "stream",
     "text": [
      "Test MSE: 81.8618, Test MAE: 5.9072, Test R2: 0.0075\n",
      "Epoch 94/1000\n",
      "Train MSE: 82.5185, Train MAE: 5.8244\n"
     ]
    },
    {
     "name": "stderr",
     "output_type": "stream",
     "text": [
      "  9%|▉         | 94/1000 [04:25<42:16,  2.80s/it]"
     ]
    },
    {
     "name": "stdout",
     "output_type": "stream",
     "text": [
      "Test MSE: 85.2698, Test MAE: 5.9625, Test R2: -0.3746\n",
      "Epoch 95/1000\n",
      "Train MSE: 83.0300, Train MAE: 5.8595\n"
     ]
    },
    {
     "name": "stderr",
     "output_type": "stream",
     "text": [
      " 10%|▉         | 95/1000 [04:28<41:39,  2.76s/it]"
     ]
    },
    {
     "name": "stdout",
     "output_type": "stream",
     "text": [
      "Test MSE: 78.1453, Test MAE: 5.8359, Test R2: 0.0090\n",
      "Epoch 96/1000\n",
      "Train MSE: 82.9819, Train MAE: 5.7884\n"
     ]
    },
    {
     "name": "stderr",
     "output_type": "stream",
     "text": [
      " 10%|▉         | 96/1000 [04:31<41:14,  2.74s/it]"
     ]
    },
    {
     "name": "stdout",
     "output_type": "stream",
     "text": [
      "Test MSE: 78.6471, Test MAE: 5.8629, Test R2: -0.1939\n",
      "Epoch 97/1000\n",
      "Train MSE: 89.5848, Train MAE: 5.8819\n"
     ]
    },
    {
     "name": "stderr",
     "output_type": "stream",
     "text": [
      " 10%|▉         | 97/1000 [04:33<40:54,  2.72s/it]"
     ]
    },
    {
     "name": "stdout",
     "output_type": "stream",
     "text": [
      "Test MSE: 80.4195, Test MAE: 5.8398, Test R2: -0.0509\n",
      "Epoch 98/1000\n",
      "Train MSE: 83.0641, Train MAE: 5.8311\n"
     ]
    },
    {
     "name": "stderr",
     "output_type": "stream",
     "text": [
      " 10%|▉         | 98/1000 [04:36<40:41,  2.71s/it]"
     ]
    },
    {
     "name": "stdout",
     "output_type": "stream",
     "text": [
      "Test MSE: 75.7220, Test MAE: 5.7435, Test R2: -0.0651\n",
      "Epoch 99/1000\n",
      "Train MSE: 82.4069, Train MAE: 5.7891\n"
     ]
    },
    {
     "name": "stderr",
     "output_type": "stream",
     "text": [
      " 10%|▉         | 99/1000 [04:39<40:30,  2.70s/it]"
     ]
    },
    {
     "name": "stdout",
     "output_type": "stream",
     "text": [
      "Test MSE: 80.1674, Test MAE: 5.8379, Test R2: -0.0394\n",
      "Epoch 100/1000\n",
      "Train MSE: 82.1582, Train MAE: 5.7969\n"
     ]
    },
    {
     "name": "stderr",
     "output_type": "stream",
     "text": [
      " 10%|█         | 100/1000 [04:41<40:24,  2.69s/it]"
     ]
    },
    {
     "name": "stdout",
     "output_type": "stream",
     "text": [
      "Test MSE: 77.6928, Test MAE: 5.8071, Test R2: -0.1798\n",
      "Epoch 101/1000\n",
      "Train MSE: 82.3860, Train MAE: 5.7910\n"
     ]
    },
    {
     "name": "stderr",
     "output_type": "stream",
     "text": [
      " 10%|█         | 101/1000 [04:44<40:19,  2.69s/it]"
     ]
    },
    {
     "name": "stdout",
     "output_type": "stream",
     "text": [
      "Test MSE: 84.3213, Test MAE: 5.9096, Test R2: 0.0865\n",
      "Epoch 102/1000\n",
      "Train MSE: 82.5747, Train MAE: 5.8323\n"
     ]
    },
    {
     "name": "stderr",
     "output_type": "stream",
     "text": [
      " 10%|█         | 102/1000 [04:47<40:14,  2.69s/it]"
     ]
    },
    {
     "name": "stdout",
     "output_type": "stream",
     "text": [
      "Test MSE: 75.9772, Test MAE: 5.7397, Test R2: -0.0219\n",
      "Epoch 103/1000\n",
      "Train MSE: 82.9775, Train MAE: 5.7991\n"
     ]
    },
    {
     "name": "stderr",
     "output_type": "stream",
     "text": [
      " 10%|█         | 103/1000 [04:50<40:12,  2.69s/it]"
     ]
    },
    {
     "name": "stdout",
     "output_type": "stream",
     "text": [
      "Test MSE: 78.0872, Test MAE: 5.8882, Test R2: -0.0471\n",
      "Epoch 104/1000\n",
      "Train MSE: 81.2578, Train MAE: 5.7575\n"
     ]
    },
    {
     "name": "stderr",
     "output_type": "stream",
     "text": [
      " 10%|█         | 104/1000 [04:52<40:04,  2.68s/it]"
     ]
    },
    {
     "name": "stdout",
     "output_type": "stream",
     "text": [
      "Test MSE: 75.1642, Test MAE: 5.7417, Test R2: 0.2233\n",
      "Epoch 105/1000\n",
      "Train MSE: 81.2997, Train MAE: 5.7892\n"
     ]
    },
    {
     "name": "stderr",
     "output_type": "stream",
     "text": [
      " 10%|█         | 105/1000 [04:55<40:02,  2.68s/it]"
     ]
    },
    {
     "name": "stdout",
     "output_type": "stream",
     "text": [
      "Test MSE: 82.2004, Test MAE: 5.8678, Test R2: 0.0715\n",
      "Epoch 106/1000\n",
      "Train MSE: 83.6310, Train MAE: 5.8146\n"
     ]
    },
    {
     "name": "stderr",
     "output_type": "stream",
     "text": [
      " 11%|█         | 106/1000 [04:58<39:55,  2.68s/it]"
     ]
    },
    {
     "name": "stdout",
     "output_type": "stream",
     "text": [
      "Test MSE: 73.2960, Test MAE: 5.7225, Test R2: 0.1407\n",
      "Epoch 107/1000\n",
      "Train MSE: 83.4452, Train MAE: 5.7798\n"
     ]
    },
    {
     "name": "stderr",
     "output_type": "stream",
     "text": [
      " 11%|█         | 107/1000 [05:00<39:52,  2.68s/it]"
     ]
    },
    {
     "name": "stdout",
     "output_type": "stream",
     "text": [
      "Test MSE: 78.1773, Test MAE: 5.7662, Test R2: 0.1029\n",
      "Epoch 108/1000\n",
      "Train MSE: 81.3163, Train MAE: 5.7729\n"
     ]
    },
    {
     "name": "stderr",
     "output_type": "stream",
     "text": [
      " 11%|█         | 108/1000 [05:03<39:49,  2.68s/it]"
     ]
    },
    {
     "name": "stdout",
     "output_type": "stream",
     "text": [
      "Test MSE: 86.2358, Test MAE: 5.9040, Test R2: 0.0671\n",
      "Epoch 109/1000\n",
      "Train MSE: 82.7910, Train MAE: 5.7881\n"
     ]
    },
    {
     "name": "stderr",
     "output_type": "stream",
     "text": [
      " 11%|█         | 109/1000 [05:06<39:48,  2.68s/it]"
     ]
    },
    {
     "name": "stdout",
     "output_type": "stream",
     "text": [
      "Test MSE: 85.2764, Test MAE: 5.8991, Test R2: 0.0480\n",
      "Epoch 110/1000\n",
      "Train MSE: 82.1180, Train MAE: 5.7426\n"
     ]
    },
    {
     "name": "stderr",
     "output_type": "stream",
     "text": [
      " 11%|█         | 110/1000 [05:08<39:45,  2.68s/it]"
     ]
    },
    {
     "name": "stdout",
     "output_type": "stream",
     "text": [
      "Test MSE: 82.0955, Test MAE: 5.8629, Test R2: -0.0771\n",
      "Epoch 111/1000\n",
      "Train MSE: 82.7057, Train MAE: 5.7696\n"
     ]
    },
    {
     "name": "stderr",
     "output_type": "stream",
     "text": [
      " 11%|█         | 111/1000 [05:11<39:43,  2.68s/it]"
     ]
    },
    {
     "name": "stdout",
     "output_type": "stream",
     "text": [
      "Test MSE: 78.6217, Test MAE: 5.8574, Test R2: -0.0459\n",
      "Epoch 112/1000\n",
      "Train MSE: 83.1749, Train MAE: 5.7731\n"
     ]
    },
    {
     "name": "stderr",
     "output_type": "stream",
     "text": [
      " 11%|█         | 112/1000 [05:14<39:56,  2.70s/it]"
     ]
    },
    {
     "name": "stdout",
     "output_type": "stream",
     "text": [
      "Test MSE: 81.7791, Test MAE: 5.8869, Test R2: 0.1718\n",
      "Epoch 113/1000\n",
      "Train MSE: 81.3412, Train MAE: 5.7408\n"
     ]
    },
    {
     "name": "stderr",
     "output_type": "stream",
     "text": [
      " 11%|█▏        | 113/1000 [05:16<40:12,  2.72s/it]"
     ]
    },
    {
     "name": "stdout",
     "output_type": "stream",
     "text": [
      "Test MSE: 83.4918, Test MAE: 5.9031, Test R2: 0.1102\n",
      "Epoch 114/1000\n",
      "Train MSE: 80.7665, Train MAE: 5.7398\n"
     ]
    },
    {
     "name": "stderr",
     "output_type": "stream",
     "text": [
      " 11%|█▏        | 114/1000 [05:19<40:24,  2.74s/it]"
     ]
    },
    {
     "name": "stdout",
     "output_type": "stream",
     "text": [
      "Test MSE: 85.0612, Test MAE: 5.9725, Test R2: 0.0912\n",
      "Epoch 115/1000\n",
      "Train MSE: 82.9053, Train MAE: 5.8068\n"
     ]
    },
    {
     "name": "stderr",
     "output_type": "stream",
     "text": [
      " 12%|█▏        | 115/1000 [05:22<40:33,  2.75s/it]"
     ]
    },
    {
     "name": "stdout",
     "output_type": "stream",
     "text": [
      "Test MSE: 73.5573, Test MAE: 5.6578, Test R2: 0.1531\n",
      "Epoch 116/1000\n",
      "Train MSE: 79.4350, Train MAE: 5.7147\n"
     ]
    },
    {
     "name": "stderr",
     "output_type": "stream",
     "text": [
      " 12%|█▏        | 116/1000 [05:25<40:38,  2.76s/it]"
     ]
    },
    {
     "name": "stdout",
     "output_type": "stream",
     "text": [
      "Test MSE: 80.8370, Test MAE: 5.7783, Test R2: 0.0734\n",
      "Epoch 117/1000\n",
      "Train MSE: 81.0491, Train MAE: 5.7462\n"
     ]
    },
    {
     "name": "stderr",
     "output_type": "stream",
     "text": [
      " 12%|█▏        | 117/1000 [05:28<40:42,  2.77s/it]"
     ]
    },
    {
     "name": "stdout",
     "output_type": "stream",
     "text": [
      "Test MSE: 81.0574, Test MAE: 5.8646, Test R2: 0.0717\n",
      "Epoch 118/1000\n",
      "Train MSE: 80.6013, Train MAE: 5.7116\n"
     ]
    },
    {
     "name": "stderr",
     "output_type": "stream",
     "text": [
      " 12%|█▏        | 118/1000 [05:30<40:43,  2.77s/it]"
     ]
    },
    {
     "name": "stdout",
     "output_type": "stream",
     "text": [
      "Test MSE: 82.6381, Test MAE: 5.8801, Test R2: -0.0304\n",
      "Epoch 119/1000\n",
      "Train MSE: 83.5145, Train MAE: 5.7785\n"
     ]
    },
    {
     "name": "stderr",
     "output_type": "stream",
     "text": [
      " 12%|█▏        | 119/1000 [05:33<40:43,  2.77s/it]"
     ]
    },
    {
     "name": "stdout",
     "output_type": "stream",
     "text": [
      "Test MSE: 86.9842, Test MAE: 5.9211, Test R2: 0.0551\n",
      "Epoch 120/1000\n",
      "Train MSE: 79.5161, Train MAE: 5.7233\n"
     ]
    },
    {
     "name": "stderr",
     "output_type": "stream",
     "text": [
      " 12%|█▏        | 120/1000 [05:36<40:43,  2.78s/it]"
     ]
    },
    {
     "name": "stdout",
     "output_type": "stream",
     "text": [
      "Test MSE: 80.9024, Test MAE: 5.8021, Test R2: 0.1933\n",
      "Epoch 121/1000\n",
      "Train MSE: 80.7447, Train MAE: 5.7480\n"
     ]
    },
    {
     "name": "stderr",
     "output_type": "stream",
     "text": [
      " 12%|█▏        | 121/1000 [05:39<40:42,  2.78s/it]"
     ]
    },
    {
     "name": "stdout",
     "output_type": "stream",
     "text": [
      "Test MSE: 81.9360, Test MAE: 5.8495, Test R2: -0.0664\n",
      "Epoch 122/1000\n",
      "Train MSE: 80.2317, Train MAE: 5.6788\n"
     ]
    },
    {
     "name": "stderr",
     "output_type": "stream",
     "text": [
      " 12%|█▏        | 122/1000 [05:41<40:40,  2.78s/it]"
     ]
    },
    {
     "name": "stdout",
     "output_type": "stream",
     "text": [
      "Test MSE: 77.3736, Test MAE: 5.8179, Test R2: 0.1320\n",
      "Epoch 123/1000\n",
      "Train MSE: 79.0248, Train MAE: 5.7163\n"
     ]
    },
    {
     "name": "stderr",
     "output_type": "stream",
     "text": [
      " 12%|█▏        | 123/1000 [05:44<40:41,  2.78s/it]"
     ]
    },
    {
     "name": "stdout",
     "output_type": "stream",
     "text": [
      "Test MSE: 76.4351, Test MAE: 5.7435, Test R2: 0.0305\n",
      "Epoch 124/1000\n",
      "Train MSE: 81.0729, Train MAE: 5.7430\n"
     ]
    },
    {
     "name": "stderr",
     "output_type": "stream",
     "text": [
      " 12%|█▏        | 124/1000 [05:47<40:39,  2.78s/it]"
     ]
    },
    {
     "name": "stdout",
     "output_type": "stream",
     "text": [
      "Test MSE: 80.9294, Test MAE: 5.8453, Test R2: -0.0279\n",
      "Epoch 125/1000\n",
      "Train MSE: 81.8347, Train MAE: 5.7649\n"
     ]
    },
    {
     "name": "stderr",
     "output_type": "stream",
     "text": [
      " 12%|█▎        | 125/1000 [05:50<40:38,  2.79s/it]"
     ]
    },
    {
     "name": "stdout",
     "output_type": "stream",
     "text": [
      "Test MSE: 76.0526, Test MAE: 5.7032, Test R2: 0.0845\n",
      "Epoch 126/1000\n",
      "Train MSE: 81.7531, Train MAE: 5.7284\n"
     ]
    },
    {
     "name": "stderr",
     "output_type": "stream",
     "text": [
      " 13%|█▎        | 126/1000 [05:53<40:44,  2.80s/it]"
     ]
    },
    {
     "name": "stdout",
     "output_type": "stream",
     "text": [
      "Test MSE: 76.0195, Test MAE: 5.7503, Test R2: 0.1083\n",
      "Epoch 127/1000\n",
      "Train MSE: 80.6488, Train MAE: 5.7303\n"
     ]
    },
    {
     "name": "stderr",
     "output_type": "stream",
     "text": [
      " 13%|█▎        | 127/1000 [05:55<40:37,  2.79s/it]"
     ]
    },
    {
     "name": "stdout",
     "output_type": "stream",
     "text": [
      "Test MSE: 82.5474, Test MAE: 5.8607, Test R2: -0.0951\n",
      "Epoch 128/1000\n",
      "Train MSE: 81.5613, Train MAE: 5.7311\n"
     ]
    },
    {
     "name": "stderr",
     "output_type": "stream",
     "text": [
      " 13%|█▎        | 128/1000 [05:58<40:32,  2.79s/it]"
     ]
    },
    {
     "name": "stdout",
     "output_type": "stream",
     "text": [
      "Test MSE: 78.1425, Test MAE: 5.7598, Test R2: -0.0401\n",
      "Epoch 129/1000\n",
      "Train MSE: 80.2604, Train MAE: 5.7238\n"
     ]
    },
    {
     "name": "stderr",
     "output_type": "stream",
     "text": [
      " 13%|█▎        | 129/1000 [06:01<40:30,  2.79s/it]"
     ]
    },
    {
     "name": "stdout",
     "output_type": "stream",
     "text": [
      "Test MSE: 76.6196, Test MAE: 5.7611, Test R2: -0.2325\n",
      "Epoch 130/1000\n",
      "Train MSE: 79.2985, Train MAE: 5.6931\n"
     ]
    },
    {
     "name": "stderr",
     "output_type": "stream",
     "text": [
      " 13%|█▎        | 130/1000 [06:04<40:23,  2.79s/it]"
     ]
    },
    {
     "name": "stdout",
     "output_type": "stream",
     "text": [
      "Test MSE: 71.6277, Test MAE: 5.6062, Test R2: 0.0450\n",
      "Epoch 131/1000\n",
      "Train MSE: 81.9482, Train MAE: 5.7480\n"
     ]
    },
    {
     "name": "stderr",
     "output_type": "stream",
     "text": [
      " 13%|█▎        | 131/1000 [06:07<40:18,  2.78s/it]"
     ]
    },
    {
     "name": "stdout",
     "output_type": "stream",
     "text": [
      "Test MSE: 76.5926, Test MAE: 5.7813, Test R2: -0.1041\n",
      "Epoch 132/1000\n",
      "Train MSE: 78.2800, Train MAE: 5.6886\n"
     ]
    },
    {
     "name": "stderr",
     "output_type": "stream",
     "text": [
      " 13%|█▎        | 132/1000 [06:09<40:19,  2.79s/it]"
     ]
    },
    {
     "name": "stdout",
     "output_type": "stream",
     "text": [
      "Test MSE: 80.5252, Test MAE: 5.8332, Test R2: 0.0708\n",
      "Epoch 133/1000\n",
      "Train MSE: 79.6296, Train MAE: 5.6958\n"
     ]
    },
    {
     "name": "stderr",
     "output_type": "stream",
     "text": [
      " 13%|█▎        | 133/1000 [06:12<40:21,  2.79s/it]"
     ]
    },
    {
     "name": "stdout",
     "output_type": "stream",
     "text": [
      "Test MSE: 87.5159, Test MAE: 5.9513, Test R2: -0.0445\n",
      "Epoch 134/1000\n",
      "Train MSE: 79.2163, Train MAE: 5.6711\n"
     ]
    },
    {
     "name": "stderr",
     "output_type": "stream",
     "text": [
      " 13%|█▎        | 134/1000 [06:15<40:19,  2.79s/it]"
     ]
    },
    {
     "name": "stdout",
     "output_type": "stream",
     "text": [
      "Test MSE: 74.0546, Test MAE: 5.7300, Test R2: -0.1483\n",
      "Epoch 135/1000\n",
      "Train MSE: 77.7240, Train MAE: 5.6564\n"
     ]
    },
    {
     "name": "stderr",
     "output_type": "stream",
     "text": [
      " 14%|█▎        | 135/1000 [06:18<40:17,  2.80s/it]"
     ]
    },
    {
     "name": "stdout",
     "output_type": "stream",
     "text": [
      "Test MSE: 78.4533, Test MAE: 5.7672, Test R2: -0.1931\n",
      "Epoch 136/1000\n",
      "Train MSE: 78.2457, Train MAE: 5.6411\n"
     ]
    },
    {
     "name": "stderr",
     "output_type": "stream",
     "text": [
      " 14%|█▎        | 136/1000 [06:21<40:14,  2.79s/it]"
     ]
    },
    {
     "name": "stdout",
     "output_type": "stream",
     "text": [
      "Test MSE: 75.4816, Test MAE: 5.7466, Test R2: -0.0632\n",
      "Epoch 137/1000\n",
      "Train MSE: 82.0671, Train MAE: 5.6959\n"
     ]
    },
    {
     "name": "stderr",
     "output_type": "stream",
     "text": [
      " 14%|█▎        | 137/1000 [06:23<40:08,  2.79s/it]"
     ]
    },
    {
     "name": "stdout",
     "output_type": "stream",
     "text": [
      "Test MSE: 77.1652, Test MAE: 5.7779, Test R2: -0.0982\n",
      "Epoch 138/1000\n",
      "Train MSE: 80.3353, Train MAE: 5.6876\n"
     ]
    },
    {
     "name": "stderr",
     "output_type": "stream",
     "text": [
      " 14%|█▍        | 138/1000 [06:26<40:04,  2.79s/it]"
     ]
    },
    {
     "name": "stdout",
     "output_type": "stream",
     "text": [
      "Test MSE: 77.5466, Test MAE: 5.7827, Test R2: 0.0207\n",
      "Epoch 139/1000\n",
      "Train MSE: 79.2910, Train MAE: 5.6899\n"
     ]
    },
    {
     "name": "stderr",
     "output_type": "stream",
     "text": [
      " 14%|█▍        | 139/1000 [06:29<39:41,  2.77s/it]"
     ]
    },
    {
     "name": "stdout",
     "output_type": "stream",
     "text": [
      "Test MSE: 76.2102, Test MAE: 5.7232, Test R2: -0.0999\n",
      "Epoch 140/1000\n",
      "Train MSE: 80.0469, Train MAE: 5.6644\n"
     ]
    },
    {
     "name": "stderr",
     "output_type": "stream",
     "text": [
      " 14%|█▍        | 140/1000 [06:32<39:31,  2.76s/it]"
     ]
    },
    {
     "name": "stdout",
     "output_type": "stream",
     "text": [
      "Test MSE: 78.0022, Test MAE: 5.7444, Test R2: -0.1451\n",
      "Epoch 141/1000\n",
      "Train MSE: 78.6749, Train MAE: 5.6619\n"
     ]
    },
    {
     "name": "stderr",
     "output_type": "stream",
     "text": [
      " 14%|█▍        | 141/1000 [06:34<39:49,  2.78s/it]"
     ]
    },
    {
     "name": "stdout",
     "output_type": "stream",
     "text": [
      "Test MSE: 76.8038, Test MAE: 5.7269, Test R2: 0.0607\n",
      "Epoch 142/1000\n",
      "Train MSE: 81.6678, Train MAE: 5.7372\n"
     ]
    },
    {
     "name": "stderr",
     "output_type": "stream",
     "text": [
      " 14%|█▍        | 142/1000 [06:37<40:00,  2.80s/it]"
     ]
    },
    {
     "name": "stdout",
     "output_type": "stream",
     "text": [
      "Test MSE: 78.9541, Test MAE: 5.8256, Test R2: -0.8171\n",
      "Epoch 143/1000\n",
      "Train MSE: 78.1849, Train MAE: 5.6687\n"
     ]
    },
    {
     "name": "stderr",
     "output_type": "stream",
     "text": [
      " 14%|█▍        | 143/1000 [06:40<40:04,  2.81s/it]"
     ]
    },
    {
     "name": "stdout",
     "output_type": "stream",
     "text": [
      "Test MSE: 77.7111, Test MAE: 5.7502, Test R2: -0.0180\n",
      "Epoch 144/1000\n",
      "Train MSE: 79.8433, Train MAE: 5.6978\n"
     ]
    },
    {
     "name": "stderr",
     "output_type": "stream",
     "text": [
      " 14%|█▍        | 144/1000 [06:43<39:35,  2.78s/it]"
     ]
    },
    {
     "name": "stdout",
     "output_type": "stream",
     "text": [
      "Test MSE: 76.1610, Test MAE: 5.7712, Test R2: -0.1735\n",
      "Epoch 145/1000\n",
      "Train MSE: 77.4097, Train MAE: 5.6065\n"
     ]
    },
    {
     "name": "stderr",
     "output_type": "stream",
     "text": [
      " 14%|█▍        | 145/1000 [06:45<39:14,  2.75s/it]"
     ]
    },
    {
     "name": "stdout",
     "output_type": "stream",
     "text": [
      "Test MSE: 72.3569, Test MAE: 5.6378, Test R2: 0.0057\n",
      "Epoch 146/1000\n",
      "Train MSE: 80.3289, Train MAE: 5.6707\n"
     ]
    },
    {
     "name": "stderr",
     "output_type": "stream",
     "text": [
      " 15%|█▍        | 146/1000 [06:48<39:04,  2.75s/it]"
     ]
    },
    {
     "name": "stdout",
     "output_type": "stream",
     "text": [
      "Test MSE: 81.5891, Test MAE: 5.9082, Test R2: -0.1756\n",
      "Epoch 147/1000\n",
      "Train MSE: 78.3228, Train MAE: 5.6524\n"
     ]
    },
    {
     "name": "stderr",
     "output_type": "stream",
     "text": [
      " 15%|█▍        | 147/1000 [06:51<39:00,  2.74s/it]"
     ]
    },
    {
     "name": "stdout",
     "output_type": "stream",
     "text": [
      "Test MSE: 74.0731, Test MAE: 5.6506, Test R2: -0.1099\n",
      "Epoch 148/1000\n",
      "Train MSE: 80.1667, Train MAE: 5.6608\n"
     ]
    },
    {
     "name": "stderr",
     "output_type": "stream",
     "text": [
      " 15%|█▍        | 148/1000 [06:54<38:52,  2.74s/it]"
     ]
    },
    {
     "name": "stdout",
     "output_type": "stream",
     "text": [
      "Test MSE: 78.4462, Test MAE: 5.8225, Test R2: -0.3641\n",
      "Epoch 149/1000\n",
      "Train MSE: 79.3268, Train MAE: 5.6298\n"
     ]
    },
    {
     "name": "stderr",
     "output_type": "stream",
     "text": [
      " 15%|█▍        | 149/1000 [06:56<38:49,  2.74s/it]"
     ]
    },
    {
     "name": "stdout",
     "output_type": "stream",
     "text": [
      "Test MSE: 74.7253, Test MAE: 5.6813, Test R2: -0.5779\n",
      "Epoch 150/1000\n",
      "Train MSE: 78.6835, Train MAE: 5.6662\n"
     ]
    },
    {
     "name": "stderr",
     "output_type": "stream",
     "text": [
      " 15%|█▌        | 150/1000 [06:59<39:12,  2.77s/it]"
     ]
    },
    {
     "name": "stdout",
     "output_type": "stream",
     "text": [
      "Test MSE: 76.0600, Test MAE: 5.7211, Test R2: -0.1541\n",
      "Epoch 151/1000\n",
      "Train MSE: 78.1573, Train MAE: 5.6325\n"
     ]
    },
    {
     "name": "stderr",
     "output_type": "stream",
     "text": [
      " 15%|█▌        | 151/1000 [07:02<39:23,  2.78s/it]"
     ]
    },
    {
     "name": "stdout",
     "output_type": "stream",
     "text": [
      "Test MSE: 80.1891, Test MAE: 5.8047, Test R2: -0.1990\n",
      "Epoch 152/1000\n",
      "Train MSE: 79.9652, Train MAE: 5.6716\n"
     ]
    },
    {
     "name": "stderr",
     "output_type": "stream",
     "text": [
      " 15%|█▌        | 152/1000 [07:05<39:29,  2.79s/it]"
     ]
    },
    {
     "name": "stdout",
     "output_type": "stream",
     "text": [
      "Test MSE: 77.3172, Test MAE: 5.7307, Test R2: -0.4058\n",
      "Epoch 153/1000\n",
      "Train MSE: 78.3275, Train MAE: 5.6005\n"
     ]
    },
    {
     "name": "stderr",
     "output_type": "stream",
     "text": [
      " 15%|█▌        | 153/1000 [07:08<39:35,  2.80s/it]"
     ]
    },
    {
     "name": "stdout",
     "output_type": "stream",
     "text": [
      "Test MSE: 78.5339, Test MAE: 5.7266, Test R2: -0.0519\n",
      "Epoch 154/1000\n",
      "Train MSE: 77.4789, Train MAE: 5.6111\n"
     ]
    },
    {
     "name": "stderr",
     "output_type": "stream",
     "text": [
      " 15%|█▌        | 154/1000 [07:11<39:32,  2.80s/it]"
     ]
    },
    {
     "name": "stdout",
     "output_type": "stream",
     "text": [
      "Test MSE: 84.6740, Test MAE: 5.8647, Test R2: -0.2528\n",
      "Epoch 155/1000\n",
      "Train MSE: 78.5001, Train MAE: 5.6501\n"
     ]
    },
    {
     "name": "stderr",
     "output_type": "stream",
     "text": [
      " 16%|█▌        | 155/1000 [07:13<39:50,  2.83s/it]"
     ]
    },
    {
     "name": "stdout",
     "output_type": "stream",
     "text": [
      "Test MSE: 82.5645, Test MAE: 5.8666, Test R2: -0.0579\n",
      "Epoch 156/1000\n",
      "Train MSE: 78.3646, Train MAE: 5.6433\n"
     ]
    },
    {
     "name": "stderr",
     "output_type": "stream",
     "text": [
      " 16%|█▌        | 156/1000 [07:16<39:39,  2.82s/it]"
     ]
    },
    {
     "name": "stdout",
     "output_type": "stream",
     "text": [
      "Test MSE: 75.6481, Test MAE: 5.7202, Test R2: -0.0258\n",
      "Epoch 157/1000\n",
      "Train MSE: 78.3160, Train MAE: 5.6055\n"
     ]
    },
    {
     "name": "stderr",
     "output_type": "stream",
     "text": [
      " 16%|█▌        | 157/1000 [07:19<39:07,  2.79s/it]"
     ]
    },
    {
     "name": "stdout",
     "output_type": "stream",
     "text": [
      "Test MSE: 78.1525, Test MAE: 5.7473, Test R2: 0.1680\n",
      "Epoch 158/1000\n",
      "Train MSE: 80.9045, Train MAE: 5.6484\n"
     ]
    },
    {
     "name": "stderr",
     "output_type": "stream",
     "text": [
      " 16%|█▌        | 158/1000 [07:22<38:47,  2.76s/it]"
     ]
    },
    {
     "name": "stdout",
     "output_type": "stream",
     "text": [
      "Test MSE: 78.4029, Test MAE: 5.7298, Test R2: 0.0106\n",
      "Epoch 159/1000\n",
      "Train MSE: 80.5174, Train MAE: 5.6325\n"
     ]
    },
    {
     "name": "stderr",
     "output_type": "stream",
     "text": [
      " 16%|█▌        | 159/1000 [07:24<38:29,  2.75s/it]"
     ]
    },
    {
     "name": "stdout",
     "output_type": "stream",
     "text": [
      "Test MSE: 75.5652, Test MAE: 5.6812, Test R2: -0.1166\n",
      "Epoch 160/1000\n",
      "Train MSE: 78.1432, Train MAE: 5.6028\n"
     ]
    },
    {
     "name": "stderr",
     "output_type": "stream",
     "text": [
      " 16%|█▌        | 160/1000 [07:27<38:17,  2.74s/it]"
     ]
    },
    {
     "name": "stdout",
     "output_type": "stream",
     "text": [
      "Test MSE: 75.8569, Test MAE: 5.7374, Test R2: -0.1216\n",
      "Epoch 161/1000\n",
      "Train MSE: 76.1149, Train MAE: 5.5556\n"
     ]
    },
    {
     "name": "stderr",
     "output_type": "stream",
     "text": [
      " 16%|█▌        | 161/1000 [07:30<38:09,  2.73s/it]"
     ]
    },
    {
     "name": "stdout",
     "output_type": "stream",
     "text": [
      "Test MSE: 81.6548, Test MAE: 5.7982, Test R2: -0.1620\n",
      "Epoch 162/1000\n",
      "Train MSE: 77.9205, Train MAE: 5.6446\n"
     ]
    },
    {
     "name": "stderr",
     "output_type": "stream",
     "text": [
      " 16%|█▌        | 162/1000 [07:33<38:18,  2.74s/it]"
     ]
    },
    {
     "name": "stdout",
     "output_type": "stream",
     "text": [
      "Test MSE: 80.1220, Test MAE: 5.7728, Test R2: 0.1506\n",
      "Epoch 163/1000\n",
      "Train MSE: 76.0574, Train MAE: 5.5517\n"
     ]
    },
    {
     "name": "stderr",
     "output_type": "stream",
     "text": [
      " 16%|█▋        | 163/1000 [07:35<38:33,  2.76s/it]"
     ]
    },
    {
     "name": "stdout",
     "output_type": "stream",
     "text": [
      "Test MSE: 86.5045, Test MAE: 5.9551, Test R2: -0.3744\n",
      "Epoch 164/1000\n",
      "Train MSE: 76.8277, Train MAE: 5.5828\n"
     ]
    },
    {
     "name": "stderr",
     "output_type": "stream",
     "text": [
      " 16%|█▋        | 164/1000 [07:38<38:42,  2.78s/it]"
     ]
    },
    {
     "name": "stdout",
     "output_type": "stream",
     "text": [
      "Test MSE: 74.7396, Test MAE: 5.7205, Test R2: -0.2426\n",
      "Epoch 165/1000\n",
      "Train MSE: 78.1081, Train MAE: 5.5858\n"
     ]
    },
    {
     "name": "stderr",
     "output_type": "stream",
     "text": [
      " 16%|█▋        | 165/1000 [07:41<38:46,  2.79s/it]"
     ]
    },
    {
     "name": "stdout",
     "output_type": "stream",
     "text": [
      "Test MSE: 75.1664, Test MAE: 5.6931, Test R2: -0.0323\n",
      "Epoch 166/1000\n",
      "Train MSE: 77.0033, Train MAE: 5.5737\n"
     ]
    },
    {
     "name": "stderr",
     "output_type": "stream",
     "text": [
      " 17%|█▋        | 166/1000 [07:44<38:46,  2.79s/it]"
     ]
    },
    {
     "name": "stdout",
     "output_type": "stream",
     "text": [
      "Test MSE: 80.1001, Test MAE: 5.7758, Test R2: -0.4067\n",
      "Epoch 167/1000\n",
      "Train MSE: 75.1954, Train MAE: 5.5554\n"
     ]
    },
    {
     "name": "stderr",
     "output_type": "stream",
     "text": [
      " 17%|█▋        | 167/1000 [07:47<38:41,  2.79s/it]"
     ]
    },
    {
     "name": "stdout",
     "output_type": "stream",
     "text": [
      "Test MSE: 75.0334, Test MAE: 5.7118, Test R2: -0.1654\n",
      "Epoch 168/1000\n",
      "Train MSE: 78.2488, Train MAE: 5.6153\n"
     ]
    },
    {
     "name": "stderr",
     "output_type": "stream",
     "text": [
      " 17%|█▋        | 168/1000 [07:49<38:42,  2.79s/it]"
     ]
    },
    {
     "name": "stdout",
     "output_type": "stream",
     "text": [
      "Test MSE: 79.2884, Test MAE: 5.7726, Test R2: -0.1805\n",
      "Epoch 169/1000\n",
      "Train MSE: 77.3492, Train MAE: 5.6098\n"
     ]
    },
    {
     "name": "stderr",
     "output_type": "stream",
     "text": [
      " 17%|█▋        | 169/1000 [07:52<38:42,  2.79s/it]"
     ]
    },
    {
     "name": "stdout",
     "output_type": "stream",
     "text": [
      "Test MSE: 73.5485, Test MAE: 5.6729, Test R2: -0.1586\n",
      "Epoch 170/1000\n",
      "Train MSE: 77.4032, Train MAE: 5.6280\n"
     ]
    },
    {
     "name": "stderr",
     "output_type": "stream",
     "text": [
      " 17%|█▋        | 170/1000 [07:55<38:45,  2.80s/it]"
     ]
    },
    {
     "name": "stdout",
     "output_type": "stream",
     "text": [
      "Test MSE: 75.7898, Test MAE: 5.7098, Test R2: -0.2151\n",
      "Epoch 171/1000\n",
      "Train MSE: 76.1554, Train MAE: 5.5258\n"
     ]
    },
    {
     "name": "stderr",
     "output_type": "stream",
     "text": [
      " 17%|█▋        | 171/1000 [07:58<38:42,  2.80s/it]"
     ]
    },
    {
     "name": "stdout",
     "output_type": "stream",
     "text": [
      "Test MSE: 76.0519, Test MAE: 5.6375, Test R2: -0.0121\n",
      "Epoch 172/1000\n",
      "Train MSE: 77.2080, Train MAE: 5.5730\n"
     ]
    },
    {
     "name": "stderr",
     "output_type": "stream",
     "text": [
      " 17%|█▋        | 172/1000 [08:01<38:41,  2.80s/it]"
     ]
    },
    {
     "name": "stdout",
     "output_type": "stream",
     "text": [
      "Test MSE: 74.6232, Test MAE: 5.6961, Test R2: -0.1045\n",
      "Epoch 173/1000\n",
      "Train MSE: 77.8256, Train MAE: 5.5930\n"
     ]
    },
    {
     "name": "stderr",
     "output_type": "stream",
     "text": [
      " 17%|█▋        | 173/1000 [08:03<38:44,  2.81s/it]"
     ]
    },
    {
     "name": "stdout",
     "output_type": "stream",
     "text": [
      "Test MSE: 78.9853, Test MAE: 5.7433, Test R2: 0.0973\n",
      "Epoch 174/1000\n",
      "Train MSE: 76.8775, Train MAE: 5.5708\n"
     ]
    },
    {
     "name": "stderr",
     "output_type": "stream",
     "text": [
      " 17%|█▋        | 174/1000 [08:06<38:45,  2.82s/it]"
     ]
    },
    {
     "name": "stdout",
     "output_type": "stream",
     "text": [
      "Test MSE: 73.2622, Test MAE: 5.6225, Test R2: -0.1178\n",
      "Epoch 175/1000\n",
      "Train MSE: 76.8954, Train MAE: 5.6132\n"
     ]
    },
    {
     "name": "stderr",
     "output_type": "stream",
     "text": [
      " 18%|█▊        | 175/1000 [08:09<38:41,  2.81s/it]"
     ]
    },
    {
     "name": "stdout",
     "output_type": "stream",
     "text": [
      "Test MSE: 77.8388, Test MAE: 5.7198, Test R2: 0.0142\n",
      "Epoch 176/1000\n",
      "Train MSE: 77.0315, Train MAE: 5.5706\n"
     ]
    },
    {
     "name": "stderr",
     "output_type": "stream",
     "text": [
      " 18%|█▊        | 176/1000 [08:12<38:38,  2.81s/it]"
     ]
    },
    {
     "name": "stdout",
     "output_type": "stream",
     "text": [
      "Test MSE: 78.0492, Test MAE: 5.7093, Test R2: -0.0516\n",
      "Epoch 177/1000\n",
      "Train MSE: 76.5524, Train MAE: 5.5656\n"
     ]
    },
    {
     "name": "stderr",
     "output_type": "stream",
     "text": [
      " 18%|█▊        | 177/1000 [08:15<38:36,  2.81s/it]"
     ]
    },
    {
     "name": "stdout",
     "output_type": "stream",
     "text": [
      "Test MSE: 80.7061, Test MAE: 5.7928, Test R2: 0.0057\n",
      "Epoch 178/1000\n",
      "Train MSE: 76.2551, Train MAE: 5.5617\n"
     ]
    },
    {
     "name": "stderr",
     "output_type": "stream",
     "text": [
      " 18%|█▊        | 178/1000 [08:17<38:34,  2.82s/it]"
     ]
    },
    {
     "name": "stdout",
     "output_type": "stream",
     "text": [
      "Test MSE: 82.4194, Test MAE: 5.8781, Test R2: -0.6603\n",
      "Epoch 179/1000\n",
      "Train MSE: 77.2397, Train MAE: 5.5805\n"
     ]
    },
    {
     "name": "stderr",
     "output_type": "stream",
     "text": [
      " 18%|█▊        | 179/1000 [08:20<38:27,  2.81s/it]"
     ]
    },
    {
     "name": "stdout",
     "output_type": "stream",
     "text": [
      "Test MSE: 75.0677, Test MAE: 5.7212, Test R2: -0.6391\n",
      "Epoch 180/1000\n",
      "Train MSE: 77.2822, Train MAE: 5.5885\n"
     ]
    },
    {
     "name": "stderr",
     "output_type": "stream",
     "text": [
      " 18%|█▊        | 180/1000 [08:23<38:24,  2.81s/it]"
     ]
    },
    {
     "name": "stdout",
     "output_type": "stream",
     "text": [
      "Test MSE: 78.9118, Test MAE: 5.7766, Test R2: -0.1617\n",
      "Epoch 181/1000\n",
      "Train MSE: 76.9767, Train MAE: 5.6107\n"
     ]
    },
    {
     "name": "stderr",
     "output_type": "stream",
     "text": [
      " 18%|█▊        | 181/1000 [08:26<38:26,  2.82s/it]"
     ]
    },
    {
     "name": "stdout",
     "output_type": "stream",
     "text": [
      "Test MSE: 84.8224, Test MAE: 5.8576, Test R2: -0.3244\n",
      "Epoch 182/1000\n",
      "Train MSE: 73.8817, Train MAE: 5.5124\n"
     ]
    },
    {
     "name": "stderr",
     "output_type": "stream",
     "text": [
      " 18%|█▊        | 182/1000 [08:29<38:26,  2.82s/it]"
     ]
    },
    {
     "name": "stdout",
     "output_type": "stream",
     "text": [
      "Test MSE: 78.4126, Test MAE: 5.7388, Test R2: -0.1007\n",
      "Epoch 183/1000\n",
      "Train MSE: 75.8861, Train MAE: 5.5391\n"
     ]
    },
    {
     "name": "stderr",
     "output_type": "stream",
     "text": [
      " 18%|█▊        | 183/1000 [08:32<38:25,  2.82s/it]"
     ]
    },
    {
     "name": "stdout",
     "output_type": "stream",
     "text": [
      "Test MSE: 75.4574, Test MAE: 5.6775, Test R2: -0.3140\n",
      "Epoch 184/1000\n",
      "Train MSE: 77.7341, Train MAE: 5.5853\n"
     ]
    },
    {
     "name": "stderr",
     "output_type": "stream",
     "text": [
      " 18%|█▊        | 184/1000 [08:34<38:17,  2.82s/it]"
     ]
    },
    {
     "name": "stdout",
     "output_type": "stream",
     "text": [
      "Test MSE: 72.4128, Test MAE: 5.6464, Test R2: -0.3369\n",
      "Epoch 185/1000\n",
      "Train MSE: 77.9324, Train MAE: 5.5454\n"
     ]
    },
    {
     "name": "stderr",
     "output_type": "stream",
     "text": [
      " 18%|█▊        | 185/1000 [08:37<38:10,  2.81s/it]"
     ]
    },
    {
     "name": "stdout",
     "output_type": "stream",
     "text": [
      "Test MSE: 74.8403, Test MAE: 5.7089, Test R2: -0.1478\n",
      "Epoch 186/1000\n",
      "Train MSE: 76.3979, Train MAE: 5.5026\n"
     ]
    },
    {
     "name": "stderr",
     "output_type": "stream",
     "text": [
      " 19%|█▊        | 186/1000 [08:40<38:01,  2.80s/it]"
     ]
    },
    {
     "name": "stdout",
     "output_type": "stream",
     "text": [
      "Test MSE: 71.3833, Test MAE: 5.6331, Test R2: 0.0325\n",
      "Epoch 187/1000\n",
      "Train MSE: 74.6040, Train MAE: 5.5224\n"
     ]
    },
    {
     "name": "stderr",
     "output_type": "stream",
     "text": [
      " 19%|█▊        | 187/1000 [08:43<38:07,  2.81s/it]"
     ]
    },
    {
     "name": "stdout",
     "output_type": "stream",
     "text": [
      "Test MSE: 77.8948, Test MAE: 5.7493, Test R2: -0.0096\n",
      "Epoch 188/1000\n",
      "Train MSE: 77.4103, Train MAE: 5.5366\n"
     ]
    },
    {
     "name": "stderr",
     "output_type": "stream",
     "text": [
      " 19%|█▉        | 188/1000 [08:46<38:02,  2.81s/it]"
     ]
    },
    {
     "name": "stdout",
     "output_type": "stream",
     "text": [
      "Test MSE: 72.2035, Test MAE: 5.6259, Test R2: -0.0097\n",
      "Epoch 189/1000\n",
      "Train MSE: 78.3758, Train MAE: 5.5990\n"
     ]
    },
    {
     "name": "stderr",
     "output_type": "stream",
     "text": [
      " 19%|█▉        | 189/1000 [08:48<38:00,  2.81s/it]"
     ]
    },
    {
     "name": "stdout",
     "output_type": "stream",
     "text": [
      "Test MSE: 76.4796, Test MAE: 5.7045, Test R2: -0.2003\n",
      "Epoch 190/1000\n",
      "Train MSE: 77.3975, Train MAE: 5.6070\n"
     ]
    },
    {
     "name": "stderr",
     "output_type": "stream",
     "text": [
      " 19%|█▉        | 190/1000 [08:51<37:57,  2.81s/it]"
     ]
    },
    {
     "name": "stdout",
     "output_type": "stream",
     "text": [
      "Test MSE: 74.1826, Test MAE: 5.6299, Test R2: -0.2279\n",
      "Epoch 191/1000\n",
      "Train MSE: 73.7310, Train MAE: 5.5072\n"
     ]
    },
    {
     "name": "stderr",
     "output_type": "stream",
     "text": [
      " 19%|█▉        | 191/1000 [08:54<37:51,  2.81s/it]"
     ]
    },
    {
     "name": "stdout",
     "output_type": "stream",
     "text": [
      "Test MSE: 74.0788, Test MAE: 5.6036, Test R2: -0.1111\n",
      "Epoch 192/1000\n",
      "Train MSE: 75.7192, Train MAE: 5.5866\n"
     ]
    },
    {
     "name": "stderr",
     "output_type": "stream",
     "text": [
      " 19%|█▉        | 192/1000 [08:57<37:50,  2.81s/it]"
     ]
    },
    {
     "name": "stdout",
     "output_type": "stream",
     "text": [
      "Test MSE: 80.0169, Test MAE: 5.8371, Test R2: -0.3072\n",
      "Epoch 193/1000\n",
      "Train MSE: 78.5276, Train MAE: 5.6105\n"
     ]
    },
    {
     "name": "stderr",
     "output_type": "stream",
     "text": [
      " 19%|█▉        | 193/1000 [09:00<37:41,  2.80s/it]"
     ]
    },
    {
     "name": "stdout",
     "output_type": "stream",
     "text": [
      "Test MSE: 75.9834, Test MAE: 5.6639, Test R2: 0.1003\n",
      "Epoch 194/1000\n",
      "Train MSE: 77.0233, Train MAE: 5.5433\n"
     ]
    },
    {
     "name": "stderr",
     "output_type": "stream",
     "text": [
      " 19%|█▉        | 194/1000 [09:02<37:31,  2.79s/it]"
     ]
    },
    {
     "name": "stdout",
     "output_type": "stream",
     "text": [
      "Test MSE: 74.9987, Test MAE: 5.6309, Test R2: 0.0312\n",
      "Epoch 195/1000\n",
      "Train MSE: 75.8900, Train MAE: 5.5365\n"
     ]
    },
    {
     "name": "stderr",
     "output_type": "stream",
     "text": [
      " 20%|█▉        | 195/1000 [09:05<37:32,  2.80s/it]"
     ]
    },
    {
     "name": "stdout",
     "output_type": "stream",
     "text": [
      "Test MSE: 78.9931, Test MAE: 5.7627, Test R2: 0.0204\n",
      "Epoch 196/1000\n",
      "Train MSE: 76.9094, Train MAE: 5.5465\n"
     ]
    },
    {
     "name": "stderr",
     "output_type": "stream",
     "text": [
      " 20%|█▉        | 196/1000 [09:08<37:35,  2.81s/it]"
     ]
    },
    {
     "name": "stdout",
     "output_type": "stream",
     "text": [
      "Test MSE: 82.1201, Test MAE: 5.7638, Test R2: 0.0193\n",
      "Epoch 197/1000\n",
      "Train MSE: 74.9985, Train MAE: 5.5021\n"
     ]
    },
    {
     "name": "stderr",
     "output_type": "stream",
     "text": [
      " 20%|█▉        | 197/1000 [09:11<37:37,  2.81s/it]"
     ]
    },
    {
     "name": "stdout",
     "output_type": "stream",
     "text": [
      "Test MSE: 73.6539, Test MAE: 5.6338, Test R2: 0.0162\n",
      "Epoch 198/1000\n",
      "Train MSE: 75.9826, Train MAE: 5.5749\n"
     ]
    },
    {
     "name": "stderr",
     "output_type": "stream",
     "text": [
      " 20%|█▉        | 198/1000 [09:14<37:30,  2.81s/it]"
     ]
    },
    {
     "name": "stdout",
     "output_type": "stream",
     "text": [
      "Test MSE: 74.7879, Test MAE: 5.6100, Test R2: 0.0653\n",
      "Epoch 199/1000\n",
      "Train MSE: 76.3728, Train MAE: 5.5511\n"
     ]
    },
    {
     "name": "stderr",
     "output_type": "stream",
     "text": [
      " 20%|█▉        | 199/1000 [09:16<37:24,  2.80s/it]"
     ]
    },
    {
     "name": "stdout",
     "output_type": "stream",
     "text": [
      "Test MSE: 72.5780, Test MAE: 5.6160, Test R2: -0.0573\n",
      "Epoch 200/1000\n",
      "Train MSE: 75.8798, Train MAE: 5.5481\n"
     ]
    },
    {
     "name": "stderr",
     "output_type": "stream",
     "text": [
      " 20%|██        | 200/1000 [09:19<37:19,  2.80s/it]"
     ]
    },
    {
     "name": "stdout",
     "output_type": "stream",
     "text": [
      "Test MSE: 76.1091, Test MAE: 5.6945, Test R2: 0.1816\n",
      "Epoch 201/1000\n",
      "Train MSE: 74.7221, Train MAE: 5.5039\n"
     ]
    },
    {
     "name": "stderr",
     "output_type": "stream",
     "text": [
      " 20%|██        | 201/1000 [09:22<37:11,  2.79s/it]"
     ]
    },
    {
     "name": "stdout",
     "output_type": "stream",
     "text": [
      "Test MSE: 75.4589, Test MAE: 5.6955, Test R2: 0.1859\n",
      "Epoch 202/1000\n",
      "Train MSE: 76.9513, Train MAE: 5.5723\n"
     ]
    },
    {
     "name": "stderr",
     "output_type": "stream",
     "text": [
      " 20%|██        | 202/1000 [09:25<37:05,  2.79s/it]"
     ]
    },
    {
     "name": "stdout",
     "output_type": "stream",
     "text": [
      "Test MSE: 76.1478, Test MAE: 5.6627, Test R2: 0.1671\n",
      "Epoch 203/1000\n",
      "Train MSE: 75.8039, Train MAE: 5.5290\n"
     ]
    },
    {
     "name": "stderr",
     "output_type": "stream",
     "text": [
      " 20%|██        | 203/1000 [09:28<36:57,  2.78s/it]"
     ]
    },
    {
     "name": "stdout",
     "output_type": "stream",
     "text": [
      "Test MSE: 75.5513, Test MAE: 5.6519, Test R2: 0.0953\n",
      "Epoch 204/1000\n",
      "Train MSE: 74.9719, Train MAE: 5.4931\n"
     ]
    },
    {
     "name": "stderr",
     "output_type": "stream",
     "text": [
      " 20%|██        | 204/1000 [09:30<36:53,  2.78s/it]"
     ]
    },
    {
     "name": "stdout",
     "output_type": "stream",
     "text": [
      "Test MSE: 72.9841, Test MAE: 5.6611, Test R2: 0.1062\n",
      "Epoch 205/1000\n",
      "Train MSE: 75.5732, Train MAE: 5.4951\n"
     ]
    },
    {
     "name": "stderr",
     "output_type": "stream",
     "text": [
      " 20%|██        | 205/1000 [09:33<36:49,  2.78s/it]"
     ]
    },
    {
     "name": "stdout",
     "output_type": "stream",
     "text": [
      "Test MSE: 77.8450, Test MAE: 5.7343, Test R2: -0.0504\n",
      "Epoch 206/1000\n",
      "Train MSE: 75.4152, Train MAE: 5.5106\n"
     ]
    },
    {
     "name": "stderr",
     "output_type": "stream",
     "text": [
      " 21%|██        | 206/1000 [09:36<36:49,  2.78s/it]"
     ]
    },
    {
     "name": "stdout",
     "output_type": "stream",
     "text": [
      "Test MSE: 76.9742, Test MAE: 5.7122, Test R2: 0.0461\n",
      "Epoch 207/1000\n",
      "Train MSE: 75.4319, Train MAE: 5.5134\n"
     ]
    },
    {
     "name": "stderr",
     "output_type": "stream",
     "text": [
      " 21%|██        | 207/1000 [09:39<36:46,  2.78s/it]"
     ]
    },
    {
     "name": "stdout",
     "output_type": "stream",
     "text": [
      "Test MSE: 69.6925, Test MAE: 5.5563, Test R2: 0.1036\n",
      "Epoch 208/1000\n",
      "Train MSE: 73.7455, Train MAE: 5.4576\n"
     ]
    },
    {
     "name": "stderr",
     "output_type": "stream",
     "text": [
      " 21%|██        | 208/1000 [09:41<36:44,  2.78s/it]"
     ]
    },
    {
     "name": "stdout",
     "output_type": "stream",
     "text": [
      "Test MSE: 74.2056, Test MAE: 5.6117, Test R2: 0.0562\n",
      "Epoch 209/1000\n",
      "Train MSE: 73.1172, Train MAE: 5.4707\n"
     ]
    },
    {
     "name": "stderr",
     "output_type": "stream",
     "text": [
      " 21%|██        | 209/1000 [09:44<36:40,  2.78s/it]"
     ]
    },
    {
     "name": "stdout",
     "output_type": "stream",
     "text": [
      "Test MSE: 76.6232, Test MAE: 5.6941, Test R2: 0.0428\n",
      "Epoch 210/1000\n",
      "Train MSE: 75.5482, Train MAE: 5.5219\n"
     ]
    },
    {
     "name": "stderr",
     "output_type": "stream",
     "text": [
      " 21%|██        | 210/1000 [09:47<36:32,  2.78s/it]"
     ]
    },
    {
     "name": "stdout",
     "output_type": "stream",
     "text": [
      "Test MSE: 76.6061, Test MAE: 5.6567, Test R2: -0.1322\n",
      "Epoch 211/1000\n",
      "Train MSE: 76.7720, Train MAE: 5.5450\n"
     ]
    },
    {
     "name": "stderr",
     "output_type": "stream",
     "text": [
      " 21%|██        | 211/1000 [09:50<36:08,  2.75s/it]"
     ]
    },
    {
     "name": "stdout",
     "output_type": "stream",
     "text": [
      "Test MSE: 73.2909, Test MAE: 5.6206, Test R2: -0.0734\n",
      "Epoch 212/1000\n",
      "Train MSE: 74.9443, Train MAE: 5.5317\n"
     ]
    },
    {
     "name": "stderr",
     "output_type": "stream",
     "text": [
      " 21%|██        | 212/1000 [09:52<35:56,  2.74s/it]"
     ]
    },
    {
     "name": "stdout",
     "output_type": "stream",
     "text": [
      "Test MSE: 71.6724, Test MAE: 5.5749, Test R2: -0.2742\n",
      "Epoch 213/1000\n",
      "Train MSE: 74.9424, Train MAE: 5.4774\n"
     ]
    },
    {
     "name": "stderr",
     "output_type": "stream",
     "text": [
      " 21%|██▏       | 213/1000 [09:55<35:43,  2.72s/it]"
     ]
    },
    {
     "name": "stdout",
     "output_type": "stream",
     "text": [
      "Test MSE: 69.8809, Test MAE: 5.5007, Test R2: -0.3961\n",
      "Epoch 214/1000\n",
      "Train MSE: 75.6662, Train MAE: 5.5148\n"
     ]
    },
    {
     "name": "stderr",
     "output_type": "stream",
     "text": [
      " 21%|██▏       | 214/1000 [09:58<35:35,  2.72s/it]"
     ]
    },
    {
     "name": "stdout",
     "output_type": "stream",
     "text": [
      "Test MSE: 80.9086, Test MAE: 5.7680, Test R2: 0.1221\n",
      "Epoch 215/1000\n",
      "Train MSE: 74.5528, Train MAE: 5.4515\n"
     ]
    },
    {
     "name": "stderr",
     "output_type": "stream",
     "text": [
      " 22%|██▏       | 215/1000 [10:01<35:34,  2.72s/it]"
     ]
    },
    {
     "name": "stdout",
     "output_type": "stream",
     "text": [
      "Test MSE: 72.2080, Test MAE: 5.6242, Test R2: -0.1071\n",
      "Epoch 216/1000\n",
      "Train MSE: 73.0915, Train MAE: 5.4349\n"
     ]
    },
    {
     "name": "stderr",
     "output_type": "stream",
     "text": [
      " 22%|██▏       | 216/1000 [10:03<35:45,  2.74s/it]"
     ]
    },
    {
     "name": "stdout",
     "output_type": "stream",
     "text": [
      "Test MSE: 77.4326, Test MAE: 5.7111, Test R2: -0.0049\n",
      "Epoch 217/1000\n",
      "Train MSE: 74.3578, Train MAE: 5.4379\n"
     ]
    },
    {
     "name": "stderr",
     "output_type": "stream",
     "text": [
      " 22%|██▏       | 217/1000 [10:06<35:28,  2.72s/it]"
     ]
    },
    {
     "name": "stdout",
     "output_type": "stream",
     "text": [
      "Test MSE: 73.8746, Test MAE: 5.6494, Test R2: -0.0180\n",
      "Epoch 218/1000\n",
      "Train MSE: 75.0588, Train MAE: 5.4849\n"
     ]
    },
    {
     "name": "stderr",
     "output_type": "stream",
     "text": [
      " 22%|██▏       | 218/1000 [10:09<35:20,  2.71s/it]"
     ]
    },
    {
     "name": "stdout",
     "output_type": "stream",
     "text": [
      "Test MSE: 73.5079, Test MAE: 5.6714, Test R2: -0.0027\n",
      "Epoch 219/1000\n",
      "Train MSE: 75.5024, Train MAE: 5.4503\n"
     ]
    },
    {
     "name": "stderr",
     "output_type": "stream",
     "text": [
      " 22%|██▏       | 219/1000 [10:11<35:13,  2.71s/it]"
     ]
    },
    {
     "name": "stdout",
     "output_type": "stream",
     "text": [
      "Test MSE: 70.8729, Test MAE: 5.5752, Test R2: 0.1614\n",
      "Epoch 220/1000\n",
      "Train MSE: 74.3408, Train MAE: 5.5106\n"
     ]
    },
    {
     "name": "stderr",
     "output_type": "stream",
     "text": [
      " 22%|██▏       | 220/1000 [10:14<35:13,  2.71s/it]"
     ]
    },
    {
     "name": "stdout",
     "output_type": "stream",
     "text": [
      "Test MSE: 75.6232, Test MAE: 5.6445, Test R2: -0.0215\n",
      "Epoch 221/1000\n",
      "Train MSE: 74.2940, Train MAE: 5.4458\n"
     ]
    },
    {
     "name": "stderr",
     "output_type": "stream",
     "text": [
      " 22%|██▏       | 221/1000 [10:17<35:09,  2.71s/it]"
     ]
    },
    {
     "name": "stdout",
     "output_type": "stream",
     "text": [
      "Test MSE: 77.9090, Test MAE: 5.6469, Test R2: 0.0180\n",
      "Epoch 222/1000\n",
      "Train MSE: 74.1955, Train MAE: 5.4694\n"
     ]
    },
    {
     "name": "stderr",
     "output_type": "stream",
     "text": [
      " 22%|██▏       | 222/1000 [10:19<35:02,  2.70s/it]"
     ]
    },
    {
     "name": "stdout",
     "output_type": "stream",
     "text": [
      "Test MSE: 73.2464, Test MAE: 5.6680, Test R2: 0.1103\n",
      "Epoch 223/1000\n",
      "Train MSE: 76.9592, Train MAE: 5.5021\n"
     ]
    },
    {
     "name": "stderr",
     "output_type": "stream",
     "text": [
      " 22%|██▏       | 223/1000 [10:22<35:01,  2.70s/it]"
     ]
    },
    {
     "name": "stdout",
     "output_type": "stream",
     "text": [
      "Test MSE: 80.0605, Test MAE: 5.7979, Test R2: 0.1835\n",
      "Epoch 224/1000\n",
      "Train MSE: 73.6621, Train MAE: 5.5002\n"
     ]
    },
    {
     "name": "stderr",
     "output_type": "stream",
     "text": [
      " 22%|██▏       | 224/1000 [10:25<34:56,  2.70s/it]"
     ]
    },
    {
     "name": "stdout",
     "output_type": "stream",
     "text": [
      "Test MSE: 75.8205, Test MAE: 5.6815, Test R2: -0.1090\n",
      "Epoch 225/1000\n",
      "Train MSE: 74.5756, Train MAE: 5.4804\n"
     ]
    },
    {
     "name": "stderr",
     "output_type": "stream",
     "text": [
      " 22%|██▎       | 225/1000 [10:28<34:57,  2.71s/it]"
     ]
    },
    {
     "name": "stdout",
     "output_type": "stream",
     "text": [
      "Test MSE: 74.7598, Test MAE: 5.6174, Test R2: -0.3450\n",
      "Epoch 226/1000\n",
      "Train MSE: 74.9597, Train MAE: 5.4767\n"
     ]
    },
    {
     "name": "stderr",
     "output_type": "stream",
     "text": [
      " 23%|██▎       | 226/1000 [10:30<34:55,  2.71s/it]"
     ]
    },
    {
     "name": "stdout",
     "output_type": "stream",
     "text": [
      "Test MSE: 74.4608, Test MAE: 5.7116, Test R2: 0.0519\n",
      "Epoch 227/1000\n",
      "Train MSE: 74.5900, Train MAE: 5.5095\n"
     ]
    },
    {
     "name": "stderr",
     "output_type": "stream",
     "text": [
      " 23%|██▎       | 227/1000 [10:33<34:53,  2.71s/it]"
     ]
    },
    {
     "name": "stdout",
     "output_type": "stream",
     "text": [
      "Test MSE: 75.8428, Test MAE: 5.6635, Test R2: 0.0469\n",
      "Epoch 228/1000\n",
      "Train MSE: 74.5518, Train MAE: 5.4255\n"
     ]
    },
    {
     "name": "stderr",
     "output_type": "stream",
     "text": [
      " 23%|██▎       | 228/1000 [10:36<34:51,  2.71s/it]"
     ]
    },
    {
     "name": "stdout",
     "output_type": "stream",
     "text": [
      "Test MSE: 75.8991, Test MAE: 5.6937, Test R2: -0.0954\n",
      "Epoch 229/1000\n",
      "Train MSE: 74.2526, Train MAE: 5.4532\n"
     ]
    },
    {
     "name": "stderr",
     "output_type": "stream",
     "text": [
      " 23%|██▎       | 229/1000 [10:38<34:44,  2.70s/it]"
     ]
    },
    {
     "name": "stdout",
     "output_type": "stream",
     "text": [
      "Test MSE: 72.5694, Test MAE: 5.5647, Test R2: 0.0107\n",
      "Epoch 230/1000\n",
      "Train MSE: 73.0081, Train MAE: 5.4168\n"
     ]
    },
    {
     "name": "stderr",
     "output_type": "stream",
     "text": [
      " 23%|██▎       | 230/1000 [10:41<34:39,  2.70s/it]"
     ]
    },
    {
     "name": "stdout",
     "output_type": "stream",
     "text": [
      "Test MSE: 74.2243, Test MAE: 5.6101, Test R2: 0.1142\n",
      "Epoch 231/1000\n",
      "Train MSE: 73.9216, Train MAE: 5.4542\n"
     ]
    },
    {
     "name": "stderr",
     "output_type": "stream",
     "text": [
      " 23%|██▎       | 231/1000 [10:44<34:37,  2.70s/it]"
     ]
    },
    {
     "name": "stdout",
     "output_type": "stream",
     "text": [
      "Test MSE: 76.4440, Test MAE: 5.6688, Test R2: -0.3642\n",
      "Epoch 232/1000\n",
      "Train MSE: 73.7813, Train MAE: 5.4389\n"
     ]
    },
    {
     "name": "stderr",
     "output_type": "stream",
     "text": [
      " 23%|██▎       | 232/1000 [10:47<34:32,  2.70s/it]"
     ]
    },
    {
     "name": "stdout",
     "output_type": "stream",
     "text": [
      "Test MSE: 73.2059, Test MAE: 5.6094, Test R2: 0.1520\n",
      "Epoch 233/1000\n",
      "Train MSE: 76.4513, Train MAE: 5.4805\n"
     ]
    },
    {
     "name": "stderr",
     "output_type": "stream",
     "text": [
      " 23%|██▎       | 233/1000 [10:49<34:26,  2.69s/it]"
     ]
    },
    {
     "name": "stdout",
     "output_type": "stream",
     "text": [
      "Test MSE: 69.2481, Test MAE: 5.5385, Test R2: -0.0049\n",
      "Epoch 234/1000\n",
      "Train MSE: 74.2544, Train MAE: 5.4235\n"
     ]
    },
    {
     "name": "stderr",
     "output_type": "stream",
     "text": [
      " 23%|██▎       | 234/1000 [10:52<34:23,  2.69s/it]"
     ]
    },
    {
     "name": "stdout",
     "output_type": "stream",
     "text": [
      "Test MSE: 82.7936, Test MAE: 5.7737, Test R2: 0.0065\n",
      "Epoch 235/1000\n",
      "Train MSE: 75.1726, Train MAE: 5.4785\n"
     ]
    },
    {
     "name": "stderr",
     "output_type": "stream",
     "text": [
      " 24%|██▎       | 235/1000 [10:55<34:18,  2.69s/it]"
     ]
    },
    {
     "name": "stdout",
     "output_type": "stream",
     "text": [
      "Test MSE: 72.1828, Test MAE: 5.5524, Test R2: 0.1413\n",
      "Epoch 236/1000\n",
      "Train MSE: 75.8603, Train MAE: 5.4978\n"
     ]
    },
    {
     "name": "stderr",
     "output_type": "stream",
     "text": [
      " 24%|██▎       | 236/1000 [10:57<34:15,  2.69s/it]"
     ]
    },
    {
     "name": "stdout",
     "output_type": "stream",
     "text": [
      "Test MSE: 74.0231, Test MAE: 5.6880, Test R2: -0.0129\n",
      "Epoch 237/1000\n",
      "Train MSE: 74.0017, Train MAE: 5.4589\n"
     ]
    },
    {
     "name": "stderr",
     "output_type": "stream",
     "text": [
      " 24%|██▎       | 237/1000 [11:00<34:10,  2.69s/it]"
     ]
    },
    {
     "name": "stdout",
     "output_type": "stream",
     "text": [
      "Test MSE: 77.0981, Test MAE: 5.6689, Test R2: 0.0326\n",
      "Epoch 238/1000\n",
      "Train MSE: 75.0792, Train MAE: 5.4513\n"
     ]
    },
    {
     "name": "stderr",
     "output_type": "stream",
     "text": [
      " 24%|██▍       | 238/1000 [11:03<34:06,  2.69s/it]"
     ]
    },
    {
     "name": "stdout",
     "output_type": "stream",
     "text": [
      "Test MSE: 72.8397, Test MAE: 5.5526, Test R2: 0.0302\n",
      "Epoch 239/1000\n",
      "Train MSE: 73.0334, Train MAE: 5.4157\n"
     ]
    },
    {
     "name": "stderr",
     "output_type": "stream",
     "text": [
      " 24%|██▍       | 239/1000 [11:05<33:59,  2.68s/it]"
     ]
    },
    {
     "name": "stdout",
     "output_type": "stream",
     "text": [
      "Test MSE: 80.2516, Test MAE: 5.7555, Test R2: 0.0472\n",
      "Epoch 240/1000\n",
      "Train MSE: 74.0259, Train MAE: 5.4646\n"
     ]
    },
    {
     "name": "stderr",
     "output_type": "stream",
     "text": [
      " 24%|██▍       | 240/1000 [11:08<33:48,  2.67s/it]"
     ]
    },
    {
     "name": "stdout",
     "output_type": "stream",
     "text": [
      "Test MSE: 77.1653, Test MAE: 5.6918, Test R2: -0.0407\n",
      "Epoch 241/1000\n",
      "Train MSE: 73.6690, Train MAE: 5.4203\n"
     ]
    },
    {
     "name": "stderr",
     "output_type": "stream",
     "text": [
      " 24%|██▍       | 241/1000 [11:11<33:44,  2.67s/it]"
     ]
    },
    {
     "name": "stdout",
     "output_type": "stream",
     "text": [
      "Test MSE: 75.3294, Test MAE: 5.6483, Test R2: 0.0371\n",
      "Epoch 242/1000\n",
      "Train MSE: 72.7478, Train MAE: 5.4038\n"
     ]
    },
    {
     "name": "stderr",
     "output_type": "stream",
     "text": [
      " 24%|██▍       | 242/1000 [11:13<33:42,  2.67s/it]"
     ]
    },
    {
     "name": "stdout",
     "output_type": "stream",
     "text": [
      "Test MSE: 76.1345, Test MAE: 5.6413, Test R2: -0.0250\n",
      "Epoch 243/1000\n",
      "Train MSE: 72.5304, Train MAE: 5.4216\n"
     ]
    },
    {
     "name": "stderr",
     "output_type": "stream",
     "text": [
      " 24%|██▍       | 243/1000 [11:16<33:45,  2.68s/it]"
     ]
    },
    {
     "name": "stdout",
     "output_type": "stream",
     "text": [
      "Test MSE: 78.8653, Test MAE: 5.7000, Test R2: -0.0603\n",
      "Epoch 244/1000\n",
      "Train MSE: 73.3286, Train MAE: 5.4402\n"
     ]
    },
    {
     "name": "stderr",
     "output_type": "stream",
     "text": [
      " 24%|██▍       | 244/1000 [11:19<33:45,  2.68s/it]"
     ]
    },
    {
     "name": "stdout",
     "output_type": "stream",
     "text": [
      "Test MSE: 70.6114, Test MAE: 5.5096, Test R2: 0.0178\n",
      "Epoch 245/1000\n",
      "Train MSE: 72.5455, Train MAE: 5.3940\n"
     ]
    },
    {
     "name": "stderr",
     "output_type": "stream",
     "text": [
      " 24%|██▍       | 245/1000 [11:21<33:43,  2.68s/it]"
     ]
    },
    {
     "name": "stdout",
     "output_type": "stream",
     "text": [
      "Test MSE: 71.7393, Test MAE: 5.5452, Test R2: 0.0581\n",
      "Epoch 246/1000\n",
      "Train MSE: 73.0720, Train MAE: 5.4245\n"
     ]
    },
    {
     "name": "stderr",
     "output_type": "stream",
     "text": [
      " 25%|██▍       | 246/1000 [11:24<33:36,  2.67s/it]"
     ]
    },
    {
     "name": "stdout",
     "output_type": "stream",
     "text": [
      "Test MSE: 76.8786, Test MAE: 5.7209, Test R2: 0.1459\n",
      "Epoch 247/1000\n",
      "Train MSE: 74.1243, Train MAE: 5.4375\n"
     ]
    },
    {
     "name": "stderr",
     "output_type": "stream",
     "text": [
      " 25%|██▍       | 247/1000 [11:27<33:29,  2.67s/it]"
     ]
    },
    {
     "name": "stdout",
     "output_type": "stream",
     "text": [
      "Test MSE: 79.0272, Test MAE: 5.6536, Test R2: 0.0223\n",
      "Epoch 248/1000\n",
      "Train MSE: 72.5482, Train MAE: 5.4209\n"
     ]
    },
    {
     "name": "stderr",
     "output_type": "stream",
     "text": [
      " 25%|██▍       | 248/1000 [11:29<33:30,  2.67s/it]"
     ]
    },
    {
     "name": "stdout",
     "output_type": "stream",
     "text": [
      "Test MSE: 74.8261, Test MAE: 5.6200, Test R2: 0.1049\n",
      "Epoch 249/1000\n",
      "Train MSE: 72.6749, Train MAE: 5.4378\n"
     ]
    },
    {
     "name": "stderr",
     "output_type": "stream",
     "text": [
      " 25%|██▍       | 249/1000 [11:32<33:30,  2.68s/it]"
     ]
    },
    {
     "name": "stdout",
     "output_type": "stream",
     "text": [
      "Test MSE: 70.1866, Test MAE: 5.6094, Test R2: 0.1639\n",
      "Epoch 250/1000\n",
      "Train MSE: 74.4820, Train MAE: 5.4912\n"
     ]
    },
    {
     "name": "stderr",
     "output_type": "stream",
     "text": [
      " 25%|██▌       | 250/1000 [11:35<33:32,  2.68s/it]"
     ]
    },
    {
     "name": "stdout",
     "output_type": "stream",
     "text": [
      "Test MSE: 68.2286, Test MAE: 5.4865, Test R2: 0.1284\n",
      "Epoch 251/1000\n",
      "Train MSE: 73.6610, Train MAE: 5.4046\n"
     ]
    },
    {
     "name": "stderr",
     "output_type": "stream",
     "text": [
      " 25%|██▌       | 251/1000 [11:37<33:27,  2.68s/it]"
     ]
    },
    {
     "name": "stdout",
     "output_type": "stream",
     "text": [
      "Test MSE: 72.7943, Test MAE: 5.5490, Test R2: -0.0223\n",
      "Epoch 252/1000\n",
      "Train MSE: 73.3865, Train MAE: 5.4066\n"
     ]
    },
    {
     "name": "stderr",
     "output_type": "stream",
     "text": [
      " 25%|██▌       | 252/1000 [11:40<33:23,  2.68s/it]"
     ]
    },
    {
     "name": "stdout",
     "output_type": "stream",
     "text": [
      "Test MSE: 72.1645, Test MAE: 5.6216, Test R2: -0.0098\n",
      "Epoch 253/1000\n",
      "Train MSE: 74.5920, Train MAE: 5.4871\n"
     ]
    },
    {
     "name": "stderr",
     "output_type": "stream",
     "text": [
      " 25%|██▌       | 253/1000 [11:43<33:20,  2.68s/it]"
     ]
    },
    {
     "name": "stdout",
     "output_type": "stream",
     "text": [
      "Test MSE: 75.9353, Test MAE: 5.7003, Test R2: -0.0152\n",
      "Epoch 254/1000\n",
      "Train MSE: 71.7351, Train MAE: 5.3809\n"
     ]
    },
    {
     "name": "stderr",
     "output_type": "stream",
     "text": [
      " 25%|██▌       | 254/1000 [11:45<33:17,  2.68s/it]"
     ]
    },
    {
     "name": "stdout",
     "output_type": "stream",
     "text": [
      "Test MSE: 74.2600, Test MAE: 5.6564, Test R2: 0.0609\n",
      "Epoch 255/1000\n",
      "Train MSE: 75.8555, Train MAE: 5.5093\n"
     ]
    },
    {
     "name": "stderr",
     "output_type": "stream",
     "text": [
      " 26%|██▌       | 255/1000 [11:48<33:31,  2.70s/it]"
     ]
    },
    {
     "name": "stdout",
     "output_type": "stream",
     "text": [
      "Test MSE: 74.1238, Test MAE: 5.5992, Test R2: -0.0076\n",
      "Epoch 256/1000\n",
      "Train MSE: 73.1604, Train MAE: 5.4486\n"
     ]
    },
    {
     "name": "stderr",
     "output_type": "stream",
     "text": [
      " 26%|██▌       | 256/1000 [11:51<33:38,  2.71s/it]"
     ]
    },
    {
     "name": "stdout",
     "output_type": "stream",
     "text": [
      "Test MSE: 80.4245, Test MAE: 5.7484, Test R2: 0.0817\n",
      "Epoch 257/1000\n",
      "Train MSE: 72.3317, Train MAE: 5.3922\n"
     ]
    },
    {
     "name": "stderr",
     "output_type": "stream",
     "text": [
      " 26%|██▌       | 257/1000 [11:54<33:30,  2.71s/it]"
     ]
    },
    {
     "name": "stdout",
     "output_type": "stream",
     "text": [
      "Test MSE: 71.8937, Test MAE: 5.5880, Test R2: 0.0861\n",
      "Epoch 258/1000\n",
      "Train MSE: 71.9864, Train MAE: 5.3842\n"
     ]
    },
    {
     "name": "stderr",
     "output_type": "stream",
     "text": [
      " 26%|██▌       | 258/1000 [11:56<33:40,  2.72s/it]"
     ]
    },
    {
     "name": "stdout",
     "output_type": "stream",
     "text": [
      "Test MSE: 72.8273, Test MAE: 5.5764, Test R2: 0.1439\n",
      "Epoch 259/1000\n",
      "Train MSE: 73.1108, Train MAE: 5.3947\n"
     ]
    },
    {
     "name": "stderr",
     "output_type": "stream",
     "text": [
      " 26%|██▌       | 259/1000 [11:59<33:57,  2.75s/it]"
     ]
    },
    {
     "name": "stdout",
     "output_type": "stream",
     "text": [
      "Test MSE: 77.8355, Test MAE: 5.7140, Test R2: -0.1278\n",
      "Epoch 260/1000\n",
      "Train MSE: 72.3423, Train MAE: 5.4071\n"
     ]
    },
    {
     "name": "stderr",
     "output_type": "stream",
     "text": [
      " 26%|██▌       | 260/1000 [12:02<34:10,  2.77s/it]"
     ]
    },
    {
     "name": "stdout",
     "output_type": "stream",
     "text": [
      "Test MSE: 70.6549, Test MAE: 5.5222, Test R2: -0.0521\n",
      "Epoch 261/1000\n",
      "Train MSE: 73.0300, Train MAE: 5.3970\n"
     ]
    },
    {
     "name": "stderr",
     "output_type": "stream",
     "text": [
      " 26%|██▌       | 261/1000 [12:05<34:15,  2.78s/it]"
     ]
    },
    {
     "name": "stdout",
     "output_type": "stream",
     "text": [
      "Test MSE: 77.2686, Test MAE: 5.7258, Test R2: -0.1329\n",
      "Epoch 262/1000\n",
      "Train MSE: 74.2626, Train MAE: 5.4724\n"
     ]
    },
    {
     "name": "stderr",
     "output_type": "stream",
     "text": [
      " 26%|██▌       | 262/1000 [12:08<34:20,  2.79s/it]"
     ]
    },
    {
     "name": "stdout",
     "output_type": "stream",
     "text": [
      "Test MSE: 73.2201, Test MAE: 5.6735, Test R2: -0.0239\n",
      "Epoch 263/1000\n",
      "Train MSE: 75.3652, Train MAE: 5.4683\n"
     ]
    },
    {
     "name": "stderr",
     "output_type": "stream",
     "text": [
      " 26%|██▋       | 263/1000 [12:10<34:20,  2.80s/it]"
     ]
    },
    {
     "name": "stdout",
     "output_type": "stream",
     "text": [
      "Test MSE: 74.0860, Test MAE: 5.5780, Test R2: 0.1664\n",
      "Epoch 264/1000\n",
      "Train MSE: 71.9980, Train MAE: 5.3891\n"
     ]
    },
    {
     "name": "stderr",
     "output_type": "stream",
     "text": [
      " 26%|██▋       | 264/1000 [12:13<34:20,  2.80s/it]"
     ]
    },
    {
     "name": "stdout",
     "output_type": "stream",
     "text": [
      "Test MSE: 71.3504, Test MAE: 5.5626, Test R2: 0.0740\n",
      "Epoch 265/1000\n",
      "Train MSE: 73.4094, Train MAE: 5.4457\n"
     ]
    },
    {
     "name": "stderr",
     "output_type": "stream",
     "text": [
      " 26%|██▋       | 265/1000 [12:16<34:21,  2.80s/it]"
     ]
    },
    {
     "name": "stdout",
     "output_type": "stream",
     "text": [
      "Test MSE: 71.5272, Test MAE: 5.4857, Test R2: -0.1372\n",
      "Epoch 266/1000\n",
      "Train MSE: 74.1521, Train MAE: 5.4052\n"
     ]
    },
    {
     "name": "stderr",
     "output_type": "stream",
     "text": [
      " 27%|██▋       | 266/1000 [12:19<34:11,  2.80s/it]"
     ]
    },
    {
     "name": "stdout",
     "output_type": "stream",
     "text": [
      "Test MSE: 76.7543, Test MAE: 5.6377, Test R2: -0.0127\n",
      "Epoch 267/1000\n",
      "Train MSE: 71.9879, Train MAE: 5.3959\n"
     ]
    },
    {
     "name": "stderr",
     "output_type": "stream",
     "text": [
      " 27%|██▋       | 267/1000 [12:22<33:45,  2.76s/it]"
     ]
    },
    {
     "name": "stdout",
     "output_type": "stream",
     "text": [
      "Test MSE: 68.5391, Test MAE: 5.4756, Test R2: 0.1257\n",
      "Epoch 268/1000\n",
      "Train MSE: 73.8892, Train MAE: 5.3988\n"
     ]
    },
    {
     "name": "stderr",
     "output_type": "stream",
     "text": [
      " 27%|██▋       | 268/1000 [12:24<33:26,  2.74s/it]"
     ]
    },
    {
     "name": "stdout",
     "output_type": "stream",
     "text": [
      "Test MSE: 76.8643, Test MAE: 5.6538, Test R2: 0.1356\n",
      "Epoch 269/1000\n",
      "Train MSE: 72.1960, Train MAE: 5.3324\n"
     ]
    },
    {
     "name": "stderr",
     "output_type": "stream",
     "text": [
      " 27%|██▋       | 269/1000 [12:27<33:11,  2.72s/it]"
     ]
    },
    {
     "name": "stdout",
     "output_type": "stream",
     "text": [
      "Test MSE: 76.7417, Test MAE: 5.7151, Test R2: 0.0184\n",
      "Epoch 270/1000\n",
      "Train MSE: 71.5222, Train MAE: 5.3582\n"
     ]
    },
    {
     "name": "stderr",
     "output_type": "stream",
     "text": [
      " 27%|██▋       | 270/1000 [12:30<33:11,  2.73s/it]"
     ]
    },
    {
     "name": "stdout",
     "output_type": "stream",
     "text": [
      "Test MSE: 71.9236, Test MAE: 5.5755, Test R2: 0.0142\n",
      "Epoch 271/1000\n",
      "Train MSE: 71.8887, Train MAE: 5.3874\n"
     ]
    },
    {
     "name": "stderr",
     "output_type": "stream",
     "text": [
      " 27%|██▋       | 271/1000 [12:32<33:27,  2.75s/it]"
     ]
    },
    {
     "name": "stdout",
     "output_type": "stream",
     "text": [
      "Test MSE: 69.2156, Test MAE: 5.4672, Test R2: -0.1899\n",
      "Epoch 272/1000\n",
      "Train MSE: 73.2913, Train MAE: 5.3972\n"
     ]
    },
    {
     "name": "stderr",
     "output_type": "stream",
     "text": [
      " 27%|██▋       | 272/1000 [12:35<33:35,  2.77s/it]"
     ]
    },
    {
     "name": "stdout",
     "output_type": "stream",
     "text": [
      "Test MSE: 75.2561, Test MAE: 5.6449, Test R2: -0.1539\n",
      "Epoch 273/1000\n",
      "Train MSE: 71.8588, Train MAE: 5.3523\n"
     ]
    },
    {
     "name": "stderr",
     "output_type": "stream",
     "text": [
      " 27%|██▋       | 273/1000 [12:38<33:12,  2.74s/it]"
     ]
    },
    {
     "name": "stdout",
     "output_type": "stream",
     "text": [
      "Test MSE: 75.4063, Test MAE: 5.6314, Test R2: -0.0660\n",
      "Epoch 274/1000\n",
      "Train MSE: 70.0728, Train MAE: 5.3252\n"
     ]
    },
    {
     "name": "stderr",
     "output_type": "stream",
     "text": [
      " 27%|██▋       | 274/1000 [12:41<32:54,  2.72s/it]"
     ]
    },
    {
     "name": "stdout",
     "output_type": "stream",
     "text": [
      "Test MSE: 72.1525, Test MAE: 5.5433, Test R2: 0.0317\n",
      "Epoch 275/1000\n",
      "Train MSE: 72.0230, Train MAE: 5.3571\n"
     ]
    },
    {
     "name": "stderr",
     "output_type": "stream",
     "text": [
      " 28%|██▊       | 275/1000 [12:43<32:45,  2.71s/it]"
     ]
    },
    {
     "name": "stdout",
     "output_type": "stream",
     "text": [
      "Test MSE: 81.4026, Test MAE: 5.7130, Test R2: -0.0621\n",
      "Epoch 276/1000\n",
      "Train MSE: 71.0885, Train MAE: 5.3457\n"
     ]
    },
    {
     "name": "stderr",
     "output_type": "stream",
     "text": [
      " 28%|██▊       | 276/1000 [12:46<32:49,  2.72s/it]"
     ]
    },
    {
     "name": "stdout",
     "output_type": "stream",
     "text": [
      "Test MSE: 72.8301, Test MAE: 5.5949, Test R2: -0.3689\n",
      "Epoch 277/1000\n",
      "Train MSE: 73.7136, Train MAE: 5.4271\n"
     ]
    },
    {
     "name": "stderr",
     "output_type": "stream",
     "text": [
      " 28%|██▊       | 277/1000 [12:49<32:36,  2.71s/it]"
     ]
    },
    {
     "name": "stdout",
     "output_type": "stream",
     "text": [
      "Test MSE: 70.7876, Test MAE: 5.5538, Test R2: -0.1661\n",
      "Epoch 278/1000\n",
      "Train MSE: 72.0988, Train MAE: 5.3190\n"
     ]
    },
    {
     "name": "stderr",
     "output_type": "stream",
     "text": [
      " 28%|██▊       | 278/1000 [12:51<32:30,  2.70s/it]"
     ]
    },
    {
     "name": "stdout",
     "output_type": "stream",
     "text": [
      "Test MSE: 70.5919, Test MAE: 5.5400, Test R2: -0.3126\n",
      "Epoch 279/1000\n",
      "Train MSE: 71.7461, Train MAE: 5.3484\n"
     ]
    },
    {
     "name": "stderr",
     "output_type": "stream",
     "text": [
      " 28%|██▊       | 279/1000 [12:54<32:22,  2.69s/it]"
     ]
    },
    {
     "name": "stdout",
     "output_type": "stream",
     "text": [
      "Test MSE: 73.1912, Test MAE: 5.6115, Test R2: -0.0610\n",
      "Epoch 280/1000\n",
      "Train MSE: 70.7643, Train MAE: 5.3098\n"
     ]
    },
    {
     "name": "stderr",
     "output_type": "stream",
     "text": [
      " 28%|██▊       | 280/1000 [12:57<32:19,  2.69s/it]"
     ]
    },
    {
     "name": "stdout",
     "output_type": "stream",
     "text": [
      "Test MSE: 70.2820, Test MAE: 5.5769, Test R2: -0.5636\n",
      "Epoch 281/1000\n",
      "Train MSE: 72.5014, Train MAE: 5.3432\n"
     ]
    },
    {
     "name": "stderr",
     "output_type": "stream",
     "text": [
      " 28%|██▊       | 281/1000 [12:59<32:14,  2.69s/it]"
     ]
    },
    {
     "name": "stdout",
     "output_type": "stream",
     "text": [
      "Test MSE: 71.5758, Test MAE: 5.5556, Test R2: 0.1311\n",
      "Epoch 282/1000\n",
      "Train MSE: 71.6811, Train MAE: 5.3631\n"
     ]
    },
    {
     "name": "stderr",
     "output_type": "stream",
     "text": [
      " 28%|██▊       | 282/1000 [13:02<32:10,  2.69s/it]"
     ]
    },
    {
     "name": "stdout",
     "output_type": "stream",
     "text": [
      "Test MSE: 71.1169, Test MAE: 5.5882, Test R2: 0.0705\n",
      "Epoch 283/1000\n",
      "Train MSE: 71.0515, Train MAE: 5.3465\n"
     ]
    },
    {
     "name": "stderr",
     "output_type": "stream",
     "text": [
      " 28%|██▊       | 283/1000 [13:05<32:09,  2.69s/it]"
     ]
    },
    {
     "name": "stdout",
     "output_type": "stream",
     "text": [
      "Test MSE: 71.4482, Test MAE: 5.5202, Test R2: -0.1305\n",
      "Epoch 284/1000\n",
      "Train MSE: 72.0132, Train MAE: 5.3567\n"
     ]
    },
    {
     "name": "stderr",
     "output_type": "stream",
     "text": [
      " 28%|██▊       | 284/1000 [13:08<32:07,  2.69s/it]"
     ]
    },
    {
     "name": "stdout",
     "output_type": "stream",
     "text": [
      "Test MSE: 72.4662, Test MAE: 5.6029, Test R2: -0.4295\n",
      "Epoch 285/1000\n",
      "Train MSE: 70.4233, Train MAE: 5.2795\n"
     ]
    },
    {
     "name": "stderr",
     "output_type": "stream",
     "text": [
      " 28%|██▊       | 285/1000 [13:10<32:02,  2.69s/it]"
     ]
    },
    {
     "name": "stdout",
     "output_type": "stream",
     "text": [
      "Test MSE: 72.4463, Test MAE: 5.5611, Test R2: -0.3107\n",
      "Epoch 286/1000\n",
      "Train MSE: 70.5076, Train MAE: 5.3042\n"
     ]
    },
    {
     "name": "stderr",
     "output_type": "stream",
     "text": [
      " 29%|██▊       | 286/1000 [13:13<31:59,  2.69s/it]"
     ]
    },
    {
     "name": "stdout",
     "output_type": "stream",
     "text": [
      "Test MSE: 70.8255, Test MAE: 5.5300, Test R2: 0.1406\n",
      "Epoch 287/1000\n",
      "Train MSE: 71.6950, Train MAE: 5.3317\n"
     ]
    },
    {
     "name": "stderr",
     "output_type": "stream",
     "text": [
      " 29%|██▊       | 287/1000 [13:16<31:54,  2.69s/it]"
     ]
    },
    {
     "name": "stdout",
     "output_type": "stream",
     "text": [
      "Test MSE: 75.0125, Test MAE: 5.5811, Test R2: 0.1268\n",
      "Epoch 288/1000\n",
      "Train MSE: 68.1915, Train MAE: 5.2884\n"
     ]
    },
    {
     "name": "stderr",
     "output_type": "stream",
     "text": [
      " 29%|██▉       | 288/1000 [13:18<31:49,  2.68s/it]"
     ]
    },
    {
     "name": "stdout",
     "output_type": "stream",
     "text": [
      "Test MSE: 77.9035, Test MAE: 5.7280, Test R2: -0.0009\n",
      "Epoch 289/1000\n",
      "Train MSE: 71.1352, Train MAE: 5.3385\n"
     ]
    },
    {
     "name": "stderr",
     "output_type": "stream",
     "text": [
      " 29%|██▉       | 289/1000 [13:21<31:49,  2.69s/it]"
     ]
    },
    {
     "name": "stdout",
     "output_type": "stream",
     "text": [
      "Test MSE: 70.6953, Test MAE: 5.5013, Test R2: 0.1190\n",
      "Epoch 290/1000\n",
      "Train MSE: 71.9151, Train MAE: 5.3829\n"
     ]
    },
    {
     "name": "stderr",
     "output_type": "stream",
     "text": [
      " 29%|██▉       | 290/1000 [13:24<31:45,  2.68s/it]"
     ]
    },
    {
     "name": "stdout",
     "output_type": "stream",
     "text": [
      "Test MSE: 71.8950, Test MAE: 5.5427, Test R2: 0.0784\n",
      "Epoch 291/1000\n",
      "Train MSE: 72.6589, Train MAE: 5.3744\n"
     ]
    },
    {
     "name": "stderr",
     "output_type": "stream",
     "text": [
      " 29%|██▉       | 291/1000 [13:26<31:41,  2.68s/it]"
     ]
    },
    {
     "name": "stdout",
     "output_type": "stream",
     "text": [
      "Test MSE: 71.0632, Test MAE: 5.5168, Test R2: 0.0258\n",
      "Epoch 292/1000\n",
      "Train MSE: 71.8878, Train MAE: 5.3982\n"
     ]
    },
    {
     "name": "stderr",
     "output_type": "stream",
     "text": [
      " 29%|██▉       | 292/1000 [13:29<31:40,  2.68s/it]"
     ]
    },
    {
     "name": "stdout",
     "output_type": "stream",
     "text": [
      "Test MSE: 69.8883, Test MAE: 5.5064, Test R2: -0.0377\n",
      "Epoch 293/1000\n",
      "Train MSE: 72.9738, Train MAE: 5.4008\n"
     ]
    },
    {
     "name": "stderr",
     "output_type": "stream",
     "text": [
      " 29%|██▉       | 293/1000 [13:32<31:37,  2.68s/it]"
     ]
    },
    {
     "name": "stdout",
     "output_type": "stream",
     "text": [
      "Test MSE: 70.1187, Test MAE: 5.5466, Test R2: 0.1390\n",
      "Epoch 294/1000\n",
      "Train MSE: 72.7395, Train MAE: 5.3450\n"
     ]
    },
    {
     "name": "stderr",
     "output_type": "stream",
     "text": [
      " 29%|██▉       | 294/1000 [13:34<31:35,  2.68s/it]"
     ]
    },
    {
     "name": "stdout",
     "output_type": "stream",
     "text": [
      "Test MSE: 70.8801, Test MAE: 5.5157, Test R2: 0.0812\n",
      "Epoch 295/1000\n",
      "Train MSE: 70.8834, Train MAE: 5.3380\n"
     ]
    },
    {
     "name": "stderr",
     "output_type": "stream",
     "text": [
      " 30%|██▉       | 295/1000 [13:37<31:49,  2.71s/it]"
     ]
    },
    {
     "name": "stdout",
     "output_type": "stream",
     "text": [
      "Test MSE: 73.0695, Test MAE: 5.5748, Test R2: 0.0234\n",
      "Epoch 296/1000\n",
      "Train MSE: 72.0363, Train MAE: 5.3533\n"
     ]
    },
    {
     "name": "stderr",
     "output_type": "stream",
     "text": [
      " 30%|██▉       | 296/1000 [13:40<32:10,  2.74s/it]"
     ]
    },
    {
     "name": "stdout",
     "output_type": "stream",
     "text": [
      "Test MSE: 76.7240, Test MAE: 5.6348, Test R2: -0.0273\n",
      "Epoch 297/1000\n",
      "Train MSE: 70.3785, Train MAE: 5.3394\n"
     ]
    },
    {
     "name": "stderr",
     "output_type": "stream",
     "text": [
      " 30%|██▉       | 297/1000 [13:43<32:24,  2.77s/it]"
     ]
    },
    {
     "name": "stdout",
     "output_type": "stream",
     "text": [
      "Test MSE: 86.0784, Test MAE: 5.8526, Test R2: -0.0484\n",
      "Epoch 298/1000\n",
      "Train MSE: 73.6031, Train MAE: 5.4114\n"
     ]
    },
    {
     "name": "stderr",
     "output_type": "stream",
     "text": [
      " 30%|██▉       | 298/1000 [13:46<32:20,  2.76s/it]"
     ]
    },
    {
     "name": "stdout",
     "output_type": "stream",
     "text": [
      "Test MSE: 70.6929, Test MAE: 5.5145, Test R2: 0.0817\n",
      "Epoch 299/1000\n",
      "Train MSE: 71.1853, Train MAE: 5.3112\n"
     ]
    },
    {
     "name": "stderr",
     "output_type": "stream",
     "text": [
      " 30%|██▉       | 299/1000 [13:48<32:03,  2.74s/it]"
     ]
    },
    {
     "name": "stdout",
     "output_type": "stream",
     "text": [
      "Test MSE: 76.1971, Test MAE: 5.6383, Test R2: 0.1297\n",
      "Epoch 300/1000\n",
      "Train MSE: 72.5540, Train MAE: 5.3736\n"
     ]
    },
    {
     "name": "stderr",
     "output_type": "stream",
     "text": [
      " 30%|███       | 300/1000 [13:51<32:03,  2.75s/it]"
     ]
    },
    {
     "name": "stdout",
     "output_type": "stream",
     "text": [
      "Test MSE: 74.4174, Test MAE: 5.5746, Test R2: -0.4128\n",
      "Epoch 301/1000\n",
      "Train MSE: 71.8173, Train MAE: 5.3900\n"
     ]
    },
    {
     "name": "stderr",
     "output_type": "stream",
     "text": [
      " 30%|███       | 301/1000 [13:54<32:19,  2.78s/it]"
     ]
    },
    {
     "name": "stdout",
     "output_type": "stream",
     "text": [
      "Test MSE: 71.2654, Test MAE: 5.5178, Test R2: 0.0722\n",
      "Epoch 302/1000\n",
      "Train MSE: 72.9537, Train MAE: 5.3510\n"
     ]
    },
    {
     "name": "stderr",
     "output_type": "stream",
     "text": [
      " 30%|███       | 302/1000 [13:57<32:23,  2.79s/it]"
     ]
    },
    {
     "name": "stdout",
     "output_type": "stream",
     "text": [
      "Test MSE: 72.4994, Test MAE: 5.5333, Test R2: -0.4960\n",
      "Epoch 303/1000\n",
      "Train MSE: 70.4965, Train MAE: 5.3068\n"
     ]
    },
    {
     "name": "stderr",
     "output_type": "stream",
     "text": [
      " 30%|███       | 303/1000 [13:59<32:26,  2.79s/it]"
     ]
    },
    {
     "name": "stdout",
     "output_type": "stream",
     "text": [
      "Test MSE: 72.3402, Test MAE: 5.5350, Test R2: 0.0045\n",
      "Epoch 304/1000\n",
      "Train MSE: 71.5937, Train MAE: 5.3571\n"
     ]
    },
    {
     "name": "stderr",
     "output_type": "stream",
     "text": [
      " 30%|███       | 304/1000 [14:02<32:27,  2.80s/it]"
     ]
    },
    {
     "name": "stdout",
     "output_type": "stream",
     "text": [
      "Test MSE: 70.8274, Test MAE: 5.4828, Test R2: -0.0420\n",
      "Epoch 305/1000\n",
      "Train MSE: 70.1426, Train MAE: 5.2806\n"
     ]
    },
    {
     "name": "stderr",
     "output_type": "stream",
     "text": [
      " 30%|███       | 305/1000 [14:05<32:26,  2.80s/it]"
     ]
    },
    {
     "name": "stdout",
     "output_type": "stream",
     "text": [
      "Test MSE: 72.3705, Test MAE: 5.5391, Test R2: -0.1065\n",
      "Epoch 306/1000\n",
      "Train MSE: 70.8766, Train MAE: 5.3148\n"
     ]
    },
    {
     "name": "stderr",
     "output_type": "stream",
     "text": [
      " 31%|███       | 306/1000 [14:08<32:23,  2.80s/it]"
     ]
    },
    {
     "name": "stdout",
     "output_type": "stream",
     "text": [
      "Test MSE: 70.9882, Test MAE: 5.4637, Test R2: -0.0498\n",
      "Epoch 307/1000\n",
      "Train MSE: 69.5600, Train MAE: 5.2680\n"
     ]
    },
    {
     "name": "stderr",
     "output_type": "stream",
     "text": [
      " 31%|███       | 307/1000 [14:11<32:06,  2.78s/it]"
     ]
    },
    {
     "name": "stdout",
     "output_type": "stream",
     "text": [
      "Test MSE: 72.8014, Test MAE: 5.6373, Test R2: -0.3615\n",
      "Epoch 308/1000\n",
      "Train MSE: 72.2402, Train MAE: 5.3351\n"
     ]
    },
    {
     "name": "stderr",
     "output_type": "stream",
     "text": [
      " 31%|███       | 308/1000 [14:13<31:46,  2.75s/it]"
     ]
    },
    {
     "name": "stdout",
     "output_type": "stream",
     "text": [
      "Test MSE: 72.8362, Test MAE: 5.5279, Test R2: 0.0082\n",
      "Epoch 309/1000\n",
      "Train MSE: 70.2388, Train MAE: 5.3074\n"
     ]
    },
    {
     "name": "stderr",
     "output_type": "stream",
     "text": [
      " 31%|███       | 309/1000 [14:16<31:30,  2.74s/it]"
     ]
    },
    {
     "name": "stdout",
     "output_type": "stream",
     "text": [
      "Test MSE: 73.5819, Test MAE: 5.5435, Test R2: -0.2244\n",
      "Epoch 310/1000\n",
      "Train MSE: 72.1679, Train MAE: 5.3189\n"
     ]
    },
    {
     "name": "stderr",
     "output_type": "stream",
     "text": [
      " 31%|███       | 310/1000 [14:19<31:15,  2.72s/it]"
     ]
    },
    {
     "name": "stdout",
     "output_type": "stream",
     "text": [
      "Test MSE: 71.4707, Test MAE: 5.4993, Test R2: -0.0076\n",
      "Epoch 311/1000\n",
      "Train MSE: 69.8785, Train MAE: 5.2970\n"
     ]
    },
    {
     "name": "stderr",
     "output_type": "stream",
     "text": [
      " 31%|███       | 311/1000 [14:21<31:06,  2.71s/it]"
     ]
    },
    {
     "name": "stdout",
     "output_type": "stream",
     "text": [
      "Test MSE: 70.7224, Test MAE: 5.5061, Test R2: 0.1047\n",
      "Epoch 312/1000\n",
      "Train MSE: 70.0559, Train MAE: 5.2828\n"
     ]
    },
    {
     "name": "stderr",
     "output_type": "stream",
     "text": [
      " 31%|███       | 312/1000 [14:24<30:58,  2.70s/it]"
     ]
    },
    {
     "name": "stdout",
     "output_type": "stream",
     "text": [
      "Test MSE: 70.4689, Test MAE: 5.5305, Test R2: -0.0258\n",
      "Epoch 313/1000\n",
      "Train MSE: 69.6132, Train MAE: 5.2565\n"
     ]
    },
    {
     "name": "stderr",
     "output_type": "stream",
     "text": [
      " 31%|███▏      | 313/1000 [14:27<30:54,  2.70s/it]"
     ]
    },
    {
     "name": "stdout",
     "output_type": "stream",
     "text": [
      "Test MSE: 71.5605, Test MAE: 5.5049, Test R2: -0.0010\n",
      "Epoch 314/1000\n",
      "Train MSE: 69.7047, Train MAE: 5.2660\n"
     ]
    },
    {
     "name": "stderr",
     "output_type": "stream",
     "text": [
      " 31%|███▏      | 314/1000 [14:29<30:51,  2.70s/it]"
     ]
    },
    {
     "name": "stdout",
     "output_type": "stream",
     "text": [
      "Test MSE: 70.8435, Test MAE: 5.5185, Test R2: 0.0733\n",
      "Epoch 315/1000\n",
      "Train MSE: 70.4343, Train MAE: 5.3203\n"
     ]
    },
    {
     "name": "stderr",
     "output_type": "stream",
     "text": [
      " 32%|███▏      | 315/1000 [14:32<30:49,  2.70s/it]"
     ]
    },
    {
     "name": "stdout",
     "output_type": "stream",
     "text": [
      "Test MSE: 75.0927, Test MAE: 5.6147, Test R2: 0.0060\n",
      "Epoch 316/1000\n",
      "Train MSE: 70.8100, Train MAE: 5.3461\n"
     ]
    },
    {
     "name": "stderr",
     "output_type": "stream",
     "text": [
      " 32%|███▏      | 316/1000 [14:35<31:02,  2.72s/it]"
     ]
    },
    {
     "name": "stdout",
     "output_type": "stream",
     "text": [
      "Test MSE: 71.4692, Test MAE: 5.4969, Test R2: -0.1194\n",
      "Epoch 317/1000\n",
      "Train MSE: 73.7299, Train MAE: 5.3688\n"
     ]
    },
    {
     "name": "stderr",
     "output_type": "stream",
     "text": [
      " 32%|███▏      | 317/1000 [14:38<31:04,  2.73s/it]"
     ]
    },
    {
     "name": "stdout",
     "output_type": "stream",
     "text": [
      "Test MSE: 71.9266, Test MAE: 5.4998, Test R2: -0.0256\n",
      "Epoch 318/1000\n",
      "Train MSE: 68.9201, Train MAE: 5.2472\n"
     ]
    },
    {
     "name": "stderr",
     "output_type": "stream",
     "text": [
      " 32%|███▏      | 318/1000 [14:40<31:07,  2.74s/it]"
     ]
    },
    {
     "name": "stdout",
     "output_type": "stream",
     "text": [
      "Test MSE: 69.8674, Test MAE: 5.4917, Test R2: -0.1286\n",
      "Epoch 319/1000\n",
      "Train MSE: 72.4137, Train MAE: 5.3261\n"
     ]
    },
    {
     "name": "stderr",
     "output_type": "stream",
     "text": [
      " 32%|███▏      | 319/1000 [14:43<31:19,  2.76s/it]"
     ]
    },
    {
     "name": "stdout",
     "output_type": "stream",
     "text": [
      "Test MSE: 67.9125, Test MAE: 5.4280, Test R2: 0.0766\n",
      "Epoch 320/1000\n",
      "Train MSE: 72.2374, Train MAE: 5.3274\n"
     ]
    },
    {
     "name": "stderr",
     "output_type": "stream",
     "text": [
      " 32%|███▏      | 320/1000 [14:46<31:30,  2.78s/it]"
     ]
    },
    {
     "name": "stdout",
     "output_type": "stream",
     "text": [
      "Test MSE: 72.0391, Test MAE: 5.5731, Test R2: 0.0439\n",
      "Epoch 321/1000\n",
      "Train MSE: 70.2701, Train MAE: 5.2961\n"
     ]
    },
    {
     "name": "stderr",
     "output_type": "stream",
     "text": [
      " 32%|███▏      | 321/1000 [14:49<31:33,  2.79s/it]"
     ]
    },
    {
     "name": "stdout",
     "output_type": "stream",
     "text": [
      "Test MSE: 72.4221, Test MAE: 5.5650, Test R2: 0.0758\n",
      "Epoch 322/1000\n",
      "Train MSE: 69.4502, Train MAE: 5.2792\n"
     ]
    },
    {
     "name": "stderr",
     "output_type": "stream",
     "text": [
      " 32%|███▏      | 322/1000 [14:52<31:32,  2.79s/it]"
     ]
    },
    {
     "name": "stdout",
     "output_type": "stream",
     "text": [
      "Test MSE: 72.1257, Test MAE: 5.6064, Test R2: 0.0219\n",
      "Epoch 323/1000\n",
      "Train MSE: 70.3278, Train MAE: 5.2924\n"
     ]
    },
    {
     "name": "stderr",
     "output_type": "stream",
     "text": [
      " 32%|███▏      | 323/1000 [14:54<31:35,  2.80s/it]"
     ]
    },
    {
     "name": "stdout",
     "output_type": "stream",
     "text": [
      "Test MSE: 69.0373, Test MAE: 5.4524, Test R2: -0.1410\n",
      "Epoch 324/1000\n",
      "Train MSE: 68.9169, Train MAE: 5.2957\n"
     ]
    },
    {
     "name": "stderr",
     "output_type": "stream",
     "text": [
      " 32%|███▏      | 324/1000 [14:57<31:33,  2.80s/it]"
     ]
    },
    {
     "name": "stdout",
     "output_type": "stream",
     "text": [
      "Test MSE: 68.9064, Test MAE: 5.5085, Test R2: 0.0391\n",
      "Epoch 325/1000\n",
      "Train MSE: 69.6876, Train MAE: 5.2818\n"
     ]
    },
    {
     "name": "stderr",
     "output_type": "stream",
     "text": [
      " 32%|███▎      | 325/1000 [15:00<31:30,  2.80s/it]"
     ]
    },
    {
     "name": "stdout",
     "output_type": "stream",
     "text": [
      "Test MSE: 72.6226, Test MAE: 5.5059, Test R2: 0.0736\n",
      "Epoch 326/1000\n",
      "Train MSE: 69.2236, Train MAE: 5.2782\n"
     ]
    },
    {
     "name": "stderr",
     "output_type": "stream",
     "text": [
      " 33%|███▎      | 326/1000 [15:03<31:32,  2.81s/it]"
     ]
    },
    {
     "name": "stdout",
     "output_type": "stream",
     "text": [
      "Test MSE: 70.6777, Test MAE: 5.5153, Test R2: 0.0511\n",
      "Epoch 327/1000\n",
      "Train MSE: 69.8851, Train MAE: 5.3080\n"
     ]
    },
    {
     "name": "stderr",
     "output_type": "stream",
     "text": [
      " 33%|███▎      | 327/1000 [15:06<31:13,  2.78s/it]"
     ]
    },
    {
     "name": "stdout",
     "output_type": "stream",
     "text": [
      "Test MSE: 68.5437, Test MAE: 5.4838, Test R2: -0.1120\n",
      "Epoch 328/1000\n",
      "Train MSE: 74.4792, Train MAE: 5.3796\n"
     ]
    },
    {
     "name": "stderr",
     "output_type": "stream",
     "text": [
      " 33%|███▎      | 328/1000 [15:08<30:44,  2.75s/it]"
     ]
    },
    {
     "name": "stdout",
     "output_type": "stream",
     "text": [
      "Test MSE: 72.7198, Test MAE: 5.5333, Test R2: 0.0485\n",
      "Epoch 329/1000\n",
      "Train MSE: 69.2812, Train MAE: 5.2821\n"
     ]
    },
    {
     "name": "stderr",
     "output_type": "stream",
     "text": [
      " 33%|███▎      | 329/1000 [15:11<30:58,  2.77s/it]"
     ]
    },
    {
     "name": "stdout",
     "output_type": "stream",
     "text": [
      "Test MSE: 70.9739, Test MAE: 5.5541, Test R2: -0.1068\n",
      "Epoch 330/1000\n",
      "Train MSE: 71.0338, Train MAE: 5.2816\n"
     ]
    },
    {
     "name": "stderr",
     "output_type": "stream",
     "text": [
      " 33%|███▎      | 330/1000 [15:14<31:07,  2.79s/it]"
     ]
    },
    {
     "name": "stdout",
     "output_type": "stream",
     "text": [
      "Test MSE: 74.5571, Test MAE: 5.6130, Test R2: -0.0517\n",
      "Epoch 331/1000\n",
      "Train MSE: 70.9209, Train MAE: 5.2830\n"
     ]
    },
    {
     "name": "stderr",
     "output_type": "stream",
     "text": [
      " 33%|███▎      | 331/1000 [15:17<31:10,  2.80s/it]"
     ]
    },
    {
     "name": "stdout",
     "output_type": "stream",
     "text": [
      "Test MSE: 70.6851, Test MAE: 5.4971, Test R2: -0.1449\n",
      "Epoch 332/1000\n",
      "Train MSE: 71.0697, Train MAE: 5.3072\n"
     ]
    },
    {
     "name": "stderr",
     "output_type": "stream",
     "text": [
      " 33%|███▎      | 332/1000 [15:20<31:10,  2.80s/it]"
     ]
    },
    {
     "name": "stdout",
     "output_type": "stream",
     "text": [
      "Test MSE: 70.3873, Test MAE: 5.5049, Test R2: -0.2309\n",
      "Epoch 333/1000\n",
      "Train MSE: 69.3083, Train MAE: 5.2515\n"
     ]
    },
    {
     "name": "stderr",
     "output_type": "stream",
     "text": [
      " 33%|███▎      | 333/1000 [15:22<31:11,  2.81s/it]"
     ]
    },
    {
     "name": "stdout",
     "output_type": "stream",
     "text": [
      "Test MSE: 73.7876, Test MAE: 5.5807, Test R2: -0.1284\n",
      "Epoch 334/1000\n",
      "Train MSE: 68.2248, Train MAE: 5.2568\n"
     ]
    },
    {
     "name": "stderr",
     "output_type": "stream",
     "text": [
      " 33%|███▎      | 334/1000 [15:25<31:08,  2.81s/it]"
     ]
    },
    {
     "name": "stdout",
     "output_type": "stream",
     "text": [
      "Test MSE: 72.7787, Test MAE: 5.4678, Test R2: -0.1001\n",
      "Epoch 335/1000\n",
      "Train MSE: 70.6825, Train MAE: 5.2843\n"
     ]
    },
    {
     "name": "stderr",
     "output_type": "stream",
     "text": [
      " 34%|███▎      | 335/1000 [15:28<31:09,  2.81s/it]"
     ]
    },
    {
     "name": "stdout",
     "output_type": "stream",
     "text": [
      "Test MSE: 73.3765, Test MAE: 5.5233, Test R2: -0.2063\n",
      "Epoch 336/1000\n",
      "Train MSE: 68.8370, Train MAE: 5.2819\n"
     ]
    },
    {
     "name": "stderr",
     "output_type": "stream",
     "text": [
      " 34%|███▎      | 336/1000 [15:31<31:10,  2.82s/it]"
     ]
    },
    {
     "name": "stdout",
     "output_type": "stream",
     "text": [
      "Test MSE: 71.4527, Test MAE: 5.5154, Test R2: -0.0191\n",
      "Epoch 337/1000\n",
      "Train MSE: 70.4377, Train MAE: 5.2803\n"
     ]
    },
    {
     "name": "stderr",
     "output_type": "stream",
     "text": [
      " 34%|███▎      | 337/1000 [15:34<31:23,  2.84s/it]"
     ]
    },
    {
     "name": "stdout",
     "output_type": "stream",
     "text": [
      "Test MSE: 69.5246, Test MAE: 5.4645, Test R2: -0.6402\n",
      "Epoch 338/1000\n",
      "Train MSE: 69.7352, Train MAE: 5.2882\n"
     ]
    },
    {
     "name": "stderr",
     "output_type": "stream",
     "text": [
      " 34%|███▍      | 338/1000 [15:37<31:13,  2.83s/it]"
     ]
    },
    {
     "name": "stdout",
     "output_type": "stream",
     "text": [
      "Test MSE: 70.8579, Test MAE: 5.5609, Test R2: -0.1864\n",
      "Epoch 339/1000\n",
      "Train MSE: 70.9513, Train MAE: 5.2970\n"
     ]
    },
    {
     "name": "stderr",
     "output_type": "stream",
     "text": [
      " 34%|███▍      | 339/1000 [15:39<31:08,  2.83s/it]"
     ]
    },
    {
     "name": "stdout",
     "output_type": "stream",
     "text": [
      "Test MSE: 70.4819, Test MAE: 5.4850, Test R2: -0.1076\n",
      "Epoch 340/1000\n",
      "Train MSE: 69.9579, Train MAE: 5.2706\n"
     ]
    },
    {
     "name": "stderr",
     "output_type": "stream",
     "text": [
      " 34%|███▍      | 340/1000 [15:42<31:06,  2.83s/it]"
     ]
    },
    {
     "name": "stdout",
     "output_type": "stream",
     "text": [
      "Test MSE: 69.3802, Test MAE: 5.4519, Test R2: -0.3655\n",
      "Epoch 341/1000\n",
      "Train MSE: 72.2062, Train MAE: 5.2889\n"
     ]
    },
    {
     "name": "stderr",
     "output_type": "stream",
     "text": [
      " 34%|███▍      | 341/1000 [15:45<31:02,  2.83s/it]"
     ]
    },
    {
     "name": "stdout",
     "output_type": "stream",
     "text": [
      "Test MSE: 71.5832, Test MAE: 5.4851, Test R2: 0.0525\n",
      "Epoch 342/1000\n",
      "Train MSE: 68.8117, Train MAE: 5.2863\n"
     ]
    },
    {
     "name": "stderr",
     "output_type": "stream",
     "text": [
      " 34%|███▍      | 342/1000 [15:48<30:52,  2.82s/it]"
     ]
    },
    {
     "name": "stdout",
     "output_type": "stream",
     "text": [
      "Test MSE: 67.3764, Test MAE: 5.3890, Test R2: 0.0753\n",
      "Epoch 343/1000\n",
      "Train MSE: 70.0709, Train MAE: 5.2764\n"
     ]
    },
    {
     "name": "stderr",
     "output_type": "stream",
     "text": [
      " 34%|███▍      | 343/1000 [15:51<30:48,  2.81s/it]"
     ]
    },
    {
     "name": "stdout",
     "output_type": "stream",
     "text": [
      "Test MSE: 73.4008, Test MAE: 5.5514, Test R2: 0.1458\n",
      "Epoch 344/1000\n",
      "Train MSE: 71.1944, Train MAE: 5.3031\n"
     ]
    },
    {
     "name": "stderr",
     "output_type": "stream",
     "text": [
      " 34%|███▍      | 344/1000 [15:53<30:42,  2.81s/it]"
     ]
    },
    {
     "name": "stdout",
     "output_type": "stream",
     "text": [
      "Test MSE: 73.8228, Test MAE: 5.6055, Test R2: -0.0504\n",
      "Epoch 345/1000\n",
      "Train MSE: 69.8759, Train MAE: 5.3065\n"
     ]
    },
    {
     "name": "stderr",
     "output_type": "stream",
     "text": [
      " 34%|███▍      | 345/1000 [15:56<30:40,  2.81s/it]"
     ]
    },
    {
     "name": "stdout",
     "output_type": "stream",
     "text": [
      "Test MSE: 75.2231, Test MAE: 5.6373, Test R2: 0.0850\n",
      "Epoch 346/1000\n",
      "Train MSE: 69.3004, Train MAE: 5.2712\n"
     ]
    },
    {
     "name": "stderr",
     "output_type": "stream",
     "text": [
      " 35%|███▍      | 346/1000 [15:59<30:36,  2.81s/it]"
     ]
    },
    {
     "name": "stdout",
     "output_type": "stream",
     "text": [
      "Test MSE: 77.7046, Test MAE: 5.6285, Test R2: 0.0358\n",
      "Epoch 347/1000\n",
      "Train MSE: 70.0809, Train MAE: 5.2891\n"
     ]
    },
    {
     "name": "stderr",
     "output_type": "stream",
     "text": [
      " 35%|███▍      | 347/1000 [16:02<30:30,  2.80s/it]"
     ]
    },
    {
     "name": "stdout",
     "output_type": "stream",
     "text": [
      "Test MSE: 70.5548, Test MAE: 5.5142, Test R2: 0.0160\n",
      "Epoch 348/1000\n",
      "Train MSE: 68.6915, Train MAE: 5.2555\n"
     ]
    },
    {
     "name": "stderr",
     "output_type": "stream",
     "text": [
      " 35%|███▍      | 348/1000 [16:05<30:29,  2.81s/it]"
     ]
    },
    {
     "name": "stdout",
     "output_type": "stream",
     "text": [
      "Test MSE: 73.3107, Test MAE: 5.5313, Test R2: -0.1972\n",
      "Epoch 349/1000\n",
      "Train MSE: 70.9741, Train MAE: 5.3156\n"
     ]
    },
    {
     "name": "stderr",
     "output_type": "stream",
     "text": [
      " 35%|███▍      | 349/1000 [16:07<30:27,  2.81s/it]"
     ]
    },
    {
     "name": "stdout",
     "output_type": "stream",
     "text": [
      "Test MSE: 73.1092, Test MAE: 5.5133, Test R2: -0.1049\n",
      "Epoch 350/1000\n",
      "Train MSE: 69.5893, Train MAE: 5.2760\n"
     ]
    },
    {
     "name": "stderr",
     "output_type": "stream",
     "text": [
      " 35%|███▌      | 350/1000 [16:10<30:28,  2.81s/it]"
     ]
    },
    {
     "name": "stdout",
     "output_type": "stream",
     "text": [
      "Test MSE: 74.9830, Test MAE: 5.5901, Test R2: -0.1125\n",
      "Epoch 351/1000\n",
      "Train MSE: 70.5332, Train MAE: 5.3035\n"
     ]
    },
    {
     "name": "stderr",
     "output_type": "stream",
     "text": [
      " 35%|███▌      | 351/1000 [16:13<30:26,  2.81s/it]"
     ]
    },
    {
     "name": "stdout",
     "output_type": "stream",
     "text": [
      "Test MSE: 71.4213, Test MAE: 5.5047, Test R2: -0.7787\n",
      "Epoch 352/1000\n",
      "Train MSE: 70.5183, Train MAE: 5.2586\n"
     ]
    },
    {
     "name": "stderr",
     "output_type": "stream",
     "text": [
      " 35%|███▌      | 352/1000 [16:16<30:22,  2.81s/it]"
     ]
    },
    {
     "name": "stdout",
     "output_type": "stream",
     "text": [
      "Test MSE: 76.8853, Test MAE: 5.6194, Test R2: -0.2092\n",
      "Epoch 353/1000\n",
      "Train MSE: 71.7749, Train MAE: 5.3154\n"
     ]
    },
    {
     "name": "stderr",
     "output_type": "stream",
     "text": [
      " 35%|███▌      | 353/1000 [16:19<30:22,  2.82s/it]"
     ]
    },
    {
     "name": "stdout",
     "output_type": "stream",
     "text": [
      "Test MSE: 71.9628, Test MAE: 5.4962, Test R2: 0.0916\n",
      "Epoch 354/1000\n",
      "Train MSE: 70.7677, Train MAE: 5.3014\n"
     ]
    },
    {
     "name": "stderr",
     "output_type": "stream",
     "text": [
      " 35%|███▌      | 354/1000 [16:22<30:18,  2.82s/it]"
     ]
    },
    {
     "name": "stdout",
     "output_type": "stream",
     "text": [
      "Test MSE: 73.9174, Test MAE: 5.6353, Test R2: -0.3412\n",
      "Epoch 355/1000\n",
      "Train MSE: 69.7256, Train MAE: 5.2549\n"
     ]
    },
    {
     "name": "stderr",
     "output_type": "stream",
     "text": [
      " 36%|███▌      | 355/1000 [16:24<30:18,  2.82s/it]"
     ]
    },
    {
     "name": "stdout",
     "output_type": "stream",
     "text": [
      "Test MSE: 79.2387, Test MAE: 5.7030, Test R2: 0.0221\n",
      "Epoch 356/1000\n",
      "Train MSE: 69.7718, Train MAE: 5.2794\n"
     ]
    },
    {
     "name": "stderr",
     "output_type": "stream",
     "text": [
      " 36%|███▌      | 356/1000 [16:27<30:16,  2.82s/it]"
     ]
    },
    {
     "name": "stdout",
     "output_type": "stream",
     "text": [
      "Test MSE: 72.5949, Test MAE: 5.5127, Test R2: 0.0944\n",
      "Epoch 357/1000\n",
      "Train MSE: 69.1615, Train MAE: 5.2489\n"
     ]
    },
    {
     "name": "stderr",
     "output_type": "stream",
     "text": [
      " 36%|███▌      | 357/1000 [16:30<30:11,  2.82s/it]"
     ]
    },
    {
     "name": "stdout",
     "output_type": "stream",
     "text": [
      "Test MSE: 68.2689, Test MAE: 5.4664, Test R2: 0.0510\n",
      "Epoch 358/1000\n",
      "Train MSE: 70.0975, Train MAE: 5.2512\n"
     ]
    },
    {
     "name": "stderr",
     "output_type": "stream",
     "text": [
      " 36%|███▌      | 358/1000 [16:33<30:10,  2.82s/it]"
     ]
    },
    {
     "name": "stdout",
     "output_type": "stream",
     "text": [
      "Test MSE: 69.5335, Test MAE: 5.4778, Test R2: -0.0787\n",
      "Epoch 359/1000\n",
      "Train MSE: 68.4222, Train MAE: 5.2322\n"
     ]
    },
    {
     "name": "stderr",
     "output_type": "stream",
     "text": [
      " 36%|███▌      | 359/1000 [16:36<30:05,  2.82s/it]"
     ]
    },
    {
     "name": "stdout",
     "output_type": "stream",
     "text": [
      "Test MSE: 71.2743, Test MAE: 5.4623, Test R2: 0.1281\n",
      "Epoch 360/1000\n",
      "Train MSE: 68.8374, Train MAE: 5.2923\n"
     ]
    },
    {
     "name": "stderr",
     "output_type": "stream",
     "text": [
      " 36%|███▌      | 360/1000 [16:38<30:03,  2.82s/it]"
     ]
    },
    {
     "name": "stdout",
     "output_type": "stream",
     "text": [
      "Test MSE: 76.1526, Test MAE: 5.6035, Test R2: -0.1015\n",
      "Epoch 361/1000\n",
      "Train MSE: 70.8508, Train MAE: 5.2856\n"
     ]
    },
    {
     "name": "stderr",
     "output_type": "stream",
     "text": [
      " 36%|███▌      | 361/1000 [16:41<30:01,  2.82s/it]"
     ]
    },
    {
     "name": "stdout",
     "output_type": "stream",
     "text": [
      "Test MSE: 68.3344, Test MAE: 5.4217, Test R2: 0.0055\n",
      "Epoch 362/1000\n",
      "Train MSE: 69.8348, Train MAE: 5.2618\n"
     ]
    },
    {
     "name": "stderr",
     "output_type": "stream",
     "text": [
      " 36%|███▌      | 362/1000 [16:44<29:55,  2.82s/it]"
     ]
    },
    {
     "name": "stdout",
     "output_type": "stream",
     "text": [
      "Test MSE: 70.8956, Test MAE: 5.5049, Test R2: -0.3092\n",
      "Epoch 363/1000\n",
      "Train MSE: 71.1753, Train MAE: 5.2858\n"
     ]
    },
    {
     "name": "stderr",
     "output_type": "stream",
     "text": [
      " 36%|███▋      | 363/1000 [16:47<29:52,  2.81s/it]"
     ]
    },
    {
     "name": "stdout",
     "output_type": "stream",
     "text": [
      "Test MSE: 68.8414, Test MAE: 5.3956, Test R2: 0.1666\n",
      "Epoch 364/1000\n",
      "Train MSE: 68.0493, Train MAE: 5.2032\n"
     ]
    },
    {
     "name": "stderr",
     "output_type": "stream",
     "text": [
      " 36%|███▋      | 364/1000 [16:50<29:53,  2.82s/it]"
     ]
    },
    {
     "name": "stdout",
     "output_type": "stream",
     "text": [
      "Test MSE: 71.1120, Test MAE: 5.4746, Test R2: 0.1084\n",
      "Epoch 365/1000\n",
      "Train MSE: 67.9966, Train MAE: 5.2147\n"
     ]
    },
    {
     "name": "stderr",
     "output_type": "stream",
     "text": [
      " 36%|███▋      | 365/1000 [16:53<29:51,  2.82s/it]"
     ]
    },
    {
     "name": "stdout",
     "output_type": "stream",
     "text": [
      "Test MSE: 72.6157, Test MAE: 5.5029, Test R2: 0.0741\n",
      "Epoch 366/1000\n",
      "Train MSE: 67.3358, Train MAE: 5.1991\n"
     ]
    },
    {
     "name": "stderr",
     "output_type": "stream",
     "text": [
      " 37%|███▋      | 366/1000 [16:55<29:49,  2.82s/it]"
     ]
    },
    {
     "name": "stdout",
     "output_type": "stream",
     "text": [
      "Test MSE: 73.2558, Test MAE: 5.5184, Test R2: -0.0264\n",
      "Epoch 367/1000\n",
      "Train MSE: 68.8749, Train MAE: 5.2435\n"
     ]
    },
    {
     "name": "stderr",
     "output_type": "stream",
     "text": [
      " 37%|███▋      | 367/1000 [16:58<29:46,  2.82s/it]"
     ]
    },
    {
     "name": "stdout",
     "output_type": "stream",
     "text": [
      "Test MSE: 74.2901, Test MAE: 5.5419, Test R2: -0.0296\n",
      "Epoch 368/1000\n",
      "Train MSE: 69.8752, Train MAE: 5.2395\n"
     ]
    },
    {
     "name": "stderr",
     "output_type": "stream",
     "text": [
      " 37%|███▋      | 368/1000 [17:01<29:44,  2.82s/it]"
     ]
    },
    {
     "name": "stdout",
     "output_type": "stream",
     "text": [
      "Test MSE: 70.7830, Test MAE: 5.4593, Test R2: 0.2015\n",
      "Epoch 369/1000\n",
      "Train MSE: 68.0110, Train MAE: 5.2009\n"
     ]
    },
    {
     "name": "stderr",
     "output_type": "stream",
     "text": [
      " 37%|███▋      | 369/1000 [17:04<29:35,  2.81s/it]"
     ]
    },
    {
     "name": "stdout",
     "output_type": "stream",
     "text": [
      "Test MSE: 69.1411, Test MAE: 5.4090, Test R2: 0.0992\n",
      "Epoch 370/1000\n",
      "Train MSE: 68.0436, Train MAE: 5.2231\n"
     ]
    },
    {
     "name": "stderr",
     "output_type": "stream",
     "text": [
      " 37%|███▋      | 370/1000 [17:07<29:20,  2.79s/it]"
     ]
    },
    {
     "name": "stdout",
     "output_type": "stream",
     "text": [
      "Test MSE: 68.6379, Test MAE: 5.3931, Test R2: -0.1081\n",
      "Epoch 371/1000\n",
      "Train MSE: 69.4714, Train MAE: 5.2506\n"
     ]
    },
    {
     "name": "stderr",
     "output_type": "stream",
     "text": [
      " 37%|███▋      | 371/1000 [17:09<28:59,  2.76s/it]"
     ]
    },
    {
     "name": "stdout",
     "output_type": "stream",
     "text": [
      "Test MSE: 70.6258, Test MAE: 5.4627, Test R2: -0.0045\n",
      "Epoch 372/1000\n",
      "Train MSE: 68.7961, Train MAE: 5.2291\n"
     ]
    },
    {
     "name": "stderr",
     "output_type": "stream",
     "text": [
      " 37%|███▋      | 372/1000 [17:12<28:42,  2.74s/it]"
     ]
    },
    {
     "name": "stdout",
     "output_type": "stream",
     "text": [
      "Test MSE: 69.0712, Test MAE: 5.4710, Test R2: -0.0166\n",
      "Epoch 373/1000\n",
      "Train MSE: 68.8621, Train MAE: 5.2253\n"
     ]
    },
    {
     "name": "stderr",
     "output_type": "stream",
     "text": [
      " 37%|███▋      | 373/1000 [17:15<28:39,  2.74s/it]"
     ]
    },
    {
     "name": "stdout",
     "output_type": "stream",
     "text": [
      "Test MSE: 69.9554, Test MAE: 5.4890, Test R2: 0.0062\n",
      "Epoch 374/1000\n",
      "Train MSE: 70.1449, Train MAE: 5.2546\n"
     ]
    },
    {
     "name": "stderr",
     "output_type": "stream",
     "text": [
      " 37%|███▋      | 374/1000 [17:17<28:49,  2.76s/it]"
     ]
    },
    {
     "name": "stdout",
     "output_type": "stream",
     "text": [
      "Test MSE: 67.2709, Test MAE: 5.4109, Test R2: 0.0589\n",
      "Epoch 375/1000\n",
      "Train MSE: 68.2923, Train MAE: 5.2164\n"
     ]
    },
    {
     "name": "stderr",
     "output_type": "stream",
     "text": [
      " 38%|███▊      | 375/1000 [17:20<28:56,  2.78s/it]"
     ]
    },
    {
     "name": "stdout",
     "output_type": "stream",
     "text": [
      "Test MSE: 74.4928, Test MAE: 5.5520, Test R2: -0.0945\n",
      "Epoch 376/1000\n",
      "Train MSE: 71.0743, Train MAE: 5.2259\n"
     ]
    },
    {
     "name": "stderr",
     "output_type": "stream",
     "text": [
      " 38%|███▊      | 376/1000 [17:23<28:58,  2.79s/it]"
     ]
    },
    {
     "name": "stdout",
     "output_type": "stream",
     "text": [
      "Test MSE: 68.1876, Test MAE: 5.3681, Test R2: 0.0894\n",
      "Epoch 377/1000\n",
      "Train MSE: 67.4645, Train MAE: 5.1903\n"
     ]
    },
    {
     "name": "stderr",
     "output_type": "stream",
     "text": [
      " 38%|███▊      | 377/1000 [17:26<29:00,  2.79s/it]"
     ]
    },
    {
     "name": "stdout",
     "output_type": "stream",
     "text": [
      "Test MSE: 72.5369, Test MAE: 5.4918, Test R2: 0.1584\n",
      "Epoch 378/1000\n",
      "Train MSE: 69.7359, Train MAE: 5.2392\n"
     ]
    },
    {
     "name": "stderr",
     "output_type": "stream",
     "text": [
      " 38%|███▊      | 378/1000 [17:29<29:02,  2.80s/it]"
     ]
    },
    {
     "name": "stdout",
     "output_type": "stream",
     "text": [
      "Test MSE: 72.2675, Test MAE: 5.5132, Test R2: -0.1033\n",
      "Epoch 379/1000\n",
      "Train MSE: 68.2504, Train MAE: 5.2040\n"
     ]
    },
    {
     "name": "stderr",
     "output_type": "stream",
     "text": [
      " 38%|███▊      | 379/1000 [17:32<29:00,  2.80s/it]"
     ]
    },
    {
     "name": "stdout",
     "output_type": "stream",
     "text": [
      "Test MSE: 71.4379, Test MAE: 5.4903, Test R2: 0.0382\n",
      "Epoch 380/1000\n",
      "Train MSE: 70.3117, Train MAE: 5.2906\n"
     ]
    },
    {
     "name": "stderr",
     "output_type": "stream",
     "text": [
      " 38%|███▊      | 380/1000 [17:34<28:58,  2.80s/it]"
     ]
    },
    {
     "name": "stdout",
     "output_type": "stream",
     "text": [
      "Test MSE: 68.4993, Test MAE: 5.4501, Test R2: 0.0614\n",
      "Epoch 381/1000\n",
      "Train MSE: 68.5535, Train MAE: 5.2396\n"
     ]
    },
    {
     "name": "stderr",
     "output_type": "stream",
     "text": [
      " 38%|███▊      | 381/1000 [17:37<28:56,  2.81s/it]"
     ]
    },
    {
     "name": "stdout",
     "output_type": "stream",
     "text": [
      "Test MSE: 73.2279, Test MAE: 5.5455, Test R2: 0.0498\n",
      "Epoch 382/1000\n",
      "Train MSE: 71.9509, Train MAE: 5.2578\n"
     ]
    },
    {
     "name": "stderr",
     "output_type": "stream",
     "text": [
      " 38%|███▊      | 382/1000 [17:40<28:54,  2.81s/it]"
     ]
    },
    {
     "name": "stdout",
     "output_type": "stream",
     "text": [
      "Test MSE: 74.3458, Test MAE: 5.5555, Test R2: 0.1504\n",
      "Epoch 383/1000\n",
      "Train MSE: 69.4404, Train MAE: 5.2253\n"
     ]
    },
    {
     "name": "stderr",
     "output_type": "stream",
     "text": [
      " 38%|███▊      | 383/1000 [17:43<28:52,  2.81s/it]"
     ]
    },
    {
     "name": "stdout",
     "output_type": "stream",
     "text": [
      "Test MSE: 74.9083, Test MAE: 5.5998, Test R2: 0.1064\n",
      "Epoch 384/1000\n",
      "Train MSE: 71.0856, Train MAE: 5.2603\n"
     ]
    },
    {
     "name": "stderr",
     "output_type": "stream",
     "text": [
      " 38%|███▊      | 384/1000 [17:46<28:54,  2.82s/it]"
     ]
    },
    {
     "name": "stdout",
     "output_type": "stream",
     "text": [
      "Test MSE: 69.2539, Test MAE: 5.4739, Test R2: 0.1820\n",
      "Epoch 385/1000\n",
      "Train MSE: 69.5469, Train MAE: 5.2203\n"
     ]
    },
    {
     "name": "stderr",
     "output_type": "stream",
     "text": [
      " 38%|███▊      | 385/1000 [17:48<28:55,  2.82s/it]"
     ]
    },
    {
     "name": "stdout",
     "output_type": "stream",
     "text": [
      "Test MSE: 69.2486, Test MAE: 5.4013, Test R2: -0.1111\n",
      "Epoch 386/1000\n",
      "Train MSE: 69.5235, Train MAE: 5.2087\n"
     ]
    },
    {
     "name": "stderr",
     "output_type": "stream",
     "text": [
      " 39%|███▊      | 386/1000 [17:51<28:52,  2.82s/it]"
     ]
    },
    {
     "name": "stdout",
     "output_type": "stream",
     "text": [
      "Test MSE: 72.3161, Test MAE: 5.4914, Test R2: -0.0107\n",
      "Epoch 387/1000\n",
      "Train MSE: 67.5136, Train MAE: 5.2141\n"
     ]
    },
    {
     "name": "stderr",
     "output_type": "stream",
     "text": [
      " 39%|███▊      | 387/1000 [17:54<28:51,  2.83s/it]"
     ]
    },
    {
     "name": "stdout",
     "output_type": "stream",
     "text": [
      "Test MSE: 74.0783, Test MAE: 5.6337, Test R2: -0.1427\n",
      "Epoch 388/1000\n",
      "Train MSE: 68.8055, Train MAE: 5.2122\n"
     ]
    },
    {
     "name": "stderr",
     "output_type": "stream",
     "text": [
      " 39%|███▉      | 388/1000 [17:57<28:47,  2.82s/it]"
     ]
    },
    {
     "name": "stdout",
     "output_type": "stream",
     "text": [
      "Test MSE: 72.2308, Test MAE: 5.5112, Test R2: 0.0028\n",
      "Epoch 389/1000\n",
      "Train MSE: 68.7647, Train MAE: 5.2125\n"
     ]
    },
    {
     "name": "stderr",
     "output_type": "stream",
     "text": [
      " 39%|███▉      | 389/1000 [18:00<28:46,  2.83s/it]"
     ]
    },
    {
     "name": "stdout",
     "output_type": "stream",
     "text": [
      "Test MSE: 71.1116, Test MAE: 5.4832, Test R2: 0.0303\n",
      "Epoch 390/1000\n",
      "Train MSE: 69.6355, Train MAE: 5.2269\n"
     ]
    },
    {
     "name": "stderr",
     "output_type": "stream",
     "text": [
      " 39%|███▉      | 390/1000 [18:03<28:47,  2.83s/it]"
     ]
    },
    {
     "name": "stdout",
     "output_type": "stream",
     "text": [
      "Test MSE: 70.1506, Test MAE: 5.4637, Test R2: -0.1442\n",
      "Epoch 391/1000\n",
      "Train MSE: 67.0987, Train MAE: 5.1604\n"
     ]
    },
    {
     "name": "stderr",
     "output_type": "stream",
     "text": [
      " 39%|███▉      | 391/1000 [18:05<28:47,  2.84s/it]"
     ]
    },
    {
     "name": "stdout",
     "output_type": "stream",
     "text": [
      "Test MSE: 72.9573, Test MAE: 5.4756, Test R2: -0.0565\n",
      "Epoch 392/1000\n",
      "Train MSE: 70.1269, Train MAE: 5.2292\n"
     ]
    },
    {
     "name": "stderr",
     "output_type": "stream",
     "text": [
      " 39%|███▉      | 392/1000 [18:08<28:40,  2.83s/it]"
     ]
    },
    {
     "name": "stdout",
     "output_type": "stream",
     "text": [
      "Test MSE: 67.2525, Test MAE: 5.4552, Test R2: 0.0968\n",
      "Epoch 393/1000\n",
      "Train MSE: 68.0216, Train MAE: 5.2210\n"
     ]
    },
    {
     "name": "stderr",
     "output_type": "stream",
     "text": [
      " 39%|███▉      | 393/1000 [18:11<28:31,  2.82s/it]"
     ]
    },
    {
     "name": "stdout",
     "output_type": "stream",
     "text": [
      "Test MSE: 74.9537, Test MAE: 5.5755, Test R2: 0.0905\n",
      "Epoch 394/1000\n",
      "Train MSE: 68.2856, Train MAE: 5.2071\n"
     ]
    },
    {
     "name": "stderr",
     "output_type": "stream",
     "text": [
      " 39%|███▉      | 394/1000 [18:14<28:09,  2.79s/it]"
     ]
    },
    {
     "name": "stdout",
     "output_type": "stream",
     "text": [
      "Test MSE: 70.3426, Test MAE: 5.4827, Test R2: 0.1654\n",
      "Epoch 395/1000\n",
      "Train MSE: 70.1525, Train MAE: 5.2696\n"
     ]
    },
    {
     "name": "stderr",
     "output_type": "stream",
     "text": [
      " 40%|███▉      | 395/1000 [18:16<27:50,  2.76s/it]"
     ]
    },
    {
     "name": "stdout",
     "output_type": "stream",
     "text": [
      "Test MSE: 73.5722, Test MAE: 5.5441, Test R2: -0.1290\n",
      "Epoch 396/1000\n",
      "Train MSE: 69.2643, Train MAE: 5.2174\n"
     ]
    },
    {
     "name": "stderr",
     "output_type": "stream",
     "text": [
      " 40%|███▉      | 396/1000 [18:19<27:36,  2.74s/it]"
     ]
    },
    {
     "name": "stdout",
     "output_type": "stream",
     "text": [
      "Test MSE: 74.7073, Test MAE: 5.5248, Test R2: 0.1525\n",
      "Epoch 397/1000\n",
      "Train MSE: 69.5557, Train MAE: 5.2023\n"
     ]
    },
    {
     "name": "stderr",
     "output_type": "stream",
     "text": [
      " 40%|███▉      | 397/1000 [18:22<27:24,  2.73s/it]"
     ]
    },
    {
     "name": "stdout",
     "output_type": "stream",
     "text": [
      "Test MSE: 71.0386, Test MAE: 5.4434, Test R2: 0.1337\n",
      "Epoch 398/1000\n",
      "Train MSE: 68.7561, Train MAE: 5.1995\n"
     ]
    },
    {
     "name": "stderr",
     "output_type": "stream",
     "text": [
      " 40%|███▉      | 398/1000 [18:25<27:25,  2.73s/it]"
     ]
    },
    {
     "name": "stdout",
     "output_type": "stream",
     "text": [
      "Test MSE: 72.9828, Test MAE: 5.5023, Test R2: 0.1065\n",
      "Epoch 399/1000\n",
      "Train MSE: 69.2227, Train MAE: 5.2412\n"
     ]
    },
    {
     "name": "stderr",
     "output_type": "stream",
     "text": [
      " 40%|███▉      | 399/1000 [18:27<27:11,  2.71s/it]"
     ]
    },
    {
     "name": "stdout",
     "output_type": "stream",
     "text": [
      "Test MSE: 68.6113, Test MAE: 5.4078, Test R2: 0.0386\n",
      "Epoch 400/1000\n",
      "Train MSE: 67.2165, Train MAE: 5.1359\n"
     ]
    },
    {
     "name": "stderr",
     "output_type": "stream",
     "text": [
      " 40%|████      | 400/1000 [18:30<27:03,  2.71s/it]"
     ]
    },
    {
     "name": "stdout",
     "output_type": "stream",
     "text": [
      "Test MSE: 72.9215, Test MAE: 5.4918, Test R2: -0.1672\n",
      "Epoch 401/1000\n",
      "Train MSE: 70.7293, Train MAE: 5.3083\n"
     ]
    },
    {
     "name": "stderr",
     "output_type": "stream",
     "text": [
      " 40%|████      | 401/1000 [18:33<26:55,  2.70s/it]"
     ]
    },
    {
     "name": "stdout",
     "output_type": "stream",
     "text": [
      "Test MSE: 77.1326, Test MAE: 5.5976, Test R2: -0.4185\n",
      "Epoch 402/1000\n",
      "Train MSE: 68.2413, Train MAE: 5.2053\n"
     ]
    },
    {
     "name": "stderr",
     "output_type": "stream",
     "text": [
      " 40%|████      | 402/1000 [18:35<26:49,  2.69s/it]"
     ]
    },
    {
     "name": "stdout",
     "output_type": "stream",
     "text": [
      "Test MSE: 68.3184, Test MAE: 5.4096, Test R2: -0.1323\n",
      "Epoch 403/1000\n",
      "Train MSE: 66.8229, Train MAE: 5.1502\n"
     ]
    },
    {
     "name": "stderr",
     "output_type": "stream",
     "text": [
      " 40%|████      | 403/1000 [18:38<26:45,  2.69s/it]"
     ]
    },
    {
     "name": "stdout",
     "output_type": "stream",
     "text": [
      "Test MSE: 70.3691, Test MAE: 5.4629, Test R2: -0.2473\n",
      "Epoch 404/1000\n",
      "Train MSE: 68.4993, Train MAE: 5.2094\n"
     ]
    },
    {
     "name": "stderr",
     "output_type": "stream",
     "text": [
      " 40%|████      | 404/1000 [18:41<26:41,  2.69s/it]"
     ]
    },
    {
     "name": "stdout",
     "output_type": "stream",
     "text": [
      "Test MSE: 72.9344, Test MAE: 5.5397, Test R2: 0.1314\n",
      "Epoch 405/1000\n",
      "Train MSE: 69.0557, Train MAE: 5.2403\n"
     ]
    },
    {
     "name": "stderr",
     "output_type": "stream",
     "text": [
      " 40%|████      | 405/1000 [18:43<26:53,  2.71s/it]"
     ]
    },
    {
     "name": "stdout",
     "output_type": "stream",
     "text": [
      "Test MSE: 71.1806, Test MAE: 5.4806, Test R2: -0.1466\n",
      "Epoch 406/1000\n",
      "Train MSE: 67.1426, Train MAE: 5.1922\n"
     ]
    },
    {
     "name": "stderr",
     "output_type": "stream",
     "text": [
      " 41%|████      | 406/1000 [18:46<26:45,  2.70s/it]"
     ]
    },
    {
     "name": "stdout",
     "output_type": "stream",
     "text": [
      "Test MSE: 69.5615, Test MAE: 5.4766, Test R2: 0.0219\n",
      "Epoch 407/1000\n",
      "Train MSE: 67.1599, Train MAE: 5.1552\n"
     ]
    },
    {
     "name": "stderr",
     "output_type": "stream",
     "text": [
      " 41%|████      | 407/1000 [18:49<26:41,  2.70s/it]"
     ]
    },
    {
     "name": "stdout",
     "output_type": "stream",
     "text": [
      "Test MSE: 73.0631, Test MAE: 5.5098, Test R2: -0.0619\n",
      "Epoch 408/1000\n",
      "Train MSE: 69.9810, Train MAE: 5.2769\n"
     ]
    },
    {
     "name": "stderr",
     "output_type": "stream",
     "text": [
      " 41%|████      | 408/1000 [18:52<26:35,  2.70s/it]"
     ]
    },
    {
     "name": "stdout",
     "output_type": "stream",
     "text": [
      "Test MSE: 73.1995, Test MAE: 5.5792, Test R2: -0.0517\n",
      "Epoch 409/1000\n",
      "Train MSE: 68.9771, Train MAE: 5.2266\n"
     ]
    },
    {
     "name": "stderr",
     "output_type": "stream",
     "text": [
      " 41%|████      | 409/1000 [18:54<26:31,  2.69s/it]"
     ]
    },
    {
     "name": "stdout",
     "output_type": "stream",
     "text": [
      "Test MSE: 70.8744, Test MAE: 5.4971, Test R2: -0.1810\n",
      "Epoch 410/1000\n",
      "Train MSE: 70.1045, Train MAE: 5.2617\n"
     ]
    },
    {
     "name": "stderr",
     "output_type": "stream",
     "text": [
      " 41%|████      | 410/1000 [18:57<26:37,  2.71s/it]"
     ]
    },
    {
     "name": "stdout",
     "output_type": "stream",
     "text": [
      "Test MSE: 68.0587, Test MAE: 5.3789, Test R2: 0.0225\n",
      "Epoch 411/1000\n",
      "Train MSE: 66.4591, Train MAE: 5.1601\n"
     ]
    },
    {
     "name": "stderr",
     "output_type": "stream",
     "text": [
      " 41%|████      | 411/1000 [19:00<26:47,  2.73s/it]"
     ]
    },
    {
     "name": "stdout",
     "output_type": "stream",
     "text": [
      "Test MSE: 72.0724, Test MAE: 5.4954, Test R2: 0.1019\n",
      "Epoch 412/1000\n",
      "Train MSE: 65.9055, Train MAE: 5.1671\n"
     ]
    },
    {
     "name": "stderr",
     "output_type": "stream",
     "text": [
      " 41%|████      | 412/1000 [19:03<26:53,  2.74s/it]"
     ]
    },
    {
     "name": "stdout",
     "output_type": "stream",
     "text": [
      "Test MSE: 72.1408, Test MAE: 5.5495, Test R2: -0.0254\n",
      "Epoch 413/1000\n",
      "Train MSE: 68.5429, Train MAE: 5.1776\n"
     ]
    },
    {
     "name": "stderr",
     "output_type": "stream",
     "text": [
      " 41%|████▏     | 413/1000 [19:05<26:58,  2.76s/it]"
     ]
    },
    {
     "name": "stdout",
     "output_type": "stream",
     "text": [
      "Test MSE: 69.9731, Test MAE: 5.4813, Test R2: -0.1537\n",
      "Epoch 414/1000\n",
      "Train MSE: 68.0899, Train MAE: 5.2224\n"
     ]
    },
    {
     "name": "stderr",
     "output_type": "stream",
     "text": [
      " 41%|████▏     | 414/1000 [19:08<26:58,  2.76s/it]"
     ]
    },
    {
     "name": "stdout",
     "output_type": "stream",
     "text": [
      "Test MSE: 74.7901, Test MAE: 5.5966, Test R2: -0.0056\n",
      "Epoch 415/1000\n",
      "Train MSE: 68.1766, Train MAE: 5.2047\n"
     ]
    },
    {
     "name": "stderr",
     "output_type": "stream",
     "text": [
      " 42%|████▏     | 415/1000 [19:11<26:56,  2.76s/it]"
     ]
    },
    {
     "name": "stdout",
     "output_type": "stream",
     "text": [
      "Test MSE: 73.6272, Test MAE: 5.5621, Test R2: -0.3154\n",
      "Epoch 416/1000\n",
      "Train MSE: 67.1552, Train MAE: 5.1683\n"
     ]
    },
    {
     "name": "stderr",
     "output_type": "stream",
     "text": [
      " 42%|████▏     | 416/1000 [19:14<26:57,  2.77s/it]"
     ]
    },
    {
     "name": "stdout",
     "output_type": "stream",
     "text": [
      "Test MSE: 69.7620, Test MAE: 5.4716, Test R2: -0.1070\n",
      "Epoch 417/1000\n",
      "Train MSE: 67.2257, Train MAE: 5.1558\n"
     ]
    },
    {
     "name": "stderr",
     "output_type": "stream",
     "text": [
      " 42%|████▏     | 417/1000 [19:16<26:37,  2.74s/it]"
     ]
    },
    {
     "name": "stdout",
     "output_type": "stream",
     "text": [
      "Test MSE: 67.7280, Test MAE: 5.3918, Test R2: -0.0405\n",
      "Epoch 418/1000\n",
      "Train MSE: 67.1669, Train MAE: 5.1385\n"
     ]
    },
    {
     "name": "stderr",
     "output_type": "stream",
     "text": [
      " 42%|████▏     | 418/1000 [19:19<26:35,  2.74s/it]"
     ]
    },
    {
     "name": "stdout",
     "output_type": "stream",
     "text": [
      "Test MSE: 72.6778, Test MAE: 5.5013, Test R2: -0.3899\n",
      "Epoch 419/1000\n",
      "Train MSE: 68.2737, Train MAE: 5.2142\n"
     ]
    },
    {
     "name": "stderr",
     "output_type": "stream",
     "text": [
      " 42%|████▏     | 419/1000 [19:22<26:22,  2.72s/it]"
     ]
    },
    {
     "name": "stdout",
     "output_type": "stream",
     "text": [
      "Test MSE: 73.6211, Test MAE: 5.5554, Test R2: -0.0471\n",
      "Epoch 420/1000\n",
      "Train MSE: 66.8462, Train MAE: 5.1602\n"
     ]
    },
    {
     "name": "stderr",
     "output_type": "stream",
     "text": [
      " 42%|████▏     | 420/1000 [19:24<26:15,  2.72s/it]"
     ]
    },
    {
     "name": "stdout",
     "output_type": "stream",
     "text": [
      "Test MSE: 70.6505, Test MAE: 5.5248, Test R2: -0.1492\n",
      "Epoch 421/1000\n",
      "Train MSE: 66.9362, Train MAE: 5.1441\n"
     ]
    },
    {
     "name": "stderr",
     "output_type": "stream",
     "text": [
      " 42%|████▏     | 421/1000 [19:27<26:06,  2.71s/it]"
     ]
    },
    {
     "name": "stdout",
     "output_type": "stream",
     "text": [
      "Test MSE: 73.6616, Test MAE: 5.5153, Test R2: 0.0904\n",
      "Epoch 422/1000\n",
      "Train MSE: 69.3940, Train MAE: 5.2050\n"
     ]
    },
    {
     "name": "stderr",
     "output_type": "stream",
     "text": [
      " 42%|████▏     | 422/1000 [19:30<26:03,  2.71s/it]"
     ]
    },
    {
     "name": "stdout",
     "output_type": "stream",
     "text": [
      "Test MSE: 73.8373, Test MAE: 5.5808, Test R2: 0.1159\n",
      "Epoch 423/1000\n",
      "Train MSE: 69.0837, Train MAE: 5.1954\n"
     ]
    },
    {
     "name": "stderr",
     "output_type": "stream",
     "text": [
      " 42%|████▏     | 423/1000 [19:32<25:59,  2.70s/it]"
     ]
    },
    {
     "name": "stdout",
     "output_type": "stream",
     "text": [
      "Test MSE: 70.8195, Test MAE: 5.4640, Test R2: -0.1500\n",
      "Epoch 424/1000\n",
      "Train MSE: 68.7929, Train MAE: 5.1945\n"
     ]
    },
    {
     "name": "stderr",
     "output_type": "stream",
     "text": [
      " 42%|████▏     | 424/1000 [19:35<26:01,  2.71s/it]"
     ]
    },
    {
     "name": "stdout",
     "output_type": "stream",
     "text": [
      "Test MSE: 68.5966, Test MAE: 5.4346, Test R2: -0.1350\n",
      "Epoch 425/1000\n",
      "Train MSE: 66.1026, Train MAE: 5.1648\n"
     ]
    },
    {
     "name": "stderr",
     "output_type": "stream",
     "text": [
      " 42%|████▎     | 425/1000 [19:38<25:59,  2.71s/it]"
     ]
    },
    {
     "name": "stdout",
     "output_type": "stream",
     "text": [
      "Test MSE: 72.8332, Test MAE: 5.4797, Test R2: 0.1060\n",
      "Epoch 426/1000\n",
      "Train MSE: 66.3587, Train MAE: 5.1687\n"
     ]
    },
    {
     "name": "stderr",
     "output_type": "stream",
     "text": [
      " 43%|████▎     | 426/1000 [19:41<25:56,  2.71s/it]"
     ]
    },
    {
     "name": "stdout",
     "output_type": "stream",
     "text": [
      "Test MSE: 72.8564, Test MAE: 5.5752, Test R2: -0.4028\n",
      "Epoch 427/1000\n",
      "Train MSE: 67.1003, Train MAE: 5.1861\n"
     ]
    },
    {
     "name": "stderr",
     "output_type": "stream",
     "text": [
      " 43%|████▎     | 427/1000 [19:43<25:49,  2.70s/it]"
     ]
    },
    {
     "name": "stdout",
     "output_type": "stream",
     "text": [
      "Test MSE: 66.3548, Test MAE: 5.3597, Test R2: -0.0153\n",
      "Epoch 428/1000\n",
      "Train MSE: 69.4308, Train MAE: 5.2231\n"
     ]
    },
    {
     "name": "stderr",
     "output_type": "stream",
     "text": [
      " 43%|████▎     | 428/1000 [19:46<25:46,  2.70s/it]"
     ]
    },
    {
     "name": "stdout",
     "output_type": "stream",
     "text": [
      "Test MSE: 69.4849, Test MAE: 5.4290, Test R2: -0.1915\n",
      "Epoch 429/1000\n",
      "Train MSE: 68.7993, Train MAE: 5.1838\n"
     ]
    },
    {
     "name": "stderr",
     "output_type": "stream",
     "text": [
      " 43%|████▎     | 429/1000 [19:49<25:57,  2.73s/it]"
     ]
    },
    {
     "name": "stdout",
     "output_type": "stream",
     "text": [
      "Test MSE: 64.7700, Test MAE: 5.3751, Test R2: 0.0792\n",
      "Epoch 430/1000\n",
      "Train MSE: 67.6622, Train MAE: 5.1779\n"
     ]
    },
    {
     "name": "stderr",
     "output_type": "stream",
     "text": [
      " 43%|████▎     | 430/1000 [19:52<25:57,  2.73s/it]"
     ]
    },
    {
     "name": "stdout",
     "output_type": "stream",
     "text": [
      "Test MSE: 70.9610, Test MAE: 5.4787, Test R2: 0.0955\n",
      "Epoch 431/1000\n",
      "Train MSE: 65.9613, Train MAE: 5.1328\n"
     ]
    },
    {
     "name": "stderr",
     "output_type": "stream",
     "text": [
      " 43%|████▎     | 431/1000 [19:54<25:57,  2.74s/it]"
     ]
    },
    {
     "name": "stdout",
     "output_type": "stream",
     "text": [
      "Test MSE: 70.7792, Test MAE: 5.5380, Test R2: -0.2745\n",
      "Epoch 432/1000\n",
      "Train MSE: 66.9678, Train MAE: 5.1948\n"
     ]
    },
    {
     "name": "stderr",
     "output_type": "stream",
     "text": [
      " 43%|████▎     | 432/1000 [19:57<26:09,  2.76s/it]"
     ]
    },
    {
     "name": "stdout",
     "output_type": "stream",
     "text": [
      "Test MSE: 66.2227, Test MAE: 5.3830, Test R2: -0.3266\n",
      "Epoch 433/1000\n",
      "Train MSE: 68.8251, Train MAE: 5.1921\n"
     ]
    },
    {
     "name": "stderr",
     "output_type": "stream",
     "text": [
      " 43%|████▎     | 433/1000 [20:00<26:12,  2.77s/it]"
     ]
    },
    {
     "name": "stdout",
     "output_type": "stream",
     "text": [
      "Test MSE: 68.4998, Test MAE: 5.4331, Test R2: -0.1330\n",
      "Epoch 434/1000\n",
      "Train MSE: 68.5768, Train MAE: 5.2021\n"
     ]
    },
    {
     "name": "stderr",
     "output_type": "stream",
     "text": [
      " 43%|████▎     | 434/1000 [20:03<26:17,  2.79s/it]"
     ]
    },
    {
     "name": "stdout",
     "output_type": "stream",
     "text": [
      "Test MSE: 66.9381, Test MAE: 5.3471, Test R2: -0.0755\n",
      "Epoch 435/1000\n",
      "Train MSE: 64.7471, Train MAE: 5.1236\n"
     ]
    },
    {
     "name": "stderr",
     "output_type": "stream",
     "text": [
      " 44%|████▎     | 435/1000 [20:06<26:14,  2.79s/it]"
     ]
    },
    {
     "name": "stdout",
     "output_type": "stream",
     "text": [
      "Test MSE: 69.1791, Test MAE: 5.4001, Test R2: 0.0641\n",
      "Epoch 436/1000\n",
      "Train MSE: 66.7273, Train MAE: 5.1379\n"
     ]
    },
    {
     "name": "stderr",
     "output_type": "stream",
     "text": [
      " 44%|████▎     | 436/1000 [20:08<26:13,  2.79s/it]"
     ]
    },
    {
     "name": "stdout",
     "output_type": "stream",
     "text": [
      "Test MSE: 68.7490, Test MAE: 5.4516, Test R2: -0.1482\n",
      "Epoch 437/1000\n",
      "Train MSE: 68.5366, Train MAE: 5.2023\n"
     ]
    },
    {
     "name": "stderr",
     "output_type": "stream",
     "text": [
      " 44%|████▎     | 437/1000 [20:11<26:10,  2.79s/it]"
     ]
    },
    {
     "name": "stdout",
     "output_type": "stream",
     "text": [
      "Test MSE: 72.7057, Test MAE: 5.5187, Test R2: 0.1398\n",
      "Epoch 438/1000\n",
      "Train MSE: 67.8428, Train MAE: 5.1903\n"
     ]
    },
    {
     "name": "stderr",
     "output_type": "stream",
     "text": [
      " 44%|████▍     | 438/1000 [20:14<26:04,  2.78s/it]"
     ]
    },
    {
     "name": "stdout",
     "output_type": "stream",
     "text": [
      "Test MSE: 69.4142, Test MAE: 5.4297, Test R2: 0.1085\n",
      "Epoch 439/1000\n",
      "Train MSE: 67.4076, Train MAE: 5.1690\n"
     ]
    },
    {
     "name": "stderr",
     "output_type": "stream",
     "text": [
      " 44%|████▍     | 439/1000 [20:17<26:02,  2.78s/it]"
     ]
    },
    {
     "name": "stdout",
     "output_type": "stream",
     "text": [
      "Test MSE: 72.7788, Test MAE: 5.5161, Test R2: 0.0875\n",
      "Epoch 440/1000\n",
      "Train MSE: 66.3571, Train MAE: 5.1442\n"
     ]
    },
    {
     "name": "stderr",
     "output_type": "stream",
     "text": [
      " 44%|████▍     | 440/1000 [20:19<25:56,  2.78s/it]"
     ]
    },
    {
     "name": "stdout",
     "output_type": "stream",
     "text": [
      "Test MSE: 70.1012, Test MAE: 5.4581, Test R2: -0.1424\n",
      "Epoch 441/1000\n",
      "Train MSE: 66.7529, Train MAE: 5.1287\n"
     ]
    },
    {
     "name": "stderr",
     "output_type": "stream",
     "text": [
      " 44%|████▍     | 441/1000 [20:22<25:55,  2.78s/it]"
     ]
    },
    {
     "name": "stdout",
     "output_type": "stream",
     "text": [
      "Test MSE: 66.7344, Test MAE: 5.3509, Test R2: -0.1893\n",
      "Epoch 442/1000\n",
      "Train MSE: 67.3388, Train MAE: 5.1730\n"
     ]
    },
    {
     "name": "stderr",
     "output_type": "stream",
     "text": [
      " 44%|████▍     | 442/1000 [20:25<25:52,  2.78s/it]"
     ]
    },
    {
     "name": "stdout",
     "output_type": "stream",
     "text": [
      "Test MSE: 71.0026, Test MAE: 5.4650, Test R2: -0.1528\n",
      "Epoch 443/1000\n",
      "Train MSE: 67.3522, Train MAE: 5.1349\n"
     ]
    },
    {
     "name": "stderr",
     "output_type": "stream",
     "text": [
      " 44%|████▍     | 443/1000 [20:28<25:56,  2.79s/it]"
     ]
    },
    {
     "name": "stdout",
     "output_type": "stream",
     "text": [
      "Test MSE: 72.2562, Test MAE: 5.5398, Test R2: -0.0745\n",
      "Epoch 444/1000\n",
      "Train MSE: 67.0338, Train MAE: 5.1544\n"
     ]
    },
    {
     "name": "stderr",
     "output_type": "stream",
     "text": [
      " 44%|████▍     | 444/1000 [20:31<25:58,  2.80s/it]"
     ]
    },
    {
     "name": "stdout",
     "output_type": "stream",
     "text": [
      "Test MSE: 71.5233, Test MAE: 5.5163, Test R2: 0.0537\n",
      "Epoch 445/1000\n",
      "Train MSE: 65.8919, Train MAE: 5.1428\n"
     ]
    },
    {
     "name": "stderr",
     "output_type": "stream",
     "text": [
      " 44%|████▍     | 445/1000 [20:33<25:59,  2.81s/it]"
     ]
    },
    {
     "name": "stdout",
     "output_type": "stream",
     "text": [
      "Test MSE: 68.8360, Test MAE: 5.4229, Test R2: -0.3632\n",
      "Epoch 446/1000\n",
      "Train MSE: 65.4864, Train MAE: 5.1228\n"
     ]
    },
    {
     "name": "stderr",
     "output_type": "stream",
     "text": [
      " 45%|████▍     | 446/1000 [20:36<26:00,  2.82s/it]"
     ]
    },
    {
     "name": "stdout",
     "output_type": "stream",
     "text": [
      "Test MSE: 68.7108, Test MAE: 5.3766, Test R2: -0.1409\n",
      "Epoch 447/1000\n",
      "Train MSE: 65.4651, Train MAE: 5.1332\n"
     ]
    },
    {
     "name": "stderr",
     "output_type": "stream",
     "text": [
      " 45%|████▍     | 447/1000 [20:39<26:00,  2.82s/it]"
     ]
    },
    {
     "name": "stdout",
     "output_type": "stream",
     "text": [
      "Test MSE: 67.0569, Test MAE: 5.3859, Test R2: -0.0951\n",
      "Epoch 448/1000\n",
      "Train MSE: 67.6237, Train MAE: 5.2028\n"
     ]
    },
    {
     "name": "stderr",
     "output_type": "stream",
     "text": [
      " 45%|████▍     | 448/1000 [20:42<25:57,  2.82s/it]"
     ]
    },
    {
     "name": "stdout",
     "output_type": "stream",
     "text": [
      "Test MSE: 65.4925, Test MAE: 5.2889, Test R2: 0.0021\n",
      "Epoch 449/1000\n",
      "Train MSE: 67.8409, Train MAE: 5.1567\n"
     ]
    },
    {
     "name": "stderr",
     "output_type": "stream",
     "text": [
      " 45%|████▍     | 449/1000 [20:45<25:57,  2.83s/it]"
     ]
    },
    {
     "name": "stdout",
     "output_type": "stream",
     "text": [
      "Test MSE: 69.0053, Test MAE: 5.3990, Test R2: 0.0586\n",
      "Epoch 450/1000\n",
      "Train MSE: 66.9050, Train MAE: 5.1370\n"
     ]
    },
    {
     "name": "stderr",
     "output_type": "stream",
     "text": [
      " 45%|████▌     | 450/1000 [20:48<25:54,  2.83s/it]"
     ]
    },
    {
     "name": "stdout",
     "output_type": "stream",
     "text": [
      "Test MSE: 73.1295, Test MAE: 5.4846, Test R2: 0.0956\n",
      "Epoch 451/1000\n",
      "Train MSE: 67.1805, Train MAE: 5.1313\n"
     ]
    },
    {
     "name": "stderr",
     "output_type": "stream",
     "text": [
      " 45%|████▌     | 451/1000 [20:50<25:51,  2.83s/it]"
     ]
    },
    {
     "name": "stdout",
     "output_type": "stream",
     "text": [
      "Test MSE: 67.2084, Test MAE: 5.3541, Test R2: 0.1728\n",
      "Epoch 452/1000\n",
      "Train MSE: 65.9590, Train MAE: 5.1796\n"
     ]
    },
    {
     "name": "stderr",
     "output_type": "stream",
     "text": [
      " 45%|████▌     | 452/1000 [20:53<25:47,  2.82s/it]"
     ]
    },
    {
     "name": "stdout",
     "output_type": "stream",
     "text": [
      "Test MSE: 73.0557, Test MAE: 5.5255, Test R2: -0.0406\n",
      "Epoch 453/1000\n",
      "Train MSE: 67.4341, Train MAE: 5.1588\n"
     ]
    },
    {
     "name": "stderr",
     "output_type": "stream",
     "text": [
      " 45%|████▌     | 453/1000 [20:56<25:42,  2.82s/it]"
     ]
    },
    {
     "name": "stdout",
     "output_type": "stream",
     "text": [
      "Test MSE: 65.7699, Test MAE: 5.3345, Test R2: 0.0352\n",
      "Epoch 454/1000\n",
      "Train MSE: 66.9374, Train MAE: 5.1255\n"
     ]
    },
    {
     "name": "stderr",
     "output_type": "stream",
     "text": [
      " 45%|████▌     | 454/1000 [20:59<25:30,  2.80s/it]"
     ]
    },
    {
     "name": "stdout",
     "output_type": "stream",
     "text": [
      "Test MSE: 71.1001, Test MAE: 5.4327, Test R2: 0.1225\n",
      "Epoch 455/1000\n",
      "Train MSE: 68.6759, Train MAE: 5.1990\n"
     ]
    },
    {
     "name": "stderr",
     "output_type": "stream",
     "text": [
      " 46%|████▌     | 455/1000 [21:02<25:22,  2.79s/it]"
     ]
    },
    {
     "name": "stdout",
     "output_type": "stream",
     "text": [
      "Test MSE: 74.7552, Test MAE: 5.5718, Test R2: 0.0591\n",
      "Epoch 456/1000\n",
      "Train MSE: 65.7489, Train MAE: 5.1097\n"
     ]
    },
    {
     "name": "stderr",
     "output_type": "stream",
     "text": [
      " 46%|████▌     | 456/1000 [21:04<25:17,  2.79s/it]"
     ]
    },
    {
     "name": "stdout",
     "output_type": "stream",
     "text": [
      "Test MSE: 69.1051, Test MAE: 5.3891, Test R2: 0.0855\n",
      "Epoch 457/1000\n",
      "Train MSE: 67.4290, Train MAE: 5.1648\n"
     ]
    },
    {
     "name": "stderr",
     "output_type": "stream",
     "text": [
      " 46%|████▌     | 457/1000 [21:07<25:08,  2.78s/it]"
     ]
    },
    {
     "name": "stdout",
     "output_type": "stream",
     "text": [
      "Test MSE: 77.9575, Test MAE: 5.6151, Test R2: -0.2276\n",
      "Epoch 458/1000\n",
      "Train MSE: 68.2724, Train MAE: 5.1606\n"
     ]
    },
    {
     "name": "stderr",
     "output_type": "stream",
     "text": [
      " 46%|████▌     | 458/1000 [21:10<25:12,  2.79s/it]"
     ]
    },
    {
     "name": "stdout",
     "output_type": "stream",
     "text": [
      "Test MSE: 67.7306, Test MAE: 5.4221, Test R2: -0.0204\n",
      "Epoch 459/1000\n",
      "Train MSE: 67.0378, Train MAE: 5.1836\n"
     ]
    },
    {
     "name": "stderr",
     "output_type": "stream",
     "text": [
      " 46%|████▌     | 459/1000 [21:13<25:05,  2.78s/it]"
     ]
    },
    {
     "name": "stdout",
     "output_type": "stream",
     "text": [
      "Test MSE: 69.1534, Test MAE: 5.4574, Test R2: 0.0957\n",
      "Epoch 460/1000\n",
      "Train MSE: 67.0726, Train MAE: 5.1687\n"
     ]
    },
    {
     "name": "stderr",
     "output_type": "stream",
     "text": [
      " 46%|████▌     | 460/1000 [21:16<24:59,  2.78s/it]"
     ]
    },
    {
     "name": "stdout",
     "output_type": "stream",
     "text": [
      "Test MSE: 69.9880, Test MAE: 5.4585, Test R2: 0.0284\n",
      "Epoch 461/1000\n",
      "Train MSE: 67.0062, Train MAE: 5.1506\n"
     ]
    },
    {
     "name": "stderr",
     "output_type": "stream",
     "text": [
      " 46%|████▌     | 461/1000 [21:18<24:57,  2.78s/it]"
     ]
    },
    {
     "name": "stdout",
     "output_type": "stream",
     "text": [
      "Test MSE: 70.0444, Test MAE: 5.4377, Test R2: -0.1013\n",
      "Epoch 462/1000\n",
      "Train MSE: 69.1802, Train MAE: 5.1819\n"
     ]
    },
    {
     "name": "stderr",
     "output_type": "stream",
     "text": [
      " 46%|████▌     | 462/1000 [21:21<24:53,  2.78s/it]"
     ]
    },
    {
     "name": "stdout",
     "output_type": "stream",
     "text": [
      "Test MSE: 74.9991, Test MAE: 5.6053, Test R2: -0.0755\n",
      "Epoch 463/1000\n",
      "Train MSE: 65.4396, Train MAE: 5.1118\n"
     ]
    },
    {
     "name": "stderr",
     "output_type": "stream",
     "text": [
      " 46%|████▋     | 463/1000 [21:24<24:48,  2.77s/it]"
     ]
    },
    {
     "name": "stdout",
     "output_type": "stream",
     "text": [
      "Test MSE: 77.8513, Test MAE: 5.6443, Test R2: 0.0723\n",
      "Epoch 464/1000\n",
      "Train MSE: 72.8865, Train MAE: 5.2030\n"
     ]
    },
    {
     "name": "stderr",
     "output_type": "stream",
     "text": [
      " 46%|████▋     | 464/1000 [21:27<24:43,  2.77s/it]"
     ]
    },
    {
     "name": "stdout",
     "output_type": "stream",
     "text": [
      "Test MSE: 67.6088, Test MAE: 5.4189, Test R2: 0.0890\n",
      "Epoch 465/1000\n",
      "Train MSE: 68.1158, Train MAE: 5.1930\n"
     ]
    },
    {
     "name": "stderr",
     "output_type": "stream",
     "text": [
      " 46%|████▋     | 465/1000 [21:29<24:39,  2.77s/it]"
     ]
    },
    {
     "name": "stdout",
     "output_type": "stream",
     "text": [
      "Test MSE: 67.9303, Test MAE: 5.3744, Test R2: 0.0598\n",
      "Epoch 466/1000\n",
      "Train MSE: 65.6918, Train MAE: 5.0970\n"
     ]
    },
    {
     "name": "stderr",
     "output_type": "stream",
     "text": [
      " 47%|████▋     | 466/1000 [21:32<24:39,  2.77s/it]"
     ]
    },
    {
     "name": "stdout",
     "output_type": "stream",
     "text": [
      "Test MSE: 72.8776, Test MAE: 5.4810, Test R2: -0.1517\n",
      "Epoch 467/1000\n",
      "Train MSE: 67.5637, Train MAE: 5.1263\n"
     ]
    },
    {
     "name": "stderr",
     "output_type": "stream",
     "text": [
      " 47%|████▋     | 467/1000 [21:35<24:36,  2.77s/it]"
     ]
    },
    {
     "name": "stdout",
     "output_type": "stream",
     "text": [
      "Test MSE: 71.7544, Test MAE: 5.4805, Test R2: 0.0616\n",
      "Epoch 468/1000\n",
      "Train MSE: 67.6848, Train MAE: 5.1481\n"
     ]
    },
    {
     "name": "stderr",
     "output_type": "stream",
     "text": [
      " 47%|████▋     | 468/1000 [21:38<24:30,  2.76s/it]"
     ]
    },
    {
     "name": "stdout",
     "output_type": "stream",
     "text": [
      "Test MSE: 67.1432, Test MAE: 5.3948, Test R2: -0.0054\n",
      "Epoch 469/1000\n",
      "Train MSE: 68.4676, Train MAE: 5.1626\n"
     ]
    },
    {
     "name": "stderr",
     "output_type": "stream",
     "text": [
      " 47%|████▋     | 469/1000 [21:40<24:28,  2.77s/it]"
     ]
    },
    {
     "name": "stdout",
     "output_type": "stream",
     "text": [
      "Test MSE: 69.8460, Test MAE: 5.4356, Test R2: 0.0161\n",
      "Epoch 470/1000\n",
      "Train MSE: 69.3188, Train MAE: 5.2202\n"
     ]
    },
    {
     "name": "stderr",
     "output_type": "stream",
     "text": [
      " 47%|████▋     | 470/1000 [21:43<24:28,  2.77s/it]"
     ]
    },
    {
     "name": "stdout",
     "output_type": "stream",
     "text": [
      "Test MSE: 71.6245, Test MAE: 5.4833, Test R2: -0.0291\n",
      "Epoch 471/1000\n",
      "Train MSE: 67.5143, Train MAE: 5.1426\n"
     ]
    },
    {
     "name": "stderr",
     "output_type": "stream",
     "text": [
      " 47%|████▋     | 471/1000 [21:46<24:28,  2.78s/it]"
     ]
    },
    {
     "name": "stdout",
     "output_type": "stream",
     "text": [
      "Test MSE: 75.2365, Test MAE: 5.5831, Test R2: -0.2126\n",
      "Epoch 472/1000\n",
      "Train MSE: 68.8351, Train MAE: 5.2179\n"
     ]
    },
    {
     "name": "stderr",
     "output_type": "stream",
     "text": [
      " 47%|████▋     | 472/1000 [21:49<24:26,  2.78s/it]"
     ]
    },
    {
     "name": "stdout",
     "output_type": "stream",
     "text": [
      "Test MSE: 68.0850, Test MAE: 5.4030, Test R2: -0.0658\n",
      "Epoch 473/1000\n",
      "Train MSE: 68.5621, Train MAE: 5.1723\n"
     ]
    },
    {
     "name": "stderr",
     "output_type": "stream",
     "text": [
      " 47%|████▋     | 473/1000 [21:52<24:21,  2.77s/it]"
     ]
    },
    {
     "name": "stdout",
     "output_type": "stream",
     "text": [
      "Test MSE: 69.2576, Test MAE: 5.4360, Test R2: -0.1118\n",
      "Epoch 474/1000\n",
      "Train MSE: 65.8810, Train MAE: 5.1313\n"
     ]
    },
    {
     "name": "stderr",
     "output_type": "stream",
     "text": [
      " 47%|████▋     | 474/1000 [21:54<24:19,  2.78s/it]"
     ]
    },
    {
     "name": "stdout",
     "output_type": "stream",
     "text": [
      "Test MSE: 74.9591, Test MAE: 5.5983, Test R2: -0.1270\n",
      "Epoch 475/1000\n",
      "Train MSE: 65.9553, Train MAE: 5.1138\n"
     ]
    },
    {
     "name": "stderr",
     "output_type": "stream",
     "text": [
      " 48%|████▊     | 475/1000 [21:57<24:14,  2.77s/it]"
     ]
    },
    {
     "name": "stdout",
     "output_type": "stream",
     "text": [
      "Test MSE: 72.8691, Test MAE: 5.5247, Test R2: -0.0603\n",
      "Epoch 476/1000\n",
      "Train MSE: 65.1899, Train MAE: 5.0829\n"
     ]
    },
    {
     "name": "stderr",
     "output_type": "stream",
     "text": [
      " 48%|████▊     | 476/1000 [22:00<24:10,  2.77s/it]"
     ]
    },
    {
     "name": "stdout",
     "output_type": "stream",
     "text": [
      "Test MSE: 72.9227, Test MAE: 5.5393, Test R2: 0.0156\n",
      "Epoch 477/1000\n",
      "Train MSE: 67.6080, Train MAE: 5.1356\n"
     ]
    },
    {
     "name": "stderr",
     "output_type": "stream",
     "text": [
      " 48%|████▊     | 477/1000 [22:03<24:08,  2.77s/it]"
     ]
    },
    {
     "name": "stdout",
     "output_type": "stream",
     "text": [
      "Test MSE: 72.0311, Test MAE: 5.5258, Test R2: 0.0098\n",
      "Epoch 478/1000\n",
      "Train MSE: 66.7003, Train MAE: 5.0921\n"
     ]
    },
    {
     "name": "stderr",
     "output_type": "stream",
     "text": [
      " 48%|████▊     | 478/1000 [22:05<24:04,  2.77s/it]"
     ]
    },
    {
     "name": "stdout",
     "output_type": "stream",
     "text": [
      "Test MSE: 72.4544, Test MAE: 5.4903, Test R2: -0.1658\n",
      "Epoch 479/1000\n",
      "Train MSE: 69.0979, Train MAE: 5.1480\n"
     ]
    },
    {
     "name": "stderr",
     "output_type": "stream",
     "text": [
      " 48%|████▊     | 479/1000 [22:08<24:01,  2.77s/it]"
     ]
    },
    {
     "name": "stdout",
     "output_type": "stream",
     "text": [
      "Test MSE: 68.1599, Test MAE: 5.3934, Test R2: 0.0360\n",
      "Epoch 480/1000\n",
      "Train MSE: 67.9635, Train MAE: 5.1669\n"
     ]
    },
    {
     "name": "stderr",
     "output_type": "stream",
     "text": [
      " 48%|████▊     | 480/1000 [22:11<23:59,  2.77s/it]"
     ]
    },
    {
     "name": "stdout",
     "output_type": "stream",
     "text": [
      "Test MSE: 69.5682, Test MAE: 5.3871, Test R2: -0.0605\n",
      "Epoch 481/1000\n",
      "Train MSE: 65.2177, Train MAE: 5.0831\n"
     ]
    },
    {
     "name": "stderr",
     "output_type": "stream",
     "text": [
      " 48%|████▊     | 481/1000 [22:14<23:58,  2.77s/it]"
     ]
    },
    {
     "name": "stdout",
     "output_type": "stream",
     "text": [
      "Test MSE: 72.3949, Test MAE: 5.5690, Test R2: -0.0925\n",
      "Epoch 482/1000\n",
      "Train MSE: 66.3229, Train MAE: 5.1378\n"
     ]
    },
    {
     "name": "stderr",
     "output_type": "stream",
     "text": [
      " 48%|████▊     | 482/1000 [22:16<24:00,  2.78s/it]"
     ]
    },
    {
     "name": "stdout",
     "output_type": "stream",
     "text": [
      "Test MSE: 69.9322, Test MAE: 5.4196, Test R2: -0.2040\n",
      "Epoch 483/1000\n",
      "Train MSE: 66.3344, Train MAE: 5.1016\n"
     ]
    },
    {
     "name": "stderr",
     "output_type": "stream",
     "text": [
      " 48%|████▊     | 483/1000 [22:19<23:59,  2.79s/it]"
     ]
    },
    {
     "name": "stdout",
     "output_type": "stream",
     "text": [
      "Test MSE: 76.2095, Test MAE: 5.5822, Test R2: -0.0227\n",
      "Epoch 484/1000\n",
      "Train MSE: 67.4392, Train MAE: 5.1470\n"
     ]
    },
    {
     "name": "stderr",
     "output_type": "stream",
     "text": [
      " 48%|████▊     | 484/1000 [22:22<23:54,  2.78s/it]"
     ]
    },
    {
     "name": "stdout",
     "output_type": "stream",
     "text": [
      "Test MSE: 69.6829, Test MAE: 5.4477, Test R2: -0.0384\n",
      "Epoch 485/1000\n",
      "Train MSE: 67.6932, Train MAE: 5.1354\n"
     ]
    },
    {
     "name": "stderr",
     "output_type": "stream",
     "text": [
      " 48%|████▊     | 485/1000 [22:25<23:52,  2.78s/it]"
     ]
    },
    {
     "name": "stdout",
     "output_type": "stream",
     "text": [
      "Test MSE: 67.9312, Test MAE: 5.3899, Test R2: -0.3542\n",
      "Epoch 486/1000\n",
      "Train MSE: 67.5484, Train MAE: 5.1592\n"
     ]
    },
    {
     "name": "stderr",
     "output_type": "stream",
     "text": [
      " 49%|████▊     | 486/1000 [22:28<23:49,  2.78s/it]"
     ]
    },
    {
     "name": "stdout",
     "output_type": "stream",
     "text": [
      "Test MSE: 68.2203, Test MAE: 5.3503, Test R2: -0.1099\n",
      "Epoch 487/1000\n",
      "Train MSE: 66.8306, Train MAE: 5.1041\n"
     ]
    },
    {
     "name": "stderr",
     "output_type": "stream",
     "text": [
      " 49%|████▊     | 487/1000 [22:30<23:46,  2.78s/it]"
     ]
    },
    {
     "name": "stdout",
     "output_type": "stream",
     "text": [
      "Test MSE: 71.8215, Test MAE: 5.4805, Test R2: -0.2218\n",
      "Epoch 488/1000\n",
      "Train MSE: 65.2613, Train MAE: 5.1087\n"
     ]
    },
    {
     "name": "stderr",
     "output_type": "stream",
     "text": [
      " 49%|████▉     | 488/1000 [22:33<23:42,  2.78s/it]"
     ]
    },
    {
     "name": "stdout",
     "output_type": "stream",
     "text": [
      "Test MSE: 67.0568, Test MAE: 5.4045, Test R2: -0.1275\n",
      "Epoch 489/1000\n",
      "Train MSE: 66.8454, Train MAE: 5.1506\n"
     ]
    },
    {
     "name": "stderr",
     "output_type": "stream",
     "text": [
      " 49%|████▉     | 489/1000 [22:36<23:37,  2.77s/it]"
     ]
    },
    {
     "name": "stdout",
     "output_type": "stream",
     "text": [
      "Test MSE: 70.6268, Test MAE: 5.5146, Test R2: -0.4057\n",
      "Epoch 490/1000\n",
      "Train MSE: 65.8802, Train MAE: 5.0898\n"
     ]
    },
    {
     "name": "stderr",
     "output_type": "stream",
     "text": [
      " 49%|████▉     | 490/1000 [22:39<23:36,  2.78s/it]"
     ]
    },
    {
     "name": "stdout",
     "output_type": "stream",
     "text": [
      "Test MSE: 70.3121, Test MAE: 5.4601, Test R2: -0.2474\n",
      "Epoch 491/1000\n",
      "Train MSE: 68.2289, Train MAE: 5.1311\n"
     ]
    },
    {
     "name": "stderr",
     "output_type": "stream",
     "text": [
      " 49%|████▉     | 491/1000 [22:41<23:33,  2.78s/it]"
     ]
    },
    {
     "name": "stdout",
     "output_type": "stream",
     "text": [
      "Test MSE: 69.6102, Test MAE: 5.4404, Test R2: -0.0994\n",
      "Epoch 492/1000\n",
      "Train MSE: 65.5726, Train MAE: 5.1237\n"
     ]
    },
    {
     "name": "stderr",
     "output_type": "stream",
     "text": [
      " 49%|████▉     | 492/1000 [22:44<23:32,  2.78s/it]"
     ]
    },
    {
     "name": "stdout",
     "output_type": "stream",
     "text": [
      "Test MSE: 72.3709, Test MAE: 5.5313, Test R2: -0.0428\n",
      "Epoch 493/1000\n",
      "Train MSE: 67.0562, Train MAE: 5.0901\n"
     ]
    },
    {
     "name": "stderr",
     "output_type": "stream",
     "text": [
      " 49%|████▉     | 493/1000 [22:47<23:29,  2.78s/it]"
     ]
    },
    {
     "name": "stdout",
     "output_type": "stream",
     "text": [
      "Test MSE: 72.9624, Test MAE: 5.5829, Test R2: -0.1248\n",
      "Epoch 494/1000\n",
      "Train MSE: 67.5546, Train MAE: 5.1838\n"
     ]
    },
    {
     "name": "stderr",
     "output_type": "stream",
     "text": [
      " 49%|████▉     | 494/1000 [22:50<23:32,  2.79s/it]"
     ]
    },
    {
     "name": "stdout",
     "output_type": "stream",
     "text": [
      "Test MSE: 70.2661, Test MAE: 5.4026, Test R2: -0.0300\n",
      "Epoch 495/1000\n",
      "Train MSE: 66.5703, Train MAE: 5.1466\n"
     ]
    },
    {
     "name": "stderr",
     "output_type": "stream",
     "text": [
      " 50%|████▉     | 495/1000 [22:53<23:27,  2.79s/it]"
     ]
    },
    {
     "name": "stdout",
     "output_type": "stream",
     "text": [
      "Test MSE: 73.8474, Test MAE: 5.5098, Test R2: -0.0544\n",
      "Epoch 496/1000\n",
      "Train MSE: 65.5427, Train MAE: 5.0948\n"
     ]
    },
    {
     "name": "stderr",
     "output_type": "stream",
     "text": [
      " 50%|████▉     | 496/1000 [22:55<23:25,  2.79s/it]"
     ]
    },
    {
     "name": "stdout",
     "output_type": "stream",
     "text": [
      "Test MSE: 69.7439, Test MAE: 5.4239, Test R2: -0.0316\n",
      "Epoch 497/1000\n",
      "Train MSE: 65.8360, Train MAE: 5.1116\n"
     ]
    },
    {
     "name": "stderr",
     "output_type": "stream",
     "text": [
      " 50%|████▉     | 497/1000 [22:58<23:25,  2.80s/it]"
     ]
    },
    {
     "name": "stdout",
     "output_type": "stream",
     "text": [
      "Test MSE: 72.7994, Test MAE: 5.4669, Test R2: -0.1760\n",
      "Epoch 498/1000\n",
      "Train MSE: 68.7618, Train MAE: 5.1796\n"
     ]
    },
    {
     "name": "stderr",
     "output_type": "stream",
     "text": [
      " 50%|████▉     | 498/1000 [23:01<23:23,  2.80s/it]"
     ]
    },
    {
     "name": "stdout",
     "output_type": "stream",
     "text": [
      "Test MSE: 68.5165, Test MAE: 5.4143, Test R2: -0.1941\n",
      "Epoch 499/1000\n",
      "Train MSE: 67.8366, Train MAE: 5.1496\n"
     ]
    },
    {
     "name": "stderr",
     "output_type": "stream",
     "text": [
      " 50%|████▉     | 499/1000 [23:04<23:21,  2.80s/it]"
     ]
    },
    {
     "name": "stdout",
     "output_type": "stream",
     "text": [
      "Test MSE: 68.5742, Test MAE: 5.4308, Test R2: -0.1062\n",
      "Epoch 500/1000\n",
      "Train MSE: 66.5093, Train MAE: 5.0851\n"
     ]
    },
    {
     "name": "stderr",
     "output_type": "stream",
     "text": [
      " 50%|█████     | 500/1000 [23:07<23:20,  2.80s/it]"
     ]
    },
    {
     "name": "stdout",
     "output_type": "stream",
     "text": [
      "Test MSE: 71.6146, Test MAE: 5.5124, Test R2: -0.3071\n",
      "Epoch 501/1000\n",
      "Train MSE: 67.3085, Train MAE: 5.1661\n"
     ]
    },
    {
     "name": "stderr",
     "output_type": "stream",
     "text": [
      " 50%|█████     | 501/1000 [23:09<23:17,  2.80s/it]"
     ]
    },
    {
     "name": "stdout",
     "output_type": "stream",
     "text": [
      "Test MSE: 68.7121, Test MAE: 5.4658, Test R2: -0.0239\n",
      "Epoch 502/1000\n",
      "Train MSE: 65.3854, Train MAE: 5.0860\n"
     ]
    },
    {
     "name": "stderr",
     "output_type": "stream",
     "text": [
      " 50%|█████     | 502/1000 [23:12<23:16,  2.80s/it]"
     ]
    },
    {
     "name": "stdout",
     "output_type": "stream",
     "text": [
      "Test MSE: 68.4151, Test MAE: 5.3510, Test R2: -0.0236\n",
      "Epoch 503/1000\n",
      "Train MSE: 69.8836, Train MAE: 5.2263\n"
     ]
    },
    {
     "name": "stderr",
     "output_type": "stream",
     "text": [
      " 50%|█████     | 503/1000 [23:15<23:12,  2.80s/it]"
     ]
    },
    {
     "name": "stdout",
     "output_type": "stream",
     "text": [
      "Test MSE: 70.9709, Test MAE: 5.4822, Test R2: -0.3586\n",
      "Epoch 504/1000\n",
      "Train MSE: 65.3706, Train MAE: 5.1180\n"
     ]
    },
    {
     "name": "stderr",
     "output_type": "stream",
     "text": [
      " 50%|█████     | 504/1000 [23:18<23:13,  2.81s/it]"
     ]
    },
    {
     "name": "stdout",
     "output_type": "stream",
     "text": [
      "Test MSE: 71.1840, Test MAE: 5.5179, Test R2: 0.0830\n",
      "Epoch 505/1000\n",
      "Train MSE: 68.1096, Train MAE: 5.1433\n"
     ]
    },
    {
     "name": "stderr",
     "output_type": "stream",
     "text": [
      " 50%|█████     | 505/1000 [23:21<23:13,  2.81s/it]"
     ]
    },
    {
     "name": "stdout",
     "output_type": "stream",
     "text": [
      "Test MSE: 64.4820, Test MAE: 5.2957, Test R2: -0.0248\n",
      "Epoch 506/1000\n",
      "Train MSE: 65.9999, Train MAE: 5.1289\n"
     ]
    },
    {
     "name": "stderr",
     "output_type": "stream",
     "text": [
      " 51%|█████     | 506/1000 [23:24<23:12,  2.82s/it]"
     ]
    },
    {
     "name": "stdout",
     "output_type": "stream",
     "text": [
      "Test MSE: 69.7099, Test MAE: 5.4635, Test R2: -0.1748\n",
      "Epoch 507/1000\n",
      "Train MSE: 66.2816, Train MAE: 5.1165\n"
     ]
    },
    {
     "name": "stderr",
     "output_type": "stream",
     "text": [
      " 51%|█████     | 507/1000 [23:26<23:06,  2.81s/it]"
     ]
    },
    {
     "name": "stdout",
     "output_type": "stream",
     "text": [
      "Test MSE: 69.0135, Test MAE: 5.3472, Test R2: 0.0561\n",
      "Epoch 508/1000\n",
      "Train MSE: 66.6319, Train MAE: 5.1180\n"
     ]
    },
    {
     "name": "stderr",
     "output_type": "stream",
     "text": [
      " 51%|█████     | 508/1000 [23:29<23:01,  2.81s/it]"
     ]
    },
    {
     "name": "stdout",
     "output_type": "stream",
     "text": [
      "Test MSE: 68.7956, Test MAE: 5.3872, Test R2: 0.1101\n",
      "Epoch 509/1000\n",
      "Train MSE: 66.7616, Train MAE: 5.0621\n"
     ]
    },
    {
     "name": "stderr",
     "output_type": "stream",
     "text": [
      " 51%|█████     | 509/1000 [23:32<22:57,  2.81s/it]"
     ]
    },
    {
     "name": "stdout",
     "output_type": "stream",
     "text": [
      "Test MSE: 69.2856, Test MAE: 5.4306, Test R2: -0.1075\n",
      "Epoch 510/1000\n",
      "Train MSE: 65.3183, Train MAE: 5.0814\n"
     ]
    },
    {
     "name": "stderr",
     "output_type": "stream",
     "text": [
      " 51%|█████     | 510/1000 [23:35<22:58,  2.81s/it]"
     ]
    },
    {
     "name": "stdout",
     "output_type": "stream",
     "text": [
      "Test MSE: 73.0893, Test MAE: 5.5270, Test R2: 0.0259\n",
      "Epoch 511/1000\n",
      "Train MSE: 66.8849, Train MAE: 5.1298\n"
     ]
    },
    {
     "name": "stderr",
     "output_type": "stream",
     "text": [
      " 51%|█████     | 511/1000 [23:38<22:55,  2.81s/it]"
     ]
    },
    {
     "name": "stdout",
     "output_type": "stream",
     "text": [
      "Test MSE: 70.2981, Test MAE: 5.4182, Test R2: 0.0055\n",
      "Epoch 512/1000\n",
      "Train MSE: 65.8658, Train MAE: 5.0744\n"
     ]
    },
    {
     "name": "stderr",
     "output_type": "stream",
     "text": [
      " 51%|█████     | 512/1000 [23:40<22:54,  2.82s/it]"
     ]
    },
    {
     "name": "stdout",
     "output_type": "stream",
     "text": [
      "Test MSE: 73.1000, Test MAE: 5.4965, Test R2: -0.1732\n",
      "Epoch 513/1000\n",
      "Train MSE: 65.9907, Train MAE: 5.0611\n"
     ]
    },
    {
     "name": "stderr",
     "output_type": "stream",
     "text": [
      " 51%|█████▏    | 513/1000 [23:43<22:49,  2.81s/it]"
     ]
    },
    {
     "name": "stdout",
     "output_type": "stream",
     "text": [
      "Test MSE: 68.7838, Test MAE: 5.3775, Test R2: 0.1329\n",
      "Epoch 514/1000\n",
      "Train MSE: 67.4773, Train MAE: 5.1249\n"
     ]
    },
    {
     "name": "stderr",
     "output_type": "stream",
     "text": [
      " 51%|█████▏    | 514/1000 [23:46<22:48,  2.81s/it]"
     ]
    },
    {
     "name": "stdout",
     "output_type": "stream",
     "text": [
      "Test MSE: 72.8119, Test MAE: 5.4804, Test R2: -0.1434\n",
      "Epoch 515/1000\n",
      "Train MSE: 64.7894, Train MAE: 5.0288\n"
     ]
    },
    {
     "name": "stderr",
     "output_type": "stream",
     "text": [
      " 52%|█████▏    | 515/1000 [23:49<22:45,  2.82s/it]"
     ]
    },
    {
     "name": "stdout",
     "output_type": "stream",
     "text": [
      "Test MSE: 72.0716, Test MAE: 5.4854, Test R2: -0.0922\n",
      "Epoch 516/1000\n",
      "Train MSE: 67.0592, Train MAE: 5.0911\n"
     ]
    },
    {
     "name": "stderr",
     "output_type": "stream",
     "text": [
      " 52%|█████▏    | 516/1000 [23:52<22:42,  2.82s/it]"
     ]
    },
    {
     "name": "stdout",
     "output_type": "stream",
     "text": [
      "Test MSE: 69.8161, Test MAE: 5.4533, Test R2: 0.0564\n",
      "Epoch 517/1000\n",
      "Train MSE: 66.8498, Train MAE: 5.0791\n"
     ]
    },
    {
     "name": "stderr",
     "output_type": "stream",
     "text": [
      " 52%|█████▏    | 517/1000 [23:54<22:39,  2.81s/it]"
     ]
    },
    {
     "name": "stdout",
     "output_type": "stream",
     "text": [
      "Test MSE: 71.4665, Test MAE: 5.4560, Test R2: 0.0934\n",
      "Epoch 518/1000\n",
      "Train MSE: 66.6234, Train MAE: 5.1397\n"
     ]
    },
    {
     "name": "stderr",
     "output_type": "stream",
     "text": [
      " 52%|█████▏    | 518/1000 [23:57<22:36,  2.82s/it]"
     ]
    },
    {
     "name": "stdout",
     "output_type": "stream",
     "text": [
      "Test MSE: 68.3017, Test MAE: 5.4133, Test R2: -0.1448\n",
      "Epoch 519/1000\n",
      "Train MSE: 65.4794, Train MAE: 5.1301\n"
     ]
    },
    {
     "name": "stderr",
     "output_type": "stream",
     "text": [
      " 52%|█████▏    | 519/1000 [24:00<22:42,  2.83s/it]"
     ]
    },
    {
     "name": "stdout",
     "output_type": "stream",
     "text": [
      "Test MSE: 70.1897, Test MAE: 5.4632, Test R2: -0.3459\n",
      "Epoch 520/1000\n",
      "Train MSE: 68.3159, Train MAE: 5.1327\n"
     ]
    },
    {
     "name": "stderr",
     "output_type": "stream",
     "text": [
      " 52%|█████▏    | 520/1000 [24:03<22:36,  2.83s/it]"
     ]
    },
    {
     "name": "stdout",
     "output_type": "stream",
     "text": [
      "Test MSE: 76.7493, Test MAE: 5.6262, Test R2: -0.1731\n",
      "Epoch 521/1000\n",
      "Train MSE: 67.3703, Train MAE: 5.1455\n"
     ]
    },
    {
     "name": "stderr",
     "output_type": "stream",
     "text": [
      " 52%|█████▏    | 521/1000 [24:06<22:30,  2.82s/it]"
     ]
    },
    {
     "name": "stdout",
     "output_type": "stream",
     "text": [
      "Test MSE: 73.4375, Test MAE: 5.4933, Test R2: -0.2832\n",
      "Epoch 522/1000\n",
      "Train MSE: 66.7643, Train MAE: 5.1137\n"
     ]
    },
    {
     "name": "stderr",
     "output_type": "stream",
     "text": [
      " 52%|█████▏    | 522/1000 [24:09<22:25,  2.81s/it]"
     ]
    },
    {
     "name": "stdout",
     "output_type": "stream",
     "text": [
      "Test MSE: 68.9289, Test MAE: 5.4031, Test R2: -0.1417\n",
      "Epoch 523/1000\n",
      "Train MSE: 67.5878, Train MAE: 5.1163\n"
     ]
    },
    {
     "name": "stderr",
     "output_type": "stream",
     "text": [
      " 52%|█████▏    | 523/1000 [24:11<22:21,  2.81s/it]"
     ]
    },
    {
     "name": "stdout",
     "output_type": "stream",
     "text": [
      "Test MSE: 73.0632, Test MAE: 5.5073, Test R2: -0.0999\n",
      "Epoch 524/1000\n",
      "Train MSE: 65.5412, Train MAE: 5.0745\n"
     ]
    },
    {
     "name": "stderr",
     "output_type": "stream",
     "text": [
      " 52%|█████▏    | 524/1000 [24:14<22:17,  2.81s/it]"
     ]
    },
    {
     "name": "stdout",
     "output_type": "stream",
     "text": [
      "Test MSE: 72.9832, Test MAE: 5.4643, Test R2: -0.2469\n",
      "Epoch 525/1000\n",
      "Train MSE: 66.1361, Train MAE: 5.1159\n"
     ]
    },
    {
     "name": "stderr",
     "output_type": "stream",
     "text": [
      " 52%|█████▎    | 525/1000 [24:17<22:13,  2.81s/it]"
     ]
    },
    {
     "name": "stdout",
     "output_type": "stream",
     "text": [
      "Test MSE: 67.9780, Test MAE: 5.3608, Test R2: -0.1707\n",
      "Epoch 526/1000\n",
      "Train MSE: 64.1092, Train MAE: 5.0609\n"
     ]
    },
    {
     "name": "stderr",
     "output_type": "stream",
     "text": [
      " 53%|█████▎    | 526/1000 [24:20<22:14,  2.81s/it]"
     ]
    },
    {
     "name": "stdout",
     "output_type": "stream",
     "text": [
      "Test MSE: 68.6764, Test MAE: 5.3661, Test R2: -0.2171\n",
      "Epoch 527/1000\n",
      "Train MSE: 67.5092, Train MAE: 5.1349\n"
     ]
    },
    {
     "name": "stderr",
     "output_type": "stream",
     "text": [
      " 53%|█████▎    | 527/1000 [24:23<22:12,  2.82s/it]"
     ]
    },
    {
     "name": "stdout",
     "output_type": "stream",
     "text": [
      "Test MSE: 71.1534, Test MAE: 5.4630, Test R2: -0.3357\n",
      "Epoch 528/1000\n",
      "Train MSE: 65.8136, Train MAE: 5.0989\n"
     ]
    },
    {
     "name": "stderr",
     "output_type": "stream",
     "text": [
      " 53%|█████▎    | 528/1000 [24:25<22:07,  2.81s/it]"
     ]
    },
    {
     "name": "stdout",
     "output_type": "stream",
     "text": [
      "Test MSE: 70.4200, Test MAE: 5.4383, Test R2: -0.0286\n",
      "Epoch 529/1000\n",
      "Train MSE: 64.1239, Train MAE: 5.1046\n"
     ]
    },
    {
     "name": "stderr",
     "output_type": "stream",
     "text": [
      " 53%|█████▎    | 529/1000 [24:28<22:03,  2.81s/it]"
     ]
    },
    {
     "name": "stdout",
     "output_type": "stream",
     "text": [
      "Test MSE: 70.5318, Test MAE: 5.3846, Test R2: 0.0442\n",
      "Epoch 530/1000\n",
      "Train MSE: 65.8535, Train MAE: 5.0654\n"
     ]
    },
    {
     "name": "stderr",
     "output_type": "stream",
     "text": [
      " 53%|█████▎    | 530/1000 [24:31<22:01,  2.81s/it]"
     ]
    },
    {
     "name": "stdout",
     "output_type": "stream",
     "text": [
      "Test MSE: 68.9821, Test MAE: 5.4708, Test R2: 0.1640\n",
      "Epoch 531/1000\n",
      "Train MSE: 66.4581, Train MAE: 5.0951\n"
     ]
    },
    {
     "name": "stderr",
     "output_type": "stream",
     "text": [
      " 53%|█████▎    | 531/1000 [24:34<21:58,  2.81s/it]"
     ]
    },
    {
     "name": "stdout",
     "output_type": "stream",
     "text": [
      "Test MSE: 68.6696, Test MAE: 5.4148, Test R2: 0.0858\n",
      "Epoch 532/1000\n",
      "Train MSE: 66.1624, Train MAE: 5.0859\n"
     ]
    },
    {
     "name": "stderr",
     "output_type": "stream",
     "text": [
      " 53%|█████▎    | 532/1000 [24:37<21:57,  2.82s/it]"
     ]
    },
    {
     "name": "stdout",
     "output_type": "stream",
     "text": [
      "Test MSE: 70.2179, Test MAE: 5.4460, Test R2: -0.1623\n",
      "Epoch 533/1000\n",
      "Train MSE: 64.5295, Train MAE: 5.0597\n"
     ]
    },
    {
     "name": "stderr",
     "output_type": "stream",
     "text": [
      " 53%|█████▎    | 533/1000 [24:40<21:53,  2.81s/it]"
     ]
    },
    {
     "name": "stdout",
     "output_type": "stream",
     "text": [
      "Test MSE: 71.9609, Test MAE: 5.4836, Test R2: -0.1490\n",
      "Epoch 534/1000\n",
      "Train MSE: 68.0835, Train MAE: 5.1271\n"
     ]
    },
    {
     "name": "stderr",
     "output_type": "stream",
     "text": [
      " 53%|█████▎    | 534/1000 [24:42<21:51,  2.81s/it]"
     ]
    },
    {
     "name": "stdout",
     "output_type": "stream",
     "text": [
      "Test MSE: 66.6747, Test MAE: 5.3981, Test R2: -0.1842\n",
      "Epoch 535/1000\n",
      "Train MSE: 65.3740, Train MAE: 5.0956\n"
     ]
    },
    {
     "name": "stderr",
     "output_type": "stream",
     "text": [
      " 54%|█████▎    | 535/1000 [24:45<21:50,  2.82s/it]"
     ]
    },
    {
     "name": "stdout",
     "output_type": "stream",
     "text": [
      "Test MSE: 69.6994, Test MAE: 5.4165, Test R2: -0.0145\n",
      "Epoch 536/1000\n",
      "Train MSE: 66.3613, Train MAE: 5.1289\n"
     ]
    },
    {
     "name": "stderr",
     "output_type": "stream",
     "text": [
      " 54%|█████▎    | 536/1000 [24:48<21:46,  2.82s/it]"
     ]
    },
    {
     "name": "stdout",
     "output_type": "stream",
     "text": [
      "Test MSE: 74.0365, Test MAE: 5.5172, Test R2: -0.1850\n",
      "Epoch 537/1000\n",
      "Train MSE: 65.8501, Train MAE: 5.0610\n"
     ]
    },
    {
     "name": "stderr",
     "output_type": "stream",
     "text": [
      " 54%|█████▎    | 537/1000 [24:51<21:43,  2.82s/it]"
     ]
    },
    {
     "name": "stdout",
     "output_type": "stream",
     "text": [
      "Test MSE: 71.9779, Test MAE: 5.4467, Test R2: 0.0406\n",
      "Epoch 538/1000\n",
      "Train MSE: 65.2872, Train MAE: 5.0874\n"
     ]
    },
    {
     "name": "stderr",
     "output_type": "stream",
     "text": [
      " 54%|█████▍    | 538/1000 [24:54<21:39,  2.81s/it]"
     ]
    },
    {
     "name": "stdout",
     "output_type": "stream",
     "text": [
      "Test MSE: 71.2604, Test MAE: 5.4744, Test R2: 0.0278\n",
      "Epoch 539/1000\n",
      "Train MSE: 65.0294, Train MAE: 5.0823\n"
     ]
    },
    {
     "name": "stderr",
     "output_type": "stream",
     "text": [
      " 54%|█████▍    | 539/1000 [24:56<21:39,  2.82s/it]"
     ]
    },
    {
     "name": "stdout",
     "output_type": "stream",
     "text": [
      "Test MSE: 68.0823, Test MAE: 5.3664, Test R2: 0.0396\n",
      "Epoch 540/1000\n",
      "Train MSE: 65.4117, Train MAE: 5.0682\n"
     ]
    },
    {
     "name": "stderr",
     "output_type": "stream",
     "text": [
      " 54%|█████▍    | 540/1000 [24:59<21:36,  2.82s/it]"
     ]
    },
    {
     "name": "stdout",
     "output_type": "stream",
     "text": [
      "Test MSE: 74.5009, Test MAE: 5.4798, Test R2: 0.0222\n",
      "Epoch 541/1000\n",
      "Train MSE: 66.7835, Train MAE: 5.1112\n"
     ]
    },
    {
     "name": "stderr",
     "output_type": "stream",
     "text": [
      " 54%|█████▍    | 541/1000 [25:02<21:35,  2.82s/it]"
     ]
    },
    {
     "name": "stdout",
     "output_type": "stream",
     "text": [
      "Test MSE: 75.2441, Test MAE: 5.5310, Test R2: 0.1366\n",
      "Epoch 542/1000\n",
      "Train MSE: 65.3088, Train MAE: 5.0984\n"
     ]
    },
    {
     "name": "stderr",
     "output_type": "stream",
     "text": [
      " 54%|█████▍    | 542/1000 [25:05<21:30,  2.82s/it]"
     ]
    },
    {
     "name": "stdout",
     "output_type": "stream",
     "text": [
      "Test MSE: 72.5876, Test MAE: 5.4800, Test R2: -0.1082\n",
      "Epoch 543/1000\n",
      "Train MSE: 65.7941, Train MAE: 5.0856\n"
     ]
    },
    {
     "name": "stderr",
     "output_type": "stream",
     "text": [
      " 54%|█████▍    | 543/1000 [25:08<21:27,  2.82s/it]"
     ]
    },
    {
     "name": "stdout",
     "output_type": "stream",
     "text": [
      "Test MSE: 69.6724, Test MAE: 5.4099, Test R2: -0.0060\n",
      "Epoch 544/1000\n",
      "Train MSE: 66.2060, Train MAE: 5.0532\n"
     ]
    },
    {
     "name": "stderr",
     "output_type": "stream",
     "text": [
      " 54%|█████▍    | 544/1000 [25:11<21:25,  2.82s/it]"
     ]
    },
    {
     "name": "stdout",
     "output_type": "stream",
     "text": [
      "Test MSE: 66.7653, Test MAE: 5.3424, Test R2: 0.0185\n",
      "Epoch 545/1000\n",
      "Train MSE: 65.4854, Train MAE: 5.1100\n"
     ]
    },
    {
     "name": "stderr",
     "output_type": "stream",
     "text": [
      " 55%|█████▍    | 545/1000 [25:13<21:12,  2.80s/it]"
     ]
    },
    {
     "name": "stdout",
     "output_type": "stream",
     "text": [
      "Test MSE: 68.1318, Test MAE: 5.3962, Test R2: -0.0301\n",
      "Epoch 546/1000\n",
      "Train MSE: 67.5767, Train MAE: 5.1094\n"
     ]
    },
    {
     "name": "stderr",
     "output_type": "stream",
     "text": [
      " 55%|█████▍    | 546/1000 [25:16<21:06,  2.79s/it]"
     ]
    },
    {
     "name": "stdout",
     "output_type": "stream",
     "text": [
      "Test MSE: 71.3840, Test MAE: 5.4604, Test R2: -0.1404\n",
      "Epoch 547/1000\n",
      "Train MSE: 68.1436, Train MAE: 5.0942\n"
     ]
    },
    {
     "name": "stderr",
     "output_type": "stream",
     "text": [
      " 55%|█████▍    | 547/1000 [25:19<21:06,  2.80s/it]"
     ]
    },
    {
     "name": "stdout",
     "output_type": "stream",
     "text": [
      "Test MSE: 68.5817, Test MAE: 5.3552, Test R2: -0.0380\n",
      "Epoch 548/1000\n",
      "Train MSE: 64.7800, Train MAE: 5.0376\n"
     ]
    },
    {
     "name": "stderr",
     "output_type": "stream",
     "text": [
      " 55%|█████▍    | 548/1000 [25:22<20:56,  2.78s/it]"
     ]
    },
    {
     "name": "stdout",
     "output_type": "stream",
     "text": [
      "Test MSE: 73.3011, Test MAE: 5.4903, Test R2: 0.0098\n",
      "Epoch 549/1000\n",
      "Train MSE: 64.5500, Train MAE: 5.0457\n"
     ]
    },
    {
     "name": "stderr",
     "output_type": "stream",
     "text": [
      " 55%|█████▍    | 549/1000 [25:24<20:48,  2.77s/it]"
     ]
    },
    {
     "name": "stdout",
     "output_type": "stream",
     "text": [
      "Test MSE: 71.3989, Test MAE: 5.4562, Test R2: 0.0344\n",
      "Epoch 550/1000\n",
      "Train MSE: 65.2184, Train MAE: 5.1122\n"
     ]
    },
    {
     "name": "stderr",
     "output_type": "stream",
     "text": [
      " 55%|█████▌    | 550/1000 [25:27<20:50,  2.78s/it]"
     ]
    },
    {
     "name": "stdout",
     "output_type": "stream",
     "text": [
      "Test MSE: 71.3427, Test MAE: 5.4639, Test R2: -0.0539\n",
      "Epoch 551/1000\n",
      "Train MSE: 64.5709, Train MAE: 5.0895\n"
     ]
    },
    {
     "name": "stderr",
     "output_type": "stream",
     "text": [
      " 55%|█████▌    | 551/1000 [25:30<20:51,  2.79s/it]"
     ]
    },
    {
     "name": "stdout",
     "output_type": "stream",
     "text": [
      "Test MSE: 70.8167, Test MAE: 5.4258, Test R2: -0.4947\n",
      "Epoch 552/1000\n",
      "Train MSE: 67.1826, Train MAE: 5.1106\n"
     ]
    },
    {
     "name": "stderr",
     "output_type": "stream",
     "text": [
      " 55%|█████▌    | 552/1000 [25:33<20:48,  2.79s/it]"
     ]
    },
    {
     "name": "stdout",
     "output_type": "stream",
     "text": [
      "Test MSE: 69.6316, Test MAE: 5.4208, Test R2: -0.3500\n",
      "Epoch 553/1000\n",
      "Train MSE: 64.5224, Train MAE: 5.0675\n"
     ]
    },
    {
     "name": "stderr",
     "output_type": "stream",
     "text": [
      " 55%|█████▌    | 553/1000 [25:36<20:42,  2.78s/it]"
     ]
    },
    {
     "name": "stdout",
     "output_type": "stream",
     "text": [
      "Test MSE: 77.4385, Test MAE: 5.5751, Test R2: -0.4027\n",
      "Epoch 554/1000\n",
      "Train MSE: 64.9346, Train MAE: 5.0655\n"
     ]
    },
    {
     "name": "stderr",
     "output_type": "stream",
     "text": [
      " 55%|█████▌    | 554/1000 [25:38<20:41,  2.78s/it]"
     ]
    },
    {
     "name": "stdout",
     "output_type": "stream",
     "text": [
      "Test MSE: 73.4329, Test MAE: 5.4818, Test R2: -0.4440\n",
      "Epoch 555/1000\n",
      "Train MSE: 64.5206, Train MAE: 5.0529\n"
     ]
    },
    {
     "name": "stderr",
     "output_type": "stream",
     "text": [
      " 56%|█████▌    | 555/1000 [25:41<20:39,  2.79s/it]"
     ]
    },
    {
     "name": "stdout",
     "output_type": "stream",
     "text": [
      "Test MSE: 71.1617, Test MAE: 5.4762, Test R2: 0.0756\n",
      "Epoch 556/1000\n",
      "Train MSE: 64.7415, Train MAE: 5.0512\n"
     ]
    },
    {
     "name": "stderr",
     "output_type": "stream",
     "text": [
      " 56%|█████▌    | 556/1000 [25:44<20:34,  2.78s/it]"
     ]
    },
    {
     "name": "stdout",
     "output_type": "stream",
     "text": [
      "Test MSE: 72.4476, Test MAE: 5.4748, Test R2: -0.3707\n",
      "Epoch 557/1000\n",
      "Train MSE: 66.5316, Train MAE: 5.1050\n"
     ]
    },
    {
     "name": "stderr",
     "output_type": "stream",
     "text": [
      " 56%|█████▌    | 557/1000 [25:47<20:31,  2.78s/it]"
     ]
    },
    {
     "name": "stdout",
     "output_type": "stream",
     "text": [
      "Test MSE: 71.4262, Test MAE: 5.4860, Test R2: -0.5417\n",
      "Epoch 558/1000\n",
      "Train MSE: 65.9866, Train MAE: 5.0523\n"
     ]
    },
    {
     "name": "stderr",
     "output_type": "stream",
     "text": [
      " 56%|█████▌    | 558/1000 [25:49<20:27,  2.78s/it]"
     ]
    },
    {
     "name": "stdout",
     "output_type": "stream",
     "text": [
      "Test MSE: 71.4999, Test MAE: 5.4458, Test R2: -0.1084\n",
      "Epoch 559/1000\n",
      "Train MSE: 66.0028, Train MAE: 5.0721\n"
     ]
    },
    {
     "name": "stderr",
     "output_type": "stream",
     "text": [
      " 56%|█████▌    | 559/1000 [25:52<20:25,  2.78s/it]"
     ]
    },
    {
     "name": "stdout",
     "output_type": "stream",
     "text": [
      "Test MSE: 68.9069, Test MAE: 5.3528, Test R2: -0.0819\n",
      "Epoch 560/1000\n",
      "Train MSE: 62.5177, Train MAE: 5.0003\n"
     ]
    },
    {
     "name": "stderr",
     "output_type": "stream",
     "text": [
      " 56%|█████▌    | 560/1000 [25:55<20:21,  2.78s/it]"
     ]
    },
    {
     "name": "stdout",
     "output_type": "stream",
     "text": [
      "Test MSE: 69.8770, Test MAE: 5.3771, Test R2: -0.2301\n",
      "Epoch 561/1000\n",
      "Train MSE: 66.2530, Train MAE: 5.0930\n"
     ]
    },
    {
     "name": "stderr",
     "output_type": "stream",
     "text": [
      " 56%|█████▌    | 561/1000 [25:58<20:20,  2.78s/it]"
     ]
    },
    {
     "name": "stdout",
     "output_type": "stream",
     "text": [
      "Test MSE: 69.2941, Test MAE: 5.4303, Test R2: -0.2577\n",
      "Epoch 562/1000\n",
      "Train MSE: 64.6365, Train MAE: 5.0485\n"
     ]
    },
    {
     "name": "stderr",
     "output_type": "stream",
     "text": [
      " 56%|█████▌    | 562/1000 [26:01<20:19,  2.78s/it]"
     ]
    },
    {
     "name": "stdout",
     "output_type": "stream",
     "text": [
      "Test MSE: 70.8112, Test MAE: 5.4328, Test R2: -0.4828\n",
      "Epoch 563/1000\n",
      "Train MSE: 64.0711, Train MAE: 5.0763\n"
     ]
    },
    {
     "name": "stderr",
     "output_type": "stream",
     "text": [
      " 56%|█████▋    | 563/1000 [26:03<20:14,  2.78s/it]"
     ]
    },
    {
     "name": "stdout",
     "output_type": "stream",
     "text": [
      "Test MSE: 77.1555, Test MAE: 5.5485, Test R2: -0.4774\n",
      "Epoch 564/1000\n",
      "Train MSE: 68.6427, Train MAE: 5.1582\n"
     ]
    },
    {
     "name": "stderr",
     "output_type": "stream",
     "text": [
      " 56%|█████▋    | 564/1000 [26:06<20:10,  2.78s/it]"
     ]
    },
    {
     "name": "stdout",
     "output_type": "stream",
     "text": [
      "Test MSE: 75.3124, Test MAE: 5.5736, Test R2: -0.6613\n",
      "Epoch 565/1000\n",
      "Train MSE: 65.1076, Train MAE: 5.0722\n"
     ]
    },
    {
     "name": "stderr",
     "output_type": "stream",
     "text": [
      " 56%|█████▋    | 565/1000 [26:09<20:05,  2.77s/it]"
     ]
    },
    {
     "name": "stdout",
     "output_type": "stream",
     "text": [
      "Test MSE: 69.6362, Test MAE: 5.4010, Test R2: -0.1817\n",
      "Epoch 566/1000\n",
      "Train MSE: 66.9821, Train MAE: 5.1327\n"
     ]
    },
    {
     "name": "stderr",
     "output_type": "stream",
     "text": [
      " 57%|█████▋    | 566/1000 [26:12<20:02,  2.77s/it]"
     ]
    },
    {
     "name": "stdout",
     "output_type": "stream",
     "text": [
      "Test MSE: 72.8962, Test MAE: 5.4699, Test R2: -0.2246\n",
      "Epoch 567/1000\n",
      "Train MSE: 64.3153, Train MAE: 5.0595\n"
     ]
    },
    {
     "name": "stderr",
     "output_type": "stream",
     "text": [
      " 57%|█████▋    | 567/1000 [26:14<19:57,  2.77s/it]"
     ]
    },
    {
     "name": "stdout",
     "output_type": "stream",
     "text": [
      "Test MSE: 74.4507, Test MAE: 5.5425, Test R2: -0.0879\n",
      "Epoch 568/1000\n",
      "Train MSE: 63.7080, Train MAE: 5.0184\n"
     ]
    },
    {
     "name": "stderr",
     "output_type": "stream",
     "text": [
      " 57%|█████▋    | 568/1000 [26:17<19:54,  2.77s/it]"
     ]
    },
    {
     "name": "stdout",
     "output_type": "stream",
     "text": [
      "Test MSE: 75.3999, Test MAE: 5.4932, Test R2: -0.1865\n",
      "Epoch 569/1000\n",
      "Train MSE: 66.0414, Train MAE: 5.0693\n"
     ]
    },
    {
     "name": "stderr",
     "output_type": "stream",
     "text": [
      " 57%|█████▋    | 569/1000 [26:20<19:55,  2.77s/it]"
     ]
    },
    {
     "name": "stdout",
     "output_type": "stream",
     "text": [
      "Test MSE: 69.2402, Test MAE: 5.3725, Test R2: 0.0098\n",
      "Epoch 570/1000\n",
      "Train MSE: 65.1254, Train MAE: 5.0695\n"
     ]
    },
    {
     "name": "stderr",
     "output_type": "stream",
     "text": [
      " 57%|█████▋    | 570/1000 [26:23<19:52,  2.77s/it]"
     ]
    },
    {
     "name": "stdout",
     "output_type": "stream",
     "text": [
      "Test MSE: 68.0648, Test MAE: 5.3976, Test R2: -0.0094\n",
      "Epoch 571/1000\n",
      "Train MSE: 64.4844, Train MAE: 5.0595\n"
     ]
    },
    {
     "name": "stderr",
     "output_type": "stream",
     "text": [
      " 57%|█████▋    | 571/1000 [26:25<19:51,  2.78s/it]"
     ]
    },
    {
     "name": "stdout",
     "output_type": "stream",
     "text": [
      "Test MSE: 72.7051, Test MAE: 5.4882, Test R2: -0.1962\n",
      "Epoch 572/1000\n",
      "Train MSE: 63.8841, Train MAE: 5.0355\n"
     ]
    },
    {
     "name": "stderr",
     "output_type": "stream",
     "text": [
      " 57%|█████▋    | 572/1000 [26:28<19:47,  2.77s/it]"
     ]
    },
    {
     "name": "stdout",
     "output_type": "stream",
     "text": [
      "Test MSE: 69.1433, Test MAE: 5.3911, Test R2: -0.2097\n",
      "Epoch 573/1000\n",
      "Train MSE: 65.2456, Train MAE: 5.0426\n"
     ]
    },
    {
     "name": "stderr",
     "output_type": "stream",
     "text": [
      " 57%|█████▋    | 573/1000 [26:31<19:45,  2.78s/it]"
     ]
    },
    {
     "name": "stdout",
     "output_type": "stream",
     "text": [
      "Test MSE: 72.2888, Test MAE: 5.4903, Test R2: -0.2657\n",
      "Epoch 574/1000\n",
      "Train MSE: 64.6648, Train MAE: 5.0511\n"
     ]
    },
    {
     "name": "stderr",
     "output_type": "stream",
     "text": [
      " 57%|█████▋    | 574/1000 [26:34<19:42,  2.78s/it]"
     ]
    },
    {
     "name": "stdout",
     "output_type": "stream",
     "text": [
      "Test MSE: 71.0477, Test MAE: 5.4777, Test R2: -0.1569\n",
      "Epoch 575/1000\n",
      "Train MSE: 63.3891, Train MAE: 4.9956\n"
     ]
    },
    {
     "name": "stderr",
     "output_type": "stream",
     "text": [
      " 57%|█████▊    | 575/1000 [26:37<19:45,  2.79s/it]"
     ]
    },
    {
     "name": "stdout",
     "output_type": "stream",
     "text": [
      "Test MSE: 75.0049, Test MAE: 5.5362, Test R2: -0.2398\n",
      "Epoch 576/1000\n",
      "Train MSE: 66.6476, Train MAE: 5.0677\n"
     ]
    },
    {
     "name": "stderr",
     "output_type": "stream",
     "text": [
      " 58%|█████▊    | 576/1000 [26:39<19:47,  2.80s/it]"
     ]
    },
    {
     "name": "stdout",
     "output_type": "stream",
     "text": [
      "Test MSE: 70.2126, Test MAE: 5.4394, Test R2: 0.1172\n",
      "Epoch 577/1000\n",
      "Train MSE: 65.8647, Train MAE: 5.0982\n"
     ]
    },
    {
     "name": "stderr",
     "output_type": "stream",
     "text": [
      " 58%|█████▊    | 577/1000 [26:42<19:41,  2.79s/it]"
     ]
    },
    {
     "name": "stdout",
     "output_type": "stream",
     "text": [
      "Test MSE: 71.1889, Test MAE: 5.4340, Test R2: 0.1026\n",
      "Epoch 578/1000\n",
      "Train MSE: 64.6827, Train MAE: 5.0286\n"
     ]
    },
    {
     "name": "stderr",
     "output_type": "stream",
     "text": [
      " 58%|█████▊    | 578/1000 [26:45<19:36,  2.79s/it]"
     ]
    },
    {
     "name": "stdout",
     "output_type": "stream",
     "text": [
      "Test MSE: 72.5304, Test MAE: 5.4514, Test R2: -0.3656\n",
      "Epoch 579/1000\n",
      "Train MSE: 66.5509, Train MAE: 5.0838\n"
     ]
    },
    {
     "name": "stderr",
     "output_type": "stream",
     "text": [
      " 58%|█████▊    | 579/1000 [26:48<19:30,  2.78s/it]"
     ]
    },
    {
     "name": "stdout",
     "output_type": "stream",
     "text": [
      "Test MSE: 70.2942, Test MAE: 5.4263, Test R2: -0.0332\n",
      "Epoch 580/1000\n",
      "Train MSE: 63.1386, Train MAE: 5.0021\n"
     ]
    },
    {
     "name": "stderr",
     "output_type": "stream",
     "text": [
      " 58%|█████▊    | 580/1000 [26:51<19:36,  2.80s/it]"
     ]
    },
    {
     "name": "stdout",
     "output_type": "stream",
     "text": [
      "Test MSE: 69.2654, Test MAE: 5.4040, Test R2: -0.3883\n",
      "Epoch 581/1000\n",
      "Train MSE: 66.9414, Train MAE: 5.0936\n"
     ]
    },
    {
     "name": "stderr",
     "output_type": "stream",
     "text": [
      " 58%|█████▊    | 581/1000 [26:53<19:28,  2.79s/it]"
     ]
    },
    {
     "name": "stdout",
     "output_type": "stream",
     "text": [
      "Test MSE: 69.5485, Test MAE: 5.4583, Test R2: -0.3179\n",
      "Epoch 582/1000\n",
      "Train MSE: 65.9820, Train MAE: 5.0140\n"
     ]
    },
    {
     "name": "stderr",
     "output_type": "stream",
     "text": [
      " 58%|█████▊    | 582/1000 [26:56<19:22,  2.78s/it]"
     ]
    },
    {
     "name": "stdout",
     "output_type": "stream",
     "text": [
      "Test MSE: 68.9793, Test MAE: 5.4131, Test R2: -0.1630\n",
      "Epoch 583/1000\n",
      "Train MSE: 63.7853, Train MAE: 5.0280\n"
     ]
    },
    {
     "name": "stderr",
     "output_type": "stream",
     "text": [
      " 58%|█████▊    | 583/1000 [26:59<19:19,  2.78s/it]"
     ]
    },
    {
     "name": "stdout",
     "output_type": "stream",
     "text": [
      "Test MSE: 69.6608, Test MAE: 5.4192, Test R2: 0.0750\n",
      "Epoch 584/1000\n",
      "Train MSE: 65.6764, Train MAE: 5.0867\n"
     ]
    },
    {
     "name": "stderr",
     "output_type": "stream",
     "text": [
      " 58%|█████▊    | 584/1000 [27:02<19:14,  2.78s/it]"
     ]
    },
    {
     "name": "stdout",
     "output_type": "stream",
     "text": [
      "Test MSE: 79.5706, Test MAE: 5.6079, Test R2: -0.1418\n",
      "Epoch 585/1000\n",
      "Train MSE: 62.4391, Train MAE: 5.0067\n"
     ]
    },
    {
     "name": "stderr",
     "output_type": "stream",
     "text": [
      " 58%|█████▊    | 585/1000 [27:04<19:12,  2.78s/it]"
     ]
    },
    {
     "name": "stdout",
     "output_type": "stream",
     "text": [
      "Test MSE: 70.0198, Test MAE: 5.4777, Test R2: -0.1268\n",
      "Epoch 586/1000\n",
      "Train MSE: 63.5307, Train MAE: 4.9943\n"
     ]
    },
    {
     "name": "stderr",
     "output_type": "stream",
     "text": [
      " 59%|█████▊    | 586/1000 [27:07<19:09,  2.78s/it]"
     ]
    },
    {
     "name": "stdout",
     "output_type": "stream",
     "text": [
      "Test MSE: 69.8703, Test MAE: 5.4316, Test R2: -0.0652\n",
      "Epoch 587/1000\n",
      "Train MSE: 64.8215, Train MAE: 5.0720\n"
     ]
    },
    {
     "name": "stderr",
     "output_type": "stream",
     "text": [
      " 59%|█████▊    | 587/1000 [27:10<19:05,  2.77s/it]"
     ]
    },
    {
     "name": "stdout",
     "output_type": "stream",
     "text": [
      "Test MSE: 68.4942, Test MAE: 5.4318, Test R2: -0.1370\n",
      "Epoch 588/1000\n",
      "Train MSE: 64.4281, Train MAE: 5.0486\n"
     ]
    },
    {
     "name": "stderr",
     "output_type": "stream",
     "text": [
      " 59%|█████▉    | 588/1000 [27:13<18:58,  2.76s/it]"
     ]
    },
    {
     "name": "stdout",
     "output_type": "stream",
     "text": [
      "Test MSE: 72.0609, Test MAE: 5.4979, Test R2: -0.1475\n",
      "Epoch 589/1000\n",
      "Train MSE: 63.1302, Train MAE: 4.9986\n"
     ]
    },
    {
     "name": "stderr",
     "output_type": "stream",
     "text": [
      " 59%|█████▉    | 589/1000 [27:15<18:47,  2.74s/it]"
     ]
    },
    {
     "name": "stdout",
     "output_type": "stream",
     "text": [
      "Test MSE: 70.3315, Test MAE: 5.4136, Test R2: -0.2133\n",
      "Epoch 590/1000\n",
      "Train MSE: 67.4884, Train MAE: 5.0937\n"
     ]
    },
    {
     "name": "stderr",
     "output_type": "stream",
     "text": [
      " 59%|█████▉    | 590/1000 [27:18<18:41,  2.74s/it]"
     ]
    },
    {
     "name": "stdout",
     "output_type": "stream",
     "text": [
      "Test MSE: 70.0019, Test MAE: 5.3930, Test R2: -0.0951\n",
      "Epoch 591/1000\n",
      "Train MSE: 64.2222, Train MAE: 5.0459\n"
     ]
    },
    {
     "name": "stderr",
     "output_type": "stream",
     "text": [
      " 59%|█████▉    | 591/1000 [27:21<18:35,  2.73s/it]"
     ]
    },
    {
     "name": "stdout",
     "output_type": "stream",
     "text": [
      "Test MSE: 68.4911, Test MAE: 5.3316, Test R2: -0.0810\n",
      "Epoch 592/1000\n",
      "Train MSE: 67.0636, Train MAE: 5.0581\n"
     ]
    },
    {
     "name": "stderr",
     "output_type": "stream",
     "text": [
      " 59%|█████▉    | 592/1000 [27:24<18:31,  2.72s/it]"
     ]
    },
    {
     "name": "stdout",
     "output_type": "stream",
     "text": [
      "Test MSE: 68.0521, Test MAE: 5.3552, Test R2: -0.3110\n",
      "Epoch 593/1000\n",
      "Train MSE: 67.5469, Train MAE: 5.0908\n"
     ]
    },
    {
     "name": "stderr",
     "output_type": "stream",
     "text": [
      " 59%|█████▉    | 593/1000 [27:26<18:24,  2.71s/it]"
     ]
    },
    {
     "name": "stdout",
     "output_type": "stream",
     "text": [
      "Test MSE: 69.3091, Test MAE: 5.3944, Test R2: 0.2139\n",
      "Epoch 594/1000\n",
      "Train MSE: 66.4030, Train MAE: 5.0682\n"
     ]
    },
    {
     "name": "stderr",
     "output_type": "stream",
     "text": [
      " 59%|█████▉    | 594/1000 [27:29<18:19,  2.71s/it]"
     ]
    },
    {
     "name": "stdout",
     "output_type": "stream",
     "text": [
      "Test MSE: 70.5977, Test MAE: 5.4007, Test R2: 0.0914\n",
      "Epoch 595/1000\n",
      "Train MSE: 64.6786, Train MAE: 5.0547\n"
     ]
    },
    {
     "name": "stderr",
     "output_type": "stream",
     "text": [
      " 60%|█████▉    | 595/1000 [27:32<18:14,  2.70s/it]"
     ]
    },
    {
     "name": "stdout",
     "output_type": "stream",
     "text": [
      "Test MSE: 68.9646, Test MAE: 5.4389, Test R2: -0.1233\n",
      "Epoch 596/1000\n",
      "Train MSE: 66.7343, Train MAE: 5.1093\n"
     ]
    },
    {
     "name": "stderr",
     "output_type": "stream",
     "text": [
      " 60%|█████▉    | 596/1000 [27:34<18:11,  2.70s/it]"
     ]
    },
    {
     "name": "stdout",
     "output_type": "stream",
     "text": [
      "Test MSE: 67.9656, Test MAE: 5.3483, Test R2: -0.0399\n",
      "Epoch 597/1000\n",
      "Train MSE: 62.6044, Train MAE: 4.9710\n"
     ]
    },
    {
     "name": "stderr",
     "output_type": "stream",
     "text": [
      " 60%|█████▉    | 597/1000 [27:37<18:07,  2.70s/it]"
     ]
    },
    {
     "name": "stdout",
     "output_type": "stream",
     "text": [
      "Test MSE: 70.4420, Test MAE: 5.4305, Test R2: -0.1109\n",
      "Epoch 598/1000\n",
      "Train MSE: 65.1945, Train MAE: 5.0610\n"
     ]
    },
    {
     "name": "stderr",
     "output_type": "stream",
     "text": [
      " 60%|█████▉    | 598/1000 [27:40<18:08,  2.71s/it]"
     ]
    },
    {
     "name": "stdout",
     "output_type": "stream",
     "text": [
      "Test MSE: 69.4972, Test MAE: 5.4016, Test R2: -0.0501\n",
      "Epoch 599/1000\n",
      "Train MSE: 65.7436, Train MAE: 5.0597\n"
     ]
    },
    {
     "name": "stderr",
     "output_type": "stream",
     "text": [
      " 60%|█████▉    | 599/1000 [27:43<18:09,  2.72s/it]"
     ]
    },
    {
     "name": "stdout",
     "output_type": "stream",
     "text": [
      "Test MSE: 69.3936, Test MAE: 5.3689, Test R2: -0.0189\n",
      "Epoch 600/1000\n",
      "Train MSE: 65.5841, Train MAE: 5.0454\n"
     ]
    },
    {
     "name": "stderr",
     "output_type": "stream",
     "text": [
      " 60%|██████    | 600/1000 [27:45<18:09,  2.72s/it]"
     ]
    },
    {
     "name": "stdout",
     "output_type": "stream",
     "text": [
      "Test MSE: 66.3509, Test MAE: 5.3231, Test R2: -0.1672\n",
      "Epoch 601/1000\n",
      "Train MSE: 65.7927, Train MAE: 5.0348\n"
     ]
    },
    {
     "name": "stderr",
     "output_type": "stream",
     "text": [
      " 60%|██████    | 601/1000 [27:48<18:08,  2.73s/it]"
     ]
    },
    {
     "name": "stdout",
     "output_type": "stream",
     "text": [
      "Test MSE: 71.8772, Test MAE: 5.4374, Test R2: -0.2465\n",
      "Epoch 602/1000\n",
      "Train MSE: 63.8545, Train MAE: 5.0179\n"
     ]
    },
    {
     "name": "stderr",
     "output_type": "stream",
     "text": [
      " 60%|██████    | 602/1000 [27:51<18:12,  2.75s/it]"
     ]
    },
    {
     "name": "stdout",
     "output_type": "stream",
     "text": [
      "Test MSE: 70.7579, Test MAE: 5.3768, Test R2: -0.0747\n",
      "Epoch 603/1000\n",
      "Train MSE: 65.8185, Train MAE: 5.0591\n"
     ]
    },
    {
     "name": "stderr",
     "output_type": "stream",
     "text": [
      " 60%|██████    | 603/1000 [27:54<18:13,  2.75s/it]"
     ]
    },
    {
     "name": "stdout",
     "output_type": "stream",
     "text": [
      "Test MSE: 72.3903, Test MAE: 5.4460, Test R2: -0.0307\n",
      "Epoch 604/1000\n",
      "Train MSE: 66.8176, Train MAE: 5.0765\n"
     ]
    },
    {
     "name": "stderr",
     "output_type": "stream",
     "text": [
      " 60%|██████    | 604/1000 [27:56<18:10,  2.75s/it]"
     ]
    },
    {
     "name": "stdout",
     "output_type": "stream",
     "text": [
      "Test MSE: 70.7496, Test MAE: 5.4354, Test R2: 0.1144\n",
      "Epoch 605/1000\n",
      "Train MSE: 65.5413, Train MAE: 5.0528\n"
     ]
    },
    {
     "name": "stderr",
     "output_type": "stream",
     "text": [
      " 60%|██████    | 605/1000 [27:59<18:05,  2.75s/it]"
     ]
    },
    {
     "name": "stdout",
     "output_type": "stream",
     "text": [
      "Test MSE: 73.0985, Test MAE: 5.4289, Test R2: 0.0406\n",
      "Epoch 606/1000\n",
      "Train MSE: 62.6490, Train MAE: 4.9487\n"
     ]
    },
    {
     "name": "stderr",
     "output_type": "stream",
     "text": [
      " 61%|██████    | 606/1000 [28:02<18:01,  2.75s/it]"
     ]
    },
    {
     "name": "stdout",
     "output_type": "stream",
     "text": [
      "Test MSE: 70.6844, Test MAE: 5.3770, Test R2: 0.0434\n",
      "Epoch 607/1000\n",
      "Train MSE: 64.6807, Train MAE: 5.0118\n"
     ]
    },
    {
     "name": "stderr",
     "output_type": "stream",
     "text": [
      " 61%|██████    | 607/1000 [28:04<17:52,  2.73s/it]"
     ]
    },
    {
     "name": "stdout",
     "output_type": "stream",
     "text": [
      "Test MSE: 69.7434, Test MAE: 5.4748, Test R2: -0.1225\n",
      "Epoch 608/1000\n",
      "Train MSE: 63.6010, Train MAE: 5.0029\n"
     ]
    },
    {
     "name": "stderr",
     "output_type": "stream",
     "text": [
      " 61%|██████    | 608/1000 [28:07<17:46,  2.72s/it]"
     ]
    },
    {
     "name": "stdout",
     "output_type": "stream",
     "text": [
      "Test MSE: 70.1591, Test MAE: 5.3826, Test R2: 0.0325\n",
      "Epoch 609/1000\n",
      "Train MSE: 64.0263, Train MAE: 5.0054\n"
     ]
    },
    {
     "name": "stderr",
     "output_type": "stream",
     "text": [
      " 61%|██████    | 609/1000 [28:10<17:40,  2.71s/it]"
     ]
    },
    {
     "name": "stdout",
     "output_type": "stream",
     "text": [
      "Test MSE: 68.6998, Test MAE: 5.3999, Test R2: 0.0081\n",
      "Epoch 610/1000\n",
      "Train MSE: 64.7620, Train MAE: 5.0050\n"
     ]
    },
    {
     "name": "stderr",
     "output_type": "stream",
     "text": [
      " 61%|██████    | 610/1000 [28:13<17:36,  2.71s/it]"
     ]
    },
    {
     "name": "stdout",
     "output_type": "stream",
     "text": [
      "Test MSE: 73.0137, Test MAE: 5.5350, Test R2: -0.0985\n",
      "Epoch 611/1000\n",
      "Train MSE: 62.0327, Train MAE: 4.9528\n"
     ]
    },
    {
     "name": "stderr",
     "output_type": "stream",
     "text": [
      " 61%|██████    | 611/1000 [28:15<17:31,  2.70s/it]"
     ]
    },
    {
     "name": "stdout",
     "output_type": "stream",
     "text": [
      "Test MSE: 71.2496, Test MAE: 5.5050, Test R2: 0.0622\n",
      "Epoch 612/1000\n",
      "Train MSE: 64.1054, Train MAE: 5.0451\n"
     ]
    },
    {
     "name": "stderr",
     "output_type": "stream",
     "text": [
      " 61%|██████    | 612/1000 [28:18<17:27,  2.70s/it]"
     ]
    },
    {
     "name": "stdout",
     "output_type": "stream",
     "text": [
      "Test MSE: 70.7815, Test MAE: 5.4145, Test R2: -0.0165\n",
      "Epoch 613/1000\n",
      "Train MSE: 64.1265, Train MAE: 5.0410\n"
     ]
    },
    {
     "name": "stderr",
     "output_type": "stream",
     "text": [
      " 61%|██████▏   | 613/1000 [28:21<17:25,  2.70s/it]"
     ]
    },
    {
     "name": "stdout",
     "output_type": "stream",
     "text": [
      "Test MSE: 78.4429, Test MAE: 5.6359, Test R2: 0.0929\n",
      "Epoch 614/1000\n",
      "Train MSE: 66.7966, Train MAE: 5.0520\n"
     ]
    },
    {
     "name": "stderr",
     "output_type": "stream",
     "text": [
      " 61%|██████▏   | 614/1000 [28:23<17:29,  2.72s/it]"
     ]
    },
    {
     "name": "stdout",
     "output_type": "stream",
     "text": [
      "Test MSE: 70.8029, Test MAE: 5.4452, Test R2: 0.0106\n",
      "Epoch 615/1000\n",
      "Train MSE: 61.9827, Train MAE: 5.0086\n"
     ]
    },
    {
     "name": "stderr",
     "output_type": "stream",
     "text": [
      " 62%|██████▏   | 615/1000 [28:26<17:32,  2.73s/it]"
     ]
    },
    {
     "name": "stdout",
     "output_type": "stream",
     "text": [
      "Test MSE: 67.9916, Test MAE: 5.4065, Test R2: -0.3742\n",
      "Epoch 616/1000\n",
      "Train MSE: 64.4291, Train MAE: 4.9975\n"
     ]
    },
    {
     "name": "stderr",
     "output_type": "stream",
     "text": [
      " 62%|██████▏   | 616/1000 [28:29<17:34,  2.75s/it]"
     ]
    },
    {
     "name": "stdout",
     "output_type": "stream",
     "text": [
      "Test MSE: 76.2708, Test MAE: 5.5287, Test R2: 0.1421\n",
      "Epoch 617/1000\n",
      "Train MSE: 63.6284, Train MAE: 5.0013\n"
     ]
    },
    {
     "name": "stderr",
     "output_type": "stream",
     "text": [
      " 62%|██████▏   | 617/1000 [28:32<17:34,  2.75s/it]"
     ]
    },
    {
     "name": "stdout",
     "output_type": "stream",
     "text": [
      "Test MSE: 67.9200, Test MAE: 5.3850, Test R2: -0.3940\n",
      "Epoch 618/1000\n",
      "Train MSE: 63.9480, Train MAE: 5.0213\n"
     ]
    },
    {
     "name": "stderr",
     "output_type": "stream",
     "text": [
      " 62%|██████▏   | 618/1000 [28:35<17:36,  2.77s/it]"
     ]
    },
    {
     "name": "stdout",
     "output_type": "stream",
     "text": [
      "Test MSE: 73.5951, Test MAE: 5.4907, Test R2: 0.1210\n",
      "Epoch 619/1000\n",
      "Train MSE: 66.2685, Train MAE: 5.0282\n"
     ]
    },
    {
     "name": "stderr",
     "output_type": "stream",
     "text": [
      " 62%|██████▏   | 619/1000 [28:37<17:35,  2.77s/it]"
     ]
    },
    {
     "name": "stdout",
     "output_type": "stream",
     "text": [
      "Test MSE: 66.4817, Test MAE: 5.3630, Test R2: 0.0821\n",
      "Epoch 620/1000\n",
      "Train MSE: 64.9626, Train MAE: 5.0250\n"
     ]
    },
    {
     "name": "stderr",
     "output_type": "stream",
     "text": [
      " 62%|██████▏   | 620/1000 [28:40<17:35,  2.78s/it]"
     ]
    },
    {
     "name": "stdout",
     "output_type": "stream",
     "text": [
      "Test MSE: 70.5518, Test MAE: 5.4804, Test R2: -0.2795\n",
      "Epoch 621/1000\n",
      "Train MSE: 66.8081, Train MAE: 5.0370\n"
     ]
    },
    {
     "name": "stderr",
     "output_type": "stream",
     "text": [
      " 62%|██████▏   | 621/1000 [28:43<17:32,  2.78s/it]"
     ]
    },
    {
     "name": "stdout",
     "output_type": "stream",
     "text": [
      "Test MSE: 68.8780, Test MAE: 5.4027, Test R2: 0.0551\n",
      "Epoch 622/1000\n",
      "Train MSE: 65.2294, Train MAE: 5.0291\n"
     ]
    },
    {
     "name": "stderr",
     "output_type": "stream",
     "text": [
      " 62%|██████▏   | 622/1000 [28:46<17:29,  2.78s/it]"
     ]
    },
    {
     "name": "stdout",
     "output_type": "stream",
     "text": [
      "Test MSE: 69.4582, Test MAE: 5.4440, Test R2: -0.3518\n",
      "Epoch 623/1000\n",
      "Train MSE: 66.8610, Train MAE: 5.0766\n"
     ]
    },
    {
     "name": "stderr",
     "output_type": "stream",
     "text": [
      " 62%|██████▏   | 623/1000 [28:48<17:24,  2.77s/it]"
     ]
    },
    {
     "name": "stdout",
     "output_type": "stream",
     "text": [
      "Test MSE: 71.9832, Test MAE: 5.4350, Test R2: 0.0814\n",
      "Epoch 624/1000\n",
      "Train MSE: 62.5106, Train MAE: 4.9226\n"
     ]
    },
    {
     "name": "stderr",
     "output_type": "stream",
     "text": [
      " 62%|██████▏   | 624/1000 [28:51<17:21,  2.77s/it]"
     ]
    },
    {
     "name": "stdout",
     "output_type": "stream",
     "text": [
      "Test MSE: 68.0284, Test MAE: 5.3765, Test R2: 0.0541\n",
      "Epoch 625/1000\n",
      "Train MSE: 65.0670, Train MAE: 5.0261\n"
     ]
    },
    {
     "name": "stderr",
     "output_type": "stream",
     "text": [
      " 62%|██████▎   | 625/1000 [28:54<17:17,  2.77s/it]"
     ]
    },
    {
     "name": "stdout",
     "output_type": "stream",
     "text": [
      "Test MSE: 72.7474, Test MAE: 5.5038, Test R2: 0.1492\n",
      "Epoch 626/1000\n",
      "Train MSE: 64.0090, Train MAE: 4.9956\n"
     ]
    },
    {
     "name": "stderr",
     "output_type": "stream",
     "text": [
      " 63%|██████▎   | 626/1000 [28:57<17:14,  2.77s/it]"
     ]
    },
    {
     "name": "stdout",
     "output_type": "stream",
     "text": [
      "Test MSE: 72.9646, Test MAE: 5.4284, Test R2: -0.2374\n",
      "Epoch 627/1000\n",
      "Train MSE: 64.7719, Train MAE: 5.0432\n"
     ]
    },
    {
     "name": "stderr",
     "output_type": "stream",
     "text": [
      " 63%|██████▎   | 627/1000 [28:59<17:11,  2.76s/it]"
     ]
    },
    {
     "name": "stdout",
     "output_type": "stream",
     "text": [
      "Test MSE: 69.0448, Test MAE: 5.3524, Test R2: -0.5055\n",
      "Epoch 628/1000\n",
      "Train MSE: 63.3575, Train MAE: 4.9687\n"
     ]
    },
    {
     "name": "stderr",
     "output_type": "stream",
     "text": [
      " 63%|██████▎   | 628/1000 [29:02<17:09,  2.77s/it]"
     ]
    },
    {
     "name": "stdout",
     "output_type": "stream",
     "text": [
      "Test MSE: 71.7909, Test MAE: 5.4532, Test R2: -0.1868\n",
      "Epoch 629/1000\n",
      "Train MSE: 65.2457, Train MAE: 5.0649\n"
     ]
    },
    {
     "name": "stderr",
     "output_type": "stream",
     "text": [
      " 63%|██████▎   | 629/1000 [29:05<17:05,  2.76s/it]"
     ]
    },
    {
     "name": "stdout",
     "output_type": "stream",
     "text": [
      "Test MSE: 69.7890, Test MAE: 5.3921, Test R2: -0.0921\n",
      "Epoch 630/1000\n",
      "Train MSE: 65.3024, Train MAE: 5.0231\n"
     ]
    },
    {
     "name": "stderr",
     "output_type": "stream",
     "text": [
      " 63%|██████▎   | 630/1000 [29:08<17:01,  2.76s/it]"
     ]
    },
    {
     "name": "stdout",
     "output_type": "stream",
     "text": [
      "Test MSE: 70.0425, Test MAE: 5.3721, Test R2: -0.0006\n",
      "Epoch 631/1000\n",
      "Train MSE: 64.6958, Train MAE: 5.0113\n"
     ]
    },
    {
     "name": "stderr",
     "output_type": "stream",
     "text": [
      " 63%|██████▎   | 631/1000 [29:10<16:58,  2.76s/it]"
     ]
    },
    {
     "name": "stdout",
     "output_type": "stream",
     "text": [
      "Test MSE: 71.2952, Test MAE: 5.4378, Test R2: -0.2578\n",
      "Epoch 632/1000\n",
      "Train MSE: 65.9627, Train MAE: 5.0235\n"
     ]
    },
    {
     "name": "stderr",
     "output_type": "stream",
     "text": [
      " 63%|██████▎   | 632/1000 [29:13<16:50,  2.75s/it]"
     ]
    },
    {
     "name": "stdout",
     "output_type": "stream",
     "text": [
      "Test MSE: 73.7050, Test MAE: 5.4505, Test R2: -0.0952\n",
      "Epoch 633/1000\n",
      "Train MSE: 62.1474, Train MAE: 4.9577\n"
     ]
    },
    {
     "name": "stderr",
     "output_type": "stream",
     "text": [
      " 63%|██████▎   | 633/1000 [29:16<16:41,  2.73s/it]"
     ]
    },
    {
     "name": "stdout",
     "output_type": "stream",
     "text": [
      "Test MSE: 73.8287, Test MAE: 5.4935, Test R2: -0.2876\n",
      "Epoch 634/1000\n",
      "Train MSE: 64.1467, Train MAE: 4.9867\n"
     ]
    },
    {
     "name": "stderr",
     "output_type": "stream",
     "text": [
      " 63%|██████▎   | 634/1000 [29:19<16:40,  2.73s/it]"
     ]
    },
    {
     "name": "stdout",
     "output_type": "stream",
     "text": [
      "Test MSE: 68.7763, Test MAE: 5.3930, Test R2: -0.1624\n",
      "Epoch 635/1000\n",
      "Train MSE: 65.3966, Train MAE: 5.0460\n"
     ]
    },
    {
     "name": "stderr",
     "output_type": "stream",
     "text": [
      " 64%|██████▎   | 635/1000 [29:21<16:38,  2.73s/it]"
     ]
    },
    {
     "name": "stdout",
     "output_type": "stream",
     "text": [
      "Test MSE: 69.2716, Test MAE: 5.4157, Test R2: -0.2787\n",
      "Epoch 636/1000\n",
      "Train MSE: 62.8097, Train MAE: 4.9890\n"
     ]
    },
    {
     "name": "stderr",
     "output_type": "stream",
     "text": [
      " 64%|██████▎   | 636/1000 [29:24<16:38,  2.74s/it]"
     ]
    },
    {
     "name": "stdout",
     "output_type": "stream",
     "text": [
      "Test MSE: 69.2667, Test MAE: 5.3967, Test R2: 0.0949\n",
      "Epoch 637/1000\n",
      "Train MSE: 63.9132, Train MAE: 5.0096\n"
     ]
    },
    {
     "name": "stderr",
     "output_type": "stream",
     "text": [
      " 64%|██████▎   | 637/1000 [29:27<16:32,  2.73s/it]"
     ]
    },
    {
     "name": "stdout",
     "output_type": "stream",
     "text": [
      "Test MSE: 69.6442, Test MAE: 5.4549, Test R2: 0.0531\n",
      "Epoch 638/1000\n",
      "Train MSE: 63.0254, Train MAE: 5.0364\n"
     ]
    },
    {
     "name": "stderr",
     "output_type": "stream",
     "text": [
      " 64%|██████▍   | 638/1000 [29:30<16:34,  2.75s/it]"
     ]
    },
    {
     "name": "stdout",
     "output_type": "stream",
     "text": [
      "Test MSE: 69.5241, Test MAE: 5.3648, Test R2: -0.0609\n",
      "Epoch 639/1000\n",
      "Train MSE: 64.1251, Train MAE: 5.0032\n"
     ]
    },
    {
     "name": "stderr",
     "output_type": "stream",
     "text": [
      " 64%|██████▍   | 639/1000 [29:32<16:37,  2.76s/it]"
     ]
    },
    {
     "name": "stdout",
     "output_type": "stream",
     "text": [
      "Test MSE: 70.3615, Test MAE: 5.3953, Test R2: -0.0362\n",
      "Epoch 640/1000\n",
      "Train MSE: 65.2975, Train MAE: 5.0567\n"
     ]
    },
    {
     "name": "stderr",
     "output_type": "stream",
     "text": [
      " 64%|██████▍   | 640/1000 [29:35<16:35,  2.76s/it]"
     ]
    },
    {
     "name": "stdout",
     "output_type": "stream",
     "text": [
      "Test MSE: 72.9193, Test MAE: 5.4719, Test R2: -0.2317\n",
      "Epoch 641/1000\n",
      "Train MSE: 64.8517, Train MAE: 5.0121\n"
     ]
    },
    {
     "name": "stderr",
     "output_type": "stream",
     "text": [
      " 64%|██████▍   | 641/1000 [29:38<16:39,  2.78s/it]"
     ]
    },
    {
     "name": "stdout",
     "output_type": "stream",
     "text": [
      "Test MSE: 69.1855, Test MAE: 5.3556, Test R2: -0.1345\n",
      "Epoch 642/1000\n",
      "Train MSE: 67.1374, Train MAE: 5.1041\n"
     ]
    },
    {
     "name": "stderr",
     "output_type": "stream",
     "text": [
      " 64%|██████▍   | 642/1000 [29:41<16:33,  2.77s/it]"
     ]
    },
    {
     "name": "stdout",
     "output_type": "stream",
     "text": [
      "Test MSE: 72.6497, Test MAE: 5.4477, Test R2: -0.1405\n",
      "Epoch 643/1000\n",
      "Train MSE: 61.3760, Train MAE: 4.9548\n"
     ]
    },
    {
     "name": "stderr",
     "output_type": "stream",
     "text": [
      " 64%|██████▍   | 643/1000 [29:44<16:29,  2.77s/it]"
     ]
    },
    {
     "name": "stdout",
     "output_type": "stream",
     "text": [
      "Test MSE: 74.9578, Test MAE: 5.5315, Test R2: -0.1340\n",
      "Epoch 644/1000\n",
      "Train MSE: 64.1034, Train MAE: 5.0010\n"
     ]
    },
    {
     "name": "stderr",
     "output_type": "stream",
     "text": [
      " 64%|██████▍   | 644/1000 [29:46<16:25,  2.77s/it]"
     ]
    },
    {
     "name": "stdout",
     "output_type": "stream",
     "text": [
      "Test MSE: 73.7793, Test MAE: 5.5015, Test R2: -0.2373\n",
      "Epoch 645/1000\n",
      "Train MSE: 62.8303, Train MAE: 4.9690\n"
     ]
    },
    {
     "name": "stderr",
     "output_type": "stream",
     "text": [
      " 64%|██████▍   | 645/1000 [29:49<16:23,  2.77s/it]"
     ]
    },
    {
     "name": "stdout",
     "output_type": "stream",
     "text": [
      "Test MSE: 71.8571, Test MAE: 5.5126, Test R2: -0.1562\n",
      "Epoch 646/1000\n",
      "Train MSE: 65.5532, Train MAE: 5.0435\n"
     ]
    },
    {
     "name": "stderr",
     "output_type": "stream",
     "text": [
      " 65%|██████▍   | 646/1000 [29:52<16:19,  2.77s/it]"
     ]
    },
    {
     "name": "stdout",
     "output_type": "stream",
     "text": [
      "Test MSE: 68.0855, Test MAE: 5.3720, Test R2: -0.2428\n",
      "Epoch 647/1000\n",
      "Train MSE: 65.2531, Train MAE: 5.0432\n"
     ]
    },
    {
     "name": "stderr",
     "output_type": "stream",
     "text": [
      " 65%|██████▍   | 647/1000 [29:55<16:16,  2.77s/it]"
     ]
    },
    {
     "name": "stdout",
     "output_type": "stream",
     "text": [
      "Test MSE: 70.2128, Test MAE: 5.4044, Test R2: -0.2369\n",
      "Epoch 648/1000\n",
      "Train MSE: 63.4836, Train MAE: 4.9894\n"
     ]
    },
    {
     "name": "stderr",
     "output_type": "stream",
     "text": [
      " 65%|██████▍   | 648/1000 [29:57<16:08,  2.75s/it]"
     ]
    },
    {
     "name": "stdout",
     "output_type": "stream",
     "text": [
      "Test MSE: 68.7688, Test MAE: 5.4040, Test R2: -0.0649\n",
      "Epoch 649/1000\n",
      "Train MSE: 63.0188, Train MAE: 4.9882\n"
     ]
    },
    {
     "name": "stderr",
     "output_type": "stream",
     "text": [
      " 65%|██████▍   | 649/1000 [30:00<16:00,  2.74s/it]"
     ]
    },
    {
     "name": "stdout",
     "output_type": "stream",
     "text": [
      "Test MSE: 74.2886, Test MAE: 5.5472, Test R2: -0.0559\n",
      "Epoch 650/1000\n",
      "Train MSE: 65.8564, Train MAE: 5.0462\n"
     ]
    },
    {
     "name": "stderr",
     "output_type": "stream",
     "text": [
      " 65%|██████▌   | 650/1000 [30:03<15:53,  2.72s/it]"
     ]
    },
    {
     "name": "stdout",
     "output_type": "stream",
     "text": [
      "Test MSE: 73.6145, Test MAE: 5.4709, Test R2: 0.0534\n",
      "Epoch 651/1000\n",
      "Train MSE: 63.6398, Train MAE: 5.0080\n"
     ]
    },
    {
     "name": "stderr",
     "output_type": "stream",
     "text": [
      " 65%|██████▌   | 651/1000 [30:05<15:48,  2.72s/it]"
     ]
    },
    {
     "name": "stdout",
     "output_type": "stream",
     "text": [
      "Test MSE: 69.6231, Test MAE: 5.4139, Test R2: -0.0458\n",
      "Epoch 652/1000\n",
      "Train MSE: 62.8344, Train MAE: 4.9865\n"
     ]
    },
    {
     "name": "stderr",
     "output_type": "stream",
     "text": [
      " 65%|██████▌   | 652/1000 [30:08<15:42,  2.71s/it]"
     ]
    },
    {
     "name": "stdout",
     "output_type": "stream",
     "text": [
      "Test MSE: 69.4417, Test MAE: 5.4539, Test R2: -0.1358\n",
      "Epoch 653/1000\n",
      "Train MSE: 63.9317, Train MAE: 4.9979\n"
     ]
    },
    {
     "name": "stderr",
     "output_type": "stream",
     "text": [
      " 65%|██████▌   | 653/1000 [30:11<15:38,  2.70s/it]"
     ]
    },
    {
     "name": "stdout",
     "output_type": "stream",
     "text": [
      "Test MSE: 70.4501, Test MAE: 5.4321, Test R2: 0.1520\n",
      "Epoch 654/1000\n",
      "Train MSE: 62.9421, Train MAE: 4.9704\n"
     ]
    },
    {
     "name": "stderr",
     "output_type": "stream",
     "text": [
      " 65%|██████▌   | 654/1000 [30:13<15:32,  2.69s/it]"
     ]
    },
    {
     "name": "stdout",
     "output_type": "stream",
     "text": [
      "Test MSE: 68.7195, Test MAE: 5.4080, Test R2: -0.0111\n",
      "Epoch 655/1000\n",
      "Train MSE: 65.7186, Train MAE: 5.0738\n"
     ]
    },
    {
     "name": "stderr",
     "output_type": "stream",
     "text": [
      " 66%|██████▌   | 655/1000 [30:16<15:28,  2.69s/it]"
     ]
    },
    {
     "name": "stdout",
     "output_type": "stream",
     "text": [
      "Test MSE: 68.7068, Test MAE: 5.4318, Test R2: 0.1023\n",
      "Epoch 656/1000\n",
      "Train MSE: 63.6662, Train MAE: 4.9953\n"
     ]
    },
    {
     "name": "stderr",
     "output_type": "stream",
     "text": [
      " 66%|██████▌   | 656/1000 [30:19<15:24,  2.69s/it]"
     ]
    },
    {
     "name": "stdout",
     "output_type": "stream",
     "text": [
      "Test MSE: 71.2004, Test MAE: 5.4849, Test R2: -0.1520\n",
      "Epoch 657/1000\n",
      "Train MSE: 63.4891, Train MAE: 4.9835\n"
     ]
    },
    {
     "name": "stderr",
     "output_type": "stream",
     "text": [
      " 66%|██████▌   | 657/1000 [30:22<15:21,  2.69s/it]"
     ]
    },
    {
     "name": "stdout",
     "output_type": "stream",
     "text": [
      "Test MSE: 68.1529, Test MAE: 5.4095, Test R2: -0.3532\n",
      "Epoch 658/1000\n",
      "Train MSE: 61.8010, Train MAE: 4.9581\n"
     ]
    },
    {
     "name": "stderr",
     "output_type": "stream",
     "text": [
      " 66%|██████▌   | 658/1000 [30:24<15:18,  2.69s/it]"
     ]
    },
    {
     "name": "stdout",
     "output_type": "stream",
     "text": [
      "Test MSE: 71.9111, Test MAE: 5.4720, Test R2: 0.0866\n",
      "Epoch 659/1000\n",
      "Train MSE: 63.2830, Train MAE: 5.0018\n"
     ]
    },
    {
     "name": "stderr",
     "output_type": "stream",
     "text": [
      " 66%|██████▌   | 659/1000 [30:27<15:15,  2.69s/it]"
     ]
    },
    {
     "name": "stdout",
     "output_type": "stream",
     "text": [
      "Test MSE: 69.8940, Test MAE: 5.3942, Test R2: -0.0697\n",
      "Epoch 660/1000\n",
      "Train MSE: 63.1015, Train MAE: 5.0125\n"
     ]
    },
    {
     "name": "stderr",
     "output_type": "stream",
     "text": [
      " 66%|██████▌   | 660/1000 [30:30<15:12,  2.68s/it]"
     ]
    },
    {
     "name": "stdout",
     "output_type": "stream",
     "text": [
      "Test MSE: 70.1761, Test MAE: 5.4483, Test R2: 0.1366\n",
      "Epoch 661/1000\n",
      "Train MSE: 64.2644, Train MAE: 5.0024\n"
     ]
    },
    {
     "name": "stderr",
     "output_type": "stream",
     "text": [
      " 66%|██████▌   | 661/1000 [30:32<15:10,  2.69s/it]"
     ]
    },
    {
     "name": "stdout",
     "output_type": "stream",
     "text": [
      "Test MSE: 69.9743, Test MAE: 5.4224, Test R2: -0.0002\n",
      "Epoch 662/1000\n",
      "Train MSE: 62.4624, Train MAE: 4.9454\n"
     ]
    },
    {
     "name": "stderr",
     "output_type": "stream",
     "text": [
      " 66%|██████▌   | 662/1000 [30:35<15:07,  2.68s/it]"
     ]
    },
    {
     "name": "stdout",
     "output_type": "stream",
     "text": [
      "Test MSE: 71.2590, Test MAE: 5.4591, Test R2: -0.2882\n",
      "Epoch 663/1000\n",
      "Train MSE: 63.5381, Train MAE: 5.0311\n"
     ]
    },
    {
     "name": "stderr",
     "output_type": "stream",
     "text": [
      " 66%|██████▋   | 663/1000 [30:38<15:05,  2.69s/it]"
     ]
    },
    {
     "name": "stdout",
     "output_type": "stream",
     "text": [
      "Test MSE: 67.0146, Test MAE: 5.3933, Test R2: 0.1467\n",
      "Epoch 664/1000\n",
      "Train MSE: 65.4907, Train MAE: 5.0257\n"
     ]
    },
    {
     "name": "stderr",
     "output_type": "stream",
     "text": [
      " 66%|██████▋   | 664/1000 [30:40<15:02,  2.68s/it]"
     ]
    },
    {
     "name": "stdout",
     "output_type": "stream",
     "text": [
      "Test MSE: 67.2150, Test MAE: 5.3290, Test R2: -0.0377\n",
      "Epoch 665/1000\n",
      "Train MSE: 63.9670, Train MAE: 5.0153\n"
     ]
    },
    {
     "name": "stderr",
     "output_type": "stream",
     "text": [
      " 66%|██████▋   | 665/1000 [30:43<15:01,  2.69s/it]"
     ]
    },
    {
     "name": "stdout",
     "output_type": "stream",
     "text": [
      "Test MSE: 68.4591, Test MAE: 5.4020, Test R2: -0.0632\n",
      "Epoch 666/1000\n",
      "Train MSE: 64.0628, Train MAE: 5.0557\n"
     ]
    },
    {
     "name": "stderr",
     "output_type": "stream",
     "text": [
      " 67%|██████▋   | 666/1000 [30:46<15:00,  2.70s/it]"
     ]
    },
    {
     "name": "stdout",
     "output_type": "stream",
     "text": [
      "Test MSE: 73.9931, Test MAE: 5.5349, Test R2: 0.1313\n",
      "Epoch 667/1000\n",
      "Train MSE: 62.8238, Train MAE: 5.0216\n"
     ]
    },
    {
     "name": "stderr",
     "output_type": "stream",
     "text": [
      " 67%|██████▋   | 667/1000 [30:48<14:57,  2.69s/it]"
     ]
    },
    {
     "name": "stdout",
     "output_type": "stream",
     "text": [
      "Test MSE: 70.6191, Test MAE: 5.4686, Test R2: -0.0128\n",
      "Epoch 668/1000\n",
      "Train MSE: 65.2343, Train MAE: 5.0253\n"
     ]
    },
    {
     "name": "stderr",
     "output_type": "stream",
     "text": [
      " 67%|██████▋   | 668/1000 [30:51<14:54,  2.69s/it]"
     ]
    },
    {
     "name": "stdout",
     "output_type": "stream",
     "text": [
      "Test MSE: 68.9899, Test MAE: 5.4228, Test R2: -0.0143\n",
      "Epoch 669/1000\n",
      "Train MSE: 64.4864, Train MAE: 5.0220\n"
     ]
    },
    {
     "name": "stderr",
     "output_type": "stream",
     "text": [
      " 67%|██████▋   | 669/1000 [30:54<14:50,  2.69s/it]"
     ]
    },
    {
     "name": "stdout",
     "output_type": "stream",
     "text": [
      "Test MSE: 68.7537, Test MAE: 5.3610, Test R2: 0.0742\n",
      "Epoch 670/1000\n",
      "Train MSE: 65.3065, Train MAE: 4.9936\n"
     ]
    },
    {
     "name": "stderr",
     "output_type": "stream",
     "text": [
      " 67%|██████▋   | 670/1000 [30:56<14:47,  2.69s/it]"
     ]
    },
    {
     "name": "stdout",
     "output_type": "stream",
     "text": [
      "Test MSE: 67.5439, Test MAE: 5.4117, Test R2: 0.2098\n",
      "Epoch 671/1000\n",
      "Train MSE: 65.2647, Train MAE: 5.0105\n"
     ]
    },
    {
     "name": "stderr",
     "output_type": "stream",
     "text": [
      " 67%|██████▋   | 671/1000 [30:59<14:44,  2.69s/it]"
     ]
    },
    {
     "name": "stdout",
     "output_type": "stream",
     "text": [
      "Test MSE: 70.5767, Test MAE: 5.4485, Test R2: -0.0878\n",
      "Epoch 672/1000\n",
      "Train MSE: 62.9582, Train MAE: 4.9460\n"
     ]
    },
    {
     "name": "stderr",
     "output_type": "stream",
     "text": [
      " 67%|██████▋   | 672/1000 [31:02<14:42,  2.69s/it]"
     ]
    },
    {
     "name": "stdout",
     "output_type": "stream",
     "text": [
      "Test MSE: 67.0178, Test MAE: 5.3788, Test R2: 0.0496\n",
      "Epoch 673/1000\n",
      "Train MSE: 64.6068, Train MAE: 5.0071\n"
     ]
    },
    {
     "name": "stderr",
     "output_type": "stream",
     "text": [
      " 67%|██████▋   | 673/1000 [31:05<14:38,  2.69s/it]"
     ]
    },
    {
     "name": "stdout",
     "output_type": "stream",
     "text": [
      "Test MSE: 80.0729, Test MAE: 5.6128, Test R2: -0.0582\n",
      "Epoch 674/1000\n",
      "Train MSE: 65.9205, Train MAE: 5.0147\n"
     ]
    },
    {
     "name": "stderr",
     "output_type": "stream",
     "text": [
      " 67%|██████▋   | 674/1000 [31:07<14:35,  2.69s/it]"
     ]
    },
    {
     "name": "stdout",
     "output_type": "stream",
     "text": [
      "Test MSE: 68.1784, Test MAE: 5.3638, Test R2: 0.2102\n",
      "Epoch 675/1000\n",
      "Train MSE: 62.8554, Train MAE: 5.0126\n"
     ]
    },
    {
     "name": "stderr",
     "output_type": "stream",
     "text": [
      " 68%|██████▊   | 675/1000 [31:10<14:33,  2.69s/it]"
     ]
    },
    {
     "name": "stdout",
     "output_type": "stream",
     "text": [
      "Test MSE: 70.5676, Test MAE: 5.4247, Test R2: 0.1097\n",
      "Epoch 676/1000\n",
      "Train MSE: 62.3579, Train MAE: 5.0193\n"
     ]
    },
    {
     "name": "stderr",
     "output_type": "stream",
     "text": [
      " 68%|██████▊   | 676/1000 [31:13<14:31,  2.69s/it]"
     ]
    },
    {
     "name": "stdout",
     "output_type": "stream",
     "text": [
      "Test MSE: 74.0870, Test MAE: 5.5433, Test R2: -0.2877\n",
      "Epoch 677/1000\n",
      "Train MSE: 64.8232, Train MAE: 5.0296\n"
     ]
    },
    {
     "name": "stderr",
     "output_type": "stream",
     "text": [
      " 68%|██████▊   | 677/1000 [31:15<14:27,  2.69s/it]"
     ]
    },
    {
     "name": "stdout",
     "output_type": "stream",
     "text": [
      "Test MSE: 70.3512, Test MAE: 5.4473, Test R2: -0.1776\n",
      "Epoch 678/1000\n",
      "Train MSE: 63.6584, Train MAE: 4.9809\n"
     ]
    },
    {
     "name": "stderr",
     "output_type": "stream",
     "text": [
      " 68%|██████▊   | 678/1000 [31:18<14:24,  2.69s/it]"
     ]
    },
    {
     "name": "stdout",
     "output_type": "stream",
     "text": [
      "Test MSE: 72.5883, Test MAE: 5.5091, Test R2: -0.2442\n",
      "Epoch 679/1000\n",
      "Train MSE: 62.7800, Train MAE: 4.9481\n"
     ]
    },
    {
     "name": "stderr",
     "output_type": "stream",
     "text": [
      " 68%|██████▊   | 679/1000 [31:21<14:22,  2.69s/it]"
     ]
    },
    {
     "name": "stdout",
     "output_type": "stream",
     "text": [
      "Test MSE: 71.1668, Test MAE: 5.4889, Test R2: 0.0168\n",
      "Epoch 680/1000\n",
      "Train MSE: 63.1683, Train MAE: 4.9884\n"
     ]
    },
    {
     "name": "stderr",
     "output_type": "stream",
     "text": [
      " 68%|██████▊   | 680/1000 [31:23<14:21,  2.69s/it]"
     ]
    },
    {
     "name": "stdout",
     "output_type": "stream",
     "text": [
      "Test MSE: 71.6787, Test MAE: 5.4499, Test R2: -0.1780\n",
      "Epoch 681/1000\n",
      "Train MSE: 62.7869, Train MAE: 4.9426\n"
     ]
    },
    {
     "name": "stderr",
     "output_type": "stream",
     "text": [
      " 68%|██████▊   | 681/1000 [31:26<14:23,  2.71s/it]"
     ]
    },
    {
     "name": "stdout",
     "output_type": "stream",
     "text": [
      "Test MSE: 73.5080, Test MAE: 5.4914, Test R2: 0.0918\n",
      "Epoch 682/1000\n",
      "Train MSE: 65.0925, Train MAE: 4.9752\n"
     ]
    },
    {
     "name": "stderr",
     "output_type": "stream",
     "text": [
      " 68%|██████▊   | 682/1000 [31:29<14:21,  2.71s/it]"
     ]
    },
    {
     "name": "stdout",
     "output_type": "stream",
     "text": [
      "Test MSE: 69.4372, Test MAE: 5.4306, Test R2: 0.0220\n",
      "Epoch 683/1000\n",
      "Train MSE: 62.4836, Train MAE: 4.9754\n"
     ]
    },
    {
     "name": "stderr",
     "output_type": "stream",
     "text": [
      " 68%|██████▊   | 683/1000 [31:32<14:20,  2.71s/it]"
     ]
    },
    {
     "name": "stdout",
     "output_type": "stream",
     "text": [
      "Test MSE: 69.2011, Test MAE: 5.4221, Test R2: -0.0399\n",
      "Epoch 684/1000\n",
      "Train MSE: 66.1330, Train MAE: 5.0694\n"
     ]
    },
    {
     "name": "stderr",
     "output_type": "stream",
     "text": [
      " 68%|██████▊   | 684/1000 [31:34<14:18,  2.72s/it]"
     ]
    },
    {
     "name": "stdout",
     "output_type": "stream",
     "text": [
      "Test MSE: 73.1608, Test MAE: 5.4638, Test R2: -0.2154\n",
      "Epoch 685/1000\n",
      "Train MSE: 63.0635, Train MAE: 5.0103\n"
     ]
    },
    {
     "name": "stderr",
     "output_type": "stream",
     "text": [
      " 68%|██████▊   | 685/1000 [31:37<14:16,  2.72s/it]"
     ]
    },
    {
     "name": "stdout",
     "output_type": "stream",
     "text": [
      "Test MSE: 69.8608, Test MAE: 5.4244, Test R2: -0.0762\n",
      "Epoch 686/1000\n",
      "Train MSE: 64.2994, Train MAE: 5.0026\n"
     ]
    },
    {
     "name": "stderr",
     "output_type": "stream",
     "text": [
      " 69%|██████▊   | 686/1000 [31:40<14:10,  2.71s/it]"
     ]
    },
    {
     "name": "stdout",
     "output_type": "stream",
     "text": [
      "Test MSE: 70.2525, Test MAE: 5.4144, Test R2: -0.0139\n",
      "Epoch 687/1000\n",
      "Train MSE: 63.9053, Train MAE: 5.0078\n"
     ]
    },
    {
     "name": "stderr",
     "output_type": "stream",
     "text": [
      " 69%|██████▊   | 687/1000 [31:42<14:06,  2.71s/it]"
     ]
    },
    {
     "name": "stdout",
     "output_type": "stream",
     "text": [
      "Test MSE: 72.4145, Test MAE: 5.4959, Test R2: -0.2769\n",
      "Epoch 688/1000\n",
      "Train MSE: 64.6828, Train MAE: 5.0280\n"
     ]
    },
    {
     "name": "stderr",
     "output_type": "stream",
     "text": [
      " 69%|██████▉   | 688/1000 [31:45<14:02,  2.70s/it]"
     ]
    },
    {
     "name": "stdout",
     "output_type": "stream",
     "text": [
      "Test MSE: 69.4444, Test MAE: 5.4175, Test R2: -0.1132\n",
      "Epoch 689/1000\n",
      "Train MSE: 64.0263, Train MAE: 4.9855\n"
     ]
    },
    {
     "name": "stderr",
     "output_type": "stream",
     "text": [
      " 69%|██████▉   | 689/1000 [31:48<13:58,  2.70s/it]"
     ]
    },
    {
     "name": "stdout",
     "output_type": "stream",
     "text": [
      "Test MSE: 67.6440, Test MAE: 5.3598, Test R2: 0.0084\n",
      "Epoch 690/1000\n",
      "Train MSE: 62.6977, Train MAE: 4.9384\n"
     ]
    },
    {
     "name": "stderr",
     "output_type": "stream",
     "text": [
      " 69%|██████▉   | 690/1000 [31:50<13:56,  2.70s/it]"
     ]
    },
    {
     "name": "stdout",
     "output_type": "stream",
     "text": [
      "Test MSE: 69.4611, Test MAE: 5.3717, Test R2: 0.0194\n",
      "Epoch 691/1000\n",
      "Train MSE: 62.7664, Train MAE: 4.9651\n"
     ]
    },
    {
     "name": "stderr",
     "output_type": "stream",
     "text": [
      " 69%|██████▉   | 691/1000 [31:53<13:53,  2.70s/it]"
     ]
    },
    {
     "name": "stdout",
     "output_type": "stream",
     "text": [
      "Test MSE: 71.1027, Test MAE: 5.4373, Test R2: 0.0374\n",
      "Epoch 692/1000\n",
      "Train MSE: 65.6080, Train MAE: 5.0712\n"
     ]
    },
    {
     "name": "stderr",
     "output_type": "stream",
     "text": [
      " 69%|██████▉   | 692/1000 [31:56<13:50,  2.70s/it]"
     ]
    },
    {
     "name": "stdout",
     "output_type": "stream",
     "text": [
      "Test MSE: 69.7734, Test MAE: 5.3970, Test R2: 0.0826\n",
      "Epoch 693/1000\n",
      "Train MSE: 62.4833, Train MAE: 4.9489\n"
     ]
    },
    {
     "name": "stderr",
     "output_type": "stream",
     "text": [
      " 69%|██████▉   | 693/1000 [31:59<13:49,  2.70s/it]"
     ]
    },
    {
     "name": "stdout",
     "output_type": "stream",
     "text": [
      "Test MSE: 73.7256, Test MAE: 5.4893, Test R2: -0.1586\n",
      "Epoch 694/1000\n",
      "Train MSE: 62.7817, Train MAE: 4.9672\n"
     ]
    },
    {
     "name": "stderr",
     "output_type": "stream",
     "text": [
      " 69%|██████▉   | 694/1000 [32:01<13:47,  2.71s/it]"
     ]
    },
    {
     "name": "stdout",
     "output_type": "stream",
     "text": [
      "Test MSE: 69.7044, Test MAE: 5.4311, Test R2: 0.1318\n",
      "Epoch 695/1000\n",
      "Train MSE: 63.4447, Train MAE: 5.0081\n"
     ]
    },
    {
     "name": "stderr",
     "output_type": "stream",
     "text": [
      " 70%|██████▉   | 695/1000 [32:04<13:44,  2.70s/it]"
     ]
    },
    {
     "name": "stdout",
     "output_type": "stream",
     "text": [
      "Test MSE: 69.3671, Test MAE: 5.3915, Test R2: 0.0798\n",
      "Epoch 696/1000\n",
      "Train MSE: 62.0166, Train MAE: 4.9865\n"
     ]
    },
    {
     "name": "stderr",
     "output_type": "stream",
     "text": [
      " 70%|██████▉   | 696/1000 [32:07<13:40,  2.70s/it]"
     ]
    },
    {
     "name": "stdout",
     "output_type": "stream",
     "text": [
      "Test MSE: 68.4315, Test MAE: 5.4179, Test R2: 0.1337\n",
      "Epoch 697/1000\n",
      "Train MSE: 61.7640, Train MAE: 4.9306\n"
     ]
    },
    {
     "name": "stderr",
     "output_type": "stream",
     "text": [
      " 70%|██████▉   | 697/1000 [32:09<13:38,  2.70s/it]"
     ]
    },
    {
     "name": "stdout",
     "output_type": "stream",
     "text": [
      "Test MSE: 71.3159, Test MAE: 5.4340, Test R2: 0.0856\n",
      "Epoch 698/1000\n",
      "Train MSE: 62.4732, Train MAE: 4.9389\n"
     ]
    },
    {
     "name": "stderr",
     "output_type": "stream",
     "text": [
      " 70%|██████▉   | 698/1000 [32:12<13:35,  2.70s/it]"
     ]
    },
    {
     "name": "stdout",
     "output_type": "stream",
     "text": [
      "Test MSE: 70.4928, Test MAE: 5.4567, Test R2: 0.0828\n",
      "Epoch 699/1000\n",
      "Train MSE: 62.2247, Train MAE: 4.9380\n"
     ]
    },
    {
     "name": "stderr",
     "output_type": "stream",
     "text": [
      " 70%|██████▉   | 699/1000 [32:15<13:33,  2.70s/it]"
     ]
    },
    {
     "name": "stdout",
     "output_type": "stream",
     "text": [
      "Test MSE: 68.4663, Test MAE: 5.4071, Test R2: -0.0289\n",
      "Epoch 700/1000\n",
      "Train MSE: 62.4004, Train MAE: 4.9654\n"
     ]
    },
    {
     "name": "stderr",
     "output_type": "stream",
     "text": [
      " 70%|███████   | 700/1000 [32:17<13:29,  2.70s/it]"
     ]
    },
    {
     "name": "stdout",
     "output_type": "stream",
     "text": [
      "Test MSE: 70.6429, Test MAE: 5.4473, Test R2: 0.0383\n",
      "Epoch 701/1000\n",
      "Train MSE: 66.0204, Train MAE: 5.0152\n"
     ]
    },
    {
     "name": "stderr",
     "output_type": "stream",
     "text": [
      " 70%|███████   | 701/1000 [32:20<13:31,  2.71s/it]"
     ]
    },
    {
     "name": "stdout",
     "output_type": "stream",
     "text": [
      "Test MSE: 71.2880, Test MAE: 5.4468, Test R2: 0.1367\n",
      "Epoch 702/1000\n",
      "Train MSE: 61.3608, Train MAE: 4.9194\n"
     ]
    },
    {
     "name": "stderr",
     "output_type": "stream",
     "text": [
      " 70%|███████   | 702/1000 [32:23<13:25,  2.70s/it]"
     ]
    },
    {
     "name": "stdout",
     "output_type": "stream",
     "text": [
      "Test MSE: 69.8147, Test MAE: 5.4641, Test R2: -0.0672\n",
      "Epoch 703/1000\n",
      "Train MSE: 63.9958, Train MAE: 5.0061\n"
     ]
    },
    {
     "name": "stderr",
     "output_type": "stream",
     "text": [
      " 70%|███████   | 703/1000 [32:26<13:20,  2.70s/it]"
     ]
    },
    {
     "name": "stdout",
     "output_type": "stream",
     "text": [
      "Test MSE: 69.4869, Test MAE: 5.4202, Test R2: -0.1775\n",
      "Epoch 704/1000\n",
      "Train MSE: 65.4597, Train MAE: 4.9860\n"
     ]
    },
    {
     "name": "stderr",
     "output_type": "stream",
     "text": [
      " 70%|███████   | 704/1000 [32:28<13:17,  2.69s/it]"
     ]
    },
    {
     "name": "stdout",
     "output_type": "stream",
     "text": [
      "Test MSE: 69.9555, Test MAE: 5.4563, Test R2: -0.0676\n",
      "Epoch 705/1000\n",
      "Train MSE: 65.1695, Train MAE: 4.9914\n"
     ]
    },
    {
     "name": "stderr",
     "output_type": "stream",
     "text": [
      " 70%|███████   | 705/1000 [32:31<13:15,  2.69s/it]"
     ]
    },
    {
     "name": "stdout",
     "output_type": "stream",
     "text": [
      "Test MSE: 66.4207, Test MAE: 5.3541, Test R2: -0.3552\n",
      "Epoch 706/1000\n",
      "Train MSE: 63.3263, Train MAE: 4.9727\n"
     ]
    },
    {
     "name": "stderr",
     "output_type": "stream",
     "text": [
      " 71%|███████   | 706/1000 [32:34<13:10,  2.69s/it]"
     ]
    },
    {
     "name": "stdout",
     "output_type": "stream",
     "text": [
      "Test MSE: 68.1563, Test MAE: 5.3947, Test R2: -0.2224\n",
      "Epoch 707/1000\n",
      "Train MSE: 63.6682, Train MAE: 5.0057\n"
     ]
    },
    {
     "name": "stderr",
     "output_type": "stream",
     "text": [
      " 71%|███████   | 707/1000 [32:36<13:08,  2.69s/it]"
     ]
    },
    {
     "name": "stdout",
     "output_type": "stream",
     "text": [
      "Test MSE: 66.2857, Test MAE: 5.3097, Test R2: -0.3921\n",
      "Epoch 708/1000\n",
      "Train MSE: 64.1420, Train MAE: 4.9474\n"
     ]
    },
    {
     "name": "stderr",
     "output_type": "stream",
     "text": [
      " 71%|███████   | 708/1000 [32:39<13:05,  2.69s/it]"
     ]
    },
    {
     "name": "stdout",
     "output_type": "stream",
     "text": [
      "Test MSE: 68.2587, Test MAE: 5.3604, Test R2: -0.4915\n",
      "Epoch 709/1000\n",
      "Train MSE: 63.0890, Train MAE: 4.9576\n"
     ]
    },
    {
     "name": "stderr",
     "output_type": "stream",
     "text": [
      " 71%|███████   | 709/1000 [32:42<13:01,  2.69s/it]"
     ]
    },
    {
     "name": "stdout",
     "output_type": "stream",
     "text": [
      "Test MSE: 69.6810, Test MAE: 5.4135, Test R2: 0.1487\n",
      "Epoch 710/1000\n",
      "Train MSE: 63.2395, Train MAE: 4.9689\n"
     ]
    },
    {
     "name": "stderr",
     "output_type": "stream",
     "text": [
      " 71%|███████   | 710/1000 [32:44<12:58,  2.68s/it]"
     ]
    },
    {
     "name": "stdout",
     "output_type": "stream",
     "text": [
      "Test MSE: 69.4527, Test MAE: 5.4122, Test R2: -0.0739\n",
      "Epoch 711/1000\n",
      "Train MSE: 63.2585, Train MAE: 4.9656\n"
     ]
    },
    {
     "name": "stderr",
     "output_type": "stream",
     "text": [
      " 71%|███████   | 711/1000 [32:47<12:56,  2.69s/it]"
     ]
    },
    {
     "name": "stdout",
     "output_type": "stream",
     "text": [
      "Test MSE: 73.6573, Test MAE: 5.5142, Test R2: 0.1497\n",
      "Epoch 712/1000\n",
      "Train MSE: 63.0512, Train MAE: 4.9714\n"
     ]
    },
    {
     "name": "stderr",
     "output_type": "stream",
     "text": [
      " 71%|███████   | 712/1000 [32:50<12:54,  2.69s/it]"
     ]
    },
    {
     "name": "stdout",
     "output_type": "stream",
     "text": [
      "Test MSE: 71.3295, Test MAE: 5.4511, Test R2: -0.5002\n",
      "Epoch 713/1000\n",
      "Train MSE: 61.1354, Train MAE: 4.9093\n"
     ]
    },
    {
     "name": "stderr",
     "output_type": "stream",
     "text": [
      " 71%|███████▏  | 713/1000 [32:52<12:52,  2.69s/it]"
     ]
    },
    {
     "name": "stdout",
     "output_type": "stream",
     "text": [
      "Test MSE: 68.7491, Test MAE: 5.4115, Test R2: -0.1950\n",
      "Epoch 714/1000\n",
      "Train MSE: 63.5260, Train MAE: 4.9616\n"
     ]
    },
    {
     "name": "stderr",
     "output_type": "stream",
     "text": [
      " 71%|███████▏  | 714/1000 [32:55<12:50,  2.70s/it]"
     ]
    },
    {
     "name": "stdout",
     "output_type": "stream",
     "text": [
      "Test MSE: 68.8738, Test MAE: 5.4348, Test R2: -0.2981\n",
      "Epoch 715/1000\n",
      "Train MSE: 64.1416, Train MAE: 4.9746\n"
     ]
    },
    {
     "name": "stderr",
     "output_type": "stream",
     "text": [
      " 72%|███████▏  | 715/1000 [32:58<12:47,  2.69s/it]"
     ]
    },
    {
     "name": "stdout",
     "output_type": "stream",
     "text": [
      "Test MSE: 67.4881, Test MAE: 5.3991, Test R2: -0.5566\n",
      "Epoch 716/1000\n",
      "Train MSE: 62.0441, Train MAE: 4.9719\n"
     ]
    },
    {
     "name": "stderr",
     "output_type": "stream",
     "text": [
      " 72%|███████▏  | 716/1000 [33:01<12:45,  2.70s/it]"
     ]
    },
    {
     "name": "stdout",
     "output_type": "stream",
     "text": [
      "Test MSE: 76.4801, Test MAE: 5.5998, Test R2: -0.5666\n",
      "Epoch 717/1000\n",
      "Train MSE: 62.2488, Train MAE: 5.0099\n"
     ]
    },
    {
     "name": "stderr",
     "output_type": "stream",
     "text": [
      " 72%|███████▏  | 717/1000 [33:03<12:43,  2.70s/it]"
     ]
    },
    {
     "name": "stdout",
     "output_type": "stream",
     "text": [
      "Test MSE: 70.5340, Test MAE: 5.4148, Test R2: -0.1895\n",
      "Epoch 718/1000\n",
      "Train MSE: 62.0104, Train MAE: 4.9317\n"
     ]
    },
    {
     "name": "stderr",
     "output_type": "stream",
     "text": [
      " 72%|███████▏  | 718/1000 [33:06<12:40,  2.70s/it]"
     ]
    },
    {
     "name": "stdout",
     "output_type": "stream",
     "text": [
      "Test MSE: 73.1262, Test MAE: 5.4668, Test R2: -0.0275\n",
      "Epoch 719/1000\n",
      "Train MSE: 61.8860, Train MAE: 4.9266\n"
     ]
    },
    {
     "name": "stderr",
     "output_type": "stream",
     "text": [
      " 72%|███████▏  | 719/1000 [33:09<12:37,  2.70s/it]"
     ]
    },
    {
     "name": "stdout",
     "output_type": "stream",
     "text": [
      "Test MSE: 73.3751, Test MAE: 5.4976, Test R2: -0.0817\n",
      "Epoch 720/1000\n",
      "Train MSE: 61.8879, Train MAE: 4.9301\n"
     ]
    },
    {
     "name": "stderr",
     "output_type": "stream",
     "text": [
      " 72%|███████▏  | 720/1000 [33:11<12:35,  2.70s/it]"
     ]
    },
    {
     "name": "stdout",
     "output_type": "stream",
     "text": [
      "Test MSE: 67.7868, Test MAE: 5.3156, Test R2: -0.0226\n",
      "Epoch 721/1000\n",
      "Train MSE: 63.3639, Train MAE: 4.9545\n"
     ]
    },
    {
     "name": "stderr",
     "output_type": "stream",
     "text": [
      " 72%|███████▏  | 721/1000 [33:14<12:32,  2.70s/it]"
     ]
    },
    {
     "name": "stdout",
     "output_type": "stream",
     "text": [
      "Test MSE: 67.6163, Test MAE: 5.3658, Test R2: -0.1315\n",
      "Epoch 722/1000\n",
      "Train MSE: 62.4306, Train MAE: 4.9410\n"
     ]
    },
    {
     "name": "stderr",
     "output_type": "stream",
     "text": [
      " 72%|███████▏  | 722/1000 [33:17<12:31,  2.70s/it]"
     ]
    },
    {
     "name": "stdout",
     "output_type": "stream",
     "text": [
      "Test MSE: 68.1524, Test MAE: 5.4072, Test R2: 0.0620\n",
      "Epoch 723/1000\n",
      "Train MSE: 63.4704, Train MAE: 4.9940\n"
     ]
    },
    {
     "name": "stderr",
     "output_type": "stream",
     "text": [
      " 72%|███████▏  | 723/1000 [33:19<12:28,  2.70s/it]"
     ]
    },
    {
     "name": "stdout",
     "output_type": "stream",
     "text": [
      "Test MSE: 72.5333, Test MAE: 5.4014, Test R2: -0.1179\n",
      "Epoch 724/1000\n",
      "Train MSE: 64.6794, Train MAE: 5.0221\n"
     ]
    },
    {
     "name": "stderr",
     "output_type": "stream",
     "text": [
      " 72%|███████▏  | 724/1000 [33:22<12:26,  2.70s/it]"
     ]
    },
    {
     "name": "stdout",
     "output_type": "stream",
     "text": [
      "Test MSE: 68.2145, Test MAE: 5.3824, Test R2: -0.4100\n",
      "Epoch 725/1000\n",
      "Train MSE: 62.3494, Train MAE: 4.9542\n"
     ]
    },
    {
     "name": "stderr",
     "output_type": "stream",
     "text": [
      " 72%|███████▎  | 725/1000 [33:25<12:24,  2.71s/it]"
     ]
    },
    {
     "name": "stdout",
     "output_type": "stream",
     "text": [
      "Test MSE: 68.9203, Test MAE: 5.4379, Test R2: -0.9167\n",
      "Epoch 726/1000\n",
      "Train MSE: 65.0442, Train MAE: 4.9740\n"
     ]
    },
    {
     "name": "stderr",
     "output_type": "stream",
     "text": [
      " 73%|███████▎  | 726/1000 [33:28<12:21,  2.71s/it]"
     ]
    },
    {
     "name": "stdout",
     "output_type": "stream",
     "text": [
      "Test MSE: 68.6969, Test MAE: 5.3807, Test R2: -0.2311\n",
      "Epoch 727/1000\n",
      "Train MSE: 61.5927, Train MAE: 4.9041\n"
     ]
    },
    {
     "name": "stderr",
     "output_type": "stream",
     "text": [
      " 73%|███████▎  | 727/1000 [33:30<12:18,  2.71s/it]"
     ]
    },
    {
     "name": "stdout",
     "output_type": "stream",
     "text": [
      "Test MSE: 75.9629, Test MAE: 5.5457, Test R2: -0.1961\n",
      "Epoch 728/1000\n",
      "Train MSE: 61.8444, Train MAE: 4.9622\n"
     ]
    },
    {
     "name": "stderr",
     "output_type": "stream",
     "text": [
      " 73%|███████▎  | 728/1000 [33:33<12:14,  2.70s/it]"
     ]
    },
    {
     "name": "stdout",
     "output_type": "stream",
     "text": [
      "Test MSE: 68.7430, Test MAE: 5.3660, Test R2: -0.2175\n",
      "Epoch 729/1000\n",
      "Train MSE: 64.4181, Train MAE: 4.9935\n"
     ]
    },
    {
     "name": "stderr",
     "output_type": "stream",
     "text": [
      " 73%|███████▎  | 729/1000 [33:36<12:14,  2.71s/it]"
     ]
    },
    {
     "name": "stdout",
     "output_type": "stream",
     "text": [
      "Test MSE: 69.1288, Test MAE: 5.3675, Test R2: -0.0058\n",
      "Epoch 730/1000\n",
      "Train MSE: 62.2309, Train MAE: 4.9377\n"
     ]
    },
    {
     "name": "stderr",
     "output_type": "stream",
     "text": [
      " 73%|███████▎  | 730/1000 [33:38<12:12,  2.71s/it]"
     ]
    },
    {
     "name": "stdout",
     "output_type": "stream",
     "text": [
      "Test MSE: 71.4039, Test MAE: 5.4494, Test R2: 0.0111\n",
      "Epoch 731/1000\n",
      "Train MSE: 62.1078, Train MAE: 4.9629\n"
     ]
    },
    {
     "name": "stderr",
     "output_type": "stream",
     "text": [
      " 73%|███████▎  | 731/1000 [33:41<12:07,  2.70s/it]"
     ]
    },
    {
     "name": "stdout",
     "output_type": "stream",
     "text": [
      "Test MSE: 67.9963, Test MAE: 5.3102, Test R2: 0.0866\n",
      "Epoch 732/1000\n",
      "Train MSE: 64.3739, Train MAE: 4.9667\n"
     ]
    },
    {
     "name": "stderr",
     "output_type": "stream",
     "text": [
      " 73%|███████▎  | 732/1000 [33:44<12:05,  2.71s/it]"
     ]
    },
    {
     "name": "stdout",
     "output_type": "stream",
     "text": [
      "Test MSE: 70.2164, Test MAE: 5.4368, Test R2: -0.2179\n",
      "Epoch 733/1000\n",
      "Train MSE: 63.6101, Train MAE: 4.9873\n"
     ]
    },
    {
     "name": "stderr",
     "output_type": "stream",
     "text": [
      " 73%|███████▎  | 733/1000 [33:47<12:04,  2.72s/it]"
     ]
    },
    {
     "name": "stdout",
     "output_type": "stream",
     "text": [
      "Test MSE: 67.0865, Test MAE: 5.3424, Test R2: 0.0274\n",
      "Epoch 734/1000\n",
      "Train MSE: 62.3197, Train MAE: 4.9425\n"
     ]
    },
    {
     "name": "stderr",
     "output_type": "stream",
     "text": [
      " 73%|███████▎  | 734/1000 [33:49<12:02,  2.71s/it]"
     ]
    },
    {
     "name": "stdout",
     "output_type": "stream",
     "text": [
      "Test MSE: 65.0104, Test MAE: 5.2816, Test R2: 0.1240\n",
      "Epoch 735/1000\n",
      "Train MSE: 61.1864, Train MAE: 4.9068\n"
     ]
    },
    {
     "name": "stderr",
     "output_type": "stream",
     "text": [
      " 74%|███████▎  | 735/1000 [33:52<12:00,  2.72s/it]"
     ]
    },
    {
     "name": "stdout",
     "output_type": "stream",
     "text": [
      "Test MSE: 67.5713, Test MAE: 5.3482, Test R2: 0.0546\n",
      "Epoch 736/1000\n",
      "Train MSE: 61.8637, Train MAE: 4.8893\n"
     ]
    },
    {
     "name": "stderr",
     "output_type": "stream",
     "text": [
      " 74%|███████▎  | 736/1000 [33:55<11:56,  2.71s/it]"
     ]
    },
    {
     "name": "stdout",
     "output_type": "stream",
     "text": [
      "Test MSE: 69.6412, Test MAE: 5.4478, Test R2: -0.2608\n",
      "Epoch 737/1000\n",
      "Train MSE: 62.9864, Train MAE: 4.9790\n"
     ]
    },
    {
     "name": "stderr",
     "output_type": "stream",
     "text": [
      " 74%|███████▎  | 737/1000 [33:57<11:55,  2.72s/it]"
     ]
    },
    {
     "name": "stdout",
     "output_type": "stream",
     "text": [
      "Test MSE: 73.7054, Test MAE: 5.4618, Test R2: -0.0548\n",
      "Epoch 738/1000\n",
      "Train MSE: 63.2155, Train MAE: 4.9779\n"
     ]
    },
    {
     "name": "stderr",
     "output_type": "stream",
     "text": [
      " 74%|███████▍  | 738/1000 [34:00<11:50,  2.71s/it]"
     ]
    },
    {
     "name": "stdout",
     "output_type": "stream",
     "text": [
      "Test MSE: 70.5404, Test MAE: 5.3689, Test R2: -0.2297\n",
      "Epoch 739/1000\n",
      "Train MSE: 64.3841, Train MAE: 4.9820\n"
     ]
    },
    {
     "name": "stderr",
     "output_type": "stream",
     "text": [
      " 74%|███████▍  | 739/1000 [34:03<11:48,  2.71s/it]"
     ]
    },
    {
     "name": "stdout",
     "output_type": "stream",
     "text": [
      "Test MSE: 73.7543, Test MAE: 5.5262, Test R2: -0.1569\n",
      "Epoch 740/1000\n",
      "Train MSE: 63.5703, Train MAE: 4.9237\n"
     ]
    },
    {
     "name": "stderr",
     "output_type": "stream",
     "text": [
      " 74%|███████▍  | 740/1000 [34:06<11:45,  2.71s/it]"
     ]
    },
    {
     "name": "stdout",
     "output_type": "stream",
     "text": [
      "Test MSE: 67.8915, Test MAE: 5.3186, Test R2: -0.2420\n",
      "Epoch 741/1000\n",
      "Train MSE: 60.1592, Train MAE: 4.8987\n"
     ]
    },
    {
     "name": "stderr",
     "output_type": "stream",
     "text": [
      " 74%|███████▍  | 741/1000 [34:08<11:43,  2.71s/it]"
     ]
    },
    {
     "name": "stdout",
     "output_type": "stream",
     "text": [
      "Test MSE: 69.4848, Test MAE: 5.3886, Test R2: -0.3029\n",
      "Epoch 742/1000\n",
      "Train MSE: 63.8546, Train MAE: 4.9571\n"
     ]
    },
    {
     "name": "stderr",
     "output_type": "stream",
     "text": [
      " 74%|███████▍  | 742/1000 [34:11<11:43,  2.73s/it]"
     ]
    },
    {
     "name": "stdout",
     "output_type": "stream",
     "text": [
      "Test MSE: 65.3968, Test MAE: 5.2727, Test R2: 0.0122\n",
      "Epoch 743/1000\n",
      "Train MSE: 61.0639, Train MAE: 4.9070\n"
     ]
    },
    {
     "name": "stderr",
     "output_type": "stream",
     "text": [
      " 74%|███████▍  | 743/1000 [34:14<11:40,  2.72s/it]"
     ]
    },
    {
     "name": "stdout",
     "output_type": "stream",
     "text": [
      "Test MSE: 69.3569, Test MAE: 5.3429, Test R2: 0.0483\n",
      "Epoch 744/1000\n",
      "Train MSE: 64.9753, Train MAE: 4.9982\n"
     ]
    },
    {
     "name": "stderr",
     "output_type": "stream",
     "text": [
      " 74%|███████▍  | 744/1000 [34:17<11:43,  2.75s/it]"
     ]
    },
    {
     "name": "stdout",
     "output_type": "stream",
     "text": [
      "Test MSE: 71.0181, Test MAE: 5.4038, Test R2: 0.0802\n",
      "Epoch 745/1000\n",
      "Train MSE: 65.7528, Train MAE: 5.0186\n"
     ]
    },
    {
     "name": "stderr",
     "output_type": "stream",
     "text": [
      " 74%|███████▍  | 745/1000 [34:19<11:42,  2.76s/it]"
     ]
    },
    {
     "name": "stdout",
     "output_type": "stream",
     "text": [
      "Test MSE: 68.1228, Test MAE: 5.3345, Test R2: -0.0080\n",
      "Epoch 746/1000\n",
      "Train MSE: 64.3473, Train MAE: 4.9819\n"
     ]
    },
    {
     "name": "stderr",
     "output_type": "stream",
     "text": [
      " 75%|███████▍  | 746/1000 [34:22<11:43,  2.77s/it]"
     ]
    },
    {
     "name": "stdout",
     "output_type": "stream",
     "text": [
      "Test MSE: 69.2129, Test MAE: 5.3574, Test R2: 0.1255\n",
      "Epoch 747/1000\n",
      "Train MSE: 63.0215, Train MAE: 4.9672\n"
     ]
    },
    {
     "name": "stderr",
     "output_type": "stream",
     "text": [
      " 75%|███████▍  | 747/1000 [34:25<11:44,  2.78s/it]"
     ]
    },
    {
     "name": "stdout",
     "output_type": "stream",
     "text": [
      "Test MSE: 70.5682, Test MAE: 5.4021, Test R2: 0.0235\n",
      "Epoch 748/1000\n",
      "Train MSE: 61.9428, Train MAE: 4.9533\n"
     ]
    },
    {
     "name": "stderr",
     "output_type": "stream",
     "text": [
      " 75%|███████▍  | 748/1000 [34:28<11:37,  2.77s/it]"
     ]
    },
    {
     "name": "stdout",
     "output_type": "stream",
     "text": [
      "Test MSE: 67.1083, Test MAE: 5.2973, Test R2: 0.1100\n",
      "Epoch 749/1000\n",
      "Train MSE: 62.8500, Train MAE: 4.9226\n"
     ]
    },
    {
     "name": "stderr",
     "output_type": "stream",
     "text": [
      " 75%|███████▍  | 749/1000 [34:30<11:28,  2.74s/it]"
     ]
    },
    {
     "name": "stdout",
     "output_type": "stream",
     "text": [
      "Test MSE: 66.1494, Test MAE: 5.3349, Test R2: 0.0514\n",
      "Epoch 750/1000\n",
      "Train MSE: 63.0565, Train MAE: 4.9612\n"
     ]
    },
    {
     "name": "stderr",
     "output_type": "stream",
     "text": [
      " 75%|███████▌  | 750/1000 [34:33<11:21,  2.73s/it]"
     ]
    },
    {
     "name": "stdout",
     "output_type": "stream",
     "text": [
      "Test MSE: 67.3794, Test MAE: 5.3574, Test R2: 0.0254\n",
      "Epoch 751/1000\n",
      "Train MSE: 63.1571, Train MAE: 4.9188\n"
     ]
    },
    {
     "name": "stderr",
     "output_type": "stream",
     "text": [
      " 75%|███████▌  | 751/1000 [34:36<11:16,  2.72s/it]"
     ]
    },
    {
     "name": "stdout",
     "output_type": "stream",
     "text": [
      "Test MSE: 67.2306, Test MAE: 5.3784, Test R2: 0.2085\n",
      "Epoch 752/1000\n",
      "Train MSE: 62.0324, Train MAE: 4.9081\n"
     ]
    },
    {
     "name": "stderr",
     "output_type": "stream",
     "text": [
      " 75%|███████▌  | 752/1000 [34:38<11:12,  2.71s/it]"
     ]
    },
    {
     "name": "stdout",
     "output_type": "stream",
     "text": [
      "Test MSE: 69.4674, Test MAE: 5.4026, Test R2: -0.1581\n",
      "Epoch 753/1000\n",
      "Train MSE: 64.1908, Train MAE: 4.9770\n"
     ]
    },
    {
     "name": "stderr",
     "output_type": "stream",
     "text": [
      " 75%|███████▌  | 753/1000 [34:41<11:08,  2.70s/it]"
     ]
    },
    {
     "name": "stdout",
     "output_type": "stream",
     "text": [
      "Test MSE: 69.6896, Test MAE: 5.3709, Test R2: -0.1264\n",
      "Epoch 754/1000\n",
      "Train MSE: 61.8506, Train MAE: 4.9453\n"
     ]
    },
    {
     "name": "stderr",
     "output_type": "stream",
     "text": [
      " 75%|███████▌  | 754/1000 [34:44<11:04,  2.70s/it]"
     ]
    },
    {
     "name": "stdout",
     "output_type": "stream",
     "text": [
      "Test MSE: 72.1335, Test MAE: 5.4604, Test R2: -0.0025\n",
      "Epoch 755/1000\n",
      "Train MSE: 60.9963, Train MAE: 4.8940\n"
     ]
    },
    {
     "name": "stderr",
     "output_type": "stream",
     "text": [
      " 76%|███████▌  | 755/1000 [34:47<11:01,  2.70s/it]"
     ]
    },
    {
     "name": "stdout",
     "output_type": "stream",
     "text": [
      "Test MSE: 69.2422, Test MAE: 5.4023, Test R2: 0.1773\n",
      "Epoch 756/1000\n",
      "Train MSE: 63.3063, Train MAE: 4.9304\n"
     ]
    },
    {
     "name": "stderr",
     "output_type": "stream",
     "text": [
      " 76%|███████▌  | 756/1000 [34:49<10:57,  2.69s/it]"
     ]
    },
    {
     "name": "stdout",
     "output_type": "stream",
     "text": [
      "Test MSE: 67.6081, Test MAE: 5.3518, Test R2: 0.0673\n",
      "Epoch 757/1000\n",
      "Train MSE: 62.3005, Train MAE: 4.9309\n"
     ]
    },
    {
     "name": "stderr",
     "output_type": "stream",
     "text": [
      " 76%|███████▌  | 757/1000 [34:52<10:53,  2.69s/it]"
     ]
    },
    {
     "name": "stdout",
     "output_type": "stream",
     "text": [
      "Test MSE: 65.7770, Test MAE: 5.3379, Test R2: 0.0366\n",
      "Epoch 758/1000\n",
      "Train MSE: 61.8517, Train MAE: 4.9297\n"
     ]
    },
    {
     "name": "stderr",
     "output_type": "stream",
     "text": [
      " 76%|███████▌  | 758/1000 [34:55<10:56,  2.71s/it]"
     ]
    },
    {
     "name": "stdout",
     "output_type": "stream",
     "text": [
      "Test MSE: 65.6002, Test MAE: 5.2842, Test R2: 0.0037\n",
      "Epoch 759/1000\n",
      "Train MSE: 65.3811, Train MAE: 4.9840\n"
     ]
    },
    {
     "name": "stderr",
     "output_type": "stream",
     "text": [
      " 76%|███████▌  | 759/1000 [34:57<10:58,  2.73s/it]"
     ]
    },
    {
     "name": "stdout",
     "output_type": "stream",
     "text": [
      "Test MSE: 71.1691, Test MAE: 5.4568, Test R2: -0.1831\n",
      "Epoch 760/1000\n",
      "Train MSE: 61.2145, Train MAE: 4.9200\n"
     ]
    },
    {
     "name": "stderr",
     "output_type": "stream",
     "text": [
      " 76%|███████▌  | 760/1000 [35:00<10:59,  2.75s/it]"
     ]
    },
    {
     "name": "stdout",
     "output_type": "stream",
     "text": [
      "Test MSE: 75.1321, Test MAE: 5.5167, Test R2: -0.1103\n",
      "Epoch 761/1000\n",
      "Train MSE: 62.0693, Train MAE: 4.9186\n"
     ]
    },
    {
     "name": "stderr",
     "output_type": "stream",
     "text": [
      " 76%|███████▌  | 761/1000 [35:03<11:00,  2.76s/it]"
     ]
    },
    {
     "name": "stdout",
     "output_type": "stream",
     "text": [
      "Test MSE: 67.1068, Test MAE: 5.3059, Test R2: -0.2372\n",
      "Epoch 762/1000\n",
      "Train MSE: 62.8777, Train MAE: 4.9309\n"
     ]
    },
    {
     "name": "stderr",
     "output_type": "stream",
     "text": [
      " 76%|███████▌  | 762/1000 [35:06<11:03,  2.79s/it]"
     ]
    },
    {
     "name": "stdout",
     "output_type": "stream",
     "text": [
      "Test MSE: 79.6340, Test MAE: 5.5911, Test R2: -0.0980\n",
      "Epoch 763/1000\n",
      "Train MSE: 63.6082, Train MAE: 4.9665\n"
     ]
    },
    {
     "name": "stderr",
     "output_type": "stream",
     "text": [
      " 76%|███████▋  | 763/1000 [35:09<10:59,  2.78s/it]"
     ]
    },
    {
     "name": "stdout",
     "output_type": "stream",
     "text": [
      "Test MSE: 69.3866, Test MAE: 5.3845, Test R2: -0.0449\n",
      "Epoch 764/1000\n",
      "Train MSE: 61.8273, Train MAE: 4.9433\n"
     ]
    },
    {
     "name": "stderr",
     "output_type": "stream",
     "text": [
      " 76%|███████▋  | 764/1000 [35:11<10:59,  2.79s/it]"
     ]
    },
    {
     "name": "stdout",
     "output_type": "stream",
     "text": [
      "Test MSE: 68.0765, Test MAE: 5.3609, Test R2: -0.1062\n",
      "Epoch 765/1000\n",
      "Train MSE: 62.2769, Train MAE: 4.9744\n"
     ]
    },
    {
     "name": "stderr",
     "output_type": "stream",
     "text": [
      " 76%|███████▋  | 765/1000 [35:14<10:58,  2.80s/it]"
     ]
    },
    {
     "name": "stdout",
     "output_type": "stream",
     "text": [
      "Test MSE: 68.0295, Test MAE: 5.3540, Test R2: -0.0313\n",
      "Epoch 766/1000\n",
      "Train MSE: 61.1446, Train MAE: 4.8913\n"
     ]
    },
    {
     "name": "stderr",
     "output_type": "stream",
     "text": [
      " 77%|███████▋  | 766/1000 [35:17<10:57,  2.81s/it]"
     ]
    },
    {
     "name": "stdout",
     "output_type": "stream",
     "text": [
      "Test MSE: 70.0626, Test MAE: 5.4010, Test R2: -0.1039\n",
      "Epoch 767/1000\n",
      "Train MSE: 61.3372, Train MAE: 4.9512\n"
     ]
    },
    {
     "name": "stderr",
     "output_type": "stream",
     "text": [
      " 77%|███████▋  | 767/1000 [35:20<10:51,  2.80s/it]"
     ]
    },
    {
     "name": "stdout",
     "output_type": "stream",
     "text": [
      "Test MSE: 66.8427, Test MAE: 5.3389, Test R2: -0.0113\n",
      "Epoch 768/1000\n",
      "Train MSE: 62.4225, Train MAE: 4.9705\n"
     ]
    },
    {
     "name": "stderr",
     "output_type": "stream",
     "text": [
      " 77%|███████▋  | 768/1000 [35:23<10:45,  2.78s/it]"
     ]
    },
    {
     "name": "stdout",
     "output_type": "stream",
     "text": [
      "Test MSE: 70.3851, Test MAE: 5.4316, Test R2: -0.1717\n",
      "Epoch 769/1000\n",
      "Train MSE: 62.6461, Train MAE: 4.9349\n"
     ]
    },
    {
     "name": "stderr",
     "output_type": "stream",
     "text": [
      " 77%|███████▋  | 769/1000 [35:25<10:34,  2.75s/it]"
     ]
    },
    {
     "name": "stdout",
     "output_type": "stream",
     "text": [
      "Test MSE: 69.3378, Test MAE: 5.4254, Test R2: -0.0320\n",
      "Epoch 770/1000\n",
      "Train MSE: 61.1247, Train MAE: 4.9180\n"
     ]
    },
    {
     "name": "stderr",
     "output_type": "stream",
     "text": [
      " 77%|███████▋  | 770/1000 [35:28<10:27,  2.73s/it]"
     ]
    },
    {
     "name": "stdout",
     "output_type": "stream",
     "text": [
      "Test MSE: 65.0220, Test MAE: 5.3318, Test R2: -0.2743\n",
      "Epoch 771/1000\n",
      "Train MSE: 60.3645, Train MAE: 4.8874\n"
     ]
    },
    {
     "name": "stderr",
     "output_type": "stream",
     "text": [
      " 77%|███████▋  | 771/1000 [35:31<10:26,  2.73s/it]"
     ]
    },
    {
     "name": "stdout",
     "output_type": "stream",
     "text": [
      "Test MSE: 69.7692, Test MAE: 5.3995, Test R2: -0.3619\n",
      "Epoch 772/1000\n",
      "Train MSE: 63.6349, Train MAE: 4.9411\n"
     ]
    },
    {
     "name": "stderr",
     "output_type": "stream",
     "text": [
      " 77%|███████▋  | 772/1000 [35:33<10:26,  2.75s/it]"
     ]
    },
    {
     "name": "stdout",
     "output_type": "stream",
     "text": [
      "Test MSE: 68.5262, Test MAE: 5.4046, Test R2: -0.6134\n",
      "Epoch 773/1000\n",
      "Train MSE: 61.7096, Train MAE: 4.9251\n"
     ]
    },
    {
     "name": "stderr",
     "output_type": "stream",
     "text": [
      " 77%|███████▋  | 773/1000 [35:36<10:22,  2.74s/it]"
     ]
    },
    {
     "name": "stdout",
     "output_type": "stream",
     "text": [
      "Test MSE: 71.0855, Test MAE: 5.3678, Test R2: 0.0180\n",
      "Epoch 774/1000\n",
      "Train MSE: 60.5451, Train MAE: 4.8887\n"
     ]
    },
    {
     "name": "stderr",
     "output_type": "stream",
     "text": [
      " 77%|███████▋  | 774/1000 [35:39<10:16,  2.73s/it]"
     ]
    },
    {
     "name": "stdout",
     "output_type": "stream",
     "text": [
      "Test MSE: 67.6185, Test MAE: 5.3429, Test R2: -0.0487\n",
      "Epoch 775/1000\n",
      "Train MSE: 61.9852, Train MAE: 4.9138\n"
     ]
    },
    {
     "name": "stderr",
     "output_type": "stream",
     "text": [
      " 78%|███████▊  | 775/1000 [35:42<10:15,  2.74s/it]"
     ]
    },
    {
     "name": "stdout",
     "output_type": "stream",
     "text": [
      "Test MSE: 67.6400, Test MAE: 5.3179, Test R2: 0.0569\n",
      "Epoch 776/1000\n",
      "Train MSE: 62.3706, Train MAE: 4.9665\n"
     ]
    },
    {
     "name": "stderr",
     "output_type": "stream",
     "text": [
      " 78%|███████▊  | 776/1000 [35:45<10:19,  2.77s/it]"
     ]
    },
    {
     "name": "stdout",
     "output_type": "stream",
     "text": [
      "Test MSE: 68.9174, Test MAE: 5.4053, Test R2: -0.1082\n",
      "Epoch 777/1000\n",
      "Train MSE: 62.9479, Train MAE: 4.9680\n"
     ]
    },
    {
     "name": "stderr",
     "output_type": "stream",
     "text": [
      " 78%|███████▊  | 777/1000 [35:47<10:20,  2.78s/it]"
     ]
    },
    {
     "name": "stdout",
     "output_type": "stream",
     "text": [
      "Test MSE: 69.9049, Test MAE: 5.3719, Test R2: -0.1687\n",
      "Epoch 778/1000\n",
      "Train MSE: 62.4626, Train MAE: 4.9441\n"
     ]
    },
    {
     "name": "stderr",
     "output_type": "stream",
     "text": [
      " 78%|███████▊  | 778/1000 [35:50<10:17,  2.78s/it]"
     ]
    },
    {
     "name": "stdout",
     "output_type": "stream",
     "text": [
      "Test MSE: 68.7620, Test MAE: 5.3764, Test R2: -0.0801\n",
      "Epoch 779/1000\n",
      "Train MSE: 62.6050, Train MAE: 4.9761\n"
     ]
    },
    {
     "name": "stderr",
     "output_type": "stream",
     "text": [
      " 78%|███████▊  | 779/1000 [35:53<10:07,  2.75s/it]"
     ]
    },
    {
     "name": "stdout",
     "output_type": "stream",
     "text": [
      "Test MSE: 68.6630, Test MAE: 5.4041, Test R2: -0.1960\n",
      "Epoch 780/1000\n",
      "Train MSE: 61.9788, Train MAE: 4.9517\n"
     ]
    },
    {
     "name": "stderr",
     "output_type": "stream",
     "text": [
      " 78%|███████▊  | 780/1000 [35:55<10:01,  2.74s/it]"
     ]
    },
    {
     "name": "stdout",
     "output_type": "stream",
     "text": [
      "Test MSE: 65.9778, Test MAE: 5.3065, Test R2: -0.0923\n",
      "Epoch 781/1000\n",
      "Train MSE: 63.1578, Train MAE: 4.9841\n"
     ]
    },
    {
     "name": "stderr",
     "output_type": "stream",
     "text": [
      " 78%|███████▊  | 781/1000 [35:58<09:55,  2.72s/it]"
     ]
    },
    {
     "name": "stdout",
     "output_type": "stream",
     "text": [
      "Test MSE: 69.7475, Test MAE: 5.4089, Test R2: 0.0861\n",
      "Epoch 782/1000\n",
      "Train MSE: 61.4388, Train MAE: 4.9151\n"
     ]
    },
    {
     "name": "stderr",
     "output_type": "stream",
     "text": [
      " 78%|███████▊  | 782/1000 [36:01<09:57,  2.74s/it]"
     ]
    },
    {
     "name": "stdout",
     "output_type": "stream",
     "text": [
      "Test MSE: 70.3540, Test MAE: 5.4259, Test R2: 0.0126\n",
      "Epoch 783/1000\n",
      "Train MSE: 61.9176, Train MAE: 4.8857\n"
     ]
    },
    {
     "name": "stderr",
     "output_type": "stream",
     "text": [
      " 78%|███████▊  | 783/1000 [36:04<09:54,  2.74s/it]"
     ]
    },
    {
     "name": "stdout",
     "output_type": "stream",
     "text": [
      "Test MSE: 71.3642, Test MAE: 5.4333, Test R2: 0.1037\n",
      "Epoch 784/1000\n",
      "Train MSE: 62.2827, Train MAE: 4.9326\n"
     ]
    },
    {
     "name": "stderr",
     "output_type": "stream",
     "text": [
      " 78%|███████▊  | 784/1000 [36:06<09:48,  2.72s/it]"
     ]
    },
    {
     "name": "stdout",
     "output_type": "stream",
     "text": [
      "Test MSE: 68.8140, Test MAE: 5.3713, Test R2: -0.0959\n",
      "Epoch 785/1000\n",
      "Train MSE: 60.4239, Train MAE: 4.8639\n"
     ]
    },
    {
     "name": "stderr",
     "output_type": "stream",
     "text": [
      " 78%|███████▊  | 785/1000 [36:09<09:43,  2.71s/it]"
     ]
    },
    {
     "name": "stdout",
     "output_type": "stream",
     "text": [
      "Test MSE: 70.4915, Test MAE: 5.3620, Test R2: 0.0400\n",
      "Epoch 786/1000\n",
      "Train MSE: 62.6604, Train MAE: 4.9365\n"
     ]
    },
    {
     "name": "stderr",
     "output_type": "stream",
     "text": [
      " 79%|███████▊  | 786/1000 [36:12<09:38,  2.70s/it]"
     ]
    },
    {
     "name": "stdout",
     "output_type": "stream",
     "text": [
      "Test MSE: 67.1123, Test MAE: 5.3514, Test R2: -0.0412\n",
      "Epoch 787/1000\n",
      "Train MSE: 62.3520, Train MAE: 4.9040\n"
     ]
    },
    {
     "name": "stderr",
     "output_type": "stream",
     "text": [
      " 79%|███████▊  | 787/1000 [36:14<09:34,  2.70s/it]"
     ]
    },
    {
     "name": "stdout",
     "output_type": "stream",
     "text": [
      "Test MSE: 70.2096, Test MAE: 5.4035, Test R2: 0.1979\n",
      "Epoch 788/1000\n",
      "Train MSE: 62.3045, Train MAE: 4.9658\n"
     ]
    },
    {
     "name": "stderr",
     "output_type": "stream",
     "text": [
      " 79%|███████▉  | 788/1000 [36:17<09:30,  2.69s/it]"
     ]
    },
    {
     "name": "stdout",
     "output_type": "stream",
     "text": [
      "Test MSE: 69.1749, Test MAE: 5.3559, Test R2: 0.1752\n",
      "Epoch 789/1000\n",
      "Train MSE: 61.0039, Train MAE: 4.9559\n"
     ]
    },
    {
     "name": "stderr",
     "output_type": "stream",
     "text": [
      " 79%|███████▉  | 789/1000 [36:20<09:25,  2.68s/it]"
     ]
    },
    {
     "name": "stdout",
     "output_type": "stream",
     "text": [
      "Test MSE: 71.9526, Test MAE: 5.3947, Test R2: 0.0372\n",
      "Epoch 790/1000\n",
      "Train MSE: 61.8768, Train MAE: 4.8879\n"
     ]
    },
    {
     "name": "stderr",
     "output_type": "stream",
     "text": [
      " 79%|███████▉  | 790/1000 [36:22<09:21,  2.68s/it]"
     ]
    },
    {
     "name": "stdout",
     "output_type": "stream",
     "text": [
      "Test MSE: 68.2468, Test MAE: 5.3283, Test R2: 0.0449\n",
      "Epoch 791/1000\n",
      "Train MSE: 58.4564, Train MAE: 4.8358\n"
     ]
    },
    {
     "name": "stderr",
     "output_type": "stream",
     "text": [
      " 79%|███████▉  | 791/1000 [36:25<09:19,  2.68s/it]"
     ]
    },
    {
     "name": "stdout",
     "output_type": "stream",
     "text": [
      "Test MSE: 68.1140, Test MAE: 5.3820, Test R2: 0.1196\n",
      "Epoch 792/1000\n",
      "Train MSE: 62.7205, Train MAE: 4.9245\n"
     ]
    },
    {
     "name": "stderr",
     "output_type": "stream",
     "text": [
      " 79%|███████▉  | 792/1000 [36:28<09:17,  2.68s/it]"
     ]
    },
    {
     "name": "stdout",
     "output_type": "stream",
     "text": [
      "Test MSE: 67.0357, Test MAE: 5.2920, Test R2: 0.0958\n",
      "Epoch 793/1000\n",
      "Train MSE: 61.9690, Train MAE: 4.9194\n"
     ]
    },
    {
     "name": "stderr",
     "output_type": "stream",
     "text": [
      " 79%|███████▉  | 793/1000 [36:30<09:15,  2.68s/it]"
     ]
    },
    {
     "name": "stdout",
     "output_type": "stream",
     "text": [
      "Test MSE: 71.7252, Test MAE: 5.4449, Test R2: -0.4991\n",
      "Epoch 794/1000\n",
      "Train MSE: 61.7274, Train MAE: 4.9026\n"
     ]
    },
    {
     "name": "stderr",
     "output_type": "stream",
     "text": [
      " 79%|███████▉  | 794/1000 [36:33<09:12,  2.68s/it]"
     ]
    },
    {
     "name": "stdout",
     "output_type": "stream",
     "text": [
      "Test MSE: 67.4820, Test MAE: 5.3460, Test R2: -0.0212\n",
      "Epoch 795/1000\n",
      "Train MSE: 60.8180, Train MAE: 4.8892\n"
     ]
    },
    {
     "name": "stderr",
     "output_type": "stream",
     "text": [
      " 80%|███████▉  | 795/1000 [36:36<09:08,  2.68s/it]"
     ]
    },
    {
     "name": "stdout",
     "output_type": "stream",
     "text": [
      "Test MSE: 71.1835, Test MAE: 5.4615, Test R2: 0.0497\n",
      "Epoch 796/1000\n",
      "Train MSE: 63.4746, Train MAE: 5.0122\n"
     ]
    },
    {
     "name": "stderr",
     "output_type": "stream",
     "text": [
      " 80%|███████▉  | 796/1000 [36:39<09:06,  2.68s/it]"
     ]
    },
    {
     "name": "stdout",
     "output_type": "stream",
     "text": [
      "Test MSE: 67.6795, Test MAE: 5.3237, Test R2: 0.1613\n",
      "Epoch 797/1000\n",
      "Train MSE: 60.3112, Train MAE: 4.8598\n"
     ]
    },
    {
     "name": "stderr",
     "output_type": "stream",
     "text": [
      " 80%|███████▉  | 797/1000 [36:41<09:03,  2.68s/it]"
     ]
    },
    {
     "name": "stdout",
     "output_type": "stream",
     "text": [
      "Test MSE: 67.4120, Test MAE: 5.3110, Test R2: 0.0162\n",
      "Epoch 798/1000\n",
      "Train MSE: 60.0689, Train MAE: 4.8585\n"
     ]
    },
    {
     "name": "stderr",
     "output_type": "stream",
     "text": [
      " 80%|███████▉  | 798/1000 [36:44<08:59,  2.67s/it]"
     ]
    },
    {
     "name": "stdout",
     "output_type": "stream",
     "text": [
      "Test MSE: 72.5681, Test MAE: 5.4513, Test R2: -0.1259\n",
      "Epoch 799/1000\n",
      "Train MSE: 61.8154, Train MAE: 4.9094\n"
     ]
    },
    {
     "name": "stderr",
     "output_type": "stream",
     "text": [
      " 80%|███████▉  | 799/1000 [36:47<08:57,  2.67s/it]"
     ]
    },
    {
     "name": "stdout",
     "output_type": "stream",
     "text": [
      "Test MSE: 70.9392, Test MAE: 5.4906, Test R2: 0.1423\n",
      "Epoch 800/1000\n",
      "Train MSE: 63.4039, Train MAE: 4.9358\n"
     ]
    },
    {
     "name": "stderr",
     "output_type": "stream",
     "text": [
      " 80%|████████  | 800/1000 [36:49<08:56,  2.68s/it]"
     ]
    },
    {
     "name": "stdout",
     "output_type": "stream",
     "text": [
      "Test MSE: 72.7169, Test MAE: 5.4520, Test R2: -0.1067\n",
      "Epoch 801/1000\n",
      "Train MSE: 62.4551, Train MAE: 4.8796\n"
     ]
    },
    {
     "name": "stderr",
     "output_type": "stream",
     "text": [
      " 80%|████████  | 801/1000 [36:52<08:53,  2.68s/it]"
     ]
    },
    {
     "name": "stdout",
     "output_type": "stream",
     "text": [
      "Test MSE: 67.7572, Test MAE: 5.3330, Test R2: 0.0446\n",
      "Epoch 802/1000\n",
      "Train MSE: 61.9381, Train MAE: 4.9303\n"
     ]
    },
    {
     "name": "stderr",
     "output_type": "stream",
     "text": [
      " 80%|████████  | 802/1000 [36:55<08:51,  2.68s/it]"
     ]
    },
    {
     "name": "stdout",
     "output_type": "stream",
     "text": [
      "Test MSE: 66.2818, Test MAE: 5.3263, Test R2: 0.1718\n",
      "Epoch 803/1000\n",
      "Train MSE: 61.3043, Train MAE: 4.8941\n"
     ]
    },
    {
     "name": "stderr",
     "output_type": "stream",
     "text": [
      " 80%|████████  | 803/1000 [36:57<08:50,  2.69s/it]"
     ]
    },
    {
     "name": "stdout",
     "output_type": "stream",
     "text": [
      "Test MSE: 70.0257, Test MAE: 5.3898, Test R2: 0.0664\n",
      "Epoch 804/1000\n",
      "Train MSE: 60.9156, Train MAE: 4.8910\n"
     ]
    },
    {
     "name": "stderr",
     "output_type": "stream",
     "text": [
      " 80%|████████  | 804/1000 [37:00<08:46,  2.69s/it]"
     ]
    },
    {
     "name": "stdout",
     "output_type": "stream",
     "text": [
      "Test MSE: 71.0015, Test MAE: 5.3815, Test R2: 0.0119\n",
      "Epoch 805/1000\n",
      "Train MSE: 62.9237, Train MAE: 4.9653\n"
     ]
    },
    {
     "name": "stderr",
     "output_type": "stream",
     "text": [
      " 80%|████████  | 805/1000 [37:03<08:44,  2.69s/it]"
     ]
    },
    {
     "name": "stdout",
     "output_type": "stream",
     "text": [
      "Test MSE: 69.5035, Test MAE: 5.4072, Test R2: 0.1660\n",
      "Epoch 806/1000\n",
      "Train MSE: 62.3508, Train MAE: 4.9315\n"
     ]
    },
    {
     "name": "stderr",
     "output_type": "stream",
     "text": [
      " 81%|████████  | 806/1000 [37:05<08:42,  2.70s/it]"
     ]
    },
    {
     "name": "stdout",
     "output_type": "stream",
     "text": [
      "Test MSE: 67.7532, Test MAE: 5.3288, Test R2: -0.1283\n",
      "Epoch 807/1000\n",
      "Train MSE: 60.2662, Train MAE: 4.8736\n"
     ]
    },
    {
     "name": "stderr",
     "output_type": "stream",
     "text": [
      " 81%|████████  | 807/1000 [37:08<08:41,  2.70s/it]"
     ]
    },
    {
     "name": "stdout",
     "output_type": "stream",
     "text": [
      "Test MSE: 68.6521, Test MAE: 5.3384, Test R2: 0.0290\n",
      "Epoch 808/1000\n",
      "Train MSE: 63.2190, Train MAE: 4.9286\n"
     ]
    },
    {
     "name": "stderr",
     "output_type": "stream",
     "text": [
      " 81%|████████  | 808/1000 [37:11<08:39,  2.70s/it]"
     ]
    },
    {
     "name": "stdout",
     "output_type": "stream",
     "text": [
      "Test MSE: 66.7395, Test MAE: 5.3331, Test R2: 0.0913\n",
      "Epoch 809/1000\n",
      "Train MSE: 61.3720, Train MAE: 4.9124\n"
     ]
    },
    {
     "name": "stderr",
     "output_type": "stream",
     "text": [
      " 81%|████████  | 809/1000 [37:14<08:36,  2.70s/it]"
     ]
    },
    {
     "name": "stdout",
     "output_type": "stream",
     "text": [
      "Test MSE: 67.9134, Test MAE: 5.3234, Test R2: 0.0610\n",
      "Epoch 810/1000\n",
      "Train MSE: 61.3877, Train MAE: 4.9067\n"
     ]
    },
    {
     "name": "stderr",
     "output_type": "stream",
     "text": [
      " 81%|████████  | 810/1000 [37:16<08:33,  2.71s/it]"
     ]
    },
    {
     "name": "stdout",
     "output_type": "stream",
     "text": [
      "Test MSE: 68.3563, Test MAE: 5.4056, Test R2: 0.1349\n",
      "Epoch 811/1000\n",
      "Train MSE: 58.4565, Train MAE: 4.8210\n"
     ]
    },
    {
     "name": "stderr",
     "output_type": "stream",
     "text": [
      " 81%|████████  | 811/1000 [37:19<08:31,  2.70s/it]"
     ]
    },
    {
     "name": "stdout",
     "output_type": "stream",
     "text": [
      "Test MSE: 69.6241, Test MAE: 5.3697, Test R2: 0.0155\n",
      "Epoch 812/1000\n",
      "Train MSE: 62.8884, Train MAE: 4.9500\n"
     ]
    },
    {
     "name": "stderr",
     "output_type": "stream",
     "text": [
      " 81%|████████  | 812/1000 [37:22<08:27,  2.70s/it]"
     ]
    },
    {
     "name": "stdout",
     "output_type": "stream",
     "text": [
      "Test MSE: 66.5109, Test MAE: 5.2919, Test R2: -0.1297\n",
      "Epoch 813/1000\n",
      "Train MSE: 62.2935, Train MAE: 4.8999\n"
     ]
    },
    {
     "name": "stderr",
     "output_type": "stream",
     "text": [
      " 81%|████████▏ | 813/1000 [37:24<08:25,  2.70s/it]"
     ]
    },
    {
     "name": "stdout",
     "output_type": "stream",
     "text": [
      "Test MSE: 66.3691, Test MAE: 5.3527, Test R2: 0.0101\n",
      "Epoch 814/1000\n",
      "Train MSE: 65.4736, Train MAE: 5.0358\n"
     ]
    },
    {
     "name": "stderr",
     "output_type": "stream",
     "text": [
      " 81%|████████▏ | 814/1000 [37:27<08:23,  2.71s/it]"
     ]
    },
    {
     "name": "stdout",
     "output_type": "stream",
     "text": [
      "Test MSE: 68.8800, Test MAE: 5.3963, Test R2: 0.0272\n",
      "Epoch 815/1000\n",
      "Train MSE: 63.6754, Train MAE: 4.9824\n"
     ]
    },
    {
     "name": "stderr",
     "output_type": "stream",
     "text": [
      " 82%|████████▏ | 815/1000 [37:30<08:19,  2.70s/it]"
     ]
    },
    {
     "name": "stdout",
     "output_type": "stream",
     "text": [
      "Test MSE: 70.1783, Test MAE: 5.4214, Test R2: -0.0618\n",
      "Epoch 816/1000\n",
      "Train MSE: 62.8130, Train MAE: 4.8968\n"
     ]
    },
    {
     "name": "stderr",
     "output_type": "stream",
     "text": [
      " 82%|████████▏ | 816/1000 [37:32<08:17,  2.71s/it]"
     ]
    },
    {
     "name": "stdout",
     "output_type": "stream",
     "text": [
      "Test MSE: 70.3209, Test MAE: 5.3815, Test R2: -0.1753\n",
      "Epoch 817/1000\n",
      "Train MSE: 61.1083, Train MAE: 4.8540\n"
     ]
    },
    {
     "name": "stderr",
     "output_type": "stream",
     "text": [
      " 82%|████████▏ | 817/1000 [37:35<08:19,  2.73s/it]"
     ]
    },
    {
     "name": "stdout",
     "output_type": "stream",
     "text": [
      "Test MSE: 66.7342, Test MAE: 5.3146, Test R2: -0.0850\n",
      "Epoch 818/1000\n",
      "Train MSE: 61.8063, Train MAE: 4.9370\n"
     ]
    },
    {
     "name": "stderr",
     "output_type": "stream",
     "text": [
      " 82%|████████▏ | 818/1000 [37:38<08:22,  2.76s/it]"
     ]
    },
    {
     "name": "stdout",
     "output_type": "stream",
     "text": [
      "Test MSE: 67.2325, Test MAE: 5.3211, Test R2: 0.1147\n",
      "Epoch 819/1000\n",
      "Train MSE: 60.6583, Train MAE: 4.8812\n"
     ]
    },
    {
     "name": "stderr",
     "output_type": "stream",
     "text": [
      " 82%|████████▏ | 819/1000 [37:41<08:17,  2.75s/it]"
     ]
    },
    {
     "name": "stdout",
     "output_type": "stream",
     "text": [
      "Test MSE: 66.4981, Test MAE: 5.2805, Test R2: 0.1173\n",
      "Epoch 820/1000\n",
      "Train MSE: 60.9782, Train MAE: 4.9175\n"
     ]
    },
    {
     "name": "stderr",
     "output_type": "stream",
     "text": [
      " 82%|████████▏ | 820/1000 [37:43<08:11,  2.73s/it]"
     ]
    },
    {
     "name": "stdout",
     "output_type": "stream",
     "text": [
      "Test MSE: 71.3584, Test MAE: 5.4612, Test R2: -0.0332\n",
      "Epoch 821/1000\n",
      "Train MSE: 61.8886, Train MAE: 4.9342\n"
     ]
    },
    {
     "name": "stderr",
     "output_type": "stream",
     "text": [
      " 82%|████████▏ | 821/1000 [37:46<08:08,  2.73s/it]"
     ]
    },
    {
     "name": "stdout",
     "output_type": "stream",
     "text": [
      "Test MSE: 65.9110, Test MAE: 5.3022, Test R2: 0.0707\n",
      "Epoch 822/1000\n",
      "Train MSE: 61.5556, Train MAE: 4.8404\n"
     ]
    },
    {
     "name": "stderr",
     "output_type": "stream",
     "text": [
      " 82%|████████▏ | 822/1000 [37:49<08:05,  2.73s/it]"
     ]
    },
    {
     "name": "stdout",
     "output_type": "stream",
     "text": [
      "Test MSE: 72.1144, Test MAE: 5.4591, Test R2: 0.1657\n",
      "Epoch 823/1000\n",
      "Train MSE: 59.4478, Train MAE: 4.8449\n"
     ]
    },
    {
     "name": "stderr",
     "output_type": "stream",
     "text": [
      " 82%|████████▏ | 823/1000 [37:52<08:05,  2.75s/it]"
     ]
    },
    {
     "name": "stdout",
     "output_type": "stream",
     "text": [
      "Test MSE: 70.2444, Test MAE: 5.3989, Test R2: -0.2847\n",
      "Epoch 824/1000\n",
      "Train MSE: 61.1918, Train MAE: 4.9152\n"
     ]
    },
    {
     "name": "stderr",
     "output_type": "stream",
     "text": [
      " 82%|████████▏ | 824/1000 [37:54<08:02,  2.74s/it]"
     ]
    },
    {
     "name": "stdout",
     "output_type": "stream",
     "text": [
      "Test MSE: 69.7824, Test MAE: 5.4047, Test R2: 0.1712\n",
      "Epoch 825/1000\n",
      "Train MSE: 62.5502, Train MAE: 4.8811\n"
     ]
    },
    {
     "name": "stderr",
     "output_type": "stream",
     "text": [
      " 82%|████████▎ | 825/1000 [37:57<08:02,  2.76s/it]"
     ]
    },
    {
     "name": "stdout",
     "output_type": "stream",
     "text": [
      "Test MSE: 66.4324, Test MAE: 5.3503, Test R2: 0.0340\n",
      "Epoch 826/1000\n",
      "Train MSE: 59.9912, Train MAE: 4.8674\n"
     ]
    },
    {
     "name": "stderr",
     "output_type": "stream",
     "text": [
      " 83%|████████▎ | 826/1000 [38:00<08:02,  2.77s/it]"
     ]
    },
    {
     "name": "stdout",
     "output_type": "stream",
     "text": [
      "Test MSE: 70.5036, Test MAE: 5.4310, Test R2: -0.1777\n",
      "Epoch 827/1000\n",
      "Train MSE: 62.2738, Train MAE: 4.9011\n"
     ]
    },
    {
     "name": "stderr",
     "output_type": "stream",
     "text": [
      " 83%|████████▎ | 827/1000 [38:03<08:02,  2.79s/it]"
     ]
    },
    {
     "name": "stdout",
     "output_type": "stream",
     "text": [
      "Test MSE: 67.5295, Test MAE: 5.3598, Test R2: 0.1503\n",
      "Epoch 828/1000\n",
      "Train MSE: 61.8537, Train MAE: 4.8765\n"
     ]
    },
    {
     "name": "stderr",
     "output_type": "stream",
     "text": [
      " 83%|████████▎ | 828/1000 [38:06<08:00,  2.80s/it]"
     ]
    },
    {
     "name": "stdout",
     "output_type": "stream",
     "text": [
      "Test MSE: 67.8844, Test MAE: 5.3689, Test R2: -0.1136\n",
      "Epoch 829/1000\n",
      "Train MSE: 61.3899, Train MAE: 4.8854\n"
     ]
    },
    {
     "name": "stderr",
     "output_type": "stream",
     "text": [
      " 83%|████████▎ | 829/1000 [38:09<07:59,  2.80s/it]"
     ]
    },
    {
     "name": "stdout",
     "output_type": "stream",
     "text": [
      "Test MSE: 67.1319, Test MAE: 5.3609, Test R2: 0.0038\n",
      "Epoch 830/1000\n",
      "Train MSE: 61.1469, Train MAE: 4.9162\n"
     ]
    },
    {
     "name": "stderr",
     "output_type": "stream",
     "text": [
      " 83%|████████▎ | 830/1000 [38:11<07:57,  2.81s/it]"
     ]
    },
    {
     "name": "stdout",
     "output_type": "stream",
     "text": [
      "Test MSE: 71.6367, Test MAE: 5.4143, Test R2: 0.0249\n",
      "Epoch 831/1000\n",
      "Train MSE: 61.7976, Train MAE: 4.9187\n"
     ]
    },
    {
     "name": "stderr",
     "output_type": "stream",
     "text": [
      " 83%|████████▎ | 831/1000 [38:14<07:54,  2.81s/it]"
     ]
    },
    {
     "name": "stdout",
     "output_type": "stream",
     "text": [
      "Test MSE: 68.7635, Test MAE: 5.3706, Test R2: -0.0248\n",
      "Epoch 832/1000\n",
      "Train MSE: 61.8115, Train MAE: 4.9090\n"
     ]
    },
    {
     "name": "stderr",
     "output_type": "stream",
     "text": [
      " 83%|████████▎ | 832/1000 [38:17<07:50,  2.80s/it]"
     ]
    },
    {
     "name": "stdout",
     "output_type": "stream",
     "text": [
      "Test MSE: 71.0103, Test MAE: 5.4506, Test R2: -0.0945\n",
      "Epoch 833/1000\n",
      "Train MSE: 62.4452, Train MAE: 4.9639\n"
     ]
    },
    {
     "name": "stderr",
     "output_type": "stream",
     "text": [
      " 83%|████████▎ | 833/1000 [38:20<07:48,  2.80s/it]"
     ]
    },
    {
     "name": "stdout",
     "output_type": "stream",
     "text": [
      "Test MSE: 71.2758, Test MAE: 5.3727, Test R2: -0.1309\n",
      "Epoch 834/1000\n",
      "Train MSE: 59.3427, Train MAE: 4.8700\n"
     ]
    },
    {
     "name": "stderr",
     "output_type": "stream",
     "text": [
      " 83%|████████▎ | 834/1000 [38:23<07:44,  2.80s/it]"
     ]
    },
    {
     "name": "stdout",
     "output_type": "stream",
     "text": [
      "Test MSE: 73.4363, Test MAE: 5.4564, Test R2: -0.2826\n",
      "Epoch 835/1000\n",
      "Train MSE: 63.3027, Train MAE: 4.9378\n"
     ]
    },
    {
     "name": "stderr",
     "output_type": "stream",
     "text": [
      " 84%|████████▎ | 835/1000 [38:25<07:42,  2.80s/it]"
     ]
    },
    {
     "name": "stdout",
     "output_type": "stream",
     "text": [
      "Test MSE: 69.5909, Test MAE: 5.3793, Test R2: -0.3438\n",
      "Epoch 836/1000\n",
      "Train MSE: 60.6126, Train MAE: 4.8864\n"
     ]
    },
    {
     "name": "stderr",
     "output_type": "stream",
     "text": [
      " 84%|████████▎ | 836/1000 [38:28<07:39,  2.80s/it]"
     ]
    },
    {
     "name": "stdout",
     "output_type": "stream",
     "text": [
      "Test MSE: 65.7704, Test MAE: 5.3267, Test R2: -0.4277\n",
      "Epoch 837/1000\n",
      "Train MSE: 61.2872, Train MAE: 4.8921\n"
     ]
    },
    {
     "name": "stderr",
     "output_type": "stream",
     "text": [
      " 84%|████████▎ | 837/1000 [38:31<07:37,  2.80s/it]"
     ]
    },
    {
     "name": "stdout",
     "output_type": "stream",
     "text": [
      "Test MSE: 74.2474, Test MAE: 5.5287, Test R2: -0.1254\n",
      "Epoch 838/1000\n",
      "Train MSE: 60.1549, Train MAE: 4.8705\n"
     ]
    },
    {
     "name": "stderr",
     "output_type": "stream",
     "text": [
      " 84%|████████▍ | 838/1000 [38:34<07:34,  2.80s/it]"
     ]
    },
    {
     "name": "stdout",
     "output_type": "stream",
     "text": [
      "Test MSE: 72.2716, Test MAE: 5.4405, Test R2: -0.0318\n",
      "Epoch 839/1000\n",
      "Train MSE: 63.0709, Train MAE: 4.9484\n"
     ]
    },
    {
     "name": "stderr",
     "output_type": "stream",
     "text": [
      " 84%|████████▍ | 839/1000 [38:37<07:32,  2.81s/it]"
     ]
    },
    {
     "name": "stdout",
     "output_type": "stream",
     "text": [
      "Test MSE: 69.4825, Test MAE: 5.3869, Test R2: 0.0451\n",
      "Epoch 840/1000\n",
      "Train MSE: 63.1148, Train MAE: 4.9570\n"
     ]
    },
    {
     "name": "stderr",
     "output_type": "stream",
     "text": [
      " 84%|████████▍ | 840/1000 [38:39<07:28,  2.81s/it]"
     ]
    },
    {
     "name": "stdout",
     "output_type": "stream",
     "text": [
      "Test MSE: 69.2374, Test MAE: 5.3728, Test R2: -0.0331\n",
      "Epoch 841/1000\n",
      "Train MSE: 60.5809, Train MAE: 4.9393\n"
     ]
    },
    {
     "name": "stderr",
     "output_type": "stream",
     "text": [
      " 84%|████████▍ | 841/1000 [38:42<07:27,  2.81s/it]"
     ]
    },
    {
     "name": "stdout",
     "output_type": "stream",
     "text": [
      "Test MSE: 69.4653, Test MAE: 5.3974, Test R2: 0.2097\n",
      "Epoch 842/1000\n",
      "Train MSE: 61.8891, Train MAE: 4.9209\n"
     ]
    },
    {
     "name": "stderr",
     "output_type": "stream",
     "text": [
      " 84%|████████▍ | 842/1000 [38:45<07:25,  2.82s/it]"
     ]
    },
    {
     "name": "stdout",
     "output_type": "stream",
     "text": [
      "Test MSE: 65.9385, Test MAE: 5.2420, Test R2: 0.0589\n",
      "Epoch 843/1000\n",
      "Train MSE: 63.8810, Train MAE: 4.9250\n"
     ]
    },
    {
     "name": "stderr",
     "output_type": "stream",
     "text": [
      " 84%|████████▍ | 843/1000 [38:48<07:23,  2.82s/it]"
     ]
    },
    {
     "name": "stdout",
     "output_type": "stream",
     "text": [
      "Test MSE: 69.3063, Test MAE: 5.3847, Test R2: -0.0960\n",
      "Epoch 844/1000\n",
      "Train MSE: 63.4034, Train MAE: 4.9668\n"
     ]
    },
    {
     "name": "stderr",
     "output_type": "stream",
     "text": [
      " 84%|████████▍ | 844/1000 [38:51<07:20,  2.82s/it]"
     ]
    },
    {
     "name": "stdout",
     "output_type": "stream",
     "text": [
      "Test MSE: 69.1276, Test MAE: 5.3948, Test R2: -0.1906\n",
      "Epoch 845/1000\n",
      "Train MSE: 62.0937, Train MAE: 4.8882\n"
     ]
    },
    {
     "name": "stderr",
     "output_type": "stream",
     "text": [
      " 84%|████████▍ | 845/1000 [38:54<07:18,  2.83s/it]"
     ]
    },
    {
     "name": "stdout",
     "output_type": "stream",
     "text": [
      "Test MSE: 70.8169, Test MAE: 5.4246, Test R2: -0.0448\n",
      "Epoch 846/1000\n",
      "Train MSE: 61.6026, Train MAE: 4.9248\n"
     ]
    },
    {
     "name": "stderr",
     "output_type": "stream",
     "text": [
      " 85%|████████▍ | 846/1000 [38:56<07:13,  2.81s/it]"
     ]
    },
    {
     "name": "stdout",
     "output_type": "stream",
     "text": [
      "Test MSE: 68.0329, Test MAE: 5.3535, Test R2: 0.0327\n",
      "Epoch 847/1000\n",
      "Train MSE: 60.9842, Train MAE: 4.9177\n"
     ]
    },
    {
     "name": "stderr",
     "output_type": "stream",
     "text": [
      " 85%|████████▍ | 847/1000 [38:59<07:09,  2.80s/it]"
     ]
    },
    {
     "name": "stdout",
     "output_type": "stream",
     "text": [
      "Test MSE: 68.2385, Test MAE: 5.3494, Test R2: 0.0712\n",
      "Epoch 848/1000\n",
      "Train MSE: 63.6408, Train MAE: 4.9624\n"
     ]
    },
    {
     "name": "stderr",
     "output_type": "stream",
     "text": [
      " 85%|████████▍ | 848/1000 [39:02<07:07,  2.81s/it]"
     ]
    },
    {
     "name": "stdout",
     "output_type": "stream",
     "text": [
      "Test MSE: 68.3500, Test MAE: 5.3483, Test R2: 0.1539\n",
      "Epoch 849/1000\n",
      "Train MSE: 61.8082, Train MAE: 4.9270\n"
     ]
    },
    {
     "name": "stderr",
     "output_type": "stream",
     "text": [
      " 85%|████████▍ | 849/1000 [39:05<07:05,  2.82s/it]"
     ]
    },
    {
     "name": "stdout",
     "output_type": "stream",
     "text": [
      "Test MSE: 70.1306, Test MAE: 5.4239, Test R2: 0.1472\n",
      "Epoch 850/1000\n",
      "Train MSE: 65.5893, Train MAE: 4.9676\n"
     ]
    },
    {
     "name": "stderr",
     "output_type": "stream",
     "text": [
      " 85%|████████▌ | 850/1000 [39:08<07:01,  2.81s/it]"
     ]
    },
    {
     "name": "stdout",
     "output_type": "stream",
     "text": [
      "Test MSE: 68.1347, Test MAE: 5.3097, Test R2: -0.0554\n",
      "Epoch 851/1000\n",
      "Train MSE: 61.5028, Train MAE: 4.9022\n"
     ]
    },
    {
     "name": "stderr",
     "output_type": "stream",
     "text": [
      " 85%|████████▌ | 851/1000 [39:10<06:59,  2.82s/it]"
     ]
    },
    {
     "name": "stdout",
     "output_type": "stream",
     "text": [
      "Test MSE: 69.1812, Test MAE: 5.3576, Test R2: 0.1212\n",
      "Epoch 852/1000\n",
      "Train MSE: 63.0303, Train MAE: 4.9091\n"
     ]
    },
    {
     "name": "stderr",
     "output_type": "stream",
     "text": [
      " 85%|████████▌ | 852/1000 [39:13<06:56,  2.82s/it]"
     ]
    },
    {
     "name": "stdout",
     "output_type": "stream",
     "text": [
      "Test MSE: 70.4883, Test MAE: 5.4074, Test R2: 0.1369\n",
      "Epoch 853/1000\n",
      "Train MSE: 61.4351, Train MAE: 4.9151\n"
     ]
    },
    {
     "name": "stderr",
     "output_type": "stream",
     "text": [
      " 85%|████████▌ | 853/1000 [39:16<06:53,  2.81s/it]"
     ]
    },
    {
     "name": "stdout",
     "output_type": "stream",
     "text": [
      "Test MSE: 73.6672, Test MAE: 5.4377, Test R2: 0.0646\n",
      "Epoch 854/1000\n",
      "Train MSE: 60.5297, Train MAE: 4.8680\n"
     ]
    },
    {
     "name": "stderr",
     "output_type": "stream",
     "text": [
      " 85%|████████▌ | 854/1000 [39:19<06:51,  2.82s/it]"
     ]
    },
    {
     "name": "stdout",
     "output_type": "stream",
     "text": [
      "Test MSE: 68.2818, Test MAE: 5.3127, Test R2: -0.0879\n",
      "Epoch 855/1000\n",
      "Train MSE: 60.5760, Train MAE: 4.8833\n"
     ]
    },
    {
     "name": "stderr",
     "output_type": "stream",
     "text": [
      " 86%|████████▌ | 855/1000 [39:22<06:49,  2.82s/it]"
     ]
    },
    {
     "name": "stdout",
     "output_type": "stream",
     "text": [
      "Test MSE: 66.3230, Test MAE: 5.3300, Test R2: 0.0985\n",
      "Epoch 856/1000\n",
      "Train MSE: 59.6593, Train MAE: 4.8624\n"
     ]
    },
    {
     "name": "stderr",
     "output_type": "stream",
     "text": [
      " 86%|████████▌ | 856/1000 [39:24<06:45,  2.82s/it]"
     ]
    },
    {
     "name": "stdout",
     "output_type": "stream",
     "text": [
      "Test MSE: 66.6555, Test MAE: 5.2766, Test R2: 0.1395\n",
      "Epoch 857/1000\n",
      "Train MSE: 61.3267, Train MAE: 4.8771\n"
     ]
    },
    {
     "name": "stderr",
     "output_type": "stream",
     "text": [
      " 86%|████████▌ | 857/1000 [39:27<06:43,  2.82s/it]"
     ]
    },
    {
     "name": "stdout",
     "output_type": "stream",
     "text": [
      "Test MSE: 65.5945, Test MAE: 5.2819, Test R2: -0.0300\n",
      "Epoch 858/1000\n",
      "Train MSE: 64.8570, Train MAE: 4.9551\n"
     ]
    },
    {
     "name": "stderr",
     "output_type": "stream",
     "text": [
      " 86%|████████▌ | 858/1000 [39:30<06:39,  2.81s/it]"
     ]
    },
    {
     "name": "stdout",
     "output_type": "stream",
     "text": [
      "Test MSE: 69.6449, Test MAE: 5.3608, Test R2: 0.0118\n",
      "Epoch 859/1000\n",
      "Train MSE: 63.2357, Train MAE: 4.9102\n"
     ]
    },
    {
     "name": "stderr",
     "output_type": "stream",
     "text": [
      " 86%|████████▌ | 859/1000 [39:33<06:36,  2.81s/it]"
     ]
    },
    {
     "name": "stdout",
     "output_type": "stream",
     "text": [
      "Test MSE: 68.9126, Test MAE: 5.3539, Test R2: 0.1553\n",
      "Epoch 860/1000\n",
      "Train MSE: 64.1424, Train MAE: 4.9549\n"
     ]
    },
    {
     "name": "stderr",
     "output_type": "stream",
     "text": [
      " 86%|████████▌ | 860/1000 [39:36<06:32,  2.81s/it]"
     ]
    },
    {
     "name": "stdout",
     "output_type": "stream",
     "text": [
      "Test MSE: 72.4016, Test MAE: 5.4684, Test R2: 0.2263\n",
      "Epoch 861/1000\n",
      "Train MSE: 61.7044, Train MAE: 4.8842\n"
     ]
    },
    {
     "name": "stderr",
     "output_type": "stream",
     "text": [
      " 86%|████████▌ | 861/1000 [39:38<06:30,  2.81s/it]"
     ]
    },
    {
     "name": "stdout",
     "output_type": "stream",
     "text": [
      "Test MSE: 68.2691, Test MAE: 5.3021, Test R2: -0.0579\n",
      "Epoch 862/1000\n",
      "Train MSE: 62.2818, Train MAE: 4.9413\n"
     ]
    },
    {
     "name": "stderr",
     "output_type": "stream",
     "text": [
      " 86%|████████▌ | 862/1000 [39:41<06:27,  2.81s/it]"
     ]
    },
    {
     "name": "stdout",
     "output_type": "stream",
     "text": [
      "Test MSE: 72.7784, Test MAE: 5.4540, Test R2: -0.0426\n",
      "Epoch 863/1000\n",
      "Train MSE: 62.9031, Train MAE: 4.9355\n"
     ]
    },
    {
     "name": "stderr",
     "output_type": "stream",
     "text": [
      " 86%|████████▋ | 863/1000 [39:44<06:24,  2.81s/it]"
     ]
    },
    {
     "name": "stdout",
     "output_type": "stream",
     "text": [
      "Test MSE: 72.3534, Test MAE: 5.3821, Test R2: 0.1707\n",
      "Epoch 864/1000\n",
      "Train MSE: 60.7825, Train MAE: 4.9346\n"
     ]
    },
    {
     "name": "stderr",
     "output_type": "stream",
     "text": [
      " 86%|████████▋ | 864/1000 [39:47<06:21,  2.81s/it]"
     ]
    },
    {
     "name": "stdout",
     "output_type": "stream",
     "text": [
      "Test MSE: 72.4559, Test MAE: 5.4438, Test R2: 0.1502\n",
      "Epoch 865/1000\n",
      "Train MSE: 61.9205, Train MAE: 4.9286\n"
     ]
    },
    {
     "name": "stderr",
     "output_type": "stream",
     "text": [
      " 86%|████████▋ | 865/1000 [39:50<06:16,  2.79s/it]"
     ]
    },
    {
     "name": "stdout",
     "output_type": "stream",
     "text": [
      "Test MSE: 68.9147, Test MAE: 5.3765, Test R2: 0.0849\n",
      "Epoch 866/1000\n",
      "Train MSE: 61.4831, Train MAE: 4.9126\n"
     ]
    },
    {
     "name": "stderr",
     "output_type": "stream",
     "text": [
      " 87%|████████▋ | 866/1000 [39:52<06:08,  2.75s/it]"
     ]
    },
    {
     "name": "stdout",
     "output_type": "stream",
     "text": [
      "Test MSE: 78.7857, Test MAE: 5.5463, Test R2: -0.2218\n",
      "Epoch 867/1000\n",
      "Train MSE: 60.6541, Train MAE: 4.9025\n"
     ]
    },
    {
     "name": "stderr",
     "output_type": "stream",
     "text": [
      " 87%|████████▋ | 867/1000 [39:55<06:08,  2.77s/it]"
     ]
    },
    {
     "name": "stdout",
     "output_type": "stream",
     "text": [
      "Test MSE: 70.2487, Test MAE: 5.3898, Test R2: -0.1554\n",
      "Epoch 868/1000\n",
      "Train MSE: 58.8156, Train MAE: 4.8761\n"
     ]
    },
    {
     "name": "stderr",
     "output_type": "stream",
     "text": [
      " 87%|████████▋ | 868/1000 [39:58<06:06,  2.78s/it]"
     ]
    },
    {
     "name": "stdout",
     "output_type": "stream",
     "text": [
      "Test MSE: 71.1515, Test MAE: 5.4492, Test R2: -0.0294\n",
      "Epoch 869/1000\n",
      "Train MSE: 59.6844, Train MAE: 4.8437\n"
     ]
    },
    {
     "name": "stderr",
     "output_type": "stream",
     "text": [
      " 87%|████████▋ | 869/1000 [40:01<06:05,  2.79s/it]"
     ]
    },
    {
     "name": "stdout",
     "output_type": "stream",
     "text": [
      "Test MSE: 67.3619, Test MAE: 5.3132, Test R2: -0.0411\n",
      "Epoch 870/1000\n",
      "Train MSE: 60.5708, Train MAE: 4.8642\n"
     ]
    },
    {
     "name": "stderr",
     "output_type": "stream",
     "text": [
      " 87%|████████▋ | 870/1000 [40:04<06:03,  2.80s/it]"
     ]
    },
    {
     "name": "stdout",
     "output_type": "stream",
     "text": [
      "Test MSE: 70.6578, Test MAE: 5.3966, Test R2: 0.1564\n",
      "Epoch 871/1000\n",
      "Train MSE: 61.6833, Train MAE: 4.8818\n"
     ]
    },
    {
     "name": "stderr",
     "output_type": "stream",
     "text": [
      " 87%|████████▋ | 871/1000 [40:06<05:59,  2.79s/it]"
     ]
    },
    {
     "name": "stdout",
     "output_type": "stream",
     "text": [
      "Test MSE: 69.6986, Test MAE: 5.3765, Test R2: -0.1760\n",
      "Epoch 872/1000\n",
      "Train MSE: 59.5265, Train MAE: 4.8221\n"
     ]
    },
    {
     "name": "stderr",
     "output_type": "stream",
     "text": [
      " 87%|████████▋ | 872/1000 [40:09<05:53,  2.76s/it]"
     ]
    },
    {
     "name": "stdout",
     "output_type": "stream",
     "text": [
      "Test MSE: 66.8956, Test MAE: 5.2615, Test R2: -0.0772\n",
      "Epoch 873/1000\n",
      "Train MSE: 63.1277, Train MAE: 4.9034\n"
     ]
    },
    {
     "name": "stderr",
     "output_type": "stream",
     "text": [
      " 87%|████████▋ | 873/1000 [40:12<05:49,  2.75s/it]"
     ]
    },
    {
     "name": "stdout",
     "output_type": "stream",
     "text": [
      "Test MSE: 70.9579, Test MAE: 5.4577, Test R2: -0.2088\n",
      "Epoch 874/1000\n",
      "Train MSE: 61.6190, Train MAE: 4.8973\n"
     ]
    },
    {
     "name": "stderr",
     "output_type": "stream",
     "text": [
      " 87%|████████▋ | 874/1000 [40:15<05:47,  2.76s/it]"
     ]
    },
    {
     "name": "stdout",
     "output_type": "stream",
     "text": [
      "Test MSE: 68.8070, Test MAE: 5.3275, Test R2: -0.0284\n",
      "Epoch 875/1000\n",
      "Train MSE: 60.9023, Train MAE: 4.8611\n"
     ]
    },
    {
     "name": "stderr",
     "output_type": "stream",
     "text": [
      " 88%|████████▊ | 875/1000 [40:17<05:47,  2.78s/it]"
     ]
    },
    {
     "name": "stdout",
     "output_type": "stream",
     "text": [
      "Test MSE: 69.2367, Test MAE: 5.3492, Test R2: -0.0463\n",
      "Epoch 876/1000\n",
      "Train MSE: 62.5624, Train MAE: 4.9817\n"
     ]
    },
    {
     "name": "stderr",
     "output_type": "stream",
     "text": [
      " 88%|████████▊ | 876/1000 [40:20<05:46,  2.79s/it]"
     ]
    },
    {
     "name": "stdout",
     "output_type": "stream",
     "text": [
      "Test MSE: 67.0918, Test MAE: 5.3638, Test R2: 0.0114\n",
      "Epoch 877/1000\n",
      "Train MSE: 64.3798, Train MAE: 4.9868\n"
     ]
    },
    {
     "name": "stderr",
     "output_type": "stream",
     "text": [
      " 88%|████████▊ | 877/1000 [40:23<05:44,  2.80s/it]"
     ]
    },
    {
     "name": "stdout",
     "output_type": "stream",
     "text": [
      "Test MSE: 67.4290, Test MAE: 5.3326, Test R2: -0.2364\n",
      "Epoch 878/1000\n",
      "Train MSE: 63.5867, Train MAE: 4.9404\n"
     ]
    },
    {
     "name": "stderr",
     "output_type": "stream",
     "text": [
      " 88%|████████▊ | 878/1000 [40:26<05:42,  2.81s/it]"
     ]
    },
    {
     "name": "stdout",
     "output_type": "stream",
     "text": [
      "Test MSE: 66.2420, Test MAE: 5.2946, Test R2: -0.0846\n",
      "Epoch 879/1000\n",
      "Train MSE: 59.8220, Train MAE: 4.8268\n"
     ]
    },
    {
     "name": "stderr",
     "output_type": "stream",
     "text": [
      " 88%|████████▊ | 879/1000 [40:29<05:40,  2.81s/it]"
     ]
    },
    {
     "name": "stdout",
     "output_type": "stream",
     "text": [
      "Test MSE: 66.7069, Test MAE: 5.2902, Test R2: 0.0043\n",
      "Epoch 880/1000\n",
      "Train MSE: 62.2466, Train MAE: 4.8974\n"
     ]
    },
    {
     "name": "stderr",
     "output_type": "stream",
     "text": [
      " 88%|████████▊ | 880/1000 [40:31<05:37,  2.81s/it]"
     ]
    },
    {
     "name": "stdout",
     "output_type": "stream",
     "text": [
      "Test MSE: 68.1352, Test MAE: 5.3000, Test R2: 0.0301\n",
      "Epoch 881/1000\n",
      "Train MSE: 60.9124, Train MAE: 4.8562\n"
     ]
    },
    {
     "name": "stderr",
     "output_type": "stream",
     "text": [
      " 88%|████████▊ | 881/1000 [40:34<05:35,  2.82s/it]"
     ]
    },
    {
     "name": "stdout",
     "output_type": "stream",
     "text": [
      "Test MSE: 68.9837, Test MAE: 5.3095, Test R2: 0.1116\n",
      "Epoch 882/1000\n",
      "Train MSE: 59.5760, Train MAE: 4.8648\n"
     ]
    },
    {
     "name": "stderr",
     "output_type": "stream",
     "text": [
      " 88%|████████▊ | 882/1000 [40:37<05:31,  2.81s/it]"
     ]
    },
    {
     "name": "stdout",
     "output_type": "stream",
     "text": [
      "Test MSE: 71.6029, Test MAE: 5.3623, Test R2: -0.0295\n",
      "Epoch 883/1000\n",
      "Train MSE: 59.7389, Train MAE: 4.8734\n"
     ]
    },
    {
     "name": "stderr",
     "output_type": "stream",
     "text": [
      " 88%|████████▊ | 883/1000 [40:40<05:31,  2.83s/it]"
     ]
    },
    {
     "name": "stdout",
     "output_type": "stream",
     "text": [
      "Test MSE: 70.4828, Test MAE: 5.3740, Test R2: 0.0721\n",
      "Epoch 884/1000\n",
      "Train MSE: 62.3364, Train MAE: 4.8649\n"
     ]
    },
    {
     "name": "stderr",
     "output_type": "stream",
     "text": [
      " 88%|████████▊ | 884/1000 [40:43<05:27,  2.83s/it]"
     ]
    },
    {
     "name": "stdout",
     "output_type": "stream",
     "text": [
      "Test MSE: 70.8640, Test MAE: 5.4303, Test R2: 0.1685\n",
      "Epoch 885/1000\n",
      "Train MSE: 60.2970, Train MAE: 4.8270\n"
     ]
    },
    {
     "name": "stderr",
     "output_type": "stream",
     "text": [
      " 88%|████████▊ | 885/1000 [40:46<05:24,  2.83s/it]"
     ]
    },
    {
     "name": "stdout",
     "output_type": "stream",
     "text": [
      "Test MSE: 70.0803, Test MAE: 5.4308, Test R2: 0.0666\n",
      "Epoch 886/1000\n",
      "Train MSE: 60.4157, Train MAE: 4.8393\n"
     ]
    },
    {
     "name": "stderr",
     "output_type": "stream",
     "text": [
      " 89%|████████▊ | 886/1000 [40:48<05:21,  2.82s/it]"
     ]
    },
    {
     "name": "stdout",
     "output_type": "stream",
     "text": [
      "Test MSE: 69.1801, Test MAE: 5.3317, Test R2: -0.0652\n",
      "Epoch 887/1000\n",
      "Train MSE: 60.4013, Train MAE: 4.8548\n"
     ]
    },
    {
     "name": "stderr",
     "output_type": "stream",
     "text": [
      " 89%|████████▊ | 887/1000 [40:51<05:18,  2.82s/it]"
     ]
    },
    {
     "name": "stdout",
     "output_type": "stream",
     "text": [
      "Test MSE: 69.5148, Test MAE: 5.3994, Test R2: 0.0939\n",
      "Epoch 888/1000\n",
      "Train MSE: 61.5668, Train MAE: 4.8858\n"
     ]
    },
    {
     "name": "stderr",
     "output_type": "stream",
     "text": [
      " 89%|████████▉ | 888/1000 [40:54<05:15,  2.81s/it]"
     ]
    },
    {
     "name": "stdout",
     "output_type": "stream",
     "text": [
      "Test MSE: 70.3933, Test MAE: 5.4019, Test R2: 0.0326\n",
      "Epoch 889/1000\n",
      "Train MSE: 59.0491, Train MAE: 4.8235\n"
     ]
    },
    {
     "name": "stderr",
     "output_type": "stream",
     "text": [
      " 89%|████████▉ | 889/1000 [40:57<05:12,  2.82s/it]"
     ]
    },
    {
     "name": "stdout",
     "output_type": "stream",
     "text": [
      "Test MSE: 68.7972, Test MAE: 5.3335, Test R2: 0.1136\n",
      "Epoch 890/1000\n",
      "Train MSE: 59.6107, Train MAE: 4.8465\n"
     ]
    },
    {
     "name": "stderr",
     "output_type": "stream",
     "text": [
      " 89%|████████▉ | 890/1000 [41:00<05:09,  2.81s/it]"
     ]
    },
    {
     "name": "stdout",
     "output_type": "stream",
     "text": [
      "Test MSE: 66.9024, Test MAE: 5.3199, Test R2: -0.1884\n",
      "Epoch 891/1000\n",
      "Train MSE: 63.4930, Train MAE: 4.9334\n"
     ]
    },
    {
     "name": "stderr",
     "output_type": "stream",
     "text": [
      " 89%|████████▉ | 891/1000 [41:02<05:06,  2.81s/it]"
     ]
    },
    {
     "name": "stdout",
     "output_type": "stream",
     "text": [
      "Test MSE: 69.6924, Test MAE: 5.3804, Test R2: 0.0329\n",
      "Epoch 892/1000\n",
      "Train MSE: 61.2047, Train MAE: 4.8820\n"
     ]
    },
    {
     "name": "stderr",
     "output_type": "stream",
     "text": [
      " 89%|████████▉ | 892/1000 [41:05<05:03,  2.81s/it]"
     ]
    },
    {
     "name": "stdout",
     "output_type": "stream",
     "text": [
      "Test MSE: 69.2734, Test MAE: 5.3071, Test R2: 0.1356\n",
      "Epoch 893/1000\n",
      "Train MSE: 60.7107, Train MAE: 4.8530\n"
     ]
    },
    {
     "name": "stderr",
     "output_type": "stream",
     "text": [
      " 89%|████████▉ | 893/1000 [41:08<04:59,  2.80s/it]"
     ]
    },
    {
     "name": "stdout",
     "output_type": "stream",
     "text": [
      "Test MSE: 69.3842, Test MAE: 5.4205, Test R2: 0.1261\n",
      "Epoch 894/1000\n",
      "Train MSE: 59.6106, Train MAE: 4.8156\n"
     ]
    },
    {
     "name": "stderr",
     "output_type": "stream",
     "text": [
      " 89%|████████▉ | 894/1000 [41:11<04:52,  2.76s/it]"
     ]
    },
    {
     "name": "stdout",
     "output_type": "stream",
     "text": [
      "Test MSE: 70.2679, Test MAE: 5.4506, Test R2: 0.0177\n",
      "Epoch 895/1000\n",
      "Train MSE: 61.5717, Train MAE: 4.8538\n"
     ]
    },
    {
     "name": "stderr",
     "output_type": "stream",
     "text": [
      " 90%|████████▉ | 895/1000 [41:13<04:49,  2.76s/it]"
     ]
    },
    {
     "name": "stdout",
     "output_type": "stream",
     "text": [
      "Test MSE: 69.5717, Test MAE: 5.3980, Test R2: -0.3326\n",
      "Epoch 896/1000\n",
      "Train MSE: 61.8194, Train MAE: 4.9288\n"
     ]
    },
    {
     "name": "stderr",
     "output_type": "stream",
     "text": [
      " 90%|████████▉ | 896/1000 [41:16<04:47,  2.76s/it]"
     ]
    },
    {
     "name": "stdout",
     "output_type": "stream",
     "text": [
      "Test MSE: 68.5063, Test MAE: 5.3968, Test R2: -0.0428\n",
      "Epoch 897/1000\n",
      "Train MSE: 60.2243, Train MAE: 4.8323\n"
     ]
    },
    {
     "name": "stderr",
     "output_type": "stream",
     "text": [
      " 90%|████████▉ | 897/1000 [41:19<04:45,  2.77s/it]"
     ]
    },
    {
     "name": "stdout",
     "output_type": "stream",
     "text": [
      "Test MSE: 67.0413, Test MAE: 5.3188, Test R2: 0.0333\n",
      "Epoch 898/1000\n",
      "Train MSE: 61.6712, Train MAE: 4.8820\n"
     ]
    },
    {
     "name": "stderr",
     "output_type": "stream",
     "text": [
      " 90%|████████▉ | 898/1000 [41:22<04:41,  2.76s/it]"
     ]
    },
    {
     "name": "stdout",
     "output_type": "stream",
     "text": [
      "Test MSE: 68.8480, Test MAE: 5.3151, Test R2: 0.1309\n",
      "Epoch 899/1000\n",
      "Train MSE: 61.3728, Train MAE: 4.9071\n"
     ]
    },
    {
     "name": "stderr",
     "output_type": "stream",
     "text": [
      " 90%|████████▉ | 899/1000 [41:24<04:37,  2.75s/it]"
     ]
    },
    {
     "name": "stdout",
     "output_type": "stream",
     "text": [
      "Test MSE: 67.4367, Test MAE: 5.3277, Test R2: -0.0467\n",
      "Epoch 900/1000\n",
      "Train MSE: 61.6689, Train MAE: 4.8489\n"
     ]
    },
    {
     "name": "stderr",
     "output_type": "stream",
     "text": [
      " 90%|█████████ | 900/1000 [41:27<04:35,  2.76s/it]"
     ]
    },
    {
     "name": "stdout",
     "output_type": "stream",
     "text": [
      "Test MSE: 70.2251, Test MAE: 5.3802, Test R2: 0.0961\n",
      "Epoch 901/1000\n",
      "Train MSE: 61.6296, Train MAE: 4.9070\n"
     ]
    },
    {
     "name": "stderr",
     "output_type": "stream",
     "text": [
      " 90%|█████████ | 901/1000 [41:30<04:33,  2.76s/it]"
     ]
    },
    {
     "name": "stdout",
     "output_type": "stream",
     "text": [
      "Test MSE: 70.4141, Test MAE: 5.4442, Test R2: 0.1918\n",
      "Epoch 902/1000\n",
      "Train MSE: 62.7096, Train MAE: 4.9041\n"
     ]
    },
    {
     "name": "stderr",
     "output_type": "stream",
     "text": [
      " 90%|█████████ | 902/1000 [41:33<04:28,  2.74s/it]"
     ]
    },
    {
     "name": "stdout",
     "output_type": "stream",
     "text": [
      "Test MSE: 68.7969, Test MAE: 5.3114, Test R2: 0.0894\n",
      "Epoch 903/1000\n",
      "Train MSE: 63.0850, Train MAE: 4.8887\n"
     ]
    },
    {
     "name": "stderr",
     "output_type": "stream",
     "text": [
      " 90%|█████████ | 903/1000 [41:35<04:24,  2.73s/it]"
     ]
    },
    {
     "name": "stdout",
     "output_type": "stream",
     "text": [
      "Test MSE: 70.3483, Test MAE: 5.4489, Test R2: 0.1195\n",
      "Epoch 904/1000\n",
      "Train MSE: 60.5654, Train MAE: 4.8590\n"
     ]
    },
    {
     "name": "stderr",
     "output_type": "stream",
     "text": [
      " 90%|█████████ | 904/1000 [41:38<04:20,  2.72s/it]"
     ]
    },
    {
     "name": "stdout",
     "output_type": "stream",
     "text": [
      "Test MSE: 69.1184, Test MAE: 5.4029, Test R2: 0.0908\n",
      "Epoch 905/1000\n",
      "Train MSE: 61.7832, Train MAE: 4.9118\n"
     ]
    },
    {
     "name": "stderr",
     "output_type": "stream",
     "text": [
      " 90%|█████████ | 905/1000 [41:41<04:18,  2.72s/it]"
     ]
    },
    {
     "name": "stdout",
     "output_type": "stream",
     "text": [
      "Test MSE: 65.4608, Test MAE: 5.3239, Test R2: -0.0179\n",
      "Epoch 906/1000\n",
      "Train MSE: 62.6480, Train MAE: 4.9215\n"
     ]
    },
    {
     "name": "stderr",
     "output_type": "stream",
     "text": [
      " 91%|█████████ | 906/1000 [41:44<04:14,  2.71s/it]"
     ]
    },
    {
     "name": "stdout",
     "output_type": "stream",
     "text": [
      "Test MSE: 67.6358, Test MAE: 5.3314, Test R2: 0.1437\n",
      "Epoch 907/1000\n",
      "Train MSE: 61.1867, Train MAE: 4.8839\n"
     ]
    },
    {
     "name": "stderr",
     "output_type": "stream",
     "text": [
      " 91%|█████████ | 907/1000 [41:46<04:11,  2.70s/it]"
     ]
    },
    {
     "name": "stdout",
     "output_type": "stream",
     "text": [
      "Test MSE: 67.6592, Test MAE: 5.3533, Test R2: -0.0179\n",
      "Epoch 908/1000\n",
      "Train MSE: 60.4843, Train MAE: 4.8823\n"
     ]
    },
    {
     "name": "stderr",
     "output_type": "stream",
     "text": [
      " 91%|█████████ | 908/1000 [41:49<04:07,  2.69s/it]"
     ]
    },
    {
     "name": "stdout",
     "output_type": "stream",
     "text": [
      "Test MSE: 70.0363, Test MAE: 5.4331, Test R2: 0.0931\n",
      "Epoch 909/1000\n",
      "Train MSE: 66.0102, Train MAE: 4.9849\n"
     ]
    },
    {
     "name": "stderr",
     "output_type": "stream",
     "text": [
      " 91%|█████████ | 909/1000 [41:52<04:04,  2.68s/it]"
     ]
    },
    {
     "name": "stdout",
     "output_type": "stream",
     "text": [
      "Test MSE: 69.7241, Test MAE: 5.4135, Test R2: -0.0639\n",
      "Epoch 910/1000\n",
      "Train MSE: 61.0627, Train MAE: 4.8545\n"
     ]
    },
    {
     "name": "stderr",
     "output_type": "stream",
     "text": [
      " 91%|█████████ | 910/1000 [41:54<04:01,  2.68s/it]"
     ]
    },
    {
     "name": "stdout",
     "output_type": "stream",
     "text": [
      "Test MSE: 72.1937, Test MAE: 5.5059, Test R2: 0.0618\n",
      "Epoch 911/1000\n",
      "Train MSE: 61.1118, Train MAE: 4.9011\n"
     ]
    },
    {
     "name": "stderr",
     "output_type": "stream",
     "text": [
      " 91%|█████████ | 911/1000 [41:57<03:58,  2.68s/it]"
     ]
    },
    {
     "name": "stdout",
     "output_type": "stream",
     "text": [
      "Test MSE: 72.3203, Test MAE: 5.4131, Test R2: -0.2016\n",
      "Epoch 912/1000\n",
      "Train MSE: 58.5807, Train MAE: 4.8263\n"
     ]
    },
    {
     "name": "stderr",
     "output_type": "stream",
     "text": [
      " 91%|█████████ | 912/1000 [42:00<03:55,  2.68s/it]"
     ]
    },
    {
     "name": "stdout",
     "output_type": "stream",
     "text": [
      "Test MSE: 72.6321, Test MAE: 5.5228, Test R2: -0.0519\n",
      "Epoch 913/1000\n",
      "Train MSE: 61.1584, Train MAE: 4.7974\n"
     ]
    },
    {
     "name": "stderr",
     "output_type": "stream",
     "text": [
      " 91%|█████████▏| 913/1000 [42:02<03:53,  2.68s/it]"
     ]
    },
    {
     "name": "stdout",
     "output_type": "stream",
     "text": [
      "Test MSE: 72.0750, Test MAE: 5.4263, Test R2: 0.0119\n",
      "Epoch 914/1000\n",
      "Train MSE: 62.1637, Train MAE: 4.8905\n"
     ]
    },
    {
     "name": "stderr",
     "output_type": "stream",
     "text": [
      " 91%|█████████▏| 914/1000 [42:05<03:50,  2.68s/it]"
     ]
    },
    {
     "name": "stdout",
     "output_type": "stream",
     "text": [
      "Test MSE: 68.7485, Test MAE: 5.3926, Test R2: 0.0773\n",
      "Epoch 915/1000\n",
      "Train MSE: 61.6152, Train MAE: 4.8865\n"
     ]
    },
    {
     "name": "stderr",
     "output_type": "stream",
     "text": [
      " 92%|█████████▏| 915/1000 [42:08<03:47,  2.68s/it]"
     ]
    },
    {
     "name": "stdout",
     "output_type": "stream",
     "text": [
      "Test MSE: 65.3850, Test MAE: 5.3042, Test R2: -0.1845\n",
      "Epoch 916/1000\n",
      "Train MSE: 61.4108, Train MAE: 4.9181\n"
     ]
    },
    {
     "name": "stderr",
     "output_type": "stream",
     "text": [
      " 92%|█████████▏| 916/1000 [42:10<03:45,  2.68s/it]"
     ]
    },
    {
     "name": "stdout",
     "output_type": "stream",
     "text": [
      "Test MSE: 66.6677, Test MAE: 5.3564, Test R2: 0.0098\n",
      "Epoch 917/1000\n",
      "Train MSE: 61.7710, Train MAE: 4.8943\n"
     ]
    },
    {
     "name": "stderr",
     "output_type": "stream",
     "text": [
      " 92%|█████████▏| 917/1000 [42:13<03:42,  2.68s/it]"
     ]
    },
    {
     "name": "stdout",
     "output_type": "stream",
     "text": [
      "Test MSE: 69.7038, Test MAE: 5.3973, Test R2: 0.0814\n",
      "Epoch 918/1000\n",
      "Train MSE: 61.1656, Train MAE: 4.8344\n"
     ]
    },
    {
     "name": "stderr",
     "output_type": "stream",
     "text": [
      " 92%|█████████▏| 918/1000 [42:16<03:39,  2.68s/it]"
     ]
    },
    {
     "name": "stdout",
     "output_type": "stream",
     "text": [
      "Test MSE: 65.8661, Test MAE: 5.2858, Test R2: -0.1558\n",
      "Epoch 919/1000\n",
      "Train MSE: 59.3164, Train MAE: 4.8347\n"
     ]
    },
    {
     "name": "stderr",
     "output_type": "stream",
     "text": [
      " 92%|█████████▏| 919/1000 [42:18<03:36,  2.68s/it]"
     ]
    },
    {
     "name": "stdout",
     "output_type": "stream",
     "text": [
      "Test MSE: 66.9330, Test MAE: 5.3282, Test R2: 0.0592\n",
      "Epoch 920/1000\n",
      "Train MSE: 61.4951, Train MAE: 4.8888\n"
     ]
    },
    {
     "name": "stderr",
     "output_type": "stream",
     "text": [
      " 92%|█████████▏| 920/1000 [42:21<03:34,  2.68s/it]"
     ]
    },
    {
     "name": "stdout",
     "output_type": "stream",
     "text": [
      "Test MSE: 70.4401, Test MAE: 5.4795, Test R2: 0.1212\n",
      "Epoch 921/1000\n",
      "Train MSE: 61.1456, Train MAE: 4.8477\n"
     ]
    },
    {
     "name": "stderr",
     "output_type": "stream",
     "text": [
      " 92%|█████████▏| 921/1000 [42:24<03:31,  2.68s/it]"
     ]
    },
    {
     "name": "stdout",
     "output_type": "stream",
     "text": [
      "Test MSE: 66.1674, Test MAE: 5.3666, Test R2: 0.1564\n",
      "Epoch 922/1000\n",
      "Train MSE: 61.4551, Train MAE: 4.8718\n"
     ]
    },
    {
     "name": "stderr",
     "output_type": "stream",
     "text": [
      " 92%|█████████▏| 922/1000 [42:26<03:30,  2.70s/it]"
     ]
    },
    {
     "name": "stdout",
     "output_type": "stream",
     "text": [
      "Test MSE: 66.9994, Test MAE: 5.3594, Test R2: 0.1003\n",
      "Epoch 923/1000\n",
      "Train MSE: 60.7084, Train MAE: 4.8719\n"
     ]
    },
    {
     "name": "stderr",
     "output_type": "stream",
     "text": [
      " 92%|█████████▏| 923/1000 [42:29<03:29,  2.72s/it]"
     ]
    },
    {
     "name": "stdout",
     "output_type": "stream",
     "text": [
      "Test MSE: 70.5274, Test MAE: 5.4336, Test R2: 0.1269\n",
      "Epoch 924/1000\n",
      "Train MSE: 59.8722, Train MAE: 4.8572\n"
     ]
    },
    {
     "name": "stderr",
     "output_type": "stream",
     "text": [
      " 92%|█████████▏| 924/1000 [42:32<03:27,  2.74s/it]"
     ]
    },
    {
     "name": "stdout",
     "output_type": "stream",
     "text": [
      "Test MSE: 70.0071, Test MAE: 5.3958, Test R2: 0.1318\n",
      "Epoch 925/1000\n",
      "Train MSE: 58.6870, Train MAE: 4.7951\n"
     ]
    },
    {
     "name": "stderr",
     "output_type": "stream",
     "text": [
      " 92%|█████████▎| 925/1000 [42:35<03:26,  2.75s/it]"
     ]
    },
    {
     "name": "stdout",
     "output_type": "stream",
     "text": [
      "Test MSE: 70.1603, Test MAE: 5.4299, Test R2: 0.1376\n",
      "Epoch 926/1000\n",
      "Train MSE: 59.4478, Train MAE: 4.8353\n"
     ]
    },
    {
     "name": "stderr",
     "output_type": "stream",
     "text": [
      " 93%|█████████▎| 926/1000 [42:38<03:24,  2.76s/it]"
     ]
    },
    {
     "name": "stdout",
     "output_type": "stream",
     "text": [
      "Test MSE: 68.5904, Test MAE: 5.3602, Test R2: 0.0814\n",
      "Epoch 927/1000\n",
      "Train MSE: 61.1687, Train MAE: 4.8714\n"
     ]
    },
    {
     "name": "stderr",
     "output_type": "stream",
     "text": [
      " 93%|█████████▎| 927/1000 [42:40<03:21,  2.77s/it]"
     ]
    },
    {
     "name": "stdout",
     "output_type": "stream",
     "text": [
      "Test MSE: 69.7574, Test MAE: 5.4427, Test R2: 0.0846\n",
      "Epoch 928/1000\n",
      "Train MSE: 62.1390, Train MAE: 4.8976\n"
     ]
    },
    {
     "name": "stderr",
     "output_type": "stream",
     "text": [
      " 93%|█████████▎| 928/1000 [42:43<03:19,  2.77s/it]"
     ]
    },
    {
     "name": "stdout",
     "output_type": "stream",
     "text": [
      "Test MSE: 68.7690, Test MAE: 5.3901, Test R2: 0.0341\n",
      "Epoch 929/1000\n",
      "Train MSE: 60.2128, Train MAE: 4.8561\n"
     ]
    },
    {
     "name": "stderr",
     "output_type": "stream",
     "text": [
      " 93%|█████████▎| 929/1000 [42:46<03:16,  2.77s/it]"
     ]
    },
    {
     "name": "stdout",
     "output_type": "stream",
     "text": [
      "Test MSE: 66.5745, Test MAE: 5.2879, Test R2: 0.0815\n",
      "Epoch 930/1000\n",
      "Train MSE: 57.5832, Train MAE: 4.7851\n"
     ]
    },
    {
     "name": "stderr",
     "output_type": "stream",
     "text": [
      " 93%|█████████▎| 930/1000 [42:49<03:14,  2.78s/it]"
     ]
    },
    {
     "name": "stdout",
     "output_type": "stream",
     "text": [
      "Test MSE: 65.1224, Test MAE: 5.3100, Test R2: -0.3699\n",
      "Epoch 931/1000\n",
      "Train MSE: 62.1831, Train MAE: 4.9259\n"
     ]
    },
    {
     "name": "stderr",
     "output_type": "stream",
     "text": [
      " 93%|█████████▎| 931/1000 [42:51<03:11,  2.77s/it]"
     ]
    },
    {
     "name": "stdout",
     "output_type": "stream",
     "text": [
      "Test MSE: 66.4226, Test MAE: 5.3371, Test R2: 0.0958\n",
      "Epoch 932/1000\n",
      "Train MSE: 59.9477, Train MAE: 4.8772\n"
     ]
    },
    {
     "name": "stderr",
     "output_type": "stream",
     "text": [
      " 93%|█████████▎| 932/1000 [42:54<03:06,  2.74s/it]"
     ]
    },
    {
     "name": "stdout",
     "output_type": "stream",
     "text": [
      "Test MSE: 66.8602, Test MAE: 5.3463, Test R2: 0.1046\n",
      "Epoch 933/1000\n",
      "Train MSE: 58.1635, Train MAE: 4.8181\n"
     ]
    },
    {
     "name": "stderr",
     "output_type": "stream",
     "text": [
      " 93%|█████████▎| 933/1000 [42:57<03:02,  2.72s/it]"
     ]
    },
    {
     "name": "stdout",
     "output_type": "stream",
     "text": [
      "Test MSE: 65.5925, Test MAE: 5.3560, Test R2: -0.1210\n",
      "Epoch 934/1000\n",
      "Train MSE: 64.2761, Train MAE: 4.8897\n"
     ]
    },
    {
     "name": "stderr",
     "output_type": "stream",
     "text": [
      " 93%|█████████▎| 934/1000 [42:59<02:58,  2.70s/it]"
     ]
    },
    {
     "name": "stdout",
     "output_type": "stream",
     "text": [
      "Test MSE: 66.6605, Test MAE: 5.3931, Test R2: -0.1555\n",
      "Epoch 935/1000\n",
      "Train MSE: 59.7282, Train MAE: 4.8515\n"
     ]
    },
    {
     "name": "stderr",
     "output_type": "stream",
     "text": [
      " 94%|█████████▎| 935/1000 [43:02<02:55,  2.69s/it]"
     ]
    },
    {
     "name": "stdout",
     "output_type": "stream",
     "text": [
      "Test MSE: 70.0073, Test MAE: 5.4216, Test R2: 0.1546\n",
      "Epoch 936/1000\n",
      "Train MSE: 61.1548, Train MAE: 4.8949\n"
     ]
    },
    {
     "name": "stderr",
     "output_type": "stream",
     "text": [
      " 94%|█████████▎| 936/1000 [43:05<02:51,  2.69s/it]"
     ]
    },
    {
     "name": "stdout",
     "output_type": "stream",
     "text": [
      "Test MSE: 66.8910, Test MAE: 5.3418, Test R2: 0.0726\n",
      "Epoch 937/1000\n",
      "Train MSE: 60.1841, Train MAE: 4.9041\n"
     ]
    },
    {
     "name": "stderr",
     "output_type": "stream",
     "text": [
      " 94%|█████████▎| 937/1000 [43:08<02:49,  2.69s/it]"
     ]
    },
    {
     "name": "stdout",
     "output_type": "stream",
     "text": [
      "Test MSE: 66.6772, Test MAE: 5.3478, Test R2: 0.1546\n",
      "Epoch 938/1000\n",
      "Train MSE: 60.5487, Train MAE: 4.8078\n"
     ]
    },
    {
     "name": "stderr",
     "output_type": "stream",
     "text": [
      " 94%|█████████▍| 938/1000 [43:10<02:46,  2.69s/it]"
     ]
    },
    {
     "name": "stdout",
     "output_type": "stream",
     "text": [
      "Test MSE: 66.3531, Test MAE: 5.3400, Test R2: -0.1665\n",
      "Epoch 939/1000\n",
      "Train MSE: 60.3658, Train MAE: 4.8555\n"
     ]
    },
    {
     "name": "stderr",
     "output_type": "stream",
     "text": [
      " 94%|█████████▍| 939/1000 [43:13<02:44,  2.69s/it]"
     ]
    },
    {
     "name": "stdout",
     "output_type": "stream",
     "text": [
      "Test MSE: 69.4794, Test MAE: 5.3960, Test R2: -0.2875\n",
      "Epoch 940/1000\n",
      "Train MSE: 58.8440, Train MAE: 4.8096\n"
     ]
    },
    {
     "name": "stderr",
     "output_type": "stream",
     "text": [
      " 94%|█████████▍| 940/1000 [43:16<02:41,  2.69s/it]"
     ]
    },
    {
     "name": "stdout",
     "output_type": "stream",
     "text": [
      "Test MSE: 71.3416, Test MAE: 5.3878, Test R2: -0.0694\n",
      "Epoch 941/1000\n",
      "Train MSE: 61.9898, Train MAE: 4.8706\n"
     ]
    },
    {
     "name": "stderr",
     "output_type": "stream",
     "text": [
      " 94%|█████████▍| 941/1000 [43:18<02:38,  2.69s/it]"
     ]
    },
    {
     "name": "stdout",
     "output_type": "stream",
     "text": [
      "Test MSE: 70.3265, Test MAE: 5.4162, Test R2: 0.1568\n",
      "Epoch 942/1000\n",
      "Train MSE: 59.9286, Train MAE: 4.8059\n"
     ]
    },
    {
     "name": "stderr",
     "output_type": "stream",
     "text": [
      " 94%|█████████▍| 942/1000 [43:21<02:36,  2.69s/it]"
     ]
    },
    {
     "name": "stdout",
     "output_type": "stream",
     "text": [
      "Test MSE: 66.3154, Test MAE: 5.3282, Test R2: 0.1882\n",
      "Epoch 943/1000\n",
      "Train MSE: 60.9476, Train MAE: 4.8774\n"
     ]
    },
    {
     "name": "stderr",
     "output_type": "stream",
     "text": [
      " 94%|█████████▍| 943/1000 [43:24<02:33,  2.69s/it]"
     ]
    },
    {
     "name": "stdout",
     "output_type": "stream",
     "text": [
      "Test MSE: 68.3847, Test MAE: 5.3562, Test R2: 0.1248\n",
      "Epoch 944/1000\n",
      "Train MSE: 58.9473, Train MAE: 4.7866\n"
     ]
    },
    {
     "name": "stderr",
     "output_type": "stream",
     "text": [
      " 94%|█████████▍| 944/1000 [43:26<02:31,  2.71s/it]"
     ]
    },
    {
     "name": "stdout",
     "output_type": "stream",
     "text": [
      "Test MSE: 72.7486, Test MAE: 5.4902, Test R2: 0.0603\n",
      "Epoch 945/1000\n",
      "Train MSE: 61.0185, Train MAE: 4.8717\n"
     ]
    },
    {
     "name": "stderr",
     "output_type": "stream",
     "text": [
      " 94%|█████████▍| 945/1000 [43:29<02:28,  2.70s/it]"
     ]
    },
    {
     "name": "stdout",
     "output_type": "stream",
     "text": [
      "Test MSE: 72.2329, Test MAE: 5.4427, Test R2: -0.1639\n",
      "Epoch 946/1000\n",
      "Train MSE: 60.7421, Train MAE: 4.8535\n"
     ]
    },
    {
     "name": "stderr",
     "output_type": "stream",
     "text": [
      " 95%|█████████▍| 946/1000 [43:32<02:25,  2.70s/it]"
     ]
    },
    {
     "name": "stdout",
     "output_type": "stream",
     "text": [
      "Test MSE: 68.8641, Test MAE: 5.3737, Test R2: -0.0306\n",
      "Epoch 947/1000\n",
      "Train MSE: 62.5759, Train MAE: 4.8629\n"
     ]
    },
    {
     "name": "stderr",
     "output_type": "stream",
     "text": [
      " 95%|█████████▍| 947/1000 [43:34<02:22,  2.70s/it]"
     ]
    },
    {
     "name": "stdout",
     "output_type": "stream",
     "text": [
      "Test MSE: 70.3981, Test MAE: 5.4377, Test R2: 0.0365\n",
      "Epoch 948/1000\n",
      "Train MSE: 64.1398, Train MAE: 4.9838\n"
     ]
    },
    {
     "name": "stderr",
     "output_type": "stream",
     "text": [
      " 95%|█████████▍| 948/1000 [43:37<02:20,  2.70s/it]"
     ]
    },
    {
     "name": "stdout",
     "output_type": "stream",
     "text": [
      "Test MSE: 70.6916, Test MAE: 5.4439, Test R2: 0.0270\n",
      "Epoch 949/1000\n",
      "Train MSE: 61.6575, Train MAE: 4.8818\n"
     ]
    },
    {
     "name": "stderr",
     "output_type": "stream",
     "text": [
      " 95%|█████████▍| 949/1000 [43:40<02:17,  2.69s/it]"
     ]
    },
    {
     "name": "stdout",
     "output_type": "stream",
     "text": [
      "Test MSE: 65.6302, Test MAE: 5.2721, Test R2: 0.1263\n",
      "Epoch 950/1000\n",
      "Train MSE: 59.9441, Train MAE: 4.8246\n"
     ]
    },
    {
     "name": "stderr",
     "output_type": "stream",
     "text": [
      " 95%|█████████▌| 950/1000 [43:43<02:14,  2.69s/it]"
     ]
    },
    {
     "name": "stdout",
     "output_type": "stream",
     "text": [
      "Test MSE: 65.3567, Test MAE: 5.3099, Test R2: 0.1576\n",
      "Epoch 951/1000\n",
      "Train MSE: 58.4103, Train MAE: 4.7739\n"
     ]
    },
    {
     "name": "stderr",
     "output_type": "stream",
     "text": [
      " 95%|█████████▌| 951/1000 [43:45<02:11,  2.69s/it]"
     ]
    },
    {
     "name": "stdout",
     "output_type": "stream",
     "text": [
      "Test MSE: 71.9204, Test MAE: 5.4962, Test R2: -0.1152\n",
      "Epoch 952/1000\n",
      "Train MSE: 59.9046, Train MAE: 4.8625\n"
     ]
    },
    {
     "name": "stderr",
     "output_type": "stream",
     "text": [
      " 95%|█████████▌| 952/1000 [43:48<02:09,  2.69s/it]"
     ]
    },
    {
     "name": "stdout",
     "output_type": "stream",
     "text": [
      "Test MSE: 71.6982, Test MAE: 5.4690, Test R2: 0.0636\n",
      "Epoch 953/1000\n",
      "Train MSE: 58.9534, Train MAE: 4.7917\n"
     ]
    },
    {
     "name": "stderr",
     "output_type": "stream",
     "text": [
      " 95%|█████████▌| 953/1000 [43:51<02:07,  2.70s/it]"
     ]
    },
    {
     "name": "stdout",
     "output_type": "stream",
     "text": [
      "Test MSE: 66.9614, Test MAE: 5.2865, Test R2: 0.1333\n",
      "Epoch 954/1000\n",
      "Train MSE: 60.9016, Train MAE: 4.8522\n"
     ]
    },
    {
     "name": "stderr",
     "output_type": "stream",
     "text": [
      " 95%|█████████▌| 954/1000 [43:53<02:05,  2.74s/it]"
     ]
    },
    {
     "name": "stdout",
     "output_type": "stream",
     "text": [
      "Test MSE: 68.0900, Test MAE: 5.3192, Test R2: 0.0288\n",
      "Epoch 955/1000\n",
      "Train MSE: 61.6060, Train MAE: 4.8565\n"
     ]
    },
    {
     "name": "stderr",
     "output_type": "stream",
     "text": [
      " 96%|█████████▌| 955/1000 [43:56<02:02,  2.72s/it]"
     ]
    },
    {
     "name": "stdout",
     "output_type": "stream",
     "text": [
      "Test MSE: 70.9455, Test MAE: 5.4152, Test R2: -0.1674\n",
      "Epoch 956/1000\n",
      "Train MSE: 60.9581, Train MAE: 4.8247\n"
     ]
    },
    {
     "name": "stderr",
     "output_type": "stream",
     "text": [
      " 96%|█████████▌| 956/1000 [43:59<01:59,  2.71s/it]"
     ]
    },
    {
     "name": "stdout",
     "output_type": "stream",
     "text": [
      "Test MSE: 70.6010, Test MAE: 5.4003, Test R2: -0.1793\n",
      "Epoch 957/1000\n",
      "Train MSE: 60.7369, Train MAE: 4.9077\n"
     ]
    },
    {
     "name": "stderr",
     "output_type": "stream",
     "text": [
      " 96%|█████████▌| 957/1000 [44:02<01:56,  2.70s/it]"
     ]
    },
    {
     "name": "stdout",
     "output_type": "stream",
     "text": [
      "Test MSE: 66.8185, Test MAE: 5.3203, Test R2: -0.0880\n",
      "Epoch 958/1000\n",
      "Train MSE: 59.7825, Train MAE: 4.8159\n"
     ]
    },
    {
     "name": "stderr",
     "output_type": "stream",
     "text": [
      " 96%|█████████▌| 958/1000 [44:04<01:53,  2.70s/it]"
     ]
    },
    {
     "name": "stdout",
     "output_type": "stream",
     "text": [
      "Test MSE: 70.6303, Test MAE: 5.4514, Test R2: -0.0876\n",
      "Epoch 959/1000\n",
      "Train MSE: 60.1394, Train MAE: 4.8133\n"
     ]
    },
    {
     "name": "stderr",
     "output_type": "stream",
     "text": [
      " 96%|█████████▌| 959/1000 [44:07<01:50,  2.70s/it]"
     ]
    },
    {
     "name": "stdout",
     "output_type": "stream",
     "text": [
      "Test MSE: 68.2732, Test MAE: 5.3676, Test R2: 0.0064\n",
      "Epoch 960/1000\n",
      "Train MSE: 59.2738, Train MAE: 4.8138\n"
     ]
    },
    {
     "name": "stderr",
     "output_type": "stream",
     "text": [
      " 96%|█████████▌| 960/1000 [44:10<01:47,  2.69s/it]"
     ]
    },
    {
     "name": "stdout",
     "output_type": "stream",
     "text": [
      "Test MSE: 70.0924, Test MAE: 5.4163, Test R2: 0.0501\n",
      "Epoch 961/1000\n",
      "Train MSE: 61.6214, Train MAE: 4.9075\n"
     ]
    },
    {
     "name": "stderr",
     "output_type": "stream",
     "text": [
      " 96%|█████████▌| 961/1000 [44:12<01:45,  2.71s/it]"
     ]
    },
    {
     "name": "stdout",
     "output_type": "stream",
     "text": [
      "Test MSE: 70.0100, Test MAE: 5.4090, Test R2: 0.2018\n",
      "Epoch 962/1000\n",
      "Train MSE: 59.0667, Train MAE: 4.8401\n"
     ]
    },
    {
     "name": "stderr",
     "output_type": "stream",
     "text": [
      " 96%|█████████▌| 962/1000 [44:15<01:44,  2.74s/it]"
     ]
    },
    {
     "name": "stdout",
     "output_type": "stream",
     "text": [
      "Test MSE: 69.7692, Test MAE: 5.3994, Test R2: 0.0177\n",
      "Epoch 963/1000\n",
      "Train MSE: 60.8838, Train MAE: 4.8474\n"
     ]
    },
    {
     "name": "stderr",
     "output_type": "stream",
     "text": [
      " 96%|█████████▋| 963/1000 [44:18<01:42,  2.76s/it]"
     ]
    },
    {
     "name": "stdout",
     "output_type": "stream",
     "text": [
      "Test MSE: 66.4682, Test MAE: 5.3762, Test R2: -0.2238\n",
      "Epoch 964/1000\n",
      "Train MSE: 60.0638, Train MAE: 4.7941\n"
     ]
    },
    {
     "name": "stderr",
     "output_type": "stream",
     "text": [
      " 96%|█████████▋| 964/1000 [44:21<01:39,  2.76s/it]"
     ]
    },
    {
     "name": "stdout",
     "output_type": "stream",
     "text": [
      "Test MSE: 68.9282, Test MAE: 5.3418, Test R2: 0.0337\n",
      "Epoch 965/1000\n",
      "Train MSE: 61.5587, Train MAE: 4.8839\n"
     ]
    },
    {
     "name": "stderr",
     "output_type": "stream",
     "text": [
      " 96%|█████████▋| 965/1000 [44:23<01:35,  2.73s/it]"
     ]
    },
    {
     "name": "stdout",
     "output_type": "stream",
     "text": [
      "Test MSE: 66.4926, Test MAE: 5.3884, Test R2: 0.1648\n",
      "Epoch 966/1000\n",
      "Train MSE: 60.9316, Train MAE: 4.9051\n"
     ]
    },
    {
     "name": "stderr",
     "output_type": "stream",
     "text": [
      " 97%|█████████▋| 966/1000 [44:26<01:32,  2.72s/it]"
     ]
    },
    {
     "name": "stdout",
     "output_type": "stream",
     "text": [
      "Test MSE: 66.7962, Test MAE: 5.3450, Test R2: 0.0225\n",
      "Epoch 967/1000\n",
      "Train MSE: 58.7997, Train MAE: 4.7979\n"
     ]
    },
    {
     "name": "stderr",
     "output_type": "stream",
     "text": [
      " 97%|█████████▋| 967/1000 [44:29<01:29,  2.72s/it]"
     ]
    },
    {
     "name": "stdout",
     "output_type": "stream",
     "text": [
      "Test MSE: 70.8494, Test MAE: 5.4309, Test R2: -0.0131\n",
      "Epoch 968/1000\n",
      "Train MSE: 61.9670, Train MAE: 4.8429\n"
     ]
    },
    {
     "name": "stderr",
     "output_type": "stream",
     "text": [
      " 97%|█████████▋| 968/1000 [44:31<01:26,  2.70s/it]"
     ]
    },
    {
     "name": "stdout",
     "output_type": "stream",
     "text": [
      "Test MSE: 71.2734, Test MAE: 5.4222, Test R2: 0.0542\n",
      "Epoch 969/1000\n",
      "Train MSE: 61.4797, Train MAE: 4.8551\n"
     ]
    },
    {
     "name": "stderr",
     "output_type": "stream",
     "text": [
      " 97%|█████████▋| 969/1000 [44:34<01:23,  2.70s/it]"
     ]
    },
    {
     "name": "stdout",
     "output_type": "stream",
     "text": [
      "Test MSE: 69.9934, Test MAE: 5.4672, Test R2: 0.1381\n",
      "Epoch 970/1000\n",
      "Train MSE: 63.0942, Train MAE: 4.8889\n"
     ]
    },
    {
     "name": "stderr",
     "output_type": "stream",
     "text": [
      " 97%|█████████▋| 970/1000 [44:37<01:20,  2.70s/it]"
     ]
    },
    {
     "name": "stdout",
     "output_type": "stream",
     "text": [
      "Test MSE: 69.8058, Test MAE: 5.4775, Test R2: 0.1736\n",
      "Epoch 971/1000\n",
      "Train MSE: 58.7776, Train MAE: 4.8129\n"
     ]
    },
    {
     "name": "stderr",
     "output_type": "stream",
     "text": [
      " 97%|█████████▋| 971/1000 [44:40<01:18,  2.70s/it]"
     ]
    },
    {
     "name": "stdout",
     "output_type": "stream",
     "text": [
      "Test MSE: 70.7182, Test MAE: 5.3986, Test R2: -0.0467\n",
      "Epoch 972/1000\n",
      "Train MSE: 60.0085, Train MAE: 4.8434\n"
     ]
    },
    {
     "name": "stderr",
     "output_type": "stream",
     "text": [
      " 97%|█████████▋| 972/1000 [44:42<01:15,  2.70s/it]"
     ]
    },
    {
     "name": "stdout",
     "output_type": "stream",
     "text": [
      "Test MSE: 68.3702, Test MAE: 5.3664, Test R2: -0.2123\n",
      "Epoch 973/1000\n",
      "Train MSE: 59.8485, Train MAE: 4.8303\n"
     ]
    },
    {
     "name": "stderr",
     "output_type": "stream",
     "text": [
      " 97%|█████████▋| 973/1000 [44:45<01:13,  2.70s/it]"
     ]
    },
    {
     "name": "stdout",
     "output_type": "stream",
     "text": [
      "Test MSE: 68.6948, Test MAE: 5.3958, Test R2: -0.1015\n",
      "Epoch 974/1000\n",
      "Train MSE: 61.0456, Train MAE: 4.9209\n"
     ]
    },
    {
     "name": "stderr",
     "output_type": "stream",
     "text": [
      " 97%|█████████▋| 974/1000 [44:48<01:10,  2.70s/it]"
     ]
    },
    {
     "name": "stdout",
     "output_type": "stream",
     "text": [
      "Test MSE: 65.6161, Test MAE: 5.3449, Test R2: -0.1227\n",
      "Epoch 975/1000\n",
      "Train MSE: 59.6256, Train MAE: 4.8185\n"
     ]
    },
    {
     "name": "stderr",
     "output_type": "stream",
     "text": [
      " 98%|█████████▊| 975/1000 [44:50<01:07,  2.70s/it]"
     ]
    },
    {
     "name": "stdout",
     "output_type": "stream",
     "text": [
      "Test MSE: 66.0179, Test MAE: 5.3363, Test R2: -0.1208\n",
      "Epoch 976/1000\n",
      "Train MSE: 59.8718, Train MAE: 4.8585\n"
     ]
    },
    {
     "name": "stderr",
     "output_type": "stream",
     "text": [
      " 98%|█████████▊| 976/1000 [44:53<01:04,  2.70s/it]"
     ]
    },
    {
     "name": "stdout",
     "output_type": "stream",
     "text": [
      "Test MSE: 68.5476, Test MAE: 5.3529, Test R2: -0.0364\n",
      "Epoch 977/1000\n",
      "Train MSE: 62.6580, Train MAE: 4.9138\n"
     ]
    },
    {
     "name": "stderr",
     "output_type": "stream",
     "text": [
      " 98%|█████████▊| 977/1000 [44:56<01:01,  2.70s/it]"
     ]
    },
    {
     "name": "stdout",
     "output_type": "stream",
     "text": [
      "Test MSE: 69.2006, Test MAE: 5.4422, Test R2: -0.2372\n",
      "Epoch 978/1000\n",
      "Train MSE: 59.5976, Train MAE: 4.8430\n"
     ]
    },
    {
     "name": "stderr",
     "output_type": "stream",
     "text": [
      " 98%|█████████▊| 978/1000 [44:58<00:59,  2.70s/it]"
     ]
    },
    {
     "name": "stdout",
     "output_type": "stream",
     "text": [
      "Test MSE: 69.3330, Test MAE: 5.2917, Test R2: -1.2815\n",
      "Epoch 979/1000\n",
      "Train MSE: 61.8442, Train MAE: 4.8428\n"
     ]
    },
    {
     "name": "stderr",
     "output_type": "stream",
     "text": [
      " 98%|█████████▊| 979/1000 [45:01<00:56,  2.70s/it]"
     ]
    },
    {
     "name": "stdout",
     "output_type": "stream",
     "text": [
      "Test MSE: 69.8027, Test MAE: 5.3678, Test R2: -0.0279\n",
      "Epoch 980/1000\n",
      "Train MSE: 63.4585, Train MAE: 4.8817\n"
     ]
    },
    {
     "name": "stderr",
     "output_type": "stream",
     "text": [
      " 98%|█████████▊| 980/1000 [45:04<00:53,  2.70s/it]"
     ]
    },
    {
     "name": "stdout",
     "output_type": "stream",
     "text": [
      "Test MSE: 70.8205, Test MAE: 5.3909, Test R2: -0.2147\n",
      "Epoch 981/1000\n",
      "Train MSE: 60.5338, Train MAE: 4.8164\n"
     ]
    },
    {
     "name": "stderr",
     "output_type": "stream",
     "text": [
      " 98%|█████████▊| 981/1000 [45:07<00:51,  2.70s/it]"
     ]
    },
    {
     "name": "stdout",
     "output_type": "stream",
     "text": [
      "Test MSE: 67.1887, Test MAE: 5.3866, Test R2: 0.0337\n",
      "Epoch 982/1000\n",
      "Train MSE: 60.3593, Train MAE: 4.8457\n"
     ]
    },
    {
     "name": "stderr",
     "output_type": "stream",
     "text": [
      " 98%|█████████▊| 982/1000 [45:09<00:48,  2.70s/it]"
     ]
    },
    {
     "name": "stdout",
     "output_type": "stream",
     "text": [
      "Test MSE: 69.1601, Test MAE: 5.4286, Test R2: -0.2281\n",
      "Epoch 983/1000\n",
      "Train MSE: 61.2625, Train MAE: 4.8678\n"
     ]
    },
    {
     "name": "stderr",
     "output_type": "stream",
     "text": [
      " 98%|█████████▊| 983/1000 [45:12<00:46,  2.71s/it]"
     ]
    },
    {
     "name": "stdout",
     "output_type": "stream",
     "text": [
      "Test MSE: 66.8223, Test MAE: 5.3107, Test R2: -0.1562\n",
      "Epoch 984/1000\n",
      "Train MSE: 59.5726, Train MAE: 4.7921\n"
     ]
    },
    {
     "name": "stderr",
     "output_type": "stream",
     "text": [
      " 98%|█████████▊| 984/1000 [45:15<00:43,  2.71s/it]"
     ]
    },
    {
     "name": "stdout",
     "output_type": "stream",
     "text": [
      "Test MSE: 67.4572, Test MAE: 5.3602, Test R2: -0.0499\n",
      "Epoch 985/1000\n",
      "Train MSE: 59.1527, Train MAE: 4.8240\n"
     ]
    },
    {
     "name": "stderr",
     "output_type": "stream",
     "text": [
      " 98%|█████████▊| 985/1000 [45:17<00:40,  2.70s/it]"
     ]
    },
    {
     "name": "stdout",
     "output_type": "stream",
     "text": [
      "Test MSE: 70.8540, Test MAE: 5.3793, Test R2: -0.3835\n",
      "Epoch 986/1000\n",
      "Train MSE: 60.6319, Train MAE: 4.8130\n"
     ]
    },
    {
     "name": "stderr",
     "output_type": "stream",
     "text": [
      " 99%|█████████▊| 986/1000 [45:20<00:37,  2.70s/it]"
     ]
    },
    {
     "name": "stdout",
     "output_type": "stream",
     "text": [
      "Test MSE: 67.7703, Test MAE: 5.2841, Test R2: 0.0041\n",
      "Epoch 987/1000\n",
      "Train MSE: 58.5164, Train MAE: 4.7785\n"
     ]
    },
    {
     "name": "stderr",
     "output_type": "stream",
     "text": [
      " 99%|█████████▊| 987/1000 [45:23<00:35,  2.70s/it]"
     ]
    },
    {
     "name": "stdout",
     "output_type": "stream",
     "text": [
      "Test MSE: 66.5315, Test MAE: 5.3349, Test R2: -0.0564\n",
      "Epoch 988/1000\n",
      "Train MSE: 59.5202, Train MAE: 4.8104\n"
     ]
    },
    {
     "name": "stderr",
     "output_type": "stream",
     "text": [
      " 99%|█████████▉| 988/1000 [45:25<00:32,  2.69s/it]"
     ]
    },
    {
     "name": "stdout",
     "output_type": "stream",
     "text": [
      "Test MSE: 67.2677, Test MAE: 5.3025, Test R2: -0.0449\n",
      "Epoch 989/1000\n",
      "Train MSE: 60.1609, Train MAE: 4.8721\n"
     ]
    },
    {
     "name": "stderr",
     "output_type": "stream",
     "text": [
      " 99%|█████████▉| 989/1000 [45:28<00:29,  2.70s/it]"
     ]
    },
    {
     "name": "stdout",
     "output_type": "stream",
     "text": [
      "Test MSE: 67.0126, Test MAE: 5.3178, Test R2: -0.0716\n",
      "Epoch 990/1000\n",
      "Train MSE: 59.5671, Train MAE: 4.8309\n"
     ]
    },
    {
     "name": "stderr",
     "output_type": "stream",
     "text": [
      " 99%|█████████▉| 990/1000 [45:31<00:26,  2.70s/it]"
     ]
    },
    {
     "name": "stdout",
     "output_type": "stream",
     "text": [
      "Test MSE: 73.2322, Test MAE: 5.4989, Test R2: -0.4043\n",
      "Epoch 991/1000\n",
      "Train MSE: 58.6609, Train MAE: 4.8185\n"
     ]
    },
    {
     "name": "stderr",
     "output_type": "stream",
     "text": [
      " 99%|█████████▉| 991/1000 [45:34<00:24,  2.69s/it]"
     ]
    },
    {
     "name": "stdout",
     "output_type": "stream",
     "text": [
      "Test MSE: 67.9445, Test MAE: 5.3428, Test R2: -0.3089\n",
      "Epoch 992/1000\n",
      "Train MSE: 61.6707, Train MAE: 4.9113\n"
     ]
    },
    {
     "name": "stderr",
     "output_type": "stream",
     "text": [
      " 99%|█████████▉| 992/1000 [45:36<00:21,  2.69s/it]"
     ]
    },
    {
     "name": "stdout",
     "output_type": "stream",
     "text": [
      "Test MSE: 69.6894, Test MAE: 5.3396, Test R2: -0.5969\n",
      "Epoch 993/1000\n",
      "Train MSE: 58.7171, Train MAE: 4.7985\n"
     ]
    },
    {
     "name": "stderr",
     "output_type": "stream",
     "text": [
      " 99%|█████████▉| 993/1000 [45:39<00:18,  2.69s/it]"
     ]
    },
    {
     "name": "stdout",
     "output_type": "stream",
     "text": [
      "Test MSE: 68.8380, Test MAE: 5.3458, Test R2: -0.1875\n",
      "Epoch 994/1000\n",
      "Train MSE: 63.0441, Train MAE: 4.8964\n"
     ]
    },
    {
     "name": "stderr",
     "output_type": "stream",
     "text": [
      " 99%|█████████▉| 994/1000 [45:42<00:16,  2.69s/it]"
     ]
    },
    {
     "name": "stdout",
     "output_type": "stream",
     "text": [
      "Test MSE: 73.7943, Test MAE: 5.4781, Test R2: -0.1782\n",
      "Epoch 995/1000\n",
      "Train MSE: 61.0275, Train MAE: 4.8597\n"
     ]
    },
    {
     "name": "stderr",
     "output_type": "stream",
     "text": [
      "100%|█████████▉| 995/1000 [45:44<00:13,  2.70s/it]"
     ]
    },
    {
     "name": "stdout",
     "output_type": "stream",
     "text": [
      "Test MSE: 75.2057, Test MAE: 5.4611, Test R2: -0.0871\n",
      "Epoch 996/1000\n",
      "Train MSE: 63.3205, Train MAE: 4.8484\n"
     ]
    },
    {
     "name": "stderr",
     "output_type": "stream",
     "text": [
      "100%|█████████▉| 996/1000 [45:47<00:10,  2.70s/it]"
     ]
    },
    {
     "name": "stdout",
     "output_type": "stream",
     "text": [
      "Test MSE: 72.1728, Test MAE: 5.4631, Test R2: 0.1559\n",
      "Epoch 997/1000\n",
      "Train MSE: 60.3279, Train MAE: 4.8874\n"
     ]
    },
    {
     "name": "stderr",
     "output_type": "stream",
     "text": [
      "100%|█████████▉| 997/1000 [45:50<00:08,  2.74s/it]"
     ]
    },
    {
     "name": "stdout",
     "output_type": "stream",
     "text": [
      "Test MSE: 66.3603, Test MAE: 5.3548, Test R2: -0.0072\n",
      "Epoch 998/1000\n",
      "Train MSE: 62.2262, Train MAE: 4.8296\n"
     ]
    },
    {
     "name": "stderr",
     "output_type": "stream",
     "text": [
      "100%|█████████▉| 998/1000 [45:53<00:05,  2.75s/it]"
     ]
    },
    {
     "name": "stdout",
     "output_type": "stream",
     "text": [
      "Test MSE: 65.9653, Test MAE: 5.2708, Test R2: -0.1420\n",
      "Epoch 999/1000\n",
      "Train MSE: 58.5325, Train MAE: 4.7960\n"
     ]
    },
    {
     "name": "stderr",
     "output_type": "stream",
     "text": [
      "100%|█████████▉| 999/1000 [45:55<00:02,  2.74s/it]"
     ]
    },
    {
     "name": "stdout",
     "output_type": "stream",
     "text": [
      "Test MSE: 68.7456, Test MAE: 5.3449, Test R2: -0.0779\n",
      "Epoch 1000/1000\n",
      "Train MSE: 61.6923, Train MAE: 4.8620\n"
     ]
    },
    {
     "name": "stderr",
     "output_type": "stream",
     "text": [
      "100%|██████████| 1000/1000 [45:58<00:00,  2.76s/it]"
     ]
    },
    {
     "name": "stdout",
     "output_type": "stream",
     "text": [
      "Test MSE: 66.1523, Test MAE: 5.2970, Test R2: 0.0290\n"
     ]
    },
    {
     "name": "stderr",
     "output_type": "stream",
     "text": [
      "\n"
     ]
    }
   ],
   "source": [
    "accelerator = accelerate.Accelerator()\n",
    "model = GCN(4, 64, 256, 2, 2, 0.3)\n",
    "name = \"testRun2\"\n",
    "writer_dir = \"../tensorboard/\"+name\n",
    "epochs = 1000\n",
    "# train model\n",
    "train_model(model, name, train_loader, test_loader, epochs, accelerator, writer_dir, lr=0.001)\n",
    "\n"
   ]
  },
  {
   "cell_type": "code",
   "execution_count": null,
   "metadata": {},
   "outputs": [],
   "source": []
  }
 ],
 "metadata": {
  "kernelspec": {
   "display_name": "GNN",
   "language": "python",
   "name": "python3"
  },
  "language_info": {
   "codemirror_mode": {
    "name": "ipython",
    "version": 3
   },
   "file_extension": ".py",
   "mimetype": "text/x-python",
   "name": "python",
   "nbconvert_exporter": "python",
   "pygments_lexer": "ipython3",
   "version": "3.9.17"
  },
  "orig_nbformat": 4
 },
 "nbformat": 4,
 "nbformat_minor": 2
}
