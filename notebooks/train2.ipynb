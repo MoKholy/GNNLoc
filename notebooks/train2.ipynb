{
 "cells": [
  {
   "cell_type": "code",
   "execution_count": 1,
   "metadata": {},
   "outputs": [],
   "source": [
    "import accelerate\n",
    "import sys\n",
    "sys.path.append(\"../scripts\")"
   ]
  },
  {
   "cell_type": "code",
   "execution_count": 2,
   "metadata": {},
   "outputs": [],
   "source": [
    "import pandas as pd"
   ]
  },
  {
   "cell_type": "code",
   "execution_count": 3,
   "metadata": {},
   "outputs": [],
   "source": [
    "# load dataframe\n",
    "from train import load_dataset\n",
    "\n",
    "train_loader, _ = load_dataset(name=\"HCXYtrain\", k = 5, batch_size=32, train_ratio=1.0, test_ratio=0.0)\n",
    "\n",
    "test_loader, _ = load_dataset(name=\"HCXYtest\", k=5, batch_size=32, train_ratio=1.0, test_ratio=0.0)"
   ]
  },
  {
   "cell_type": "code",
   "execution_count": 4,
   "metadata": {},
   "outputs": [
    {
     "name": "stdout",
     "output_type": "stream",
     "text": [
      "2\n"
     ]
    },
    {
     "name": "stderr",
     "output_type": "stream",
     "text": [
      "  0%|          | 0/1000 [00:00<?, ?it/s]"
     ]
    },
    {
     "name": "stdout",
     "output_type": "stream",
     "text": [
      "Epoch 1/1000\n",
      "Train MSE: 1126.7351, Train MAE: 23.9209\n"
     ]
    },
    {
     "name": "stderr",
     "output_type": "stream",
     "text": [
      "  0%|          | 1/1000 [00:04<1:13:50,  4.43s/it]"
     ]
    },
    {
     "name": "stdout",
     "output_type": "stream",
     "text": [
      "Test MSE: 868.8672, Test MAE: 20.4547, Test R2: 0.4528\n",
      "Epoch 2/1000\n",
      "Train MSE: 821.2411, Train MAE: 20.3989\n"
     ]
    },
    {
     "name": "stderr",
     "output_type": "stream",
     "text": [
      "  0%|          | 2/1000 [00:08<1:09:47,  4.20s/it]"
     ]
    },
    {
     "name": "stdout",
     "output_type": "stream",
     "text": [
      "Test MSE: 751.0757, Test MAE: 18.5700, Test R2: 0.5166\n",
      "Epoch 3/1000\n",
      "Train MSE: 752.1433, Train MAE: 18.8215\n"
     ]
    },
    {
     "name": "stderr",
     "output_type": "stream",
     "text": [
      "  0%|          | 3/1000 [00:12<1:07:49,  4.08s/it]"
     ]
    },
    {
     "name": "stdout",
     "output_type": "stream",
     "text": [
      "Test MSE: 701.8452, Test MAE: 17.6265, Test R2: 0.5679\n",
      "Epoch 4/1000\n",
      "Train MSE: 711.2803, Train MAE: 18.1300\n"
     ]
    },
    {
     "name": "stderr",
     "output_type": "stream",
     "text": [
      "  0%|          | 4/1000 [00:16<1:07:46,  4.08s/it]"
     ]
    },
    {
     "name": "stdout",
     "output_type": "stream",
     "text": [
      "Test MSE: 698.9975, Test MAE: 16.9712, Test R2: 0.5824\n",
      "Epoch 5/1000\n",
      "Train MSE: 693.0085, Train MAE: 17.7214\n"
     ]
    },
    {
     "name": "stderr",
     "output_type": "stream",
     "text": [
      "  0%|          | 5/1000 [00:20<1:07:10,  4.05s/it]"
     ]
    },
    {
     "name": "stdout",
     "output_type": "stream",
     "text": [
      "Test MSE: 648.8649, Test MAE: 16.3352, Test R2: 0.6185\n",
      "Epoch 6/1000\n",
      "Train MSE: 667.4987, Train MAE: 17.2648\n"
     ]
    },
    {
     "name": "stderr",
     "output_type": "stream",
     "text": [
      "  1%|          | 6/1000 [00:24<1:07:49,  4.09s/it]"
     ]
    },
    {
     "name": "stdout",
     "output_type": "stream",
     "text": [
      "Test MSE: 617.5314, Test MAE: 16.1080, Test R2: 0.6374\n",
      "Epoch 7/1000\n",
      "Train MSE: 653.2604, Train MAE: 17.0340\n"
     ]
    },
    {
     "name": "stderr",
     "output_type": "stream",
     "text": [
      "  1%|          | 7/1000 [00:28<1:07:12,  4.06s/it]"
     ]
    },
    {
     "name": "stdout",
     "output_type": "stream",
     "text": [
      "Test MSE: 586.7547, Test MAE: 15.8822, Test R2: 0.6534\n",
      "Epoch 8/1000\n",
      "Train MSE: 632.9034, Train MAE: 16.6798\n"
     ]
    },
    {
     "name": "stderr",
     "output_type": "stream",
     "text": [
      "  1%|          | 8/1000 [00:32<1:06:52,  4.04s/it]"
     ]
    },
    {
     "name": "stdout",
     "output_type": "stream",
     "text": [
      "Test MSE: 584.3410, Test MAE: 15.3947, Test R2: 0.6657\n",
      "Epoch 9/1000\n",
      "Train MSE: 618.8188, Train MAE: 16.5175\n"
     ]
    },
    {
     "name": "stderr",
     "output_type": "stream",
     "text": [
      "  1%|          | 9/1000 [00:36<1:05:58,  3.99s/it]"
     ]
    },
    {
     "name": "stdout",
     "output_type": "stream",
     "text": [
      "Test MSE: 545.0505, Test MAE: 15.0833, Test R2: 0.6813\n",
      "Epoch 10/1000\n",
      "Train MSE: 592.4038, Train MAE: 16.0690\n"
     ]
    },
    {
     "name": "stderr",
     "output_type": "stream",
     "text": [
      "  1%|          | 10/1000 [00:40<1:05:06,  3.95s/it]"
     ]
    },
    {
     "name": "stdout",
     "output_type": "stream",
     "text": [
      "Test MSE: 511.6221, Test MAE: 15.1339, Test R2: 0.6943\n",
      "Epoch 11/1000\n",
      "Train MSE: 567.8846, Train MAE: 15.7535\n"
     ]
    },
    {
     "name": "stderr",
     "output_type": "stream",
     "text": [
      "  1%|          | 11/1000 [00:44<1:04:47,  3.93s/it]"
     ]
    },
    {
     "name": "stdout",
     "output_type": "stream",
     "text": [
      "Test MSE: 489.4492, Test MAE: 14.2151, Test R2: 0.7056\n",
      "Epoch 12/1000\n",
      "Train MSE: 545.6083, Train MAE: 15.4116\n"
     ]
    },
    {
     "name": "stderr",
     "output_type": "stream",
     "text": [
      "  1%|          | 12/1000 [00:48<1:05:39,  3.99s/it]"
     ]
    },
    {
     "name": "stdout",
     "output_type": "stream",
     "text": [
      "Test MSE: 442.6326, Test MAE: 13.7935, Test R2: 0.7302\n",
      "Epoch 13/1000\n",
      "Train MSE: 526.6395, Train MAE: 15.1476\n"
     ]
    },
    {
     "name": "stderr",
     "output_type": "stream",
     "text": [
      "  1%|▏         | 13/1000 [00:52<1:05:35,  3.99s/it]"
     ]
    },
    {
     "name": "stdout",
     "output_type": "stream",
     "text": [
      "Test MSE: 414.0307, Test MAE: 12.9889, Test R2: 0.7443\n",
      "Epoch 14/1000\n",
      "Train MSE: 506.0741, Train MAE: 14.8152\n"
     ]
    },
    {
     "name": "stderr",
     "output_type": "stream",
     "text": [
      "  1%|▏         | 14/1000 [00:56<1:05:14,  3.97s/it]"
     ]
    },
    {
     "name": "stdout",
     "output_type": "stream",
     "text": [
      "Test MSE: 416.2784, Test MAE: 13.2142, Test R2: 0.7431\n",
      "Epoch 15/1000\n",
      "Train MSE: 489.9546, Train MAE: 14.5392\n"
     ]
    },
    {
     "name": "stderr",
     "output_type": "stream",
     "text": [
      "  2%|▏         | 15/1000 [01:00<1:04:39,  3.94s/it]"
     ]
    },
    {
     "name": "stdout",
     "output_type": "stream",
     "text": [
      "Test MSE: 404.9806, Test MAE: 13.0301, Test R2: 0.7416\n",
      "Epoch 16/1000\n",
      "Train MSE: 503.6556, Train MAE: 14.6183\n"
     ]
    },
    {
     "name": "stderr",
     "output_type": "stream",
     "text": [
      "  2%|▏         | 16/1000 [01:04<1:04:52,  3.96s/it]"
     ]
    },
    {
     "name": "stdout",
     "output_type": "stream",
     "text": [
      "Test MSE: 388.8115, Test MAE: 12.9429, Test R2: 0.7476\n",
      "Epoch 17/1000\n",
      "Train MSE: 487.3177, Train MAE: 14.3123\n"
     ]
    },
    {
     "name": "stderr",
     "output_type": "stream",
     "text": [
      "  2%|▏         | 17/1000 [01:07<1:04:02,  3.91s/it]"
     ]
    },
    {
     "name": "stdout",
     "output_type": "stream",
     "text": [
      "Test MSE: 393.8094, Test MAE: 12.5398, Test R2: 0.7542\n",
      "Epoch 18/1000\n",
      "Train MSE: 476.0961, Train MAE: 14.0379\n"
     ]
    },
    {
     "name": "stderr",
     "output_type": "stream",
     "text": [
      "  2%|▏         | 18/1000 [01:11<1:03:29,  3.88s/it]"
     ]
    },
    {
     "name": "stdout",
     "output_type": "stream",
     "text": [
      "Test MSE: 371.0493, Test MAE: 12.3753, Test R2: 0.7665\n",
      "Epoch 19/1000\n",
      "Train MSE: 476.4944, Train MAE: 14.0676\n"
     ]
    },
    {
     "name": "stderr",
     "output_type": "stream",
     "text": [
      "  2%|▏         | 19/1000 [01:15<1:02:58,  3.85s/it]"
     ]
    },
    {
     "name": "stdout",
     "output_type": "stream",
     "text": [
      "Test MSE: 372.7256, Test MAE: 12.2613, Test R2: 0.7597\n",
      "Epoch 20/1000\n",
      "Train MSE: 466.3799, Train MAE: 13.8419\n"
     ]
    },
    {
     "name": "stderr",
     "output_type": "stream",
     "text": [
      "  2%|▏         | 20/1000 [01:19<1:02:24,  3.82s/it]"
     ]
    },
    {
     "name": "stdout",
     "output_type": "stream",
     "text": [
      "Test MSE: 373.5866, Test MAE: 11.8808, Test R2: 0.7654\n",
      "Epoch 21/1000\n",
      "Train MSE: 462.9190, Train MAE: 13.7369\n"
     ]
    },
    {
     "name": "stderr",
     "output_type": "stream",
     "text": [
      "  2%|▏         | 21/1000 [01:23<1:02:18,  3.82s/it]"
     ]
    },
    {
     "name": "stdout",
     "output_type": "stream",
     "text": [
      "Test MSE: 360.5065, Test MAE: 11.9122, Test R2: 0.7678\n",
      "Epoch 22/1000\n",
      "Train MSE: 461.3980, Train MAE: 13.6984\n"
     ]
    },
    {
     "name": "stderr",
     "output_type": "stream",
     "text": [
      "  2%|▏         | 22/1000 [01:26<1:01:57,  3.80s/it]"
     ]
    },
    {
     "name": "stdout",
     "output_type": "stream",
     "text": [
      "Test MSE: 359.2525, Test MAE: 11.4040, Test R2: 0.7740\n",
      "Epoch 23/1000\n",
      "Train MSE: 444.7942, Train MAE: 13.4200\n"
     ]
    },
    {
     "name": "stderr",
     "output_type": "stream",
     "text": [
      "  2%|▏         | 23/1000 [01:30<1:01:35,  3.78s/it]"
     ]
    },
    {
     "name": "stdout",
     "output_type": "stream",
     "text": [
      "Test MSE: 358.9104, Test MAE: 11.9994, Test R2: 0.7639\n",
      "Epoch 24/1000\n",
      "Train MSE: 447.4224, Train MAE: 13.4258\n"
     ]
    },
    {
     "name": "stderr",
     "output_type": "stream",
     "text": [
      "  2%|▏         | 24/1000 [01:34<1:01:26,  3.78s/it]"
     ]
    },
    {
     "name": "stdout",
     "output_type": "stream",
     "text": [
      "Test MSE: 340.8305, Test MAE: 11.2493, Test R2: 0.7782\n",
      "Epoch 25/1000\n",
      "Train MSE: 441.4223, Train MAE: 13.2509\n"
     ]
    },
    {
     "name": "stderr",
     "output_type": "stream",
     "text": [
      "  2%|▎         | 25/1000 [01:38<1:01:43,  3.80s/it]"
     ]
    },
    {
     "name": "stdout",
     "output_type": "stream",
     "text": [
      "Test MSE: 350.3425, Test MAE: 11.4165, Test R2: 0.7640\n",
      "Epoch 26/1000\n",
      "Train MSE: 442.1771, Train MAE: 13.2305\n"
     ]
    },
    {
     "name": "stderr",
     "output_type": "stream",
     "text": [
      "  3%|▎         | 26/1000 [01:42<1:02:08,  3.83s/it]"
     ]
    },
    {
     "name": "stdout",
     "output_type": "stream",
     "text": [
      "Test MSE: 352.7201, Test MAE: 11.7106, Test R2: 0.7672\n",
      "Epoch 27/1000\n",
      "Train MSE: 428.3845, Train MAE: 13.0621\n"
     ]
    },
    {
     "name": "stderr",
     "output_type": "stream",
     "text": [
      "  3%|▎         | 27/1000 [01:46<1:02:21,  3.85s/it]"
     ]
    },
    {
     "name": "stdout",
     "output_type": "stream",
     "text": [
      "Test MSE: 351.5177, Test MAE: 11.1445, Test R2: 0.7732\n",
      "Epoch 28/1000\n",
      "Train MSE: 431.3567, Train MAE: 13.0222\n"
     ]
    },
    {
     "name": "stderr",
     "output_type": "stream",
     "text": [
      "  3%|▎         | 28/1000 [01:49<1:02:09,  3.84s/it]"
     ]
    },
    {
     "name": "stdout",
     "output_type": "stream",
     "text": [
      "Test MSE: 337.7622, Test MAE: 11.3791, Test R2: 0.7791\n",
      "Epoch 29/1000\n",
      "Train MSE: 421.3709, Train MAE: 12.8915\n"
     ]
    },
    {
     "name": "stderr",
     "output_type": "stream",
     "text": [
      "  3%|▎         | 29/1000 [01:53<1:01:56,  3.83s/it]"
     ]
    },
    {
     "name": "stdout",
     "output_type": "stream",
     "text": [
      "Test MSE: 334.3478, Test MAE: 10.9748, Test R2: 0.7830\n",
      "Epoch 30/1000\n",
      "Train MSE: 411.4481, Train MAE: 12.7310\n"
     ]
    },
    {
     "name": "stderr",
     "output_type": "stream",
     "text": [
      "  3%|▎         | 30/1000 [01:57<1:01:27,  3.80s/it]"
     ]
    },
    {
     "name": "stdout",
     "output_type": "stream",
     "text": [
      "Test MSE: 321.4682, Test MAE: 11.0987, Test R2: 0.7873\n",
      "Epoch 31/1000\n",
      "Train MSE: 415.7103, Train MAE: 12.7868\n"
     ]
    },
    {
     "name": "stderr",
     "output_type": "stream",
     "text": [
      "  3%|▎         | 31/1000 [02:01<1:02:05,  3.84s/it]"
     ]
    },
    {
     "name": "stdout",
     "output_type": "stream",
     "text": [
      "Test MSE: 350.1743, Test MAE: 11.6077, Test R2: 0.7738\n",
      "Epoch 32/1000\n",
      "Train MSE: 413.0821, Train MAE: 12.6797\n"
     ]
    },
    {
     "name": "stderr",
     "output_type": "stream",
     "text": [
      "  3%|▎         | 32/1000 [02:05<1:02:19,  3.86s/it]"
     ]
    },
    {
     "name": "stdout",
     "output_type": "stream",
     "text": [
      "Test MSE: 328.9377, Test MAE: 10.9755, Test R2: 0.7827\n",
      "Epoch 33/1000\n",
      "Train MSE: 405.0713, Train MAE: 12.5808\n"
     ]
    },
    {
     "name": "stderr",
     "output_type": "stream",
     "text": [
      "  3%|▎         | 33/1000 [02:09<1:02:41,  3.89s/it]"
     ]
    },
    {
     "name": "stdout",
     "output_type": "stream",
     "text": [
      "Test MSE: 314.9563, Test MAE: 10.6841, Test R2: 0.7872\n",
      "Epoch 34/1000\n",
      "Train MSE: 397.1977, Train MAE: 12.4108\n"
     ]
    },
    {
     "name": "stderr",
     "output_type": "stream",
     "text": [
      "  3%|▎         | 34/1000 [02:13<1:02:32,  3.88s/it]"
     ]
    },
    {
     "name": "stdout",
     "output_type": "stream",
     "text": [
      "Test MSE: 338.0015, Test MAE: 10.7824, Test R2: 0.7732\n",
      "Epoch 35/1000\n",
      "Train MSE: 404.4175, Train MAE: 12.4939\n"
     ]
    },
    {
     "name": "stderr",
     "output_type": "stream",
     "text": [
      "  4%|▎         | 35/1000 [02:16<1:02:15,  3.87s/it]"
     ]
    },
    {
     "name": "stdout",
     "output_type": "stream",
     "text": [
      "Test MSE: 323.5844, Test MAE: 10.6604, Test R2: 0.7881\n",
      "Epoch 36/1000\n",
      "Train MSE: 387.4912, Train MAE: 12.2437\n"
     ]
    },
    {
     "name": "stderr",
     "output_type": "stream",
     "text": [
      "  4%|▎         | 36/1000 [02:20<1:01:31,  3.83s/it]"
     ]
    },
    {
     "name": "stdout",
     "output_type": "stream",
     "text": [
      "Test MSE: 318.6868, Test MAE: 10.6219, Test R2: 0.7868\n",
      "Epoch 37/1000\n",
      "Train MSE: 384.6223, Train MAE: 12.1613\n"
     ]
    },
    {
     "name": "stderr",
     "output_type": "stream",
     "text": [
      "  4%|▎         | 37/1000 [02:24<1:01:13,  3.81s/it]"
     ]
    },
    {
     "name": "stdout",
     "output_type": "stream",
     "text": [
      "Test MSE: 329.7693, Test MAE: 10.6394, Test R2: 0.7831\n",
      "Epoch 38/1000\n",
      "Train MSE: 384.4759, Train MAE: 12.1079\n"
     ]
    },
    {
     "name": "stderr",
     "output_type": "stream",
     "text": [
      "  4%|▍         | 38/1000 [02:28<1:00:30,  3.77s/it]"
     ]
    },
    {
     "name": "stdout",
     "output_type": "stream",
     "text": [
      "Test MSE: 336.9692, Test MAE: 10.8901, Test R2: 0.7715\n",
      "Epoch 39/1000\n",
      "Train MSE: 386.0992, Train MAE: 12.1893\n"
     ]
    },
    {
     "name": "stderr",
     "output_type": "stream",
     "text": [
      "  4%|▍         | 39/1000 [02:31<1:00:05,  3.75s/it]"
     ]
    },
    {
     "name": "stdout",
     "output_type": "stream",
     "text": [
      "Test MSE: 319.5859, Test MAE: 10.5617, Test R2: 0.7867\n",
      "Epoch 40/1000\n",
      "Train MSE: 379.4388, Train MAE: 12.0335\n"
     ]
    },
    {
     "name": "stderr",
     "output_type": "stream",
     "text": [
      "  4%|▍         | 40/1000 [02:35<1:00:02,  3.75s/it]"
     ]
    },
    {
     "name": "stdout",
     "output_type": "stream",
     "text": [
      "Test MSE: 304.1877, Test MAE: 10.2300, Test R2: 0.7931\n",
      "Epoch 41/1000\n",
      "Train MSE: 377.5657, Train MAE: 11.9991\n"
     ]
    },
    {
     "name": "stderr",
     "output_type": "stream",
     "text": [
      "  4%|▍         | 41/1000 [02:39<1:00:14,  3.77s/it]"
     ]
    },
    {
     "name": "stdout",
     "output_type": "stream",
     "text": [
      "Test MSE: 306.9875, Test MAE: 10.5978, Test R2: 0.7860\n",
      "Epoch 42/1000\n",
      "Train MSE: 379.2009, Train MAE: 12.0328\n"
     ]
    },
    {
     "name": "stderr",
     "output_type": "stream",
     "text": [
      "  4%|▍         | 42/1000 [02:43<1:00:01,  3.76s/it]"
     ]
    },
    {
     "name": "stdout",
     "output_type": "stream",
     "text": [
      "Test MSE: 301.5416, Test MAE: 10.3169, Test R2: 0.8021\n",
      "Epoch 43/1000\n",
      "Train MSE: 384.7666, Train MAE: 12.0382\n"
     ]
    },
    {
     "name": "stderr",
     "output_type": "stream",
     "text": [
      "  4%|▍         | 43/1000 [02:46<59:51,  3.75s/it]  "
     ]
    },
    {
     "name": "stdout",
     "output_type": "stream",
     "text": [
      "Test MSE: 303.4526, Test MAE: 10.3151, Test R2: 0.7914\n",
      "Epoch 44/1000\n",
      "Train MSE: 372.8867, Train MAE: 11.8811\n"
     ]
    },
    {
     "name": "stderr",
     "output_type": "stream",
     "text": [
      "  4%|▍         | 44/1000 [02:50<59:40,  3.74s/it]"
     ]
    },
    {
     "name": "stdout",
     "output_type": "stream",
     "text": [
      "Test MSE: 314.3599, Test MAE: 10.3510, Test R2: 0.7850\n",
      "Epoch 45/1000\n",
      "Train MSE: 370.9366, Train MAE: 11.8087\n"
     ]
    },
    {
     "name": "stderr",
     "output_type": "stream",
     "text": [
      "  4%|▍         | 45/1000 [02:54<59:38,  3.75s/it]"
     ]
    },
    {
     "name": "stdout",
     "output_type": "stream",
     "text": [
      "Test MSE: 315.5129, Test MAE: 10.5676, Test R2: 0.7836\n",
      "Epoch 46/1000\n",
      "Train MSE: 364.9868, Train MAE: 11.7524\n"
     ]
    },
    {
     "name": "stderr",
     "output_type": "stream",
     "text": [
      "  5%|▍         | 46/1000 [02:58<59:51,  3.76s/it]"
     ]
    },
    {
     "name": "stdout",
     "output_type": "stream",
     "text": [
      "Test MSE: 312.4662, Test MAE: 10.2549, Test R2: 0.7870\n",
      "Epoch 47/1000\n",
      "Train MSE: 364.5025, Train MAE: 11.7021\n"
     ]
    },
    {
     "name": "stderr",
     "output_type": "stream",
     "text": [
      "  5%|▍         | 47/1000 [03:01<59:46,  3.76s/it]"
     ]
    },
    {
     "name": "stdout",
     "output_type": "stream",
     "text": [
      "Test MSE: 305.2334, Test MAE: 10.0349, Test R2: 0.7947\n",
      "Epoch 48/1000\n",
      "Train MSE: 363.5857, Train MAE: 11.6914\n"
     ]
    },
    {
     "name": "stderr",
     "output_type": "stream",
     "text": [
      "  5%|▍         | 48/1000 [03:05<59:45,  3.77s/it]"
     ]
    },
    {
     "name": "stdout",
     "output_type": "stream",
     "text": [
      "Test MSE: 295.7247, Test MAE: 9.9424, Test R2: 0.8048\n",
      "Epoch 49/1000\n",
      "Train MSE: 359.7000, Train MAE: 11.6476\n"
     ]
    },
    {
     "name": "stderr",
     "output_type": "stream",
     "text": [
      "  5%|▍         | 49/1000 [03:09<59:43,  3.77s/it]"
     ]
    },
    {
     "name": "stdout",
     "output_type": "stream",
     "text": [
      "Test MSE: 327.2781, Test MAE: 10.9841, Test R2: 0.7779\n",
      "Epoch 50/1000\n",
      "Train MSE: 355.3373, Train MAE: 11.4666\n"
     ]
    },
    {
     "name": "stderr",
     "output_type": "stream",
     "text": [
      "  5%|▌         | 50/1000 [03:13<59:46,  3.78s/it]"
     ]
    },
    {
     "name": "stdout",
     "output_type": "stream",
     "text": [
      "Test MSE: 285.7441, Test MAE: 9.7725, Test R2: 0.7984\n",
      "Epoch 51/1000\n",
      "Train MSE: 353.0090, Train MAE: 11.5156\n"
     ]
    },
    {
     "name": "stderr",
     "output_type": "stream",
     "text": [
      "  5%|▌         | 51/1000 [03:16<59:35,  3.77s/it]"
     ]
    },
    {
     "name": "stdout",
     "output_type": "stream",
     "text": [
      "Test MSE: 299.4915, Test MAE: 10.0736, Test R2: 0.7891\n",
      "Epoch 52/1000\n",
      "Train MSE: 350.9726, Train MAE: 11.4523\n"
     ]
    },
    {
     "name": "stderr",
     "output_type": "stream",
     "text": [
      "  5%|▌         | 52/1000 [03:20<59:35,  3.77s/it]"
     ]
    },
    {
     "name": "stdout",
     "output_type": "stream",
     "text": [
      "Test MSE: 279.7853, Test MAE: 9.5210, Test R2: 0.8096\n",
      "Epoch 53/1000\n",
      "Train MSE: 351.3879, Train MAE: 11.4748\n"
     ]
    },
    {
     "name": "stderr",
     "output_type": "stream",
     "text": [
      "  5%|▌         | 53/1000 [03:24<59:51,  3.79s/it]"
     ]
    },
    {
     "name": "stdout",
     "output_type": "stream",
     "text": [
      "Test MSE: 289.4406, Test MAE: 9.8260, Test R2: 0.8002\n",
      "Epoch 54/1000\n",
      "Train MSE: 352.1021, Train MAE: 11.4478\n"
     ]
    },
    {
     "name": "stderr",
     "output_type": "stream",
     "text": [
      "  5%|▌         | 54/1000 [03:28<59:53,  3.80s/it]"
     ]
    },
    {
     "name": "stdout",
     "output_type": "stream",
     "text": [
      "Test MSE: 290.6209, Test MAE: 10.0031, Test R2: 0.7980\n",
      "Epoch 55/1000\n",
      "Train MSE: 341.4119, Train MAE: 11.2475\n"
     ]
    },
    {
     "name": "stderr",
     "output_type": "stream",
     "text": [
      "  6%|▌         | 55/1000 [03:32<1:00:12,  3.82s/it]"
     ]
    },
    {
     "name": "stdout",
     "output_type": "stream",
     "text": [
      "Test MSE: 279.7699, Test MAE: 9.6972, Test R2: 0.8057\n",
      "Epoch 56/1000\n",
      "Train MSE: 342.8520, Train MAE: 11.3195\n"
     ]
    },
    {
     "name": "stderr",
     "output_type": "stream",
     "text": [
      "  6%|▌         | 56/1000 [03:36<1:00:09,  3.82s/it]"
     ]
    },
    {
     "name": "stdout",
     "output_type": "stream",
     "text": [
      "Test MSE: 261.3744, Test MAE: 9.4053, Test R2: 0.8161\n",
      "Epoch 57/1000\n",
      "Train MSE: 341.8402, Train MAE: 11.2697\n"
     ]
    },
    {
     "name": "stderr",
     "output_type": "stream",
     "text": [
      "  6%|▌         | 57/1000 [03:39<1:00:05,  3.82s/it]"
     ]
    },
    {
     "name": "stdout",
     "output_type": "stream",
     "text": [
      "Test MSE: 287.8045, Test MAE: 9.9155, Test R2: 0.7979\n",
      "Epoch 58/1000\n",
      "Train MSE: 349.6079, Train MAE: 11.3180\n"
     ]
    },
    {
     "name": "stderr",
     "output_type": "stream",
     "text": [
      "  6%|▌         | 58/1000 [03:43<59:52,  3.81s/it]  "
     ]
    },
    {
     "name": "stdout",
     "output_type": "stream",
     "text": [
      "Test MSE: 309.6482, Test MAE: 10.1664, Test R2: 0.7897\n",
      "Epoch 59/1000\n",
      "Train MSE: 341.9884, Train MAE: 11.2242\n"
     ]
    },
    {
     "name": "stderr",
     "output_type": "stream",
     "text": [
      "  6%|▌         | 59/1000 [03:47<59:18,  3.78s/it]"
     ]
    },
    {
     "name": "stdout",
     "output_type": "stream",
     "text": [
      "Test MSE: 267.1222, Test MAE: 9.5564, Test R2: 0.8205\n",
      "Epoch 60/1000\n",
      "Train MSE: 335.2114, Train MAE: 11.0891\n"
     ]
    },
    {
     "name": "stderr",
     "output_type": "stream",
     "text": [
      "  6%|▌         | 60/1000 [03:51<59:01,  3.77s/it]"
     ]
    },
    {
     "name": "stdout",
     "output_type": "stream",
     "text": [
      "Test MSE: 257.3253, Test MAE: 9.2517, Test R2: 0.8184\n",
      "Epoch 61/1000\n",
      "Train MSE: 337.1312, Train MAE: 11.1405\n"
     ]
    },
    {
     "name": "stderr",
     "output_type": "stream",
     "text": [
      "  6%|▌         | 61/1000 [03:54<58:57,  3.77s/it]"
     ]
    },
    {
     "name": "stdout",
     "output_type": "stream",
     "text": [
      "Test MSE: 253.2503, Test MAE: 9.1207, Test R2: 0.8235\n",
      "Epoch 62/1000\n",
      "Train MSE: 332.0867, Train MAE: 11.0251\n"
     ]
    },
    {
     "name": "stderr",
     "output_type": "stream",
     "text": [
      "  6%|▌         | 62/1000 [03:58<59:39,  3.82s/it]"
     ]
    },
    {
     "name": "stdout",
     "output_type": "stream",
     "text": [
      "Test MSE: 248.3310, Test MAE: 8.7552, Test R2: 0.8196\n",
      "Epoch 63/1000\n",
      "Train MSE: 323.6900, Train MAE: 10.8930\n"
     ]
    },
    {
     "name": "stderr",
     "output_type": "stream",
     "text": [
      "  6%|▋         | 63/1000 [04:02<1:00:01,  3.84s/it]"
     ]
    },
    {
     "name": "stdout",
     "output_type": "stream",
     "text": [
      "Test MSE: 248.0545, Test MAE: 9.1393, Test R2: 0.8188\n",
      "Epoch 64/1000\n",
      "Train MSE: 324.2540, Train MAE: 10.9054\n"
     ]
    },
    {
     "name": "stderr",
     "output_type": "stream",
     "text": [
      "  6%|▋         | 64/1000 [04:06<59:31,  3.82s/it]  "
     ]
    },
    {
     "name": "stdout",
     "output_type": "stream",
     "text": [
      "Test MSE: 266.5454, Test MAE: 9.5315, Test R2: 0.8155\n",
      "Epoch 65/1000\n",
      "Train MSE: 322.1231, Train MAE: 10.9725\n"
     ]
    },
    {
     "name": "stderr",
     "output_type": "stream",
     "text": [
      "  6%|▋         | 65/1000 [04:10<59:12,  3.80s/it]"
     ]
    },
    {
     "name": "stdout",
     "output_type": "stream",
     "text": [
      "Test MSE: 227.6583, Test MAE: 8.8961, Test R2: 0.8402\n",
      "Epoch 66/1000\n",
      "Train MSE: 325.3209, Train MAE: 10.9427\n"
     ]
    },
    {
     "name": "stderr",
     "output_type": "stream",
     "text": [
      "  7%|▋         | 66/1000 [04:14<59:07,  3.80s/it]"
     ]
    },
    {
     "name": "stdout",
     "output_type": "stream",
     "text": [
      "Test MSE: 251.6271, Test MAE: 9.2328, Test R2: 0.8213\n",
      "Epoch 67/1000\n",
      "Train MSE: 319.3098, Train MAE: 10.8036\n"
     ]
    },
    {
     "name": "stderr",
     "output_type": "stream",
     "text": [
      "  7%|▋         | 67/1000 [04:17<58:52,  3.79s/it]"
     ]
    },
    {
     "name": "stdout",
     "output_type": "stream",
     "text": [
      "Test MSE: 243.4712, Test MAE: 8.8648, Test R2: 0.8324\n",
      "Epoch 68/1000\n",
      "Train MSE: 312.6429, Train MAE: 10.6906\n"
     ]
    },
    {
     "name": "stderr",
     "output_type": "stream",
     "text": [
      "  7%|▋         | 68/1000 [04:21<58:02,  3.74s/it]"
     ]
    },
    {
     "name": "stdout",
     "output_type": "stream",
     "text": [
      "Test MSE: 223.9429, Test MAE: 8.3968, Test R2: 0.8365\n",
      "Epoch 69/1000\n",
      "Train MSE: 309.8632, Train MAE: 10.6981\n"
     ]
    },
    {
     "name": "stderr",
     "output_type": "stream",
     "text": [
      "  7%|▋         | 69/1000 [04:25<57:29,  3.71s/it]"
     ]
    },
    {
     "name": "stdout",
     "output_type": "stream",
     "text": [
      "Test MSE: 199.4150, Test MAE: 8.2352, Test R2: 0.8596\n",
      "Epoch 70/1000\n",
      "Train MSE: 303.7946, Train MAE: 10.5972\n"
     ]
    },
    {
     "name": "stderr",
     "output_type": "stream",
     "text": [
      "  7%|▋         | 70/1000 [04:28<57:27,  3.71s/it]"
     ]
    },
    {
     "name": "stdout",
     "output_type": "stream",
     "text": [
      "Test MSE: 220.3096, Test MAE: 8.6768, Test R2: 0.8466\n",
      "Epoch 71/1000\n",
      "Train MSE: 310.5662, Train MAE: 10.5936\n"
     ]
    },
    {
     "name": "stderr",
     "output_type": "stream",
     "text": [
      "  7%|▋         | 71/1000 [04:32<57:10,  3.69s/it]"
     ]
    },
    {
     "name": "stdout",
     "output_type": "stream",
     "text": [
      "Test MSE: 231.2697, Test MAE: 8.6706, Test R2: 0.8362\n",
      "Epoch 72/1000\n",
      "Train MSE: 304.3354, Train MAE: 10.5800\n"
     ]
    },
    {
     "name": "stderr",
     "output_type": "stream",
     "text": [
      "  7%|▋         | 72/1000 [04:36<56:49,  3.67s/it]"
     ]
    },
    {
     "name": "stdout",
     "output_type": "stream",
     "text": [
      "Test MSE: 219.4069, Test MAE: 8.3370, Test R2: 0.8397\n",
      "Epoch 73/1000\n",
      "Train MSE: 310.1157, Train MAE: 10.6433\n"
     ]
    },
    {
     "name": "stderr",
     "output_type": "stream",
     "text": [
      "  7%|▋         | 73/1000 [04:39<56:36,  3.66s/it]"
     ]
    },
    {
     "name": "stdout",
     "output_type": "stream",
     "text": [
      "Test MSE: 219.3342, Test MAE: 8.3934, Test R2: 0.8358\n",
      "Epoch 74/1000\n",
      "Train MSE: 303.5799, Train MAE: 10.5132\n"
     ]
    },
    {
     "name": "stderr",
     "output_type": "stream",
     "text": [
      "  7%|▋         | 74/1000 [04:43<56:38,  3.67s/it]"
     ]
    },
    {
     "name": "stdout",
     "output_type": "stream",
     "text": [
      "Test MSE: 210.6449, Test MAE: 8.4441, Test R2: 0.8475\n",
      "Epoch 75/1000\n",
      "Train MSE: 306.3257, Train MAE: 10.5408\n"
     ]
    },
    {
     "name": "stderr",
     "output_type": "stream",
     "text": [
      "  8%|▊         | 75/1000 [04:47<57:03,  3.70s/it]"
     ]
    },
    {
     "name": "stdout",
     "output_type": "stream",
     "text": [
      "Test MSE: 242.3859, Test MAE: 8.9303, Test R2: 0.8322\n",
      "Epoch 76/1000\n",
      "Train MSE: 292.8677, Train MAE: 10.3751\n"
     ]
    },
    {
     "name": "stderr",
     "output_type": "stream",
     "text": [
      "  8%|▊         | 76/1000 [04:50<56:35,  3.67s/it]"
     ]
    },
    {
     "name": "stdout",
     "output_type": "stream",
     "text": [
      "Test MSE: 227.0146, Test MAE: 8.4830, Test R2: 0.8416\n",
      "Epoch 77/1000\n",
      "Train MSE: 294.1843, Train MAE: 10.3563\n"
     ]
    },
    {
     "name": "stderr",
     "output_type": "stream",
     "text": [
      "  8%|▊         | 77/1000 [04:54<56:12,  3.65s/it]"
     ]
    },
    {
     "name": "stdout",
     "output_type": "stream",
     "text": [
      "Test MSE: 198.1786, Test MAE: 8.0190, Test R2: 0.8590\n",
      "Epoch 78/1000\n",
      "Train MSE: 294.4654, Train MAE: 10.3438\n"
     ]
    },
    {
     "name": "stderr",
     "output_type": "stream",
     "text": [
      "  8%|▊         | 78/1000 [04:58<55:52,  3.64s/it]"
     ]
    },
    {
     "name": "stdout",
     "output_type": "stream",
     "text": [
      "Test MSE: 268.1060, Test MAE: 9.4567, Test R2: 0.8166\n",
      "Epoch 79/1000\n",
      "Train MSE: 296.1365, Train MAE: 10.4325\n"
     ]
    },
    {
     "name": "stderr",
     "output_type": "stream",
     "text": [
      "  8%|▊         | 79/1000 [05:01<56:11,  3.66s/it]"
     ]
    },
    {
     "name": "stdout",
     "output_type": "stream",
     "text": [
      "Test MSE: 195.8424, Test MAE: 7.9216, Test R2: 0.8579\n",
      "Epoch 80/1000\n",
      "Train MSE: 294.5195, Train MAE: 10.3277\n"
     ]
    },
    {
     "name": "stderr",
     "output_type": "stream",
     "text": [
      "  8%|▊         | 80/1000 [05:05<56:49,  3.71s/it]"
     ]
    },
    {
     "name": "stdout",
     "output_type": "stream",
     "text": [
      "Test MSE: 225.7989, Test MAE: 8.6055, Test R2: 0.8404\n",
      "Epoch 81/1000\n",
      "Train MSE: 299.2151, Train MAE: 10.3667\n"
     ]
    },
    {
     "name": "stderr",
     "output_type": "stream",
     "text": [
      "  8%|▊         | 81/1000 [05:09<57:13,  3.74s/it]"
     ]
    },
    {
     "name": "stdout",
     "output_type": "stream",
     "text": [
      "Test MSE: 233.8773, Test MAE: 8.5722, Test R2: 0.8305\n",
      "Epoch 82/1000\n",
      "Train MSE: 292.4248, Train MAE: 10.2962\n"
     ]
    },
    {
     "name": "stderr",
     "output_type": "stream",
     "text": [
      "  8%|▊         | 82/1000 [05:13<57:25,  3.75s/it]"
     ]
    },
    {
     "name": "stdout",
     "output_type": "stream",
     "text": [
      "Test MSE: 222.8315, Test MAE: 8.2778, Test R2: 0.8475\n",
      "Epoch 83/1000\n",
      "Train MSE: 289.2273, Train MAE: 10.1925\n"
     ]
    },
    {
     "name": "stderr",
     "output_type": "stream",
     "text": [
      "  8%|▊         | 83/1000 [05:17<57:58,  3.79s/it]"
     ]
    },
    {
     "name": "stdout",
     "output_type": "stream",
     "text": [
      "Test MSE: 220.3793, Test MAE: 8.5040, Test R2: 0.8469\n",
      "Epoch 84/1000\n",
      "Train MSE: 292.5770, Train MAE: 10.2266\n"
     ]
    },
    {
     "name": "stderr",
     "output_type": "stream",
     "text": [
      "  8%|▊         | 84/1000 [05:20<57:48,  3.79s/it]"
     ]
    },
    {
     "name": "stdout",
     "output_type": "stream",
     "text": [
      "Test MSE: 226.7297, Test MAE: 8.1478, Test R2: 0.8488\n",
      "Epoch 85/1000\n",
      "Train MSE: 290.7281, Train MAE: 10.2062\n"
     ]
    },
    {
     "name": "stderr",
     "output_type": "stream",
     "text": [
      "  8%|▊         | 85/1000 [05:24<57:46,  3.79s/it]"
     ]
    },
    {
     "name": "stdout",
     "output_type": "stream",
     "text": [
      "Test MSE: 224.8663, Test MAE: 8.2188, Test R2: 0.8372\n",
      "Epoch 86/1000\n",
      "Train MSE: 288.4008, Train MAE: 10.2266\n"
     ]
    },
    {
     "name": "stderr",
     "output_type": "stream",
     "text": [
      "  9%|▊         | 86/1000 [05:28<58:48,  3.86s/it]"
     ]
    },
    {
     "name": "stdout",
     "output_type": "stream",
     "text": [
      "Test MSE: 265.1358, Test MAE: 9.4466, Test R2: 0.8153\n",
      "Epoch 87/1000\n",
      "Train MSE: 284.0265, Train MAE: 10.0903\n"
     ]
    },
    {
     "name": "stderr",
     "output_type": "stream",
     "text": [
      "  9%|▊         | 87/1000 [05:32<59:26,  3.91s/it]"
     ]
    },
    {
     "name": "stdout",
     "output_type": "stream",
     "text": [
      "Test MSE: 196.6727, Test MAE: 7.9287, Test R2: 0.8588\n",
      "Epoch 88/1000\n",
      "Train MSE: 284.7897, Train MAE: 10.1185\n"
     ]
    },
    {
     "name": "stderr",
     "output_type": "stream",
     "text": [
      "  9%|▉         | 88/1000 [05:36<59:05,  3.89s/it]"
     ]
    },
    {
     "name": "stdout",
     "output_type": "stream",
     "text": [
      "Test MSE: 199.6166, Test MAE: 7.6948, Test R2: 0.8596\n",
      "Epoch 89/1000\n",
      "Train MSE: 284.5671, Train MAE: 10.0989\n"
     ]
    },
    {
     "name": "stderr",
     "output_type": "stream",
     "text": [
      "  9%|▉         | 89/1000 [05:40<58:47,  3.87s/it]"
     ]
    },
    {
     "name": "stdout",
     "output_type": "stream",
     "text": [
      "Test MSE: 233.2107, Test MAE: 8.7417, Test R2: 0.8353\n",
      "Epoch 90/1000\n",
      "Train MSE: 282.8776, Train MAE: 10.0731\n"
     ]
    },
    {
     "name": "stderr",
     "output_type": "stream",
     "text": [
      "  9%|▉         | 90/1000 [05:44<58:26,  3.85s/it]"
     ]
    },
    {
     "name": "stdout",
     "output_type": "stream",
     "text": [
      "Test MSE: 208.2264, Test MAE: 7.9376, Test R2: 0.8523\n",
      "Epoch 91/1000\n",
      "Train MSE: 276.1662, Train MAE: 9.9422\n"
     ]
    },
    {
     "name": "stderr",
     "output_type": "stream",
     "text": [
      "  9%|▉         | 91/1000 [05:47<58:18,  3.85s/it]"
     ]
    },
    {
     "name": "stdout",
     "output_type": "stream",
     "text": [
      "Test MSE: 233.0876, Test MAE: 8.6132, Test R2: 0.8316\n",
      "Epoch 92/1000\n",
      "Train MSE: 277.6173, Train MAE: 10.0069\n"
     ]
    },
    {
     "name": "stderr",
     "output_type": "stream",
     "text": [
      "  9%|▉         | 92/1000 [05:51<57:37,  3.81s/it]"
     ]
    },
    {
     "name": "stdout",
     "output_type": "stream",
     "text": [
      "Test MSE: 185.8764, Test MAE: 7.2673, Test R2: 0.8699\n",
      "Epoch 93/1000\n",
      "Train MSE: 279.2804, Train MAE: 9.9771\n"
     ]
    },
    {
     "name": "stderr",
     "output_type": "stream",
     "text": [
      "  9%|▉         | 93/1000 [05:55<57:41,  3.82s/it]"
     ]
    },
    {
     "name": "stdout",
     "output_type": "stream",
     "text": [
      "Test MSE: 198.8227, Test MAE: 7.7825, Test R2: 0.8524\n",
      "Epoch 94/1000\n",
      "Train MSE: 279.6115, Train MAE: 10.0114\n"
     ]
    },
    {
     "name": "stderr",
     "output_type": "stream",
     "text": [
      "  9%|▉         | 94/1000 [05:59<57:31,  3.81s/it]"
     ]
    },
    {
     "name": "stdout",
     "output_type": "stream",
     "text": [
      "Test MSE: 203.8937, Test MAE: 7.7967, Test R2: 0.8583\n",
      "Epoch 95/1000\n",
      "Train MSE: 272.2009, Train MAE: 9.8547\n"
     ]
    },
    {
     "name": "stderr",
     "output_type": "stream",
     "text": [
      " 10%|▉         | 95/1000 [06:03<58:16,  3.86s/it]"
     ]
    },
    {
     "name": "stdout",
     "output_type": "stream",
     "text": [
      "Test MSE: 229.2478, Test MAE: 8.4418, Test R2: 0.8356\n",
      "Epoch 96/1000\n",
      "Train MSE: 276.8432, Train MAE: 9.9936\n"
     ]
    },
    {
     "name": "stderr",
     "output_type": "stream",
     "text": [
      " 10%|▉         | 96/1000 [06:07<57:48,  3.84s/it]"
     ]
    },
    {
     "name": "stdout",
     "output_type": "stream",
     "text": [
      "Test MSE: 240.1534, Test MAE: 8.2938, Test R2: 0.8372\n",
      "Epoch 97/1000\n",
      "Train MSE: 269.3256, Train MAE: 9.7666\n"
     ]
    },
    {
     "name": "stderr",
     "output_type": "stream",
     "text": [
      " 10%|▉         | 97/1000 [06:10<58:11,  3.87s/it]"
     ]
    },
    {
     "name": "stdout",
     "output_type": "stream",
     "text": [
      "Test MSE: 201.7815, Test MAE: 8.1785, Test R2: 0.8545\n",
      "Epoch 98/1000\n",
      "Train MSE: 273.3734, Train MAE: 9.8985\n"
     ]
    },
    {
     "name": "stderr",
     "output_type": "stream",
     "text": [
      " 10%|▉         | 98/1000 [06:14<58:00,  3.86s/it]"
     ]
    },
    {
     "name": "stdout",
     "output_type": "stream",
     "text": [
      "Test MSE: 209.6878, Test MAE: 8.2244, Test R2: 0.8522\n",
      "Epoch 99/1000\n",
      "Train MSE: 276.0142, Train MAE: 9.8550\n"
     ]
    },
    {
     "name": "stderr",
     "output_type": "stream",
     "text": [
      " 10%|▉         | 99/1000 [06:18<57:59,  3.86s/it]"
     ]
    },
    {
     "name": "stdout",
     "output_type": "stream",
     "text": [
      "Test MSE: 284.6776, Test MAE: 9.3956, Test R2: 0.7974\n",
      "Epoch 100/1000\n",
      "Train MSE: 269.6355, Train MAE: 9.7719\n"
     ]
    },
    {
     "name": "stderr",
     "output_type": "stream",
     "text": [
      " 10%|█         | 100/1000 [06:22<57:22,  3.83s/it]"
     ]
    },
    {
     "name": "stdout",
     "output_type": "stream",
     "text": [
      "Test MSE: 231.9563, Test MAE: 8.4244, Test R2: 0.8302\n",
      "Epoch 101/1000\n",
      "Train MSE: 270.0776, Train MAE: 9.8001\n"
     ]
    },
    {
     "name": "stderr",
     "output_type": "stream",
     "text": [
      " 10%|█         | 101/1000 [06:26<57:07,  3.81s/it]"
     ]
    },
    {
     "name": "stdout",
     "output_type": "stream",
     "text": [
      "Test MSE: 200.3887, Test MAE: 7.4557, Test R2: 0.8613\n",
      "Epoch 102/1000\n",
      "Train MSE: 270.8007, Train MAE: 9.8008\n"
     ]
    },
    {
     "name": "stderr",
     "output_type": "stream",
     "text": [
      " 10%|█         | 102/1000 [06:29<56:49,  3.80s/it]"
     ]
    },
    {
     "name": "stdout",
     "output_type": "stream",
     "text": [
      "Test MSE: 201.5548, Test MAE: 7.9872, Test R2: 0.8499\n",
      "Epoch 103/1000\n",
      "Train MSE: 272.5113, Train MAE: 9.8344\n"
     ]
    },
    {
     "name": "stderr",
     "output_type": "stream",
     "text": [
      " 10%|█         | 103/1000 [06:33<56:37,  3.79s/it]"
     ]
    },
    {
     "name": "stdout",
     "output_type": "stream",
     "text": [
      "Test MSE: 237.2820, Test MAE: 8.3316, Test R2: 0.8307\n",
      "Epoch 104/1000\n",
      "Train MSE: 276.6547, Train MAE: 9.8529\n"
     ]
    },
    {
     "name": "stderr",
     "output_type": "stream",
     "text": [
      " 10%|█         | 104/1000 [06:37<56:42,  3.80s/it]"
     ]
    },
    {
     "name": "stdout",
     "output_type": "stream",
     "text": [
      "Test MSE: 190.9006, Test MAE: 7.4307, Test R2: 0.8612\n",
      "Epoch 105/1000\n",
      "Train MSE: 263.5600, Train MAE: 9.6029\n"
     ]
    },
    {
     "name": "stderr",
     "output_type": "stream",
     "text": [
      " 10%|█         | 105/1000 [06:41<56:27,  3.79s/it]"
     ]
    },
    {
     "name": "stdout",
     "output_type": "stream",
     "text": [
      "Test MSE: 220.3102, Test MAE: 7.9680, Test R2: 0.8426\n",
      "Epoch 106/1000\n",
      "Train MSE: 262.0404, Train MAE: 9.5966\n"
     ]
    },
    {
     "name": "stderr",
     "output_type": "stream",
     "text": [
      " 11%|█         | 106/1000 [06:45<56:25,  3.79s/it]"
     ]
    },
    {
     "name": "stdout",
     "output_type": "stream",
     "text": [
      "Test MSE: 230.8347, Test MAE: 8.1530, Test R2: 0.8383\n",
      "Epoch 107/1000\n",
      "Train MSE: 272.2454, Train MAE: 9.8035\n"
     ]
    },
    {
     "name": "stderr",
     "output_type": "stream",
     "text": [
      " 11%|█         | 107/1000 [06:48<56:18,  3.78s/it]"
     ]
    },
    {
     "name": "stdout",
     "output_type": "stream",
     "text": [
      "Test MSE: 273.8359, Test MAE: 9.0454, Test R2: 0.8256\n",
      "Epoch 108/1000\n",
      "Train MSE: 260.0570, Train MAE: 9.5503\n"
     ]
    },
    {
     "name": "stderr",
     "output_type": "stream",
     "text": [
      " 11%|█         | 108/1000 [06:52<56:25,  3.80s/it]"
     ]
    },
    {
     "name": "stdout",
     "output_type": "stream",
     "text": [
      "Test MSE: 258.6807, Test MAE: 8.5891, Test R2: 0.8211\n",
      "Epoch 109/1000\n",
      "Train MSE: 271.5205, Train MAE: 9.7743\n"
     ]
    },
    {
     "name": "stderr",
     "output_type": "stream",
     "text": [
      " 11%|█         | 109/1000 [06:56<56:07,  3.78s/it]"
     ]
    },
    {
     "name": "stdout",
     "output_type": "stream",
     "text": [
      "Test MSE: 197.8717, Test MAE: 7.5740, Test R2: 0.8585\n",
      "Epoch 110/1000\n",
      "Train MSE: 264.6768, Train MAE: 9.6477\n"
     ]
    },
    {
     "name": "stderr",
     "output_type": "stream",
     "text": [
      " 11%|█         | 110/1000 [07:00<56:02,  3.78s/it]"
     ]
    },
    {
     "name": "stdout",
     "output_type": "stream",
     "text": [
      "Test MSE: 200.8427, Test MAE: 7.7047, Test R2: 0.8544\n",
      "Epoch 111/1000\n",
      "Train MSE: 261.3810, Train MAE: 9.6185\n"
     ]
    },
    {
     "name": "stderr",
     "output_type": "stream",
     "text": [
      " 11%|█         | 111/1000 [07:04<56:33,  3.82s/it]"
     ]
    },
    {
     "name": "stdout",
     "output_type": "stream",
     "text": [
      "Test MSE: 201.4291, Test MAE: 7.5878, Test R2: 0.8617\n",
      "Epoch 112/1000\n",
      "Train MSE: 261.1645, Train MAE: 9.5782\n"
     ]
    },
    {
     "name": "stderr",
     "output_type": "stream",
     "text": [
      " 11%|█         | 112/1000 [07:08<57:06,  3.86s/it]"
     ]
    },
    {
     "name": "stdout",
     "output_type": "stream",
     "text": [
      "Test MSE: 204.1865, Test MAE: 7.6854, Test R2: 0.8624\n",
      "Epoch 113/1000\n",
      "Train MSE: 264.1051, Train MAE: 9.5513\n"
     ]
    },
    {
     "name": "stderr",
     "output_type": "stream",
     "text": [
      " 11%|█▏        | 113/1000 [07:11<56:55,  3.85s/it]"
     ]
    },
    {
     "name": "stdout",
     "output_type": "stream",
     "text": [
      "Test MSE: 209.5660, Test MAE: 7.6548, Test R2: 0.8565\n",
      "Epoch 114/1000\n",
      "Train MSE: 266.6750, Train MAE: 9.6682\n"
     ]
    },
    {
     "name": "stderr",
     "output_type": "stream",
     "text": [
      " 11%|█▏        | 114/1000 [07:15<56:51,  3.85s/it]"
     ]
    },
    {
     "name": "stdout",
     "output_type": "stream",
     "text": [
      "Test MSE: 219.6187, Test MAE: 7.9744, Test R2: 0.8508\n",
      "Epoch 115/1000\n",
      "Train MSE: 263.0452, Train MAE: 9.5649\n"
     ]
    },
    {
     "name": "stderr",
     "output_type": "stream",
     "text": [
      " 12%|█▏        | 115/1000 [07:19<57:06,  3.87s/it]"
     ]
    },
    {
     "name": "stdout",
     "output_type": "stream",
     "text": [
      "Test MSE: 179.9184, Test MAE: 7.2471, Test R2: 0.8629\n",
      "Epoch 116/1000\n",
      "Train MSE: 260.8626, Train MAE: 9.5082\n"
     ]
    },
    {
     "name": "stderr",
     "output_type": "stream",
     "text": [
      " 12%|█▏        | 116/1000 [07:23<57:29,  3.90s/it]"
     ]
    },
    {
     "name": "stdout",
     "output_type": "stream",
     "text": [
      "Test MSE: 187.3572, Test MAE: 7.2436, Test R2: 0.8670\n",
      "Epoch 117/1000\n",
      "Train MSE: 252.2985, Train MAE: 9.4041\n"
     ]
    },
    {
     "name": "stderr",
     "output_type": "stream",
     "text": [
      " 12%|█▏        | 117/1000 [07:27<57:07,  3.88s/it]"
     ]
    },
    {
     "name": "stdout",
     "output_type": "stream",
     "text": [
      "Test MSE: 186.2777, Test MAE: 7.1404, Test R2: 0.8726\n",
      "Epoch 118/1000\n",
      "Train MSE: 258.8995, Train MAE: 9.4879\n"
     ]
    },
    {
     "name": "stderr",
     "output_type": "stream",
     "text": [
      " 12%|█▏        | 118/1000 [07:31<56:38,  3.85s/it]"
     ]
    },
    {
     "name": "stdout",
     "output_type": "stream",
     "text": [
      "Test MSE: 200.5550, Test MAE: 7.5967, Test R2: 0.8561\n",
      "Epoch 119/1000\n",
      "Train MSE: 256.6290, Train MAE: 9.4054\n"
     ]
    },
    {
     "name": "stderr",
     "output_type": "stream",
     "text": [
      " 12%|█▏        | 119/1000 [07:35<56:25,  3.84s/it]"
     ]
    },
    {
     "name": "stdout",
     "output_type": "stream",
     "text": [
      "Test MSE: 232.0113, Test MAE: 8.3343, Test R2: 0.8384\n",
      "Epoch 120/1000\n",
      "Train MSE: 260.5582, Train MAE: 9.4518\n"
     ]
    },
    {
     "name": "stderr",
     "output_type": "stream",
     "text": [
      " 12%|█▏        | 120/1000 [07:39<56:40,  3.86s/it]"
     ]
    },
    {
     "name": "stdout",
     "output_type": "stream",
     "text": [
      "Test MSE: 198.4415, Test MAE: 7.7894, Test R2: 0.8648\n",
      "Epoch 121/1000\n",
      "Train MSE: 257.5303, Train MAE: 9.4320\n"
     ]
    },
    {
     "name": "stderr",
     "output_type": "stream",
     "text": [
      " 12%|█▏        | 121/1000 [07:42<56:28,  3.85s/it]"
     ]
    },
    {
     "name": "stdout",
     "output_type": "stream",
     "text": [
      "Test MSE: 186.1065, Test MAE: 7.2274, Test R2: 0.8709\n",
      "Epoch 122/1000\n",
      "Train MSE: 267.5563, Train MAE: 9.6024\n"
     ]
    },
    {
     "name": "stderr",
     "output_type": "stream",
     "text": [
      " 12%|█▏        | 122/1000 [07:46<56:25,  3.86s/it]"
     ]
    },
    {
     "name": "stdout",
     "output_type": "stream",
     "text": [
      "Test MSE: 216.0125, Test MAE: 8.1257, Test R2: 0.8507\n",
      "Epoch 123/1000\n",
      "Train MSE: 255.9821, Train MAE: 9.4031\n"
     ]
    },
    {
     "name": "stderr",
     "output_type": "stream",
     "text": [
      " 12%|█▏        | 123/1000 [07:50<56:35,  3.87s/it]"
     ]
    },
    {
     "name": "stdout",
     "output_type": "stream",
     "text": [
      "Test MSE: 211.3258, Test MAE: 7.8749, Test R2: 0.8512\n",
      "Epoch 124/1000\n",
      "Train MSE: 253.0673, Train MAE: 9.4195\n"
     ]
    },
    {
     "name": "stderr",
     "output_type": "stream",
     "text": [
      " 12%|█▏        | 124/1000 [07:54<56:38,  3.88s/it]"
     ]
    },
    {
     "name": "stdout",
     "output_type": "stream",
     "text": [
      "Test MSE: 161.7088, Test MAE: 7.0827, Test R2: 0.8775\n",
      "Epoch 125/1000\n",
      "Train MSE: 253.6974, Train MAE: 9.4101\n"
     ]
    },
    {
     "name": "stderr",
     "output_type": "stream",
     "text": [
      " 12%|█▎        | 125/1000 [07:58<56:19,  3.86s/it]"
     ]
    },
    {
     "name": "stdout",
     "output_type": "stream",
     "text": [
      "Test MSE: 187.7792, Test MAE: 7.6452, Test R2: 0.8690\n",
      "Epoch 126/1000\n",
      "Train MSE: 248.9780, Train MAE: 9.3550\n"
     ]
    },
    {
     "name": "stderr",
     "output_type": "stream",
     "text": [
      " 13%|█▎        | 126/1000 [08:02<56:06,  3.85s/it]"
     ]
    },
    {
     "name": "stdout",
     "output_type": "stream",
     "text": [
      "Test MSE: 186.7370, Test MAE: 6.8093, Test R2: 0.8708\n",
      "Epoch 127/1000\n",
      "Train MSE: 250.6733, Train MAE: 9.3191\n"
     ]
    },
    {
     "name": "stderr",
     "output_type": "stream",
     "text": [
      " 13%|█▎        | 127/1000 [08:06<56:08,  3.86s/it]"
     ]
    },
    {
     "name": "stdout",
     "output_type": "stream",
     "text": [
      "Test MSE: 223.0725, Test MAE: 7.8789, Test R2: 0.8461\n",
      "Epoch 128/1000\n",
      "Train MSE: 254.5349, Train MAE: 9.4196\n"
     ]
    },
    {
     "name": "stderr",
     "output_type": "stream",
     "text": [
      " 13%|█▎        | 128/1000 [08:09<56:10,  3.87s/it]"
     ]
    },
    {
     "name": "stdout",
     "output_type": "stream",
     "text": [
      "Test MSE: 172.3376, Test MAE: 7.1114, Test R2: 0.8754\n",
      "Epoch 129/1000\n",
      "Train MSE: 257.5132, Train MAE: 9.3518\n"
     ]
    },
    {
     "name": "stderr",
     "output_type": "stream",
     "text": [
      " 13%|█▎        | 129/1000 [08:13<55:52,  3.85s/it]"
     ]
    },
    {
     "name": "stdout",
     "output_type": "stream",
     "text": [
      "Test MSE: 188.2241, Test MAE: 7.1908, Test R2: 0.8680\n",
      "Epoch 130/1000\n",
      "Train MSE: 253.8316, Train MAE: 9.3591\n"
     ]
    },
    {
     "name": "stderr",
     "output_type": "stream",
     "text": [
      " 13%|█▎        | 130/1000 [08:17<55:32,  3.83s/it]"
     ]
    },
    {
     "name": "stdout",
     "output_type": "stream",
     "text": [
      "Test MSE: 197.8758, Test MAE: 7.4550, Test R2: 0.8585\n",
      "Epoch 131/1000\n",
      "Train MSE: 252.6104, Train MAE: 9.2933\n"
     ]
    },
    {
     "name": "stderr",
     "output_type": "stream",
     "text": [
      " 13%|█▎        | 131/1000 [08:21<55:34,  3.84s/it]"
     ]
    },
    {
     "name": "stdout",
     "output_type": "stream",
     "text": [
      "Test MSE: 184.5567, Test MAE: 7.2492, Test R2: 0.8684\n",
      "Epoch 132/1000\n",
      "Train MSE: 250.3784, Train MAE: 9.3232\n"
     ]
    },
    {
     "name": "stderr",
     "output_type": "stream",
     "text": [
      " 13%|█▎        | 132/1000 [08:25<55:26,  3.83s/it]"
     ]
    },
    {
     "name": "stdout",
     "output_type": "stream",
     "text": [
      "Test MSE: 207.0984, Test MAE: 7.6835, Test R2: 0.8510\n",
      "Epoch 133/1000\n",
      "Train MSE: 253.7349, Train MAE: 9.3328\n"
     ]
    },
    {
     "name": "stderr",
     "output_type": "stream",
     "text": [
      " 13%|█▎        | 133/1000 [08:29<55:18,  3.83s/it]"
     ]
    },
    {
     "name": "stdout",
     "output_type": "stream",
     "text": [
      "Test MSE: 157.6312, Test MAE: 6.3905, Test R2: 0.8870\n",
      "Epoch 134/1000\n",
      "Train MSE: 247.2938, Train MAE: 9.2428\n"
     ]
    },
    {
     "name": "stderr",
     "output_type": "stream",
     "text": [
      " 13%|█▎        | 134/1000 [08:32<55:20,  3.83s/it]"
     ]
    },
    {
     "name": "stdout",
     "output_type": "stream",
     "text": [
      "Test MSE: 207.2502, Test MAE: 7.6401, Test R2: 0.8563\n",
      "Epoch 135/1000\n",
      "Train MSE: 252.7980, Train MAE: 9.3647\n"
     ]
    },
    {
     "name": "stderr",
     "output_type": "stream",
     "text": [
      " 14%|█▎        | 135/1000 [08:36<55:28,  3.85s/it]"
     ]
    },
    {
     "name": "stdout",
     "output_type": "stream",
     "text": [
      "Test MSE: 188.7127, Test MAE: 7.2107, Test R2: 0.8615\n",
      "Epoch 136/1000\n",
      "Train MSE: 249.6330, Train MAE: 9.2242\n"
     ]
    },
    {
     "name": "stderr",
     "output_type": "stream",
     "text": [
      " 14%|█▎        | 136/1000 [08:40<55:27,  3.85s/it]"
     ]
    },
    {
     "name": "stdout",
     "output_type": "stream",
     "text": [
      "Test MSE: 260.0387, Test MAE: 8.2573, Test R2: 0.8274\n",
      "Epoch 137/1000\n",
      "Train MSE: 250.2231, Train MAE: 9.2614\n"
     ]
    },
    {
     "name": "stderr",
     "output_type": "stream",
     "text": [
      " 14%|█▎        | 137/1000 [08:44<55:35,  3.87s/it]"
     ]
    },
    {
     "name": "stdout",
     "output_type": "stream",
     "text": [
      "Test MSE: 184.1558, Test MAE: 7.2970, Test R2: 0.8712\n",
      "Epoch 138/1000\n",
      "Train MSE: 255.2314, Train MAE: 9.3269\n"
     ]
    },
    {
     "name": "stderr",
     "output_type": "stream",
     "text": [
      " 14%|█▍        | 138/1000 [08:48<55:19,  3.85s/it]"
     ]
    },
    {
     "name": "stdout",
     "output_type": "stream",
     "text": [
      "Test MSE: 200.1125, Test MAE: 7.5262, Test R2: 0.8609\n",
      "Epoch 139/1000\n",
      "Train MSE: 250.0902, Train MAE: 9.2263\n"
     ]
    },
    {
     "name": "stderr",
     "output_type": "stream",
     "text": [
      " 14%|█▍        | 139/1000 [08:52<55:16,  3.85s/it]"
     ]
    },
    {
     "name": "stdout",
     "output_type": "stream",
     "text": [
      "Test MSE: 202.8469, Test MAE: 7.4075, Test R2: 0.8557\n",
      "Epoch 140/1000\n",
      "Train MSE: 250.3367, Train MAE: 9.2585\n"
     ]
    },
    {
     "name": "stderr",
     "output_type": "stream",
     "text": [
      " 14%|█▍        | 140/1000 [08:56<55:11,  3.85s/it]"
     ]
    },
    {
     "name": "stdout",
     "output_type": "stream",
     "text": [
      "Test MSE: 184.6264, Test MAE: 7.5631, Test R2: 0.8671\n",
      "Epoch 141/1000\n",
      "Train MSE: 243.3757, Train MAE: 9.1944\n"
     ]
    },
    {
     "name": "stderr",
     "output_type": "stream",
     "text": [
      " 14%|█▍        | 141/1000 [08:59<55:31,  3.88s/it]"
     ]
    },
    {
     "name": "stdout",
     "output_type": "stream",
     "text": [
      "Test MSE: 177.1060, Test MAE: 7.1622, Test R2: 0.8702\n",
      "Epoch 142/1000\n",
      "Train MSE: 246.5084, Train MAE: 9.1879\n"
     ]
    },
    {
     "name": "stderr",
     "output_type": "stream",
     "text": [
      " 14%|█▍        | 142/1000 [09:03<55:15,  3.86s/it]"
     ]
    },
    {
     "name": "stdout",
     "output_type": "stream",
     "text": [
      "Test MSE: 185.8965, Test MAE: 7.4372, Test R2: 0.8630\n",
      "Epoch 143/1000\n",
      "Train MSE: 243.9539, Train MAE: 9.1868\n"
     ]
    },
    {
     "name": "stderr",
     "output_type": "stream",
     "text": [
      " 14%|█▍        | 143/1000 [09:07<55:16,  3.87s/it]"
     ]
    },
    {
     "name": "stdout",
     "output_type": "stream",
     "text": [
      "Test MSE: 189.7294, Test MAE: 7.1324, Test R2: 0.8694\n",
      "Epoch 144/1000\n",
      "Train MSE: 237.5678, Train MAE: 9.0741\n"
     ]
    },
    {
     "name": "stderr",
     "output_type": "stream",
     "text": [
      " 14%|█▍        | 144/1000 [09:11<55:04,  3.86s/it]"
     ]
    },
    {
     "name": "stdout",
     "output_type": "stream",
     "text": [
      "Test MSE: 160.7412, Test MAE: 6.5184, Test R2: 0.8818\n",
      "Epoch 145/1000\n",
      "Train MSE: 243.9306, Train MAE: 9.1563\n"
     ]
    },
    {
     "name": "stderr",
     "output_type": "stream",
     "text": [
      " 14%|█▍        | 145/1000 [09:15<55:00,  3.86s/it]"
     ]
    },
    {
     "name": "stdout",
     "output_type": "stream",
     "text": [
      "Test MSE: 194.5068, Test MAE: 7.2267, Test R2: 0.8683\n",
      "Epoch 146/1000\n",
      "Train MSE: 253.5455, Train MAE: 9.2932\n"
     ]
    },
    {
     "name": "stderr",
     "output_type": "stream",
     "text": [
      " 15%|█▍        | 146/1000 [09:19<54:40,  3.84s/it]"
     ]
    },
    {
     "name": "stdout",
     "output_type": "stream",
     "text": [
      "Test MSE: 162.8013, Test MAE: 6.9597, Test R2: 0.8800\n",
      "Epoch 147/1000\n",
      "Train MSE: 245.2020, Train MAE: 9.1612\n"
     ]
    },
    {
     "name": "stderr",
     "output_type": "stream",
     "text": [
      " 15%|█▍        | 147/1000 [09:22<54:16,  3.82s/it]"
     ]
    },
    {
     "name": "stdout",
     "output_type": "stream",
     "text": [
      "Test MSE: 186.9368, Test MAE: 7.2244, Test R2: 0.8708\n",
      "Epoch 148/1000\n",
      "Train MSE: 243.4614, Train MAE: 9.1034\n"
     ]
    },
    {
     "name": "stderr",
     "output_type": "stream",
     "text": [
      " 15%|█▍        | 148/1000 [09:26<53:58,  3.80s/it]"
     ]
    },
    {
     "name": "stdout",
     "output_type": "stream",
     "text": [
      "Test MSE: 134.6446, Test MAE: 6.0865, Test R2: 0.8984\n",
      "Epoch 149/1000\n",
      "Train MSE: 245.1953, Train MAE: 9.1385\n"
     ]
    },
    {
     "name": "stderr",
     "output_type": "stream",
     "text": [
      " 15%|█▍        | 149/1000 [09:30<53:51,  3.80s/it]"
     ]
    },
    {
     "name": "stdout",
     "output_type": "stream",
     "text": [
      "Test MSE: 190.0680, Test MAE: 6.8976, Test R2: 0.8705\n",
      "Epoch 150/1000\n",
      "Train MSE: 242.0650, Train MAE: 9.0939\n"
     ]
    },
    {
     "name": "stderr",
     "output_type": "stream",
     "text": [
      " 15%|█▌        | 150/1000 [09:34<53:35,  3.78s/it]"
     ]
    },
    {
     "name": "stdout",
     "output_type": "stream",
     "text": [
      "Test MSE: 205.3933, Test MAE: 7.4978, Test R2: 0.8567\n",
      "Epoch 151/1000\n",
      "Train MSE: 241.1003, Train MAE: 9.1593\n"
     ]
    },
    {
     "name": "stderr",
     "output_type": "stream",
     "text": [
      " 15%|█▌        | 151/1000 [09:38<53:27,  3.78s/it]"
     ]
    },
    {
     "name": "stdout",
     "output_type": "stream",
     "text": [
      "Test MSE: 208.1818, Test MAE: 7.5626, Test R2: 0.8477\n",
      "Epoch 152/1000\n",
      "Train MSE: 241.3710, Train MAE: 9.0910\n"
     ]
    },
    {
     "name": "stderr",
     "output_type": "stream",
     "text": [
      " 15%|█▌        | 152/1000 [09:41<53:24,  3.78s/it]"
     ]
    },
    {
     "name": "stdout",
     "output_type": "stream",
     "text": [
      "Test MSE: 165.4529, Test MAE: 6.7028, Test R2: 0.8779\n",
      "Epoch 153/1000\n",
      "Train MSE: 243.3150, Train MAE: 9.0761\n"
     ]
    },
    {
     "name": "stderr",
     "output_type": "stream",
     "text": [
      " 15%|█▌        | 153/1000 [09:45<53:34,  3.79s/it]"
     ]
    },
    {
     "name": "stdout",
     "output_type": "stream",
     "text": [
      "Test MSE: 198.4215, Test MAE: 7.6748, Test R2: 0.8588\n",
      "Epoch 154/1000\n",
      "Train MSE: 242.7410, Train MAE: 9.1195\n"
     ]
    },
    {
     "name": "stderr",
     "output_type": "stream",
     "text": [
      " 15%|█▌        | 154/1000 [09:49<53:14,  3.78s/it]"
     ]
    },
    {
     "name": "stdout",
     "output_type": "stream",
     "text": [
      "Test MSE: 193.7514, Test MAE: 7.0990, Test R2: 0.8665\n",
      "Epoch 155/1000\n",
      "Train MSE: 240.9558, Train MAE: 9.1033\n"
     ]
    },
    {
     "name": "stderr",
     "output_type": "stream",
     "text": [
      " 16%|█▌        | 155/1000 [09:53<53:04,  3.77s/it]"
     ]
    },
    {
     "name": "stdout",
     "output_type": "stream",
     "text": [
      "Test MSE: 193.3770, Test MAE: 7.6107, Test R2: 0.8598\n",
      "Epoch 156/1000\n",
      "Train MSE: 244.5960, Train MAE: 9.0897\n"
     ]
    },
    {
     "name": "stderr",
     "output_type": "stream",
     "text": [
      " 16%|█▌        | 156/1000 [09:56<53:05,  3.77s/it]"
     ]
    },
    {
     "name": "stdout",
     "output_type": "stream",
     "text": [
      "Test MSE: 197.5339, Test MAE: 7.5447, Test R2: 0.8571\n",
      "Epoch 157/1000\n",
      "Train MSE: 237.4822, Train MAE: 8.9931\n"
     ]
    },
    {
     "name": "stderr",
     "output_type": "stream",
     "text": [
      " 16%|█▌        | 157/1000 [10:00<53:02,  3.78s/it]"
     ]
    },
    {
     "name": "stdout",
     "output_type": "stream",
     "text": [
      "Test MSE: 152.9794, Test MAE: 6.5657, Test R2: 0.8840\n",
      "Epoch 158/1000\n",
      "Train MSE: 240.3890, Train MAE: 9.0669\n"
     ]
    },
    {
     "name": "stderr",
     "output_type": "stream",
     "text": [
      " 16%|█▌        | 158/1000 [10:04<53:05,  3.78s/it]"
     ]
    },
    {
     "name": "stdout",
     "output_type": "stream",
     "text": [
      "Test MSE: 192.6447, Test MAE: 7.2765, Test R2: 0.8649\n",
      "Epoch 159/1000\n",
      "Train MSE: 238.1912, Train MAE: 9.0169\n"
     ]
    },
    {
     "name": "stderr",
     "output_type": "stream",
     "text": [
      " 16%|█▌        | 159/1000 [10:08<52:50,  3.77s/it]"
     ]
    },
    {
     "name": "stdout",
     "output_type": "stream",
     "text": [
      "Test MSE: 173.2389, Test MAE: 6.8023, Test R2: 0.8748\n",
      "Epoch 160/1000\n",
      "Train MSE: 238.1963, Train MAE: 9.0373\n"
     ]
    },
    {
     "name": "stderr",
     "output_type": "stream",
     "text": [
      " 16%|█▌        | 160/1000 [10:11<52:43,  3.77s/it]"
     ]
    },
    {
     "name": "stdout",
     "output_type": "stream",
     "text": [
      "Test MSE: 200.2320, Test MAE: 7.1457, Test R2: 0.8631\n",
      "Epoch 161/1000\n",
      "Train MSE: 240.4767, Train MAE: 9.0379\n"
     ]
    },
    {
     "name": "stderr",
     "output_type": "stream",
     "text": [
      " 16%|█▌        | 161/1000 [10:15<52:36,  3.76s/it]"
     ]
    },
    {
     "name": "stdout",
     "output_type": "stream",
     "text": [
      "Test MSE: 204.0428, Test MAE: 7.1860, Test R2: 0.8581\n",
      "Epoch 162/1000\n",
      "Train MSE: 235.5124, Train MAE: 8.9531\n"
     ]
    },
    {
     "name": "stderr",
     "output_type": "stream",
     "text": [
      " 16%|█▌        | 162/1000 [10:19<52:47,  3.78s/it]"
     ]
    },
    {
     "name": "stdout",
     "output_type": "stream",
     "text": [
      "Test MSE: 198.8834, Test MAE: 7.6834, Test R2: 0.8508\n",
      "Epoch 163/1000\n",
      "Train MSE: 245.0583, Train MAE: 9.1001\n"
     ]
    },
    {
     "name": "stderr",
     "output_type": "stream",
     "text": [
      " 16%|█▋        | 163/1000 [10:23<52:37,  3.77s/it]"
     ]
    },
    {
     "name": "stdout",
     "output_type": "stream",
     "text": [
      "Test MSE: 161.1196, Test MAE: 6.6492, Test R2: 0.8805\n",
      "Epoch 164/1000\n",
      "Train MSE: 241.1032, Train MAE: 9.0687\n"
     ]
    },
    {
     "name": "stderr",
     "output_type": "stream",
     "text": [
      " 16%|█▋        | 164/1000 [10:27<52:28,  3.77s/it]"
     ]
    },
    {
     "name": "stdout",
     "output_type": "stream",
     "text": [
      "Test MSE: 202.2786, Test MAE: 7.1655, Test R2: 0.8578\n",
      "Epoch 165/1000\n",
      "Train MSE: 242.0221, Train MAE: 9.0590\n"
     ]
    },
    {
     "name": "stderr",
     "output_type": "stream",
     "text": [
      " 16%|█▋        | 165/1000 [10:30<52:31,  3.77s/it]"
     ]
    },
    {
     "name": "stdout",
     "output_type": "stream",
     "text": [
      "Test MSE: 140.1765, Test MAE: 6.2747, Test R2: 0.8971\n",
      "Epoch 166/1000\n",
      "Train MSE: 239.0112, Train MAE: 8.9886\n"
     ]
    },
    {
     "name": "stderr",
     "output_type": "stream",
     "text": [
      " 17%|█▋        | 166/1000 [10:34<52:36,  3.79s/it]"
     ]
    },
    {
     "name": "stdout",
     "output_type": "stream",
     "text": [
      "Test MSE: 213.5725, Test MAE: 7.5041, Test R2: 0.8538\n",
      "Epoch 167/1000\n",
      "Train MSE: 238.2095, Train MAE: 9.0320\n"
     ]
    },
    {
     "name": "stderr",
     "output_type": "stream",
     "text": [
      " 17%|█▋        | 167/1000 [10:38<52:21,  3.77s/it]"
     ]
    },
    {
     "name": "stdout",
     "output_type": "stream",
     "text": [
      "Test MSE: 188.1413, Test MAE: 6.9565, Test R2: 0.8707\n",
      "Epoch 168/1000\n",
      "Train MSE: 232.6798, Train MAE: 8.9266\n"
     ]
    },
    {
     "name": "stderr",
     "output_type": "stream",
     "text": [
      " 17%|█▋        | 168/1000 [10:42<52:27,  3.78s/it]"
     ]
    },
    {
     "name": "stdout",
     "output_type": "stream",
     "text": [
      "Test MSE: 198.5872, Test MAE: 7.3796, Test R2: 0.8624\n",
      "Epoch 169/1000\n",
      "Train MSE: 233.9796, Train MAE: 8.9201\n"
     ]
    },
    {
     "name": "stderr",
     "output_type": "stream",
     "text": [
      " 17%|█▋        | 169/1000 [10:46<52:28,  3.79s/it]"
     ]
    },
    {
     "name": "stdout",
     "output_type": "stream",
     "text": [
      "Test MSE: 136.0524, Test MAE: 6.3114, Test R2: 0.9002\n",
      "Epoch 170/1000\n",
      "Train MSE: 237.3683, Train MAE: 9.0397\n"
     ]
    },
    {
     "name": "stderr",
     "output_type": "stream",
     "text": [
      " 17%|█▋        | 170/1000 [10:49<53:10,  3.84s/it]"
     ]
    },
    {
     "name": "stdout",
     "output_type": "stream",
     "text": [
      "Test MSE: 152.3340, Test MAE: 6.5329, Test R2: 0.8891\n",
      "Epoch 171/1000\n",
      "Train MSE: 237.4342, Train MAE: 8.9214\n"
     ]
    },
    {
     "name": "stderr",
     "output_type": "stream",
     "text": [
      " 17%|█▋        | 171/1000 [10:53<52:45,  3.82s/it]"
     ]
    },
    {
     "name": "stdout",
     "output_type": "stream",
     "text": [
      "Test MSE: 163.3045, Test MAE: 6.4836, Test R2: 0.8866\n",
      "Epoch 172/1000\n",
      "Train MSE: 234.7304, Train MAE: 8.9285\n"
     ]
    },
    {
     "name": "stderr",
     "output_type": "stream",
     "text": [
      " 17%|█▋        | 172/1000 [10:57<52:33,  3.81s/it]"
     ]
    },
    {
     "name": "stdout",
     "output_type": "stream",
     "text": [
      "Test MSE: 161.6071, Test MAE: 6.6431, Test R2: 0.8874\n",
      "Epoch 173/1000\n",
      "Train MSE: 238.6319, Train MAE: 8.9714\n"
     ]
    },
    {
     "name": "stderr",
     "output_type": "stream",
     "text": [
      " 17%|█▋        | 173/1000 [11:01<52:19,  3.80s/it]"
     ]
    },
    {
     "name": "stdout",
     "output_type": "stream",
     "text": [
      "Test MSE: 162.0608, Test MAE: 6.7285, Test R2: 0.8823\n",
      "Epoch 174/1000\n",
      "Train MSE: 234.8579, Train MAE: 8.9413\n"
     ]
    },
    {
     "name": "stderr",
     "output_type": "stream",
     "text": [
      " 17%|█▋        | 174/1000 [11:05<52:40,  3.83s/it]"
     ]
    },
    {
     "name": "stdout",
     "output_type": "stream",
     "text": [
      "Test MSE: 234.9538, Test MAE: 7.6610, Test R2: 0.8439\n",
      "Epoch 175/1000\n",
      "Train MSE: 234.8326, Train MAE: 8.8853\n"
     ]
    },
    {
     "name": "stderr",
     "output_type": "stream",
     "text": [
      " 18%|█▊        | 175/1000 [11:08<52:33,  3.82s/it]"
     ]
    },
    {
     "name": "stdout",
     "output_type": "stream",
     "text": [
      "Test MSE: 158.5275, Test MAE: 6.5995, Test R2: 0.8870\n",
      "Epoch 176/1000\n",
      "Train MSE: 234.5634, Train MAE: 8.9439\n"
     ]
    },
    {
     "name": "stderr",
     "output_type": "stream",
     "text": [
      " 18%|█▊        | 176/1000 [11:12<52:25,  3.82s/it]"
     ]
    },
    {
     "name": "stdout",
     "output_type": "stream",
     "text": [
      "Test MSE: 231.6347, Test MAE: 7.6416, Test R2: 0.8476\n",
      "Epoch 177/1000\n",
      "Train MSE: 243.6760, Train MAE: 9.0959\n"
     ]
    },
    {
     "name": "stderr",
     "output_type": "stream",
     "text": [
      " 18%|█▊        | 177/1000 [11:16<52:13,  3.81s/it]"
     ]
    },
    {
     "name": "stdout",
     "output_type": "stream",
     "text": [
      "Test MSE: 186.7373, Test MAE: 7.1172, Test R2: 0.8701\n",
      "Epoch 178/1000\n",
      "Train MSE: 238.1593, Train MAE: 8.9591\n"
     ]
    },
    {
     "name": "stderr",
     "output_type": "stream",
     "text": [
      " 18%|█▊        | 178/1000 [11:20<52:20,  3.82s/it]"
     ]
    },
    {
     "name": "stdout",
     "output_type": "stream",
     "text": [
      "Test MSE: 224.4329, Test MAE: 7.5390, Test R2: 0.8435\n",
      "Epoch 179/1000\n",
      "Train MSE: 234.3626, Train MAE: 8.9515\n"
     ]
    },
    {
     "name": "stderr",
     "output_type": "stream",
     "text": [
      " 18%|█▊        | 179/1000 [11:24<51:43,  3.78s/it]"
     ]
    },
    {
     "name": "stdout",
     "output_type": "stream",
     "text": [
      "Test MSE: 180.9102, Test MAE: 7.0262, Test R2: 0.8734\n",
      "Epoch 180/1000\n",
      "Train MSE: 231.3837, Train MAE: 8.8637\n"
     ]
    },
    {
     "name": "stderr",
     "output_type": "stream",
     "text": [
      " 18%|█▊        | 180/1000 [11:27<51:32,  3.77s/it]"
     ]
    },
    {
     "name": "stdout",
     "output_type": "stream",
     "text": [
      "Test MSE: 191.7138, Test MAE: 6.8722, Test R2: 0.8694\n",
      "Epoch 181/1000\n",
      "Train MSE: 240.9356, Train MAE: 8.9864\n"
     ]
    },
    {
     "name": "stderr",
     "output_type": "stream",
     "text": [
      " 18%|█▊        | 181/1000 [11:31<51:24,  3.77s/it]"
     ]
    },
    {
     "name": "stdout",
     "output_type": "stream",
     "text": [
      "Test MSE: 181.1540, Test MAE: 6.9109, Test R2: 0.8740\n",
      "Epoch 182/1000\n",
      "Train MSE: 232.4761, Train MAE: 8.8534\n"
     ]
    },
    {
     "name": "stderr",
     "output_type": "stream",
     "text": [
      " 18%|█▊        | 182/1000 [11:35<51:27,  3.77s/it]"
     ]
    },
    {
     "name": "stdout",
     "output_type": "stream",
     "text": [
      "Test MSE: 193.2781, Test MAE: 7.0964, Test R2: 0.8660\n",
      "Epoch 183/1000\n",
      "Train MSE: 229.6183, Train MAE: 8.8171\n"
     ]
    },
    {
     "name": "stderr",
     "output_type": "stream",
     "text": [
      " 18%|█▊        | 183/1000 [11:39<51:03,  3.75s/it]"
     ]
    },
    {
     "name": "stdout",
     "output_type": "stream",
     "text": [
      "Test MSE: 159.8033, Test MAE: 6.4592, Test R2: 0.8865\n",
      "Epoch 184/1000\n",
      "Train MSE: 238.5451, Train MAE: 8.8973\n"
     ]
    },
    {
     "name": "stderr",
     "output_type": "stream",
     "text": [
      " 18%|█▊        | 184/1000 [11:42<50:48,  3.74s/it]"
     ]
    },
    {
     "name": "stdout",
     "output_type": "stream",
     "text": [
      "Test MSE: 173.2871, Test MAE: 6.8984, Test R2: 0.8752\n",
      "Epoch 185/1000\n",
      "Train MSE: 235.9399, Train MAE: 8.9240\n"
     ]
    },
    {
     "name": "stderr",
     "output_type": "stream",
     "text": [
      " 18%|█▊        | 185/1000 [11:46<50:34,  3.72s/it]"
     ]
    },
    {
     "name": "stdout",
     "output_type": "stream",
     "text": [
      "Test MSE: 158.3247, Test MAE: 6.5389, Test R2: 0.8863\n",
      "Epoch 186/1000\n",
      "Train MSE: 232.8908, Train MAE: 8.9194\n"
     ]
    },
    {
     "name": "stderr",
     "output_type": "stream",
     "text": [
      " 19%|█▊        | 186/1000 [11:50<50:41,  3.74s/it]"
     ]
    },
    {
     "name": "stdout",
     "output_type": "stream",
     "text": [
      "Test MSE: 168.2121, Test MAE: 6.6850, Test R2: 0.8811\n",
      "Epoch 187/1000\n",
      "Train MSE: 226.7103, Train MAE: 8.7519\n"
     ]
    },
    {
     "name": "stderr",
     "output_type": "stream",
     "text": [
      " 19%|█▊        | 187/1000 [11:54<50:53,  3.76s/it]"
     ]
    },
    {
     "name": "stdout",
     "output_type": "stream",
     "text": [
      "Test MSE: 182.6362, Test MAE: 6.7906, Test R2: 0.8679\n",
      "Epoch 188/1000\n",
      "Train MSE: 229.6432, Train MAE: 8.8797\n"
     ]
    },
    {
     "name": "stderr",
     "output_type": "stream",
     "text": [
      " 19%|█▉        | 188/1000 [11:57<50:48,  3.75s/it]"
     ]
    },
    {
     "name": "stdout",
     "output_type": "stream",
     "text": [
      "Test MSE: 188.5737, Test MAE: 6.7495, Test R2: 0.8738\n",
      "Epoch 189/1000\n",
      "Train MSE: 228.0608, Train MAE: 8.7427\n"
     ]
    },
    {
     "name": "stderr",
     "output_type": "stream",
     "text": [
      " 19%|█▉        | 189/1000 [12:01<50:57,  3.77s/it]"
     ]
    },
    {
     "name": "stdout",
     "output_type": "stream",
     "text": [
      "Test MSE: 205.3007, Test MAE: 7.2448, Test R2: 0.8667\n",
      "Epoch 190/1000\n",
      "Train MSE: 235.0996, Train MAE: 8.8974\n"
     ]
    },
    {
     "name": "stderr",
     "output_type": "stream",
     "text": [
      " 19%|█▉        | 190/1000 [12:05<50:51,  3.77s/it]"
     ]
    },
    {
     "name": "stdout",
     "output_type": "stream",
     "text": [
      "Test MSE: 204.7188, Test MAE: 7.1677, Test R2: 0.8610\n",
      "Epoch 191/1000\n",
      "Train MSE: 233.8520, Train MAE: 8.8789\n"
     ]
    },
    {
     "name": "stderr",
     "output_type": "stream",
     "text": [
      " 19%|█▉        | 191/1000 [12:09<50:57,  3.78s/it]"
     ]
    },
    {
     "name": "stdout",
     "output_type": "stream",
     "text": [
      "Test MSE: 179.1419, Test MAE: 6.7187, Test R2: 0.8744\n",
      "Epoch 192/1000\n",
      "Train MSE: 226.3163, Train MAE: 8.7916\n"
     ]
    },
    {
     "name": "stderr",
     "output_type": "stream",
     "text": [
      " 19%|█▉        | 192/1000 [12:12<50:35,  3.76s/it]"
     ]
    },
    {
     "name": "stdout",
     "output_type": "stream",
     "text": [
      "Test MSE: 174.6335, Test MAE: 6.6163, Test R2: 0.8766\n",
      "Epoch 193/1000\n",
      "Train MSE: 227.0156, Train MAE: 8.7786\n"
     ]
    },
    {
     "name": "stderr",
     "output_type": "stream",
     "text": [
      " 19%|█▉        | 193/1000 [12:16<50:24,  3.75s/it]"
     ]
    },
    {
     "name": "stdout",
     "output_type": "stream",
     "text": [
      "Test MSE: 189.2602, Test MAE: 7.3003, Test R2: 0.8676\n",
      "Epoch 194/1000\n",
      "Train MSE: 233.6062, Train MAE: 8.8796\n"
     ]
    },
    {
     "name": "stderr",
     "output_type": "stream",
     "text": [
      " 19%|█▉        | 194/1000 [12:20<50:19,  3.75s/it]"
     ]
    },
    {
     "name": "stdout",
     "output_type": "stream",
     "text": [
      "Test MSE: 168.5579, Test MAE: 6.7545, Test R2: 0.8847\n",
      "Epoch 195/1000\n",
      "Train MSE: 227.9084, Train MAE: 8.8348\n"
     ]
    },
    {
     "name": "stderr",
     "output_type": "stream",
     "text": [
      " 20%|█▉        | 195/1000 [12:24<50:49,  3.79s/it]"
     ]
    },
    {
     "name": "stdout",
     "output_type": "stream",
     "text": [
      "Test MSE: 204.0622, Test MAE: 7.4387, Test R2: 0.8544\n",
      "Epoch 196/1000\n",
      "Train MSE: 233.0362, Train MAE: 8.8492\n"
     ]
    },
    {
     "name": "stderr",
     "output_type": "stream",
     "text": [
      " 20%|█▉        | 196/1000 [12:28<50:39,  3.78s/it]"
     ]
    },
    {
     "name": "stdout",
     "output_type": "stream",
     "text": [
      "Test MSE: 182.7297, Test MAE: 6.7930, Test R2: 0.8683\n",
      "Epoch 197/1000\n",
      "Train MSE: 228.8927, Train MAE: 8.7802\n"
     ]
    },
    {
     "name": "stderr",
     "output_type": "stream",
     "text": [
      " 20%|█▉        | 197/1000 [12:31<50:31,  3.78s/it]"
     ]
    },
    {
     "name": "stdout",
     "output_type": "stream",
     "text": [
      "Test MSE: 214.2792, Test MAE: 7.2024, Test R2: 0.8536\n",
      "Epoch 198/1000\n",
      "Train MSE: 230.2487, Train MAE: 8.8176\n"
     ]
    },
    {
     "name": "stderr",
     "output_type": "stream",
     "text": [
      " 20%|█▉        | 198/1000 [12:35<50:23,  3.77s/it]"
     ]
    },
    {
     "name": "stdout",
     "output_type": "stream",
     "text": [
      "Test MSE: 214.0894, Test MAE: 7.1059, Test R2: 0.8525\n",
      "Epoch 199/1000\n",
      "Train MSE: 231.7258, Train MAE: 8.8196\n"
     ]
    },
    {
     "name": "stderr",
     "output_type": "stream",
     "text": [
      " 20%|█▉        | 199/1000 [12:39<50:54,  3.81s/it]"
     ]
    },
    {
     "name": "stdout",
     "output_type": "stream",
     "text": [
      "Test MSE: 226.4366, Test MAE: 7.2306, Test R2: 0.8388\n",
      "Epoch 200/1000\n",
      "Train MSE: 226.5772, Train MAE: 8.7458\n"
     ]
    },
    {
     "name": "stderr",
     "output_type": "stream",
     "text": [
      " 20%|██        | 200/1000 [12:43<50:38,  3.80s/it]"
     ]
    },
    {
     "name": "stdout",
     "output_type": "stream",
     "text": [
      "Test MSE: 176.0859, Test MAE: 6.7699, Test R2: 0.8742\n",
      "Epoch 201/1000\n",
      "Train MSE: 224.7218, Train MAE: 8.7769\n"
     ]
    },
    {
     "name": "stderr",
     "output_type": "stream",
     "text": [
      " 20%|██        | 201/1000 [12:47<51:21,  3.86s/it]"
     ]
    },
    {
     "name": "stdout",
     "output_type": "stream",
     "text": [
      "Test MSE: 163.7563, Test MAE: 6.3432, Test R2: 0.8806\n",
      "Epoch 202/1000\n",
      "Train MSE: 228.0072, Train MAE: 8.7755\n"
     ]
    },
    {
     "name": "stderr",
     "output_type": "stream",
     "text": [
      " 20%|██        | 202/1000 [12:51<51:04,  3.84s/it]"
     ]
    },
    {
     "name": "stdout",
     "output_type": "stream",
     "text": [
      "Test MSE: 178.6712, Test MAE: 6.9886, Test R2: 0.8666\n",
      "Epoch 203/1000\n",
      "Train MSE: 228.7412, Train MAE: 8.7763\n"
     ]
    },
    {
     "name": "stderr",
     "output_type": "stream",
     "text": [
      " 20%|██        | 203/1000 [12:54<50:47,  3.82s/it]"
     ]
    },
    {
     "name": "stdout",
     "output_type": "stream",
     "text": [
      "Test MSE: 160.6829, Test MAE: 6.5153, Test R2: 0.8871\n",
      "Epoch 204/1000\n",
      "Train MSE: 227.7473, Train MAE: 8.7467\n"
     ]
    },
    {
     "name": "stderr",
     "output_type": "stream",
     "text": [
      " 20%|██        | 204/1000 [12:58<50:07,  3.78s/it]"
     ]
    },
    {
     "name": "stdout",
     "output_type": "stream",
     "text": [
      "Test MSE: 157.3646, Test MAE: 6.4515, Test R2: 0.8838\n",
      "Epoch 205/1000\n",
      "Train MSE: 227.7685, Train MAE: 8.7136\n"
     ]
    },
    {
     "name": "stderr",
     "output_type": "stream",
     "text": [
      " 20%|██        | 205/1000 [13:02<49:49,  3.76s/it]"
     ]
    },
    {
     "name": "stdout",
     "output_type": "stream",
     "text": [
      "Test MSE: 181.2750, Test MAE: 7.1140, Test R2: 0.8682\n",
      "Epoch 206/1000\n",
      "Train MSE: 237.0991, Train MAE: 8.9238\n"
     ]
    },
    {
     "name": "stderr",
     "output_type": "stream",
     "text": [
      " 21%|██        | 206/1000 [13:05<49:31,  3.74s/it]"
     ]
    },
    {
     "name": "stdout",
     "output_type": "stream",
     "text": [
      "Test MSE: 166.5434, Test MAE: 6.4298, Test R2: 0.8800\n",
      "Epoch 207/1000\n",
      "Train MSE: 232.4758, Train MAE: 8.8544\n"
     ]
    },
    {
     "name": "stderr",
     "output_type": "stream",
     "text": [
      " 21%|██        | 207/1000 [13:09<50:17,  3.81s/it]"
     ]
    },
    {
     "name": "stdout",
     "output_type": "stream",
     "text": [
      "Test MSE: 182.1870, Test MAE: 6.9820, Test R2: 0.8667\n",
      "Epoch 208/1000\n",
      "Train MSE: 223.7395, Train MAE: 8.7257\n"
     ]
    },
    {
     "name": "stderr",
     "output_type": "stream",
     "text": [
      " 21%|██        | 208/1000 [13:13<50:02,  3.79s/it]"
     ]
    },
    {
     "name": "stdout",
     "output_type": "stream",
     "text": [
      "Test MSE: 182.1813, Test MAE: 6.8932, Test R2: 0.8721\n",
      "Epoch 209/1000\n",
      "Train MSE: 233.0957, Train MAE: 8.7898\n"
     ]
    },
    {
     "name": "stderr",
     "output_type": "stream",
     "text": [
      " 21%|██        | 209/1000 [13:17<49:49,  3.78s/it]"
     ]
    },
    {
     "name": "stdout",
     "output_type": "stream",
     "text": [
      "Test MSE: 205.9171, Test MAE: 6.8704, Test R2: 0.8629\n",
      "Epoch 210/1000\n",
      "Train MSE: 227.1014, Train MAE: 8.7781\n"
     ]
    },
    {
     "name": "stderr",
     "output_type": "stream",
     "text": [
      " 21%|██        | 210/1000 [13:21<49:52,  3.79s/it]"
     ]
    },
    {
     "name": "stdout",
     "output_type": "stream",
     "text": [
      "Test MSE: 195.5538, Test MAE: 6.9949, Test R2: 0.8628\n",
      "Epoch 211/1000\n",
      "Train MSE: 228.3539, Train MAE: 8.7988\n"
     ]
    },
    {
     "name": "stderr",
     "output_type": "stream",
     "text": [
      " 21%|██        | 211/1000 [13:24<49:55,  3.80s/it]"
     ]
    },
    {
     "name": "stdout",
     "output_type": "stream",
     "text": [
      "Test MSE: 145.8580, Test MAE: 6.0988, Test R2: 0.8938\n",
      "Epoch 212/1000\n",
      "Train MSE: 224.7265, Train MAE: 8.7117\n"
     ]
    },
    {
     "name": "stderr",
     "output_type": "stream",
     "text": [
      " 21%|██        | 212/1000 [13:28<49:23,  3.76s/it]"
     ]
    },
    {
     "name": "stdout",
     "output_type": "stream",
     "text": [
      "Test MSE: 165.0733, Test MAE: 6.7182, Test R2: 0.8813\n",
      "Epoch 213/1000\n",
      "Train MSE: 224.6236, Train MAE: 8.6946\n"
     ]
    },
    {
     "name": "stderr",
     "output_type": "stream",
     "text": [
      " 21%|██▏       | 213/1000 [13:32<49:05,  3.74s/it]"
     ]
    },
    {
     "name": "stdout",
     "output_type": "stream",
     "text": [
      "Test MSE: 189.2902, Test MAE: 6.7372, Test R2: 0.8746\n",
      "Epoch 214/1000\n",
      "Train MSE: 230.0940, Train MAE: 8.7185\n"
     ]
    },
    {
     "name": "stderr",
     "output_type": "stream",
     "text": [
      " 21%|██▏       | 214/1000 [13:36<48:55,  3.73s/it]"
     ]
    },
    {
     "name": "stdout",
     "output_type": "stream",
     "text": [
      "Test MSE: 164.9941, Test MAE: 6.7186, Test R2: 0.8847\n",
      "Epoch 215/1000\n",
      "Train MSE: 228.9624, Train MAE: 8.7391\n"
     ]
    },
    {
     "name": "stderr",
     "output_type": "stream",
     "text": [
      " 22%|██▏       | 215/1000 [13:39<49:07,  3.75s/it]"
     ]
    },
    {
     "name": "stdout",
     "output_type": "stream",
     "text": [
      "Test MSE: 147.0354, Test MAE: 6.1320, Test R2: 0.8933\n",
      "Epoch 216/1000\n",
      "Train MSE: 229.5886, Train MAE: 8.7468\n"
     ]
    },
    {
     "name": "stderr",
     "output_type": "stream",
     "text": [
      " 22%|██▏       | 216/1000 [13:43<49:03,  3.75s/it]"
     ]
    },
    {
     "name": "stdout",
     "output_type": "stream",
     "text": [
      "Test MSE: 185.1440, Test MAE: 6.8553, Test R2: 0.8768\n",
      "Epoch 217/1000\n",
      "Train MSE: 230.8855, Train MAE: 8.7480\n"
     ]
    },
    {
     "name": "stderr",
     "output_type": "stream",
     "text": [
      " 22%|██▏       | 217/1000 [13:47<49:20,  3.78s/it]"
     ]
    },
    {
     "name": "stdout",
     "output_type": "stream",
     "text": [
      "Test MSE: 194.5110, Test MAE: 6.9335, Test R2: 0.8625\n",
      "Epoch 218/1000\n",
      "Train MSE: 225.7755, Train MAE: 8.6435\n"
     ]
    },
    {
     "name": "stderr",
     "output_type": "stream",
     "text": [
      " 22%|██▏       | 218/1000 [13:51<49:13,  3.78s/it]"
     ]
    },
    {
     "name": "stdout",
     "output_type": "stream",
     "text": [
      "Test MSE: 259.0278, Test MAE: 7.7687, Test R2: 0.8316\n",
      "Epoch 219/1000\n",
      "Train MSE: 225.6948, Train MAE: 8.7589\n"
     ]
    },
    {
     "name": "stderr",
     "output_type": "stream",
     "text": [
      " 22%|██▏       | 219/1000 [13:55<49:08,  3.78s/it]"
     ]
    },
    {
     "name": "stdout",
     "output_type": "stream",
     "text": [
      "Test MSE: 152.5529, Test MAE: 6.3483, Test R2: 0.8874\n",
      "Epoch 220/1000\n",
      "Train MSE: 226.3039, Train MAE: 8.6766\n"
     ]
    },
    {
     "name": "stderr",
     "output_type": "stream",
     "text": [
      " 22%|██▏       | 220/1000 [13:58<49:10,  3.78s/it]"
     ]
    },
    {
     "name": "stdout",
     "output_type": "stream",
     "text": [
      "Test MSE: 140.4066, Test MAE: 6.1052, Test R2: 0.8971\n",
      "Epoch 221/1000\n",
      "Train MSE: 226.5278, Train MAE: 8.6962\n"
     ]
    },
    {
     "name": "stderr",
     "output_type": "stream",
     "text": [
      " 22%|██▏       | 221/1000 [14:02<48:44,  3.75s/it]"
     ]
    },
    {
     "name": "stdout",
     "output_type": "stream",
     "text": [
      "Test MSE: 166.3879, Test MAE: 6.7172, Test R2: 0.8806\n",
      "Epoch 222/1000\n",
      "Train MSE: 220.8646, Train MAE: 8.6254\n"
     ]
    },
    {
     "name": "stderr",
     "output_type": "stream",
     "text": [
      " 22%|██▏       | 222/1000 [14:06<48:30,  3.74s/it]"
     ]
    },
    {
     "name": "stdout",
     "output_type": "stream",
     "text": [
      "Test MSE: 193.8990, Test MAE: 6.9631, Test R2: 0.8628\n",
      "Epoch 223/1000\n",
      "Train MSE: 227.8402, Train MAE: 8.7124\n"
     ]
    },
    {
     "name": "stderr",
     "output_type": "stream",
     "text": [
      " 22%|██▏       | 223/1000 [14:09<48:30,  3.75s/it]"
     ]
    },
    {
     "name": "stdout",
     "output_type": "stream",
     "text": [
      "Test MSE: 172.9883, Test MAE: 6.4823, Test R2: 0.8801\n",
      "Epoch 224/1000\n",
      "Train MSE: 229.7907, Train MAE: 8.7295\n"
     ]
    },
    {
     "name": "stderr",
     "output_type": "stream",
     "text": [
      " 22%|██▏       | 224/1000 [14:13<48:30,  3.75s/it]"
     ]
    },
    {
     "name": "stdout",
     "output_type": "stream",
     "text": [
      "Test MSE: 177.4026, Test MAE: 6.2822, Test R2: 0.8748\n",
      "Epoch 225/1000\n",
      "Train MSE: 222.9907, Train MAE: 8.6516\n"
     ]
    },
    {
     "name": "stderr",
     "output_type": "stream",
     "text": [
      " 22%|██▎       | 225/1000 [14:17<48:21,  3.74s/it]"
     ]
    },
    {
     "name": "stdout",
     "output_type": "stream",
     "text": [
      "Test MSE: 163.9342, Test MAE: 6.5824, Test R2: 0.8845\n",
      "Epoch 226/1000\n",
      "Train MSE: 227.5312, Train MAE: 8.7036\n"
     ]
    },
    {
     "name": "stderr",
     "output_type": "stream",
     "text": [
      " 23%|██▎       | 226/1000 [14:21<48:13,  3.74s/it]"
     ]
    },
    {
     "name": "stdout",
     "output_type": "stream",
     "text": [
      "Test MSE: 171.7844, Test MAE: 6.5320, Test R2: 0.8763\n",
      "Epoch 227/1000\n",
      "Train MSE: 223.9348, Train MAE: 8.6670\n"
     ]
    },
    {
     "name": "stderr",
     "output_type": "stream",
     "text": [
      " 23%|██▎       | 227/1000 [14:24<48:18,  3.75s/it]"
     ]
    },
    {
     "name": "stdout",
     "output_type": "stream",
     "text": [
      "Test MSE: 212.1799, Test MAE: 7.0312, Test R2: 0.8550\n",
      "Epoch 228/1000\n",
      "Train MSE: 224.2981, Train MAE: 8.6733\n"
     ]
    },
    {
     "name": "stderr",
     "output_type": "stream",
     "text": [
      " 23%|██▎       | 228/1000 [14:28<48:49,  3.79s/it]"
     ]
    },
    {
     "name": "stdout",
     "output_type": "stream",
     "text": [
      "Test MSE: 210.2003, Test MAE: 6.9212, Test R2: 0.8622\n",
      "Epoch 229/1000\n",
      "Train MSE: 223.6850, Train MAE: 8.7077\n"
     ]
    },
    {
     "name": "stderr",
     "output_type": "stream",
     "text": [
      " 23%|██▎       | 229/1000 [14:32<48:33,  3.78s/it]"
     ]
    },
    {
     "name": "stdout",
     "output_type": "stream",
     "text": [
      "Test MSE: 190.5564, Test MAE: 6.8989, Test R2: 0.8672\n",
      "Epoch 230/1000\n",
      "Train MSE: 221.2247, Train MAE: 8.5952\n"
     ]
    },
    {
     "name": "stderr",
     "output_type": "stream",
     "text": [
      " 23%|██▎       | 230/1000 [14:36<48:11,  3.76s/it]"
     ]
    },
    {
     "name": "stdout",
     "output_type": "stream",
     "text": [
      "Test MSE: 183.7805, Test MAE: 6.6205, Test R2: 0.8733\n",
      "Epoch 231/1000\n",
      "Train MSE: 225.9242, Train MAE: 8.6948\n"
     ]
    },
    {
     "name": "stderr",
     "output_type": "stream",
     "text": [
      " 23%|██▎       | 231/1000 [14:40<48:15,  3.77s/it]"
     ]
    },
    {
     "name": "stdout",
     "output_type": "stream",
     "text": [
      "Test MSE: 141.6324, Test MAE: 5.8178, Test R2: 0.8988\n",
      "Epoch 232/1000\n",
      "Train MSE: 223.1582, Train MAE: 8.6294\n"
     ]
    },
    {
     "name": "stderr",
     "output_type": "stream",
     "text": [
      " 23%|██▎       | 232/1000 [14:44<48:59,  3.83s/it]"
     ]
    },
    {
     "name": "stdout",
     "output_type": "stream",
     "text": [
      "Test MSE: 176.9545, Test MAE: 6.7062, Test R2: 0.8782\n",
      "Epoch 233/1000\n",
      "Train MSE: 221.2139, Train MAE: 8.6552\n"
     ]
    },
    {
     "name": "stderr",
     "output_type": "stream",
     "text": [
      " 23%|██▎       | 233/1000 [14:47<49:13,  3.85s/it]"
     ]
    },
    {
     "name": "stdout",
     "output_type": "stream",
     "text": [
      "Test MSE: 155.3445, Test MAE: 6.3068, Test R2: 0.8805\n",
      "Epoch 234/1000\n",
      "Train MSE: 228.2078, Train MAE: 8.7267\n"
     ]
    },
    {
     "name": "stderr",
     "output_type": "stream",
     "text": [
      " 23%|██▎       | 234/1000 [14:51<49:21,  3.87s/it]"
     ]
    },
    {
     "name": "stdout",
     "output_type": "stream",
     "text": [
      "Test MSE: 191.4261, Test MAE: 6.6749, Test R2: 0.8647\n",
      "Epoch 235/1000\n",
      "Train MSE: 216.6930, Train MAE: 8.5739\n"
     ]
    },
    {
     "name": "stderr",
     "output_type": "stream",
     "text": [
      " 24%|██▎       | 235/1000 [14:55<49:31,  3.88s/it]"
     ]
    },
    {
     "name": "stdout",
     "output_type": "stream",
     "text": [
      "Test MSE: 145.7094, Test MAE: 6.1220, Test R2: 0.8899\n",
      "Epoch 236/1000\n",
      "Train MSE: 219.3886, Train MAE: 8.5314\n"
     ]
    },
    {
     "name": "stderr",
     "output_type": "stream",
     "text": [
      " 24%|██▎       | 236/1000 [14:59<49:53,  3.92s/it]"
     ]
    },
    {
     "name": "stdout",
     "output_type": "stream",
     "text": [
      "Test MSE: 155.8627, Test MAE: 6.2915, Test R2: 0.8823\n",
      "Epoch 237/1000\n",
      "Train MSE: 227.8918, Train MAE: 8.7588\n"
     ]
    },
    {
     "name": "stderr",
     "output_type": "stream",
     "text": [
      " 24%|██▎       | 237/1000 [15:03<48:55,  3.85s/it]"
     ]
    },
    {
     "name": "stdout",
     "output_type": "stream",
     "text": [
      "Test MSE: 192.5834, Test MAE: 7.0576, Test R2: 0.8689\n",
      "Epoch 238/1000\n",
      "Train MSE: 220.0703, Train MAE: 8.6049\n"
     ]
    },
    {
     "name": "stderr",
     "output_type": "stream",
     "text": [
      " 24%|██▍       | 238/1000 [15:07<48:53,  3.85s/it]"
     ]
    },
    {
     "name": "stdout",
     "output_type": "stream",
     "text": [
      "Test MSE: 196.6366, Test MAE: 6.9443, Test R2: 0.8684\n",
      "Epoch 239/1000\n",
      "Train MSE: 225.4934, Train MAE: 8.6560\n"
     ]
    },
    {
     "name": "stderr",
     "output_type": "stream",
     "text": [
      " 24%|██▍       | 239/1000 [15:11<48:54,  3.86s/it]"
     ]
    },
    {
     "name": "stdout",
     "output_type": "stream",
     "text": [
      "Test MSE: 172.4728, Test MAE: 6.7789, Test R2: 0.8749\n",
      "Epoch 240/1000\n",
      "Train MSE: 219.9980, Train MAE: 8.5975\n"
     ]
    },
    {
     "name": "stderr",
     "output_type": "stream",
     "text": [
      " 24%|██▍       | 240/1000 [15:14<48:19,  3.81s/it]"
     ]
    },
    {
     "name": "stdout",
     "output_type": "stream",
     "text": [
      "Test MSE: 185.4089, Test MAE: 6.7356, Test R2: 0.8706\n",
      "Epoch 241/1000\n",
      "Train MSE: 225.5386, Train MAE: 8.7196\n"
     ]
    },
    {
     "name": "stderr",
     "output_type": "stream",
     "text": [
      " 24%|██▍       | 241/1000 [15:18<48:09,  3.81s/it]"
     ]
    },
    {
     "name": "stdout",
     "output_type": "stream",
     "text": [
      "Test MSE: 201.8527, Test MAE: 7.0257, Test R2: 0.8623\n",
      "Epoch 242/1000\n",
      "Train MSE: 221.4755, Train MAE: 8.5943\n"
     ]
    },
    {
     "name": "stderr",
     "output_type": "stream",
     "text": [
      " 24%|██▍       | 242/1000 [15:22<47:44,  3.78s/it]"
     ]
    },
    {
     "name": "stdout",
     "output_type": "stream",
     "text": [
      "Test MSE: 189.5464, Test MAE: 7.0428, Test R2: 0.8739\n",
      "Epoch 243/1000\n",
      "Train MSE: 217.6553, Train MAE: 8.5744\n"
     ]
    },
    {
     "name": "stderr",
     "output_type": "stream",
     "text": [
      " 24%|██▍       | 243/1000 [15:26<47:19,  3.75s/it]"
     ]
    },
    {
     "name": "stdout",
     "output_type": "stream",
     "text": [
      "Test MSE: 251.0994, Test MAE: 7.7731, Test R2: 0.8362\n",
      "Epoch 244/1000\n",
      "Train MSE: 220.4481, Train MAE: 8.5908\n"
     ]
    },
    {
     "name": "stderr",
     "output_type": "stream",
     "text": [
      " 24%|██▍       | 244/1000 [15:29<47:05,  3.74s/it]"
     ]
    },
    {
     "name": "stdout",
     "output_type": "stream",
     "text": [
      "Test MSE: 176.0106, Test MAE: 6.5165, Test R2: 0.8707\n",
      "Epoch 245/1000\n",
      "Train MSE: 217.4303, Train MAE: 8.5230\n"
     ]
    },
    {
     "name": "stderr",
     "output_type": "stream",
     "text": [
      " 24%|██▍       | 245/1000 [15:33<47:07,  3.74s/it]"
     ]
    },
    {
     "name": "stdout",
     "output_type": "stream",
     "text": [
      "Test MSE: 174.2811, Test MAE: 6.3841, Test R2: 0.8780\n",
      "Epoch 246/1000\n",
      "Train MSE: 225.0456, Train MAE: 8.7019\n"
     ]
    },
    {
     "name": "stderr",
     "output_type": "stream",
     "text": [
      " 25%|██▍       | 246/1000 [15:37<47:08,  3.75s/it]"
     ]
    },
    {
     "name": "stdout",
     "output_type": "stream",
     "text": [
      "Test MSE: 199.6255, Test MAE: 6.9425, Test R2: 0.8643\n",
      "Epoch 247/1000\n",
      "Train MSE: 215.9566, Train MAE: 8.4959\n"
     ]
    },
    {
     "name": "stderr",
     "output_type": "stream",
     "text": [
      " 25%|██▍       | 247/1000 [15:41<46:59,  3.74s/it]"
     ]
    },
    {
     "name": "stdout",
     "output_type": "stream",
     "text": [
      "Test MSE: 192.3685, Test MAE: 7.0304, Test R2: 0.8656\n",
      "Epoch 248/1000\n",
      "Train MSE: 217.4864, Train MAE: 8.5335\n"
     ]
    },
    {
     "name": "stderr",
     "output_type": "stream",
     "text": [
      " 25%|██▍       | 248/1000 [15:44<46:42,  3.73s/it]"
     ]
    },
    {
     "name": "stdout",
     "output_type": "stream",
     "text": [
      "Test MSE: 148.3991, Test MAE: 6.1316, Test R2: 0.8900\n",
      "Epoch 249/1000\n",
      "Train MSE: 218.6366, Train MAE: 8.5458\n"
     ]
    },
    {
     "name": "stderr",
     "output_type": "stream",
     "text": [
      " 25%|██▍       | 249/1000 [15:48<46:48,  3.74s/it]"
     ]
    },
    {
     "name": "stdout",
     "output_type": "stream",
     "text": [
      "Test MSE: 154.3930, Test MAE: 6.1588, Test R2: 0.8891\n",
      "Epoch 250/1000\n",
      "Train MSE: 223.2706, Train MAE: 8.5810\n"
     ]
    },
    {
     "name": "stderr",
     "output_type": "stream",
     "text": [
      " 25%|██▌       | 250/1000 [15:52<46:59,  3.76s/it]"
     ]
    },
    {
     "name": "stdout",
     "output_type": "stream",
     "text": [
      "Test MSE: 148.4468, Test MAE: 6.1577, Test R2: 0.8933\n",
      "Epoch 251/1000\n",
      "Train MSE: 223.8428, Train MAE: 8.6245\n"
     ]
    },
    {
     "name": "stderr",
     "output_type": "stream",
     "text": [
      " 25%|██▌       | 251/1000 [15:56<47:01,  3.77s/it]"
     ]
    },
    {
     "name": "stdout",
     "output_type": "stream",
     "text": [
      "Test MSE: 250.6123, Test MAE: 7.6017, Test R2: 0.8400\n",
      "Epoch 252/1000\n",
      "Train MSE: 222.3463, Train MAE: 8.6393\n"
     ]
    },
    {
     "name": "stderr",
     "output_type": "stream",
     "text": [
      " 25%|██▌       | 252/1000 [15:59<46:55,  3.76s/it]"
     ]
    },
    {
     "name": "stdout",
     "output_type": "stream",
     "text": [
      "Test MSE: 148.0812, Test MAE: 6.1677, Test R2: 0.8864\n",
      "Epoch 253/1000\n",
      "Train MSE: 221.5849, Train MAE: 8.6260\n"
     ]
    },
    {
     "name": "stderr",
     "output_type": "stream",
     "text": [
      " 25%|██▌       | 253/1000 [16:03<46:41,  3.75s/it]"
     ]
    },
    {
     "name": "stdout",
     "output_type": "stream",
     "text": [
      "Test MSE: 131.9644, Test MAE: 5.9109, Test R2: 0.9024\n",
      "Epoch 254/1000\n",
      "Train MSE: 221.0333, Train MAE: 8.5779\n"
     ]
    },
    {
     "name": "stderr",
     "output_type": "stream",
     "text": [
      " 25%|██▌       | 254/1000 [16:07<46:31,  3.74s/it]"
     ]
    },
    {
     "name": "stdout",
     "output_type": "stream",
     "text": [
      "Test MSE: 161.5177, Test MAE: 6.0553, Test R2: 0.8885\n",
      "Epoch 255/1000\n",
      "Train MSE: 219.4788, Train MAE: 8.6316\n"
     ]
    },
    {
     "name": "stderr",
     "output_type": "stream",
     "text": [
      " 26%|██▌       | 255/1000 [16:10<46:09,  3.72s/it]"
     ]
    },
    {
     "name": "stdout",
     "output_type": "stream",
     "text": [
      "Test MSE: 189.7844, Test MAE: 6.6765, Test R2: 0.8715\n",
      "Epoch 256/1000\n",
      "Train MSE: 215.2796, Train MAE: 8.4788\n"
     ]
    },
    {
     "name": "stderr",
     "output_type": "stream",
     "text": [
      " 26%|██▌       | 256/1000 [16:14<45:57,  3.71s/it]"
     ]
    },
    {
     "name": "stdout",
     "output_type": "stream",
     "text": [
      "Test MSE: 178.3905, Test MAE: 6.5636, Test R2: 0.8814\n",
      "Epoch 257/1000\n",
      "Train MSE: 215.4848, Train MAE: 8.5059\n"
     ]
    },
    {
     "name": "stderr",
     "output_type": "stream",
     "text": [
      " 26%|██▌       | 257/1000 [16:18<45:56,  3.71s/it]"
     ]
    },
    {
     "name": "stdout",
     "output_type": "stream",
     "text": [
      "Test MSE: 156.2538, Test MAE: 6.1671, Test R2: 0.8878\n",
      "Epoch 258/1000\n",
      "Train MSE: 216.4264, Train MAE: 8.5408\n"
     ]
    },
    {
     "name": "stderr",
     "output_type": "stream",
     "text": [
      " 26%|██▌       | 258/1000 [16:22<45:41,  3.69s/it]"
     ]
    },
    {
     "name": "stdout",
     "output_type": "stream",
     "text": [
      "Test MSE: 179.9382, Test MAE: 6.7905, Test R2: 0.8663\n",
      "Epoch 259/1000\n",
      "Train MSE: 218.3447, Train MAE: 8.5744\n"
     ]
    },
    {
     "name": "stderr",
     "output_type": "stream",
     "text": [
      " 26%|██▌       | 259/1000 [16:25<45:41,  3.70s/it]"
     ]
    },
    {
     "name": "stdout",
     "output_type": "stream",
     "text": [
      "Test MSE: 149.6015, Test MAE: 6.2323, Test R2: 0.8941\n",
      "Epoch 260/1000\n",
      "Train MSE: 218.2478, Train MAE: 8.5000\n"
     ]
    },
    {
     "name": "stderr",
     "output_type": "stream",
     "text": [
      " 26%|██▌       | 260/1000 [16:29<45:57,  3.73s/it]"
     ]
    },
    {
     "name": "stdout",
     "output_type": "stream",
     "text": [
      "Test MSE: 165.8647, Test MAE: 6.1930, Test R2: 0.8834\n",
      "Epoch 261/1000\n",
      "Train MSE: 220.5450, Train MAE: 8.6028\n"
     ]
    },
    {
     "name": "stderr",
     "output_type": "stream",
     "text": [
      " 26%|██▌       | 261/1000 [16:33<46:24,  3.77s/it]"
     ]
    },
    {
     "name": "stdout",
     "output_type": "stream",
     "text": [
      "Test MSE: 173.6294, Test MAE: 6.4587, Test R2: 0.8770\n",
      "Epoch 262/1000\n",
      "Train MSE: 219.8601, Train MAE: 8.5916\n"
     ]
    },
    {
     "name": "stderr",
     "output_type": "stream",
     "text": [
      " 26%|██▌       | 262/1000 [16:37<46:28,  3.78s/it]"
     ]
    },
    {
     "name": "stdout",
     "output_type": "stream",
     "text": [
      "Test MSE: 154.2279, Test MAE: 6.2343, Test R2: 0.8866\n",
      "Epoch 263/1000\n",
      "Train MSE: 218.9010, Train MAE: 8.5449\n"
     ]
    },
    {
     "name": "stderr",
     "output_type": "stream",
     "text": [
      " 26%|██▋       | 263/1000 [16:40<46:22,  3.78s/it]"
     ]
    },
    {
     "name": "stdout",
     "output_type": "stream",
     "text": [
      "Test MSE: 169.3374, Test MAE: 6.4186, Test R2: 0.8789\n",
      "Epoch 264/1000\n",
      "Train MSE: 217.9277, Train MAE: 8.5356\n"
     ]
    },
    {
     "name": "stderr",
     "output_type": "stream",
     "text": [
      " 26%|██▋       | 264/1000 [16:44<46:47,  3.81s/it]"
     ]
    },
    {
     "name": "stdout",
     "output_type": "stream",
     "text": [
      "Test MSE: 153.9938, Test MAE: 6.3905, Test R2: 0.8868\n",
      "Epoch 265/1000\n",
      "Train MSE: 214.2855, Train MAE: 8.4482\n"
     ]
    },
    {
     "name": "stderr",
     "output_type": "stream",
     "text": [
      " 26%|██▋       | 265/1000 [16:48<47:17,  3.86s/it]"
     ]
    },
    {
     "name": "stdout",
     "output_type": "stream",
     "text": [
      "Test MSE: 140.6993, Test MAE: 5.9009, Test R2: 0.8931\n",
      "Epoch 266/1000\n",
      "Train MSE: 219.8336, Train MAE: 8.5552\n"
     ]
    },
    {
     "name": "stderr",
     "output_type": "stream",
     "text": [
      " 27%|██▋       | 266/1000 [16:52<47:17,  3.87s/it]"
     ]
    },
    {
     "name": "stdout",
     "output_type": "stream",
     "text": [
      "Test MSE: 168.4203, Test MAE: 6.2629, Test R2: 0.8853\n",
      "Epoch 267/1000\n",
      "Train MSE: 219.4529, Train MAE: 8.5291\n"
     ]
    },
    {
     "name": "stderr",
     "output_type": "stream",
     "text": [
      " 27%|██▋       | 267/1000 [16:56<47:09,  3.86s/it]"
     ]
    },
    {
     "name": "stdout",
     "output_type": "stream",
     "text": [
      "Test MSE: 175.4006, Test MAE: 6.4048, Test R2: 0.8769\n",
      "Epoch 268/1000\n",
      "Train MSE: 219.4128, Train MAE: 8.5271\n"
     ]
    },
    {
     "name": "stderr",
     "output_type": "stream",
     "text": [
      " 27%|██▋       | 268/1000 [17:00<47:04,  3.86s/it]"
     ]
    },
    {
     "name": "stdout",
     "output_type": "stream",
     "text": [
      "Test MSE: 198.8002, Test MAE: 7.2271, Test R2: 0.8595\n",
      "Epoch 269/1000\n",
      "Train MSE: 216.3463, Train MAE: 8.4936\n"
     ]
    },
    {
     "name": "stderr",
     "output_type": "stream",
     "text": [
      " 27%|██▋       | 269/1000 [17:04<46:54,  3.85s/it]"
     ]
    },
    {
     "name": "stdout",
     "output_type": "stream",
     "text": [
      "Test MSE: 147.8182, Test MAE: 6.3584, Test R2: 0.8945\n",
      "Epoch 270/1000\n",
      "Train MSE: 218.3682, Train MAE: 8.5413\n"
     ]
    },
    {
     "name": "stderr",
     "output_type": "stream",
     "text": [
      " 27%|██▋       | 270/1000 [17:07<46:24,  3.81s/it]"
     ]
    },
    {
     "name": "stdout",
     "output_type": "stream",
     "text": [
      "Test MSE: 141.6097, Test MAE: 6.0068, Test R2: 0.8960\n",
      "Epoch 271/1000\n",
      "Train MSE: 213.2015, Train MAE: 8.4836\n"
     ]
    },
    {
     "name": "stderr",
     "output_type": "stream",
     "text": [
      " 27%|██▋       | 271/1000 [17:11<45:54,  3.78s/it]"
     ]
    },
    {
     "name": "stdout",
     "output_type": "stream",
     "text": [
      "Test MSE: 233.8815, Test MAE: 7.5686, Test R2: 0.8426\n",
      "Epoch 272/1000\n",
      "Train MSE: 214.6634, Train MAE: 8.4667\n"
     ]
    },
    {
     "name": "stderr",
     "output_type": "stream",
     "text": [
      " 27%|██▋       | 272/1000 [17:15<45:33,  3.76s/it]"
     ]
    },
    {
     "name": "stdout",
     "output_type": "stream",
     "text": [
      "Test MSE: 149.2949, Test MAE: 6.3255, Test R2: 0.8912\n",
      "Epoch 273/1000\n",
      "Train MSE: 209.8443, Train MAE: 8.4508\n"
     ]
    },
    {
     "name": "stderr",
     "output_type": "stream",
     "text": [
      " 27%|██▋       | 273/1000 [17:19<45:15,  3.74s/it]"
     ]
    },
    {
     "name": "stdout",
     "output_type": "stream",
     "text": [
      "Test MSE: 186.4789, Test MAE: 6.7337, Test R2: 0.8717\n",
      "Epoch 274/1000\n",
      "Train MSE: 216.1042, Train MAE: 8.5061\n"
     ]
    },
    {
     "name": "stderr",
     "output_type": "stream",
     "text": [
      " 27%|██▋       | 274/1000 [17:22<45:13,  3.74s/it]"
     ]
    },
    {
     "name": "stdout",
     "output_type": "stream",
     "text": [
      "Test MSE: 132.1526, Test MAE: 5.8916, Test R2: 0.8991\n",
      "Epoch 275/1000\n",
      "Train MSE: 213.7877, Train MAE: 8.4449\n"
     ]
    },
    {
     "name": "stderr",
     "output_type": "stream",
     "text": [
      " 28%|██▊       | 275/1000 [17:26<44:57,  3.72s/it]"
     ]
    },
    {
     "name": "stdout",
     "output_type": "stream",
     "text": [
      "Test MSE: 141.6921, Test MAE: 6.0184, Test R2: 0.8928\n",
      "Epoch 276/1000\n",
      "Train MSE: 215.6407, Train MAE: 8.5365\n"
     ]
    },
    {
     "name": "stderr",
     "output_type": "stream",
     "text": [
      " 28%|██▊       | 276/1000 [17:30<44:42,  3.71s/it]"
     ]
    },
    {
     "name": "stdout",
     "output_type": "stream",
     "text": [
      "Test MSE: 158.8948, Test MAE: 6.0412, Test R2: 0.8848\n",
      "Epoch 277/1000\n",
      "Train MSE: 221.6518, Train MAE: 8.6477\n"
     ]
    },
    {
     "name": "stderr",
     "output_type": "stream",
     "text": [
      " 28%|██▊       | 277/1000 [17:33<44:29,  3.69s/it]"
     ]
    },
    {
     "name": "stdout",
     "output_type": "stream",
     "text": [
      "Test MSE: 207.8222, Test MAE: 6.9007, Test R2: 0.8566\n",
      "Epoch 278/1000\n",
      "Train MSE: 217.6677, Train MAE: 8.5207\n"
     ]
    },
    {
     "name": "stderr",
     "output_type": "stream",
     "text": [
      " 28%|██▊       | 278/1000 [17:37<44:34,  3.70s/it]"
     ]
    },
    {
     "name": "stdout",
     "output_type": "stream",
     "text": [
      "Test MSE: 182.8809, Test MAE: 6.6503, Test R2: 0.8718\n",
      "Epoch 279/1000\n",
      "Train MSE: 217.6151, Train MAE: 8.4776\n"
     ]
    },
    {
     "name": "stderr",
     "output_type": "stream",
     "text": [
      " 28%|██▊       | 279/1000 [17:41<44:22,  3.69s/it]"
     ]
    },
    {
     "name": "stdout",
     "output_type": "stream",
     "text": [
      "Test MSE: 168.4857, Test MAE: 6.6522, Test R2: 0.8730\n",
      "Epoch 280/1000\n",
      "Train MSE: 208.3772, Train MAE: 8.3876\n"
     ]
    },
    {
     "name": "stderr",
     "output_type": "stream",
     "text": [
      " 28%|██▊       | 280/1000 [17:45<44:46,  3.73s/it]"
     ]
    },
    {
     "name": "stdout",
     "output_type": "stream",
     "text": [
      "Test MSE: 158.1540, Test MAE: 6.3483, Test R2: 0.8855\n",
      "Epoch 281/1000\n",
      "Train MSE: 218.5283, Train MAE: 8.5745\n"
     ]
    },
    {
     "name": "stderr",
     "output_type": "stream",
     "text": [
      " 28%|██▊       | 281/1000 [17:48<45:18,  3.78s/it]"
     ]
    },
    {
     "name": "stdout",
     "output_type": "stream",
     "text": [
      "Test MSE: 172.7850, Test MAE: 6.5189, Test R2: 0.8762\n",
      "Epoch 282/1000\n",
      "Train MSE: 220.2310, Train MAE: 8.5480\n"
     ]
    },
    {
     "name": "stderr",
     "output_type": "stream",
     "text": [
      " 28%|██▊       | 282/1000 [17:52<45:44,  3.82s/it]"
     ]
    },
    {
     "name": "stdout",
     "output_type": "stream",
     "text": [
      "Test MSE: 173.4950, Test MAE: 6.6759, Test R2: 0.8744\n",
      "Epoch 283/1000\n",
      "Train MSE: 217.0546, Train MAE: 8.4990\n"
     ]
    },
    {
     "name": "stderr",
     "output_type": "stream",
     "text": [
      " 28%|██▊       | 283/1000 [17:56<45:38,  3.82s/it]"
     ]
    },
    {
     "name": "stdout",
     "output_type": "stream",
     "text": [
      "Test MSE: 210.1452, Test MAE: 6.9023, Test R2: 0.8616\n",
      "Epoch 284/1000\n",
      "Train MSE: 211.3428, Train MAE: 8.4616\n"
     ]
    },
    {
     "name": "stderr",
     "output_type": "stream",
     "text": [
      " 28%|██▊       | 284/1000 [18:00<45:06,  3.78s/it]"
     ]
    },
    {
     "name": "stdout",
     "output_type": "stream",
     "text": [
      "Test MSE: 172.4705, Test MAE: 6.4572, Test R2: 0.8800\n",
      "Epoch 285/1000\n",
      "Train MSE: 220.5351, Train MAE: 8.5938\n"
     ]
    },
    {
     "name": "stderr",
     "output_type": "stream",
     "text": [
      " 28%|██▊       | 285/1000 [18:04<44:44,  3.75s/it]"
     ]
    },
    {
     "name": "stdout",
     "output_type": "stream",
     "text": [
      "Test MSE: 148.7577, Test MAE: 6.3081, Test R2: 0.8879\n",
      "Epoch 286/1000\n",
      "Train MSE: 213.9491, Train MAE: 8.4862\n"
     ]
    },
    {
     "name": "stderr",
     "output_type": "stream",
     "text": [
      " 29%|██▊       | 286/1000 [18:07<44:40,  3.75s/it]"
     ]
    },
    {
     "name": "stdout",
     "output_type": "stream",
     "text": [
      "Test MSE: 185.0239, Test MAE: 6.8213, Test R2: 0.8622\n",
      "Epoch 287/1000\n",
      "Train MSE: 214.7756, Train MAE: 8.4783\n"
     ]
    },
    {
     "name": "stderr",
     "output_type": "stream",
     "text": [
      " 29%|██▊       | 287/1000 [18:11<44:20,  3.73s/it]"
     ]
    },
    {
     "name": "stdout",
     "output_type": "stream",
     "text": [
      "Test MSE: 151.7242, Test MAE: 6.1819, Test R2: 0.8824\n",
      "Epoch 288/1000\n",
      "Train MSE: 212.6711, Train MAE: 8.3903\n"
     ]
    },
    {
     "name": "stderr",
     "output_type": "stream",
     "text": [
      " 29%|██▉       | 288/1000 [18:15<44:11,  3.72s/it]"
     ]
    },
    {
     "name": "stdout",
     "output_type": "stream",
     "text": [
      "Test MSE: 189.9375, Test MAE: 6.7572, Test R2: 0.8567\n",
      "Epoch 289/1000\n",
      "Train MSE: 212.5474, Train MAE: 8.4045\n"
     ]
    },
    {
     "name": "stderr",
     "output_type": "stream",
     "text": [
      " 29%|██▉       | 289/1000 [18:18<44:02,  3.72s/it]"
     ]
    },
    {
     "name": "stdout",
     "output_type": "stream",
     "text": [
      "Test MSE: 153.6938, Test MAE: 6.2679, Test R2: 0.8870\n",
      "Epoch 290/1000\n",
      "Train MSE: 213.1425, Train MAE: 8.4256\n"
     ]
    },
    {
     "name": "stderr",
     "output_type": "stream",
     "text": [
      " 29%|██▉       | 290/1000 [18:22<44:15,  3.74s/it]"
     ]
    },
    {
     "name": "stdout",
     "output_type": "stream",
     "text": [
      "Test MSE: 187.4247, Test MAE: 7.0941, Test R2: 0.8615\n",
      "Epoch 291/1000\n",
      "Train MSE: 219.3540, Train MAE: 8.5531\n"
     ]
    },
    {
     "name": "stderr",
     "output_type": "stream",
     "text": [
      " 29%|██▉       | 291/1000 [18:26<43:53,  3.72s/it]"
     ]
    },
    {
     "name": "stdout",
     "output_type": "stream",
     "text": [
      "Test MSE: 159.1567, Test MAE: 6.1418, Test R2: 0.8860\n",
      "Epoch 292/1000\n",
      "Train MSE: 214.9011, Train MAE: 8.4701\n"
     ]
    },
    {
     "name": "stderr",
     "output_type": "stream",
     "text": [
      " 29%|██▉       | 292/1000 [18:30<43:40,  3.70s/it]"
     ]
    },
    {
     "name": "stdout",
     "output_type": "stream",
     "text": [
      "Test MSE: 152.2436, Test MAE: 6.1000, Test R2: 0.8878\n",
      "Epoch 293/1000\n",
      "Train MSE: 220.3015, Train MAE: 8.5241\n"
     ]
    },
    {
     "name": "stderr",
     "output_type": "stream",
     "text": [
      " 29%|██▉       | 293/1000 [18:33<43:48,  3.72s/it]"
     ]
    },
    {
     "name": "stdout",
     "output_type": "stream",
     "text": [
      "Test MSE: 182.1623, Test MAE: 6.7427, Test R2: 0.8630\n",
      "Epoch 294/1000\n",
      "Train MSE: 210.9780, Train MAE: 8.4384\n"
     ]
    },
    {
     "name": "stderr",
     "output_type": "stream",
     "text": [
      " 29%|██▉       | 294/1000 [18:37<43:51,  3.73s/it]"
     ]
    },
    {
     "name": "stdout",
     "output_type": "stream",
     "text": [
      "Test MSE: 193.4228, Test MAE: 6.7355, Test R2: 0.8633\n",
      "Epoch 295/1000\n",
      "Train MSE: 215.7971, Train MAE: 8.4500\n"
     ]
    },
    {
     "name": "stderr",
     "output_type": "stream",
     "text": [
      " 30%|██▉       | 295/1000 [18:41<43:34,  3.71s/it]"
     ]
    },
    {
     "name": "stdout",
     "output_type": "stream",
     "text": [
      "Test MSE: 163.8582, Test MAE: 6.4544, Test R2: 0.8793\n",
      "Epoch 296/1000\n",
      "Train MSE: 217.7937, Train MAE: 8.4687\n"
     ]
    },
    {
     "name": "stderr",
     "output_type": "stream",
     "text": [
      " 30%|██▉       | 296/1000 [18:44<43:25,  3.70s/it]"
     ]
    },
    {
     "name": "stdout",
     "output_type": "stream",
     "text": [
      "Test MSE: 178.2038, Test MAE: 6.5210, Test R2: 0.8764\n",
      "Epoch 297/1000\n",
      "Train MSE: 214.2000, Train MAE: 8.4960\n"
     ]
    },
    {
     "name": "stderr",
     "output_type": "stream",
     "text": [
      " 30%|██▉       | 297/1000 [18:48<43:15,  3.69s/it]"
     ]
    },
    {
     "name": "stdout",
     "output_type": "stream",
     "text": [
      "Test MSE: 152.3317, Test MAE: 6.3651, Test R2: 0.8888\n",
      "Epoch 298/1000\n",
      "Train MSE: 216.8817, Train MAE: 8.4562\n"
     ]
    },
    {
     "name": "stderr",
     "output_type": "stream",
     "text": [
      " 30%|██▉       | 298/1000 [18:52<43:06,  3.68s/it]"
     ]
    },
    {
     "name": "stdout",
     "output_type": "stream",
     "text": [
      "Test MSE: 212.2288, Test MAE: 7.0299, Test R2: 0.8655\n",
      "Epoch 299/1000\n",
      "Train MSE: 220.4651, Train MAE: 8.5556\n"
     ]
    },
    {
     "name": "stderr",
     "output_type": "stream",
     "text": [
      " 30%|██▉       | 299/1000 [18:55<43:09,  3.69s/it]"
     ]
    },
    {
     "name": "stdout",
     "output_type": "stream",
     "text": [
      "Test MSE: 186.8631, Test MAE: 6.6040, Test R2: 0.8646\n",
      "Epoch 300/1000\n",
      "Train MSE: 210.1386, Train MAE: 8.3513\n"
     ]
    },
    {
     "name": "stderr",
     "output_type": "stream",
     "text": [
      " 30%|███       | 300/1000 [18:59<42:55,  3.68s/it]"
     ]
    },
    {
     "name": "stdout",
     "output_type": "stream",
     "text": [
      "Test MSE: 184.3631, Test MAE: 6.8444, Test R2: 0.8702\n",
      "Epoch 301/1000\n",
      "Train MSE: 214.8246, Train MAE: 8.4817\n"
     ]
    },
    {
     "name": "stderr",
     "output_type": "stream",
     "text": [
      " 30%|███       | 301/1000 [19:03<42:58,  3.69s/it]"
     ]
    },
    {
     "name": "stdout",
     "output_type": "stream",
     "text": [
      "Test MSE: 196.2951, Test MAE: 6.7911, Test R2: 0.8638\n",
      "Epoch 302/1000\n",
      "Train MSE: 214.9525, Train MAE: 8.4494\n"
     ]
    },
    {
     "name": "stderr",
     "output_type": "stream",
     "text": [
      " 30%|███       | 302/1000 [19:06<42:52,  3.69s/it]"
     ]
    },
    {
     "name": "stdout",
     "output_type": "stream",
     "text": [
      "Test MSE: 186.4513, Test MAE: 6.6113, Test R2: 0.8728\n",
      "Epoch 303/1000\n",
      "Train MSE: 217.6088, Train MAE: 8.5611\n"
     ]
    },
    {
     "name": "stderr",
     "output_type": "stream",
     "text": [
      " 30%|███       | 303/1000 [19:10<42:51,  3.69s/it]"
     ]
    },
    {
     "name": "stdout",
     "output_type": "stream",
     "text": [
      "Test MSE: 160.0509, Test MAE: 6.1898, Test R2: 0.8868\n",
      "Epoch 304/1000\n",
      "Train MSE: 211.6960, Train MAE: 8.3852\n"
     ]
    },
    {
     "name": "stderr",
     "output_type": "stream",
     "text": [
      " 30%|███       | 304/1000 [19:14<42:44,  3.68s/it]"
     ]
    },
    {
     "name": "stdout",
     "output_type": "stream",
     "text": [
      "Test MSE: 118.9874, Test MAE: 5.5702, Test R2: 0.9032\n",
      "Epoch 305/1000\n",
      "Train MSE: 218.4587, Train MAE: 8.5505\n"
     ]
    },
    {
     "name": "stderr",
     "output_type": "stream",
     "text": [
      " 30%|███       | 305/1000 [19:17<42:38,  3.68s/it]"
     ]
    },
    {
     "name": "stdout",
     "output_type": "stream",
     "text": [
      "Test MSE: 215.0234, Test MAE: 7.1085, Test R2: 0.8609\n",
      "Epoch 306/1000\n",
      "Train MSE: 216.8529, Train MAE: 8.5075\n"
     ]
    },
    {
     "name": "stderr",
     "output_type": "stream",
     "text": [
      " 31%|███       | 306/1000 [19:21<42:41,  3.69s/it]"
     ]
    },
    {
     "name": "stdout",
     "output_type": "stream",
     "text": [
      "Test MSE: 153.7658, Test MAE: 6.1685, Test R2: 0.8913\n",
      "Epoch 307/1000\n",
      "Train MSE: 220.7269, Train MAE: 8.4893\n"
     ]
    },
    {
     "name": "stderr",
     "output_type": "stream",
     "text": [
      " 31%|███       | 307/1000 [19:25<43:00,  3.72s/it]"
     ]
    },
    {
     "name": "stdout",
     "output_type": "stream",
     "text": [
      "Test MSE: 168.9792, Test MAE: 6.4702, Test R2: 0.8719\n",
      "Epoch 308/1000\n",
      "Train MSE: 215.1725, Train MAE: 8.4590\n"
     ]
    },
    {
     "name": "stderr",
     "output_type": "stream",
     "text": [
      " 31%|███       | 308/1000 [19:29<42:48,  3.71s/it]"
     ]
    },
    {
     "name": "stdout",
     "output_type": "stream",
     "text": [
      "Test MSE: 180.0545, Test MAE: 6.5415, Test R2: 0.8747\n",
      "Epoch 309/1000\n",
      "Train MSE: 211.3871, Train MAE: 8.3712\n"
     ]
    },
    {
     "name": "stderr",
     "output_type": "stream",
     "text": [
      " 31%|███       | 309/1000 [19:32<42:40,  3.71s/it]"
     ]
    },
    {
     "name": "stdout",
     "output_type": "stream",
     "text": [
      "Test MSE: 131.2526, Test MAE: 5.6742, Test R2: 0.8983\n",
      "Epoch 310/1000\n",
      "Train MSE: 212.9877, Train MAE: 8.3898\n"
     ]
    },
    {
     "name": "stderr",
     "output_type": "stream",
     "text": [
      " 31%|███       | 310/1000 [19:36<42:31,  3.70s/it]"
     ]
    },
    {
     "name": "stdout",
     "output_type": "stream",
     "text": [
      "Test MSE: 169.9312, Test MAE: 6.4537, Test R2: 0.8820\n",
      "Epoch 311/1000\n",
      "Train MSE: 212.1311, Train MAE: 8.4638\n"
     ]
    },
    {
     "name": "stderr",
     "output_type": "stream",
     "text": [
      " 31%|███       | 311/1000 [19:40<42:36,  3.71s/it]"
     ]
    },
    {
     "name": "stdout",
     "output_type": "stream",
     "text": [
      "Test MSE: 169.1275, Test MAE: 6.3531, Test R2: 0.8765\n",
      "Epoch 312/1000\n",
      "Train MSE: 214.3237, Train MAE: 8.4006\n"
     ]
    },
    {
     "name": "stderr",
     "output_type": "stream",
     "text": [
      " 31%|███       | 312/1000 [19:43<42:16,  3.69s/it]"
     ]
    },
    {
     "name": "stdout",
     "output_type": "stream",
     "text": [
      "Test MSE: 187.0357, Test MAE: 6.6970, Test R2: 0.8706\n",
      "Epoch 313/1000\n",
      "Train MSE: 210.5313, Train MAE: 8.3825\n"
     ]
    },
    {
     "name": "stderr",
     "output_type": "stream",
     "text": [
      " 31%|███▏      | 313/1000 [19:47<42:05,  3.68s/it]"
     ]
    },
    {
     "name": "stdout",
     "output_type": "stream",
     "text": [
      "Test MSE: 169.4218, Test MAE: 6.2512, Test R2: 0.8847\n",
      "Epoch 314/1000\n",
      "Train MSE: 211.5160, Train MAE: 8.3792\n"
     ]
    },
    {
     "name": "stderr",
     "output_type": "stream",
     "text": [
      " 31%|███▏      | 314/1000 [19:51<42:06,  3.68s/it]"
     ]
    },
    {
     "name": "stdout",
     "output_type": "stream",
     "text": [
      "Test MSE: 187.7840, Test MAE: 6.9114, Test R2: 0.8641\n",
      "Epoch 315/1000\n",
      "Train MSE: 208.3139, Train MAE: 8.3773\n"
     ]
    },
    {
     "name": "stderr",
     "output_type": "stream",
     "text": [
      " 32%|███▏      | 315/1000 [19:55<42:11,  3.70s/it]"
     ]
    },
    {
     "name": "stdout",
     "output_type": "stream",
     "text": [
      "Test MSE: 180.2027, Test MAE: 6.4563, Test R2: 0.8722\n",
      "Epoch 316/1000\n",
      "Train MSE: 220.2024, Train MAE: 8.5349\n"
     ]
    },
    {
     "name": "stderr",
     "output_type": "stream",
     "text": [
      " 32%|███▏      | 316/1000 [19:58<42:04,  3.69s/it]"
     ]
    },
    {
     "name": "stdout",
     "output_type": "stream",
     "text": [
      "Test MSE: 201.8778, Test MAE: 6.8910, Test R2: 0.8610\n",
      "Epoch 317/1000\n",
      "Train MSE: 219.5248, Train MAE: 8.4789\n"
     ]
    },
    {
     "name": "stderr",
     "output_type": "stream",
     "text": [
      " 32%|███▏      | 317/1000 [20:02<42:21,  3.72s/it]"
     ]
    },
    {
     "name": "stdout",
     "output_type": "stream",
     "text": [
      "Test MSE: 169.2571, Test MAE: 6.2838, Test R2: 0.8805\n",
      "Epoch 318/1000\n",
      "Train MSE: 213.9149, Train MAE: 8.4117\n"
     ]
    },
    {
     "name": "stderr",
     "output_type": "stream",
     "text": [
      " 32%|███▏      | 318/1000 [20:06<42:26,  3.73s/it]"
     ]
    },
    {
     "name": "stdout",
     "output_type": "stream",
     "text": [
      "Test MSE: 150.7635, Test MAE: 5.8187, Test R2: 0.8924\n",
      "Epoch 319/1000\n",
      "Train MSE: 208.5100, Train MAE: 8.3555\n"
     ]
    },
    {
     "name": "stderr",
     "output_type": "stream",
     "text": [
      " 32%|███▏      | 319/1000 [20:10<42:56,  3.78s/it]"
     ]
    },
    {
     "name": "stdout",
     "output_type": "stream",
     "text": [
      "Test MSE: 138.7698, Test MAE: 5.9213, Test R2: 0.9002\n",
      "Epoch 320/1000\n",
      "Train MSE: 217.1250, Train MAE: 8.4421\n"
     ]
    },
    {
     "name": "stderr",
     "output_type": "stream",
     "text": [
      " 32%|███▏      | 320/1000 [20:13<43:03,  3.80s/it]"
     ]
    },
    {
     "name": "stdout",
     "output_type": "stream",
     "text": [
      "Test MSE: 170.1396, Test MAE: 6.4414, Test R2: 0.8762\n",
      "Epoch 321/1000\n",
      "Train MSE: 214.3101, Train MAE: 8.4270\n"
     ]
    },
    {
     "name": "stderr",
     "output_type": "stream",
     "text": [
      " 32%|███▏      | 321/1000 [20:17<43:07,  3.81s/it]"
     ]
    },
    {
     "name": "stdout",
     "output_type": "stream",
     "text": [
      "Test MSE: 151.6156, Test MAE: 6.1757, Test R2: 0.8850\n",
      "Epoch 322/1000\n",
      "Train MSE: 215.4302, Train MAE: 8.4390\n"
     ]
    },
    {
     "name": "stderr",
     "output_type": "stream",
     "text": [
      " 32%|███▏      | 322/1000 [20:21<43:30,  3.85s/it]"
     ]
    },
    {
     "name": "stdout",
     "output_type": "stream",
     "text": [
      "Test MSE: 148.9718, Test MAE: 6.0327, Test R2: 0.8960\n",
      "Epoch 323/1000\n",
      "Train MSE: 208.4045, Train MAE: 8.3119\n"
     ]
    },
    {
     "name": "stderr",
     "output_type": "stream",
     "text": [
      " 32%|███▏      | 323/1000 [20:25<43:44,  3.88s/it]"
     ]
    },
    {
     "name": "stdout",
     "output_type": "stream",
     "text": [
      "Test MSE: 146.7829, Test MAE: 6.0331, Test R2: 0.8903\n",
      "Epoch 324/1000\n",
      "Train MSE: 211.0184, Train MAE: 8.3700\n"
     ]
    },
    {
     "name": "stderr",
     "output_type": "stream",
     "text": [
      " 32%|███▏      | 324/1000 [20:29<43:55,  3.90s/it]"
     ]
    },
    {
     "name": "stdout",
     "output_type": "stream",
     "text": [
      "Test MSE: 168.4567, Test MAE: 6.4491, Test R2: 0.8830\n",
      "Epoch 325/1000\n",
      "Train MSE: 209.7259, Train MAE: 8.3643\n"
     ]
    },
    {
     "name": "stderr",
     "output_type": "stream",
     "text": [
      " 32%|███▎      | 325/1000 [20:33<43:31,  3.87s/it]"
     ]
    },
    {
     "name": "stdout",
     "output_type": "stream",
     "text": [
      "Test MSE: 173.1701, Test MAE: 6.3366, Test R2: 0.8760\n",
      "Epoch 326/1000\n",
      "Train MSE: 210.3245, Train MAE: 8.4267\n"
     ]
    },
    {
     "name": "stderr",
     "output_type": "stream",
     "text": [
      " 33%|███▎      | 326/1000 [20:37<43:13,  3.85s/it]"
     ]
    },
    {
     "name": "stdout",
     "output_type": "stream",
     "text": [
      "Test MSE: 170.2415, Test MAE: 6.6364, Test R2: 0.8745\n",
      "Epoch 327/1000\n",
      "Train MSE: 207.4019, Train MAE: 8.3310\n"
     ]
    },
    {
     "name": "stderr",
     "output_type": "stream",
     "text": [
      " 33%|███▎      | 327/1000 [20:41<42:58,  3.83s/it]"
     ]
    },
    {
     "name": "stdout",
     "output_type": "stream",
     "text": [
      "Test MSE: 148.2673, Test MAE: 6.0305, Test R2: 0.8957\n",
      "Epoch 328/1000\n",
      "Train MSE: 211.0094, Train MAE: 8.3957\n"
     ]
    },
    {
     "name": "stderr",
     "output_type": "stream",
     "text": [
      " 33%|███▎      | 328/1000 [20:44<42:59,  3.84s/it]"
     ]
    },
    {
     "name": "stdout",
     "output_type": "stream",
     "text": [
      "Test MSE: 227.9771, Test MAE: 7.1545, Test R2: 0.8411\n",
      "Epoch 329/1000\n",
      "Train MSE: 212.5283, Train MAE: 8.3849\n"
     ]
    },
    {
     "name": "stderr",
     "output_type": "stream",
     "text": [
      " 33%|███▎      | 329/1000 [20:48<42:49,  3.83s/it]"
     ]
    },
    {
     "name": "stdout",
     "output_type": "stream",
     "text": [
      "Test MSE: 144.9888, Test MAE: 6.0189, Test R2: 0.8902\n",
      "Epoch 330/1000\n",
      "Train MSE: 213.9372, Train MAE: 8.4161\n"
     ]
    },
    {
     "name": "stderr",
     "output_type": "stream",
     "text": [
      " 33%|███▎      | 330/1000 [20:52<42:49,  3.83s/it]"
     ]
    },
    {
     "name": "stdout",
     "output_type": "stream",
     "text": [
      "Test MSE: 166.3430, Test MAE: 6.7605, Test R2: 0.8780\n",
      "Epoch 331/1000\n",
      "Train MSE: 213.3066, Train MAE: 8.3650\n"
     ]
    },
    {
     "name": "stderr",
     "output_type": "stream",
     "text": [
      " 33%|███▎      | 331/1000 [20:56<42:53,  3.85s/it]"
     ]
    },
    {
     "name": "stdout",
     "output_type": "stream",
     "text": [
      "Test MSE: 168.9728, Test MAE: 6.2280, Test R2: 0.8800\n",
      "Epoch 332/1000\n",
      "Train MSE: 209.6878, Train MAE: 8.3623\n"
     ]
    },
    {
     "name": "stderr",
     "output_type": "stream",
     "text": [
      " 33%|███▎      | 332/1000 [21:00<42:56,  3.86s/it]"
     ]
    },
    {
     "name": "stdout",
     "output_type": "stream",
     "text": [
      "Test MSE: 180.6829, Test MAE: 6.4109, Test R2: 0.8680\n",
      "Epoch 333/1000\n",
      "Train MSE: 210.3597, Train MAE: 8.3772\n"
     ]
    },
    {
     "name": "stderr",
     "output_type": "stream",
     "text": [
      " 33%|███▎      | 333/1000 [21:04<42:52,  3.86s/it]"
     ]
    },
    {
     "name": "stdout",
     "output_type": "stream",
     "text": [
      "Test MSE: 174.0244, Test MAE: 6.6738, Test R2: 0.8787\n",
      "Epoch 334/1000\n",
      "Train MSE: 218.7691, Train MAE: 8.4526\n"
     ]
    },
    {
     "name": "stderr",
     "output_type": "stream",
     "text": [
      " 33%|███▎      | 334/1000 [21:08<42:47,  3.86s/it]"
     ]
    },
    {
     "name": "stdout",
     "output_type": "stream",
     "text": [
      "Test MSE: 162.4465, Test MAE: 6.5396, Test R2: 0.8837\n",
      "Epoch 335/1000\n",
      "Train MSE: 208.3199, Train MAE: 8.2991\n"
     ]
    },
    {
     "name": "stderr",
     "output_type": "stream",
     "text": [
      " 34%|███▎      | 335/1000 [21:11<42:39,  3.85s/it]"
     ]
    },
    {
     "name": "stdout",
     "output_type": "stream",
     "text": [
      "Test MSE: 191.7348, Test MAE: 6.5964, Test R2: 0.8690\n",
      "Epoch 336/1000\n",
      "Train MSE: 214.3195, Train MAE: 8.4262\n"
     ]
    },
    {
     "name": "stderr",
     "output_type": "stream",
     "text": [
      " 34%|███▎      | 336/1000 [21:15<42:45,  3.86s/it]"
     ]
    },
    {
     "name": "stdout",
     "output_type": "stream",
     "text": [
      "Test MSE: 172.5731, Test MAE: 6.4633, Test R2: 0.8735\n",
      "Epoch 337/1000\n",
      "Train MSE: 214.9659, Train MAE: 8.4220\n"
     ]
    },
    {
     "name": "stderr",
     "output_type": "stream",
     "text": [
      " 34%|███▎      | 337/1000 [21:19<42:45,  3.87s/it]"
     ]
    },
    {
     "name": "stdout",
     "output_type": "stream",
     "text": [
      "Test MSE: 153.9766, Test MAE: 6.3164, Test R2: 0.8816\n",
      "Epoch 338/1000\n",
      "Train MSE: 212.4963, Train MAE: 8.4431\n"
     ]
    },
    {
     "name": "stderr",
     "output_type": "stream",
     "text": [
      " 34%|███▍      | 338/1000 [21:23<42:31,  3.85s/it]"
     ]
    },
    {
     "name": "stdout",
     "output_type": "stream",
     "text": [
      "Test MSE: 170.0217, Test MAE: 6.2109, Test R2: 0.8795\n",
      "Epoch 339/1000\n",
      "Train MSE: 210.6834, Train MAE: 8.4295\n"
     ]
    },
    {
     "name": "stderr",
     "output_type": "stream",
     "text": [
      " 34%|███▍      | 339/1000 [21:27<42:25,  3.85s/it]"
     ]
    },
    {
     "name": "stdout",
     "output_type": "stream",
     "text": [
      "Test MSE: 151.6583, Test MAE: 6.2867, Test R2: 0.8906\n",
      "Epoch 340/1000\n",
      "Train MSE: 211.0034, Train MAE: 8.3953\n"
     ]
    },
    {
     "name": "stderr",
     "output_type": "stream",
     "text": [
      " 34%|███▍      | 340/1000 [21:31<42:31,  3.87s/it]"
     ]
    },
    {
     "name": "stdout",
     "output_type": "stream",
     "text": [
      "Test MSE: 207.1777, Test MAE: 7.0037, Test R2: 0.8557\n",
      "Epoch 341/1000\n",
      "Train MSE: 208.9706, Train MAE: 8.3079\n"
     ]
    },
    {
     "name": "stderr",
     "output_type": "stream",
     "text": [
      " 34%|███▍      | 341/1000 [21:35<42:24,  3.86s/it]"
     ]
    },
    {
     "name": "stdout",
     "output_type": "stream",
     "text": [
      "Test MSE: 194.9948, Test MAE: 6.5335, Test R2: 0.8727\n",
      "Epoch 342/1000\n",
      "Train MSE: 216.4989, Train MAE: 8.5241\n"
     ]
    },
    {
     "name": "stderr",
     "output_type": "stream",
     "text": [
      " 34%|███▍      | 342/1000 [21:38<42:02,  3.83s/it]"
     ]
    },
    {
     "name": "stdout",
     "output_type": "stream",
     "text": [
      "Test MSE: 159.3569, Test MAE: 6.2725, Test R2: 0.8864\n",
      "Epoch 343/1000\n",
      "Train MSE: 215.4043, Train MAE: 8.4648\n"
     ]
    },
    {
     "name": "stderr",
     "output_type": "stream",
     "text": [
      " 34%|███▍      | 343/1000 [21:42<41:44,  3.81s/it]"
     ]
    },
    {
     "name": "stdout",
     "output_type": "stream",
     "text": [
      "Test MSE: 195.3255, Test MAE: 6.7094, Test R2: 0.8568\n",
      "Epoch 344/1000\n",
      "Train MSE: 213.9490, Train MAE: 8.4407\n"
     ]
    },
    {
     "name": "stderr",
     "output_type": "stream",
     "text": [
      " 34%|███▍      | 344/1000 [21:46<41:36,  3.81s/it]"
     ]
    },
    {
     "name": "stdout",
     "output_type": "stream",
     "text": [
      "Test MSE: 161.1952, Test MAE: 6.5203, Test R2: 0.8883\n",
      "Epoch 345/1000\n",
      "Train MSE: 209.6087, Train MAE: 8.3656\n"
     ]
    },
    {
     "name": "stderr",
     "output_type": "stream",
     "text": [
      " 34%|███▍      | 345/1000 [21:50<41:16,  3.78s/it]"
     ]
    },
    {
     "name": "stdout",
     "output_type": "stream",
     "text": [
      "Test MSE: 164.8132, Test MAE: 6.4159, Test R2: 0.8816\n",
      "Epoch 346/1000\n",
      "Train MSE: 204.4002, Train MAE: 8.2354\n"
     ]
    },
    {
     "name": "stderr",
     "output_type": "stream",
     "text": [
      " 35%|███▍      | 346/1000 [21:53<41:01,  3.76s/it]"
     ]
    },
    {
     "name": "stdout",
     "output_type": "stream",
     "text": [
      "Test MSE: 170.9022, Test MAE: 6.2148, Test R2: 0.8848\n",
      "Epoch 347/1000\n",
      "Train MSE: 205.8944, Train MAE: 8.2961\n"
     ]
    },
    {
     "name": "stderr",
     "output_type": "stream",
     "text": [
      " 35%|███▍      | 347/1000 [21:57<40:56,  3.76s/it]"
     ]
    },
    {
     "name": "stdout",
     "output_type": "stream",
     "text": [
      "Test MSE: 174.2532, Test MAE: 6.3259, Test R2: 0.8833\n",
      "Epoch 348/1000\n",
      "Train MSE: 212.6023, Train MAE: 8.3710\n"
     ]
    },
    {
     "name": "stderr",
     "output_type": "stream",
     "text": [
      " 35%|███▍      | 348/1000 [22:01<41:01,  3.78s/it]"
     ]
    },
    {
     "name": "stdout",
     "output_type": "stream",
     "text": [
      "Test MSE: 223.7500, Test MAE: 7.0985, Test R2: 0.8482\n",
      "Epoch 349/1000\n",
      "Train MSE: 211.2661, Train MAE: 8.3591\n"
     ]
    },
    {
     "name": "stderr",
     "output_type": "stream",
     "text": [
      " 35%|███▍      | 349/1000 [22:05<40:55,  3.77s/it]"
     ]
    },
    {
     "name": "stdout",
     "output_type": "stream",
     "text": [
      "Test MSE: 182.2153, Test MAE: 6.6887, Test R2: 0.8693\n",
      "Epoch 350/1000\n",
      "Train MSE: 204.2858, Train MAE: 8.3232\n"
     ]
    },
    {
     "name": "stderr",
     "output_type": "stream",
     "text": [
      " 35%|███▌      | 350/1000 [22:08<40:45,  3.76s/it]"
     ]
    },
    {
     "name": "stdout",
     "output_type": "stream",
     "text": [
      "Test MSE: 193.1860, Test MAE: 6.6910, Test R2: 0.8700\n",
      "Epoch 351/1000\n",
      "Train MSE: 211.6774, Train MAE: 8.4032\n"
     ]
    },
    {
     "name": "stderr",
     "output_type": "stream",
     "text": [
      " 35%|███▌      | 351/1000 [22:12<40:34,  3.75s/it]"
     ]
    },
    {
     "name": "stdout",
     "output_type": "stream",
     "text": [
      "Test MSE: 206.3022, Test MAE: 6.8916, Test R2: 0.8581\n",
      "Epoch 352/1000\n",
      "Train MSE: 213.3406, Train MAE: 8.4144\n"
     ]
    },
    {
     "name": "stderr",
     "output_type": "stream",
     "text": [
      " 35%|███▌      | 352/1000 [22:16<40:36,  3.76s/it]"
     ]
    },
    {
     "name": "stdout",
     "output_type": "stream",
     "text": [
      "Test MSE: 163.1029, Test MAE: 6.6084, Test R2: 0.8820\n",
      "Epoch 353/1000\n",
      "Train MSE: 214.8193, Train MAE: 8.4596\n"
     ]
    },
    {
     "name": "stderr",
     "output_type": "stream",
     "text": [
      " 35%|███▌      | 353/1000 [22:20<40:37,  3.77s/it]"
     ]
    },
    {
     "name": "stdout",
     "output_type": "stream",
     "text": [
      "Test MSE: 131.0050, Test MAE: 5.8645, Test R2: 0.9016\n",
      "Epoch 354/1000\n",
      "Train MSE: 214.3551, Train MAE: 8.3804\n"
     ]
    },
    {
     "name": "stderr",
     "output_type": "stream",
     "text": [
      " 35%|███▌      | 354/1000 [22:23<40:14,  3.74s/it]"
     ]
    },
    {
     "name": "stdout",
     "output_type": "stream",
     "text": [
      "Test MSE: 190.1937, Test MAE: 6.8303, Test R2: 0.8730\n",
      "Epoch 355/1000\n",
      "Train MSE: 206.4421, Train MAE: 8.2919\n"
     ]
    },
    {
     "name": "stderr",
     "output_type": "stream",
     "text": [
      " 36%|███▌      | 355/1000 [22:27<39:58,  3.72s/it]"
     ]
    },
    {
     "name": "stdout",
     "output_type": "stream",
     "text": [
      "Test MSE: 182.5733, Test MAE: 6.4397, Test R2: 0.8706\n",
      "Epoch 356/1000\n",
      "Train MSE: 208.3273, Train MAE: 8.2580\n"
     ]
    },
    {
     "name": "stderr",
     "output_type": "stream",
     "text": [
      " 36%|███▌      | 356/1000 [22:31<39:52,  3.71s/it]"
     ]
    },
    {
     "name": "stdout",
     "output_type": "stream",
     "text": [
      "Test MSE: 159.7668, Test MAE: 6.2151, Test R2: 0.8855\n",
      "Epoch 357/1000\n",
      "Train MSE: 205.7908, Train MAE: 8.3023\n"
     ]
    },
    {
     "name": "stderr",
     "output_type": "stream",
     "text": [
      " 36%|███▌      | 357/1000 [22:34<39:57,  3.73s/it]"
     ]
    },
    {
     "name": "stdout",
     "output_type": "stream",
     "text": [
      "Test MSE: 176.8077, Test MAE: 6.2979, Test R2: 0.8779\n",
      "Epoch 358/1000\n",
      "Train MSE: 210.9611, Train MAE: 8.3299\n"
     ]
    },
    {
     "name": "stderr",
     "output_type": "stream",
     "text": [
      " 36%|███▌      | 358/1000 [22:38<39:47,  3.72s/it]"
     ]
    },
    {
     "name": "stdout",
     "output_type": "stream",
     "text": [
      "Test MSE: 167.8741, Test MAE: 6.4252, Test R2: 0.8850\n",
      "Epoch 359/1000\n",
      "Train MSE: 208.6476, Train MAE: 8.3374\n"
     ]
    },
    {
     "name": "stderr",
     "output_type": "stream",
     "text": [
      " 36%|███▌      | 359/1000 [22:42<39:44,  3.72s/it]"
     ]
    },
    {
     "name": "stdout",
     "output_type": "stream",
     "text": [
      "Test MSE: 160.4066, Test MAE: 6.1539, Test R2: 0.8911\n",
      "Epoch 360/1000\n",
      "Train MSE: 212.3679, Train MAE: 8.3862\n"
     ]
    },
    {
     "name": "stderr",
     "output_type": "stream",
     "text": [
      " 36%|███▌      | 360/1000 [22:46<39:38,  3.72s/it]"
     ]
    },
    {
     "name": "stdout",
     "output_type": "stream",
     "text": [
      "Test MSE: 210.4139, Test MAE: 7.2538, Test R2: 0.8541\n",
      "Epoch 361/1000\n",
      "Train MSE: 209.0891, Train MAE: 8.3745\n"
     ]
    },
    {
     "name": "stderr",
     "output_type": "stream",
     "text": [
      " 36%|███▌      | 361/1000 [22:49<39:50,  3.74s/it]"
     ]
    },
    {
     "name": "stdout",
     "output_type": "stream",
     "text": [
      "Test MSE: 189.0348, Test MAE: 6.7974, Test R2: 0.8648\n",
      "Epoch 362/1000\n",
      "Train MSE: 206.9238, Train MAE: 8.3033\n"
     ]
    },
    {
     "name": "stderr",
     "output_type": "stream",
     "text": [
      " 36%|███▌      | 362/1000 [22:53<39:37,  3.73s/it]"
     ]
    },
    {
     "name": "stdout",
     "output_type": "stream",
     "text": [
      "Test MSE: 187.9320, Test MAE: 6.6851, Test R2: 0.8673\n",
      "Epoch 363/1000\n",
      "Train MSE: 212.5165, Train MAE: 8.3683\n"
     ]
    },
    {
     "name": "stderr",
     "output_type": "stream",
     "text": [
      " 36%|███▋      | 363/1000 [22:57<39:24,  3.71s/it]"
     ]
    },
    {
     "name": "stdout",
     "output_type": "stream",
     "text": [
      "Test MSE: 155.3074, Test MAE: 5.9997, Test R2: 0.8900\n",
      "Epoch 364/1000\n",
      "Train MSE: 207.0717, Train MAE: 8.2695\n"
     ]
    },
    {
     "name": "stderr",
     "output_type": "stream",
     "text": [
      " 36%|███▋      | 364/1000 [23:01<39:24,  3.72s/it]"
     ]
    },
    {
     "name": "stdout",
     "output_type": "stream",
     "text": [
      "Test MSE: 173.1377, Test MAE: 6.3337, Test R2: 0.8788\n",
      "Epoch 365/1000\n",
      "Train MSE: 207.3362, Train MAE: 8.3028\n"
     ]
    },
    {
     "name": "stderr",
     "output_type": "stream",
     "text": [
      " 36%|███▋      | 365/1000 [23:04<39:33,  3.74s/it]"
     ]
    },
    {
     "name": "stdout",
     "output_type": "stream",
     "text": [
      "Test MSE: 170.2377, Test MAE: 6.5050, Test R2: 0.8778\n",
      "Epoch 366/1000\n",
      "Train MSE: 201.3429, Train MAE: 8.2377\n"
     ]
    },
    {
     "name": "stderr",
     "output_type": "stream",
     "text": [
      " 37%|███▋      | 366/1000 [23:08<39:35,  3.75s/it]"
     ]
    },
    {
     "name": "stdout",
     "output_type": "stream",
     "text": [
      "Test MSE: 179.4753, Test MAE: 6.4144, Test R2: 0.8808\n",
      "Epoch 367/1000\n",
      "Train MSE: 204.5248, Train MAE: 8.2764\n"
     ]
    },
    {
     "name": "stderr",
     "output_type": "stream",
     "text": [
      " 37%|███▋      | 367/1000 [23:12<39:37,  3.76s/it]"
     ]
    },
    {
     "name": "stdout",
     "output_type": "stream",
     "text": [
      "Test MSE: 169.4564, Test MAE: 6.4512, Test R2: 0.8819\n",
      "Epoch 368/1000\n",
      "Train MSE: 205.8047, Train MAE: 8.2950\n"
     ]
    },
    {
     "name": "stderr",
     "output_type": "stream",
     "text": [
      " 37%|███▋      | 368/1000 [23:16<39:28,  3.75s/it]"
     ]
    },
    {
     "name": "stdout",
     "output_type": "stream",
     "text": [
      "Test MSE: 159.1885, Test MAE: 6.0786, Test R2: 0.8881\n",
      "Epoch 369/1000\n",
      "Train MSE: 207.4953, Train MAE: 8.3507\n"
     ]
    },
    {
     "name": "stderr",
     "output_type": "stream",
     "text": [
      " 37%|███▋      | 369/1000 [23:19<39:32,  3.76s/it]"
     ]
    },
    {
     "name": "stdout",
     "output_type": "stream",
     "text": [
      "Test MSE: 201.6978, Test MAE: 6.8311, Test R2: 0.8651\n",
      "Epoch 370/1000\n",
      "Train MSE: 205.0818, Train MAE: 8.2670\n"
     ]
    },
    {
     "name": "stderr",
     "output_type": "stream",
     "text": [
      " 37%|███▋      | 370/1000 [23:23<39:22,  3.75s/it]"
     ]
    },
    {
     "name": "stdout",
     "output_type": "stream",
     "text": [
      "Test MSE: 191.9615, Test MAE: 6.6478, Test R2: 0.8651\n",
      "Epoch 371/1000\n",
      "Train MSE: 212.8835, Train MAE: 8.4006\n"
     ]
    },
    {
     "name": "stderr",
     "output_type": "stream",
     "text": [
      " 37%|███▋      | 371/1000 [23:27<39:17,  3.75s/it]"
     ]
    },
    {
     "name": "stdout",
     "output_type": "stream",
     "text": [
      "Test MSE: 164.5574, Test MAE: 6.3912, Test R2: 0.8803\n",
      "Epoch 372/1000\n",
      "Train MSE: 206.2430, Train MAE: 8.2777\n"
     ]
    },
    {
     "name": "stderr",
     "output_type": "stream",
     "text": [
      " 37%|███▋      | 372/1000 [23:31<39:04,  3.73s/it]"
     ]
    },
    {
     "name": "stdout",
     "output_type": "stream",
     "text": [
      "Test MSE: 143.5555, Test MAE: 5.9152, Test R2: 0.8987\n",
      "Epoch 373/1000\n",
      "Train MSE: 205.7270, Train MAE: 8.3151\n"
     ]
    },
    {
     "name": "stderr",
     "output_type": "stream",
     "text": [
      " 37%|███▋      | 373/1000 [23:34<39:22,  3.77s/it]"
     ]
    },
    {
     "name": "stdout",
     "output_type": "stream",
     "text": [
      "Test MSE: 162.7944, Test MAE: 6.2285, Test R2: 0.8811\n",
      "Epoch 374/1000\n",
      "Train MSE: 210.0130, Train MAE: 8.3057\n"
     ]
    },
    {
     "name": "stderr",
     "output_type": "stream",
     "text": [
      " 37%|███▋      | 374/1000 [23:38<39:20,  3.77s/it]"
     ]
    },
    {
     "name": "stdout",
     "output_type": "stream",
     "text": [
      "Test MSE: 147.4813, Test MAE: 6.1927, Test R2: 0.8890\n",
      "Epoch 375/1000\n",
      "Train MSE: 204.1652, Train MAE: 8.2771\n"
     ]
    },
    {
     "name": "stderr",
     "output_type": "stream",
     "text": [
      " 38%|███▊      | 375/1000 [23:42<39:09,  3.76s/it]"
     ]
    },
    {
     "name": "stdout",
     "output_type": "stream",
     "text": [
      "Test MSE: 168.7415, Test MAE: 6.1125, Test R2: 0.8846\n",
      "Epoch 376/1000\n",
      "Train MSE: 212.9508, Train MAE: 8.4494\n"
     ]
    },
    {
     "name": "stderr",
     "output_type": "stream",
     "text": [
      " 38%|███▊      | 376/1000 [23:46<38:56,  3.74s/it]"
     ]
    },
    {
     "name": "stdout",
     "output_type": "stream",
     "text": [
      "Test MSE: 155.2300, Test MAE: 6.0498, Test R2: 0.8905\n",
      "Epoch 377/1000\n",
      "Train MSE: 211.7963, Train MAE: 8.3767\n"
     ]
    },
    {
     "name": "stderr",
     "output_type": "stream",
     "text": [
      " 38%|███▊      | 377/1000 [23:49<39:06,  3.77s/it]"
     ]
    },
    {
     "name": "stdout",
     "output_type": "stream",
     "text": [
      "Test MSE: 163.9651, Test MAE: 6.3768, Test R2: 0.8852\n",
      "Epoch 378/1000\n",
      "Train MSE: 212.3253, Train MAE: 8.3657\n"
     ]
    },
    {
     "name": "stderr",
     "output_type": "stream",
     "text": [
      " 38%|███▊      | 378/1000 [23:53<39:09,  3.78s/it]"
     ]
    },
    {
     "name": "stdout",
     "output_type": "stream",
     "text": [
      "Test MSE: 161.1733, Test MAE: 6.3882, Test R2: 0.8738\n",
      "Epoch 379/1000\n",
      "Train MSE: 205.9269, Train MAE: 8.2685\n"
     ]
    },
    {
     "name": "stderr",
     "output_type": "stream",
     "text": [
      " 38%|███▊      | 379/1000 [23:57<39:12,  3.79s/it]"
     ]
    },
    {
     "name": "stdout",
     "output_type": "stream",
     "text": [
      "Test MSE: 136.6013, Test MAE: 5.9386, Test R2: 0.8977\n",
      "Epoch 380/1000\n",
      "Train MSE: 204.3743, Train MAE: 8.2464\n"
     ]
    },
    {
     "name": "stderr",
     "output_type": "stream",
     "text": [
      " 38%|███▊      | 380/1000 [24:01<39:10,  3.79s/it]"
     ]
    },
    {
     "name": "stdout",
     "output_type": "stream",
     "text": [
      "Test MSE: 206.0001, Test MAE: 6.7428, Test R2: 0.8592\n",
      "Epoch 381/1000\n",
      "Train MSE: 211.0429, Train MAE: 8.3568\n"
     ]
    },
    {
     "name": "stderr",
     "output_type": "stream",
     "text": [
      " 38%|███▊      | 381/1000 [24:05<39:01,  3.78s/it]"
     ]
    },
    {
     "name": "stdout",
     "output_type": "stream",
     "text": [
      "Test MSE: 136.8261, Test MAE: 5.7273, Test R2: 0.8997\n",
      "Epoch 382/1000\n",
      "Train MSE: 207.9503, Train MAE: 8.3284\n"
     ]
    },
    {
     "name": "stderr",
     "output_type": "stream",
     "text": [
      " 38%|███▊      | 382/1000 [24:08<39:13,  3.81s/it]"
     ]
    },
    {
     "name": "stdout",
     "output_type": "stream",
     "text": [
      "Test MSE: 184.3797, Test MAE: 6.4350, Test R2: 0.8768\n",
      "Epoch 383/1000\n",
      "Train MSE: 205.4930, Train MAE: 8.2872\n"
     ]
    },
    {
     "name": "stderr",
     "output_type": "stream",
     "text": [
      " 38%|███▊      | 383/1000 [24:12<39:08,  3.81s/it]"
     ]
    },
    {
     "name": "stdout",
     "output_type": "stream",
     "text": [
      "Test MSE: 147.6327, Test MAE: 6.0883, Test R2: 0.8901\n",
      "Epoch 384/1000\n",
      "Train MSE: 207.8712, Train MAE: 8.3404\n"
     ]
    },
    {
     "name": "stderr",
     "output_type": "stream",
     "text": [
      " 38%|███▊      | 384/1000 [24:16<38:57,  3.79s/it]"
     ]
    },
    {
     "name": "stdout",
     "output_type": "stream",
     "text": [
      "Test MSE: 176.1435, Test MAE: 6.5424, Test R2: 0.8768\n",
      "Epoch 385/1000\n",
      "Train MSE: 207.2076, Train MAE: 8.2500\n"
     ]
    },
    {
     "name": "stderr",
     "output_type": "stream",
     "text": [
      " 38%|███▊      | 385/1000 [24:20<38:52,  3.79s/it]"
     ]
    },
    {
     "name": "stdout",
     "output_type": "stream",
     "text": [
      "Test MSE: 167.3286, Test MAE: 6.1184, Test R2: 0.8719\n",
      "Epoch 386/1000\n",
      "Train MSE: 205.8505, Train MAE: 8.2372\n"
     ]
    },
    {
     "name": "stderr",
     "output_type": "stream",
     "text": [
      " 39%|███▊      | 386/1000 [24:24<38:56,  3.81s/it]"
     ]
    },
    {
     "name": "stdout",
     "output_type": "stream",
     "text": [
      "Test MSE: 160.4263, Test MAE: 6.1890, Test R2: 0.8849\n",
      "Epoch 387/1000\n",
      "Train MSE: 209.2094, Train MAE: 8.2522\n"
     ]
    },
    {
     "name": "stderr",
     "output_type": "stream",
     "text": [
      " 39%|███▊      | 387/1000 [24:28<39:06,  3.83s/it]"
     ]
    },
    {
     "name": "stdout",
     "output_type": "stream",
     "text": [
      "Test MSE: 184.8380, Test MAE: 6.8236, Test R2: 0.8704\n",
      "Epoch 388/1000\n",
      "Train MSE: 203.4556, Train MAE: 8.2206\n"
     ]
    },
    {
     "name": "stderr",
     "output_type": "stream",
     "text": [
      " 39%|███▉      | 388/1000 [24:31<39:06,  3.83s/it]"
     ]
    },
    {
     "name": "stdout",
     "output_type": "stream",
     "text": [
      "Test MSE: 181.3061, Test MAE: 6.3798, Test R2: 0.8735\n",
      "Epoch 389/1000\n",
      "Train MSE: 209.7401, Train MAE: 8.2977\n"
     ]
    },
    {
     "name": "stderr",
     "output_type": "stream",
     "text": [
      " 39%|███▉      | 389/1000 [24:35<39:10,  3.85s/it]"
     ]
    },
    {
     "name": "stdout",
     "output_type": "stream",
     "text": [
      "Test MSE: 170.3185, Test MAE: 6.6320, Test R2: 0.8733\n",
      "Epoch 390/1000\n",
      "Train MSE: 207.1877, Train MAE: 8.2992\n"
     ]
    },
    {
     "name": "stderr",
     "output_type": "stream",
     "text": [
      " 39%|███▉      | 390/1000 [24:39<39:29,  3.88s/it]"
     ]
    },
    {
     "name": "stdout",
     "output_type": "stream",
     "text": [
      "Test MSE: 179.2600, Test MAE: 6.3997, Test R2: 0.8706\n",
      "Epoch 391/1000\n",
      "Train MSE: 206.0307, Train MAE: 8.2864\n"
     ]
    },
    {
     "name": "stderr",
     "output_type": "stream",
     "text": [
      " 39%|███▉      | 391/1000 [24:43<39:27,  3.89s/it]"
     ]
    },
    {
     "name": "stdout",
     "output_type": "stream",
     "text": [
      "Test MSE: 243.2587, Test MAE: 7.5782, Test R2: 0.8329\n",
      "Epoch 392/1000\n",
      "Train MSE: 202.6735, Train MAE: 8.2434\n"
     ]
    },
    {
     "name": "stderr",
     "output_type": "stream",
     "text": [
      " 39%|███▉      | 392/1000 [24:47<39:19,  3.88s/it]"
     ]
    },
    {
     "name": "stdout",
     "output_type": "stream",
     "text": [
      "Test MSE: 180.1329, Test MAE: 6.6562, Test R2: 0.8671\n",
      "Epoch 393/1000\n",
      "Train MSE: 209.3130, Train MAE: 8.3359\n"
     ]
    },
    {
     "name": "stderr",
     "output_type": "stream",
     "text": [
      " 39%|███▉      | 393/1000 [24:51<39:07,  3.87s/it]"
     ]
    },
    {
     "name": "stdout",
     "output_type": "stream",
     "text": [
      "Test MSE: 174.1472, Test MAE: 6.0857, Test R2: 0.8802\n",
      "Epoch 394/1000\n",
      "Train MSE: 209.1226, Train MAE: 8.3174\n"
     ]
    },
    {
     "name": "stderr",
     "output_type": "stream",
     "text": [
      " 39%|███▉      | 394/1000 [24:55<39:05,  3.87s/it]"
     ]
    },
    {
     "name": "stdout",
     "output_type": "stream",
     "text": [
      "Test MSE: 142.9554, Test MAE: 6.1162, Test R2: 0.8890\n",
      "Epoch 395/1000\n",
      "Train MSE: 207.3704, Train MAE: 8.3266\n"
     ]
    },
    {
     "name": "stderr",
     "output_type": "stream",
     "text": [
      " 40%|███▉      | 395/1000 [24:59<38:54,  3.86s/it]"
     ]
    },
    {
     "name": "stdout",
     "output_type": "stream",
     "text": [
      "Test MSE: 169.4572, Test MAE: 6.1307, Test R2: 0.8844\n",
      "Epoch 396/1000\n",
      "Train MSE: 208.5545, Train MAE: 8.3349\n"
     ]
    },
    {
     "name": "stderr",
     "output_type": "stream",
     "text": [
      " 40%|███▉      | 396/1000 [25:02<39:08,  3.89s/it]"
     ]
    },
    {
     "name": "stdout",
     "output_type": "stream",
     "text": [
      "Test MSE: 186.6358, Test MAE: 6.6073, Test R2: 0.8714\n",
      "Epoch 397/1000\n",
      "Train MSE: 213.6981, Train MAE: 8.3842\n"
     ]
    },
    {
     "name": "stderr",
     "output_type": "stream",
     "text": [
      " 40%|███▉      | 397/1000 [25:06<39:04,  3.89s/it]"
     ]
    },
    {
     "name": "stdout",
     "output_type": "stream",
     "text": [
      "Test MSE: 189.9872, Test MAE: 6.7596, Test R2: 0.8692\n",
      "Epoch 398/1000\n",
      "Train MSE: 205.3663, Train MAE: 8.2347\n"
     ]
    },
    {
     "name": "stderr",
     "output_type": "stream",
     "text": [
      " 40%|███▉      | 398/1000 [25:10<38:45,  3.86s/it]"
     ]
    },
    {
     "name": "stdout",
     "output_type": "stream",
     "text": [
      "Test MSE: 131.3085, Test MAE: 5.9698, Test R2: 0.8974\n",
      "Epoch 399/1000\n",
      "Train MSE: 207.0106, Train MAE: 8.2637\n"
     ]
    },
    {
     "name": "stderr",
     "output_type": "stream",
     "text": [
      " 40%|███▉      | 399/1000 [25:14<38:11,  3.81s/it]"
     ]
    },
    {
     "name": "stdout",
     "output_type": "stream",
     "text": [
      "Test MSE: 145.6930, Test MAE: 6.1299, Test R2: 0.8950\n",
      "Epoch 400/1000\n",
      "Train MSE: 203.0786, Train MAE: 8.1839\n"
     ]
    },
    {
     "name": "stderr",
     "output_type": "stream",
     "text": [
      " 40%|████      | 400/1000 [25:18<38:04,  3.81s/it]"
     ]
    },
    {
     "name": "stdout",
     "output_type": "stream",
     "text": [
      "Test MSE: 141.1211, Test MAE: 5.9959, Test R2: 0.8952\n",
      "Epoch 401/1000\n",
      "Train MSE: 204.0422, Train MAE: 8.2311\n"
     ]
    },
    {
     "name": "stderr",
     "output_type": "stream",
     "text": [
      " 40%|████      | 401/1000 [25:21<37:54,  3.80s/it]"
     ]
    },
    {
     "name": "stdout",
     "output_type": "stream",
     "text": [
      "Test MSE: 173.5991, Test MAE: 6.4198, Test R2: 0.8812\n",
      "Epoch 402/1000\n",
      "Train MSE: 206.4146, Train MAE: 8.3079\n"
     ]
    },
    {
     "name": "stderr",
     "output_type": "stream",
     "text": [
      " 40%|████      | 402/1000 [25:25<38:07,  3.82s/it]"
     ]
    },
    {
     "name": "stdout",
     "output_type": "stream",
     "text": [
      "Test MSE: 185.1358, Test MAE: 6.5697, Test R2: 0.8706\n",
      "Epoch 403/1000\n",
      "Train MSE: 207.9035, Train MAE: 8.2604\n"
     ]
    },
    {
     "name": "stderr",
     "output_type": "stream",
     "text": [
      " 40%|████      | 403/1000 [25:29<37:55,  3.81s/it]"
     ]
    },
    {
     "name": "stdout",
     "output_type": "stream",
     "text": [
      "Test MSE: 220.2137, Test MAE: 6.8514, Test R2: 0.8541\n",
      "Epoch 404/1000\n",
      "Train MSE: 201.4040, Train MAE: 8.2062\n"
     ]
    },
    {
     "name": "stderr",
     "output_type": "stream",
     "text": [
      " 40%|████      | 404/1000 [25:33<37:40,  3.79s/it]"
     ]
    },
    {
     "name": "stdout",
     "output_type": "stream",
     "text": [
      "Test MSE: 158.3326, Test MAE: 6.3364, Test R2: 0.8809\n",
      "Epoch 405/1000\n",
      "Train MSE: 205.4189, Train MAE: 8.2157\n"
     ]
    },
    {
     "name": "stderr",
     "output_type": "stream",
     "text": [
      " 40%|████      | 405/1000 [25:37<37:34,  3.79s/it]"
     ]
    },
    {
     "name": "stdout",
     "output_type": "stream",
     "text": [
      "Test MSE: 154.1206, Test MAE: 6.1325, Test R2: 0.8927\n",
      "Epoch 406/1000\n",
      "Train MSE: 205.2995, Train MAE: 8.3026\n"
     ]
    },
    {
     "name": "stderr",
     "output_type": "stream",
     "text": [
      " 41%|████      | 406/1000 [25:40<37:31,  3.79s/it]"
     ]
    },
    {
     "name": "stdout",
     "output_type": "stream",
     "text": [
      "Test MSE: 206.6982, Test MAE: 7.0137, Test R2: 0.8567\n",
      "Epoch 407/1000\n",
      "Train MSE: 200.6081, Train MAE: 8.1878\n"
     ]
    },
    {
     "name": "stderr",
     "output_type": "stream",
     "text": [
      " 41%|████      | 407/1000 [25:44<37:34,  3.80s/it]"
     ]
    },
    {
     "name": "stdout",
     "output_type": "stream",
     "text": [
      "Test MSE: 160.3384, Test MAE: 6.2596, Test R2: 0.8842\n",
      "Epoch 408/1000\n",
      "Train MSE: 203.8428, Train MAE: 8.2775\n"
     ]
    },
    {
     "name": "stderr",
     "output_type": "stream",
     "text": [
      " 41%|████      | 408/1000 [25:48<37:56,  3.84s/it]"
     ]
    },
    {
     "name": "stdout",
     "output_type": "stream",
     "text": [
      "Test MSE: 175.7819, Test MAE: 6.4532, Test R2: 0.8821\n",
      "Epoch 409/1000\n",
      "Train MSE: 208.5214, Train MAE: 8.3140\n"
     ]
    },
    {
     "name": "stderr",
     "output_type": "stream",
     "text": [
      " 41%|████      | 409/1000 [25:52<37:51,  3.84s/it]"
     ]
    },
    {
     "name": "stdout",
     "output_type": "stream",
     "text": [
      "Test MSE: 177.2896, Test MAE: 6.2734, Test R2: 0.8816\n",
      "Epoch 410/1000\n",
      "Train MSE: 205.4120, Train MAE: 8.2530\n"
     ]
    },
    {
     "name": "stderr",
     "output_type": "stream",
     "text": [
      " 41%|████      | 410/1000 [25:56<38:20,  3.90s/it]"
     ]
    },
    {
     "name": "stdout",
     "output_type": "stream",
     "text": [
      "Test MSE: 179.7029, Test MAE: 6.5755, Test R2: 0.8762\n",
      "Epoch 411/1000\n",
      "Train MSE: 208.2334, Train MAE: 8.2827\n"
     ]
    },
    {
     "name": "stderr",
     "output_type": "stream",
     "text": [
      " 41%|████      | 411/1000 [26:00<37:59,  3.87s/it]"
     ]
    },
    {
     "name": "stdout",
     "output_type": "stream",
     "text": [
      "Test MSE: 177.9301, Test MAE: 6.6487, Test R2: 0.8776\n",
      "Epoch 412/1000\n",
      "Train MSE: 208.5799, Train MAE: 8.2728\n"
     ]
    },
    {
     "name": "stderr",
     "output_type": "stream",
     "text": [
      " 41%|████      | 412/1000 [26:04<37:34,  3.83s/it]"
     ]
    },
    {
     "name": "stdout",
     "output_type": "stream",
     "text": [
      "Test MSE: 196.1319, Test MAE: 6.8190, Test R2: 0.8721\n",
      "Epoch 413/1000\n",
      "Train MSE: 205.1885, Train MAE: 8.2835\n"
     ]
    },
    {
     "name": "stderr",
     "output_type": "stream",
     "text": [
      " 41%|████▏     | 413/1000 [26:07<37:24,  3.82s/it]"
     ]
    },
    {
     "name": "stdout",
     "output_type": "stream",
     "text": [
      "Test MSE: 161.5144, Test MAE: 6.2790, Test R2: 0.8850\n",
      "Epoch 414/1000\n",
      "Train MSE: 201.9900, Train MAE: 8.2259\n"
     ]
    },
    {
     "name": "stderr",
     "output_type": "stream",
     "text": [
      " 41%|████▏     | 414/1000 [26:11<37:24,  3.83s/it]"
     ]
    },
    {
     "name": "stdout",
     "output_type": "stream",
     "text": [
      "Test MSE: 169.8430, Test MAE: 6.4282, Test R2: 0.8761\n",
      "Epoch 415/1000\n",
      "Train MSE: 206.1220, Train MAE: 8.2662\n"
     ]
    },
    {
     "name": "stderr",
     "output_type": "stream",
     "text": [
      " 42%|████▏     | 415/1000 [26:15<37:30,  3.85s/it]"
     ]
    },
    {
     "name": "stdout",
     "output_type": "stream",
     "text": [
      "Test MSE: 191.5301, Test MAE: 6.6381, Test R2: 0.8615\n",
      "Epoch 416/1000\n",
      "Train MSE: 203.1884, Train MAE: 8.2221\n"
     ]
    },
    {
     "name": "stderr",
     "output_type": "stream",
     "text": [
      " 42%|████▏     | 416/1000 [26:19<37:12,  3.82s/it]"
     ]
    },
    {
     "name": "stdout",
     "output_type": "stream",
     "text": [
      "Test MSE: 169.4568, Test MAE: 6.5486, Test R2: 0.8796\n",
      "Epoch 417/1000\n",
      "Train MSE: 203.6233, Train MAE: 8.2134\n"
     ]
    },
    {
     "name": "stderr",
     "output_type": "stream",
     "text": [
      " 42%|████▏     | 417/1000 [26:23<36:47,  3.79s/it]"
     ]
    },
    {
     "name": "stdout",
     "output_type": "stream",
     "text": [
      "Test MSE: 180.9069, Test MAE: 6.7609, Test R2: 0.8688\n",
      "Epoch 418/1000\n",
      "Train MSE: 206.7306, Train MAE: 8.3208\n"
     ]
    },
    {
     "name": "stderr",
     "output_type": "stream",
     "text": [
      " 42%|████▏     | 418/1000 [26:26<36:35,  3.77s/it]"
     ]
    },
    {
     "name": "stdout",
     "output_type": "stream",
     "text": [
      "Test MSE: 181.3092, Test MAE: 6.6006, Test R2: 0.8784\n",
      "Epoch 419/1000\n",
      "Train MSE: 204.2582, Train MAE: 8.1912\n"
     ]
    },
    {
     "name": "stderr",
     "output_type": "stream",
     "text": [
      " 42%|████▏     | 419/1000 [26:30<36:30,  3.77s/it]"
     ]
    },
    {
     "name": "stdout",
     "output_type": "stream",
     "text": [
      "Test MSE: 173.0431, Test MAE: 6.4975, Test R2: 0.8796\n",
      "Epoch 420/1000\n",
      "Train MSE: 204.2146, Train MAE: 8.2732\n"
     ]
    },
    {
     "name": "stderr",
     "output_type": "stream",
     "text": [
      " 42%|████▏     | 420/1000 [26:34<36:48,  3.81s/it]"
     ]
    },
    {
     "name": "stdout",
     "output_type": "stream",
     "text": [
      "Test MSE: 160.1956, Test MAE: 6.3610, Test R2: 0.8878\n",
      "Epoch 421/1000\n",
      "Train MSE: 202.2757, Train MAE: 8.1873\n"
     ]
    },
    {
     "name": "stderr",
     "output_type": "stream",
     "text": [
      " 42%|████▏     | 421/1000 [26:38<37:00,  3.84s/it]"
     ]
    },
    {
     "name": "stdout",
     "output_type": "stream",
     "text": [
      "Test MSE: 149.7686, Test MAE: 6.1359, Test R2: 0.8853\n",
      "Epoch 422/1000\n",
      "Train MSE: 208.4635, Train MAE: 8.2618\n"
     ]
    },
    {
     "name": "stderr",
     "output_type": "stream",
     "text": [
      " 42%|████▏     | 422/1000 [26:42<37:09,  3.86s/it]"
     ]
    },
    {
     "name": "stdout",
     "output_type": "stream",
     "text": [
      "Test MSE: 173.0218, Test MAE: 6.5672, Test R2: 0.8769\n",
      "Epoch 423/1000\n",
      "Train MSE: 202.5844, Train MAE: 8.2177\n"
     ]
    },
    {
     "name": "stderr",
     "output_type": "stream",
     "text": [
      " 42%|████▏     | 423/1000 [26:46<37:03,  3.85s/it]"
     ]
    },
    {
     "name": "stdout",
     "output_type": "stream",
     "text": [
      "Test MSE: 190.6196, Test MAE: 6.5715, Test R2: 0.8650\n",
      "Epoch 424/1000\n",
      "Train MSE: 206.1293, Train MAE: 8.2985\n"
     ]
    },
    {
     "name": "stderr",
     "output_type": "stream",
     "text": [
      " 42%|████▏     | 424/1000 [26:49<36:37,  3.81s/it]"
     ]
    },
    {
     "name": "stdout",
     "output_type": "stream",
     "text": [
      "Test MSE: 195.9771, Test MAE: 6.5585, Test R2: 0.8650\n",
      "Epoch 425/1000\n",
      "Train MSE: 204.0421, Train MAE: 8.2434\n"
     ]
    },
    {
     "name": "stderr",
     "output_type": "stream",
     "text": [
      " 42%|████▎     | 425/1000 [26:53<36:24,  3.80s/it]"
     ]
    },
    {
     "name": "stdout",
     "output_type": "stream",
     "text": [
      "Test MSE: 171.5068, Test MAE: 6.4608, Test R2: 0.8798\n",
      "Epoch 426/1000\n",
      "Train MSE: 203.0931, Train MAE: 8.2507\n"
     ]
    },
    {
     "name": "stderr",
     "output_type": "stream",
     "text": [
      " 43%|████▎     | 426/1000 [26:57<36:08,  3.78s/it]"
     ]
    },
    {
     "name": "stdout",
     "output_type": "stream",
     "text": [
      "Test MSE: 202.3287, Test MAE: 6.9056, Test R2: 0.8558\n",
      "Epoch 427/1000\n",
      "Train MSE: 203.0238, Train MAE: 8.2526\n"
     ]
    },
    {
     "name": "stderr",
     "output_type": "stream",
     "text": [
      " 43%|████▎     | 427/1000 [27:01<36:33,  3.83s/it]"
     ]
    },
    {
     "name": "stdout",
     "output_type": "stream",
     "text": [
      "Test MSE: 146.6364, Test MAE: 6.0012, Test R2: 0.8898\n",
      "Epoch 428/1000\n",
      "Train MSE: 209.6695, Train MAE: 8.3303\n"
     ]
    },
    {
     "name": "stderr",
     "output_type": "stream",
     "text": [
      " 43%|████▎     | 428/1000 [27:05<36:33,  3.83s/it]"
     ]
    },
    {
     "name": "stdout",
     "output_type": "stream",
     "text": [
      "Test MSE: 176.7706, Test MAE: 6.3435, Test R2: 0.8730\n",
      "Epoch 429/1000\n",
      "Train MSE: 197.6259, Train MAE: 8.1195\n"
     ]
    },
    {
     "name": "stderr",
     "output_type": "stream",
     "text": [
      " 43%|████▎     | 429/1000 [27:09<36:33,  3.84s/it]"
     ]
    },
    {
     "name": "stdout",
     "output_type": "stream",
     "text": [
      "Test MSE: 231.6707, Test MAE: 7.0405, Test R2: 0.8473\n",
      "Epoch 430/1000\n",
      "Train MSE: 200.9647, Train MAE: 8.1856\n"
     ]
    },
    {
     "name": "stderr",
     "output_type": "stream",
     "text": [
      " 43%|████▎     | 430/1000 [27:12<36:12,  3.81s/it]"
     ]
    },
    {
     "name": "stdout",
     "output_type": "stream",
     "text": [
      "Test MSE: 188.7396, Test MAE: 6.3912, Test R2: 0.8662\n",
      "Epoch 431/1000\n",
      "Train MSE: 202.0271, Train MAE: 8.2575\n"
     ]
    },
    {
     "name": "stderr",
     "output_type": "stream",
     "text": [
      " 43%|████▎     | 431/1000 [27:16<36:23,  3.84s/it]"
     ]
    },
    {
     "name": "stdout",
     "output_type": "stream",
     "text": [
      "Test MSE: 173.7464, Test MAE: 6.4147, Test R2: 0.8774\n",
      "Epoch 432/1000\n",
      "Train MSE: 204.2411, Train MAE: 8.2400\n"
     ]
    },
    {
     "name": "stderr",
     "output_type": "stream",
     "text": [
      " 43%|████▎     | 432/1000 [27:20<36:30,  3.86s/it]"
     ]
    },
    {
     "name": "stdout",
     "output_type": "stream",
     "text": [
      "Test MSE: 168.0444, Test MAE: 6.2741, Test R2: 0.8814\n",
      "Epoch 433/1000\n",
      "Train MSE: 202.3087, Train MAE: 8.2176\n"
     ]
    },
    {
     "name": "stderr",
     "output_type": "stream",
     "text": [
      " 43%|████▎     | 433/1000 [27:24<36:03,  3.82s/it]"
     ]
    },
    {
     "name": "stdout",
     "output_type": "stream",
     "text": [
      "Test MSE: 192.5389, Test MAE: 6.5074, Test R2: 0.8717\n",
      "Epoch 434/1000\n",
      "Train MSE: 200.5412, Train MAE: 8.1884\n"
     ]
    },
    {
     "name": "stderr",
     "output_type": "stream",
     "text": [
      " 43%|████▎     | 434/1000 [27:28<36:14,  3.84s/it]"
     ]
    },
    {
     "name": "stdout",
     "output_type": "stream",
     "text": [
      "Test MSE: 140.1007, Test MAE: 5.8932, Test R2: 0.9010\n",
      "Epoch 435/1000\n",
      "Train MSE: 199.5592, Train MAE: 8.1869\n"
     ]
    },
    {
     "name": "stderr",
     "output_type": "stream",
     "text": [
      " 44%|████▎     | 435/1000 [27:32<36:50,  3.91s/it]"
     ]
    },
    {
     "name": "stdout",
     "output_type": "stream",
     "text": [
      "Test MSE: 193.4234, Test MAE: 6.8999, Test R2: 0.8675\n",
      "Epoch 436/1000\n",
      "Train MSE: 205.7469, Train MAE: 8.2879\n"
     ]
    },
    {
     "name": "stderr",
     "output_type": "stream",
     "text": [
      " 44%|████▎     | 436/1000 [27:36<36:59,  3.93s/it]"
     ]
    },
    {
     "name": "stdout",
     "output_type": "stream",
     "text": [
      "Test MSE: 183.4634, Test MAE: 6.5614, Test R2: 0.8691\n",
      "Epoch 437/1000\n",
      "Train MSE: 202.6979, Train MAE: 8.1847\n"
     ]
    },
    {
     "name": "stderr",
     "output_type": "stream",
     "text": [
      " 44%|████▎     | 437/1000 [27:40<36:50,  3.93s/it]"
     ]
    },
    {
     "name": "stdout",
     "output_type": "stream",
     "text": [
      "Test MSE: 176.2493, Test MAE: 6.3750, Test R2: 0.8769\n",
      "Epoch 438/1000\n",
      "Train MSE: 203.9784, Train MAE: 8.2083\n"
     ]
    },
    {
     "name": "stderr",
     "output_type": "stream",
     "text": [
      " 44%|████▍     | 438/1000 [27:44<36:51,  3.93s/it]"
     ]
    },
    {
     "name": "stdout",
     "output_type": "stream",
     "text": [
      "Test MSE: 153.9125, Test MAE: 6.2576, Test R2: 0.8884\n",
      "Epoch 439/1000\n",
      "Train MSE: 198.8793, Train MAE: 8.1809\n"
     ]
    },
    {
     "name": "stderr",
     "output_type": "stream",
     "text": [
      " 44%|████▍     | 439/1000 [27:48<36:57,  3.95s/it]"
     ]
    },
    {
     "name": "stdout",
     "output_type": "stream",
     "text": [
      "Test MSE: 161.4661, Test MAE: 6.2404, Test R2: 0.8830\n",
      "Epoch 440/1000\n",
      "Train MSE: 204.6820, Train MAE: 8.2363\n"
     ]
    },
    {
     "name": "stderr",
     "output_type": "stream",
     "text": [
      " 44%|████▍     | 440/1000 [27:52<37:05,  3.97s/it]"
     ]
    },
    {
     "name": "stdout",
     "output_type": "stream",
     "text": [
      "Test MSE: 153.5906, Test MAE: 6.0776, Test R2: 0.8866\n",
      "Epoch 441/1000\n",
      "Train MSE: 205.5343, Train MAE: 8.2744\n"
     ]
    },
    {
     "name": "stderr",
     "output_type": "stream",
     "text": [
      " 44%|████▍     | 441/1000 [27:56<37:06,  3.98s/it]"
     ]
    },
    {
     "name": "stdout",
     "output_type": "stream",
     "text": [
      "Test MSE: 172.1532, Test MAE: 6.2337, Test R2: 0.8772\n",
      "Epoch 442/1000\n",
      "Train MSE: 200.1200, Train MAE: 8.2228\n"
     ]
    },
    {
     "name": "stderr",
     "output_type": "stream",
     "text": [
      " 44%|████▍     | 442/1000 [28:00<36:44,  3.95s/it]"
     ]
    },
    {
     "name": "stdout",
     "output_type": "stream",
     "text": [
      "Test MSE: 160.0658, Test MAE: 6.0186, Test R2: 0.8833\n",
      "Epoch 443/1000\n",
      "Train MSE: 206.9601, Train MAE: 8.3319\n"
     ]
    },
    {
     "name": "stderr",
     "output_type": "stream",
     "text": [
      " 44%|████▍     | 443/1000 [28:03<36:36,  3.94s/it]"
     ]
    },
    {
     "name": "stdout",
     "output_type": "stream",
     "text": [
      "Test MSE: 199.4288, Test MAE: 6.9360, Test R2: 0.8663\n",
      "Epoch 444/1000\n",
      "Train MSE: 202.1749, Train MAE: 8.1908\n"
     ]
    },
    {
     "name": "stderr",
     "output_type": "stream",
     "text": [
      " 44%|████▍     | 444/1000 [28:07<36:16,  3.91s/it]"
     ]
    },
    {
     "name": "stdout",
     "output_type": "stream",
     "text": [
      "Test MSE: 167.6820, Test MAE: 6.3090, Test R2: 0.8799\n",
      "Epoch 445/1000\n",
      "Train MSE: 205.8701, Train MAE: 8.2401\n"
     ]
    },
    {
     "name": "stderr",
     "output_type": "stream",
     "text": [
      " 44%|████▍     | 445/1000 [28:11<35:58,  3.89s/it]"
     ]
    },
    {
     "name": "stdout",
     "output_type": "stream",
     "text": [
      "Test MSE: 151.6688, Test MAE: 5.9998, Test R2: 0.8919\n",
      "Epoch 446/1000\n",
      "Train MSE: 199.0384, Train MAE: 8.1808\n"
     ]
    },
    {
     "name": "stderr",
     "output_type": "stream",
     "text": [
      " 45%|████▍     | 446/1000 [28:15<35:51,  3.88s/it]"
     ]
    },
    {
     "name": "stdout",
     "output_type": "stream",
     "text": [
      "Test MSE: 175.0591, Test MAE: 6.4511, Test R2: 0.8799\n",
      "Epoch 447/1000\n",
      "Train MSE: 200.6117, Train MAE: 8.2031\n"
     ]
    },
    {
     "name": "stderr",
     "output_type": "stream",
     "text": [
      " 45%|████▍     | 447/1000 [28:19<35:47,  3.88s/it]"
     ]
    },
    {
     "name": "stdout",
     "output_type": "stream",
     "text": [
      "Test MSE: 137.6722, Test MAE: 5.8683, Test R2: 0.8960\n",
      "Epoch 448/1000\n",
      "Train MSE: 194.2678, Train MAE: 8.1194\n"
     ]
    },
    {
     "name": "stderr",
     "output_type": "stream",
     "text": [
      " 45%|████▍     | 448/1000 [28:23<35:52,  3.90s/it]"
     ]
    },
    {
     "name": "stdout",
     "output_type": "stream",
     "text": [
      "Test MSE: 155.8417, Test MAE: 6.2839, Test R2: 0.8803\n",
      "Epoch 449/1000\n",
      "Train MSE: 204.1424, Train MAE: 8.2389\n"
     ]
    },
    {
     "name": "stderr",
     "output_type": "stream",
     "text": [
      " 45%|████▍     | 449/1000 [28:27<35:58,  3.92s/it]"
     ]
    },
    {
     "name": "stdout",
     "output_type": "stream",
     "text": [
      "Test MSE: 166.5702, Test MAE: 6.4767, Test R2: 0.8841\n",
      "Epoch 450/1000\n",
      "Train MSE: 200.7595, Train MAE: 8.1517\n"
     ]
    },
    {
     "name": "stderr",
     "output_type": "stream",
     "text": [
      " 45%|████▌     | 450/1000 [28:31<35:39,  3.89s/it]"
     ]
    },
    {
     "name": "stdout",
     "output_type": "stream",
     "text": [
      "Test MSE: 159.6834, Test MAE: 6.0934, Test R2: 0.8865\n",
      "Epoch 451/1000\n",
      "Train MSE: 202.4071, Train MAE: 8.1920\n"
     ]
    },
    {
     "name": "stderr",
     "output_type": "stream",
     "text": [
      " 45%|████▌     | 451/1000 [28:35<35:33,  3.89s/it]"
     ]
    },
    {
     "name": "stdout",
     "output_type": "stream",
     "text": [
      "Test MSE: 167.0358, Test MAE: 6.3025, Test R2: 0.8826\n",
      "Epoch 452/1000\n",
      "Train MSE: 206.8410, Train MAE: 8.2795\n"
     ]
    },
    {
     "name": "stderr",
     "output_type": "stream",
     "text": [
      " 45%|████▌     | 452/1000 [28:38<35:46,  3.92s/it]"
     ]
    },
    {
     "name": "stdout",
     "output_type": "stream",
     "text": [
      "Test MSE: 169.6109, Test MAE: 6.2865, Test R2: 0.8845\n",
      "Epoch 453/1000\n",
      "Train MSE: 201.4275, Train MAE: 8.2205\n"
     ]
    },
    {
     "name": "stderr",
     "output_type": "stream",
     "text": [
      " 45%|████▌     | 453/1000 [28:42<35:36,  3.91s/it]"
     ]
    },
    {
     "name": "stdout",
     "output_type": "stream",
     "text": [
      "Test MSE: 167.6019, Test MAE: 6.1616, Test R2: 0.8840\n",
      "Epoch 454/1000\n",
      "Train MSE: 204.0455, Train MAE: 8.2375\n"
     ]
    },
    {
     "name": "stderr",
     "output_type": "stream",
     "text": [
      " 45%|████▌     | 454/1000 [28:46<35:44,  3.93s/it]"
     ]
    },
    {
     "name": "stdout",
     "output_type": "stream",
     "text": [
      "Test MSE: 154.0593, Test MAE: 6.1601, Test R2: 0.8899\n",
      "Epoch 455/1000\n",
      "Train MSE: 196.5951, Train MAE: 8.1185\n"
     ]
    },
    {
     "name": "stderr",
     "output_type": "stream",
     "text": [
      " 46%|████▌     | 455/1000 [28:50<35:54,  3.95s/it]"
     ]
    },
    {
     "name": "stdout",
     "output_type": "stream",
     "text": [
      "Test MSE: 164.7756, Test MAE: 6.1245, Test R2: 0.8826\n",
      "Epoch 456/1000\n",
      "Train MSE: 199.4560, Train MAE: 8.1623\n"
     ]
    },
    {
     "name": "stderr",
     "output_type": "stream",
     "text": [
      " 46%|████▌     | 456/1000 [28:54<36:07,  3.99s/it]"
     ]
    },
    {
     "name": "stdout",
     "output_type": "stream",
     "text": [
      "Test MSE: 190.2803, Test MAE: 6.5013, Test R2: 0.8645\n",
      "Epoch 457/1000\n",
      "Train MSE: 196.7567, Train MAE: 8.1171\n"
     ]
    },
    {
     "name": "stderr",
     "output_type": "stream",
     "text": [
      " 46%|████▌     | 457/1000 [28:58<35:55,  3.97s/it]"
     ]
    },
    {
     "name": "stdout",
     "output_type": "stream",
     "text": [
      "Test MSE: 149.3580, Test MAE: 5.9135, Test R2: 0.8822\n",
      "Epoch 458/1000\n",
      "Train MSE: 202.4038, Train MAE: 8.2173\n"
     ]
    },
    {
     "name": "stderr",
     "output_type": "stream",
     "text": [
      " 46%|████▌     | 458/1000 [29:02<36:13,  4.01s/it]"
     ]
    },
    {
     "name": "stdout",
     "output_type": "stream",
     "text": [
      "Test MSE: 145.8337, Test MAE: 5.9145, Test R2: 0.8969\n",
      "Epoch 459/1000\n",
      "Train MSE: 202.1383, Train MAE: 8.1972\n"
     ]
    },
    {
     "name": "stderr",
     "output_type": "stream",
     "text": [
      " 46%|████▌     | 459/1000 [29:07<36:27,  4.04s/it]"
     ]
    },
    {
     "name": "stdout",
     "output_type": "stream",
     "text": [
      "Test MSE: 166.5673, Test MAE: 6.1098, Test R2: 0.8775\n",
      "Epoch 460/1000\n",
      "Train MSE: 198.7590, Train MAE: 8.1240\n"
     ]
    },
    {
     "name": "stderr",
     "output_type": "stream",
     "text": [
      " 46%|████▌     | 460/1000 [29:11<36:34,  4.06s/it]"
     ]
    },
    {
     "name": "stdout",
     "output_type": "stream",
     "text": [
      "Test MSE: 187.7839, Test MAE: 6.5879, Test R2: 0.8660\n",
      "Epoch 461/1000\n",
      "Train MSE: 202.1677, Train MAE: 8.2127\n"
     ]
    },
    {
     "name": "stderr",
     "output_type": "stream",
     "text": [
      " 46%|████▌     | 461/1000 [29:15<36:26,  4.06s/it]"
     ]
    },
    {
     "name": "stdout",
     "output_type": "stream",
     "text": [
      "Test MSE: 138.9701, Test MAE: 5.8534, Test R2: 0.8981\n",
      "Epoch 462/1000\n",
      "Train MSE: 207.1348, Train MAE: 8.2745\n"
     ]
    },
    {
     "name": "stderr",
     "output_type": "stream",
     "text": [
      " 46%|████▌     | 462/1000 [29:19<36:14,  4.04s/it]"
     ]
    },
    {
     "name": "stdout",
     "output_type": "stream",
     "text": [
      "Test MSE: 157.3754, Test MAE: 6.2216, Test R2: 0.8834\n",
      "Epoch 463/1000\n",
      "Train MSE: 205.3740, Train MAE: 8.2463\n"
     ]
    },
    {
     "name": "stderr",
     "output_type": "stream",
     "text": [
      " 46%|████▋     | 463/1000 [29:23<35:56,  4.02s/it]"
     ]
    },
    {
     "name": "stdout",
     "output_type": "stream",
     "text": [
      "Test MSE: 139.5730, Test MAE: 5.8731, Test R2: 0.8971\n",
      "Epoch 464/1000\n",
      "Train MSE: 204.2085, Train MAE: 8.2084\n"
     ]
    },
    {
     "name": "stderr",
     "output_type": "stream",
     "text": [
      " 46%|████▋     | 464/1000 [29:27<35:37,  3.99s/it]"
     ]
    },
    {
     "name": "stdout",
     "output_type": "stream",
     "text": [
      "Test MSE: 195.4144, Test MAE: 6.3026, Test R2: 0.8629\n",
      "Epoch 465/1000\n",
      "Train MSE: 196.8706, Train MAE: 8.1013\n"
     ]
    },
    {
     "name": "stderr",
     "output_type": "stream",
     "text": [
      " 46%|████▋     | 465/1000 [29:30<35:16,  3.96s/it]"
     ]
    },
    {
     "name": "stdout",
     "output_type": "stream",
     "text": [
      "Test MSE: 189.2742, Test MAE: 6.5514, Test R2: 0.8661\n",
      "Epoch 466/1000\n",
      "Train MSE: 204.4591, Train MAE: 8.2427\n"
     ]
    },
    {
     "name": "stderr",
     "output_type": "stream",
     "text": [
      " 47%|████▋     | 466/1000 [29:34<35:07,  3.95s/it]"
     ]
    },
    {
     "name": "stdout",
     "output_type": "stream",
     "text": [
      "Test MSE: 185.4360, Test MAE: 6.3422, Test R2: 0.8730\n",
      "Epoch 467/1000\n",
      "Train MSE: 204.0932, Train MAE: 8.2127\n"
     ]
    },
    {
     "name": "stderr",
     "output_type": "stream",
     "text": [
      " 47%|████▋     | 467/1000 [29:38<34:53,  3.93s/it]"
     ]
    },
    {
     "name": "stdout",
     "output_type": "stream",
     "text": [
      "Test MSE: 148.6539, Test MAE: 6.0314, Test R2: 0.8900\n",
      "Epoch 468/1000\n",
      "Train MSE: 201.8596, Train MAE: 8.2355\n"
     ]
    },
    {
     "name": "stderr",
     "output_type": "stream",
     "text": [
      " 47%|████▋     | 468/1000 [29:42<34:57,  3.94s/it]"
     ]
    },
    {
     "name": "stdout",
     "output_type": "stream",
     "text": [
      "Test MSE: 176.4220, Test MAE: 6.3088, Test R2: 0.8833\n",
      "Epoch 469/1000\n",
      "Train MSE: 200.2123, Train MAE: 8.2002\n"
     ]
    },
    {
     "name": "stderr",
     "output_type": "stream",
     "text": [
      " 47%|████▋     | 469/1000 [29:46<35:04,  3.96s/it]"
     ]
    },
    {
     "name": "stdout",
     "output_type": "stream",
     "text": [
      "Test MSE: 195.1965, Test MAE: 6.4866, Test R2: 0.8661\n",
      "Epoch 470/1000\n",
      "Train MSE: 199.6107, Train MAE: 8.1273\n"
     ]
    },
    {
     "name": "stderr",
     "output_type": "stream",
     "text": [
      " 47%|████▋     | 470/1000 [29:50<35:03,  3.97s/it]"
     ]
    },
    {
     "name": "stdout",
     "output_type": "stream",
     "text": [
      "Test MSE: 191.9344, Test MAE: 6.4799, Test R2: 0.8667\n",
      "Epoch 471/1000\n",
      "Train MSE: 198.9675, Train MAE: 8.1542\n"
     ]
    },
    {
     "name": "stderr",
     "output_type": "stream",
     "text": [
      " 47%|████▋     | 471/1000 [29:54<34:54,  3.96s/it]"
     ]
    },
    {
     "name": "stdout",
     "output_type": "stream",
     "text": [
      "Test MSE: 201.1118, Test MAE: 6.6758, Test R2: 0.8653\n",
      "Epoch 472/1000\n",
      "Train MSE: 201.8277, Train MAE: 8.1590\n"
     ]
    },
    {
     "name": "stderr",
     "output_type": "stream",
     "text": [
      " 47%|████▋     | 472/1000 [29:58<34:49,  3.96s/it]"
     ]
    },
    {
     "name": "stdout",
     "output_type": "stream",
     "text": [
      "Test MSE: 179.6536, Test MAE: 6.3661, Test R2: 0.8737\n",
      "Epoch 473/1000\n",
      "Train MSE: 197.6201, Train MAE: 8.0690\n"
     ]
    },
    {
     "name": "stderr",
     "output_type": "stream",
     "text": [
      " 47%|████▋     | 473/1000 [30:02<34:56,  3.98s/it]"
     ]
    },
    {
     "name": "stdout",
     "output_type": "stream",
     "text": [
      "Test MSE: 191.8464, Test MAE: 6.6426, Test R2: 0.8660\n",
      "Epoch 474/1000\n",
      "Train MSE: 197.9889, Train MAE: 8.1767\n"
     ]
    },
    {
     "name": "stderr",
     "output_type": "stream",
     "text": [
      " 47%|████▋     | 474/1000 [30:06<35:05,  4.00s/it]"
     ]
    },
    {
     "name": "stdout",
     "output_type": "stream",
     "text": [
      "Test MSE: 160.3546, Test MAE: 6.1869, Test R2: 0.8885\n",
      "Epoch 475/1000\n",
      "Train MSE: 202.8183, Train MAE: 8.2311\n"
     ]
    },
    {
     "name": "stderr",
     "output_type": "stream",
     "text": [
      " 48%|████▊     | 475/1000 [30:10<34:54,  3.99s/it]"
     ]
    },
    {
     "name": "stdout",
     "output_type": "stream",
     "text": [
      "Test MSE: 173.4121, Test MAE: 6.0719, Test R2: 0.8804\n",
      "Epoch 476/1000\n",
      "Train MSE: 197.2796, Train MAE: 8.1498\n"
     ]
    },
    {
     "name": "stderr",
     "output_type": "stream",
     "text": [
      " 48%|████▊     | 476/1000 [30:14<34:41,  3.97s/it]"
     ]
    },
    {
     "name": "stdout",
     "output_type": "stream",
     "text": [
      "Test MSE: 182.9342, Test MAE: 6.2635, Test R2: 0.8772\n",
      "Epoch 477/1000\n",
      "Train MSE: 194.7589, Train MAE: 8.0938\n"
     ]
    },
    {
     "name": "stderr",
     "output_type": "stream",
     "text": [
      " 48%|████▊     | 477/1000 [30:18<34:28,  3.96s/it]"
     ]
    },
    {
     "name": "stdout",
     "output_type": "stream",
     "text": [
      "Test MSE: 196.9353, Test MAE: 6.5353, Test R2: 0.8652\n",
      "Epoch 478/1000\n",
      "Train MSE: 203.4630, Train MAE: 8.2175\n"
     ]
    },
    {
     "name": "stderr",
     "output_type": "stream",
     "text": [
      " 48%|████▊     | 478/1000 [30:22<33:59,  3.91s/it]"
     ]
    },
    {
     "name": "stdout",
     "output_type": "stream",
     "text": [
      "Test MSE: 179.2490, Test MAE: 6.4919, Test R2: 0.8779\n",
      "Epoch 479/1000\n",
      "Train MSE: 198.6688, Train MAE: 8.1639\n"
     ]
    },
    {
     "name": "stderr",
     "output_type": "stream",
     "text": [
      " 48%|████▊     | 479/1000 [30:26<33:37,  3.87s/it]"
     ]
    },
    {
     "name": "stdout",
     "output_type": "stream",
     "text": [
      "Test MSE: 181.8411, Test MAE: 6.2545, Test R2: 0.8744\n",
      "Epoch 480/1000\n",
      "Train MSE: 195.1169, Train MAE: 8.0864\n"
     ]
    },
    {
     "name": "stderr",
     "output_type": "stream",
     "text": [
      " 48%|████▊     | 480/1000 [30:30<33:50,  3.91s/it]"
     ]
    },
    {
     "name": "stdout",
     "output_type": "stream",
     "text": [
      "Test MSE: 158.1126, Test MAE: 6.1596, Test R2: 0.8938\n",
      "Epoch 481/1000\n",
      "Train MSE: 202.5028, Train MAE: 8.1765\n"
     ]
    },
    {
     "name": "stderr",
     "output_type": "stream",
     "text": [
      " 48%|████▊     | 481/1000 [30:34<34:11,  3.95s/it]"
     ]
    },
    {
     "name": "stdout",
     "output_type": "stream",
     "text": [
      "Test MSE: 162.2977, Test MAE: 5.8985, Test R2: 0.8857\n",
      "Epoch 482/1000\n",
      "Train MSE: 201.6147, Train MAE: 8.1753\n"
     ]
    },
    {
     "name": "stderr",
     "output_type": "stream",
     "text": [
      " 48%|████▊     | 482/1000 [30:38<34:02,  3.94s/it]"
     ]
    },
    {
     "name": "stdout",
     "output_type": "stream",
     "text": [
      "Test MSE: 170.0836, Test MAE: 6.2369, Test R2: 0.8806\n",
      "Epoch 483/1000\n",
      "Train MSE: 204.2862, Train MAE: 8.2424\n"
     ]
    },
    {
     "name": "stderr",
     "output_type": "stream",
     "text": [
      " 48%|████▊     | 483/1000 [30:42<33:50,  3.93s/it]"
     ]
    },
    {
     "name": "stdout",
     "output_type": "stream",
     "text": [
      "Test MSE: 150.6947, Test MAE: 5.9754, Test R2: 0.8912\n",
      "Epoch 484/1000\n",
      "Train MSE: 205.0599, Train MAE: 8.2300\n"
     ]
    },
    {
     "name": "stderr",
     "output_type": "stream",
     "text": [
      " 48%|████▊     | 484/1000 [30:46<34:04,  3.96s/it]"
     ]
    },
    {
     "name": "stdout",
     "output_type": "stream",
     "text": [
      "Test MSE: 161.6298, Test MAE: 5.9063, Test R2: 0.8899\n",
      "Epoch 485/1000\n",
      "Train MSE: 197.3001, Train MAE: 8.0907\n"
     ]
    },
    {
     "name": "stderr",
     "output_type": "stream",
     "text": [
      " 48%|████▊     | 485/1000 [30:49<33:58,  3.96s/it]"
     ]
    },
    {
     "name": "stdout",
     "output_type": "stream",
     "text": [
      "Test MSE: 192.3207, Test MAE: 6.2635, Test R2: 0.8665\n",
      "Epoch 486/1000\n",
      "Train MSE: 196.6810, Train MAE: 8.1013\n"
     ]
    },
    {
     "name": "stderr",
     "output_type": "stream",
     "text": [
      " 49%|████▊     | 486/1000 [30:53<33:20,  3.89s/it]"
     ]
    },
    {
     "name": "stdout",
     "output_type": "stream",
     "text": [
      "Test MSE: 168.1062, Test MAE: 6.0457, Test R2: 0.8843\n",
      "Epoch 487/1000\n",
      "Train MSE: 200.5185, Train MAE: 8.1767\n"
     ]
    },
    {
     "name": "stderr",
     "output_type": "stream",
     "text": [
      " 49%|████▊     | 487/1000 [30:57<32:52,  3.85s/it]"
     ]
    },
    {
     "name": "stdout",
     "output_type": "stream",
     "text": [
      "Test MSE: 195.8338, Test MAE: 6.3558, Test R2: 0.8696\n",
      "Epoch 488/1000\n",
      "Train MSE: 199.2015, Train MAE: 8.1428\n"
     ]
    },
    {
     "name": "stderr",
     "output_type": "stream",
     "text": [
      " 49%|████▉     | 488/1000 [31:01<32:44,  3.84s/it]"
     ]
    },
    {
     "name": "stdout",
     "output_type": "stream",
     "text": [
      "Test MSE: 166.7189, Test MAE: 6.1270, Test R2: 0.8828\n",
      "Epoch 489/1000\n",
      "Train MSE: 198.3247, Train MAE: 8.1464\n"
     ]
    },
    {
     "name": "stderr",
     "output_type": "stream",
     "text": [
      " 49%|████▉     | 489/1000 [31:05<32:35,  3.83s/it]"
     ]
    },
    {
     "name": "stdout",
     "output_type": "stream",
     "text": [
      "Test MSE: 180.0838, Test MAE: 6.3872, Test R2: 0.8755\n",
      "Epoch 490/1000\n",
      "Train MSE: 197.3666, Train MAE: 8.1586\n"
     ]
    },
    {
     "name": "stderr",
     "output_type": "stream",
     "text": [
      " 49%|████▉     | 490/1000 [31:08<32:36,  3.84s/it]"
     ]
    },
    {
     "name": "stdout",
     "output_type": "stream",
     "text": [
      "Test MSE: 175.2965, Test MAE: 6.2247, Test R2: 0.8801\n",
      "Epoch 491/1000\n",
      "Train MSE: 201.6395, Train MAE: 8.2234\n"
     ]
    },
    {
     "name": "stderr",
     "output_type": "stream",
     "text": [
      " 49%|████▉     | 491/1000 [31:12<32:34,  3.84s/it]"
     ]
    },
    {
     "name": "stdout",
     "output_type": "stream",
     "text": [
      "Test MSE: 166.0730, Test MAE: 6.2461, Test R2: 0.8796\n",
      "Epoch 492/1000\n",
      "Train MSE: 197.6945, Train MAE: 8.0849\n"
     ]
    },
    {
     "name": "stderr",
     "output_type": "stream",
     "text": [
      " 49%|████▉     | 492/1000 [31:16<32:32,  3.84s/it]"
     ]
    },
    {
     "name": "stdout",
     "output_type": "stream",
     "text": [
      "Test MSE: 146.0074, Test MAE: 5.8225, Test R2: 0.8967\n",
      "Epoch 493/1000\n",
      "Train MSE: 200.4137, Train MAE: 8.1863\n"
     ]
    },
    {
     "name": "stderr",
     "output_type": "stream",
     "text": [
      " 49%|████▉     | 493/1000 [31:20<32:29,  3.85s/it]"
     ]
    },
    {
     "name": "stdout",
     "output_type": "stream",
     "text": [
      "Test MSE: 147.7681, Test MAE: 6.3472, Test R2: 0.8890\n",
      "Epoch 494/1000\n",
      "Train MSE: 195.7640, Train MAE: 8.1278\n"
     ]
    },
    {
     "name": "stderr",
     "output_type": "stream",
     "text": [
      " 49%|████▉     | 494/1000 [31:24<32:53,  3.90s/it]"
     ]
    },
    {
     "name": "stdout",
     "output_type": "stream",
     "text": [
      "Test MSE: 184.5240, Test MAE: 6.0668, Test R2: 0.8731\n",
      "Epoch 495/1000\n",
      "Train MSE: 193.0827, Train MAE: 8.0504\n"
     ]
    },
    {
     "name": "stderr",
     "output_type": "stream",
     "text": [
      " 50%|████▉     | 495/1000 [31:28<33:02,  3.93s/it]"
     ]
    },
    {
     "name": "stdout",
     "output_type": "stream",
     "text": [
      "Test MSE: 169.3042, Test MAE: 6.0620, Test R2: 0.8877\n",
      "Epoch 496/1000\n",
      "Train MSE: 200.1047, Train MAE: 8.2173\n"
     ]
    },
    {
     "name": "stderr",
     "output_type": "stream",
     "text": [
      " 50%|████▉     | 496/1000 [31:32<33:09,  3.95s/it]"
     ]
    },
    {
     "name": "stdout",
     "output_type": "stream",
     "text": [
      "Test MSE: 140.2431, Test MAE: 5.5364, Test R2: 0.8917\n",
      "Epoch 497/1000\n",
      "Train MSE: 202.8920, Train MAE: 8.1754\n"
     ]
    },
    {
     "name": "stderr",
     "output_type": "stream",
     "text": [
      " 50%|████▉     | 497/1000 [31:36<33:05,  3.95s/it]"
     ]
    },
    {
     "name": "stdout",
     "output_type": "stream",
     "text": [
      "Test MSE: 153.5786, Test MAE: 5.9259, Test R2: 0.8921\n",
      "Epoch 498/1000\n",
      "Train MSE: 199.2299, Train MAE: 8.1844\n"
     ]
    },
    {
     "name": "stderr",
     "output_type": "stream",
     "text": [
      " 50%|████▉     | 498/1000 [31:40<32:59,  3.94s/it]"
     ]
    },
    {
     "name": "stdout",
     "output_type": "stream",
     "text": [
      "Test MSE: 163.4174, Test MAE: 5.8840, Test R2: 0.8848\n",
      "Epoch 499/1000\n",
      "Train MSE: 198.8023, Train MAE: 8.1807\n"
     ]
    },
    {
     "name": "stderr",
     "output_type": "stream",
     "text": [
      " 50%|████▉     | 499/1000 [31:44<32:33,  3.90s/it]"
     ]
    },
    {
     "name": "stdout",
     "output_type": "stream",
     "text": [
      "Test MSE: 166.0130, Test MAE: 6.1349, Test R2: 0.8812\n",
      "Epoch 500/1000\n",
      "Train MSE: 204.1305, Train MAE: 8.2240\n"
     ]
    },
    {
     "name": "stderr",
     "output_type": "stream",
     "text": [
      " 50%|█████     | 500/1000 [31:47<32:11,  3.86s/it]"
     ]
    },
    {
     "name": "stdout",
     "output_type": "stream",
     "text": [
      "Test MSE: 194.7753, Test MAE: 6.3623, Test R2: 0.8669\n",
      "Epoch 501/1000\n",
      "Train MSE: 203.2958, Train MAE: 8.2544\n"
     ]
    },
    {
     "name": "stderr",
     "output_type": "stream",
     "text": [
      " 50%|█████     | 501/1000 [31:51<32:05,  3.86s/it]"
     ]
    },
    {
     "name": "stdout",
     "output_type": "stream",
     "text": [
      "Test MSE: 172.6023, Test MAE: 6.3189, Test R2: 0.8791\n",
      "Epoch 502/1000\n",
      "Train MSE: 202.2864, Train MAE: 8.1643\n"
     ]
    },
    {
     "name": "stderr",
     "output_type": "stream",
     "text": [
      " 50%|█████     | 502/1000 [31:55<32:04,  3.87s/it]"
     ]
    },
    {
     "name": "stdout",
     "output_type": "stream",
     "text": [
      "Test MSE: 144.9297, Test MAE: 6.0458, Test R2: 0.8921\n",
      "Epoch 503/1000\n",
      "Train MSE: 197.7942, Train MAE: 8.0788\n"
     ]
    },
    {
     "name": "stderr",
     "output_type": "stream",
     "text": [
      " 50%|█████     | 503/1000 [31:59<32:08,  3.88s/it]"
     ]
    },
    {
     "name": "stdout",
     "output_type": "stream",
     "text": [
      "Test MSE: 173.1753, Test MAE: 6.2885, Test R2: 0.8798\n",
      "Epoch 504/1000\n",
      "Train MSE: 200.4044, Train MAE: 8.1674\n"
     ]
    },
    {
     "name": "stderr",
     "output_type": "stream",
     "text": [
      " 50%|█████     | 504/1000 [32:03<32:16,  3.90s/it]"
     ]
    },
    {
     "name": "stdout",
     "output_type": "stream",
     "text": [
      "Test MSE: 147.0857, Test MAE: 5.4893, Test R2: 0.8963\n",
      "Epoch 505/1000\n",
      "Train MSE: 199.8800, Train MAE: 8.1548\n"
     ]
    },
    {
     "name": "stderr",
     "output_type": "stream",
     "text": [
      " 50%|█████     | 505/1000 [32:07<32:12,  3.90s/it]"
     ]
    },
    {
     "name": "stdout",
     "output_type": "stream",
     "text": [
      "Test MSE: 171.2621, Test MAE: 6.0125, Test R2: 0.8773\n",
      "Epoch 506/1000\n",
      "Train MSE: 199.7044, Train MAE: 8.1296\n"
     ]
    },
    {
     "name": "stderr",
     "output_type": "stream",
     "text": [
      " 51%|█████     | 506/1000 [32:11<32:22,  3.93s/it]"
     ]
    },
    {
     "name": "stdout",
     "output_type": "stream",
     "text": [
      "Test MSE: 160.2061, Test MAE: 6.0581, Test R2: 0.8867\n",
      "Epoch 507/1000\n",
      "Train MSE: 203.6051, Train MAE: 8.2187\n"
     ]
    },
    {
     "name": "stderr",
     "output_type": "stream",
     "text": [
      " 51%|█████     | 507/1000 [32:15<32:28,  3.95s/it]"
     ]
    },
    {
     "name": "stdout",
     "output_type": "stream",
     "text": [
      "Test MSE: 199.3957, Test MAE: 6.6191, Test R2: 0.8635\n",
      "Epoch 508/1000\n",
      "Train MSE: 194.3101, Train MAE: 8.0854\n"
     ]
    },
    {
     "name": "stderr",
     "output_type": "stream",
     "text": [
      " 51%|█████     | 508/1000 [32:19<32:28,  3.96s/it]"
     ]
    },
    {
     "name": "stdout",
     "output_type": "stream",
     "text": [
      "Test MSE: 134.2883, Test MAE: 5.6549, Test R2: 0.9030\n",
      "Epoch 509/1000\n",
      "Train MSE: 192.9495, Train MAE: 8.0836\n"
     ]
    },
    {
     "name": "stderr",
     "output_type": "stream",
     "text": [
      " 51%|█████     | 509/1000 [32:23<32:29,  3.97s/it]"
     ]
    },
    {
     "name": "stdout",
     "output_type": "stream",
     "text": [
      "Test MSE: 133.6369, Test MAE: 5.5871, Test R2: 0.8981\n",
      "Epoch 510/1000\n",
      "Train MSE: 204.1422, Train MAE: 8.1442\n"
     ]
    },
    {
     "name": "stderr",
     "output_type": "stream",
     "text": [
      " 51%|█████     | 510/1000 [32:27<32:32,  3.98s/it]"
     ]
    },
    {
     "name": "stdout",
     "output_type": "stream",
     "text": [
      "Test MSE: 142.1206, Test MAE: 5.7886, Test R2: 0.8970\n",
      "Epoch 511/1000\n",
      "Train MSE: 193.0021, Train MAE: 8.0626\n"
     ]
    },
    {
     "name": "stderr",
     "output_type": "stream",
     "text": [
      " 51%|█████     | 511/1000 [32:31<32:12,  3.95s/it]"
     ]
    },
    {
     "name": "stdout",
     "output_type": "stream",
     "text": [
      "Test MSE: 139.7792, Test MAE: 5.4128, Test R2: 0.8994\n",
      "Epoch 512/1000\n",
      "Train MSE: 197.4260, Train MAE: 8.0894\n"
     ]
    },
    {
     "name": "stderr",
     "output_type": "stream",
     "text": [
      " 51%|█████     | 512/1000 [32:35<31:42,  3.90s/it]"
     ]
    },
    {
     "name": "stdout",
     "output_type": "stream",
     "text": [
      "Test MSE: 174.1615, Test MAE: 6.3579, Test R2: 0.8783\n",
      "Epoch 513/1000\n",
      "Train MSE: 199.7033, Train MAE: 8.1499\n"
     ]
    },
    {
     "name": "stderr",
     "output_type": "stream",
     "text": [
      " 51%|█████▏    | 513/1000 [32:38<31:23,  3.87s/it]"
     ]
    },
    {
     "name": "stdout",
     "output_type": "stream",
     "text": [
      "Test MSE: 121.4801, Test MAE: 5.4622, Test R2: 0.9099\n",
      "Epoch 514/1000\n",
      "Train MSE: 198.9294, Train MAE: 8.1711\n"
     ]
    },
    {
     "name": "stderr",
     "output_type": "stream",
     "text": [
      " 51%|█████▏    | 514/1000 [32:42<31:12,  3.85s/it]"
     ]
    },
    {
     "name": "stdout",
     "output_type": "stream",
     "text": [
      "Test MSE: 137.6090, Test MAE: 5.6993, Test R2: 0.8961\n",
      "Epoch 515/1000\n",
      "Train MSE: 199.0830, Train MAE: 8.1432\n"
     ]
    },
    {
     "name": "stderr",
     "output_type": "stream",
     "text": [
      " 52%|█████▏    | 515/1000 [32:46<31:03,  3.84s/it]"
     ]
    },
    {
     "name": "stdout",
     "output_type": "stream",
     "text": [
      "Test MSE: 176.6820, Test MAE: 6.0911, Test R2: 0.8795\n",
      "Epoch 516/1000\n",
      "Train MSE: 197.7979, Train MAE: 8.1055\n"
     ]
    },
    {
     "name": "stderr",
     "output_type": "stream",
     "text": [
      " 52%|█████▏    | 516/1000 [32:50<30:54,  3.83s/it]"
     ]
    },
    {
     "name": "stdout",
     "output_type": "stream",
     "text": [
      "Test MSE: 130.7808, Test MAE: 5.4798, Test R2: 0.9031\n",
      "Epoch 517/1000\n",
      "Train MSE: 197.6917, Train MAE: 8.1121\n"
     ]
    },
    {
     "name": "stderr",
     "output_type": "stream",
     "text": [
      " 52%|█████▏    | 517/1000 [32:54<30:34,  3.80s/it]"
     ]
    },
    {
     "name": "stdout",
     "output_type": "stream",
     "text": [
      "Test MSE: 141.6330, Test MAE: 5.7894, Test R2: 0.8950\n",
      "Epoch 518/1000\n",
      "Train MSE: 205.2550, Train MAE: 8.2659\n"
     ]
    },
    {
     "name": "stderr",
     "output_type": "stream",
     "text": [
      " 52%|█████▏    | 518/1000 [32:57<30:41,  3.82s/it]"
     ]
    },
    {
     "name": "stdout",
     "output_type": "stream",
     "text": [
      "Test MSE: 168.3913, Test MAE: 6.2060, Test R2: 0.8783\n",
      "Epoch 519/1000\n",
      "Train MSE: 207.3030, Train MAE: 8.2676\n"
     ]
    },
    {
     "name": "stderr",
     "output_type": "stream",
     "text": [
      " 52%|█████▏    | 519/1000 [33:01<30:36,  3.82s/it]"
     ]
    },
    {
     "name": "stdout",
     "output_type": "stream",
     "text": [
      "Test MSE: 158.8869, Test MAE: 5.8224, Test R2: 0.8905\n",
      "Epoch 520/1000\n",
      "Train MSE: 192.5012, Train MAE: 8.0655\n"
     ]
    },
    {
     "name": "stderr",
     "output_type": "stream",
     "text": [
      " 52%|█████▏    | 520/1000 [33:05<30:21,  3.79s/it]"
     ]
    },
    {
     "name": "stdout",
     "output_type": "stream",
     "text": [
      "Test MSE: 154.6905, Test MAE: 5.8933, Test R2: 0.8902\n",
      "Epoch 521/1000\n",
      "Train MSE: 197.7294, Train MAE: 8.1116\n"
     ]
    },
    {
     "name": "stderr",
     "output_type": "stream",
     "text": [
      " 52%|█████▏    | 521/1000 [33:09<30:23,  3.81s/it]"
     ]
    },
    {
     "name": "stdout",
     "output_type": "stream",
     "text": [
      "Test MSE: 131.4606, Test MAE: 5.5273, Test R2: 0.8985\n",
      "Epoch 522/1000\n",
      "Train MSE: 192.4705, Train MAE: 8.0202\n"
     ]
    },
    {
     "name": "stderr",
     "output_type": "stream",
     "text": [
      " 52%|█████▏    | 522/1000 [33:13<30:15,  3.80s/it]"
     ]
    },
    {
     "name": "stdout",
     "output_type": "stream",
     "text": [
      "Test MSE: 152.5945, Test MAE: 5.6559, Test R2: 0.8943\n",
      "Epoch 523/1000\n",
      "Train MSE: 205.9173, Train MAE: 8.2127\n"
     ]
    },
    {
     "name": "stderr",
     "output_type": "stream",
     "text": [
      " 52%|█████▏    | 523/1000 [33:16<30:07,  3.79s/it]"
     ]
    },
    {
     "name": "stdout",
     "output_type": "stream",
     "text": [
      "Test MSE: 161.4969, Test MAE: 6.0142, Test R2: 0.8842\n",
      "Epoch 524/1000\n",
      "Train MSE: 195.8433, Train MAE: 8.0672\n"
     ]
    },
    {
     "name": "stderr",
     "output_type": "stream",
     "text": [
      " 52%|█████▏    | 524/1000 [33:20<29:56,  3.77s/it]"
     ]
    },
    {
     "name": "stdout",
     "output_type": "stream",
     "text": [
      "Test MSE: 172.1470, Test MAE: 5.8718, Test R2: 0.8809\n",
      "Epoch 525/1000\n",
      "Train MSE: 205.5376, Train MAE: 8.2425\n"
     ]
    },
    {
     "name": "stderr",
     "output_type": "stream",
     "text": [
      " 52%|█████▎    | 525/1000 [33:24<29:45,  3.76s/it]"
     ]
    },
    {
     "name": "stdout",
     "output_type": "stream",
     "text": [
      "Test MSE: 188.2485, Test MAE: 6.4614, Test R2: 0.8662\n",
      "Epoch 526/1000\n",
      "Train MSE: 203.6530, Train MAE: 8.2273\n"
     ]
    },
    {
     "name": "stderr",
     "output_type": "stream",
     "text": [
      " 53%|█████▎    | 526/1000 [33:28<29:37,  3.75s/it]"
     ]
    },
    {
     "name": "stdout",
     "output_type": "stream",
     "text": [
      "Test MSE: 155.8324, Test MAE: 5.8819, Test R2: 0.8842\n",
      "Epoch 527/1000\n",
      "Train MSE: 204.1863, Train MAE: 8.2074\n"
     ]
    },
    {
     "name": "stderr",
     "output_type": "stream",
     "text": [
      " 53%|█████▎    | 527/1000 [33:31<29:24,  3.73s/it]"
     ]
    },
    {
     "name": "stdout",
     "output_type": "stream",
     "text": [
      "Test MSE: 203.9040, Test MAE: 6.5996, Test R2: 0.8583\n",
      "Epoch 528/1000\n",
      "Train MSE: 195.1324, Train MAE: 8.0958\n"
     ]
    },
    {
     "name": "stderr",
     "output_type": "stream",
     "text": [
      " 53%|█████▎    | 528/1000 [33:35<29:03,  3.69s/it]"
     ]
    },
    {
     "name": "stdout",
     "output_type": "stream",
     "text": [
      "Test MSE: 133.0985, Test MAE: 5.4373, Test R2: 0.8990\n",
      "Epoch 529/1000\n",
      "Train MSE: 195.1923, Train MAE: 8.0582\n"
     ]
    },
    {
     "name": "stderr",
     "output_type": "stream",
     "text": [
      " 53%|█████▎    | 529/1000 [33:38<28:47,  3.67s/it]"
     ]
    },
    {
     "name": "stdout",
     "output_type": "stream",
     "text": [
      "Test MSE: 197.0436, Test MAE: 6.4840, Test R2: 0.8636\n",
      "Epoch 530/1000\n",
      "Train MSE: 192.1736, Train MAE: 8.0461\n"
     ]
    },
    {
     "name": "stderr",
     "output_type": "stream",
     "text": [
      " 53%|█████▎    | 530/1000 [33:42<28:36,  3.65s/it]"
     ]
    },
    {
     "name": "stdout",
     "output_type": "stream",
     "text": [
      "Test MSE: 128.0834, Test MAE: 5.6128, Test R2: 0.9020\n",
      "Epoch 531/1000\n",
      "Train MSE: 204.3749, Train MAE: 8.2109\n"
     ]
    },
    {
     "name": "stderr",
     "output_type": "stream",
     "text": [
      " 53%|█████▎    | 531/1000 [33:46<28:36,  3.66s/it]"
     ]
    },
    {
     "name": "stdout",
     "output_type": "stream",
     "text": [
      "Test MSE: 167.8411, Test MAE: 6.1031, Test R2: 0.8764\n",
      "Epoch 532/1000\n",
      "Train MSE: 194.7402, Train MAE: 8.0765\n"
     ]
    },
    {
     "name": "stderr",
     "output_type": "stream",
     "text": [
      " 53%|█████▎    | 532/1000 [33:49<28:24,  3.64s/it]"
     ]
    },
    {
     "name": "stdout",
     "output_type": "stream",
     "text": [
      "Test MSE: 180.3462, Test MAE: 6.5121, Test R2: 0.8731\n",
      "Epoch 533/1000\n",
      "Train MSE: 195.8823, Train MAE: 8.0775\n"
     ]
    },
    {
     "name": "stderr",
     "output_type": "stream",
     "text": [
      " 53%|█████▎    | 533/1000 [33:53<28:17,  3.64s/it]"
     ]
    },
    {
     "name": "stdout",
     "output_type": "stream",
     "text": [
      "Test MSE: 193.4793, Test MAE: 6.4727, Test R2: 0.8689\n",
      "Epoch 534/1000\n",
      "Train MSE: 203.1492, Train MAE: 8.2138\n"
     ]
    },
    {
     "name": "stderr",
     "output_type": "stream",
     "text": [
      " 53%|█████▎    | 534/1000 [33:57<28:10,  3.63s/it]"
     ]
    },
    {
     "name": "stdout",
     "output_type": "stream",
     "text": [
      "Test MSE: 130.4414, Test MAE: 5.4719, Test R2: 0.9059\n",
      "Epoch 535/1000\n",
      "Train MSE: 201.7769, Train MAE: 8.1726\n"
     ]
    },
    {
     "name": "stderr",
     "output_type": "stream",
     "text": [
      " 54%|█████▎    | 535/1000 [34:00<28:15,  3.65s/it]"
     ]
    },
    {
     "name": "stdout",
     "output_type": "stream",
     "text": [
      "Test MSE: 139.1687, Test MAE: 5.7413, Test R2: 0.8968\n",
      "Epoch 536/1000\n",
      "Train MSE: 200.8425, Train MAE: 8.2062\n"
     ]
    },
    {
     "name": "stderr",
     "output_type": "stream",
     "text": [
      " 54%|█████▎    | 536/1000 [34:04<28:05,  3.63s/it]"
     ]
    },
    {
     "name": "stdout",
     "output_type": "stream",
     "text": [
      "Test MSE: 176.2461, Test MAE: 6.1570, Test R2: 0.8846\n",
      "Epoch 537/1000\n",
      "Train MSE: 197.5188, Train MAE: 8.1024\n"
     ]
    },
    {
     "name": "stderr",
     "output_type": "stream",
     "text": [
      " 54%|█████▎    | 537/1000 [34:07<27:59,  3.63s/it]"
     ]
    },
    {
     "name": "stdout",
     "output_type": "stream",
     "text": [
      "Test MSE: 154.4048, Test MAE: 5.9336, Test R2: 0.8918\n",
      "Epoch 538/1000\n",
      "Train MSE: 195.9184, Train MAE: 8.0790\n"
     ]
    },
    {
     "name": "stderr",
     "output_type": "stream",
     "text": [
      " 54%|█████▍    | 538/1000 [34:11<28:00,  3.64s/it]"
     ]
    },
    {
     "name": "stdout",
     "output_type": "stream",
     "text": [
      "Test MSE: 170.8744, Test MAE: 6.1481, Test R2: 0.8824\n",
      "Epoch 539/1000\n",
      "Train MSE: 196.5044, Train MAE: 8.0612\n"
     ]
    },
    {
     "name": "stderr",
     "output_type": "stream",
     "text": [
      " 54%|█████▍    | 539/1000 [34:15<28:02,  3.65s/it]"
     ]
    },
    {
     "name": "stdout",
     "output_type": "stream",
     "text": [
      "Test MSE: 167.5399, Test MAE: 5.9402, Test R2: 0.8895\n",
      "Epoch 540/1000\n",
      "Train MSE: 191.4243, Train MAE: 8.0187\n"
     ]
    },
    {
     "name": "stderr",
     "output_type": "stream",
     "text": [
      " 54%|█████▍    | 540/1000 [34:19<28:04,  3.66s/it]"
     ]
    },
    {
     "name": "stdout",
     "output_type": "stream",
     "text": [
      "Test MSE: 175.3458, Test MAE: 6.0750, Test R2: 0.8802\n",
      "Epoch 541/1000\n",
      "Train MSE: 202.3202, Train MAE: 8.1431\n"
     ]
    },
    {
     "name": "stderr",
     "output_type": "stream",
     "text": [
      " 54%|█████▍    | 541/1000 [34:22<28:27,  3.72s/it]"
     ]
    },
    {
     "name": "stdout",
     "output_type": "stream",
     "text": [
      "Test MSE: 146.9187, Test MAE: 5.7784, Test R2: 0.8927\n",
      "Epoch 542/1000\n",
      "Train MSE: 199.5898, Train MAE: 8.1442\n"
     ]
    },
    {
     "name": "stderr",
     "output_type": "stream",
     "text": [
      " 54%|█████▍    | 542/1000 [34:26<28:57,  3.79s/it]"
     ]
    },
    {
     "name": "stdout",
     "output_type": "stream",
     "text": [
      "Test MSE: 156.2749, Test MAE: 5.8956, Test R2: 0.8900\n",
      "Epoch 543/1000\n",
      "Train MSE: 197.1610, Train MAE: 8.0767\n"
     ]
    },
    {
     "name": "stderr",
     "output_type": "stream",
     "text": [
      " 54%|█████▍    | 543/1000 [34:30<29:06,  3.82s/it]"
     ]
    },
    {
     "name": "stdout",
     "output_type": "stream",
     "text": [
      "Test MSE: 143.9243, Test MAE: 5.6765, Test R2: 0.8967\n",
      "Epoch 544/1000\n",
      "Train MSE: 195.1065, Train MAE: 8.0718\n"
     ]
    },
    {
     "name": "stderr",
     "output_type": "stream",
     "text": [
      " 54%|█████▍    | 544/1000 [34:34<29:01,  3.82s/it]"
     ]
    },
    {
     "name": "stdout",
     "output_type": "stream",
     "text": [
      "Test MSE: 179.5494, Test MAE: 6.3263, Test R2: 0.8689\n",
      "Epoch 545/1000\n",
      "Train MSE: 193.3097, Train MAE: 8.0543\n"
     ]
    },
    {
     "name": "stderr",
     "output_type": "stream",
     "text": [
      " 55%|█████▍    | 545/1000 [34:38<28:59,  3.82s/it]"
     ]
    },
    {
     "name": "stdout",
     "output_type": "stream",
     "text": [
      "Test MSE: 145.9426, Test MAE: 5.7035, Test R2: 0.8981\n",
      "Epoch 546/1000\n",
      "Train MSE: 198.3981, Train MAE: 8.0910\n"
     ]
    },
    {
     "name": "stderr",
     "output_type": "stream",
     "text": [
      " 55%|█████▍    | 546/1000 [34:42<29:00,  3.83s/it]"
     ]
    },
    {
     "name": "stdout",
     "output_type": "stream",
     "text": [
      "Test MSE: 163.8506, Test MAE: 6.1967, Test R2: 0.8892\n",
      "Epoch 547/1000\n",
      "Train MSE: 196.8013, Train MAE: 8.1107\n"
     ]
    },
    {
     "name": "stderr",
     "output_type": "stream",
     "text": [
      " 55%|█████▍    | 547/1000 [34:46<29:25,  3.90s/it]"
     ]
    },
    {
     "name": "stdout",
     "output_type": "stream",
     "text": [
      "Test MSE: 181.8436, Test MAE: 6.2879, Test R2: 0.8731\n",
      "Epoch 548/1000\n",
      "Train MSE: 193.5000, Train MAE: 8.0487\n"
     ]
    },
    {
     "name": "stderr",
     "output_type": "stream",
     "text": [
      " 55%|█████▍    | 548/1000 [34:50<29:21,  3.90s/it]"
     ]
    },
    {
     "name": "stdout",
     "output_type": "stream",
     "text": [
      "Test MSE: 187.8975, Test MAE: 6.2073, Test R2: 0.8693\n",
      "Epoch 549/1000\n",
      "Train MSE: 200.8707, Train MAE: 8.1538\n"
     ]
    },
    {
     "name": "stderr",
     "output_type": "stream",
     "text": [
      " 55%|█████▍    | 549/1000 [34:54<29:19,  3.90s/it]"
     ]
    },
    {
     "name": "stdout",
     "output_type": "stream",
     "text": [
      "Test MSE: 135.5261, Test MAE: 5.6148, Test R2: 0.8946\n",
      "Epoch 550/1000\n",
      "Train MSE: 196.2278, Train MAE: 8.0842\n"
     ]
    },
    {
     "name": "stderr",
     "output_type": "stream",
     "text": [
      " 55%|█████▌    | 550/1000 [34:58<29:17,  3.91s/it]"
     ]
    },
    {
     "name": "stdout",
     "output_type": "stream",
     "text": [
      "Test MSE: 210.5562, Test MAE: 6.5515, Test R2: 0.8615\n",
      "Epoch 551/1000\n",
      "Train MSE: 201.7319, Train MAE: 8.1508\n"
     ]
    },
    {
     "name": "stderr",
     "output_type": "stream",
     "text": [
      " 55%|█████▌    | 551/1000 [35:01<29:11,  3.90s/it]"
     ]
    },
    {
     "name": "stdout",
     "output_type": "stream",
     "text": [
      "Test MSE: 164.2044, Test MAE: 6.1797, Test R2: 0.8833\n",
      "Epoch 552/1000\n",
      "Train MSE: 200.2945, Train MAE: 8.1571\n"
     ]
    },
    {
     "name": "stderr",
     "output_type": "stream",
     "text": [
      " 55%|█████▌    | 552/1000 [35:05<29:16,  3.92s/it]"
     ]
    },
    {
     "name": "stdout",
     "output_type": "stream",
     "text": [
      "Test MSE: 176.3702, Test MAE: 6.0621, Test R2: 0.8729\n",
      "Epoch 553/1000\n",
      "Train MSE: 199.7797, Train MAE: 8.1444\n"
     ]
    },
    {
     "name": "stderr",
     "output_type": "stream",
     "text": [
      " 55%|█████▌    | 553/1000 [35:09<28:59,  3.89s/it]"
     ]
    },
    {
     "name": "stdout",
     "output_type": "stream",
     "text": [
      "Test MSE: 188.3688, Test MAE: 6.4119, Test R2: 0.8656\n",
      "Epoch 554/1000\n",
      "Train MSE: 198.0902, Train MAE: 8.1013\n"
     ]
    },
    {
     "name": "stderr",
     "output_type": "stream",
     "text": [
      " 55%|█████▌    | 554/1000 [35:13<28:44,  3.87s/it]"
     ]
    },
    {
     "name": "stdout",
     "output_type": "stream",
     "text": [
      "Test MSE: 183.4735, Test MAE: 6.2358, Test R2: 0.8763\n",
      "Epoch 555/1000\n",
      "Train MSE: 192.5336, Train MAE: 8.0353\n"
     ]
    },
    {
     "name": "stderr",
     "output_type": "stream",
     "text": [
      " 56%|█████▌    | 555/1000 [35:17<28:33,  3.85s/it]"
     ]
    },
    {
     "name": "stdout",
     "output_type": "stream",
     "text": [
      "Test MSE: 140.8947, Test MAE: 5.6030, Test R2: 0.9017\n",
      "Epoch 556/1000\n",
      "Train MSE: 192.3046, Train MAE: 8.0995\n"
     ]
    },
    {
     "name": "stderr",
     "output_type": "stream",
     "text": [
      " 56%|█████▌    | 556/1000 [35:21<28:29,  3.85s/it]"
     ]
    },
    {
     "name": "stdout",
     "output_type": "stream",
     "text": [
      "Test MSE: 145.6514, Test MAE: 5.7085, Test R2: 0.9006\n",
      "Epoch 557/1000\n",
      "Train MSE: 196.8400, Train MAE: 8.1635\n"
     ]
    },
    {
     "name": "stderr",
     "output_type": "stream",
     "text": [
      " 56%|█████▌    | 557/1000 [35:24<28:18,  3.83s/it]"
     ]
    },
    {
     "name": "stdout",
     "output_type": "stream",
     "text": [
      "Test MSE: 133.3073, Test MAE: 5.5351, Test R2: 0.8989\n",
      "Epoch 558/1000\n",
      "Train MSE: 199.5362, Train MAE: 8.1576\n"
     ]
    },
    {
     "name": "stderr",
     "output_type": "stream",
     "text": [
      " 56%|█████▌    | 558/1000 [35:28<28:14,  3.83s/it]"
     ]
    },
    {
     "name": "stdout",
     "output_type": "stream",
     "text": [
      "Test MSE: 166.3176, Test MAE: 6.1287, Test R2: 0.8890\n",
      "Epoch 559/1000\n",
      "Train MSE: 191.4421, Train MAE: 8.0134\n"
     ]
    },
    {
     "name": "stderr",
     "output_type": "stream",
     "text": [
      " 56%|█████▌    | 559/1000 [35:32<28:15,  3.84s/it]"
     ]
    },
    {
     "name": "stdout",
     "output_type": "stream",
     "text": [
      "Test MSE: 157.9169, Test MAE: 6.3076, Test R2: 0.8898\n",
      "Epoch 560/1000\n",
      "Train MSE: 203.2164, Train MAE: 8.2359\n"
     ]
    },
    {
     "name": "stderr",
     "output_type": "stream",
     "text": [
      " 56%|█████▌    | 560/1000 [35:36<28:14,  3.85s/it]"
     ]
    },
    {
     "name": "stdout",
     "output_type": "stream",
     "text": [
      "Test MSE: 168.3389, Test MAE: 6.1756, Test R2: 0.8854\n",
      "Epoch 561/1000\n",
      "Train MSE: 197.4839, Train MAE: 8.1256\n"
     ]
    },
    {
     "name": "stderr",
     "output_type": "stream",
     "text": [
      " 56%|█████▌    | 561/1000 [35:40<28:04,  3.84s/it]"
     ]
    },
    {
     "name": "stdout",
     "output_type": "stream",
     "text": [
      "Test MSE: 175.5801, Test MAE: 6.1279, Test R2: 0.8808\n",
      "Epoch 562/1000\n",
      "Train MSE: 198.8026, Train MAE: 8.0524\n"
     ]
    },
    {
     "name": "stderr",
     "output_type": "stream",
     "text": [
      " 56%|█████▌    | 562/1000 [35:44<27:55,  3.82s/it]"
     ]
    },
    {
     "name": "stdout",
     "output_type": "stream",
     "text": [
      "Test MSE: 179.8146, Test MAE: 6.2196, Test R2: 0.8769\n",
      "Epoch 563/1000\n",
      "Train MSE: 194.1173, Train MAE: 8.0410\n"
     ]
    },
    {
     "name": "stderr",
     "output_type": "stream",
     "text": [
      " 56%|█████▋    | 563/1000 [35:47<27:48,  3.82s/it]"
     ]
    },
    {
     "name": "stdout",
     "output_type": "stream",
     "text": [
      "Test MSE: 170.9278, Test MAE: 6.0996, Test R2: 0.8827\n",
      "Epoch 564/1000\n",
      "Train MSE: 195.6752, Train MAE: 8.0823\n"
     ]
    },
    {
     "name": "stderr",
     "output_type": "stream",
     "text": [
      " 56%|█████▋    | 564/1000 [35:51<27:50,  3.83s/it]"
     ]
    },
    {
     "name": "stdout",
     "output_type": "stream",
     "text": [
      "Test MSE: 162.6830, Test MAE: 5.9648, Test R2: 0.8858\n",
      "Epoch 565/1000\n",
      "Train MSE: 196.1553, Train MAE: 8.0571\n"
     ]
    },
    {
     "name": "stderr",
     "output_type": "stream",
     "text": [
      " 56%|█████▋    | 565/1000 [35:55<27:41,  3.82s/it]"
     ]
    },
    {
     "name": "stdout",
     "output_type": "stream",
     "text": [
      "Test MSE: 167.6736, Test MAE: 6.0665, Test R2: 0.8869\n",
      "Epoch 566/1000\n",
      "Train MSE: 198.5061, Train MAE: 8.0916\n"
     ]
    },
    {
     "name": "stderr",
     "output_type": "stream",
     "text": [
      " 57%|█████▋    | 566/1000 [35:59<27:38,  3.82s/it]"
     ]
    },
    {
     "name": "stdout",
     "output_type": "stream",
     "text": [
      "Test MSE: 134.8384, Test MAE: 5.4727, Test R2: 0.9000\n",
      "Epoch 567/1000\n",
      "Train MSE: 196.6056, Train MAE: 8.0606\n"
     ]
    },
    {
     "name": "stderr",
     "output_type": "stream",
     "text": [
      " 57%|█████▋    | 567/1000 [36:03<27:29,  3.81s/it]"
     ]
    },
    {
     "name": "stdout",
     "output_type": "stream",
     "text": [
      "Test MSE: 125.7337, Test MAE: 5.5299, Test R2: 0.9053\n",
      "Epoch 568/1000\n",
      "Train MSE: 198.7767, Train MAE: 8.0789\n"
     ]
    },
    {
     "name": "stderr",
     "output_type": "stream",
     "text": [
      " 57%|█████▋    | 568/1000 [36:06<27:13,  3.78s/it]"
     ]
    },
    {
     "name": "stdout",
     "output_type": "stream",
     "text": [
      "Test MSE: 162.4171, Test MAE: 5.8836, Test R2: 0.8882\n",
      "Epoch 569/1000\n",
      "Train MSE: 199.6048, Train MAE: 8.0942\n"
     ]
    },
    {
     "name": "stderr",
     "output_type": "stream",
     "text": [
      " 57%|█████▋    | 569/1000 [36:10<26:51,  3.74s/it]"
     ]
    },
    {
     "name": "stdout",
     "output_type": "stream",
     "text": [
      "Test MSE: 162.5783, Test MAE: 5.8215, Test R2: 0.8890\n",
      "Epoch 570/1000\n",
      "Train MSE: 199.1297, Train MAE: 8.1802\n"
     ]
    },
    {
     "name": "stderr",
     "output_type": "stream",
     "text": [
      " 57%|█████▋    | 570/1000 [36:14<26:42,  3.73s/it]"
     ]
    },
    {
     "name": "stdout",
     "output_type": "stream",
     "text": [
      "Test MSE: 150.8595, Test MAE: 5.5951, Test R2: 0.8932\n",
      "Epoch 571/1000\n",
      "Train MSE: 191.7785, Train MAE: 7.9635\n"
     ]
    },
    {
     "name": "stderr",
     "output_type": "stream",
     "text": [
      " 57%|█████▋    | 571/1000 [36:17<26:33,  3.71s/it]"
     ]
    },
    {
     "name": "stdout",
     "output_type": "stream",
     "text": [
      "Test MSE: 151.8235, Test MAE: 5.7376, Test R2: 0.8941\n",
      "Epoch 572/1000\n",
      "Train MSE: 191.0578, Train MAE: 7.9794\n"
     ]
    },
    {
     "name": "stderr",
     "output_type": "stream",
     "text": [
      " 57%|█████▋    | 572/1000 [36:21<26:17,  3.69s/it]"
     ]
    },
    {
     "name": "stdout",
     "output_type": "stream",
     "text": [
      "Test MSE: 178.3444, Test MAE: 6.1104, Test R2: 0.8825\n",
      "Epoch 573/1000\n",
      "Train MSE: 195.1599, Train MAE: 8.0724\n"
     ]
    },
    {
     "name": "stderr",
     "output_type": "stream",
     "text": [
      " 57%|█████▋    | 573/1000 [36:25<26:19,  3.70s/it]"
     ]
    },
    {
     "name": "stdout",
     "output_type": "stream",
     "text": [
      "Test MSE: 168.3161, Test MAE: 6.1479, Test R2: 0.8750\n",
      "Epoch 574/1000\n",
      "Train MSE: 189.3969, Train MAE: 7.9367\n"
     ]
    },
    {
     "name": "stderr",
     "output_type": "stream",
     "text": [
      " 57%|█████▋    | 574/1000 [36:28<26:08,  3.68s/it]"
     ]
    },
    {
     "name": "stdout",
     "output_type": "stream",
     "text": [
      "Test MSE: 147.2945, Test MAE: 5.8707, Test R2: 0.8986\n",
      "Epoch 575/1000\n",
      "Train MSE: 196.5814, Train MAE: 8.1150\n"
     ]
    },
    {
     "name": "stderr",
     "output_type": "stream",
     "text": [
      " 57%|█████▊    | 575/1000 [36:32<25:52,  3.65s/it]"
     ]
    },
    {
     "name": "stdout",
     "output_type": "stream",
     "text": [
      "Test MSE: 120.9352, Test MAE: 5.3056, Test R2: 0.9066\n",
      "Epoch 576/1000\n",
      "Train MSE: 195.1417, Train MAE: 8.0829\n"
     ]
    },
    {
     "name": "stderr",
     "output_type": "stream",
     "text": [
      " 58%|█████▊    | 576/1000 [36:36<25:40,  3.63s/it]"
     ]
    },
    {
     "name": "stdout",
     "output_type": "stream",
     "text": [
      "Test MSE: 187.3494, Test MAE: 6.4113, Test R2: 0.8699\n",
      "Epoch 577/1000\n",
      "Train MSE: 198.6665, Train MAE: 8.1039\n"
     ]
    },
    {
     "name": "stderr",
     "output_type": "stream",
     "text": [
      " 58%|█████▊    | 577/1000 [36:39<25:37,  3.63s/it]"
     ]
    },
    {
     "name": "stdout",
     "output_type": "stream",
     "text": [
      "Test MSE: 174.4241, Test MAE: 5.9593, Test R2: 0.8784\n",
      "Epoch 578/1000\n",
      "Train MSE: 191.8054, Train MAE: 8.0390\n"
     ]
    },
    {
     "name": "stderr",
     "output_type": "stream",
     "text": [
      " 58%|█████▊    | 578/1000 [36:43<25:25,  3.61s/it]"
     ]
    },
    {
     "name": "stdout",
     "output_type": "stream",
     "text": [
      "Test MSE: 150.9686, Test MAE: 5.8749, Test R2: 0.8924\n",
      "Epoch 579/1000\n",
      "Train MSE: 197.0141, Train MAE: 8.1225\n"
     ]
    },
    {
     "name": "stderr",
     "output_type": "stream",
     "text": [
      " 58%|█████▊    | 579/1000 [36:46<25:19,  3.61s/it]"
     ]
    },
    {
     "name": "stdout",
     "output_type": "stream",
     "text": [
      "Test MSE: 164.6429, Test MAE: 6.0442, Test R2: 0.8838\n",
      "Epoch 580/1000\n",
      "Train MSE: 203.1639, Train MAE: 8.1753\n"
     ]
    },
    {
     "name": "stderr",
     "output_type": "stream",
     "text": [
      " 58%|█████▊    | 580/1000 [36:50<25:18,  3.61s/it]"
     ]
    },
    {
     "name": "stdout",
     "output_type": "stream",
     "text": [
      "Test MSE: 159.6532, Test MAE: 6.0636, Test R2: 0.8848\n",
      "Epoch 581/1000\n",
      "Train MSE: 189.8519, Train MAE: 7.9970\n"
     ]
    },
    {
     "name": "stderr",
     "output_type": "stream",
     "text": [
      " 58%|█████▊    | 581/1000 [36:54<25:19,  3.63s/it]"
     ]
    },
    {
     "name": "stdout",
     "output_type": "stream",
     "text": [
      "Test MSE: 175.4995, Test MAE: 6.0949, Test R2: 0.8818\n",
      "Epoch 582/1000\n",
      "Train MSE: 189.0452, Train MAE: 7.9994\n"
     ]
    },
    {
     "name": "stderr",
     "output_type": "stream",
     "text": [
      " 58%|█████▊    | 582/1000 [36:57<25:13,  3.62s/it]"
     ]
    },
    {
     "name": "stdout",
     "output_type": "stream",
     "text": [
      "Test MSE: 153.7089, Test MAE: 5.9860, Test R2: 0.8899\n",
      "Epoch 583/1000\n",
      "Train MSE: 194.5444, Train MAE: 8.0676\n"
     ]
    },
    {
     "name": "stderr",
     "output_type": "stream",
     "text": [
      " 58%|█████▊    | 583/1000 [37:01<25:05,  3.61s/it]"
     ]
    },
    {
     "name": "stdout",
     "output_type": "stream",
     "text": [
      "Test MSE: 160.3685, Test MAE: 6.0446, Test R2: 0.8861\n",
      "Epoch 584/1000\n",
      "Train MSE: 196.8213, Train MAE: 8.0601\n"
     ]
    },
    {
     "name": "stderr",
     "output_type": "stream",
     "text": [
      " 58%|█████▊    | 584/1000 [37:05<25:05,  3.62s/it]"
     ]
    },
    {
     "name": "stdout",
     "output_type": "stream",
     "text": [
      "Test MSE: 153.5728, Test MAE: 5.8175, Test R2: 0.8907\n",
      "Epoch 585/1000\n",
      "Train MSE: 195.3822, Train MAE: 8.0734\n"
     ]
    },
    {
     "name": "stderr",
     "output_type": "stream",
     "text": [
      " 58%|█████▊    | 585/1000 [37:08<25:11,  3.64s/it]"
     ]
    },
    {
     "name": "stdout",
     "output_type": "stream",
     "text": [
      "Test MSE: 180.1119, Test MAE: 6.2575, Test R2: 0.8767\n",
      "Epoch 586/1000\n",
      "Train MSE: 196.5855, Train MAE: 8.0615\n"
     ]
    },
    {
     "name": "stderr",
     "output_type": "stream",
     "text": [
      " 59%|█████▊    | 586/1000 [37:12<25:06,  3.64s/it]"
     ]
    },
    {
     "name": "stdout",
     "output_type": "stream",
     "text": [
      "Test MSE: 167.3561, Test MAE: 6.1555, Test R2: 0.8853\n",
      "Epoch 587/1000\n",
      "Train MSE: 199.3500, Train MAE: 8.1028\n"
     ]
    },
    {
     "name": "stderr",
     "output_type": "stream",
     "text": [
      " 59%|█████▊    | 587/1000 [37:15<24:58,  3.63s/it]"
     ]
    },
    {
     "name": "stdout",
     "output_type": "stream",
     "text": [
      "Test MSE: 155.0864, Test MAE: 5.9818, Test R2: 0.8957\n",
      "Epoch 588/1000\n",
      "Train MSE: 194.8526, Train MAE: 8.0551\n"
     ]
    },
    {
     "name": "stderr",
     "output_type": "stream",
     "text": [
      " 59%|█████▉    | 588/1000 [37:19<24:52,  3.62s/it]"
     ]
    },
    {
     "name": "stdout",
     "output_type": "stream",
     "text": [
      "Test MSE: 196.2880, Test MAE: 6.5238, Test R2: 0.8688\n",
      "Epoch 589/1000\n",
      "Train MSE: 196.8271, Train MAE: 8.0427\n"
     ]
    },
    {
     "name": "stderr",
     "output_type": "stream",
     "text": [
      " 59%|█████▉    | 589/1000 [37:23<24:51,  3.63s/it]"
     ]
    },
    {
     "name": "stdout",
     "output_type": "stream",
     "text": [
      "Test MSE: 154.7510, Test MAE: 5.8372, Test R2: 0.8963\n",
      "Epoch 590/1000\n",
      "Train MSE: 196.8912, Train MAE: 8.1479\n"
     ]
    },
    {
     "name": "stderr",
     "output_type": "stream",
     "text": [
      " 59%|█████▉    | 590/1000 [37:26<24:41,  3.61s/it]"
     ]
    },
    {
     "name": "stdout",
     "output_type": "stream",
     "text": [
      "Test MSE: 172.2137, Test MAE: 6.2544, Test R2: 0.8800\n",
      "Epoch 591/1000\n",
      "Train MSE: 189.9918, Train MAE: 8.0397\n"
     ]
    },
    {
     "name": "stderr",
     "output_type": "stream",
     "text": [
      " 59%|█████▉    | 591/1000 [37:30<24:37,  3.61s/it]"
     ]
    },
    {
     "name": "stdout",
     "output_type": "stream",
     "text": [
      "Test MSE: 171.7914, Test MAE: 6.1559, Test R2: 0.8861\n",
      "Epoch 592/1000\n",
      "Train MSE: 192.2896, Train MAE: 7.9965\n"
     ]
    },
    {
     "name": "stderr",
     "output_type": "stream",
     "text": [
      " 59%|█████▉    | 592/1000 [37:33<24:34,  3.61s/it]"
     ]
    },
    {
     "name": "stdout",
     "output_type": "stream",
     "text": [
      "Test MSE: 151.6558, Test MAE: 6.1207, Test R2: 0.8896\n",
      "Epoch 593/1000\n",
      "Train MSE: 195.6045, Train MAE: 8.1103\n"
     ]
    },
    {
     "name": "stderr",
     "output_type": "stream",
     "text": [
      " 59%|█████▉    | 593/1000 [37:37<24:37,  3.63s/it]"
     ]
    },
    {
     "name": "stdout",
     "output_type": "stream",
     "text": [
      "Test MSE: 167.0473, Test MAE: 5.9625, Test R2: 0.8799\n",
      "Epoch 594/1000\n",
      "Train MSE: 193.3406, Train MAE: 8.0283\n"
     ]
    },
    {
     "name": "stderr",
     "output_type": "stream",
     "text": [
      " 59%|█████▉    | 594/1000 [37:41<24:31,  3.62s/it]"
     ]
    },
    {
     "name": "stdout",
     "output_type": "stream",
     "text": [
      "Test MSE: 190.6398, Test MAE: 6.4539, Test R2: 0.8722\n",
      "Epoch 595/1000\n",
      "Train MSE: 195.6214, Train MAE: 8.0773\n"
     ]
    },
    {
     "name": "stderr",
     "output_type": "stream",
     "text": [
      " 60%|█████▉    | 595/1000 [37:44<24:26,  3.62s/it]"
     ]
    },
    {
     "name": "stdout",
     "output_type": "stream",
     "text": [
      "Test MSE: 160.4185, Test MAE: 6.2428, Test R2: 0.8856\n",
      "Epoch 596/1000\n",
      "Train MSE: 196.4671, Train MAE: 8.0340\n"
     ]
    },
    {
     "name": "stderr",
     "output_type": "stream",
     "text": [
      " 60%|█████▉    | 596/1000 [37:48<24:25,  3.63s/it]"
     ]
    },
    {
     "name": "stdout",
     "output_type": "stream",
     "text": [
      "Test MSE: 168.7035, Test MAE: 6.0127, Test R2: 0.8842\n",
      "Epoch 597/1000\n",
      "Train MSE: 188.1391, Train MAE: 7.9447\n"
     ]
    },
    {
     "name": "stderr",
     "output_type": "stream",
     "text": [
      " 60%|█████▉    | 597/1000 [37:52<24:29,  3.65s/it]"
     ]
    },
    {
     "name": "stdout",
     "output_type": "stream",
     "text": [
      "Test MSE: 159.8169, Test MAE: 6.1512, Test R2: 0.8854\n",
      "Epoch 598/1000\n",
      "Train MSE: 199.9211, Train MAE: 8.1475\n"
     ]
    },
    {
     "name": "stderr",
     "output_type": "stream",
     "text": [
      " 60%|█████▉    | 598/1000 [37:55<24:24,  3.64s/it]"
     ]
    },
    {
     "name": "stdout",
     "output_type": "stream",
     "text": [
      "Test MSE: 140.2955, Test MAE: 5.6161, Test R2: 0.8979\n",
      "Epoch 599/1000\n",
      "Train MSE: 193.6059, Train MAE: 8.0065\n"
     ]
    },
    {
     "name": "stderr",
     "output_type": "stream",
     "text": [
      " 60%|█████▉    | 599/1000 [37:59<24:23,  3.65s/it]"
     ]
    },
    {
     "name": "stdout",
     "output_type": "stream",
     "text": [
      "Test MSE: 151.5271, Test MAE: 5.8732, Test R2: 0.8948\n",
      "Epoch 600/1000\n",
      "Train MSE: 195.1031, Train MAE: 8.0500\n"
     ]
    },
    {
     "name": "stderr",
     "output_type": "stream",
     "text": [
      " 60%|██████    | 600/1000 [38:03<24:12,  3.63s/it]"
     ]
    },
    {
     "name": "stdout",
     "output_type": "stream",
     "text": [
      "Test MSE: 149.8698, Test MAE: 5.8410, Test R2: 0.8930\n",
      "Epoch 601/1000\n",
      "Train MSE: 192.9392, Train MAE: 8.0672\n"
     ]
    },
    {
     "name": "stderr",
     "output_type": "stream",
     "text": [
      " 60%|██████    | 601/1000 [38:06<24:04,  3.62s/it]"
     ]
    },
    {
     "name": "stdout",
     "output_type": "stream",
     "text": [
      "Test MSE: 130.7102, Test MAE: 5.5089, Test R2: 0.8996\n",
      "Epoch 602/1000\n",
      "Train MSE: 200.0460, Train MAE: 8.1518\n"
     ]
    },
    {
     "name": "stderr",
     "output_type": "stream",
     "text": [
      " 60%|██████    | 602/1000 [38:10<24:01,  3.62s/it]"
     ]
    },
    {
     "name": "stdout",
     "output_type": "stream",
     "text": [
      "Test MSE: 179.9235, Test MAE: 6.2463, Test R2: 0.8771\n",
      "Epoch 603/1000\n",
      "Train MSE: 197.9248, Train MAE: 8.0770\n"
     ]
    },
    {
     "name": "stderr",
     "output_type": "stream",
     "text": [
      " 60%|██████    | 603/1000 [38:13<23:54,  3.61s/it]"
     ]
    },
    {
     "name": "stdout",
     "output_type": "stream",
     "text": [
      "Test MSE: 146.1758, Test MAE: 5.7655, Test R2: 0.8980\n",
      "Epoch 604/1000\n",
      "Train MSE: 192.0848, Train MAE: 8.0339\n"
     ]
    },
    {
     "name": "stderr",
     "output_type": "stream",
     "text": [
      " 60%|██████    | 604/1000 [38:17<23:48,  3.61s/it]"
     ]
    },
    {
     "name": "stdout",
     "output_type": "stream",
     "text": [
      "Test MSE: 178.4311, Test MAE: 6.4733, Test R2: 0.8768\n",
      "Epoch 605/1000\n",
      "Train MSE: 191.0625, Train MAE: 7.9756\n"
     ]
    },
    {
     "name": "stderr",
     "output_type": "stream",
     "text": [
      " 60%|██████    | 605/1000 [38:21<23:43,  3.60s/it]"
     ]
    },
    {
     "name": "stdout",
     "output_type": "stream",
     "text": [
      "Test MSE: 142.3153, Test MAE: 5.6693, Test R2: 0.8962\n",
      "Epoch 606/1000\n",
      "Train MSE: 188.4700, Train MAE: 7.9736\n"
     ]
    },
    {
     "name": "stderr",
     "output_type": "stream",
     "text": [
      " 61%|██████    | 606/1000 [38:24<23:57,  3.65s/it]"
     ]
    },
    {
     "name": "stdout",
     "output_type": "stream",
     "text": [
      "Test MSE: 160.3713, Test MAE: 6.0192, Test R2: 0.8914\n",
      "Epoch 607/1000\n",
      "Train MSE: 194.3753, Train MAE: 8.0224\n"
     ]
    },
    {
     "name": "stderr",
     "output_type": "stream",
     "text": [
      " 61%|██████    | 607/1000 [38:28<24:08,  3.68s/it]"
     ]
    },
    {
     "name": "stdout",
     "output_type": "stream",
     "text": [
      "Test MSE: 132.1557, Test MAE: 5.5364, Test R2: 0.9048\n",
      "Epoch 608/1000\n",
      "Train MSE: 189.3061, Train MAE: 7.9810\n"
     ]
    },
    {
     "name": "stderr",
     "output_type": "stream",
     "text": [
      " 61%|██████    | 608/1000 [38:32<24:05,  3.69s/it]"
     ]
    },
    {
     "name": "stdout",
     "output_type": "stream",
     "text": [
      "Test MSE: 143.1244, Test MAE: 5.5647, Test R2: 0.8983\n",
      "Epoch 609/1000\n",
      "Train MSE: 196.7097, Train MAE: 8.0675\n"
     ]
    },
    {
     "name": "stderr",
     "output_type": "stream",
     "text": [
      " 61%|██████    | 609/1000 [38:36<24:07,  3.70s/it]"
     ]
    },
    {
     "name": "stdout",
     "output_type": "stream",
     "text": [
      "Test MSE: 142.1398, Test MAE: 5.7941, Test R2: 0.8988\n",
      "Epoch 610/1000\n",
      "Train MSE: 196.0805, Train MAE: 8.0328\n"
     ]
    },
    {
     "name": "stderr",
     "output_type": "stream",
     "text": [
      " 61%|██████    | 610/1000 [38:39<24:19,  3.74s/it]"
     ]
    },
    {
     "name": "stdout",
     "output_type": "stream",
     "text": [
      "Test MSE: 121.2278, Test MAE: 5.4353, Test R2: 0.9091\n",
      "Epoch 611/1000\n",
      "Train MSE: 199.8955, Train MAE: 8.0561\n"
     ]
    },
    {
     "name": "stderr",
     "output_type": "stream",
     "text": [
      " 61%|██████    | 611/1000 [38:43<24:24,  3.77s/it]"
     ]
    },
    {
     "name": "stdout",
     "output_type": "stream",
     "text": [
      "Test MSE: 169.4898, Test MAE: 6.1513, Test R2: 0.8811\n",
      "Epoch 612/1000\n",
      "Train MSE: 195.8074, Train MAE: 8.0437\n"
     ]
    },
    {
     "name": "stderr",
     "output_type": "stream",
     "text": [
      " 61%|██████    | 612/1000 [38:47<24:23,  3.77s/it]"
     ]
    },
    {
     "name": "stdout",
     "output_type": "stream",
     "text": [
      "Test MSE: 179.4325, Test MAE: 6.1369, Test R2: 0.8772\n",
      "Epoch 613/1000\n",
      "Train MSE: 192.6675, Train MAE: 8.0413\n"
     ]
    },
    {
     "name": "stderr",
     "output_type": "stream",
     "text": [
      " 61%|██████▏   | 613/1000 [38:51<24:21,  3.78s/it]"
     ]
    },
    {
     "name": "stdout",
     "output_type": "stream",
     "text": [
      "Test MSE: 177.1190, Test MAE: 6.4570, Test R2: 0.8779\n",
      "Epoch 614/1000\n",
      "Train MSE: 192.7197, Train MAE: 8.0518\n"
     ]
    },
    {
     "name": "stderr",
     "output_type": "stream",
     "text": [
      " 61%|██████▏   | 614/1000 [38:55<24:22,  3.79s/it]"
     ]
    },
    {
     "name": "stdout",
     "output_type": "stream",
     "text": [
      "Test MSE: 183.7658, Test MAE: 6.4049, Test R2: 0.8749\n",
      "Epoch 615/1000\n",
      "Train MSE: 193.4406, Train MAE: 8.0046\n"
     ]
    },
    {
     "name": "stderr",
     "output_type": "stream",
     "text": [
      " 62%|██████▏   | 615/1000 [38:58<24:15,  3.78s/it]"
     ]
    },
    {
     "name": "stdout",
     "output_type": "stream",
     "text": [
      "Test MSE: 142.5832, Test MAE: 5.6594, Test R2: 0.8992\n",
      "Epoch 616/1000\n",
      "Train MSE: 200.5524, Train MAE: 8.0979\n"
     ]
    },
    {
     "name": "stderr",
     "output_type": "stream",
     "text": [
      " 62%|██████▏   | 616/1000 [39:02<23:50,  3.73s/it]"
     ]
    },
    {
     "name": "stdout",
     "output_type": "stream",
     "text": [
      "Test MSE: 149.2636, Test MAE: 5.7817, Test R2: 0.9001\n",
      "Epoch 617/1000\n",
      "Train MSE: 188.6312, Train MAE: 7.9562\n"
     ]
    },
    {
     "name": "stderr",
     "output_type": "stream",
     "text": [
      " 62%|██████▏   | 617/1000 [39:06<23:32,  3.69s/it]"
     ]
    },
    {
     "name": "stdout",
     "output_type": "stream",
     "text": [
      "Test MSE: 133.4957, Test MAE: 5.4957, Test R2: 0.9019\n",
      "Epoch 618/1000\n",
      "Train MSE: 186.3792, Train MAE: 7.8939\n"
     ]
    },
    {
     "name": "stderr",
     "output_type": "stream",
     "text": [
      " 62%|██████▏   | 618/1000 [39:09<23:25,  3.68s/it]"
     ]
    },
    {
     "name": "stdout",
     "output_type": "stream",
     "text": [
      "Test MSE: 217.2334, Test MAE: 6.5511, Test R2: 0.8543\n",
      "Epoch 619/1000\n",
      "Train MSE: 187.4232, Train MAE: 7.9871\n"
     ]
    },
    {
     "name": "stderr",
     "output_type": "stream",
     "text": [
      " 62%|██████▏   | 619/1000 [39:13<23:10,  3.65s/it]"
     ]
    },
    {
     "name": "stdout",
     "output_type": "stream",
     "text": [
      "Test MSE: 137.3653, Test MAE: 5.8392, Test R2: 0.8965\n",
      "Epoch 620/1000\n",
      "Train MSE: 192.9831, Train MAE: 8.0416\n"
     ]
    },
    {
     "name": "stderr",
     "output_type": "stream",
     "text": [
      " 62%|██████▏   | 620/1000 [39:17<23:20,  3.69s/it]"
     ]
    },
    {
     "name": "stdout",
     "output_type": "stream",
     "text": [
      "Test MSE: 145.7948, Test MAE: 5.6172, Test R2: 0.8942\n",
      "Epoch 621/1000\n",
      "Train MSE: 191.0372, Train MAE: 7.9981\n"
     ]
    },
    {
     "name": "stderr",
     "output_type": "stream",
     "text": [
      " 62%|██████▏   | 621/1000 [39:20<23:24,  3.71s/it]"
     ]
    },
    {
     "name": "stdout",
     "output_type": "stream",
     "text": [
      "Test MSE: 144.6655, Test MAE: 5.5431, Test R2: 0.9021\n",
      "Epoch 622/1000\n",
      "Train MSE: 191.4315, Train MAE: 8.0043\n"
     ]
    },
    {
     "name": "stderr",
     "output_type": "stream",
     "text": [
      " 62%|██████▏   | 622/1000 [39:24<23:40,  3.76s/it]"
     ]
    },
    {
     "name": "stdout",
     "output_type": "stream",
     "text": [
      "Test MSE: 167.6483, Test MAE: 6.2189, Test R2: 0.8869\n",
      "Epoch 623/1000\n",
      "Train MSE: 194.4019, Train MAE: 8.0422\n"
     ]
    },
    {
     "name": "stderr",
     "output_type": "stream",
     "text": [
      " 62%|██████▏   | 623/1000 [39:28<23:45,  3.78s/it]"
     ]
    },
    {
     "name": "stdout",
     "output_type": "stream",
     "text": [
      "Test MSE: 163.0083, Test MAE: 6.0583, Test R2: 0.8894\n",
      "Epoch 624/1000\n",
      "Train MSE: 192.8716, Train MAE: 8.0073\n"
     ]
    },
    {
     "name": "stderr",
     "output_type": "stream",
     "text": [
      " 62%|██████▏   | 624/1000 [39:32<23:42,  3.78s/it]"
     ]
    },
    {
     "name": "stdout",
     "output_type": "stream",
     "text": [
      "Test MSE: 172.6829, Test MAE: 6.0620, Test R2: 0.8780\n",
      "Epoch 625/1000\n",
      "Train MSE: 196.5671, Train MAE: 8.0755\n"
     ]
    },
    {
     "name": "stderr",
     "output_type": "stream",
     "text": [
      " 62%|██████▎   | 625/1000 [39:36<23:37,  3.78s/it]"
     ]
    },
    {
     "name": "stdout",
     "output_type": "stream",
     "text": [
      "Test MSE: 162.2885, Test MAE: 5.7811, Test R2: 0.8866\n",
      "Epoch 626/1000\n",
      "Train MSE: 195.0903, Train MAE: 8.0632\n"
     ]
    },
    {
     "name": "stderr",
     "output_type": "stream",
     "text": [
      " 63%|██████▎   | 626/1000 [39:39<23:34,  3.78s/it]"
     ]
    },
    {
     "name": "stdout",
     "output_type": "stream",
     "text": [
      "Test MSE: 186.1536, Test MAE: 6.3006, Test R2: 0.8692\n",
      "Epoch 627/1000\n",
      "Train MSE: 189.5621, Train MAE: 7.9516\n"
     ]
    },
    {
     "name": "stderr",
     "output_type": "stream",
     "text": [
      " 63%|██████▎   | 627/1000 [39:43<23:26,  3.77s/it]"
     ]
    },
    {
     "name": "stdout",
     "output_type": "stream",
     "text": [
      "Test MSE: 142.2397, Test MAE: 5.8468, Test R2: 0.8959\n",
      "Epoch 628/1000\n",
      "Train MSE: 188.8494, Train MAE: 7.9696\n"
     ]
    },
    {
     "name": "stderr",
     "output_type": "stream",
     "text": [
      " 63%|██████▎   | 628/1000 [39:47<23:25,  3.78s/it]"
     ]
    },
    {
     "name": "stdout",
     "output_type": "stream",
     "text": [
      "Test MSE: 152.2924, Test MAE: 6.0456, Test R2: 0.8875\n",
      "Epoch 629/1000\n",
      "Train MSE: 193.7168, Train MAE: 8.0736\n"
     ]
    },
    {
     "name": "stderr",
     "output_type": "stream",
     "text": [
      " 63%|██████▎   | 629/1000 [39:51<23:26,  3.79s/it]"
     ]
    },
    {
     "name": "stdout",
     "output_type": "stream",
     "text": [
      "Test MSE: 166.4326, Test MAE: 6.1272, Test R2: 0.8854\n",
      "Epoch 630/1000\n",
      "Train MSE: 195.4357, Train MAE: 8.0674\n"
     ]
    },
    {
     "name": "stderr",
     "output_type": "stream",
     "text": [
      " 63%|██████▎   | 630/1000 [39:55<23:24,  3.79s/it]"
     ]
    },
    {
     "name": "stdout",
     "output_type": "stream",
     "text": [
      "Test MSE: 143.7210, Test MAE: 6.0169, Test R2: 0.8977\n",
      "Epoch 631/1000\n",
      "Train MSE: 194.3783, Train MAE: 8.0441\n"
     ]
    },
    {
     "name": "stderr",
     "output_type": "stream",
     "text": [
      " 63%|██████▎   | 631/1000 [39:58<23:30,  3.82s/it]"
     ]
    },
    {
     "name": "stdout",
     "output_type": "stream",
     "text": [
      "Test MSE: 177.5977, Test MAE: 6.3500, Test R2: 0.8756\n",
      "Epoch 632/1000\n",
      "Train MSE: 196.0149, Train MAE: 8.0778\n"
     ]
    },
    {
     "name": "stderr",
     "output_type": "stream",
     "text": [
      " 63%|██████▎   | 632/1000 [40:02<23:11,  3.78s/it]"
     ]
    },
    {
     "name": "stdout",
     "output_type": "stream",
     "text": [
      "Test MSE: 175.5174, Test MAE: 6.1866, Test R2: 0.8769\n",
      "Epoch 633/1000\n",
      "Train MSE: 194.1962, Train MAE: 8.0160\n"
     ]
    },
    {
     "name": "stderr",
     "output_type": "stream",
     "text": [
      " 63%|██████▎   | 633/1000 [40:06<23:14,  3.80s/it]"
     ]
    },
    {
     "name": "stdout",
     "output_type": "stream",
     "text": [
      "Test MSE: 169.3632, Test MAE: 5.9054, Test R2: 0.8857\n"
     ]
    }
   ],
   "source": [
    "from train import train_model\n",
    "from model import GCN \n",
    "\n",
    "# make accelerator object\n",
    "accelerator = accelerate.Accelerator()\n",
    "model = GCN(3, 32, 128, 2, 2, 0.3)\n",
    "name = \"HCXYGCN1\"\n",
    "epochs = 1000\n",
    "lr = 0.001\n",
    "write_dir = \"../tensorboard/\"+name\n",
    "train_model(model, name, train_loader, test_loader, epochs, accelerator, write_dir, lr=lr)"
   ]
  },
  {
   "cell_type": "code",
   "execution_count": null,
   "metadata": {},
   "outputs": [],
   "source": [
    "accelerator = accelerate.Accelerator()\n",
    "model = GCN(3, 64, 256, 2, 2, 0.3)\n",
    "name = \"HCXYGCN2\"\n",
    "epochs = 1000\n",
    "lr = 0.001\n",
    "write_dir = \"../tensorboard/\"+name\n",
    "train_model(model, name, train_loader, test_loader, epochs, accelerator, write_dir, lr=lr)"
   ]
  },
  {
   "cell_type": "code",
   "execution_count": null,
   "metadata": {},
   "outputs": [],
   "source": [
    "# load SLY \n",
    "\n",
    "train_loader_sly, _ = load_dataset(\"SLYtrain\", k =5, batch_size = 32, train_ratio=1.0, test_ratio=0.0)\n",
    "test_loader_sly, _ = load_dataset(\"SLYtest\", k =5, batch_size = 32, train_ratio=1.0, test_ratio=0.0)\n",
    "\n"
   ]
  },
  {
   "cell_type": "code",
   "execution_count": null,
   "metadata": {},
   "outputs": [],
   "source": [
    "accelerator = accelerate.Accelerator()\n",
    "model = GCN(3, 32, 128, 2, 2, 0.3)\n",
    "name = \"SLYGCN1\"\n",
    "epochs = 1000\n",
    "lr = 0.001\n",
    "write_dir = \"../tensorboard/\"+name\n",
    "train_model(model, name, train_loader_sly, test_loader_sly, epochs, accelerator, write_dir, lr=lr)"
   ]
  },
  {
   "cell_type": "code",
   "execution_count": null,
   "metadata": {},
   "outputs": [],
   "source": [
    "accelerator = accelerate.Accelerator()\n",
    "model = GCN(3, 64, 256, 2, 2, 0.3)\n",
    "name = \"SLYGCN2\"\n",
    "epochs = 1000\n",
    "lr = 0.001\n",
    "write_dir = \"../tensorboard/\"+name\n",
    "train_model(model, name, train_loader_sly, test_loader_sly, epochs, accelerator, write_dir, lr=lr)"
   ]
  },
  {
   "cell_type": "code",
   "execution_count": null,
   "metadata": {},
   "outputs": [],
   "source": [
    "# load CETC331\n",
    "\n",
    "train_loader_cetc, _ = load_dataset(\"CETC331train\", k =5, batch_size = 32, train_ratio=1.0, test_ratio=0.0)\n",
    "test_loader_cetc, _ = load_dataset(\"CETC331test\", k =5, batch_size = 32, train_ratio=1.0, test_ratio=0.0)\n"
   ]
  },
  {
   "cell_type": "code",
   "execution_count": null,
   "metadata": {},
   "outputs": [],
   "source": [
    "accelerator = accelerate.Accelerator()\n",
    "model = GCN(3, 32, 128, 2, 2, 0.3)\n",
    "name = \"CETCGCN1\"\n",
    "epochs = 1000\n",
    "lr = 0.001\n",
    "write_dir = \"../tensorboard/\"+name\n",
    "train_model(model, name, train_loader_cetc, test_loader_cetc, epochs, accelerator, write_dir, lr=lr)"
   ]
  },
  {
   "cell_type": "code",
   "execution_count": null,
   "metadata": {},
   "outputs": [],
   "source": [
    "accelerator = accelerate.Accelerator()\n",
    "model = GCN(3, 64, 256, 2, 2, 0.3)\n",
    "name = \"CETCGCN2\"\n",
    "epochs = 1000\n",
    "lr = 0.001\n",
    "write_dir = \"../tensorboard/\"+name\n",
    "train_model(model, name, train_loader_cetc, test_loader_cetc, epochs, accelerator, write_dir, lr=lr)"
   ]
  },
  {
   "cell_type": "code",
   "execution_count": null,
   "metadata": {},
   "outputs": [],
   "source": []
  }
 ],
 "metadata": {
  "kernelspec": {
   "display_name": "GNN",
   "language": "python",
   "name": "python3"
  },
  "language_info": {
   "codemirror_mode": {
    "name": "ipython",
    "version": 3
   },
   "file_extension": ".py",
   "mimetype": "text/x-python",
   "name": "python",
   "nbconvert_exporter": "python",
   "pygments_lexer": "ipython3",
   "version": "3.9.17"
  },
  "orig_nbformat": 4
 },
 "nbformat": 4,
 "nbformat_minor": 2
}
